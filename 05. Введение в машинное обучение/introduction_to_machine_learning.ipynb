{
 "cells": [
  {
   "cell_type": "markdown",
   "metadata": {},
   "source": [
    "# Рекомендация тарифов"
   ]
  },
  {
   "cell_type": "markdown",
   "metadata": {},
   "source": [
    "Имеются данные о поведении клиентов, которые уже перешли на один из двух тарифов. Нужно построить модель для задачи классификации, которая выберет подходящий тариф пользователю.\n",
    "Чтобы сдать проект успешно, нужно довести значение *accuracy* на тестовой выборке до 0,75 и более. "
   ]
  },
  {
   "cell_type": "markdown",
   "metadata": {},
   "source": [
    "## Изучение данных"
   ]
  },
  {
   "cell_type": "markdown",
   "metadata": {},
   "source": [
    "### Общая информация"
   ]
  },
  {
   "cell_type": "markdown",
   "metadata": {},
   "source": [
    "***Импортируем необходимые библиотеки и загрузим файл.***"
   ]
  },
  {
   "cell_type": "code",
   "execution_count": 1,
   "metadata": {},
   "outputs": [],
   "source": [
    "import pandas as pd\n",
    "from sklearn.model_selection import train_test_split\n",
    "from sklearn.tree import DecisionTreeClassifier\n",
    "from sklearn.metrics import accuracy_score\n",
    "from sklearn.ensemble import RandomForestClassifier\n",
    "from sklearn.linear_model import LogisticRegression\n",
    "from sklearn.dummy import DummyClassifier\n",
    "from sklearn.metrics import confusion_matrix\n",
    "import numpy as np\n",
    "\n",
    "df = pd.read_csv('/datasets/users_behavior.csv')"
   ]
  },
  {
   "cell_type": "markdown",
   "metadata": {},
   "source": [
    "***Рассмотрим датафрейм подробнее***"
   ]
  },
  {
   "cell_type": "code",
   "execution_count": 2,
   "metadata": {},
   "outputs": [
    {
     "data": {
      "text/html": [
       "<div>\n",
       "<style scoped>\n",
       "    .dataframe tbody tr th:only-of-type {\n",
       "        vertical-align: middle;\n",
       "    }\n",
       "\n",
       "    .dataframe tbody tr th {\n",
       "        vertical-align: top;\n",
       "    }\n",
       "\n",
       "    .dataframe thead th {\n",
       "        text-align: right;\n",
       "    }\n",
       "</style>\n",
       "<table border=\"1\" class=\"dataframe\">\n",
       "  <thead>\n",
       "    <tr style=\"text-align: right;\">\n",
       "      <th></th>\n",
       "      <th>calls</th>\n",
       "      <th>minutes</th>\n",
       "      <th>messages</th>\n",
       "      <th>mb_used</th>\n",
       "      <th>is_ultra</th>\n",
       "    </tr>\n",
       "  </thead>\n",
       "  <tbody>\n",
       "    <tr>\n",
       "      <th>0</th>\n",
       "      <td>40.0</td>\n",
       "      <td>311.90</td>\n",
       "      <td>83.0</td>\n",
       "      <td>19915.42</td>\n",
       "      <td>0</td>\n",
       "    </tr>\n",
       "    <tr>\n",
       "      <th>1</th>\n",
       "      <td>85.0</td>\n",
       "      <td>516.75</td>\n",
       "      <td>56.0</td>\n",
       "      <td>22696.96</td>\n",
       "      <td>0</td>\n",
       "    </tr>\n",
       "    <tr>\n",
       "      <th>2</th>\n",
       "      <td>77.0</td>\n",
       "      <td>467.66</td>\n",
       "      <td>86.0</td>\n",
       "      <td>21060.45</td>\n",
       "      <td>0</td>\n",
       "    </tr>\n",
       "    <tr>\n",
       "      <th>3</th>\n",
       "      <td>106.0</td>\n",
       "      <td>745.53</td>\n",
       "      <td>81.0</td>\n",
       "      <td>8437.39</td>\n",
       "      <td>1</td>\n",
       "    </tr>\n",
       "    <tr>\n",
       "      <th>4</th>\n",
       "      <td>66.0</td>\n",
       "      <td>418.74</td>\n",
       "      <td>1.0</td>\n",
       "      <td>14502.75</td>\n",
       "      <td>0</td>\n",
       "    </tr>\n",
       "  </tbody>\n",
       "</table>\n",
       "</div>"
      ],
      "text/plain": [
       "   calls  minutes  messages   mb_used  is_ultra\n",
       "0   40.0   311.90      83.0  19915.42         0\n",
       "1   85.0   516.75      56.0  22696.96         0\n",
       "2   77.0   467.66      86.0  21060.45         0\n",
       "3  106.0   745.53      81.0   8437.39         1\n",
       "4   66.0   418.74       1.0  14502.75         0"
      ]
     },
     "execution_count": 2,
     "metadata": {},
     "output_type": "execute_result"
    }
   ],
   "source": [
    "df.head()"
   ]
  },
  {
   "cell_type": "code",
   "execution_count": 3,
   "metadata": {},
   "outputs": [
    {
     "name": "stdout",
     "output_type": "stream",
     "text": [
      "<class 'pandas.core.frame.DataFrame'>\n",
      "RangeIndex: 3214 entries, 0 to 3213\n",
      "Data columns (total 5 columns):\n",
      " #   Column    Non-Null Count  Dtype  \n",
      "---  ------    --------------  -----  \n",
      " 0   calls     3214 non-null   float64\n",
      " 1   minutes   3214 non-null   float64\n",
      " 2   messages  3214 non-null   float64\n",
      " 3   mb_used   3214 non-null   float64\n",
      " 4   is_ultra  3214 non-null   int64  \n",
      "dtypes: float64(4), int64(1)\n",
      "memory usage: 125.7 KB\n"
     ]
    }
   ],
   "source": [
    "df.info()"
   ]
  },
  {
   "cell_type": "markdown",
   "metadata": {},
   "source": [
    "**3214 пользователя. Признаки, на основе которых будут строиться модели - количество звонков, их длительность, количество отправленных сообщений и объем использованного трафика.**"
   ]
  },
  {
   "cell_type": "markdown",
   "metadata": {},
   "source": [
    "***Найдем долю пользователей тарифа \"Ультра\", чтобы убедиться в репрезентативности выборки***"
   ]
  },
  {
   "cell_type": "code",
   "execution_count": 4,
   "metadata": {},
   "outputs": [
    {
     "data": {
      "text/plain": [
       "0.30647168637212197"
      ]
     },
     "execution_count": 4,
     "metadata": {},
     "output_type": "execute_result"
    }
   ],
   "source": [
    "df['is_ultra'].mean()"
   ]
  },
  {
   "cell_type": "markdown",
   "metadata": {},
   "source": [
    "**Соотношение удовлетворительное**"
   ]
  },
  {
   "cell_type": "markdown",
   "metadata": {},
   "source": [
    "### Мультиколлинеарность факторов"
   ]
  },
  {
   "cell_type": "markdown",
   "metadata": {},
   "source": [
    "**Проверим датафрейм на наличие мультиколлинеарных признаков. Для этого построим матрицу рассеяния.**"
   ]
  },
  {
   "cell_type": "code",
   "execution_count": 5,
   "metadata": {},
   "outputs": [
    {
     "data": {
      "text/plain": [
       "array([[<AxesSubplot:xlabel='calls', ylabel='calls'>,\n",
       "        <AxesSubplot:xlabel='minutes', ylabel='calls'>,\n",
       "        <AxesSubplot:xlabel='messages', ylabel='calls'>,\n",
       "        <AxesSubplot:xlabel='mb_used', ylabel='calls'>,\n",
       "        <AxesSubplot:xlabel='is_ultra', ylabel='calls'>],\n",
       "       [<AxesSubplot:xlabel='calls', ylabel='minutes'>,\n",
       "        <AxesSubplot:xlabel='minutes', ylabel='minutes'>,\n",
       "        <AxesSubplot:xlabel='messages', ylabel='minutes'>,\n",
       "        <AxesSubplot:xlabel='mb_used', ylabel='minutes'>,\n",
       "        <AxesSubplot:xlabel='is_ultra', ylabel='minutes'>],\n",
       "       [<AxesSubplot:xlabel='calls', ylabel='messages'>,\n",
       "        <AxesSubplot:xlabel='minutes', ylabel='messages'>,\n",
       "        <AxesSubplot:xlabel='messages', ylabel='messages'>,\n",
       "        <AxesSubplot:xlabel='mb_used', ylabel='messages'>,\n",
       "        <AxesSubplot:xlabel='is_ultra', ylabel='messages'>],\n",
       "       [<AxesSubplot:xlabel='calls', ylabel='mb_used'>,\n",
       "        <AxesSubplot:xlabel='minutes', ylabel='mb_used'>,\n",
       "        <AxesSubplot:xlabel='messages', ylabel='mb_used'>,\n",
       "        <AxesSubplot:xlabel='mb_used', ylabel='mb_used'>,\n",
       "        <AxesSubplot:xlabel='is_ultra', ylabel='mb_used'>],\n",
       "       [<AxesSubplot:xlabel='calls', ylabel='is_ultra'>,\n",
       "        <AxesSubplot:xlabel='minutes', ylabel='is_ultra'>,\n",
       "        <AxesSubplot:xlabel='messages', ylabel='is_ultra'>,\n",
       "        <AxesSubplot:xlabel='mb_used', ylabel='is_ultra'>,\n",
       "        <AxesSubplot:xlabel='is_ultra', ylabel='is_ultra'>]], dtype=object)"
      ]
     },
     "execution_count": 5,
     "metadata": {},
     "output_type": "execute_result"
    },
    {
     "data": {
      "image/png": "[encoded data removed]",
      "text/plain": [
       "<Figure size 720x720 with 25 Axes>"
      ]
     },
     "metadata": {
      "needs_background": "light"
     },
     "output_type": "display_data"
    }
   ],
   "source": [
    "pd.plotting.scatter_matrix(df, figsize=(10, 10))"
   ]
  },
  {
   "cell_type": "markdown",
   "metadata": {},
   "source": [
    "**Видим четкую линейную зависимость признаков minutes (количество использованных минут) и calls (количество совершенных звонков). Найдем коэффициент корреляции между ними.**"
   ]
  },
  {
   "cell_type": "code",
   "execution_count": 6,
   "metadata": {},
   "outputs": [
    {
     "data": {
      "text/plain": [
       "0.9820832355742293"
      ]
     },
     "execution_count": 6,
     "metadata": {},
     "output_type": "execute_result"
    }
   ],
   "source": [
    "df['calls'].corr(df['minutes'])"
   ]
  },
  {
   "cell_type": "markdown",
   "metadata": {},
   "source": [
    "**Коэффициент корреляции почти равен единице. Для снижения нагрузки на нашу модель исключим столбец с количеством звонков из дальнейшего анализа. Как мы знаем, в тарифный пакет входит именно количество минут, а не количество звонков.**"
   ]
  },
  {
   "cell_type": "code",
   "execution_count": 7,
   "metadata": {},
   "outputs": [],
   "source": [
    "df = df.drop('calls', axis=1)"
   ]
  },
  {
   "cell_type": "markdown",
   "metadata": {},
   "source": [
    "## Разбиение данных на выборки"
   ]
  },
  {
   "cell_type": "markdown",
   "metadata": {},
   "source": [
    "***Разобьем данные на обучающую, валидационную и тестовую выборки в соотношении 3:1:1. Для этого дважды используем train_test_split.***"
   ]
  },
  {
   "cell_type": "markdown",
   "metadata": {},
   "source": [
    "***Сперва выделим признаки для обучения. Целевой категориальный признак - это столбец 'is_ultra'.***"
   ]
  },
  {
   "cell_type": "code",
   "execution_count": 8,
   "metadata": {},
   "outputs": [],
   "source": [
    "features = df.drop('is_ultra', axis=1)\n",
    "target = df['is_ultra']"
   ]
  },
  {
   "cell_type": "markdown",
   "metadata": {},
   "source": [
    "***Выделим обучающую выборку. Валидационную и тестовую выборки пока выделим в переменные '_temp'***"
   ]
  },
  {
   "cell_type": "code",
   "execution_count": 9,
   "metadata": {},
   "outputs": [],
   "source": [
    "features_train, features_temp, target_train, target_temp = train_test_split(features, target, train_size=.6, random_state=12345)"
   ]
  },
  {
   "cell_type": "markdown",
   "metadata": {},
   "source": [
    "***Оставшиеся данные поделим пополам - по 1/5 от исходного датасета для валидационной и тестовой выборок***"
   ]
  },
  {
   "cell_type": "code",
   "execution_count": 10,
   "metadata": {},
   "outputs": [],
   "source": [
    "features_valid, features_test, target_valid, target_test = train_test_split(\n",
    "    features_temp, target_temp, train_size=.5, random_state=12345)"
   ]
  },
  {
   "cell_type": "markdown",
   "metadata": {},
   "source": [
    "***Проверим результат разбивки***"
   ]
  },
  {
   "cell_type": "code",
   "execution_count": 11,
   "metadata": {},
   "outputs": [
    {
     "name": "stdout",
     "output_type": "stream",
     "text": [
      "Соотношение обучающей, валидационной и тестовой выборок: 3 : 1 : 1\n"
     ]
    }
   ],
   "source": [
    "print('Соотношение обучающей, валидационной и тестовой выборок: {:.0f} : {:.0f} : 1'.format(\n",
    "    len(features_train)/len(features_test), len(features_valid)/len(features_test)))"
   ]
  },
  {
   "cell_type": "code",
   "execution_count": 12,
   "metadata": {
    "scrolled": true
   },
   "outputs": [
    {
     "name": "stdout",
     "output_type": "stream",
     "text": [
      "Размер обучающей, валидационной и тестовой выборок: (1928, 3), (643, 3), (643, 3)\n"
     ]
    }
   ],
   "source": [
    "print('Размер обучающей, валидационной и тестовой выборок: {}, {}, {}'.format(\n",
    "    features_train.shape, features_valid.shape, features_test.shape))"
   ]
  },
  {
   "cell_type": "markdown",
   "metadata": {},
   "source": [
    "**Разбивка выполнена успешно, перейдем к выбору модели**"
   ]
  },
  {
   "cell_type": "markdown",
   "metadata": {},
   "source": [
    "## Исследование моделей"
   ]
  },
  {
   "cell_type": "markdown",
   "metadata": {},
   "source": [
    "***Проанализируем работу трех видов моделей (решающее дерево, случайный лес и логистическую регрессию), чтобы выбрать лучшую модель для проверки на тестовой выборке.***"
   ]
  },
  {
   "cell_type": "markdown",
   "metadata": {},
   "source": [
    "### Решающее дерево"
   ]
  },
  {
   "cell_type": "markdown",
   "metadata": {},
   "source": [
    "***Переберем максимальную глубину дерева от 1 до 10 для выявления самой точной модели***"
   ]
  },
  {
   "cell_type": "code",
   "execution_count": 13,
   "metadata": {},
   "outputs": [
    {
     "name": "stdout",
     "output_type": "stream",
     "text": [
      "Наибольшая полученная точность модели составляет 0.79 при глубине дерева: 4\n"
     ]
    }
   ],
   "source": [
    "best_model_tree = None\n",
    "best_accuracy_tree = 0\n",
    "best_depth_tree = 0\n",
    "for depth in range(1, 11):\n",
    "    model = DecisionTreeClassifier(random_state=12345, max_depth=depth)\n",
    "    model.fit(features_train, target_train)\n",
    "    predict_valid = model.predict(features_valid)\n",
    "    accuracy = accuracy_score(target_valid, predict_valid)\n",
    "    if accuracy > best_accuracy_tree:\n",
    "        best_accuracy_tree = accuracy\n",
    "        best_model_tree = model\n",
    "        best_depth_tree = depth\n",
    "print('Наибольшая полученная точность модели составляет {:.2f} при глубине дерева: {}'.format(best_accuracy_tree, best_depth_tree))"
   ]
  },
  {
   "cell_type": "markdown",
   "metadata": {},
   "source": [
    "**Точность модели невысокая, ошибки составляют больше 20%. Проверим модель случайного леса.**"
   ]
  },
  {
   "cell_type": "markdown",
   "metadata": {},
   "source": [
    "### Случайный лес"
   ]
  },
  {
   "cell_type": "markdown",
   "metadata": {},
   "source": [
    "***Переберем модели с количеством деревьев от 10 до 50 (шаг 10) и с глубиной от 1 до 10 для выявления самой точной модели***"
   ]
  },
  {
   "cell_type": "code",
   "execution_count": 14,
   "metadata": {},
   "outputs": [
    {
     "name": "stdout",
     "output_type": "stream",
     "text": [
      "Наибольшая полученная точность модели составляет 0.80 при количестве деревьев 20 и глубине дерева 8\n"
     ]
    }
   ],
   "source": [
    "best_model_forest = None\n",
    "best_accuracy_forest = 0\n",
    "best_est = 0\n",
    "best_depth_forest = 0\n",
    "for est in range(10, 51, 10):\n",
    "    for depth in range(1, 11):\n",
    "        model = RandomForestClassifier(random_state=12345, n_estimators=est, max_depth = depth)\n",
    "        model.fit(features_train, target_train)\n",
    "        accuracy = model.score(features_valid, target_valid)\n",
    "        if accuracy > best_accuracy_forest:\n",
    "            best_model_forest = model\n",
    "            best_accuracy_forest = accuracy\n",
    "            best_est = est\n",
    "            best_depth_forest = depth\n",
    "print('Наибольшая полученная точность модели составляет {:.2f} при количестве деревьев {} и глубине дерева {}'.format(\n",
    "    best_accuracy_forest, best_est, best_depth_forest))"
   ]
  },
  {
   "cell_type": "markdown",
   "metadata": {},
   "source": [
    "**Полученная точность выше модели с предыдущей, но работа модели с 20 деревьями глубиной 8 требует много ресурсов. Рассмотрим модель логистической регрессии.**"
   ]
  },
  {
   "cell_type": "markdown",
   "metadata": {},
   "source": [
    "### Логистическая регрессия"
   ]
  },
  {
   "cell_type": "markdown",
   "metadata": {},
   "source": [
    "***Посчитаем точность модели логистической регрессии***"
   ]
  },
  {
   "cell_type": "code",
   "execution_count": 15,
   "metadata": {
    "scrolled": true
   },
   "outputs": [
    {
     "name": "stdout",
     "output_type": "stream",
     "text": [
      "Точность модели составляет 0.71\n"
     ]
    }
   ],
   "source": [
    "model = LogisticRegression(random_state=12345)\n",
    "model.fit(features_train, target_train)\n",
    "accuracy = model.score(features_valid, target_valid)\n",
    "print('Точность модели составляет {:.2f}'.format(accuracy))"
   ]
  },
  {
   "cell_type": "markdown",
   "metadata": {},
   "source": [
    "**Точность модели получилась наименьшая, но стоит отметить высокую скорость работы модели.**"
   ]
  },
  {
   "cell_type": "markdown",
   "metadata": {},
   "source": [
    "## Проверка модели на тестовой выборке"
   ]
  },
  {
   "cell_type": "markdown",
   "metadata": {},
   "source": [
    "***Наибольшая точность получена у модели случайного леса. Проверим ее на тестовой выборке.***"
   ]
  },
  {
   "cell_type": "code",
   "execution_count": 16,
   "metadata": {},
   "outputs": [
    {
     "name": "stdout",
     "output_type": "stream",
     "text": [
      "Точность лучшей модели на тестовой выборке составляет 0.80\n"
     ]
    }
   ],
   "source": [
    "accuracy_test = best_model_forest.score(features_test, target_test)\n",
    "print('Точность лучшей модели на тестовой выборке составляет {:.2f}'.format(accuracy_test))"
   ]
  },
  {
   "cell_type": "markdown",
   "metadata": {},
   "source": [
    "**Проверка модели на тестовой выборке пройдена - точность составила 80%.**"
   ]
  },
  {
   "cell_type": "markdown",
   "metadata": {},
   "source": [
    "**Для увеличения точности модели обучим ее на обучающей + валидационной выборках, после чего применим модель к тестовой выборке. Оптимальные гиперпараметры были определены ранее.**"
   ]
  },
  {
   "cell_type": "markdown",
   "metadata": {},
   "source": [
    "**Объединим датафреймы с обучающей и валидационной выборками**"
   ]
  },
  {
   "cell_type": "code",
   "execution_count": 17,
   "metadata": {},
   "outputs": [],
   "source": [
    "features_final = features_train.append(features_valid, ignore_index=True) \n",
    "target_final = target_train.append(target_valid, ignore_index=True)"
   ]
  },
  {
   "cell_type": "markdown",
   "metadata": {},
   "source": [
    "**Обучим модель на объединенных выборках и проверим ее на тестовой выборке.**"
   ]
  },
  {
   "cell_type": "code",
   "execution_count": 18,
   "metadata": {},
   "outputs": [
    {
     "name": "stdout",
     "output_type": "stream",
     "text": [
      "Точность модели на тестовой выборке составляет 0.81\n"
     ]
    }
   ],
   "source": [
    "model_final = RandomForestClassifier(random_state=12345, n_estimators=best_est, max_depth=best_depth_forest)\n",
    "model_final.fit(features_final, target_final)\n",
    "model_final_pred = model_final.predict(features_test)\n",
    "accuracy_test_final = model_final.score(features_test, target_test)\n",
    "print('Точность модели на тестовой выборке составляет {:.2f}'.format(accuracy_test_final))"
   ]
  },
  {
   "cell_type": "markdown",
   "metadata": {},
   "source": [
    "**Точность модели, обученной на более широкой выборке, оказалась выше.**"
   ]
  },
  {
   "cell_type": "markdown",
   "metadata": {},
   "source": [
    "## Проверка модели на адекватность"
   ]
  },
  {
   "cell_type": "markdown",
   "metadata": {},
   "source": [
    "### Случайное число"
   ]
  },
  {
   "cell_type": "markdown",
   "metadata": {},
   "source": [
    "***Сравним точность нашей модели на тестовой выборке с моделью, которая выдает случайное число***"
   ]
  },
  {
   "cell_type": "markdown",
   "metadata": {},
   "source": [
    "***Создадим Series с набором случайных значений 0 или 1 размером с тестовую выборку***"
   ]
  },
  {
   "cell_type": "code",
   "execution_count": 19,
   "metadata": {},
   "outputs": [],
   "source": [
    "random_result = pd.Series(np.random.binomial(1, 0.5, size=len(target_test))) "
   ]
  },
  {
   "cell_type": "markdown",
   "metadata": {},
   "source": [
    "***Проверим точность этой модели на тестовой выборке***"
   ]
  },
  {
   "cell_type": "code",
   "execution_count": 20,
   "metadata": {},
   "outputs": [
    {
     "name": "stdout",
     "output_type": "stream",
     "text": [
      "Точность модели со случайными данными составляет 0.50\n"
     ]
    }
   ],
   "source": [
    "random_result_accuracy = accuracy_score(target_test, random_result)\n",
    "print('Точность модели со случайными данными составляет {:.2f}'.format(random_result_accuracy))"
   ]
  },
  {
   "cell_type": "markdown",
   "metadata": {},
   "source": [
    "**Точность такого метода существенно ниже полученной, что указывает на вменяемость нашей модели.**"
   ]
  },
  {
   "cell_type": "markdown",
   "metadata": {},
   "source": [
    "### DummyClassifier"
   ]
  },
  {
   "cell_type": "markdown",
   "metadata": {},
   "source": [
    "**Проверим модель на вменяемость с помощью инструментов библиотеки DummyClassifier.**"
   ]
  },
  {
   "cell_type": "code",
   "execution_count": 21,
   "metadata": {},
   "outputs": [
    {
     "name": "stdout",
     "output_type": "stream",
     "text": [
      "Точность модели DummyClassifier со стратегией \"most_frequent\" составляет 0.68\n"
     ]
    }
   ],
   "source": [
    "model_dummy = DummyClassifier(strategy='most_frequent')\n",
    "model_dummy.fit(features_final, target_final)\n",
    "model_dummy_pred = model_dummy.predict(features_test)\n",
    "print('Точность модели DummyClassifier со стратегией \"most_frequent\" составляет {:.2f}'.format(\n",
    "    model_dummy.score(features_test, target_test)))"
   ]
  },
  {
   "cell_type": "markdown",
   "metadata": {},
   "source": [
    "**Полученная точность выше 50%, но существенно ниже полученной на нашей модели.**"
   ]
  },
  {
   "cell_type": "markdown",
   "metadata": {},
   "source": [
    "**Рассмотрим результаты рабочей модели и модели DummyClassifier на confusion_matrix**"
   ]
  },
  {
   "cell_type": "code",
   "execution_count": 22,
   "metadata": {},
   "outputs": [
    {
     "name": "stdout",
     "output_type": "stream",
     "text": [
      "confusion_matrix для рабочей модели:\n"
     ]
    },
    {
     "data": {
      "text/plain": [
       "array([[412,  28],\n",
       "       [ 95, 108]])"
      ]
     },
     "execution_count": 22,
     "metadata": {},
     "output_type": "execute_result"
    }
   ],
   "source": [
    "print('confusion_matrix для рабочей модели:')\n",
    "confusion_matrix(target_test, model_final_pred)"
   ]
  },
  {
   "cell_type": "code",
   "execution_count": 23,
   "metadata": {},
   "outputs": [
    {
     "name": "stdout",
     "output_type": "stream",
     "text": [
      "confusion_matrix для модели \"most_frequent\":\n"
     ]
    },
    {
     "data": {
      "text/plain": [
       "array([[440,   0],\n",
       "       [203,   0]])"
      ]
     },
     "execution_count": 23,
     "metadata": {},
     "output_type": "execute_result"
    }
   ],
   "source": [
    "print('confusion_matrix для модели \"most_frequent\":')\n",
    "confusion_matrix(target_test, model_dummy_pred)"
   ]
  },
  {
   "cell_type": "markdown",
   "metadata": {},
   "source": [
    "**В связи с тем, что в исходной выборке доля пользователей тарифа \"Смарт\" выше, модель 'most_frequent' угадала большее количество пользователей этого тарифа (а точнее, всех) по сравнению с рабочей моделью (440 против 412 пользователей). По остальным параметрам работа нашей финальной модели существенно лучше.**"
   ]
  },
  {
   "cell_type": "markdown",
   "metadata": {},
   "source": [
    "## Вывод"
   ]
  },
  {
   "cell_type": "markdown",
   "metadata": {},
   "source": [
    "**Были рассмотрены 3 вида модели - решающее дерево, случайный лес и логистическая регрессия. Наибольшую точность показала модель случайного леса (0,80), наименьшую - модель логистической регрессии (0,71). Стоит отметить, что модель случайного леса требует наибольшее количество ресурсов, модель логистической регрессии - наименьшее. Модель решающего дерева показала средний результат (79%), затраты вычислительной мощности на нее также средние. Путем перебора найдены оптимальные гиперпараметры для нашей модели: количество деревьев 20, глубина дерева 8.**\n",
    "\n",
    "**Результат проверки на тестовой выборке удовлеворительный, точность составила 0,80. После обучения модели с выявленными оптимальными гиперпараметрами на выборке общучающая + валидационная точность модели выросла до 0.81.**\n",
    "\n",
    "**Проверка модели на вменяемость прошла успешно.**"
   ]
  }
 ],
 "metadata": {
  "ExecuteTimeLog": [
   {
    "duration": 762,
    "start_time": "2021-11-09T16:05:52.729Z"
   },
   {
    "duration": 24,
    "start_time": "2021-11-09T16:06:06.229Z"
   },
   {
    "duration": 9,
    "start_time": "2021-11-09T16:06:14.051Z"
   },
   {
    "duration": 13,
    "start_time": "2021-11-09T16:06:32.174Z"
   },
   {
    "duration": 9,
    "start_time": "2021-11-09T16:07:38.424Z"
   },
   {
    "duration": 128,
    "start_time": "2021-11-09T16:08:32.248Z"
   },
   {
    "duration": 8,
    "start_time": "2021-11-09T16:08:34.694Z"
   },
   {
    "duration": 6,
    "start_time": "2021-11-09T16:08:45.143Z"
   },
   {
    "duration": 302,
    "start_time": "2021-11-09T16:28:40.943Z"
   },
   {
    "duration": 618,
    "start_time": "2021-11-09T16:28:45.420Z"
   },
   {
    "duration": 14,
    "start_time": "2021-11-09T16:28:46.041Z"
   },
   {
    "duration": 11,
    "start_time": "2021-11-09T16:28:46.058Z"
   },
   {
    "duration": 6,
    "start_time": "2021-11-09T16:28:46.071Z"
   },
   {
    "duration": 742,
    "start_time": "2021-11-09T16:28:46.079Z"
   },
   {
    "duration": 147,
    "start_time": "2021-11-09T16:28:46.676Z"
   },
   {
    "duration": 22,
    "start_time": "2021-11-09T16:28:56.666Z"
   },
   {
    "duration": 14,
    "start_time": "2021-11-09T16:28:56.691Z"
   },
   {
    "duration": 9,
    "start_time": "2021-11-09T16:28:56.709Z"
   },
   {
    "duration": 7,
    "start_time": "2021-11-09T16:28:56.721Z"
   },
   {
    "duration": 7077,
    "start_time": "2021-11-09T16:28:56.730Z"
   },
   {
    "duration": 147,
    "start_time": "2021-11-09T16:29:03.663Z"
   },
   {
    "duration": 26,
    "start_time": "2021-11-09T16:29:17.758Z"
   },
   {
    "duration": 16,
    "start_time": "2021-11-09T16:29:17.787Z"
   },
   {
    "duration": 15,
    "start_time": "2021-11-09T16:29:17.806Z"
   },
   {
    "duration": 8,
    "start_time": "2021-11-09T16:29:17.824Z"
   },
   {
    "duration": 6,
    "start_time": "2021-11-09T16:29:17.835Z"
   },
   {
    "duration": 12,
    "start_time": "2021-11-09T16:29:17.844Z"
   },
   {
    "duration": 7,
    "start_time": "2021-11-09T16:31:38.904Z"
   },
   {
    "duration": 7,
    "start_time": "2021-11-09T16:31:50.335Z"
   },
   {
    "duration": 5,
    "start_time": "2021-11-09T16:32:07.175Z"
   },
   {
    "duration": 167,
    "start_time": "2021-11-09T16:32:32.344Z"
   },
   {
    "duration": 6,
    "start_time": "2021-11-09T16:32:40.966Z"
   },
   {
    "duration": 383,
    "start_time": "2021-11-09T16:36:00.960Z"
   },
   {
    "duration": 5,
    "start_time": "2021-11-09T16:36:59.249Z"
   },
   {
    "duration": 312,
    "start_time": "2021-11-09T16:37:12.405Z"
   },
   {
    "duration": 4,
    "start_time": "2021-11-09T16:37:18.883Z"
   },
   {
    "duration": 274,
    "start_time": "2021-11-09T18:14:49.001Z"
   },
   {
    "duration": 61,
    "start_time": "2021-11-09T18:14:53.192Z"
   },
   {
    "duration": 12,
    "start_time": "2021-11-09T18:14:53.256Z"
   },
   {
    "duration": 13,
    "start_time": "2021-11-09T18:14:53.271Z"
   },
   {
    "duration": 16,
    "start_time": "2021-11-09T18:14:53.287Z"
   },
   {
    "duration": 9,
    "start_time": "2021-11-09T18:14:53.305Z"
   },
   {
    "duration": 19,
    "start_time": "2021-11-09T18:14:53.316Z"
   },
   {
    "duration": 17,
    "start_time": "2021-11-09T18:14:53.337Z"
   },
   {
    "duration": 6,
    "start_time": "2021-11-09T18:14:53.357Z"
   },
   {
    "duration": 309,
    "start_time": "2021-11-09T18:14:53.366Z"
   },
   {
    "duration": 311,
    "start_time": "2021-11-09T18:16:25.307Z"
   },
   {
    "duration": 23,
    "start_time": "2021-11-09T18:16:28.715Z"
   },
   {
    "duration": 13,
    "start_time": "2021-11-09T18:16:28.741Z"
   },
   {
    "duration": 9,
    "start_time": "2021-11-09T18:16:28.757Z"
   },
   {
    "duration": 7,
    "start_time": "2021-11-09T18:16:28.768Z"
   },
   {
    "duration": 7,
    "start_time": "2021-11-09T18:16:28.778Z"
   },
   {
    "duration": 39,
    "start_time": "2021-11-09T18:16:28.788Z"
   },
   {
    "duration": 9,
    "start_time": "2021-11-09T18:16:28.830Z"
   },
   {
    "duration": 6,
    "start_time": "2021-11-09T18:16:28.841Z"
   },
   {
    "duration": 118,
    "start_time": "2021-11-09T18:16:28.851Z"
   },
   {
    "duration": 75,
    "start_time": "2021-11-09T18:16:46.434Z"
   },
   {
    "duration": 77,
    "start_time": "2021-11-09T18:16:57.724Z"
   },
   {
    "duration": 77,
    "start_time": "2021-11-09T18:17:01.017Z"
   },
   {
    "duration": 75,
    "start_time": "2021-11-09T18:17:04.997Z"
   },
   {
    "duration": 75,
    "start_time": "2021-11-09T18:17:13.645Z"
   },
   {
    "duration": 1092,
    "start_time": "2021-11-10T11:10:49.629Z"
   },
   {
    "duration": 16,
    "start_time": "2021-11-10T11:10:50.723Z"
   },
   {
    "duration": 17,
    "start_time": "2021-11-10T11:10:50.741Z"
   },
   {
    "duration": 5,
    "start_time": "2021-11-10T11:10:50.760Z"
   },
   {
    "duration": 16,
    "start_time": "2021-11-10T11:10:50.767Z"
   },
   {
    "duration": 13,
    "start_time": "2021-11-10T11:10:50.785Z"
   },
   {
    "duration": 9,
    "start_time": "2021-11-10T11:10:50.800Z"
   },
   {
    "duration": 15,
    "start_time": "2021-11-10T11:10:50.811Z"
   },
   {
    "duration": 60,
    "start_time": "2021-11-10T11:10:50.828Z"
   },
   {
    "duration": 1568,
    "start_time": "2021-11-10T11:10:50.890Z"
   },
   {
    "duration": 20,
    "start_time": "2021-11-10T11:11:13.403Z"
   },
   {
    "duration": 20,
    "start_time": "2021-11-10T11:11:13.425Z"
   },
   {
    "duration": 13,
    "start_time": "2021-11-10T11:11:13.447Z"
   },
   {
    "duration": 17,
    "start_time": "2021-11-10T11:11:13.462Z"
   },
   {
    "duration": 8,
    "start_time": "2021-11-10T11:11:13.480Z"
   },
   {
    "duration": 27,
    "start_time": "2021-11-10T11:11:13.490Z"
   },
   {
    "duration": 12,
    "start_time": "2021-11-10T11:11:13.519Z"
   },
   {
    "duration": 17,
    "start_time": "2021-11-10T11:11:13.533Z"
   },
   {
    "duration": 66,
    "start_time": "2021-11-10T11:11:13.551Z"
   },
   {
    "duration": 1478,
    "start_time": "2021-11-10T11:11:13.619Z"
   },
   {
    "duration": 2379,
    "start_time": "2021-11-10T11:12:13.865Z"
   },
   {
    "duration": 20,
    "start_time": "2021-11-10T11:12:52.686Z"
   },
   {
    "duration": 8,
    "start_time": "2021-11-10T11:12:52.708Z"
   },
   {
    "duration": 14,
    "start_time": "2021-11-10T11:12:52.719Z"
   },
   {
    "duration": 5,
    "start_time": "2021-11-10T11:12:52.735Z"
   },
   {
    "duration": 9,
    "start_time": "2021-11-10T11:12:52.741Z"
   },
   {
    "duration": 9,
    "start_time": "2021-11-10T11:12:52.752Z"
   },
   {
    "duration": 10,
    "start_time": "2021-11-10T11:12:52.762Z"
   },
   {
    "duration": 6,
    "start_time": "2021-11-10T11:12:52.774Z"
   },
   {
    "duration": 66,
    "start_time": "2021-11-10T11:12:52.782Z"
   },
   {
    "duration": 2385,
    "start_time": "2021-11-10T11:12:52.850Z"
   },
   {
    "duration": 3525,
    "start_time": "2021-11-10T11:13:19.498Z"
   },
   {
    "duration": 19,
    "start_time": "2021-11-10T11:13:54.760Z"
   },
   {
    "duration": 9,
    "start_time": "2021-11-10T11:13:54.781Z"
   },
   {
    "duration": 13,
    "start_time": "2021-11-10T11:13:54.792Z"
   },
   {
    "duration": 8,
    "start_time": "2021-11-10T11:13:54.807Z"
   },
   {
    "duration": 7,
    "start_time": "2021-11-10T11:13:54.817Z"
   },
   {
    "duration": 7,
    "start_time": "2021-11-10T11:13:54.825Z"
   },
   {
    "duration": 13,
    "start_time": "2021-11-10T11:13:54.833Z"
   },
   {
    "duration": 12,
    "start_time": "2021-11-10T11:13:54.849Z"
   },
   {
    "duration": 61,
    "start_time": "2021-11-10T11:13:54.863Z"
   },
   {
    "duration": 3646,
    "start_time": "2021-11-10T11:13:54.926Z"
   },
   {
    "duration": 20,
    "start_time": "2021-11-10T11:20:11.353Z"
   },
   {
    "duration": 16,
    "start_time": "2021-11-10T11:20:11.375Z"
   },
   {
    "duration": 7,
    "start_time": "2021-11-10T11:20:11.393Z"
   },
   {
    "duration": 10,
    "start_time": "2021-11-10T11:20:11.402Z"
   },
   {
    "duration": 10,
    "start_time": "2021-11-10T11:20:11.414Z"
   },
   {
    "duration": 39,
    "start_time": "2021-11-10T11:20:11.425Z"
   },
   {
    "duration": 22,
    "start_time": "2021-11-10T11:20:11.466Z"
   },
   {
    "duration": 8,
    "start_time": "2021-11-10T11:20:11.490Z"
   },
   {
    "duration": 56,
    "start_time": "2021-11-10T11:20:11.499Z"
   },
   {
    "duration": 3523,
    "start_time": "2021-11-10T11:20:11.557Z"
   },
   {
    "duration": 13,
    "start_time": "2021-11-10T11:20:15.082Z"
   },
   {
    "duration": 345,
    "start_time": "2021-11-10T11:23:06.506Z"
   },
   {
    "duration": 20,
    "start_time": "2021-11-10T11:23:46.573Z"
   },
   {
    "duration": 12,
    "start_time": "2021-11-10T11:23:46.595Z"
   },
   {
    "duration": 7,
    "start_time": "2021-11-10T11:23:46.609Z"
   },
   {
    "duration": 7,
    "start_time": "2021-11-10T11:23:46.618Z"
   },
   {
    "duration": 8,
    "start_time": "2021-11-10T11:23:46.627Z"
   },
   {
    "duration": 7,
    "start_time": "2021-11-10T11:23:46.636Z"
   },
   {
    "duration": 10,
    "start_time": "2021-11-10T11:23:46.644Z"
   },
   {
    "duration": 7,
    "start_time": "2021-11-10T11:23:46.655Z"
   },
   {
    "duration": 57,
    "start_time": "2021-11-10T11:23:46.664Z"
   },
   {
    "duration": 3529,
    "start_time": "2021-11-10T11:23:46.723Z"
   },
   {
    "duration": 13,
    "start_time": "2021-11-10T11:23:50.254Z"
   },
   {
    "duration": 2,
    "start_time": "2021-11-10T11:23:50.269Z"
   },
   {
    "duration": 16,
    "start_time": "2021-11-10T11:24:54.586Z"
   },
   {
    "duration": 14,
    "start_time": "2021-11-10T11:28:57.751Z"
   },
   {
    "duration": 15,
    "start_time": "2021-11-10T11:29:00.432Z"
   },
   {
    "duration": 15,
    "start_time": "2021-11-10T11:29:04.206Z"
   },
   {
    "duration": 14,
    "start_time": "2021-11-10T11:29:10.419Z"
   },
   {
    "duration": 15,
    "start_time": "2021-11-10T11:29:14.957Z"
   },
   {
    "duration": 15,
    "start_time": "2021-11-10T11:29:18.704Z"
   },
   {
    "duration": 14,
    "start_time": "2021-11-10T11:29:23.056Z"
   },
   {
    "duration": 14,
    "start_time": "2021-11-10T11:29:27.233Z"
   },
   {
    "duration": 14,
    "start_time": "2021-11-10T11:29:32.023Z"
   },
   {
    "duration": 29956,
    "start_time": "2021-11-10T11:31:50.381Z"
   },
   {
    "duration": 3367,
    "start_time": "2021-11-10T11:32:36.009Z"
   },
   {
    "duration": 23,
    "start_time": "2021-11-10T11:35:02.418Z"
   },
   {
    "duration": 11,
    "start_time": "2021-11-10T11:35:02.443Z"
   },
   {
    "duration": 7,
    "start_time": "2021-11-10T11:35:02.456Z"
   },
   {
    "duration": 10,
    "start_time": "2021-11-10T11:35:02.465Z"
   },
   {
    "duration": 15,
    "start_time": "2021-11-10T11:35:02.476Z"
   },
   {
    "duration": 15,
    "start_time": "2021-11-10T11:35:02.493Z"
   },
   {
    "duration": 12,
    "start_time": "2021-11-10T11:35:02.510Z"
   },
   {
    "duration": 5,
    "start_time": "2021-11-10T11:35:02.524Z"
   },
   {
    "duration": 60,
    "start_time": "2021-11-10T11:35:02.530Z"
   },
   {
    "duration": 3303,
    "start_time": "2021-11-10T11:35:02.591Z"
   },
   {
    "duration": 14,
    "start_time": "2021-11-10T11:35:05.896Z"
   },
   {
    "duration": 363,
    "start_time": "2021-11-10T11:36:46.188Z"
   },
   {
    "duration": 20,
    "start_time": "2021-11-10T11:36:57.181Z"
   },
   {
    "duration": 8,
    "start_time": "2021-11-10T11:36:57.203Z"
   },
   {
    "duration": 8,
    "start_time": "2021-11-10T11:36:57.213Z"
   },
   {
    "duration": 4,
    "start_time": "2021-11-10T11:36:57.223Z"
   },
   {
    "duration": 6,
    "start_time": "2021-11-10T11:36:57.228Z"
   },
   {
    "duration": 8,
    "start_time": "2021-11-10T11:36:57.235Z"
   },
   {
    "duration": 6,
    "start_time": "2021-11-10T11:36:57.244Z"
   },
   {
    "duration": 7,
    "start_time": "2021-11-10T11:36:57.252Z"
   },
   {
    "duration": 56,
    "start_time": "2021-11-10T11:36:57.261Z"
   },
   {
    "duration": 3453,
    "start_time": "2021-11-10T11:36:57.319Z"
   },
   {
    "duration": 13,
    "start_time": "2021-11-10T11:37:00.774Z"
   },
   {
    "duration": 369,
    "start_time": "2021-11-10T11:37:00.789Z"
   },
   {
    "duration": 20,
    "start_time": "2021-11-10T11:38:07.412Z"
   },
   {
    "duration": 19,
    "start_time": "2021-11-10T11:38:07.434Z"
   },
   {
    "duration": 8,
    "start_time": "2021-11-10T11:38:07.455Z"
   },
   {
    "duration": 8,
    "start_time": "2021-11-10T11:38:07.465Z"
   },
   {
    "duration": 7,
    "start_time": "2021-11-10T11:38:07.475Z"
   },
   {
    "duration": 10,
    "start_time": "2021-11-10T11:38:07.484Z"
   },
   {
    "duration": 6,
    "start_time": "2021-11-10T11:38:07.495Z"
   },
   {
    "duration": 6,
    "start_time": "2021-11-10T11:38:07.503Z"
   },
   {
    "duration": 73,
    "start_time": "2021-11-10T11:38:07.512Z"
   },
   {
    "duration": 3522,
    "start_time": "2021-11-10T11:38:07.587Z"
   },
   {
    "duration": 13,
    "start_time": "2021-11-10T11:38:11.111Z"
   },
   {
    "duration": 24,
    "start_time": "2021-11-10T11:38:11.126Z"
   },
   {
    "duration": 10,
    "start_time": "2021-11-10T11:43:56.667Z"
   },
   {
    "duration": 268,
    "start_time": "2021-11-10T11:45:45.472Z"
   },
   {
    "duration": 20,
    "start_time": "2021-11-10T11:45:52.719Z"
   },
   {
    "duration": 8,
    "start_time": "2021-11-10T11:45:52.741Z"
   },
   {
    "duration": 9,
    "start_time": "2021-11-10T11:45:52.751Z"
   },
   {
    "duration": 20,
    "start_time": "2021-11-10T11:45:52.762Z"
   },
   {
    "duration": 23,
    "start_time": "2021-11-10T11:45:52.784Z"
   },
   {
    "duration": 9,
    "start_time": "2021-11-10T11:45:52.809Z"
   },
   {
    "duration": 7,
    "start_time": "2021-11-10T11:45:52.820Z"
   },
   {
    "duration": 4,
    "start_time": "2021-11-10T11:45:52.829Z"
   },
   {
    "duration": 58,
    "start_time": "2021-11-10T11:45:52.835Z"
   },
   {
    "duration": 3395,
    "start_time": "2021-11-10T11:45:52.895Z"
   },
   {
    "duration": 14,
    "start_time": "2021-11-10T11:45:56.291Z"
   },
   {
    "duration": 10,
    "start_time": "2021-11-10T11:45:56.307Z"
   },
   {
    "duration": 27,
    "start_time": "2021-11-10T11:45:56.319Z"
   },
   {
    "duration": 20,
    "start_time": "2021-11-10T11:46:24.443Z"
   },
   {
    "duration": 8,
    "start_time": "2021-11-10T11:46:24.465Z"
   },
   {
    "duration": 15,
    "start_time": "2021-11-10T11:46:24.475Z"
   },
   {
    "duration": 10,
    "start_time": "2021-11-10T11:46:24.492Z"
   },
   {
    "duration": 13,
    "start_time": "2021-11-10T11:46:24.503Z"
   },
   {
    "duration": 7,
    "start_time": "2021-11-10T11:46:24.518Z"
   },
   {
    "duration": 11,
    "start_time": "2021-11-10T11:46:24.526Z"
   },
   {
    "duration": 8,
    "start_time": "2021-11-10T11:46:24.539Z"
   },
   {
    "duration": 62,
    "start_time": "2021-11-10T11:46:24.550Z"
   },
   {
    "duration": 3619,
    "start_time": "2021-11-10T11:46:24.614Z"
   },
   {
    "duration": 20,
    "start_time": "2021-11-10T11:46:28.235Z"
   },
   {
    "duration": 9,
    "start_time": "2021-11-10T11:46:28.257Z"
   },
   {
    "duration": 56,
    "start_time": "2021-11-10T11:46:57.587Z"
   },
   {
    "duration": 3448,
    "start_time": "2021-11-10T11:47:01.318Z"
   },
   {
    "duration": 21,
    "start_time": "2021-11-10T11:47:40.380Z"
   },
   {
    "duration": 14,
    "start_time": "2021-11-10T11:47:40.402Z"
   },
   {
    "duration": 10,
    "start_time": "2021-11-10T11:47:40.418Z"
   },
   {
    "duration": 5,
    "start_time": "2021-11-10T11:47:40.430Z"
   },
   {
    "duration": 13,
    "start_time": "2021-11-10T11:47:40.436Z"
   },
   {
    "duration": 9,
    "start_time": "2021-11-10T11:47:40.450Z"
   },
   {
    "duration": 10,
    "start_time": "2021-11-10T11:47:40.461Z"
   },
   {
    "duration": 8,
    "start_time": "2021-11-10T11:47:40.474Z"
   },
   {
    "duration": 55,
    "start_time": "2021-11-10T11:47:40.484Z"
   },
   {
    "duration": 3331,
    "start_time": "2021-11-10T11:47:40.544Z"
   },
   {
    "duration": 18,
    "start_time": "2021-11-10T11:47:43.877Z"
   },
   {
    "duration": 17,
    "start_time": "2021-11-10T11:47:43.897Z"
   },
   {
    "duration": 22,
    "start_time": "2021-11-10T11:47:53.750Z"
   },
   {
    "duration": 9,
    "start_time": "2021-11-10T11:47:53.774Z"
   },
   {
    "duration": 7,
    "start_time": "2021-11-10T11:47:53.786Z"
   },
   {
    "duration": 6,
    "start_time": "2021-11-10T11:47:53.795Z"
   },
   {
    "duration": 6,
    "start_time": "2021-11-10T11:47:53.802Z"
   },
   {
    "duration": 8,
    "start_time": "2021-11-10T11:47:53.810Z"
   },
   {
    "duration": 24,
    "start_time": "2021-11-10T11:47:53.820Z"
   },
   {
    "duration": 4,
    "start_time": "2021-11-10T11:47:53.846Z"
   },
   {
    "duration": 56,
    "start_time": "2021-11-10T11:47:53.853Z"
   },
   {
    "duration": 3561,
    "start_time": "2021-11-10T11:47:53.911Z"
   },
   {
    "duration": 16,
    "start_time": "2021-11-10T11:47:57.474Z"
   },
   {
    "duration": 12,
    "start_time": "2021-11-10T11:47:57.493Z"
   },
   {
    "duration": 19,
    "start_time": "2021-11-10T12:56:56.247Z"
   },
   {
    "duration": 9,
    "start_time": "2021-11-10T12:56:56.267Z"
   },
   {
    "duration": 13,
    "start_time": "2021-11-10T12:56:56.278Z"
   },
   {
    "duration": 14,
    "start_time": "2021-11-10T12:56:56.292Z"
   },
   {
    "duration": 14,
    "start_time": "2021-11-10T12:56:56.307Z"
   },
   {
    "duration": 10,
    "start_time": "2021-11-10T12:56:56.322Z"
   },
   {
    "duration": 17,
    "start_time": "2021-11-10T12:56:56.334Z"
   },
   {
    "duration": 17,
    "start_time": "2021-11-10T12:56:56.353Z"
   },
   {
    "duration": 60,
    "start_time": "2021-11-10T12:56:56.372Z"
   },
   {
    "duration": 3425,
    "start_time": "2021-11-10T12:56:56.434Z"
   },
   {
    "duration": 13,
    "start_time": "2021-11-10T12:56:59.860Z"
   },
   {
    "duration": 13,
    "start_time": "2021-11-10T12:56:59.875Z"
   },
   {
    "duration": 3,
    "start_time": "2021-11-10T12:56:59.890Z"
   },
   {
    "duration": 4,
    "start_time": "2021-11-10T12:57:05.037Z"
   },
   {
    "duration": 19,
    "start_time": "2021-11-10T13:01:03.891Z"
   },
   {
    "duration": 24,
    "start_time": "2021-11-10T13:01:03.912Z"
   },
   {
    "duration": 15,
    "start_time": "2021-11-10T13:01:03.938Z"
   },
   {
    "duration": 12,
    "start_time": "2021-11-10T13:01:03.955Z"
   },
   {
    "duration": 25,
    "start_time": "2021-11-10T13:01:03.968Z"
   },
   {
    "duration": 36,
    "start_time": "2021-11-10T13:01:03.995Z"
   },
   {
    "duration": 39,
    "start_time": "2021-11-10T13:01:04.032Z"
   },
   {
    "duration": 24,
    "start_time": "2021-11-10T13:01:04.073Z"
   },
   {
    "duration": 67,
    "start_time": "2021-11-10T13:01:04.099Z"
   },
   {
    "duration": 3444,
    "start_time": "2021-11-10T13:01:04.168Z"
   },
   {
    "duration": 14,
    "start_time": "2021-11-10T13:01:07.614Z"
   },
   {
    "duration": 50,
    "start_time": "2021-11-10T13:01:07.629Z"
   },
   {
    "duration": 28,
    "start_time": "2021-11-10T13:01:07.681Z"
   },
   {
    "duration": 37,
    "start_time": "2021-11-10T13:01:07.710Z"
   },
   {
    "duration": 5,
    "start_time": "2021-11-10T13:01:58.838Z"
   },
   {
    "duration": 5,
    "start_time": "2021-11-10T13:02:01.628Z"
   },
   {
    "duration": 5,
    "start_time": "2021-11-10T13:02:07.056Z"
   },
   {
    "duration": 4,
    "start_time": "2021-11-10T13:02:08.987Z"
   },
   {
    "duration": 3,
    "start_time": "2021-11-10T13:02:16.424Z"
   },
   {
    "duration": 4,
    "start_time": "2021-11-10T13:02:17.427Z"
   },
   {
    "duration": 3,
    "start_time": "2021-11-10T13:02:19.199Z"
   },
   {
    "duration": 5,
    "start_time": "2021-11-10T13:02:19.774Z"
   },
   {
    "duration": 3,
    "start_time": "2021-11-10T13:02:21.207Z"
   },
   {
    "duration": 5,
    "start_time": "2021-11-10T13:02:21.684Z"
   },
   {
    "duration": 3,
    "start_time": "2021-11-10T13:02:25.234Z"
   },
   {
    "duration": 4,
    "start_time": "2021-11-10T13:02:25.688Z"
   },
   {
    "duration": 3,
    "start_time": "2021-11-10T13:02:27.472Z"
   },
   {
    "duration": 4,
    "start_time": "2021-11-10T13:02:28.044Z"
   },
   {
    "duration": 3,
    "start_time": "2021-11-10T13:02:29.471Z"
   },
   {
    "duration": 4,
    "start_time": "2021-11-10T13:02:30.243Z"
   },
   {
    "duration": 3,
    "start_time": "2021-11-10T13:02:33.981Z"
   },
   {
    "duration": 5,
    "start_time": "2021-11-10T13:02:34.734Z"
   },
   {
    "duration": 4,
    "start_time": "2021-11-10T13:02:35.864Z"
   },
   {
    "duration": 4,
    "start_time": "2021-11-10T13:02:36.327Z"
   },
   {
    "duration": 4,
    "start_time": "2021-11-10T13:02:40.483Z"
   },
   {
    "duration": 4,
    "start_time": "2021-11-10T13:03:32.573Z"
   },
   {
    "duration": 4,
    "start_time": "2021-11-10T13:03:36.087Z"
   },
   {
    "duration": 4,
    "start_time": "2021-11-10T13:03:44.720Z"
   },
   {
    "duration": 6,
    "start_time": "2021-11-10T13:03:49.445Z"
   },
   {
    "duration": 4,
    "start_time": "2021-11-10T13:03:54.096Z"
   },
   {
    "duration": 4,
    "start_time": "2021-11-10T13:03:58.709Z"
   },
   {
    "duration": 4,
    "start_time": "2021-11-10T13:04:04.853Z"
   },
   {
    "duration": 4,
    "start_time": "2021-11-10T13:04:10.106Z"
   },
   {
    "duration": 4,
    "start_time": "2021-11-10T13:04:16.699Z"
   },
   {
    "duration": 9,
    "start_time": "2021-11-10T13:04:20.007Z"
   },
   {
    "duration": 6,
    "start_time": "2021-11-10T13:04:21.654Z"
   },
   {
    "duration": 7,
    "start_time": "2021-11-10T13:04:23.068Z"
   },
   {
    "duration": 7,
    "start_time": "2021-11-10T13:04:26.088Z"
   },
   {
    "duration": 1094,
    "start_time": "2021-11-10T13:23:02.212Z"
   },
   {
    "duration": 14,
    "start_time": "2021-11-10T13:23:03.308Z"
   },
   {
    "duration": 7,
    "start_time": "2021-11-10T13:23:03.325Z"
   },
   {
    "duration": 6,
    "start_time": "2021-11-10T13:23:03.333Z"
   },
   {
    "duration": 6,
    "start_time": "2021-11-10T13:23:03.340Z"
   },
   {
    "duration": 9,
    "start_time": "2021-11-10T13:23:03.348Z"
   },
   {
    "duration": 15,
    "start_time": "2021-11-10T13:23:03.359Z"
   },
   {
    "duration": 14,
    "start_time": "2021-11-10T13:23:03.376Z"
   },
   {
    "duration": 56,
    "start_time": "2021-11-10T13:23:03.392Z"
   },
   {
    "duration": 3254,
    "start_time": "2021-11-10T13:23:03.450Z"
   },
   {
    "duration": 14,
    "start_time": "2021-11-10T13:23:06.706Z"
   },
   {
    "duration": 28,
    "start_time": "2021-11-10T13:23:06.721Z"
   },
   {
    "duration": 3,
    "start_time": "2021-11-10T13:23:06.751Z"
   },
   {
    "duration": 9,
    "start_time": "2021-11-10T13:23:06.755Z"
   },
   {
    "duration": 1478,
    "start_time": "2021-11-10T14:03:12.061Z"
   },
   {
    "duration": 21,
    "start_time": "2021-11-10T14:03:13.542Z"
   },
   {
    "duration": 9,
    "start_time": "2021-11-10T14:03:13.760Z"
   },
   {
    "duration": 6,
    "start_time": "2021-11-10T14:03:16.358Z"
   },
   {
    "duration": 5,
    "start_time": "2021-11-10T14:04:26.505Z"
   },
   {
    "duration": 7,
    "start_time": "2021-11-10T14:04:26.912Z"
   },
   {
    "duration": 7,
    "start_time": "2021-11-10T14:04:27.485Z"
   },
   {
    "duration": 5,
    "start_time": "2021-11-10T14:04:28.014Z"
   },
   {
    "duration": 76,
    "start_time": "2021-11-10T14:05:34.213Z"
   },
   {
    "duration": 5519,
    "start_time": "2021-11-10T14:06:42.910Z"
   },
   {
    "duration": 28,
    "start_time": "2021-11-10T14:07:00.284Z"
   },
   {
    "duration": 16,
    "start_time": "2021-11-10T14:09:20.605Z"
   },
   {
    "duration": 5,
    "start_time": "2021-11-10T14:09:22.837Z"
   },
   {
    "duration": 6,
    "start_time": "2021-11-10T14:09:23.465Z"
   },
   {
    "duration": 316,
    "start_time": "2021-11-11T13:21:08.520Z"
   },
   {
    "duration": 1105,
    "start_time": "2021-11-11T13:21:13.212Z"
   },
   {
    "duration": 15,
    "start_time": "2021-11-11T13:21:14.319Z"
   },
   {
    "duration": 27,
    "start_time": "2021-11-11T13:21:14.336Z"
   },
   {
    "duration": 21,
    "start_time": "2021-11-11T13:21:14.365Z"
   },
   {
    "duration": 3079,
    "start_time": "2021-11-11T13:21:14.388Z"
   },
   {
    "duration": 3,
    "start_time": "2021-11-11T13:21:17.469Z"
   },
   {
    "duration": 10,
    "start_time": "2021-11-11T13:21:17.474Z"
   },
   {
    "duration": 5,
    "start_time": "2021-11-11T13:21:17.486Z"
   },
   {
    "duration": 4,
    "start_time": "2021-11-11T13:21:17.493Z"
   },
   {
    "duration": 83,
    "start_time": "2021-11-11T13:21:17.498Z"
   },
   {
    "duration": 3407,
    "start_time": "2021-11-11T13:21:17.583Z"
   },
   {
    "duration": 14,
    "start_time": "2021-11-11T13:21:20.992Z"
   },
   {
    "duration": 11,
    "start_time": "2021-11-11T13:21:21.009Z"
   },
   {
    "duration": 4,
    "start_time": "2021-11-11T13:21:21.044Z"
   },
   {
    "duration": 11,
    "start_time": "2021-11-11T13:21:21.050Z"
   },
   {
    "duration": 3147,
    "start_time": "2021-11-11T13:21:40.141Z"
   },
   {
    "duration": 307,
    "start_time": "2021-11-11T13:23:57.883Z"
   },
   {
    "duration": 6,
    "start_time": "2021-11-11T13:24:02.245Z"
   },
   {
    "duration": 5,
    "start_time": "2021-11-11T13:25:52.471Z"
   },
   {
    "duration": 21,
    "start_time": "2021-11-11T13:25:57.685Z"
   },
   {
    "duration": 45,
    "start_time": "2021-11-11T13:25:57.707Z"
   },
   {
    "duration": 37,
    "start_time": "2021-11-11T13:25:57.755Z"
   },
   {
    "duration": 33,
    "start_time": "2021-11-11T13:25:57.795Z"
   },
   {
    "duration": 2770,
    "start_time": "2021-11-11T13:25:57.830Z"
   },
   {
    "duration": 5,
    "start_time": "2021-11-11T13:26:00.602Z"
   },
   {
    "duration": 66,
    "start_time": "2021-11-11T13:26:00.609Z"
   },
   {
    "duration": 33,
    "start_time": "2021-11-11T13:26:00.677Z"
   },
   {
    "duration": 12,
    "start_time": "2021-11-11T13:26:00.713Z"
   },
   {
    "duration": 25,
    "start_time": "2021-11-11T13:26:00.726Z"
   },
   {
    "duration": 21,
    "start_time": "2021-11-11T13:26:00.753Z"
   },
   {
    "duration": 78,
    "start_time": "2021-11-11T13:26:00.776Z"
   },
   {
    "duration": 2875,
    "start_time": "2021-11-11T13:26:00.856Z"
   },
   {
    "duration": 17,
    "start_time": "2021-11-11T13:26:03.733Z"
   },
   {
    "duration": 8,
    "start_time": "2021-11-11T13:26:03.752Z"
   },
   {
    "duration": 3,
    "start_time": "2021-11-11T13:26:03.762Z"
   },
   {
    "duration": 6,
    "start_time": "2021-11-11T13:26:03.767Z"
   },
   {
    "duration": 3,
    "start_time": "2021-11-11T13:30:27.669Z"
   },
   {
    "duration": 3,
    "start_time": "2021-11-11T13:32:36.669Z"
   },
   {
    "duration": 19,
    "start_time": "2021-11-11T13:33:32.868Z"
   },
   {
    "duration": 15,
    "start_time": "2021-11-11T13:33:32.889Z"
   },
   {
    "duration": 10,
    "start_time": "2021-11-11T13:33:32.906Z"
   },
   {
    "duration": 21,
    "start_time": "2021-11-11T13:33:32.918Z"
   },
   {
    "duration": 3117,
    "start_time": "2021-11-11T13:33:32.941Z"
   },
   {
    "duration": 7,
    "start_time": "2021-11-11T13:33:36.060Z"
   },
   {
    "duration": 13,
    "start_time": "2021-11-11T13:33:36.069Z"
   },
   {
    "duration": 23,
    "start_time": "2021-11-11T13:33:36.084Z"
   },
   {
    "duration": 9,
    "start_time": "2021-11-11T13:33:36.110Z"
   },
   {
    "duration": 10,
    "start_time": "2021-11-11T13:33:36.121Z"
   },
   {
    "duration": 13,
    "start_time": "2021-11-11T13:33:36.132Z"
   },
   {
    "duration": 5,
    "start_time": "2021-11-11T13:33:36.146Z"
   },
   {
    "duration": 64,
    "start_time": "2021-11-11T13:33:36.153Z"
   },
   {
    "duration": 436,
    "start_time": "2021-11-11T13:33:36.218Z"
   },
   {
    "duration": -458,
    "start_time": "2021-11-11T13:33:37.115Z"
   },
   {
    "duration": -460,
    "start_time": "2021-11-11T13:33:37.118Z"
   },
   {
    "duration": -461,
    "start_time": "2021-11-11T13:33:37.121Z"
   },
   {
    "duration": -463,
    "start_time": "2021-11-11T13:33:37.124Z"
   },
   {
    "duration": 1038,
    "start_time": "2021-11-11T13:33:41.042Z"
   },
   {
    "duration": 13,
    "start_time": "2021-11-11T13:33:42.082Z"
   },
   {
    "duration": 19,
    "start_time": "2021-11-11T13:33:42.097Z"
   },
   {
    "duration": 5,
    "start_time": "2021-11-11T13:33:42.118Z"
   },
   {
    "duration": 3050,
    "start_time": "2021-11-11T13:33:42.124Z"
   },
   {
    "duration": 5,
    "start_time": "2021-11-11T13:33:45.176Z"
   },
   {
    "duration": 21,
    "start_time": "2021-11-11T13:33:45.182Z"
   },
   {
    "duration": 11,
    "start_time": "2021-11-11T13:33:45.206Z"
   },
   {
    "duration": 11,
    "start_time": "2021-11-11T13:33:45.219Z"
   },
   {
    "duration": 7,
    "start_time": "2021-11-11T13:33:45.231Z"
   },
   {
    "duration": 7,
    "start_time": "2021-11-11T13:33:45.240Z"
   },
   {
    "duration": 8,
    "start_time": "2021-11-11T13:33:45.249Z"
   },
   {
    "duration": 68,
    "start_time": "2021-11-11T13:33:45.259Z"
   },
   {
    "duration": 2725,
    "start_time": "2021-11-11T13:33:45.328Z"
   },
   {
    "duration": 9,
    "start_time": "2021-11-11T13:33:48.054Z"
   },
   {
    "duration": 23,
    "start_time": "2021-11-11T13:33:48.065Z"
   },
   {
    "duration": 48,
    "start_time": "2021-11-11T13:33:48.089Z"
   },
   {
    "duration": 24,
    "start_time": "2021-11-11T13:33:48.139Z"
   },
   {
    "duration": 4,
    "start_time": "2021-11-11T13:51:20.240Z"
   },
   {
    "duration": 4,
    "start_time": "2021-11-11T13:51:26.733Z"
   },
   {
    "duration": 1115,
    "start_time": "2021-11-11T13:53:57.062Z"
   },
   {
    "duration": 15,
    "start_time": "2021-11-11T13:53:58.179Z"
   },
   {
    "duration": 30,
    "start_time": "2021-11-11T13:53:58.196Z"
   },
   {
    "duration": 35,
    "start_time": "2021-11-11T13:53:58.228Z"
   },
   {
    "duration": 3194,
    "start_time": "2021-11-11T13:53:58.265Z"
   },
   {
    "duration": 5,
    "start_time": "2021-11-11T13:54:01.461Z"
   },
   {
    "duration": 47,
    "start_time": "2021-11-11T13:54:01.468Z"
   },
   {
    "duration": 46,
    "start_time": "2021-11-11T13:54:01.517Z"
   },
   {
    "duration": 41,
    "start_time": "2021-11-11T13:54:01.566Z"
   },
   {
    "duration": 43,
    "start_time": "2021-11-11T13:54:01.609Z"
   },
   {
    "duration": 47,
    "start_time": "2021-11-11T13:54:01.654Z"
   },
   {
    "duration": 30,
    "start_time": "2021-11-11T13:54:01.703Z"
   },
   {
    "duration": 97,
    "start_time": "2021-11-11T13:54:01.735Z"
   },
   {
    "duration": 2958,
    "start_time": "2021-11-11T13:54:01.834Z"
   },
   {
    "duration": 10,
    "start_time": "2021-11-11T13:54:04.794Z"
   },
   {
    "duration": 12,
    "start_time": "2021-11-11T13:54:04.805Z"
   },
   {
    "duration": 27,
    "start_time": "2021-11-11T13:54:04.818Z"
   },
   {
    "duration": 107,
    "start_time": "2021-11-11T13:54:04.847Z"
   },
   {
    "duration": 3,
    "start_time": "2021-11-11T13:54:04.956Z"
   },
   {
    "duration": 18,
    "start_time": "2021-11-11T13:54:04.961Z"
   },
   {
    "duration": 58,
    "start_time": "2021-11-11T13:55:55.666Z"
   },
   {
    "duration": 20,
    "start_time": "2021-11-11T14:30:03.294Z"
   },
   {
    "duration": 10,
    "start_time": "2021-11-11T14:30:03.317Z"
   },
   {
    "duration": 8,
    "start_time": "2021-11-11T14:30:03.330Z"
   },
   {
    "duration": 11,
    "start_time": "2021-11-11T14:30:03.341Z"
   },
   {
    "duration": 2890,
    "start_time": "2021-11-11T14:30:03.354Z"
   },
   {
    "duration": 5,
    "start_time": "2021-11-11T14:30:06.246Z"
   },
   {
    "duration": 10,
    "start_time": "2021-11-11T14:30:06.252Z"
   },
   {
    "duration": 8,
    "start_time": "2021-11-11T14:30:06.264Z"
   },
   {
    "duration": 14,
    "start_time": "2021-11-11T14:30:06.275Z"
   },
   {
    "duration": 7,
    "start_time": "2021-11-11T14:30:06.291Z"
   },
   {
    "duration": 17,
    "start_time": "2021-11-11T14:30:06.300Z"
   },
   {
    "duration": 9,
    "start_time": "2021-11-11T14:30:06.319Z"
   },
   {
    "duration": 63,
    "start_time": "2021-11-11T14:30:06.330Z"
   },
   {
    "duration": 3104,
    "start_time": "2021-11-11T14:30:06.395Z"
   },
   {
    "duration": 13,
    "start_time": "2021-11-11T14:30:09.501Z"
   },
   {
    "duration": 29,
    "start_time": "2021-11-11T14:30:09.517Z"
   },
   {
    "duration": 5,
    "start_time": "2021-11-11T14:30:09.548Z"
   },
   {
    "duration": 73,
    "start_time": "2021-11-11T14:30:09.554Z"
   },
   {
    "duration": 4,
    "start_time": "2021-11-11T14:30:09.629Z"
   },
   {
    "duration": 19,
    "start_time": "2021-11-11T14:30:09.634Z"
   },
   {
    "duration": 105,
    "start_time": "2021-11-11T14:30:09.655Z"
   },
   {
    "duration": 5,
    "start_time": "2021-11-11T14:30:23.580Z"
   },
   {
    "duration": 1049,
    "start_time": "2021-11-11T15:12:37.184Z"
   },
   {
    "duration": 16,
    "start_time": "2021-11-11T15:12:38.235Z"
   },
   {
    "duration": 6,
    "start_time": "2021-11-11T15:12:38.253Z"
   },
   {
    "duration": 12,
    "start_time": "2021-11-11T15:12:38.261Z"
   },
   {
    "duration": 2787,
    "start_time": "2021-11-11T15:12:38.275Z"
   },
   {
    "duration": 6,
    "start_time": "2021-11-11T15:12:41.064Z"
   },
   {
    "duration": 6,
    "start_time": "2021-11-11T15:12:41.072Z"
   },
   {
    "duration": 7,
    "start_time": "2021-11-11T15:12:41.081Z"
   },
   {
    "duration": 9,
    "start_time": "2021-11-11T15:12:41.090Z"
   },
   {
    "duration": 7,
    "start_time": "2021-11-11T15:12:41.101Z"
   },
   {
    "duration": 5,
    "start_time": "2021-11-11T15:12:41.110Z"
   },
   {
    "duration": 28,
    "start_time": "2021-11-11T15:12:41.116Z"
   },
   {
    "duration": 49,
    "start_time": "2021-11-11T15:12:41.146Z"
   },
   {
    "duration": 3006,
    "start_time": "2021-11-11T15:12:41.197Z"
   },
   {
    "duration": 12,
    "start_time": "2021-11-11T15:12:44.205Z"
   },
   {
    "duration": 30,
    "start_time": "2021-11-11T15:12:44.219Z"
   },
   {
    "duration": 5,
    "start_time": "2021-11-11T15:12:44.251Z"
   },
   {
    "duration": 80,
    "start_time": "2021-11-11T15:12:44.258Z"
   },
   {
    "duration": 5,
    "start_time": "2021-11-11T15:12:44.340Z"
   },
   {
    "duration": 12,
    "start_time": "2021-11-11T15:12:44.347Z"
   },
   {
    "duration": 6,
    "start_time": "2021-11-11T15:12:44.361Z"
   },
   {
    "duration": 11,
    "start_time": "2021-11-11T15:12:44.368Z"
   },
   {
    "duration": 12,
    "start_time": "2021-11-11T15:12:44.382Z"
   },
   {
    "duration": 61,
    "start_time": "2021-11-11T15:26:44.542Z"
   },
   {
    "duration": 1100,
    "start_time": "2021-11-11T15:34:44.192Z"
   },
   {
    "duration": 16,
    "start_time": "2021-11-11T15:34:45.294Z"
   },
   {
    "duration": 9,
    "start_time": "2021-11-11T15:34:45.312Z"
   },
   {
    "duration": 7,
    "start_time": "2021-11-11T15:34:45.323Z"
   },
   {
    "duration": 2835,
    "start_time": "2021-11-11T15:34:45.332Z"
   },
   {
    "duration": 4,
    "start_time": "2021-11-11T15:34:48.169Z"
   },
   {
    "duration": 6,
    "start_time": "2021-11-11T15:34:48.175Z"
   },
   {
    "duration": 7,
    "start_time": "2021-11-11T15:34:48.183Z"
   },
   {
    "duration": 6,
    "start_time": "2021-11-11T15:34:48.192Z"
   },
   {
    "duration": 5,
    "start_time": "2021-11-11T15:34:48.200Z"
   },
   {
    "duration": 5,
    "start_time": "2021-11-11T15:34:48.207Z"
   },
   {
    "duration": 4,
    "start_time": "2021-11-11T15:34:48.245Z"
   },
   {
    "duration": 55,
    "start_time": "2021-11-11T15:34:48.250Z"
   },
   {
    "duration": 2903,
    "start_time": "2021-11-11T15:34:48.307Z"
   },
   {
    "duration": 10,
    "start_time": "2021-11-11T15:34:51.212Z"
   },
   {
    "duration": 25,
    "start_time": "2021-11-11T15:34:51.224Z"
   },
   {
    "duration": 5,
    "start_time": "2021-11-11T15:34:51.251Z"
   },
   {
    "duration": 69,
    "start_time": "2021-11-11T15:34:51.258Z"
   },
   {
    "duration": 3,
    "start_time": "2021-11-11T15:34:51.329Z"
   },
   {
    "duration": 5,
    "start_time": "2021-11-11T15:34:51.345Z"
   },
   {
    "duration": 12,
    "start_time": "2021-11-11T15:34:51.352Z"
   },
   {
    "duration": 21,
    "start_time": "2021-11-11T15:34:51.366Z"
   },
   {
    "duration": 21,
    "start_time": "2021-11-11T15:34:51.390Z"
   },
   {
    "duration": 1060,
    "start_time": "2021-11-11T15:35:21.892Z"
   },
   {
    "duration": 16,
    "start_time": "2021-11-11T15:35:22.954Z"
   },
   {
    "duration": 22,
    "start_time": "2021-11-11T15:35:22.972Z"
   },
   {
    "duration": 16,
    "start_time": "2021-11-11T15:35:22.996Z"
   },
   {
    "duration": 2832,
    "start_time": "2021-11-11T15:35:23.014Z"
   },
   {
    "duration": 5,
    "start_time": "2021-11-11T15:35:25.848Z"
   },
   {
    "duration": 8,
    "start_time": "2021-11-11T15:35:25.854Z"
   },
   {
    "duration": 10,
    "start_time": "2021-11-11T15:35:25.864Z"
   },
   {
    "duration": 7,
    "start_time": "2021-11-11T15:35:25.876Z"
   },
   {
    "duration": 5,
    "start_time": "2021-11-11T15:35:25.885Z"
   },
   {
    "duration": 5,
    "start_time": "2021-11-11T15:35:25.892Z"
   },
   {
    "duration": 5,
    "start_time": "2021-11-11T15:35:25.899Z"
   },
   {
    "duration": 50,
    "start_time": "2021-11-11T15:35:25.945Z"
   },
   {
    "duration": 2783,
    "start_time": "2021-11-11T15:35:25.997Z"
   },
   {
    "duration": 10,
    "start_time": "2021-11-11T15:35:28.782Z"
   },
   {
    "duration": 7,
    "start_time": "2021-11-11T15:35:28.794Z"
   },
   {
    "duration": 4,
    "start_time": "2021-11-11T15:35:28.803Z"
   },
   {
    "duration": 95,
    "start_time": "2021-11-11T15:35:28.809Z"
   },
   {
    "duration": 4,
    "start_time": "2021-11-11T15:35:28.906Z"
   },
   {
    "duration": 7,
    "start_time": "2021-11-11T15:35:28.912Z"
   },
   {
    "duration": 23,
    "start_time": "2021-11-11T15:35:28.921Z"
   },
   {
    "duration": 8,
    "start_time": "2021-11-11T15:35:28.946Z"
   },
   {
    "duration": 9,
    "start_time": "2021-11-11T15:35:28.957Z"
   },
   {
    "duration": 1279,
    "start_time": "2022-08-22T12:26:04.542Z"
   },
   {
    "duration": 18,
    "start_time": "2022-08-22T12:26:05.823Z"
   },
   {
    "duration": 29,
    "start_time": "2022-08-22T12:26:05.843Z"
   },
   {
    "duration": 7,
    "start_time": "2022-08-22T12:26:05.875Z"
   },
   {
    "duration": 1683,
    "start_time": "2022-08-22T12:26:05.884Z"
   },
   {
    "duration": 10,
    "start_time": "2022-08-22T12:26:07.568Z"
   },
   {
    "duration": 9,
    "start_time": "2022-08-22T12:26:07.580Z"
   },
   {
    "duration": 23,
    "start_time": "2022-08-22T12:26:07.590Z"
   },
   {
    "duration": 11,
    "start_time": "2022-08-22T12:26:07.615Z"
   },
   {
    "duration": 6,
    "start_time": "2022-08-22T12:26:07.627Z"
   },
   {
    "duration": 13,
    "start_time": "2022-08-22T12:26:07.634Z"
   },
   {
    "duration": 5,
    "start_time": "2022-08-22T12:26:07.649Z"
   },
   {
    "duration": 78,
    "start_time": "2022-08-22T12:26:07.655Z"
   },
   {
    "duration": 3080,
    "start_time": "2022-08-22T12:26:07.735Z"
   },
   {
    "duration": 16,
    "start_time": "2022-08-22T12:26:10.817Z"
   },
   {
    "duration": 9,
    "start_time": "2022-08-22T12:26:10.834Z"
   },
   {
    "duration": 31,
    "start_time": "2022-08-22T12:26:10.844Z"
   },
   {
    "duration": 74,
    "start_time": "2022-08-22T12:26:10.877Z"
   },
   {
    "duration": 3,
    "start_time": "2022-08-22T12:26:10.953Z"
   },
   {
    "duration": 18,
    "start_time": "2022-08-22T12:26:10.960Z"
   },
   {
    "duration": 15,
    "start_time": "2022-08-22T12:26:10.979Z"
   },
   {
    "duration": 9,
    "start_time": "2022-08-22T12:26:10.995Z"
   },
   {
    "duration": 7,
    "start_time": "2022-08-22T12:26:11.006Z"
   }
  ],
  "kernelspec": {
   "display_name": "Python 3 (ipykernel)",
   "language": "python",
   "name": "python3"
  },
  "language_info": {
   "codemirror_mode": {
    "name": "ipython",
    "version": 3
   },
   "file_extension": ".py",
   "mimetype": "text/x-python",
   "name": "python",
   "nbconvert_exporter": "python",
   "pygments_lexer": "ipython3",
   "version": "3.9.5"
  },
  "toc": {
   "base_numbering": 1,
   "nav_menu": {},
   "number_sections": true,
   "sideBar": true,
   "skip_h1_title": true,
   "title_cell": "Table of Contents",
   "title_sidebar": "Contents",
   "toc_cell": false,
   "toc_position": {},
   "toc_section_display": true,
   "toc_window_display": false
  }
 },
 "nbformat": 4,
 "nbformat_minor": 2
}
