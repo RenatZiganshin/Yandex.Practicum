{
 "cells": [
  {
   "cell_type": "markdown",
   "metadata": {
    "toc": true
   },
   "source": [
    "<h1>Содержание<span class=\"tocSkip\"></span></h1>\n",
    "<div class=\"toc\"><ul class=\"toc-item\"><li><span><a href=\"#Подготовка-данных\" data-toc-modified-id=\"Подготовка-данных-1\"><span class=\"toc-item-num\">1&nbsp;&nbsp;</span>Подготовка данных</a></span><ul class=\"toc-item\"><li><span><a href=\"#Общая-информация\" data-toc-modified-id=\"Общая-информация-1.1\"><span class=\"toc-item-num\">1.1&nbsp;&nbsp;</span>Общая информация</a></span></li><li><span><a href=\"#Удаление-лишних-признаков-и-форматирование-названия-столбцов\" data-toc-modified-id=\"Удаление-лишних-признаков-и-форматирование-названия-столбцов-1.2\"><span class=\"toc-item-num\">1.2&nbsp;&nbsp;</span>Удаление лишних признаков и форматирование названия столбцов</a></span></li><li><span><a href=\"#'Tenure'\" data-toc-modified-id=\"'Tenure'-1.3\"><span class=\"toc-item-num\">1.3&nbsp;&nbsp;</span>'Tenure'</a></span></li><li><span><a href=\"#'Balance'\" data-toc-modified-id=\"'Balance'-1.4\"><span class=\"toc-item-num\">1.4&nbsp;&nbsp;</span>'Balance'</a></span></li><li><span><a href=\"#'Estimated_salary'\" data-toc-modified-id=\"'Estimated_salary'-1.5\"><span class=\"toc-item-num\">1.5&nbsp;&nbsp;</span>'Estimated_salary'</a></span></li></ul></li><li><span><a href=\"#Исследование-задачи\" data-toc-modified-id=\"Исследование-задачи-2\"><span class=\"toc-item-num\">2&nbsp;&nbsp;</span>Исследование задачи</a></span><ul class=\"toc-item\"><li><span><a href=\"#Баланс-классов\" data-toc-modified-id=\"Баланс-классов-2.1\"><span class=\"toc-item-num\">2.1&nbsp;&nbsp;</span>Баланс классов</a></span></li><li><span><a href=\"#Преобразование-переменных\" data-toc-modified-id=\"Преобразование-переменных-2.2\"><span class=\"toc-item-num\">2.2&nbsp;&nbsp;</span>Преобразование переменных</a></span></li><li><span><a href=\"#Проверка-моделей\" data-toc-modified-id=\"Проверка-моделей-2.3\"><span class=\"toc-item-num\">2.3&nbsp;&nbsp;</span>Проверка моделей</a></span><ul class=\"toc-item\"><li><span><a href=\"#LogisticRegression\" data-toc-modified-id=\"LogisticRegression-2.3.1\"><span class=\"toc-item-num\">2.3.1&nbsp;&nbsp;</span>LogisticRegression</a></span></li><li><span><a href=\"#DecisionTreeClassifier\" data-toc-modified-id=\"DecisionTreeClassifier-2.3.2\"><span class=\"toc-item-num\">2.3.2&nbsp;&nbsp;</span>DecisionTreeClassifier</a></span></li><li><span><a href=\"#RandomForestClassifier\" data-toc-modified-id=\"RandomForestClassifier-2.3.3\"><span class=\"toc-item-num\">2.3.3&nbsp;&nbsp;</span>RandomForestClassifier</a></span></li></ul></li></ul></li><li><span><a href=\"#Борьба-с-дисбалансом\" data-toc-modified-id=\"Борьба-с-дисбалансом-3\"><span class=\"toc-item-num\">3&nbsp;&nbsp;</span>Борьба с дисбалансом</a></span><ul class=\"toc-item\"><li><span><a href=\"#Взвешивание-классов\" data-toc-modified-id=\"Взвешивание-классов-3.1\"><span class=\"toc-item-num\">3.1&nbsp;&nbsp;</span>Взвешивание классов</a></span><ul class=\"toc-item\"><li><span><a href=\"#LogisticRegression\" data-toc-modified-id=\"LogisticRegression-3.1.1\"><span class=\"toc-item-num\">3.1.1&nbsp;&nbsp;</span>LogisticRegression</a></span></li><li><span><a href=\"#DecisionTreeClassifier\" data-toc-modified-id=\"DecisionTreeClassifier-3.1.2\"><span class=\"toc-item-num\">3.1.2&nbsp;&nbsp;</span>DecisionTreeClassifier</a></span></li><li><span><a href=\"#RandomForestClassifier\" data-toc-modified-id=\"RandomForestClassifier-3.1.3\"><span class=\"toc-item-num\">3.1.3&nbsp;&nbsp;</span>RandomForestClassifier</a></span></li></ul></li><li><span><a href=\"#Увеличение-выборки\" data-toc-modified-id=\"Увеличение-выборки-3.2\"><span class=\"toc-item-num\">3.2&nbsp;&nbsp;</span>Увеличение выборки</a></span><ul class=\"toc-item\"><li><span><a href=\"#LogisticRegression\" data-toc-modified-id=\"LogisticRegression-3.2.1\"><span class=\"toc-item-num\">3.2.1&nbsp;&nbsp;</span>LogisticRegression</a></span></li><li><span><a href=\"#DecisionTreeClassifier\" data-toc-modified-id=\"DecisionTreeClassifier-3.2.2\"><span class=\"toc-item-num\">3.2.2&nbsp;&nbsp;</span>DecisionTreeClassifier</a></span></li><li><span><a href=\"#RandomForestClassifier\" data-toc-modified-id=\"RandomForestClassifier-3.2.3\"><span class=\"toc-item-num\">3.2.3&nbsp;&nbsp;</span>RandomForestClassifier</a></span></li></ul></li><li><span><a href=\"#Уменьшение-выборки\" data-toc-modified-id=\"Уменьшение-выборки-3.3\"><span class=\"toc-item-num\">3.3&nbsp;&nbsp;</span>Уменьшение выборки</a></span><ul class=\"toc-item\"><li><span><a href=\"#LogisticRegression\" data-toc-modified-id=\"LogisticRegression-3.3.1\"><span class=\"toc-item-num\">3.3.1&nbsp;&nbsp;</span>LogisticRegression</a></span></li><li><span><a href=\"#DecisionTreeClassifier\" data-toc-modified-id=\"DecisionTreeClassifier-3.3.2\"><span class=\"toc-item-num\">3.3.2&nbsp;&nbsp;</span>DecisionTreeClassifier</a></span></li><li><span><a href=\"#RandomForestClassifier\" data-toc-modified-id=\"RandomForestClassifier-3.3.3\"><span class=\"toc-item-num\">3.3.3&nbsp;&nbsp;</span>RandomForestClassifier</a></span></li></ul></li></ul></li><li><span><a href=\"#Тестирование-модели\" data-toc-modified-id=\"Тестирование-модели-4\"><span class=\"toc-item-num\">4&nbsp;&nbsp;</span>Тестирование модели</a></span></li><li><span><a href=\"#Вывод\" data-toc-modified-id=\"Вывод-5\"><span class=\"toc-item-num\">5&nbsp;&nbsp;</span>Вывод</a></span></li></ul></div>"
   ]
  },
  {
   "cell_type": "markdown",
   "metadata": {},
   "source": [
    "# Отток клиентов"
   ]
  },
  {
   "cell_type": "markdown",
   "metadata": {},
   "source": [
    "Из «Бета-Банка» стали уходить клиенты. Каждый месяц. Немного, но заметно. Банковские маркетологи посчитали: сохранять текущих клиентов дешевле, чем привлекать новых.\n",
    "\n",
    "Нужно спрогнозировать, уйдёт клиент из банка в ближайшее время или нет. Имеются исторические данные о поведении клиентов и расторжении договоров с банком. \n",
    "\n",
    "Необходимо построить модель с предельно большим значением *F1*-меры. Чтобы сдать проект успешно, нужно довести метрику *F1* на тестовой выборке до 0.59. "
   ]
  },
  {
   "cell_type": "markdown",
   "metadata": {},
   "source": [
    "## Подготовка данных"
   ]
  },
  {
   "cell_type": "markdown",
   "metadata": {},
   "source": [
    "### Общая информация"
   ]
  },
  {
   "cell_type": "code",
   "execution_count": 1,
   "metadata": {},
   "outputs": [],
   "source": [
    "import pandas as pd\n",
    "import numpy as np\n",
    "from sklearn.model_selection import train_test_split\n",
    "from sklearn.preprocessing import StandardScaler\n",
    "from sklearn.metrics import f1_score, roc_auc_score, accuracy_score, roc_curve\n",
    "from sklearn.ensemble import RandomForestClassifier\n",
    "from sklearn.linear_model import LogisticRegression\n",
    "from sklearn.utils import shuffle\n",
    "from sklearn.tree import DecisionTreeClassifier\n",
    "import matplotlib.pyplot as plt"
   ]
  },
  {
   "cell_type": "code",
   "execution_count": 2,
   "metadata": {},
   "outputs": [],
   "source": [
    "import warnings\n",
    "warnings.filterwarnings('ignore')"
   ]
  },
  {
   "cell_type": "code",
   "execution_count": 3,
   "metadata": {},
   "outputs": [],
   "source": [
    "data = pd.read_csv('/datasets/Churn.csv')"
   ]
  },
  {
   "cell_type": "code",
   "execution_count": 4,
   "metadata": {
    "scrolled": false
   },
   "outputs": [
    {
     "name": "stdout",
     "output_type": "stream",
     "text": [
      "<class 'pandas.core.frame.DataFrame'>\n",
      "RangeIndex: 10000 entries, 0 to 9999\n",
      "Data columns (total 14 columns):\n",
      " #   Column           Non-Null Count  Dtype  \n",
      "---  ------           --------------  -----  \n",
      " 0   RowNumber        10000 non-null  int64  \n",
      " 1   CustomerId       10000 non-null  int64  \n",
      " 2   Surname          10000 non-null  object \n",
      " 3   CreditScore      10000 non-null  int64  \n",
      " 4   Geography        10000 non-null  object \n",
      " 5   Gender           10000 non-null  object \n",
      " 6   Age              10000 non-null  int64  \n",
      " 7   Tenure           9091 non-null   float64\n",
      " 8   Balance          10000 non-null  float64\n",
      " 9   NumOfProducts    10000 non-null  int64  \n",
      " 10  HasCrCard        10000 non-null  int64  \n",
      " 11  IsActiveMember   10000 non-null  int64  \n",
      " 12  EstimatedSalary  10000 non-null  float64\n",
      " 13  Exited           10000 non-null  int64  \n",
      "dtypes: float64(3), int64(8), object(3)\n",
      "memory usage: 1.1+ MB\n"
     ]
    }
   ],
   "source": [
    "data.info()"
   ]
  },
  {
   "cell_type": "code",
   "execution_count": 5,
   "metadata": {
    "scrolled": false
   },
   "outputs": [
    {
     "data": {
      "text/html": [
       "<div>\n",
       "<style scoped>\n",
       "    .dataframe tbody tr th:only-of-type {\n",
       "        vertical-align: middle;\n",
       "    }\n",
       "\n",
       "    .dataframe tbody tr th {\n",
       "        vertical-align: top;\n",
       "    }\n",
       "\n",
       "    .dataframe thead th {\n",
       "        text-align: right;\n",
       "    }\n",
       "</style>\n",
       "<table border=\"1\" class=\"dataframe\">\n",
       "  <thead>\n",
       "    <tr style=\"text-align: right;\">\n",
       "      <th></th>\n",
       "      <th>RowNumber</th>\n",
       "      <th>CustomerId</th>\n",
       "      <th>Surname</th>\n",
       "      <th>CreditScore</th>\n",
       "      <th>Geography</th>\n",
       "      <th>Gender</th>\n",
       "      <th>Age</th>\n",
       "      <th>Tenure</th>\n",
       "      <th>Balance</th>\n",
       "      <th>NumOfProducts</th>\n",
       "      <th>HasCrCard</th>\n",
       "      <th>IsActiveMember</th>\n",
       "      <th>EstimatedSalary</th>\n",
       "      <th>Exited</th>\n",
       "    </tr>\n",
       "  </thead>\n",
       "  <tbody>\n",
       "    <tr>\n",
       "      <th>0</th>\n",
       "      <td>1</td>\n",
       "      <td>15634602</td>\n",
       "      <td>Hargrave</td>\n",
       "      <td>619</td>\n",
       "      <td>France</td>\n",
       "      <td>Female</td>\n",
       "      <td>42</td>\n",
       "      <td>2.0</td>\n",
       "      <td>0.00</td>\n",
       "      <td>1</td>\n",
       "      <td>1</td>\n",
       "      <td>1</td>\n",
       "      <td>101348.88</td>\n",
       "      <td>1</td>\n",
       "    </tr>\n",
       "    <tr>\n",
       "      <th>1</th>\n",
       "      <td>2</td>\n",
       "      <td>15647311</td>\n",
       "      <td>Hill</td>\n",
       "      <td>608</td>\n",
       "      <td>Spain</td>\n",
       "      <td>Female</td>\n",
       "      <td>41</td>\n",
       "      <td>1.0</td>\n",
       "      <td>83807.86</td>\n",
       "      <td>1</td>\n",
       "      <td>0</td>\n",
       "      <td>1</td>\n",
       "      <td>112542.58</td>\n",
       "      <td>0</td>\n",
       "    </tr>\n",
       "    <tr>\n",
       "      <th>2</th>\n",
       "      <td>3</td>\n",
       "      <td>15619304</td>\n",
       "      <td>Onio</td>\n",
       "      <td>502</td>\n",
       "      <td>France</td>\n",
       "      <td>Female</td>\n",
       "      <td>42</td>\n",
       "      <td>8.0</td>\n",
       "      <td>159660.80</td>\n",
       "      <td>3</td>\n",
       "      <td>1</td>\n",
       "      <td>0</td>\n",
       "      <td>113931.57</td>\n",
       "      <td>1</td>\n",
       "    </tr>\n",
       "    <tr>\n",
       "      <th>3</th>\n",
       "      <td>4</td>\n",
       "      <td>15701354</td>\n",
       "      <td>Boni</td>\n",
       "      <td>699</td>\n",
       "      <td>France</td>\n",
       "      <td>Female</td>\n",
       "      <td>39</td>\n",
       "      <td>1.0</td>\n",
       "      <td>0.00</td>\n",
       "      <td>2</td>\n",
       "      <td>0</td>\n",
       "      <td>0</td>\n",
       "      <td>93826.63</td>\n",
       "      <td>0</td>\n",
       "    </tr>\n",
       "    <tr>\n",
       "      <th>4</th>\n",
       "      <td>5</td>\n",
       "      <td>15737888</td>\n",
       "      <td>Mitchell</td>\n",
       "      <td>850</td>\n",
       "      <td>Spain</td>\n",
       "      <td>Female</td>\n",
       "      <td>43</td>\n",
       "      <td>2.0</td>\n",
       "      <td>125510.82</td>\n",
       "      <td>1</td>\n",
       "      <td>1</td>\n",
       "      <td>1</td>\n",
       "      <td>79084.10</td>\n",
       "      <td>0</td>\n",
       "    </tr>\n",
       "  </tbody>\n",
       "</table>\n",
       "</div>"
      ],
      "text/plain": [
       "   RowNumber  CustomerId   Surname  CreditScore Geography  Gender  Age  \\\n",
       "0          1    15634602  Hargrave          619    France  Female   42   \n",
       "1          2    15647311      Hill          608     Spain  Female   41   \n",
       "2          3    15619304      Onio          502    France  Female   42   \n",
       "3          4    15701354      Boni          699    France  Female   39   \n",
       "4          5    15737888  Mitchell          850     Spain  Female   43   \n",
       "\n",
       "   Tenure    Balance  NumOfProducts  HasCrCard  IsActiveMember  \\\n",
       "0     2.0       0.00              1          1               1   \n",
       "1     1.0   83807.86              1          0               1   \n",
       "2     8.0  159660.80              3          1               0   \n",
       "3     1.0       0.00              2          0               0   \n",
       "4     2.0  125510.82              1          1               1   \n",
       "\n",
       "   EstimatedSalary  Exited  \n",
       "0        101348.88       1  \n",
       "1        112542.58       0  \n",
       "2        113931.57       1  \n",
       "3         93826.63       0  \n",
       "4         79084.10       0  "
      ]
     },
     "execution_count": 5,
     "metadata": {},
     "output_type": "execute_result"
    }
   ],
   "source": [
    "data.head()"
   ]
  },
  {
   "cell_type": "markdown",
   "metadata": {},
   "source": [
    "### Удаление лишних признаков и форматирование названия столбцов"
   ]
  },
  {
   "cell_type": "markdown",
   "metadata": {},
   "source": [
    "Можно сразу отметить, что признаки RowNumber, CustomerId и Surname не нужны в обучающей выборке, так как не несут в себе информацию о человеке как о клиента банка. Удалим их"
   ]
  },
  {
   "cell_type": "code",
   "execution_count": 6,
   "metadata": {},
   "outputs": [],
   "source": [
    "data = data.drop(['RowNumber', 'CustomerId', 'Surname'], axis=1)"
   ]
  },
  {
   "cell_type": "markdown",
   "metadata": {},
   "source": [
    "Заменим название столбцов на удобные для дальнейшей работы - заменим на нижний регист и добавим нижнее подчеркивание между словами"
   ]
  },
  {
   "cell_type": "code",
   "execution_count": 7,
   "metadata": {},
   "outputs": [],
   "source": [
    "data.columns = data.columns.str.lower()"
   ]
  },
  {
   "cell_type": "code",
   "execution_count": 8,
   "metadata": {
    "scrolled": true
   },
   "outputs": [
    {
     "data": {
      "text/plain": [
       "Index(['creditscore', 'geography', 'gender', 'age', 'tenure', 'balance',\n",
       "       'numofproducts', 'hascrcard', 'isactivemember', 'estimatedsalary',\n",
       "       'exited'],\n",
       "      dtype='object')"
      ]
     },
     "execution_count": 8,
     "metadata": {},
     "output_type": "execute_result"
    }
   ],
   "source": [
    "data.columns"
   ]
  },
  {
   "cell_type": "code",
   "execution_count": 9,
   "metadata": {},
   "outputs": [],
   "source": [
    "data.columns = ['credit_score', 'geography',\n",
    "       'gender', 'age', 'tenure', 'balance', 'num_of_products', 'has_cr_card',\n",
    "       'is_active_member', 'estimated_salary', 'exited']"
   ]
  },
  {
   "cell_type": "code",
   "execution_count": 10,
   "metadata": {
    "scrolled": false
   },
   "outputs": [
    {
     "data": {
      "text/html": [
       "<div>\n",
       "<style scoped>\n",
       "    .dataframe tbody tr th:only-of-type {\n",
       "        vertical-align: middle;\n",
       "    }\n",
       "\n",
       "    .dataframe tbody tr th {\n",
       "        vertical-align: top;\n",
       "    }\n",
       "\n",
       "    .dataframe thead th {\n",
       "        text-align: right;\n",
       "    }\n",
       "</style>\n",
       "<table border=\"1\" class=\"dataframe\">\n",
       "  <thead>\n",
       "    <tr style=\"text-align: right;\">\n",
       "      <th></th>\n",
       "      <th>credit_score</th>\n",
       "      <th>geography</th>\n",
       "      <th>gender</th>\n",
       "      <th>age</th>\n",
       "      <th>tenure</th>\n",
       "      <th>balance</th>\n",
       "      <th>num_of_products</th>\n",
       "      <th>has_cr_card</th>\n",
       "      <th>is_active_member</th>\n",
       "      <th>estimated_salary</th>\n",
       "      <th>exited</th>\n",
       "    </tr>\n",
       "  </thead>\n",
       "  <tbody>\n",
       "    <tr>\n",
       "      <th>0</th>\n",
       "      <td>619</td>\n",
       "      <td>France</td>\n",
       "      <td>Female</td>\n",
       "      <td>42</td>\n",
       "      <td>2.0</td>\n",
       "      <td>0.00</td>\n",
       "      <td>1</td>\n",
       "      <td>1</td>\n",
       "      <td>1</td>\n",
       "      <td>101348.88</td>\n",
       "      <td>1</td>\n",
       "    </tr>\n",
       "    <tr>\n",
       "      <th>1</th>\n",
       "      <td>608</td>\n",
       "      <td>Spain</td>\n",
       "      <td>Female</td>\n",
       "      <td>41</td>\n",
       "      <td>1.0</td>\n",
       "      <td>83807.86</td>\n",
       "      <td>1</td>\n",
       "      <td>0</td>\n",
       "      <td>1</td>\n",
       "      <td>112542.58</td>\n",
       "      <td>0</td>\n",
       "    </tr>\n",
       "    <tr>\n",
       "      <th>2</th>\n",
       "      <td>502</td>\n",
       "      <td>France</td>\n",
       "      <td>Female</td>\n",
       "      <td>42</td>\n",
       "      <td>8.0</td>\n",
       "      <td>159660.80</td>\n",
       "      <td>3</td>\n",
       "      <td>1</td>\n",
       "      <td>0</td>\n",
       "      <td>113931.57</td>\n",
       "      <td>1</td>\n",
       "    </tr>\n",
       "    <tr>\n",
       "      <th>3</th>\n",
       "      <td>699</td>\n",
       "      <td>France</td>\n",
       "      <td>Female</td>\n",
       "      <td>39</td>\n",
       "      <td>1.0</td>\n",
       "      <td>0.00</td>\n",
       "      <td>2</td>\n",
       "      <td>0</td>\n",
       "      <td>0</td>\n",
       "      <td>93826.63</td>\n",
       "      <td>0</td>\n",
       "    </tr>\n",
       "    <tr>\n",
       "      <th>4</th>\n",
       "      <td>850</td>\n",
       "      <td>Spain</td>\n",
       "      <td>Female</td>\n",
       "      <td>43</td>\n",
       "      <td>2.0</td>\n",
       "      <td>125510.82</td>\n",
       "      <td>1</td>\n",
       "      <td>1</td>\n",
       "      <td>1</td>\n",
       "      <td>79084.10</td>\n",
       "      <td>0</td>\n",
       "    </tr>\n",
       "    <tr>\n",
       "      <th>...</th>\n",
       "      <td>...</td>\n",
       "      <td>...</td>\n",
       "      <td>...</td>\n",
       "      <td>...</td>\n",
       "      <td>...</td>\n",
       "      <td>...</td>\n",
       "      <td>...</td>\n",
       "      <td>...</td>\n",
       "      <td>...</td>\n",
       "      <td>...</td>\n",
       "      <td>...</td>\n",
       "    </tr>\n",
       "    <tr>\n",
       "      <th>9995</th>\n",
       "      <td>771</td>\n",
       "      <td>France</td>\n",
       "      <td>Male</td>\n",
       "      <td>39</td>\n",
       "      <td>5.0</td>\n",
       "      <td>0.00</td>\n",
       "      <td>2</td>\n",
       "      <td>1</td>\n",
       "      <td>0</td>\n",
       "      <td>96270.64</td>\n",
       "      <td>0</td>\n",
       "    </tr>\n",
       "    <tr>\n",
       "      <th>9996</th>\n",
       "      <td>516</td>\n",
       "      <td>France</td>\n",
       "      <td>Male</td>\n",
       "      <td>35</td>\n",
       "      <td>10.0</td>\n",
       "      <td>57369.61</td>\n",
       "      <td>1</td>\n",
       "      <td>1</td>\n",
       "      <td>1</td>\n",
       "      <td>101699.77</td>\n",
       "      <td>0</td>\n",
       "    </tr>\n",
       "    <tr>\n",
       "      <th>9997</th>\n",
       "      <td>709</td>\n",
       "      <td>France</td>\n",
       "      <td>Female</td>\n",
       "      <td>36</td>\n",
       "      <td>7.0</td>\n",
       "      <td>0.00</td>\n",
       "      <td>1</td>\n",
       "      <td>0</td>\n",
       "      <td>1</td>\n",
       "      <td>42085.58</td>\n",
       "      <td>1</td>\n",
       "    </tr>\n",
       "    <tr>\n",
       "      <th>9998</th>\n",
       "      <td>772</td>\n",
       "      <td>Germany</td>\n",
       "      <td>Male</td>\n",
       "      <td>42</td>\n",
       "      <td>3.0</td>\n",
       "      <td>75075.31</td>\n",
       "      <td>2</td>\n",
       "      <td>1</td>\n",
       "      <td>0</td>\n",
       "      <td>92888.52</td>\n",
       "      <td>1</td>\n",
       "    </tr>\n",
       "    <tr>\n",
       "      <th>9999</th>\n",
       "      <td>792</td>\n",
       "      <td>France</td>\n",
       "      <td>Female</td>\n",
       "      <td>28</td>\n",
       "      <td>NaN</td>\n",
       "      <td>130142.79</td>\n",
       "      <td>1</td>\n",
       "      <td>1</td>\n",
       "      <td>0</td>\n",
       "      <td>38190.78</td>\n",
       "      <td>0</td>\n",
       "    </tr>\n",
       "  </tbody>\n",
       "</table>\n",
       "<p>10000 rows × 11 columns</p>\n",
       "</div>"
      ],
      "text/plain": [
       "      credit_score geography  gender  age  tenure    balance  num_of_products  \\\n",
       "0              619    France  Female   42     2.0       0.00                1   \n",
       "1              608     Spain  Female   41     1.0   83807.86                1   \n",
       "2              502    France  Female   42     8.0  159660.80                3   \n",
       "3              699    France  Female   39     1.0       0.00                2   \n",
       "4              850     Spain  Female   43     2.0  125510.82                1   \n",
       "...            ...       ...     ...  ...     ...        ...              ...   \n",
       "9995           771    France    Male   39     5.0       0.00                2   \n",
       "9996           516    France    Male   35    10.0   57369.61                1   \n",
       "9997           709    France  Female   36     7.0       0.00                1   \n",
       "9998           772   Germany    Male   42     3.0   75075.31                2   \n",
       "9999           792    France  Female   28     NaN  130142.79                1   \n",
       "\n",
       "      has_cr_card  is_active_member  estimated_salary  exited  \n",
       "0               1                 1         101348.88       1  \n",
       "1               0                 1         112542.58       0  \n",
       "2               1                 0         113931.57       1  \n",
       "3               0                 0          93826.63       0  \n",
       "4               1                 1          79084.10       0  \n",
       "...           ...               ...               ...     ...  \n",
       "9995            1                 0          96270.64       0  \n",
       "9996            1                 1         101699.77       0  \n",
       "9997            0                 1          42085.58       1  \n",
       "9998            1                 0          92888.52       1  \n",
       "9999            1                 0          38190.78       0  \n",
       "\n",
       "[10000 rows x 11 columns]"
      ]
     },
     "execution_count": 10,
     "metadata": {},
     "output_type": "execute_result"
    }
   ],
   "source": [
    "data"
   ]
  },
  {
   "cell_type": "markdown",
   "metadata": {},
   "source": [
    "### 'Tenure'"
   ]
  },
  {
   "cell_type": "markdown",
   "metadata": {},
   "source": [
    "Рассмотрим столбец 'tenure'"
   ]
  },
  {
   "cell_type": "code",
   "execution_count": 11,
   "metadata": {},
   "outputs": [
    {
     "data": {
      "text/plain": [
       "1.0     952\n",
       "2.0     950\n",
       "8.0     933\n",
       "3.0     928\n",
       "5.0     927\n",
       "7.0     925\n",
       "4.0     885\n",
       "9.0     882\n",
       "6.0     881\n",
       "10.0    446\n",
       "0.0     382\n",
       "Name: tenure, dtype: int64"
      ]
     },
     "execution_count": 11,
     "metadata": {},
     "output_type": "execute_result"
    }
   ],
   "source": [
    "data['tenure'].value_counts()"
   ]
  },
  {
   "cell_type": "markdown",
   "metadata": {},
   "source": [
    "В столбце только целые числа от 0 до 10. Заменим тип данных на целочисленный. Для этого сперва заменим пропуски на -1"
   ]
  },
  {
   "cell_type": "code",
   "execution_count": 12,
   "metadata": {},
   "outputs": [],
   "source": [
    "data['tenure'] = data['tenure'].fillna(-1)"
   ]
  },
  {
   "cell_type": "code",
   "execution_count": 13,
   "metadata": {},
   "outputs": [],
   "source": [
    "data['tenure'] = data['tenure'].astype(int)"
   ]
  },
  {
   "cell_type": "markdown",
   "metadata": {},
   "source": [
    "### 'Balance'"
   ]
  },
  {
   "cell_type": "markdown",
   "metadata": {},
   "source": [
    "Рассмотрим столбец 'balance'"
   ]
  },
  {
   "cell_type": "code",
   "execution_count": 14,
   "metadata": {},
   "outputs": [
    {
     "data": {
      "text/plain": [
       "<AxesSubplot:>"
      ]
     },
     "execution_count": 14,
     "metadata": {},
     "output_type": "execute_result"
    },
    {
     "data": {
      "image/png": "[encoded data removed]",
      "text/plain": [
       "<Figure size 432x288 with 1 Axes>"
      ]
     },
     "metadata": {
      "needs_background": "light"
     },
     "output_type": "display_data"
    }
   ],
   "source": [
    "data.query('balance != 0')['balance'].hist()"
   ]
  },
  {
   "cell_type": "markdown",
   "metadata": {},
   "source": [
    "Если не учитывать нули, то большая часть столбца заполнена пяти- и шестизначными суммами. Округлим значения до целого и переведем в целочисленный тип данных."
   ]
  },
  {
   "cell_type": "code",
   "execution_count": 15,
   "metadata": {},
   "outputs": [],
   "source": [
    "data['balance'] = data['balance'].round().astype(int)"
   ]
  },
  {
   "cell_type": "markdown",
   "metadata": {},
   "source": [
    "### 'Estimated_salary'"
   ]
  },
  {
   "cell_type": "markdown",
   "metadata": {},
   "source": [
    "Рассмотрим столбец 'estimated_salary'"
   ]
  },
  {
   "cell_type": "code",
   "execution_count": 16,
   "metadata": {},
   "outputs": [
    {
     "data": {
      "text/plain": [
       "<AxesSubplot:>"
      ]
     },
     "execution_count": 16,
     "metadata": {},
     "output_type": "execute_result"
    },
    {
     "data": {
      "image/png": "[encoded data removed]",
      "text/plain": [
       "<Figure size 432x288 with 1 Axes>"
      ]
     },
     "metadata": {
      "needs_background": "light"
     },
     "output_type": "display_data"
    }
   ],
   "source": [
    "data['estimated_salary'].hist()"
   ]
  },
  {
   "cell_type": "markdown",
   "metadata": {},
   "source": [
    "Основная часть данных представлена десятками и сотнями тысяч. Округлим и заменим тип данных на целочисленные, как мы сделали это с 'balance'"
   ]
  },
  {
   "cell_type": "code",
   "execution_count": 17,
   "metadata": {},
   "outputs": [],
   "source": [
    "data['estimated_salary'] = data['estimated_salary'].round().astype(int)"
   ]
  },
  {
   "cell_type": "code",
   "execution_count": 18,
   "metadata": {},
   "outputs": [
    {
     "name": "stdout",
     "output_type": "stream",
     "text": [
      "<class 'pandas.core.frame.DataFrame'>\n",
      "RangeIndex: 10000 entries, 0 to 9999\n",
      "Data columns (total 11 columns):\n",
      " #   Column            Non-Null Count  Dtype \n",
      "---  ------            --------------  ----- \n",
      " 0   credit_score      10000 non-null  int64 \n",
      " 1   geography         10000 non-null  object\n",
      " 2   gender            10000 non-null  object\n",
      " 3   age               10000 non-null  int64 \n",
      " 4   tenure            10000 non-null  int64 \n",
      " 5   balance           10000 non-null  int64 \n",
      " 6   num_of_products   10000 non-null  int64 \n",
      " 7   has_cr_card       10000 non-null  int64 \n",
      " 8   is_active_member  10000 non-null  int64 \n",
      " 9   estimated_salary  10000 non-null  int64 \n",
      " 10  exited            10000 non-null  int64 \n",
      "dtypes: int64(9), object(2)\n",
      "memory usage: 859.5+ KB\n"
     ]
    }
   ],
   "source": [
    "data.info()"
   ]
  },
  {
   "cell_type": "markdown",
   "metadata": {},
   "source": [
    "**Данные готовы к дальнейшей работе**"
   ]
  },
  {
   "cell_type": "markdown",
   "metadata": {},
   "source": [
    "## Исследование задачи"
   ]
  },
  {
   "cell_type": "markdown",
   "metadata": {},
   "source": [
    "### Баланс классов"
   ]
  },
  {
   "cell_type": "markdown",
   "metadata": {},
   "source": [
    "Изучим баланс классов"
   ]
  },
  {
   "cell_type": "code",
   "execution_count": 19,
   "metadata": {},
   "outputs": [
    {
     "data": {
      "text/plain": [
       "0    0.7963\n",
       "1    0.2037\n",
       "Name: exited, dtype: float64"
      ]
     },
     "execution_count": 19,
     "metadata": {},
     "output_type": "execute_result"
    }
   ],
   "source": [
    "data['exited'].value_counts(normalize=True)"
   ]
  },
  {
   "cell_type": "markdown",
   "metadata": {},
   "source": [
    "Доля объектов положительного класса составляет всего 20%. "
   ]
  },
  {
   "cell_type": "markdown",
   "metadata": {},
   "source": [
    "### Преобразование переменных"
   ]
  },
  {
   "cell_type": "markdown",
   "metadata": {},
   "source": [
    "Преобразуем категориальные переменные в численные методом OHE"
   ]
  },
  {
   "cell_type": "code",
   "execution_count": 20,
   "metadata": {},
   "outputs": [],
   "source": [
    "data_ohe = pd.get_dummies(data, drop_first=True)"
   ]
  },
  {
   "cell_type": "code",
   "execution_count": 21,
   "metadata": {},
   "outputs": [
    {
     "data": {
      "text/html": [
       "<div>\n",
       "<style scoped>\n",
       "    .dataframe tbody tr th:only-of-type {\n",
       "        vertical-align: middle;\n",
       "    }\n",
       "\n",
       "    .dataframe tbody tr th {\n",
       "        vertical-align: top;\n",
       "    }\n",
       "\n",
       "    .dataframe thead th {\n",
       "        text-align: right;\n",
       "    }\n",
       "</style>\n",
       "<table border=\"1\" class=\"dataframe\">\n",
       "  <thead>\n",
       "    <tr style=\"text-align: right;\">\n",
       "      <th></th>\n",
       "      <th>credit_score</th>\n",
       "      <th>age</th>\n",
       "      <th>tenure</th>\n",
       "      <th>balance</th>\n",
       "      <th>num_of_products</th>\n",
       "      <th>has_cr_card</th>\n",
       "      <th>is_active_member</th>\n",
       "      <th>estimated_salary</th>\n",
       "      <th>exited</th>\n",
       "      <th>geography_Germany</th>\n",
       "      <th>geography_Spain</th>\n",
       "      <th>gender_Male</th>\n",
       "    </tr>\n",
       "  </thead>\n",
       "  <tbody>\n",
       "    <tr>\n",
       "      <th>0</th>\n",
       "      <td>619</td>\n",
       "      <td>42</td>\n",
       "      <td>2</td>\n",
       "      <td>0</td>\n",
       "      <td>1</td>\n",
       "      <td>1</td>\n",
       "      <td>1</td>\n",
       "      <td>101349</td>\n",
       "      <td>1</td>\n",
       "      <td>0</td>\n",
       "      <td>0</td>\n",
       "      <td>0</td>\n",
       "    </tr>\n",
       "    <tr>\n",
       "      <th>1</th>\n",
       "      <td>608</td>\n",
       "      <td>41</td>\n",
       "      <td>1</td>\n",
       "      <td>83808</td>\n",
       "      <td>1</td>\n",
       "      <td>0</td>\n",
       "      <td>1</td>\n",
       "      <td>112543</td>\n",
       "      <td>0</td>\n",
       "      <td>0</td>\n",
       "      <td>1</td>\n",
       "      <td>0</td>\n",
       "    </tr>\n",
       "    <tr>\n",
       "      <th>2</th>\n",
       "      <td>502</td>\n",
       "      <td>42</td>\n",
       "      <td>8</td>\n",
       "      <td>159661</td>\n",
       "      <td>3</td>\n",
       "      <td>1</td>\n",
       "      <td>0</td>\n",
       "      <td>113932</td>\n",
       "      <td>1</td>\n",
       "      <td>0</td>\n",
       "      <td>0</td>\n",
       "      <td>0</td>\n",
       "    </tr>\n",
       "    <tr>\n",
       "      <th>3</th>\n",
       "      <td>699</td>\n",
       "      <td>39</td>\n",
       "      <td>1</td>\n",
       "      <td>0</td>\n",
       "      <td>2</td>\n",
       "      <td>0</td>\n",
       "      <td>0</td>\n",
       "      <td>93827</td>\n",
       "      <td>0</td>\n",
       "      <td>0</td>\n",
       "      <td>0</td>\n",
       "      <td>0</td>\n",
       "    </tr>\n",
       "    <tr>\n",
       "      <th>4</th>\n",
       "      <td>850</td>\n",
       "      <td>43</td>\n",
       "      <td>2</td>\n",
       "      <td>125511</td>\n",
       "      <td>1</td>\n",
       "      <td>1</td>\n",
       "      <td>1</td>\n",
       "      <td>79084</td>\n",
       "      <td>0</td>\n",
       "      <td>0</td>\n",
       "      <td>1</td>\n",
       "      <td>0</td>\n",
       "    </tr>\n",
       "    <tr>\n",
       "      <th>...</th>\n",
       "      <td>...</td>\n",
       "      <td>...</td>\n",
       "      <td>...</td>\n",
       "      <td>...</td>\n",
       "      <td>...</td>\n",
       "      <td>...</td>\n",
       "      <td>...</td>\n",
       "      <td>...</td>\n",
       "      <td>...</td>\n",
       "      <td>...</td>\n",
       "      <td>...</td>\n",
       "      <td>...</td>\n",
       "    </tr>\n",
       "    <tr>\n",
       "      <th>9995</th>\n",
       "      <td>771</td>\n",
       "      <td>39</td>\n",
       "      <td>5</td>\n",
       "      <td>0</td>\n",
       "      <td>2</td>\n",
       "      <td>1</td>\n",
       "      <td>0</td>\n",
       "      <td>96271</td>\n",
       "      <td>0</td>\n",
       "      <td>0</td>\n",
       "      <td>0</td>\n",
       "      <td>1</td>\n",
       "    </tr>\n",
       "    <tr>\n",
       "      <th>9996</th>\n",
       "      <td>516</td>\n",
       "      <td>35</td>\n",
       "      <td>10</td>\n",
       "      <td>57370</td>\n",
       "      <td>1</td>\n",
       "      <td>1</td>\n",
       "      <td>1</td>\n",
       "      <td>101700</td>\n",
       "      <td>0</td>\n",
       "      <td>0</td>\n",
       "      <td>0</td>\n",
       "      <td>1</td>\n",
       "    </tr>\n",
       "    <tr>\n",
       "      <th>9997</th>\n",
       "      <td>709</td>\n",
       "      <td>36</td>\n",
       "      <td>7</td>\n",
       "      <td>0</td>\n",
       "      <td>1</td>\n",
       "      <td>0</td>\n",
       "      <td>1</td>\n",
       "      <td>42086</td>\n",
       "      <td>1</td>\n",
       "      <td>0</td>\n",
       "      <td>0</td>\n",
       "      <td>0</td>\n",
       "    </tr>\n",
       "    <tr>\n",
       "      <th>9998</th>\n",
       "      <td>772</td>\n",
       "      <td>42</td>\n",
       "      <td>3</td>\n",
       "      <td>75075</td>\n",
       "      <td>2</td>\n",
       "      <td>1</td>\n",
       "      <td>0</td>\n",
       "      <td>92889</td>\n",
       "      <td>1</td>\n",
       "      <td>1</td>\n",
       "      <td>0</td>\n",
       "      <td>1</td>\n",
       "    </tr>\n",
       "    <tr>\n",
       "      <th>9999</th>\n",
       "      <td>792</td>\n",
       "      <td>28</td>\n",
       "      <td>-1</td>\n",
       "      <td>130143</td>\n",
       "      <td>1</td>\n",
       "      <td>1</td>\n",
       "      <td>0</td>\n",
       "      <td>38191</td>\n",
       "      <td>0</td>\n",
       "      <td>0</td>\n",
       "      <td>0</td>\n",
       "      <td>0</td>\n",
       "    </tr>\n",
       "  </tbody>\n",
       "</table>\n",
       "<p>10000 rows × 12 columns</p>\n",
       "</div>"
      ],
      "text/plain": [
       "      credit_score  age  tenure  balance  num_of_products  has_cr_card  \\\n",
       "0              619   42       2        0                1            1   \n",
       "1              608   41       1    83808                1            0   \n",
       "2              502   42       8   159661                3            1   \n",
       "3              699   39       1        0                2            0   \n",
       "4              850   43       2   125511                1            1   \n",
       "...            ...  ...     ...      ...              ...          ...   \n",
       "9995           771   39       5        0                2            1   \n",
       "9996           516   35      10    57370                1            1   \n",
       "9997           709   36       7        0                1            0   \n",
       "9998           772   42       3    75075                2            1   \n",
       "9999           792   28      -1   130143                1            1   \n",
       "\n",
       "      is_active_member  estimated_salary  exited  geography_Germany  \\\n",
       "0                    1            101349       1                  0   \n",
       "1                    1            112543       0                  0   \n",
       "2                    0            113932       1                  0   \n",
       "3                    0             93827       0                  0   \n",
       "4                    1             79084       0                  0   \n",
       "...                ...               ...     ...                ...   \n",
       "9995                 0             96271       0                  0   \n",
       "9996                 1            101700       0                  0   \n",
       "9997                 1             42086       1                  0   \n",
       "9998                 0             92889       1                  1   \n",
       "9999                 0             38191       0                  0   \n",
       "\n",
       "      geography_Spain  gender_Male  \n",
       "0                   0            0  \n",
       "1                   1            0  \n",
       "2                   0            0  \n",
       "3                   0            0  \n",
       "4                   1            0  \n",
       "...               ...          ...  \n",
       "9995                0            1  \n",
       "9996                0            1  \n",
       "9997                0            0  \n",
       "9998                0            1  \n",
       "9999                0            0  \n",
       "\n",
       "[10000 rows x 12 columns]"
      ]
     },
     "execution_count": 21,
     "metadata": {},
     "output_type": "execute_result"
    }
   ],
   "source": [
    "data_ohe"
   ]
  },
  {
   "cell_type": "markdown",
   "metadata": {},
   "source": [
    "Поделим датафрейм на обучающую, валидационную и тестовую выборки в соотношении 3:1:1"
   ]
  },
  {
   "cell_type": "code",
   "execution_count": 22,
   "metadata": {},
   "outputs": [],
   "source": [
    "features = data_ohe.drop(['exited'], axis=1)\n",
    "target = data_ohe['exited']\n",
    "\n",
    "features_train, features_tempor, target_train, target_tempor = train_test_split(features, target, train_size=0.6, random_state=12345)\n",
    "features_valid, features_test, target_valid, target_test = train_test_split(features_tempor, target_tempor, train_size=0.5, random_state=13245)"
   ]
  },
  {
   "cell_type": "markdown",
   "metadata": {},
   "source": [
    "Масштабируем численные признаки"
   ]
  },
  {
   "cell_type": "code",
   "execution_count": 23,
   "metadata": {},
   "outputs": [],
   "source": [
    "numeric = ['credit_score', 'age', 'tenure', 'balance', 'num_of_products', 'estimated_salary']\n",
    "scaler = StandardScaler()\n",
    "scaler.fit(features_train[numeric])\n",
    "pd.options.mode.chained_assignment = None\n",
    "features_train[numeric] = scaler.transform(features_train[numeric])\n",
    "features_valid[numeric] = scaler.transform(features_valid[numeric])\n",
    "features_test[numeric] = scaler.transform(features_test[numeric])"
   ]
  },
  {
   "cell_type": "markdown",
   "metadata": {},
   "source": [
    "### Проверка моделей"
   ]
  },
  {
   "cell_type": "markdown",
   "metadata": {},
   "source": [
    "Проверим работу разных моделей на несбалансированной выборке"
   ]
  },
  {
   "cell_type": "markdown",
   "metadata": {},
   "source": [
    "#### LogisticRegression"
   ]
  },
  {
   "cell_type": "code",
   "execution_count": 24,
   "metadata": {},
   "outputs": [
    {
     "name": "stdout",
     "output_type": "stream",
     "text": [
      "F1-мера: 0.3054187192118227. AUC-ROC: 0.7532373650764561\n"
     ]
    }
   ],
   "source": [
    "model = LogisticRegression(random_state=12345, solver='liblinear')\n",
    "model.fit(features_train, target_train)\n",
    "predicted_valid = model.predict(features_valid)\n",
    "f1 = f1_score(target_valid, predicted_valid)\n",
    "probabilities_valid = model.predict_proba(features_valid)\n",
    "probabilities_one_valid = probabilities_valid[:, 1]\n",
    "auc_roc = roc_auc_score(target_valid, probabilities_one_valid)\n",
    "print('F1-мера: {}. AUC-ROC: {}'.format(f1, auc_roc))"
   ]
  },
  {
   "cell_type": "markdown",
   "metadata": {},
   "source": [
    "Результат слабый"
   ]
  },
  {
   "cell_type": "markdown",
   "metadata": {},
   "source": [
    "#### DecisionTreeClassifier"
   ]
  },
  {
   "cell_type": "code",
   "execution_count": 25,
   "metadata": {},
   "outputs": [
    {
     "name": "stdout",
     "output_type": "stream",
     "text": [
      "Лучший результат получен при глубине дерева 6. F1 равняется 0.5567010309278351, AUC-ROC при этом 0.8356939953659464\n"
     ]
    }
   ],
   "source": [
    "best_depth = 0\n",
    "best_f1 = 0\n",
    "best_auc_roc = 0\n",
    "for depth in range(1, 21):\n",
    "    model = DecisionTreeClassifier(max_depth=depth, random_state=12345)\n",
    "    model.fit(features_train, target_train)\n",
    "    predicted_valid = model.predict(features_valid)\n",
    "    f1 = f1_score(target_valid, predicted_valid)\n",
    "    probabilities_valid = model.predict_proba(features_valid)\n",
    "    probabilities_one_valid = probabilities_valid[:, 1]\n",
    "    auc_roc = roc_auc_score(target_valid, probabilities_one_valid)\n",
    "    if f1 > best_f1:\n",
    "        best_f1 = f1\n",
    "        best_auc_roc = auc_roc\n",
    "        best_depth = depth\n",
    "print('Лучший результат получен при глубине дерева {}. F1 равняется {}, AUC-ROC при этом {}'.format(\n",
    "    best_depth, best_f1, best_auc_roc))"
   ]
  },
  {
   "cell_type": "markdown",
   "metadata": {},
   "source": [
    "F1 превысило 0,5. Попробуем модель случайного леса."
   ]
  },
  {
   "cell_type": "markdown",
   "metadata": {},
   "source": [
    "#### RandomForestClassifier"
   ]
  },
  {
   "cell_type": "code",
   "execution_count": 26,
   "metadata": {
    "scrolled": false
   },
   "outputs": [
    {
     "name": "stdout",
     "output_type": "stream",
     "text": [
      "Наилучший результат f1 составляет 0.563953488372093. AUC-ROC для этой модели: 0.8399462414856897.\n",
      "Оптимальные гиперпараметры модели: количестве деревье 30 и глубина 15. \n",
      "CPU times: user 2min 9s, sys: 756 ms, total: 2min 10s\n",
      "Wall time: 2min 10s\n"
     ]
    }
   ],
   "source": [
    "%%time\n",
    "best_f1 = 0\n",
    "best_estimators = 0\n",
    "best_depth = 0\n",
    "best_auc_roc = 0\n",
    "for estimators in range(10, 160, 10):\n",
    "    for depth in range(1, 21):\n",
    "        model = RandomForestClassifier(random_state=12345, n_estimators=estimators, max_depth=depth)\n",
    "        model.fit(features_train, target_train)\n",
    "        predicted_valid = model.predict(features_valid)\n",
    "        probabilities_valid = model.predict_proba(features_valid)\n",
    "        probabilities_one_valid = probabilities_valid[:, 1]\n",
    "        auc_roc = roc_auc_score(target_valid, probabilities_one_valid)\n",
    "        f1 = f1_score(target_valid, predicted_valid)\n",
    "        if f1 > best_f1:\n",
    "            best_f1 = f1\n",
    "            best_estimators = estimators\n",
    "            best_depth = depth\n",
    "            best_auc_roc = auc_roc\n",
    "print('Наилучший результат f1 составляет {}. AUC-ROC для этой модели: {}.'.format(\n",
    "    best_f1, best_auc_roc))\n",
    "print('Оптимальные гиперпараметры модели: количестве деревье {} и глубина {}. '.format(\n",
    "    best_estimators, best_depth))\n",
    "                                        "
   ]
  },
  {
   "cell_type": "markdown",
   "metadata": {},
   "source": [
    "Наилучший результат F1 на несбалансированной выборке составляет 0,564 при AUC-ROC 0.84. Попробуем сбалансировать нашу выборку."
   ]
  },
  {
   "cell_type": "markdown",
   "metadata": {},
   "source": [
    "## Борьба с дисбалансом"
   ]
  },
  {
   "cell_type": "markdown",
   "metadata": {},
   "source": [
    "### Взвешивание классов"
   ]
  },
  {
   "cell_type": "markdown",
   "metadata": {},
   "source": [
    "Придадим объектам редкого класса больший вес. Оценим работу всех трех моделей с параметром class_weight='balanced'"
   ]
  },
  {
   "cell_type": "markdown",
   "metadata": {},
   "source": [
    "#### LogisticRegression"
   ]
  },
  {
   "cell_type": "code",
   "execution_count": 27,
   "metadata": {
    "scrolled": true
   },
   "outputs": [
    {
     "name": "stdout",
     "output_type": "stream",
     "text": [
      "F1-мера: 0.5037531276063386. AUC-ROC: 0.7578306926790388\n"
     ]
    }
   ],
   "source": [
    "model = LogisticRegression(random_state=12345, solver='liblinear', class_weight='balanced')\n",
    "model.fit(features_train, target_train)\n",
    "predicted_valid = model.predict(features_valid)\n",
    "f1 = f1_score(target_valid, predicted_valid)\n",
    "probabilities_valid = model.predict_proba(features_valid)\n",
    "probabilities_one_valid = probabilities_valid[:, 1]\n",
    "auc_roc = roc_auc_score(target_valid, probabilities_one_valid)\n",
    "print('F1-мера: {}. AUC-ROC: {}'.format(f1, auc_roc))"
   ]
  },
  {
   "cell_type": "markdown",
   "metadata": {},
   "source": [
    "Результат логистической модели гораздо лучше, чем на несбалансированной выборке"
   ]
  },
  {
   "cell_type": "markdown",
   "metadata": {},
   "source": [
    "#### DecisionTreeClassifier"
   ]
  },
  {
   "cell_type": "code",
   "execution_count": 28,
   "metadata": {},
   "outputs": [
    {
     "name": "stdout",
     "output_type": "stream",
     "text": [
      "Лучший результат получен при глубине дерева 5. F1 равняется 0.6107660455486542, AUC-ROC при этом 0.8347623847486397\n"
     ]
    }
   ],
   "source": [
    "best_depth = 0\n",
    "best_f1 = 0\n",
    "best_auc_roc = 0\n",
    "for depth in range(1, 21):\n",
    "    model = DecisionTreeClassifier(max_depth=depth, random_state=12345, class_weight='balanced')\n",
    "    model.fit(features_train, target_train)\n",
    "    predicted_valid = model.predict(features_valid)\n",
    "    f1 = f1_score(target_valid, predicted_valid)\n",
    "    probabilities_valid = model.predict_proba(features_valid)\n",
    "    probabilities_one_valid = probabilities_valid[:, 1]\n",
    "    auc_roc = roc_auc_score(target_valid, probabilities_one_valid)\n",
    "    if f1 > best_f1:\n",
    "        best_f1 = f1\n",
    "        best_auc_roc = auc_roc\n",
    "        best_depth = depth\n",
    "print('Лучший результат получен при глубине дерева {}. F1 равняется {}, AUC-ROC при этом {}'.format(\n",
    "    best_depth, best_f1, best_auc_roc))"
   ]
  },
  {
   "cell_type": "markdown",
   "metadata": {},
   "source": [
    "F1 превысила 0,61. Проверим работу модели случайного леса."
   ]
  },
  {
   "cell_type": "markdown",
   "metadata": {},
   "source": [
    "#### RandomForestClassifier"
   ]
  },
  {
   "cell_type": "code",
   "execution_count": 29,
   "metadata": {},
   "outputs": [
    {
     "name": "stdout",
     "output_type": "stream",
     "text": [
      "Наилучший результат f1 составляет 0.6460554371002133. AUC-ROC для этой модели: 0.8565116018611849.\n",
      "Оптимальные гиперпараметры модели: количество деревьев 100 и глубина 8. \n",
      "CPU times: user 2min 9s, sys: 587 ms, total: 2min 10s\n",
      "Wall time: 2min 10s\n"
     ]
    }
   ],
   "source": [
    "%%time\n",
    "best_f1 = 0\n",
    "best_estimators = 0\n",
    "best_depth = 0\n",
    "best_auc_roc = 0\n",
    "for estimators in range(10, 160, 10):\n",
    "    for depth in range(1, 21):\n",
    "        model = RandomForestClassifier(random_state=12345, n_estimators=estimators, max_depth=depth, class_weight='balanced')\n",
    "        model.fit(features_train, target_train)\n",
    "        predicted_valid = model.predict(features_valid)\n",
    "        probabilities_valid = model.predict_proba(features_valid)\n",
    "        probabilities_one_valid = probabilities_valid[:, 1]\n",
    "        auc_roc = roc_auc_score(target_valid, probabilities_one_valid)\n",
    "        f1 = f1_score(target_valid, predicted_valid)\n",
    "        if f1 > best_f1:\n",
    "            best_f1 = f1\n",
    "            best_estimators = estimators\n",
    "            best_depth = depth\n",
    "            best_auc_roc = auc_roc\n",
    "print('Наилучший результат f1 составляет {}. AUC-ROC для этой модели: {}.'.format(\n",
    "    best_f1, best_auc_roc))\n",
    "print('Оптимальные гиперпараметры модели: количество деревьев {} и глубина {}. '.format(\n",
    "    best_estimators, best_depth))"
   ]
  },
  {
   "cell_type": "markdown",
   "metadata": {},
   "source": [
    "Получился неплохой результат, F1 лучшей модели составило 0,65 при AUC-ROC 0.86. Проверим результаты борьбы с дисбалансом другими методами"
   ]
  },
  {
   "cell_type": "markdown",
   "metadata": {},
   "source": [
    "### Увеличение выборки"
   ]
  },
  {
   "cell_type": "markdown",
   "metadata": {},
   "source": [
    "Избавимся от дисбаланса классов путем увеличения выборки. Напишем функцию, которая увеличивает количество объектов меньшего класса и перемешивает сбалансированную выборку."
   ]
  },
  {
   "cell_type": "code",
   "execution_count": 30,
   "metadata": {},
   "outputs": [],
   "source": [
    "def upsample(features, target):\n",
    "    features_zeros = features[target==0]\n",
    "    features_ones = features[target==1]\n",
    "    target_zeros = target[target==0]\n",
    "    target_ones = target[target==1]\n",
    "    repeat = np.round(len(target_zeros) / len(target_ones)).astype(int)\n",
    "    features_upsampled = pd.concat([features_zeros] + [features_ones] * repeat)\n",
    "    target_upsampled = pd.concat([target_zeros] + [target_ones] * repeat)\n",
    "    features_upsampled, target_upsampled = shuffle(\n",
    "        features_upsampled, target_upsampled, random_state=12345)\n",
    "    return features_upsampled, target_upsampled"
   ]
  },
  {
   "cell_type": "markdown",
   "metadata": {},
   "source": [
    "Применим функцию к нашей обучающей выборке"
   ]
  },
  {
   "cell_type": "code",
   "execution_count": 31,
   "metadata": {},
   "outputs": [],
   "source": [
    "features_upsampled, target_upsampled = upsample(features_train, target_train)"
   ]
  },
  {
   "cell_type": "markdown",
   "metadata": {},
   "source": [
    "Проверим результат увеличения выборки"
   ]
  },
  {
   "cell_type": "code",
   "execution_count": 32,
   "metadata": {},
   "outputs": [
    {
     "name": "stdout",
     "output_type": "stream",
     "text": [
      "(4784, 11) (4804, 11)\n"
     ]
    }
   ],
   "source": [
    "print(features_upsampled[target_upsampled==1].shape, features_upsampled[target_upsampled==0].shape)"
   ]
  },
  {
   "cell_type": "markdown",
   "metadata": {},
   "source": [
    "Проверим работу моделей на увеличенной выборке"
   ]
  },
  {
   "cell_type": "markdown",
   "metadata": {},
   "source": [
    "#### LogisticRegression"
   ]
  },
  {
   "cell_type": "code",
   "execution_count": 33,
   "metadata": {},
   "outputs": [
    {
     "name": "stdout",
     "output_type": "stream",
     "text": [
      "F1-мера: 0.5041736227045076. AUC-ROC: 0.7577477858793721\n"
     ]
    }
   ],
   "source": [
    "model = LogisticRegression(random_state=12345, solver='liblinear')\n",
    "model.fit(features_upsampled, target_upsampled)\n",
    "predicted_valid = model.predict(features_valid)\n",
    "f1 = f1_score(target_valid, predicted_valid)\n",
    "probabilities_valid = model.predict_proba(features_valid)\n",
    "probabilities_one_valid = probabilities_valid[:, 1]\n",
    "auc_roc = roc_auc_score(target_valid, probabilities_one_valid)\n",
    "print('F1-мера: {}. AUC-ROC: {}'.format(f1, auc_roc))"
   ]
  },
  {
   "cell_type": "markdown",
   "metadata": {},
   "source": [
    "Слабый результат"
   ]
  },
  {
   "cell_type": "markdown",
   "metadata": {},
   "source": [
    "#### DecisionTreeClassifier"
   ]
  },
  {
   "cell_type": "code",
   "execution_count": 34,
   "metadata": {},
   "outputs": [
    {
     "name": "stdout",
     "output_type": "stream",
     "text": [
      "Лучший результат получен при глубине дерева 5. F1 равняется 0.6107660455486542, AUC-ROC при этом 0.8347623847486397\n",
      "CPU times: user 597 ms, sys: 36 ms, total: 633 ms\n",
      "Wall time: 670 ms\n"
     ]
    }
   ],
   "source": [
    "%%time\n",
    "best_depth = 0\n",
    "best_f1 = 0\n",
    "best_auc_roc = 0\n",
    "for depth in range(1, 21):\n",
    "    model = DecisionTreeClassifier(max_depth=depth, random_state=12345)\n",
    "    model.fit(features_upsampled, target_upsampled)\n",
    "    predicted_valid = model.predict(features_valid)\n",
    "    f1 = f1_score(target_valid, predicted_valid)\n",
    "    probabilities_valid = model.predict_proba(features_valid)\n",
    "    probabilities_one_valid = probabilities_valid[:, 1]\n",
    "    auc_roc = roc_auc_score(target_valid, probabilities_one_valid)\n",
    "    if f1 > best_f1:\n",
    "        best_f1 = f1\n",
    "        best_auc_roc = auc_roc\n",
    "        best_depth = depth\n",
    "print('Лучший результат получен при глубине дерева {}. F1 равняется {}, AUC-ROC при этом {}'.format(\n",
    "    best_depth, best_f1, best_auc_roc))"
   ]
  },
  {
   "cell_type": "markdown",
   "metadata": {},
   "source": [
    "Результат удовлетворительный. Попробуем модель случайного леса"
   ]
  },
  {
   "cell_type": "markdown",
   "metadata": {},
   "source": [
    "#### RandomForestClassifier"
   ]
  },
  {
   "cell_type": "code",
   "execution_count": 35,
   "metadata": {},
   "outputs": [
    {
     "name": "stdout",
     "output_type": "stream",
     "text": [
      "Наилучший результат f1 составляет 0.6371859296482412. AUC-ROC для этой модели: 0.8569814070592959.\n",
      "Оптимальные гиперпараметры модели: количество деревьев 140 и глубина 8. \n",
      "CPU times: user 2min 53s, sys: 495 ms, total: 2min 53s\n",
      "Wall time: 2min 54s\n"
     ]
    }
   ],
   "source": [
    "%%time\n",
    "best_f1 = 0\n",
    "best_estimators = 0\n",
    "best_depth = 0\n",
    "best_auc_roc = 0\n",
    "for estimators in range(10, 160, 10):\n",
    "    for depth in range(1, 21):\n",
    "        model = RandomForestClassifier(random_state=12345, n_estimators=estimators, max_depth=depth)\n",
    "        model.fit(features_upsampled, target_upsampled)\n",
    "        predicted_valid = model.predict(features_valid)\n",
    "        probabilities_valid = model.predict_proba(features_valid)\n",
    "        probabilities_one_valid = probabilities_valid[:, 1]\n",
    "        auc_roc = roc_auc_score(target_valid, probabilities_one_valid)\n",
    "        f1 = f1_score(target_valid, predicted_valid)\n",
    "        if f1 > best_f1:\n",
    "            best_f1 = f1\n",
    "            best_estimators = estimators\n",
    "            best_depth = depth\n",
    "            best_auc_roc = auc_roc\n",
    "print('Наилучший результат f1 составляет {}. AUC-ROC для этой модели: {}.'.format(\n",
    "    best_f1, best_auc_roc))\n",
    "print('Оптимальные гиперпараметры модели: количество деревьев {} и глубина {}. '.format(\n",
    "    best_estimators, best_depth))"
   ]
  },
  {
   "cell_type": "markdown",
   "metadata": {},
   "source": [
    "Лучший результат для метода увеличения выборки получен в модели RandomForestClassifier (F1 0.64, AUC-ROC 0.86) со следующими параметрами: количество деревьев 140, глубина 8."
   ]
  },
  {
   "cell_type": "markdown",
   "metadata": {},
   "source": [
    "### Уменьшение выборки"
   ]
  },
  {
   "cell_type": "markdown",
   "metadata": {},
   "source": [
    "Избавимся от дисбаланса классов путем уменьшения выборки. Напишем функцию, которая уменьшает количество объектов большего класса и перемешивает сбалансированную выборку."
   ]
  },
  {
   "cell_type": "code",
   "execution_count": 36,
   "metadata": {},
   "outputs": [],
   "source": [
    "def downsample(features, target):\n",
    "    features_zeros = features[target == 0]\n",
    "    features_ones = features[target == 1]\n",
    "    target_zeros = target[target == 0]\n",
    "    target_ones = target[target == 1]\n",
    "    fraction = len(target_ones) / len(target_zeros)\n",
    "    features_downsampled = pd.concat(\n",
    "        [features_zeros.sample(frac=fraction, random_state=12345)] + [features_ones])\n",
    "    target_downsampled = pd.concat(\n",
    "        [target_zeros.sample(frac=fraction, random_state=12345)] + [target_ones]) \n",
    "    features_downsampled, target_downsampled = shuffle(\n",
    "        features_downsampled, target_downsampled, random_state=12345)\n",
    "    return features_downsampled, target_downsampled"
   ]
  },
  {
   "cell_type": "markdown",
   "metadata": {},
   "source": [
    "Применим функцию к нашей обучающей выборке"
   ]
  },
  {
   "cell_type": "code",
   "execution_count": 37,
   "metadata": {},
   "outputs": [],
   "source": [
    "features_downsampled, target_downsampled = downsample(features_train, target_train)"
   ]
  },
  {
   "cell_type": "markdown",
   "metadata": {},
   "source": [
    "Проверим результат увеличения выборки"
   ]
  },
  {
   "cell_type": "code",
   "execution_count": 38,
   "metadata": {},
   "outputs": [
    {
     "name": "stdout",
     "output_type": "stream",
     "text": [
      "(1196, 11) (1196, 11)\n"
     ]
    }
   ],
   "source": [
    "print(features_downsampled[target_downsampled==1].shape, features_downsampled[target_downsampled==0].shape)"
   ]
  },
  {
   "cell_type": "markdown",
   "metadata": {},
   "source": [
    "Теперь проверим работу трех видов моделей с полученными выборками"
   ]
  },
  {
   "cell_type": "markdown",
   "metadata": {},
   "source": [
    "#### LogisticRegression"
   ]
  },
  {
   "cell_type": "code",
   "execution_count": 39,
   "metadata": {},
   "outputs": [
    {
     "name": "stdout",
     "output_type": "stream",
     "text": [
      "F1-мера: 0.501257334450964. AUC-ROC: 0.7567150871466825\n"
     ]
    }
   ],
   "source": [
    "model = LogisticRegression(random_state=12345, solver='liblinear')\n",
    "model.fit(features_downsampled, target_downsampled)\n",
    "predicted_valid = model.predict(features_valid)\n",
    "f1 = f1_score(target_valid, predicted_valid)\n",
    "probabilities_valid = model.predict_proba(features_valid)\n",
    "probabilities_one_valid = probabilities_valid[:, 1]\n",
    "auc_roc = roc_auc_score(target_valid, probabilities_one_valid)\n",
    "print('F1-мера: {}. AUC-ROC: {}'.format(f1, auc_roc))"
   ]
  },
  {
   "cell_type": "markdown",
   "metadata": {},
   "source": [
    "Результат не лучше, чем при предыдущих методах борьбы с дисбалансом классов"
   ]
  },
  {
   "cell_type": "markdown",
   "metadata": {},
   "source": [
    "#### DecisionTreeClassifier"
   ]
  },
  {
   "cell_type": "code",
   "execution_count": 40,
   "metadata": {},
   "outputs": [
    {
     "name": "stdout",
     "output_type": "stream",
     "text": [
      "Лучший результат получен при глубине дерева 5. F1 равняется 0.612, AUC-ROC при этом 0.8319071909285416\n",
      "CPU times: user 266 ms, sys: 11.9 ms, total: 278 ms\n",
      "Wall time: 287 ms\n"
     ]
    }
   ],
   "source": [
    "%%time\n",
    "best_depth = 0\n",
    "best_f1 = 0\n",
    "best_auc_roc = 0\n",
    "for depth in range(1, 21):\n",
    "    model = DecisionTreeClassifier(max_depth=depth, random_state=12345)\n",
    "    model.fit(features_downsampled, target_downsampled)\n",
    "    predicted_valid = model.predict(features_valid)\n",
    "    f1 = f1_score(target_valid, predicted_valid)\n",
    "    probabilities_valid = model.predict_proba(features_valid)\n",
    "    probabilities_one_valid = probabilities_valid[:, 1]\n",
    "    auc_roc = roc_auc_score(target_valid, probabilities_one_valid)\n",
    "    if f1 > best_f1:\n",
    "        best_f1 = f1\n",
    "        best_auc_roc = auc_roc\n",
    "        best_depth = depth\n",
    "print('Лучший результат получен при глубине дерева {}. F1 равняется {}, AUC-ROC при этом {}'.format(\n",
    "    best_depth, best_f1, best_auc_roc))"
   ]
  },
  {
   "cell_type": "markdown",
   "metadata": {},
   "source": [
    "F1 выше 0,6, результат удовлетворительный."
   ]
  },
  {
   "cell_type": "markdown",
   "metadata": {},
   "source": [
    "#### RandomForestClassifier"
   ]
  },
  {
   "cell_type": "code",
   "execution_count": 41,
   "metadata": {},
   "outputs": [
    {
     "name": "stdout",
     "output_type": "stream",
     "text": [
      "Наилучший результат f1 составляет 0.6152416356877323. AUC-ROC для этой модели: 0.8445235695304423.\n",
      "Оптимальные гиперпараметры модели: количество деревьев 110 и глубина 11. \n",
      "CPU times: user 1min 20s, sys: 484 ms, total: 1min 21s\n",
      "Wall time: 1min 21s\n"
     ]
    }
   ],
   "source": [
    "%%time\n",
    "best_f1 = 0\n",
    "best_estimators = 0\n",
    "best_depth = 0\n",
    "best_auc_roc = 0\n",
    "for estimators in range(10, 160, 10):\n",
    "    for depth in range(1, 21):\n",
    "        model = RandomForestClassifier(random_state=12345, n_estimators=estimators, max_depth=depth)\n",
    "        model.fit(features_downsampled, target_downsampled)\n",
    "        predicted_valid = model.predict(features_valid)\n",
    "        probabilities_valid = model.predict_proba(features_valid)\n",
    "        probabilities_one_valid = probabilities_valid[:, 1]\n",
    "        auc_roc = roc_auc_score(target_valid, probabilities_one_valid)\n",
    "        f1 = f1_score(target_valid, predicted_valid)\n",
    "        if f1 > best_f1:\n",
    "            best_f1 = f1\n",
    "            best_estimators = estimators\n",
    "            best_depth = depth\n",
    "            best_auc_roc = auc_roc\n",
    "print('Наилучший результат f1 составляет {}. AUC-ROC для этой модели: {}.'.format(\n",
    "    best_f1, best_auc_roc))\n",
    "print('Оптимальные гиперпараметры модели: количество деревьев {} и глубина {}. '.format(\n",
    "    best_estimators, best_depth))"
   ]
  },
  {
   "cell_type": "markdown",
   "metadata": {},
   "source": [
    "Результат неплохой, но хуже, чем при методах взвешивания классов и увеличения выборки."
   ]
  },
  {
   "cell_type": "markdown",
   "metadata": {},
   "source": [
    "Наилучший результат получен при взвешивании классов у модели RandomForestClassifier со следующими гиперпарамтерами: количество деревьев 60 и глубина 7. F1-мера составила 0,65 при AUC-ROC 0.86."
   ]
  },
  {
   "cell_type": "markdown",
   "metadata": {},
   "source": [
    "## Тестирование модели"
   ]
  },
  {
   "cell_type": "markdown",
   "metadata": {},
   "source": [
    "Обучим модель с определенными ранее параметрами и определим ее эффективность на тестовой выборке"
   ]
  },
  {
   "cell_type": "code",
   "execution_count": 42,
   "metadata": {},
   "outputs": [
    {
     "name": "stdout",
     "output_type": "stream",
     "text": [
      "F1-мера на тестовой выборке составила 0.5974304068522485, AUC-ROC при этом составил 0.8557203125\n"
     ]
    }
   ],
   "source": [
    "model = RandomForestClassifier(random_state=12345, n_estimators=60, max_depth=7, class_weight='balanced')\n",
    "model.fit(features_train, target_train)\n",
    "predicted_test = model.predict(features_test)\n",
    "probabilities_test = model.predict_proba(features_test)\n",
    "probabilities_one_test = probabilities_test[:, 1]\n",
    "f1 = f1_score(target_test, predicted_test)\n",
    "auc_roc = roc_auc_score(target_test, probabilities_one_test)\n",
    "print('F1-мера на тестовой выборке составила {}, AUC-ROC при этом составил {}'.format(f1, auc_roc))"
   ]
  },
  {
   "cell_type": "markdown",
   "metadata": {},
   "source": [
    "Построим ROC-кривую"
   ]
  },
  {
   "cell_type": "code",
   "execution_count": 43,
   "metadata": {},
   "outputs": [
    {
     "data": {
      "image/png": "[encoded data removed]",
      "text/plain": [
       "<Figure size 432x288 with 1 Axes>"
      ]
     },
     "metadata": {
      "needs_background": "light"
     },
     "output_type": "display_data"
    }
   ],
   "source": [
    "fpr, tpr, thresholds = roc_curve(target_test, probabilities_one_test)\n",
    "plt.figure()\n",
    "plt.plot(fpr, tpr)\n",
    "plt.plot([0, 1], [0, 1], linestyle='--')\n",
    "plt.xlabel(\"False Positive Rate\")\n",
    "plt.ylabel(\"True Positive Rate\")\n",
    "plt.title(\"ROC-кривая\")\n",
    "plt.show()"
   ]
  },
  {
   "cell_type": "markdown",
   "metadata": {},
   "source": [
    "## Вывод"
   ]
  },
  {
   "cell_type": "markdown",
   "metadata": {},
   "source": [
    "**В данной работе была оценена работа разных моделей на несбалансированной и сбалансированной выборках. Для этого выборки были подготовлены: категориальные переменные преобразованы в численные методом OHE, численные значения масштабированы. Исследован результат борьбы с дисбалансом методами взвешивания классов, увеличения и уменьшения выборки. Наилучший результат показала модель RandomForestClassifier на выборке с взвешенными классами: F1-мера составила 0,65 при AUC-ROC 0.86. Результат работы этой модели на тестовой выборке удовлетворительный: F1-мера 0,6, AUC-ROC 0,85.**"
   ]
  }
 ],
 "metadata": {
  "ExecuteTimeLog": [
   {
    "duration": 571,
    "start_time": "2021-12-03T11:17:58.893Z"
   },
   {
    "duration": 38,
    "start_time": "2021-12-03T11:18:24.892Z"
   },
   {
    "duration": 9,
    "start_time": "2021-12-03T11:18:33.940Z"
   },
   {
    "duration": 129,
    "start_time": "2021-12-03T11:18:38.636Z"
   },
   {
    "duration": 19,
    "start_time": "2021-12-03T11:18:41.099Z"
   },
   {
    "duration": 8,
    "start_time": "2021-12-03T11:21:04.043Z"
   },
   {
    "duration": 7,
    "start_time": "2021-12-03T11:21:43.204Z"
   },
   {
    "duration": 282,
    "start_time": "2021-12-03T11:23:58.422Z"
   },
   {
    "duration": 242,
    "start_time": "2021-12-03T11:24:30.764Z"
   },
   {
    "duration": 9,
    "start_time": "2021-12-03T11:24:48.679Z"
   },
   {
    "duration": 8,
    "start_time": "2021-12-03T11:24:57.308Z"
   },
   {
    "duration": 8,
    "start_time": "2021-12-03T11:25:05.861Z"
   },
   {
    "duration": 186,
    "start_time": "2021-12-03T11:25:18.652Z"
   },
   {
    "duration": 7,
    "start_time": "2021-12-03T11:26:18.068Z"
   },
   {
    "duration": 180,
    "start_time": "2021-12-03T11:27:26.612Z"
   },
   {
    "duration": 7,
    "start_time": "2021-12-03T11:28:03.348Z"
   },
   {
    "duration": 614,
    "start_time": "2021-12-06T06:34:56.075Z"
   },
   {
    "duration": 471,
    "start_time": "2021-12-06T06:34:59.409Z"
   },
   {
    "duration": 969,
    "start_time": "2021-12-06T06:35:20.510Z"
   },
   {
    "duration": 39,
    "start_time": "2021-12-06T06:35:21.481Z"
   },
   {
    "duration": 12,
    "start_time": "2021-12-06T06:35:21.523Z"
   },
   {
    "duration": 39,
    "start_time": "2021-12-06T06:35:21.537Z"
   },
   {
    "duration": 6,
    "start_time": "2021-12-06T06:35:21.578Z"
   },
   {
    "duration": 9,
    "start_time": "2021-12-06T06:35:21.587Z"
   },
   {
    "duration": 10,
    "start_time": "2021-12-06T06:35:21.598Z"
   },
   {
    "duration": 460,
    "start_time": "2021-12-06T06:35:21.610Z"
   },
   {
    "duration": 8,
    "start_time": "2021-12-06T06:35:22.073Z"
   },
   {
    "duration": 312,
    "start_time": "2021-12-06T06:35:22.083Z"
   },
   {
    "duration": 8,
    "start_time": "2021-12-06T06:35:22.397Z"
   },
   {
    "duration": 7,
    "start_time": "2021-12-06T06:35:51.663Z"
   },
   {
    "duration": 4,
    "start_time": "2021-12-06T06:36:00.016Z"
   },
   {
    "duration": 6,
    "start_time": "2021-12-06T06:36:03.965Z"
   },
   {
    "duration": 5,
    "start_time": "2021-12-06T06:38:57.900Z"
   },
   {
    "duration": 6,
    "start_time": "2021-12-06T06:39:05.295Z"
   },
   {
    "duration": 23,
    "start_time": "2021-12-06T06:39:11.086Z"
   },
   {
    "duration": 510,
    "start_time": "2021-12-06T06:55:26.027Z"
   },
   {
    "duration": 1478,
    "start_time": "2021-12-06T06:55:47.434Z"
   },
   {
    "duration": 790,
    "start_time": "2021-12-06T06:55:56.076Z"
   },
   {
    "duration": 37,
    "start_time": "2021-12-06T06:55:56.868Z"
   },
   {
    "duration": 11,
    "start_time": "2021-12-06T06:55:56.907Z"
   },
   {
    "duration": 40,
    "start_time": "2021-12-06T06:55:56.921Z"
   },
   {
    "duration": 466,
    "start_time": "2021-12-06T06:55:56.963Z"
   },
   {
    "duration": -51,
    "start_time": "2021-12-06T06:55:57.483Z"
   },
   {
    "duration": -50,
    "start_time": "2021-12-06T06:55:57.484Z"
   },
   {
    "duration": -48,
    "start_time": "2021-12-06T06:55:57.484Z"
   },
   {
    "duration": -48,
    "start_time": "2021-12-06T06:55:57.485Z"
   },
   {
    "duration": -47,
    "start_time": "2021-12-06T06:55:57.486Z"
   },
   {
    "duration": -47,
    "start_time": "2021-12-06T06:55:57.487Z"
   },
   {
    "duration": -48,
    "start_time": "2021-12-06T06:55:57.490Z"
   },
   {
    "duration": -48,
    "start_time": "2021-12-06T06:55:57.491Z"
   },
   {
    "duration": -47,
    "start_time": "2021-12-06T06:55:57.492Z"
   },
   {
    "duration": 6,
    "start_time": "2021-12-06T06:56:12.381Z"
   },
   {
    "duration": 790,
    "start_time": "2021-12-06T06:56:20.436Z"
   },
   {
    "duration": 37,
    "start_time": "2021-12-06T06:56:21.229Z"
   },
   {
    "duration": 11,
    "start_time": "2021-12-06T06:56:21.269Z"
   },
   {
    "duration": 29,
    "start_time": "2021-12-06T06:56:21.282Z"
   },
   {
    "duration": 6,
    "start_time": "2021-12-06T06:56:21.313Z"
   },
   {
    "duration": 39,
    "start_time": "2021-12-06T06:56:21.321Z"
   },
   {
    "duration": 6,
    "start_time": "2021-12-06T06:56:21.362Z"
   },
   {
    "duration": 4,
    "start_time": "2021-12-06T06:56:21.372Z"
   },
   {
    "duration": 9884,
    "start_time": "2021-12-06T06:56:21.378Z"
   },
   {
    "duration": -51,
    "start_time": "2021-12-06T06:56:31.315Z"
   },
   {
    "duration": -50,
    "start_time": "2021-12-06T06:56:31.316Z"
   },
   {
    "duration": -50,
    "start_time": "2021-12-06T06:56:31.317Z"
   },
   {
    "duration": -49,
    "start_time": "2021-12-06T06:56:31.318Z"
   },
   {
    "duration": -49,
    "start_time": "2021-12-06T06:56:31.319Z"
   },
   {
    "duration": -48,
    "start_time": "2021-12-06T06:56:31.320Z"
   },
   {
    "duration": 27,
    "start_time": "2021-12-06T06:56:35.160Z"
   },
   {
    "duration": 26,
    "start_time": "2021-12-06T06:56:52.143Z"
   },
   {
    "duration": 8,
    "start_time": "2021-12-06T07:18:09.620Z"
   },
   {
    "duration": 502,
    "start_time": "2021-12-06T07:19:10.712Z"
   },
   {
    "duration": 184,
    "start_time": "2021-12-06T07:34:06.056Z"
   },
   {
    "duration": 7,
    "start_time": "2021-12-06T07:34:11.103Z"
   },
   {
    "duration": 11,
    "start_time": "2021-12-06T07:34:21.584Z"
   },
   {
    "duration": 6,
    "start_time": "2021-12-06T07:34:32.599Z"
   },
   {
    "duration": 674,
    "start_time": "2021-12-06T07:35:53.260Z"
   },
   {
    "duration": 6,
    "start_time": "2021-12-06T07:38:55.607Z"
   },
   {
    "duration": 7,
    "start_time": "2021-12-06T07:39:02.951Z"
   },
   {
    "duration": 145,
    "start_time": "2021-12-06T07:40:06.632Z"
   },
   {
    "duration": 300,
    "start_time": "2021-12-06T07:40:37.192Z"
   },
   {
    "duration": 5,
    "start_time": "2021-12-06T07:41:54.944Z"
   },
   {
    "duration": 590,
    "start_time": "2021-12-07T14:19:06.991Z"
   },
   {
    "duration": 33,
    "start_time": "2021-12-07T14:19:07.583Z"
   },
   {
    "duration": 9,
    "start_time": "2021-12-07T14:19:07.618Z"
   },
   {
    "duration": 21,
    "start_time": "2021-12-07T14:19:07.629Z"
   },
   {
    "duration": 23,
    "start_time": "2021-12-07T14:19:07.652Z"
   },
   {
    "duration": 21,
    "start_time": "2021-12-07T14:19:07.676Z"
   },
   {
    "duration": 20,
    "start_time": "2021-12-07T14:19:07.699Z"
   },
   {
    "duration": 15,
    "start_time": "2021-12-07T14:19:07.721Z"
   },
   {
    "duration": 36,
    "start_time": "2021-12-07T14:19:07.739Z"
   },
   {
    "duration": 7,
    "start_time": "2021-12-07T14:19:07.778Z"
   },
   {
    "duration": 21,
    "start_time": "2021-12-07T14:19:07.787Z"
   },
   {
    "duration": 17,
    "start_time": "2021-12-07T14:19:07.810Z"
   },
   {
    "duration": 279,
    "start_time": "2021-12-07T14:19:07.829Z"
   },
   {
    "duration": 4,
    "start_time": "2021-12-07T14:19:08.110Z"
   },
   {
    "duration": 200,
    "start_time": "2021-12-07T14:19:08.116Z"
   },
   {
    "duration": 5,
    "start_time": "2021-12-07T14:19:08.317Z"
   },
   {
    "duration": 18,
    "start_time": "2021-12-07T14:19:45.281Z"
   },
   {
    "duration": 9,
    "start_time": "2021-12-07T14:19:57.722Z"
   },
   {
    "duration": 13,
    "start_time": "2021-12-07T14:20:03.269Z"
   },
   {
    "duration": 480,
    "start_time": "2021-12-08T04:28:55.017Z"
   },
   {
    "duration": 802,
    "start_time": "2021-12-08T04:29:04.525Z"
   },
   {
    "duration": 38,
    "start_time": "2021-12-08T04:29:05.330Z"
   },
   {
    "duration": 13,
    "start_time": "2021-12-08T04:29:05.371Z"
   },
   {
    "duration": 29,
    "start_time": "2021-12-08T04:29:05.388Z"
   },
   {
    "duration": 40,
    "start_time": "2021-12-08T04:29:05.420Z"
   },
   {
    "duration": 5,
    "start_time": "2021-12-08T04:29:05.464Z"
   },
   {
    "duration": 8,
    "start_time": "2021-12-08T04:29:05.471Z"
   },
   {
    "duration": 3,
    "start_time": "2021-12-08T04:29:05.483Z"
   },
   {
    "duration": 26,
    "start_time": "2021-12-08T04:29:05.489Z"
   },
   {
    "duration": 45,
    "start_time": "2021-12-08T04:29:05.517Z"
   },
   {
    "duration": 4,
    "start_time": "2021-12-08T04:29:05.564Z"
   },
   {
    "duration": 13,
    "start_time": "2021-12-08T04:29:05.570Z"
   },
   {
    "duration": 411,
    "start_time": "2021-12-08T04:29:05.585Z"
   },
   {
    "duration": 5,
    "start_time": "2021-12-08T04:29:05.999Z"
   },
   {
    "duration": 303,
    "start_time": "2021-12-08T04:29:06.006Z"
   },
   {
    "duration": 4,
    "start_time": "2021-12-08T04:29:06.312Z"
   },
   {
    "duration": 9,
    "start_time": "2021-12-08T04:29:06.319Z"
   },
   {
    "duration": 9,
    "start_time": "2021-12-08T04:30:07.561Z"
   },
   {
    "duration": 8,
    "start_time": "2021-12-08T04:30:28.705Z"
   },
   {
    "duration": 8,
    "start_time": "2021-12-08T04:30:37.768Z"
   },
   {
    "duration": 12,
    "start_time": "2021-12-08T04:32:09.601Z"
   },
   {
    "duration": 9,
    "start_time": "2021-12-08T04:32:42.608Z"
   },
   {
    "duration": 123,
    "start_time": "2021-12-08T04:32:43.025Z"
   },
   {
    "duration": 873,
    "start_time": "2021-12-08T11:19:39.047Z"
   },
   {
    "duration": 315,
    "start_time": "2021-12-08T11:19:39.922Z"
   },
   {
    "duration": 9,
    "start_time": "2021-12-08T11:19:40.239Z"
   },
   {
    "duration": 17,
    "start_time": "2021-12-08T11:19:40.250Z"
   },
   {
    "duration": 11,
    "start_time": "2021-12-08T11:19:40.269Z"
   },
   {
    "duration": 7,
    "start_time": "2021-12-08T11:19:40.282Z"
   },
   {
    "duration": 7,
    "start_time": "2021-12-08T11:19:40.291Z"
   },
   {
    "duration": 5,
    "start_time": "2021-12-08T11:19:40.299Z"
   },
   {
    "duration": 17,
    "start_time": "2021-12-08T11:19:40.307Z"
   },
   {
    "duration": 5,
    "start_time": "2021-12-08T11:19:40.326Z"
   },
   {
    "duration": 3,
    "start_time": "2021-12-08T11:19:40.333Z"
   },
   {
    "duration": 6,
    "start_time": "2021-12-08T11:19:40.337Z"
   },
   {
    "duration": 267,
    "start_time": "2021-12-08T11:19:40.345Z"
   },
   {
    "duration": 3,
    "start_time": "2021-12-08T11:19:40.614Z"
   },
   {
    "duration": 199,
    "start_time": "2021-12-08T11:19:40.619Z"
   },
   {
    "duration": 4,
    "start_time": "2021-12-08T11:19:40.820Z"
   },
   {
    "duration": 10,
    "start_time": "2021-12-08T11:19:40.825Z"
   },
   {
    "duration": 6,
    "start_time": "2021-12-08T11:19:40.837Z"
   },
   {
    "duration": 13,
    "start_time": "2021-12-08T11:24:11.792Z"
   },
   {
    "duration": 14,
    "start_time": "2021-12-08T11:24:17.258Z"
   },
   {
    "duration": 14,
    "start_time": "2021-12-08T11:24:40.292Z"
   },
   {
    "duration": 6,
    "start_time": "2021-12-08T11:25:45.547Z"
   },
   {
    "duration": 465,
    "start_time": "2021-12-08T11:58:08.812Z"
   },
   {
    "duration": 30,
    "start_time": "2021-12-08T11:58:09.279Z"
   },
   {
    "duration": 8,
    "start_time": "2021-12-08T11:58:09.311Z"
   },
   {
    "duration": 12,
    "start_time": "2021-12-08T11:58:09.322Z"
   },
   {
    "duration": 8,
    "start_time": "2021-12-08T11:58:09.336Z"
   },
   {
    "duration": 8,
    "start_time": "2021-12-08T11:58:09.345Z"
   },
   {
    "duration": 9,
    "start_time": "2021-12-08T11:58:09.354Z"
   },
   {
    "duration": 6,
    "start_time": "2021-12-08T11:58:09.365Z"
   },
   {
    "duration": 45,
    "start_time": "2021-12-08T11:58:09.374Z"
   },
   {
    "duration": 8,
    "start_time": "2021-12-08T11:58:09.422Z"
   },
   {
    "duration": 16,
    "start_time": "2021-12-08T11:58:09.431Z"
   },
   {
    "duration": 8,
    "start_time": "2021-12-08T11:58:09.449Z"
   },
   {
    "duration": 204,
    "start_time": "2021-12-08T11:58:09.459Z"
   },
   {
    "duration": 5,
    "start_time": "2021-12-08T11:58:09.665Z"
   },
   {
    "duration": 205,
    "start_time": "2021-12-08T11:58:09.672Z"
   },
   {
    "duration": 5,
    "start_time": "2021-12-08T11:58:09.879Z"
   },
   {
    "duration": 23,
    "start_time": "2021-12-08T11:58:09.886Z"
   },
   {
    "duration": 8,
    "start_time": "2021-12-08T11:58:09.911Z"
   },
   {
    "duration": 14,
    "start_time": "2021-12-08T11:58:09.921Z"
   },
   {
    "duration": 17,
    "start_time": "2021-12-08T11:58:09.936Z"
   },
   {
    "duration": 9649,
    "start_time": "2021-12-08T11:58:09.955Z"
   },
   {
    "duration": -22,
    "start_time": "2021-12-08T11:58:19.628Z"
   },
   {
    "duration": -17,
    "start_time": "2021-12-08T11:59:02.197Z"
   },
   {
    "duration": -17,
    "start_time": "2021-12-08T11:59:02.198Z"
   },
   {
    "duration": -18,
    "start_time": "2021-12-08T11:59:02.199Z"
   },
   {
    "duration": -51,
    "start_time": "2021-12-08T11:59:02.233Z"
   },
   {
    "duration": -51,
    "start_time": "2021-12-08T11:59:02.234Z"
   },
   {
    "duration": -51,
    "start_time": "2021-12-08T11:59:02.235Z"
   },
   {
    "duration": -51,
    "start_time": "2021-12-08T11:59:02.236Z"
   },
   {
    "duration": -50,
    "start_time": "2021-12-08T11:59:02.237Z"
   },
   {
    "duration": -50,
    "start_time": "2021-12-08T11:59:02.238Z"
   },
   {
    "duration": -51,
    "start_time": "2021-12-08T11:59:02.239Z"
   },
   {
    "duration": -54,
    "start_time": "2021-12-08T11:59:02.243Z"
   },
   {
    "duration": -54,
    "start_time": "2021-12-08T11:59:02.244Z"
   },
   {
    "duration": -54,
    "start_time": "2021-12-08T11:59:02.245Z"
   },
   {
    "duration": -54,
    "start_time": "2021-12-08T11:59:02.246Z"
   },
   {
    "duration": -54,
    "start_time": "2021-12-08T11:59:02.247Z"
   },
   {
    "duration": -75,
    "start_time": "2021-12-08T11:59:02.268Z"
   },
   {
    "duration": -75,
    "start_time": "2021-12-08T11:59:02.269Z"
   },
   {
    "duration": -75,
    "start_time": "2021-12-08T11:59:02.270Z"
   },
   {
    "duration": -75,
    "start_time": "2021-12-08T11:59:02.271Z"
   },
   {
    "duration": -74,
    "start_time": "2021-12-08T11:59:02.271Z"
   },
   {
    "duration": -74,
    "start_time": "2021-12-08T11:59:02.272Z"
   },
   {
    "duration": -77,
    "start_time": "2021-12-08T11:59:02.276Z"
   },
   {
    "duration": 3,
    "start_time": "2021-12-08T11:59:22.596Z"
   },
   {
    "duration": 32,
    "start_time": "2021-12-08T11:59:22.600Z"
   },
   {
    "duration": 8,
    "start_time": "2021-12-08T11:59:22.634Z"
   },
   {
    "duration": 11,
    "start_time": "2021-12-08T11:59:22.644Z"
   },
   {
    "duration": 6,
    "start_time": "2021-12-08T11:59:22.657Z"
   },
   {
    "duration": 4,
    "start_time": "2021-12-08T11:59:22.665Z"
   },
   {
    "duration": 6,
    "start_time": "2021-12-08T11:59:22.670Z"
   },
   {
    "duration": 4,
    "start_time": "2021-12-08T11:59:22.677Z"
   },
   {
    "duration": 38,
    "start_time": "2021-12-08T11:59:22.684Z"
   },
   {
    "duration": 5,
    "start_time": "2021-12-08T11:59:22.724Z"
   },
   {
    "duration": 3,
    "start_time": "2021-12-08T11:59:22.731Z"
   },
   {
    "duration": 5,
    "start_time": "2021-12-08T11:59:22.735Z"
   },
   {
    "duration": 216,
    "start_time": "2021-12-08T11:59:22.742Z"
   },
   {
    "duration": 5,
    "start_time": "2021-12-08T11:59:22.960Z"
   },
   {
    "duration": 189,
    "start_time": "2021-12-08T11:59:22.967Z"
   },
   {
    "duration": 4,
    "start_time": "2021-12-08T11:59:23.158Z"
   },
   {
    "duration": 10,
    "start_time": "2021-12-08T11:59:23.163Z"
   },
   {
    "duration": 5,
    "start_time": "2021-12-08T11:59:23.175Z"
   },
   {
    "duration": 12,
    "start_time": "2021-12-08T11:59:23.182Z"
   },
   {
    "duration": 20,
    "start_time": "2021-12-08T11:59:23.196Z"
   },
   {
    "duration": 9635,
    "start_time": "2021-12-08T11:59:23.218Z"
   },
   {
    "duration": -25,
    "start_time": "2021-12-08T11:59:32.880Z"
   },
   {
    "duration": 10,
    "start_time": "2021-12-08T11:59:44.830Z"
   },
   {
    "duration": 3,
    "start_time": "2021-12-08T11:59:50.060Z"
   },
   {
    "duration": 33,
    "start_time": "2021-12-08T11:59:50.065Z"
   },
   {
    "duration": 8,
    "start_time": "2021-12-08T11:59:50.100Z"
   },
   {
    "duration": 13,
    "start_time": "2021-12-08T11:59:50.111Z"
   },
   {
    "duration": 6,
    "start_time": "2021-12-08T11:59:50.126Z"
   },
   {
    "duration": 5,
    "start_time": "2021-12-08T11:59:50.134Z"
   },
   {
    "duration": 6,
    "start_time": "2021-12-08T11:59:50.141Z"
   },
   {
    "duration": 17,
    "start_time": "2021-12-08T11:59:50.149Z"
   },
   {
    "duration": 39,
    "start_time": "2021-12-08T11:59:50.170Z"
   },
   {
    "duration": 8,
    "start_time": "2021-12-08T11:59:50.212Z"
   },
   {
    "duration": 5,
    "start_time": "2021-12-08T11:59:50.222Z"
   },
   {
    "duration": 6,
    "start_time": "2021-12-08T11:59:50.229Z"
   },
   {
    "duration": 222,
    "start_time": "2021-12-08T11:59:50.237Z"
   },
   {
    "duration": 4,
    "start_time": "2021-12-08T11:59:50.461Z"
   },
   {
    "duration": 252,
    "start_time": "2021-12-08T11:59:50.467Z"
   },
   {
    "duration": 4,
    "start_time": "2021-12-08T11:59:50.721Z"
   },
   {
    "duration": 12,
    "start_time": "2021-12-08T11:59:50.726Z"
   },
   {
    "duration": 5,
    "start_time": "2021-12-08T11:59:50.740Z"
   },
   {
    "duration": 13,
    "start_time": "2021-12-08T11:59:50.747Z"
   },
   {
    "duration": 12,
    "start_time": "2021-12-08T11:59:50.761Z"
   },
   {
    "duration": 11,
    "start_time": "2021-12-08T11:59:50.807Z"
   },
   {
    "duration": 22,
    "start_time": "2021-12-08T11:59:50.819Z"
   },
   {
    "duration": 21,
    "start_time": "2021-12-08T12:00:34.378Z"
   },
   {
    "duration": 18,
    "start_time": "2021-12-08T12:00:43.554Z"
   },
   {
    "duration": 3,
    "start_time": "2021-12-08T12:00:52.828Z"
   },
   {
    "duration": 31,
    "start_time": "2021-12-08T12:00:52.833Z"
   },
   {
    "duration": 7,
    "start_time": "2021-12-08T12:00:52.867Z"
   },
   {
    "duration": 13,
    "start_time": "2021-12-08T12:00:52.877Z"
   },
   {
    "duration": 7,
    "start_time": "2021-12-08T12:00:52.892Z"
   },
   {
    "duration": 5,
    "start_time": "2021-12-08T12:00:52.901Z"
   },
   {
    "duration": 8,
    "start_time": "2021-12-08T12:00:52.907Z"
   },
   {
    "duration": 4,
    "start_time": "2021-12-08T12:00:52.916Z"
   },
   {
    "duration": 23,
    "start_time": "2021-12-08T12:00:52.922Z"
   },
   {
    "duration": 8,
    "start_time": "2021-12-08T12:00:52.947Z"
   },
   {
    "duration": 3,
    "start_time": "2021-12-08T12:00:52.957Z"
   },
   {
    "duration": 5,
    "start_time": "2021-12-08T12:00:52.962Z"
   },
   {
    "duration": 221,
    "start_time": "2021-12-08T12:00:52.969Z"
   },
   {
    "duration": 16,
    "start_time": "2021-12-08T12:00:53.192Z"
   },
   {
    "duration": 198,
    "start_time": "2021-12-08T12:00:53.210Z"
   },
   {
    "duration": 5,
    "start_time": "2021-12-08T12:00:53.410Z"
   },
   {
    "duration": 12,
    "start_time": "2021-12-08T12:00:53.416Z"
   },
   {
    "duration": 6,
    "start_time": "2021-12-08T12:00:53.430Z"
   },
   {
    "duration": 16,
    "start_time": "2021-12-08T12:00:53.438Z"
   },
   {
    "duration": 14,
    "start_time": "2021-12-08T12:00:53.456Z"
   },
   {
    "duration": 10,
    "start_time": "2021-12-08T12:00:53.519Z"
   },
   {
    "duration": 19,
    "start_time": "2021-12-08T12:00:53.531Z"
   },
   {
    "duration": 22,
    "start_time": "2021-12-08T12:01:26.651Z"
   },
   {
    "duration": 2,
    "start_time": "2021-12-08T12:01:29.092Z"
   },
   {
    "duration": 29,
    "start_time": "2021-12-08T12:01:29.096Z"
   },
   {
    "duration": 8,
    "start_time": "2021-12-08T12:01:29.127Z"
   },
   {
    "duration": 12,
    "start_time": "2021-12-08T12:01:29.136Z"
   },
   {
    "duration": 4,
    "start_time": "2021-12-08T12:01:29.150Z"
   },
   {
    "duration": 5,
    "start_time": "2021-12-08T12:01:29.155Z"
   },
   {
    "duration": 7,
    "start_time": "2021-12-08T12:01:29.162Z"
   },
   {
    "duration": 4,
    "start_time": "2021-12-08T12:01:29.171Z"
   },
   {
    "duration": 43,
    "start_time": "2021-12-08T12:01:29.178Z"
   },
   {
    "duration": 6,
    "start_time": "2021-12-08T12:01:29.224Z"
   },
   {
    "duration": 4,
    "start_time": "2021-12-08T12:01:29.232Z"
   },
   {
    "duration": 7,
    "start_time": "2021-12-08T12:01:29.237Z"
   },
   {
    "duration": 213,
    "start_time": "2021-12-08T12:01:29.245Z"
   },
   {
    "duration": 4,
    "start_time": "2021-12-08T12:01:29.460Z"
   },
   {
    "duration": 206,
    "start_time": "2021-12-08T12:01:29.465Z"
   },
   {
    "duration": 4,
    "start_time": "2021-12-08T12:01:29.672Z"
   },
   {
    "duration": 11,
    "start_time": "2021-12-08T12:01:29.678Z"
   },
   {
    "duration": 18,
    "start_time": "2021-12-08T12:01:29.691Z"
   },
   {
    "duration": 12,
    "start_time": "2021-12-08T12:01:29.710Z"
   },
   {
    "duration": 12,
    "start_time": "2021-12-08T12:01:29.724Z"
   },
   {
    "duration": 10,
    "start_time": "2021-12-08T12:01:29.738Z"
   },
   {
    "duration": 24,
    "start_time": "2021-12-08T12:01:29.749Z"
   },
   {
    "duration": 5,
    "start_time": "2021-12-08T12:13:45.239Z"
   },
   {
    "duration": 1079,
    "start_time": "2021-12-08T12:22:32.863Z"
   },
   {
    "duration": 28,
    "start_time": "2021-12-08T12:22:33.945Z"
   },
   {
    "duration": 9,
    "start_time": "2021-12-08T12:22:33.975Z"
   },
   {
    "duration": 26,
    "start_time": "2021-12-08T12:22:33.986Z"
   },
   {
    "duration": 5,
    "start_time": "2021-12-08T12:22:34.014Z"
   },
   {
    "duration": 10,
    "start_time": "2021-12-08T12:22:34.021Z"
   },
   {
    "duration": 8,
    "start_time": "2021-12-08T12:22:34.033Z"
   },
   {
    "duration": 5,
    "start_time": "2021-12-08T12:22:34.043Z"
   },
   {
    "duration": 20,
    "start_time": "2021-12-08T12:22:34.051Z"
   },
   {
    "duration": 14,
    "start_time": "2021-12-08T12:22:34.074Z"
   },
   {
    "duration": 5,
    "start_time": "2021-12-08T12:22:34.107Z"
   },
   {
    "duration": 7,
    "start_time": "2021-12-08T12:22:34.113Z"
   },
   {
    "duration": 269,
    "start_time": "2021-12-08T12:22:34.122Z"
   },
   {
    "duration": 4,
    "start_time": "2021-12-08T12:22:34.393Z"
   },
   {
    "duration": 198,
    "start_time": "2021-12-08T12:22:34.398Z"
   },
   {
    "duration": 8,
    "start_time": "2021-12-08T12:22:34.598Z"
   },
   {
    "duration": 10,
    "start_time": "2021-12-08T12:22:34.608Z"
   },
   {
    "duration": 6,
    "start_time": "2021-12-08T12:22:34.620Z"
   },
   {
    "duration": 11,
    "start_time": "2021-12-08T12:22:34.628Z"
   },
   {
    "duration": 13,
    "start_time": "2021-12-08T12:22:34.641Z"
   },
   {
    "duration": 9,
    "start_time": "2021-12-08T12:22:34.655Z"
   },
   {
    "duration": 55,
    "start_time": "2021-12-08T12:22:34.666Z"
   },
   {
    "duration": 319,
    "start_time": "2021-12-08T12:22:34.723Z"
   },
   {
    "duration": 3,
    "start_time": "2021-12-08T12:22:51.656Z"
   },
   {
    "duration": 32,
    "start_time": "2021-12-08T12:22:51.661Z"
   },
   {
    "duration": 8,
    "start_time": "2021-12-08T12:22:51.695Z"
   },
   {
    "duration": 11,
    "start_time": "2021-12-08T12:22:51.704Z"
   },
   {
    "duration": 7,
    "start_time": "2021-12-08T12:22:51.717Z"
   },
   {
    "duration": 4,
    "start_time": "2021-12-08T12:22:51.725Z"
   },
   {
    "duration": 13,
    "start_time": "2021-12-08T12:22:51.731Z"
   },
   {
    "duration": 4,
    "start_time": "2021-12-08T12:22:51.745Z"
   },
   {
    "duration": 18,
    "start_time": "2021-12-08T12:22:51.751Z"
   },
   {
    "duration": 5,
    "start_time": "2021-12-08T12:22:51.771Z"
   },
   {
    "duration": 3,
    "start_time": "2021-12-08T12:22:51.778Z"
   },
   {
    "duration": 28,
    "start_time": "2021-12-08T12:22:51.782Z"
   },
   {
    "duration": 188,
    "start_time": "2021-12-08T12:22:51.811Z"
   },
   {
    "duration": 4,
    "start_time": "2021-12-08T12:22:52.006Z"
   },
   {
    "duration": 189,
    "start_time": "2021-12-08T12:22:52.011Z"
   },
   {
    "duration": 6,
    "start_time": "2021-12-08T12:22:52.202Z"
   },
   {
    "duration": 10,
    "start_time": "2021-12-08T12:22:52.209Z"
   },
   {
    "duration": 6,
    "start_time": "2021-12-08T12:22:52.220Z"
   },
   {
    "duration": 11,
    "start_time": "2021-12-08T12:22:52.228Z"
   },
   {
    "duration": 13,
    "start_time": "2021-12-08T12:22:52.241Z"
   },
   {
    "duration": 9,
    "start_time": "2021-12-08T12:22:52.255Z"
   },
   {
    "duration": 59,
    "start_time": "2021-12-08T12:22:52.266Z"
   },
   {
    "duration": 44340,
    "start_time": "2021-12-08T12:22:52.327Z"
   },
   {
    "duration": 3,
    "start_time": "2021-12-08T12:26:23.771Z"
   },
   {
    "duration": 30,
    "start_time": "2021-12-08T12:26:23.776Z"
   },
   {
    "duration": 8,
    "start_time": "2021-12-08T12:26:23.808Z"
   },
   {
    "duration": 13,
    "start_time": "2021-12-08T12:26:23.818Z"
   },
   {
    "duration": 5,
    "start_time": "2021-12-08T12:26:23.833Z"
   },
   {
    "duration": 4,
    "start_time": "2021-12-08T12:26:23.840Z"
   },
   {
    "duration": 6,
    "start_time": "2021-12-08T12:26:23.846Z"
   },
   {
    "duration": 4,
    "start_time": "2021-12-08T12:26:23.854Z"
   },
   {
    "duration": 51,
    "start_time": "2021-12-08T12:26:23.860Z"
   },
   {
    "duration": 5,
    "start_time": "2021-12-08T12:26:23.914Z"
   },
   {
    "duration": 5,
    "start_time": "2021-12-08T12:26:23.921Z"
   },
   {
    "duration": 6,
    "start_time": "2021-12-08T12:26:23.928Z"
   },
   {
    "duration": 211,
    "start_time": "2021-12-08T12:26:23.935Z"
   },
   {
    "duration": 4,
    "start_time": "2021-12-08T12:26:24.148Z"
   },
   {
    "duration": 262,
    "start_time": "2021-12-08T12:26:24.154Z"
   },
   {
    "duration": 4,
    "start_time": "2021-12-08T12:26:24.418Z"
   },
   {
    "duration": 10,
    "start_time": "2021-12-08T12:26:24.424Z"
   },
   {
    "duration": 6,
    "start_time": "2021-12-08T12:26:24.436Z"
   },
   {
    "duration": 14,
    "start_time": "2021-12-08T12:26:24.444Z"
   },
   {
    "duration": 46,
    "start_time": "2021-12-08T12:26:24.460Z"
   },
   {
    "duration": 11,
    "start_time": "2021-12-08T12:26:24.508Z"
   },
   {
    "duration": 28,
    "start_time": "2021-12-08T12:26:24.521Z"
   },
   {
    "duration": 1090,
    "start_time": "2021-12-08T12:26:46.136Z"
   },
   {
    "duration": 29,
    "start_time": "2021-12-08T12:26:47.228Z"
   },
   {
    "duration": 8,
    "start_time": "2021-12-08T12:26:47.259Z"
   },
   {
    "duration": 27,
    "start_time": "2021-12-08T12:26:47.269Z"
   },
   {
    "duration": 5,
    "start_time": "2021-12-08T12:26:47.298Z"
   },
   {
    "duration": 4,
    "start_time": "2021-12-08T12:26:47.307Z"
   },
   {
    "duration": 7,
    "start_time": "2021-12-08T12:26:47.313Z"
   },
   {
    "duration": 4,
    "start_time": "2021-12-08T12:26:47.324Z"
   },
   {
    "duration": 25,
    "start_time": "2021-12-08T12:26:47.331Z"
   },
   {
    "duration": 8,
    "start_time": "2021-12-08T12:26:47.358Z"
   },
   {
    "duration": 4,
    "start_time": "2021-12-08T12:26:47.368Z"
   },
   {
    "duration": 36,
    "start_time": "2021-12-08T12:26:47.374Z"
   },
   {
    "duration": 260,
    "start_time": "2021-12-08T12:26:47.412Z"
   },
   {
    "duration": 4,
    "start_time": "2021-12-08T12:26:47.674Z"
   },
   {
    "duration": 198,
    "start_time": "2021-12-08T12:26:47.680Z"
   },
   {
    "duration": 4,
    "start_time": "2021-12-08T12:26:47.880Z"
   },
   {
    "duration": 25,
    "start_time": "2021-12-08T12:26:47.885Z"
   },
   {
    "duration": 6,
    "start_time": "2021-12-08T12:26:47.912Z"
   },
   {
    "duration": 13,
    "start_time": "2021-12-08T12:26:47.920Z"
   },
   {
    "duration": 13,
    "start_time": "2021-12-08T12:26:47.935Z"
   },
   {
    "duration": 9,
    "start_time": "2021-12-08T12:26:47.950Z"
   },
   {
    "duration": 51,
    "start_time": "2021-12-08T12:26:47.961Z"
   },
   {
    "duration": 126359,
    "start_time": "2021-12-08T12:26:48.015Z"
   },
   {
    "duration": 1178,
    "start_time": "2021-12-08T12:30:51.876Z"
   },
   {
    "duration": 3,
    "start_time": "2021-12-08T12:30:53.056Z"
   },
   {
    "duration": 40,
    "start_time": "2021-12-08T12:30:53.061Z"
   },
   {
    "duration": 9,
    "start_time": "2021-12-08T12:30:53.103Z"
   },
   {
    "duration": 20,
    "start_time": "2021-12-08T12:30:53.114Z"
   },
   {
    "duration": 6,
    "start_time": "2021-12-08T12:30:53.136Z"
   },
   {
    "duration": 14,
    "start_time": "2021-12-08T12:30:53.144Z"
   },
   {
    "duration": 18,
    "start_time": "2021-12-08T12:30:53.161Z"
   },
   {
    "duration": 4,
    "start_time": "2021-12-08T12:30:53.206Z"
   },
   {
    "duration": 28,
    "start_time": "2021-12-08T12:30:53.212Z"
   },
   {
    "duration": 14,
    "start_time": "2021-12-08T12:30:53.242Z"
   },
   {
    "duration": 5,
    "start_time": "2021-12-08T12:30:53.258Z"
   },
   {
    "duration": 12,
    "start_time": "2021-12-08T12:30:53.265Z"
   },
   {
    "duration": 287,
    "start_time": "2021-12-08T12:30:53.279Z"
   },
   {
    "duration": 5,
    "start_time": "2021-12-08T12:30:53.568Z"
   },
   {
    "duration": 202,
    "start_time": "2021-12-08T12:30:53.574Z"
   },
   {
    "duration": 4,
    "start_time": "2021-12-08T12:30:53.779Z"
   },
   {
    "duration": 24,
    "start_time": "2021-12-08T12:30:53.785Z"
   },
   {
    "duration": 7,
    "start_time": "2021-12-08T12:30:53.810Z"
   },
   {
    "duration": 17,
    "start_time": "2021-12-08T12:30:53.819Z"
   },
   {
    "duration": 17,
    "start_time": "2021-12-08T12:30:53.838Z"
   },
   {
    "duration": 50,
    "start_time": "2021-12-08T12:30:53.857Z"
   },
   {
    "duration": 24,
    "start_time": "2021-12-08T12:30:53.910Z"
   },
   {
    "duration": 12823,
    "start_time": "2021-12-08T12:30:53.936Z"
   },
   {
    "duration": 1080,
    "start_time": "2021-12-08T12:31:48.766Z"
   },
   {
    "duration": 3,
    "start_time": "2021-12-08T12:31:49.848Z"
   },
   {
    "duration": 29,
    "start_time": "2021-12-08T12:31:49.855Z"
   },
   {
    "duration": 8,
    "start_time": "2021-12-08T12:31:49.886Z"
   },
   {
    "duration": 18,
    "start_time": "2021-12-08T12:31:49.906Z"
   },
   {
    "duration": 7,
    "start_time": "2021-12-08T12:31:49.925Z"
   },
   {
    "duration": 7,
    "start_time": "2021-12-08T12:31:49.933Z"
   },
   {
    "duration": 10,
    "start_time": "2021-12-08T12:31:49.942Z"
   },
   {
    "duration": 5,
    "start_time": "2021-12-08T12:31:49.954Z"
   },
   {
    "duration": 24,
    "start_time": "2021-12-08T12:31:49.961Z"
   },
   {
    "duration": 23,
    "start_time": "2021-12-08T12:31:49.987Z"
   },
   {
    "duration": 3,
    "start_time": "2021-12-08T12:31:50.012Z"
   },
   {
    "duration": 22,
    "start_time": "2021-12-08T12:31:50.017Z"
   },
   {
    "duration": 376,
    "start_time": "2021-12-08T12:31:50.041Z"
   },
   {
    "duration": 4,
    "start_time": "2021-12-08T12:31:50.418Z"
   },
   {
    "duration": 187,
    "start_time": "2021-12-08T12:31:50.424Z"
   },
   {
    "duration": 4,
    "start_time": "2021-12-08T12:31:50.613Z"
   },
   {
    "duration": 14,
    "start_time": "2021-12-08T12:31:50.618Z"
   },
   {
    "duration": 6,
    "start_time": "2021-12-08T12:31:50.634Z"
   },
   {
    "duration": 13,
    "start_time": "2021-12-08T12:31:50.642Z"
   },
   {
    "duration": 13,
    "start_time": "2021-12-08T12:31:50.656Z"
   },
   {
    "duration": 43,
    "start_time": "2021-12-08T12:31:50.670Z"
   },
   {
    "duration": 24,
    "start_time": "2021-12-08T12:31:50.714Z"
   },
   {
    "duration": 127077,
    "start_time": "2021-12-08T12:31:50.740Z"
   },
   {
    "duration": 1021,
    "start_time": "2021-12-08T16:05:13.720Z"
   },
   {
    "duration": 3,
    "start_time": "2021-12-08T16:05:14.742Z"
   },
   {
    "duration": 42,
    "start_time": "2021-12-08T16:05:14.747Z"
   },
   {
    "duration": 9,
    "start_time": "2021-12-08T16:05:14.791Z"
   },
   {
    "duration": 30,
    "start_time": "2021-12-08T16:05:14.801Z"
   },
   {
    "duration": 6,
    "start_time": "2021-12-08T16:05:14.833Z"
   },
   {
    "duration": 17,
    "start_time": "2021-12-08T16:05:14.841Z"
   },
   {
    "duration": 21,
    "start_time": "2021-12-08T16:05:14.861Z"
   },
   {
    "duration": 13,
    "start_time": "2021-12-08T16:05:14.884Z"
   },
   {
    "duration": 30,
    "start_time": "2021-12-08T16:05:14.898Z"
   },
   {
    "duration": 8,
    "start_time": "2021-12-08T16:05:14.930Z"
   },
   {
    "duration": 17,
    "start_time": "2021-12-08T16:05:14.940Z"
   },
   {
    "duration": 23,
    "start_time": "2021-12-08T16:05:14.959Z"
   },
   {
    "duration": 273,
    "start_time": "2021-12-08T16:05:14.983Z"
   },
   {
    "duration": 5,
    "start_time": "2021-12-08T16:05:15.258Z"
   },
   {
    "duration": 213,
    "start_time": "2021-12-08T16:05:15.265Z"
   },
   {
    "duration": 13,
    "start_time": "2021-12-08T16:05:15.480Z"
   },
   {
    "duration": 15,
    "start_time": "2021-12-08T16:05:15.495Z"
   },
   {
    "duration": 16,
    "start_time": "2021-12-08T16:05:15.512Z"
   },
   {
    "duration": 15,
    "start_time": "2021-12-08T16:05:15.530Z"
   },
   {
    "duration": 19,
    "start_time": "2021-12-08T16:05:15.547Z"
   },
   {
    "duration": 15,
    "start_time": "2021-12-08T16:05:15.568Z"
   },
   {
    "duration": 31,
    "start_time": "2021-12-08T16:05:15.585Z"
   },
   {
    "duration": 120042,
    "start_time": "2021-12-08T16:05:15.618Z"
   },
   {
    "duration": 493,
    "start_time": "2021-12-09T10:50:28.872Z"
   },
   {
    "duration": 1442,
    "start_time": "2021-12-09T10:50:43.155Z"
   },
   {
    "duration": 3,
    "start_time": "2021-12-09T10:50:44.600Z"
   },
   {
    "duration": 47,
    "start_time": "2021-12-09T10:50:44.606Z"
   },
   {
    "duration": 12,
    "start_time": "2021-12-09T10:50:44.656Z"
   },
   {
    "duration": 31,
    "start_time": "2021-12-09T10:50:44.671Z"
   },
   {
    "duration": 6,
    "start_time": "2021-12-09T10:50:44.704Z"
   },
   {
    "duration": 8,
    "start_time": "2021-12-09T10:50:44.714Z"
   },
   {
    "duration": 34,
    "start_time": "2021-12-09T10:50:44.725Z"
   },
   {
    "duration": 4,
    "start_time": "2021-12-09T10:50:44.764Z"
   },
   {
    "duration": 33,
    "start_time": "2021-12-09T10:50:44.770Z"
   },
   {
    "duration": 16,
    "start_time": "2021-12-09T10:50:44.806Z"
   },
   {
    "duration": 5,
    "start_time": "2021-12-09T10:50:44.825Z"
   },
   {
    "duration": 31,
    "start_time": "2021-12-09T10:50:44.832Z"
   },
   {
    "duration": 425,
    "start_time": "2021-12-09T10:50:44.866Z"
   },
   {
    "duration": 5,
    "start_time": "2021-12-09T10:50:45.293Z"
   },
   {
    "duration": 313,
    "start_time": "2021-12-09T10:50:45.301Z"
   },
   {
    "duration": 5,
    "start_time": "2021-12-09T10:50:45.616Z"
   },
   {
    "duration": 14,
    "start_time": "2021-12-09T10:50:45.624Z"
   },
   {
    "duration": 9,
    "start_time": "2021-12-09T10:50:45.660Z"
   },
   {
    "duration": 17,
    "start_time": "2021-12-09T10:50:45.672Z"
   },
   {
    "duration": 20,
    "start_time": "2021-12-09T10:50:45.692Z"
   },
   {
    "duration": 57,
    "start_time": "2021-12-09T10:50:45.714Z"
   },
   {
    "duration": 33,
    "start_time": "2021-12-09T10:50:45.774Z"
   },
   {
    "duration": 183784,
    "start_time": "2021-12-09T10:50:45.809Z"
   },
   {
    "duration": 5,
    "start_time": "2021-12-09T10:53:49.596Z"
   },
   {
    "duration": 5,
    "start_time": "2021-12-09T10:54:24.142Z"
   },
   {
    "duration": 5,
    "start_time": "2021-12-09T10:56:56.620Z"
   },
   {
    "duration": 992,
    "start_time": "2021-12-09T11:12:33.647Z"
   },
   {
    "duration": 5,
    "start_time": "2021-12-09T11:13:07.888Z"
   },
   {
    "duration": 874,
    "start_time": "2021-12-09T11:13:10.486Z"
   },
   {
    "duration": 4,
    "start_time": "2021-12-09T11:13:30.511Z"
   },
   {
    "duration": 5,
    "start_time": "2021-12-09T11:13:34.471Z"
   },
   {
    "duration": 797,
    "start_time": "2021-12-09T11:13:37.559Z"
   },
   {
    "duration": 5,
    "start_time": "2021-12-09T11:13:49.343Z"
   },
   {
    "duration": 13,
    "start_time": "2021-12-09T11:13:50.854Z"
   },
   {
    "duration": 391,
    "start_time": "2021-12-09T11:13:57.568Z"
   },
   {
    "duration": 5,
    "start_time": "2021-12-09T11:14:26.537Z"
   },
   {
    "duration": 14,
    "start_time": "2021-12-09T11:14:28.079Z"
   },
   {
    "duration": 6,
    "start_time": "2021-12-09T11:14:39.127Z"
   },
   {
    "duration": 16,
    "start_time": "2021-12-09T11:14:39.952Z"
   },
   {
    "duration": 5,
    "start_time": "2021-12-09T11:15:23.127Z"
   },
   {
    "duration": 4,
    "start_time": "2021-12-09T11:39:16.325Z"
   },
   {
    "duration": 666,
    "start_time": "2021-12-09T11:39:32.448Z"
   },
   {
    "duration": 9,
    "start_time": "2021-12-09T11:40:23.456Z"
   },
   {
    "duration": 6,
    "start_time": "2021-12-09T11:41:15.176Z"
   },
   {
    "duration": 848,
    "start_time": "2021-12-09T11:41:18.932Z"
   },
   {
    "duration": 6,
    "start_time": "2021-12-09T11:41:20.039Z"
   },
   {
    "duration": 516,
    "start_time": "2021-12-09T11:41:43.097Z"
   },
   {
    "duration": 7,
    "start_time": "2021-12-09T11:41:46.647Z"
   },
   {
    "duration": 990,
    "start_time": "2021-12-09T11:41:48.984Z"
   },
   {
    "duration": 4,
    "start_time": "2021-12-09T11:42:00.288Z"
   },
   {
    "duration": 17,
    "start_time": "2021-12-09T11:42:05.527Z"
   },
   {
    "duration": 4,
    "start_time": "2021-12-09T11:42:09.015Z"
   },
   {
    "duration": 513,
    "start_time": "2021-12-09T11:42:16.121Z"
   },
   {
    "duration": 9,
    "start_time": "2021-12-09T11:45:02.977Z"
   },
   {
    "duration": 7,
    "start_time": "2021-12-09T11:51:52.057Z"
   },
   {
    "duration": 7,
    "start_time": "2021-12-09T11:52:30.744Z"
   },
   {
    "duration": 7,
    "start_time": "2021-12-09T11:52:40.000Z"
   },
   {
    "duration": 7,
    "start_time": "2021-12-09T11:52:46.056Z"
   },
   {
    "duration": 1636,
    "start_time": "2021-12-09T11:54:13.150Z"
   },
   {
    "duration": 3,
    "start_time": "2021-12-09T11:54:14.789Z"
   },
   {
    "duration": 38,
    "start_time": "2021-12-09T11:54:14.795Z"
   },
   {
    "duration": 24,
    "start_time": "2021-12-09T11:54:14.836Z"
   },
   {
    "duration": 44,
    "start_time": "2021-12-09T11:54:14.864Z"
   },
   {
    "duration": 6,
    "start_time": "2021-12-09T11:54:14.911Z"
   },
   {
    "duration": 7,
    "start_time": "2021-12-09T11:54:14.920Z"
   },
   {
    "duration": 32,
    "start_time": "2021-12-09T11:54:14.931Z"
   },
   {
    "duration": 4,
    "start_time": "2021-12-09T11:54:14.966Z"
   },
   {
    "duration": 32,
    "start_time": "2021-12-09T11:54:14.973Z"
   },
   {
    "duration": 15,
    "start_time": "2021-12-09T11:54:15.008Z"
   },
   {
    "duration": 35,
    "start_time": "2021-12-09T11:54:15.026Z"
   },
   {
    "duration": 8,
    "start_time": "2021-12-09T11:54:15.063Z"
   },
   {
    "duration": 454,
    "start_time": "2021-12-09T11:54:15.074Z"
   },
   {
    "duration": 5,
    "start_time": "2021-12-09T11:54:15.531Z"
   },
   {
    "duration": 505,
    "start_time": "2021-12-09T11:54:15.538Z"
   },
   {
    "duration": 15,
    "start_time": "2021-12-09T11:54:16.046Z"
   },
   {
    "duration": 15,
    "start_time": "2021-12-09T11:54:16.064Z"
   },
   {
    "duration": 12,
    "start_time": "2021-12-09T11:54:16.082Z"
   },
   {
    "duration": 63,
    "start_time": "2021-12-09T11:54:16.097Z"
   },
   {
    "duration": 28,
    "start_time": "2021-12-09T11:54:16.163Z"
   },
   {
    "duration": 18,
    "start_time": "2021-12-09T11:54:16.194Z"
   },
   {
    "duration": 78,
    "start_time": "2021-12-09T11:54:16.218Z"
   },
   {
    "duration": 185989,
    "start_time": "2021-12-09T11:54:16.300Z"
   },
   {
    "duration": 6,
    "start_time": "2021-12-09T11:57:22.292Z"
   },
   {
    "duration": 18,
    "start_time": "2021-12-09T11:57:22.300Z"
   },
   {
    "duration": 8,
    "start_time": "2021-12-09T11:57:22.320Z"
   },
   {
    "duration": 136,
    "start_time": "2021-12-09T11:57:22.330Z"
   },
   {
    "duration": 1305,
    "start_time": "2021-12-09T12:05:43.002Z"
   },
   {
    "duration": 3,
    "start_time": "2021-12-09T12:05:44.310Z"
   },
   {
    "duration": 41,
    "start_time": "2021-12-09T12:05:44.316Z"
   },
   {
    "duration": 13,
    "start_time": "2021-12-09T12:05:44.360Z"
   },
   {
    "duration": 30,
    "start_time": "2021-12-09T12:05:44.375Z"
   },
   {
    "duration": 5,
    "start_time": "2021-12-09T12:05:44.408Z"
   },
   {
    "duration": 7,
    "start_time": "2021-12-09T12:05:44.415Z"
   },
   {
    "duration": 40,
    "start_time": "2021-12-09T12:05:44.424Z"
   },
   {
    "duration": 4,
    "start_time": "2021-12-09T12:05:44.469Z"
   },
   {
    "duration": 29,
    "start_time": "2021-12-09T12:05:44.476Z"
   },
   {
    "duration": 9,
    "start_time": "2021-12-09T12:05:44.507Z"
   },
   {
    "duration": 42,
    "start_time": "2021-12-09T12:05:44.519Z"
   },
   {
    "duration": 6,
    "start_time": "2021-12-09T12:05:44.564Z"
   },
   {
    "duration": 435,
    "start_time": "2021-12-09T12:05:44.573Z"
   },
   {
    "duration": 6,
    "start_time": "2021-12-09T12:05:45.010Z"
   },
   {
    "duration": 319,
    "start_time": "2021-12-09T12:05:45.019Z"
   },
   {
    "duration": 5,
    "start_time": "2021-12-09T12:05:45.340Z"
   },
   {
    "duration": 24,
    "start_time": "2021-12-09T12:05:45.348Z"
   },
   {
    "duration": 11,
    "start_time": "2021-12-09T12:05:45.375Z"
   },
   {
    "duration": 19,
    "start_time": "2021-12-09T12:05:45.389Z"
   },
   {
    "duration": 61,
    "start_time": "2021-12-09T12:05:45.411Z"
   },
   {
    "duration": 13,
    "start_time": "2021-12-09T12:05:45.475Z"
   },
   {
    "duration": 35,
    "start_time": "2021-12-09T12:05:45.491Z"
   },
   {
    "duration": 192909,
    "start_time": "2021-12-09T12:05:45.529Z"
   },
   {
    "duration": 19,
    "start_time": "2021-12-09T12:08:58.441Z"
   },
   {
    "duration": 20,
    "start_time": "2021-12-09T12:08:58.463Z"
   },
   {
    "duration": 11,
    "start_time": "2021-12-09T12:08:58.489Z"
   },
   {
    "duration": 164,
    "start_time": "2021-12-09T12:08:58.503Z"
   },
   {
    "duration": 6,
    "start_time": "2021-12-09T12:27:47.441Z"
   },
   {
    "duration": 842,
    "start_time": "2021-12-09T12:27:55.768Z"
   },
   {
    "duration": 1520,
    "start_time": "2021-12-09T12:34:59.352Z"
   },
   {
    "duration": 4,
    "start_time": "2021-12-09T12:35:00.875Z"
   },
   {
    "duration": 38,
    "start_time": "2021-12-09T12:35:00.885Z"
   },
   {
    "duration": 38,
    "start_time": "2021-12-09T12:35:00.926Z"
   },
   {
    "duration": 31,
    "start_time": "2021-12-09T12:35:00.966Z"
   },
   {
    "duration": 13,
    "start_time": "2021-12-09T12:35:01.001Z"
   },
   {
    "duration": 8,
    "start_time": "2021-12-09T12:35:01.018Z"
   },
   {
    "duration": 43,
    "start_time": "2021-12-09T12:35:01.030Z"
   },
   {
    "duration": 16,
    "start_time": "2021-12-09T12:35:01.075Z"
   },
   {
    "duration": 51,
    "start_time": "2021-12-09T12:35:01.094Z"
   },
   {
    "duration": 9,
    "start_time": "2021-12-09T12:35:01.148Z"
   },
   {
    "duration": 19,
    "start_time": "2021-12-09T12:35:01.160Z"
   },
   {
    "duration": 11,
    "start_time": "2021-12-09T12:35:01.182Z"
   },
   {
    "duration": 469,
    "start_time": "2021-12-09T12:35:01.196Z"
   },
   {
    "duration": 5,
    "start_time": "2021-12-09T12:35:01.668Z"
   },
   {
    "duration": 347,
    "start_time": "2021-12-09T12:35:01.676Z"
   },
   {
    "duration": 5,
    "start_time": "2021-12-09T12:35:02.025Z"
   },
   {
    "duration": 34,
    "start_time": "2021-12-09T12:35:02.034Z"
   },
   {
    "duration": 10,
    "start_time": "2021-12-09T12:35:02.071Z"
   },
   {
    "duration": 20,
    "start_time": "2021-12-09T12:35:02.083Z"
   },
   {
    "duration": 26,
    "start_time": "2021-12-09T12:35:02.105Z"
   },
   {
    "duration": 20,
    "start_time": "2021-12-09T12:35:02.165Z"
   },
   {
    "duration": 70,
    "start_time": "2021-12-09T12:35:02.189Z"
   },
   {
    "duration": 248604,
    "start_time": "2021-12-09T12:35:02.263Z"
   },
   {
    "duration": 9,
    "start_time": "2021-12-09T12:39:10.870Z"
   },
   {
    "duration": 29,
    "start_time": "2021-12-09T12:39:10.882Z"
   },
   {
    "duration": 11,
    "start_time": "2021-12-09T12:39:10.914Z"
   },
   {
    "duration": 246,
    "start_time": "2021-12-09T12:39:10.929Z"
   },
   {
    "duration": 1309,
    "start_time": "2021-12-09T12:39:11.258Z"
   },
   {
    "duration": 280763,
    "start_time": "2021-12-09T12:39:12.569Z"
   },
   {
    "duration": 1313,
    "start_time": "2021-12-09T15:19:49.849Z"
   },
   {
    "duration": 4,
    "start_time": "2021-12-09T15:19:51.164Z"
   },
   {
    "duration": 35,
    "start_time": "2021-12-09T15:19:51.171Z"
   },
   {
    "duration": 17,
    "start_time": "2021-12-09T15:19:51.209Z"
   },
   {
    "duration": 28,
    "start_time": "2021-12-09T15:19:51.228Z"
   },
   {
    "duration": 6,
    "start_time": "2021-12-09T15:19:51.259Z"
   },
   {
    "duration": 8,
    "start_time": "2021-12-09T15:19:51.267Z"
   },
   {
    "duration": 41,
    "start_time": "2021-12-09T15:19:51.278Z"
   },
   {
    "duration": 7,
    "start_time": "2021-12-09T15:19:51.323Z"
   },
   {
    "duration": 30,
    "start_time": "2021-12-09T15:19:51.333Z"
   },
   {
    "duration": 9,
    "start_time": "2021-12-09T15:19:51.365Z"
   },
   {
    "duration": 41,
    "start_time": "2021-12-09T15:19:51.376Z"
   },
   {
    "duration": 5,
    "start_time": "2021-12-09T15:19:51.419Z"
   },
   {
    "duration": 425,
    "start_time": "2021-12-09T15:19:51.427Z"
   },
   {
    "duration": 6,
    "start_time": "2021-12-09T15:19:51.854Z"
   },
   {
    "duration": 341,
    "start_time": "2021-12-09T15:19:51.862Z"
   },
   {
    "duration": 11,
    "start_time": "2021-12-09T15:19:52.206Z"
   },
   {
    "duration": 11,
    "start_time": "2021-12-09T15:19:52.219Z"
   },
   {
    "duration": 9,
    "start_time": "2021-12-09T15:19:52.232Z"
   },
   {
    "duration": 18,
    "start_time": "2021-12-09T15:19:52.243Z"
   },
   {
    "duration": 55,
    "start_time": "2021-12-09T15:19:52.264Z"
   },
   {
    "duration": 13,
    "start_time": "2021-12-09T15:19:52.322Z"
   },
   {
    "duration": 32,
    "start_time": "2021-12-09T15:19:52.337Z"
   },
   {
    "duration": 193967,
    "start_time": "2021-12-09T15:19:52.372Z"
   },
   {
    "duration": 6,
    "start_time": "2021-12-09T15:23:06.341Z"
   },
   {
    "duration": 20,
    "start_time": "2021-12-09T15:23:06.349Z"
   },
   {
    "duration": 10,
    "start_time": "2021-12-09T15:23:06.376Z"
   },
   {
    "duration": 107,
    "start_time": "2021-12-09T15:23:06.417Z"
   },
   {
    "duration": 1102,
    "start_time": "2021-12-09T15:23:06.527Z"
   },
   {
    "duration": 274825,
    "start_time": "2021-12-09T15:23:07.632Z"
   },
   {
    "duration": 7,
    "start_time": "2021-12-09T15:38:29.736Z"
   },
   {
    "duration": 20,
    "start_time": "2021-12-09T15:39:10.925Z"
   },
   {
    "duration": 1924,
    "start_time": "2021-12-09T15:45:48.379Z"
   },
   {
    "duration": 1468,
    "start_time": "2021-12-09T15:47:51.787Z"
   },
   {
    "duration": 113,
    "start_time": "2021-12-09T15:49:34.933Z"
   },
   {
    "duration": 484,
    "start_time": "2021-12-09T15:49:39.127Z"
   },
   {
    "duration": 5,
    "start_time": "2021-12-09T15:49:44.343Z"
   },
   {
    "duration": 5,
    "start_time": "2021-12-09T15:49:48.841Z"
   },
   {
    "duration": 7,
    "start_time": "2021-12-09T15:50:17.014Z"
   },
   {
    "duration": 4,
    "start_time": "2021-12-09T15:51:46.613Z"
   },
   {
    "duration": 8,
    "start_time": "2021-12-09T15:51:57.334Z"
   },
   {
    "duration": 3,
    "start_time": "2021-12-09T16:05:17.907Z"
   },
   {
    "duration": 90,
    "start_time": "2021-12-09T16:09:55.834Z"
   },
   {
    "duration": 664,
    "start_time": "2021-12-09T16:11:29.366Z"
   },
   {
    "duration": 676,
    "start_time": "2021-12-09T16:13:05.466Z"
   },
   {
    "duration": 196136,
    "start_time": "2021-12-09T16:13:20.796Z"
   },
   {
    "duration": 7,
    "start_time": "2021-12-09T16:19:21.763Z"
   },
   {
    "duration": 383,
    "start_time": "2021-12-09T16:20:27.492Z"
   },
   {
    "duration": 17,
    "start_time": "2021-12-09T16:21:02.701Z"
   },
   {
    "duration": 319,
    "start_time": "2021-12-09T16:21:39.866Z"
   },
   {
    "duration": 1364,
    "start_time": "2021-12-09T16:26:19.253Z"
   },
   {
    "duration": 3,
    "start_time": "2021-12-09T16:26:20.620Z"
   },
   {
    "duration": 36,
    "start_time": "2021-12-09T16:26:20.626Z"
   },
   {
    "duration": 14,
    "start_time": "2021-12-09T16:26:20.664Z"
   },
   {
    "duration": 56,
    "start_time": "2021-12-09T16:26:20.681Z"
   },
   {
    "duration": 7,
    "start_time": "2021-12-09T16:26:20.739Z"
   },
   {
    "duration": 11,
    "start_time": "2021-12-09T16:26:20.748Z"
   },
   {
    "duration": 7,
    "start_time": "2021-12-09T16:26:20.763Z"
   },
   {
    "duration": 5,
    "start_time": "2021-12-09T16:26:20.773Z"
   },
   {
    "duration": 59,
    "start_time": "2021-12-09T16:26:20.780Z"
   },
   {
    "duration": 8,
    "start_time": "2021-12-09T16:26:20.842Z"
   },
   {
    "duration": 13,
    "start_time": "2021-12-09T16:26:20.852Z"
   },
   {
    "duration": 7,
    "start_time": "2021-12-09T16:26:20.867Z"
   },
   {
    "duration": 457,
    "start_time": "2021-12-09T16:26:20.876Z"
   },
   {
    "duration": 5,
    "start_time": "2021-12-09T16:26:21.336Z"
   },
   {
    "duration": 319,
    "start_time": "2021-12-09T16:26:21.344Z"
   },
   {
    "duration": 5,
    "start_time": "2021-12-09T16:26:21.666Z"
   },
   {
    "duration": 15,
    "start_time": "2021-12-09T16:26:21.674Z"
   },
   {
    "duration": 30,
    "start_time": "2021-12-09T16:26:21.691Z"
   },
   {
    "duration": 19,
    "start_time": "2021-12-09T16:26:21.723Z"
   },
   {
    "duration": 20,
    "start_time": "2021-12-09T16:26:21.745Z"
   },
   {
    "duration": 14,
    "start_time": "2021-12-09T16:26:21.768Z"
   },
   {
    "duration": 34,
    "start_time": "2021-12-09T16:26:21.821Z"
   },
   {
    "duration": 195408,
    "start_time": "2021-12-09T16:26:21.858Z"
   },
   {
    "duration": 151,
    "start_time": "2021-12-09T16:29:37.269Z"
   },
   {
    "duration": 789,
    "start_time": "2021-12-09T16:29:37.423Z"
   },
   {
    "duration": 202927,
    "start_time": "2021-12-09T16:29:38.217Z"
   },
   {
    "duration": 5,
    "start_time": "2021-12-09T16:33:01.147Z"
   },
   {
    "duration": 24,
    "start_time": "2021-12-09T16:33:01.155Z"
   },
   {
    "duration": 9,
    "start_time": "2021-12-09T16:33:01.182Z"
   },
   {
    "duration": 132,
    "start_time": "2021-12-09T16:33:01.193Z"
   },
   {
    "duration": 969,
    "start_time": "2021-12-09T16:33:01.419Z"
   },
   {
    "duration": 279631,
    "start_time": "2021-12-09T16:33:02.390Z"
   },
   {
    "duration": 6,
    "start_time": "2021-12-09T16:37:42.023Z"
   },
   {
    "duration": 530,
    "start_time": "2021-12-09T16:37:42.032Z"
   },
   {
    "duration": 986,
    "start_time": "2021-12-09T16:37:41.579Z"
   },
   {
    "duration": 982,
    "start_time": "2021-12-09T16:37:41.584Z"
   },
   {
    "duration": 979,
    "start_time": "2021-12-09T16:37:41.589Z"
   },
   {
    "duration": 957,
    "start_time": "2021-12-09T16:37:41.612Z"
   },
   {
    "duration": 955,
    "start_time": "2021-12-09T16:37:41.616Z"
   },
   {
    "duration": 951,
    "start_time": "2021-12-09T16:37:41.621Z"
   },
   {
    "duration": 949,
    "start_time": "2021-12-09T16:37:41.625Z"
   },
   {
    "duration": 1349,
    "start_time": "2021-12-09T16:43:37.327Z"
   },
   {
    "duration": 3,
    "start_time": "2021-12-09T16:43:38.679Z"
   },
   {
    "duration": 38,
    "start_time": "2021-12-09T16:43:38.689Z"
   },
   {
    "duration": 11,
    "start_time": "2021-12-09T16:43:38.730Z"
   },
   {
    "duration": 26,
    "start_time": "2021-12-09T16:43:38.744Z"
   },
   {
    "duration": 6,
    "start_time": "2021-12-09T16:43:38.773Z"
   },
   {
    "duration": 37,
    "start_time": "2021-12-09T16:43:38.782Z"
   },
   {
    "duration": 8,
    "start_time": "2021-12-09T16:43:38.822Z"
   },
   {
    "duration": 4,
    "start_time": "2021-12-09T16:43:38.832Z"
   },
   {
    "duration": 28,
    "start_time": "2021-12-09T16:43:38.839Z"
   },
   {
    "duration": 8,
    "start_time": "2021-12-09T16:43:38.870Z"
   },
   {
    "duration": 5,
    "start_time": "2021-12-09T16:43:38.917Z"
   },
   {
    "duration": 10,
    "start_time": "2021-12-09T16:43:38.925Z"
   },
   {
    "duration": 454,
    "start_time": "2021-12-09T16:43:38.937Z"
   },
   {
    "duration": 4,
    "start_time": "2021-12-09T16:43:39.394Z"
   },
   {
    "duration": 309,
    "start_time": "2021-12-09T16:43:39.401Z"
   },
   {
    "duration": 7,
    "start_time": "2021-12-09T16:43:39.712Z"
   },
   {
    "duration": 14,
    "start_time": "2021-12-09T16:43:39.721Z"
   },
   {
    "duration": 9,
    "start_time": "2021-12-09T16:43:39.738Z"
   },
   {
    "duration": 19,
    "start_time": "2021-12-09T16:43:39.750Z"
   },
   {
    "duration": 61,
    "start_time": "2021-12-09T16:43:39.772Z"
   },
   {
    "duration": 23,
    "start_time": "2021-12-09T16:43:39.838Z"
   },
   {
    "duration": 43,
    "start_time": "2021-12-09T16:43:39.864Z"
   },
   {
    "duration": 196849,
    "start_time": "2021-12-09T16:43:39.909Z"
   },
   {
    "duration": 160,
    "start_time": "2021-12-09T16:46:56.761Z"
   },
   {
    "duration": 773,
    "start_time": "2021-12-09T16:46:56.925Z"
   },
   {
    "duration": 201321,
    "start_time": "2021-12-09T16:46:57.700Z"
   },
   {
    "duration": 6,
    "start_time": "2021-12-09T16:50:19.023Z"
   },
   {
    "duration": 26,
    "start_time": "2021-12-09T16:50:19.031Z"
   },
   {
    "duration": 8,
    "start_time": "2021-12-09T16:50:19.059Z"
   },
   {
    "duration": 160,
    "start_time": "2021-12-09T16:50:19.070Z"
   },
   {
    "duration": 984,
    "start_time": "2021-12-09T16:50:19.318Z"
   },
   {
    "duration": 275867,
    "start_time": "2021-12-09T16:50:20.305Z"
   },
   {
    "duration": 190,
    "start_time": "2021-12-09T16:54:56.175Z"
   },
   {
    "duration": 1006,
    "start_time": "2021-12-09T16:54:55.361Z"
   },
   {
    "duration": 994,
    "start_time": "2021-12-09T16:54:55.375Z"
   },
   {
    "duration": 984,
    "start_time": "2021-12-09T16:54:55.386Z"
   },
   {
    "duration": 975,
    "start_time": "2021-12-09T16:54:55.396Z"
   },
   {
    "duration": 969,
    "start_time": "2021-12-09T16:54:55.403Z"
   },
   {
    "duration": 962,
    "start_time": "2021-12-09T16:54:55.412Z"
   },
   {
    "duration": 955,
    "start_time": "2021-12-09T16:54:55.420Z"
   },
   {
    "duration": 948,
    "start_time": "2021-12-09T16:54:55.428Z"
   },
   {
    "duration": 6,
    "start_time": "2021-12-09T17:01:26.410Z"
   },
   {
    "duration": 15,
    "start_time": "2021-12-09T17:01:28.227Z"
   },
   {
    "duration": 1343,
    "start_time": "2021-12-09T17:01:34.520Z"
   },
   {
    "duration": 3,
    "start_time": "2021-12-09T17:01:35.865Z"
   },
   {
    "duration": 38,
    "start_time": "2021-12-09T17:01:35.871Z"
   },
   {
    "duration": 13,
    "start_time": "2021-12-09T17:01:35.916Z"
   },
   {
    "duration": 33,
    "start_time": "2021-12-09T17:01:35.931Z"
   },
   {
    "duration": 11,
    "start_time": "2021-12-09T17:01:35.966Z"
   },
   {
    "duration": 15,
    "start_time": "2021-12-09T17:01:35.979Z"
   },
   {
    "duration": 23,
    "start_time": "2021-12-09T17:01:35.999Z"
   },
   {
    "duration": 8,
    "start_time": "2021-12-09T17:01:36.026Z"
   },
   {
    "duration": 38,
    "start_time": "2021-12-09T17:01:36.037Z"
   },
   {
    "duration": 17,
    "start_time": "2021-12-09T17:01:36.078Z"
   },
   {
    "duration": 21,
    "start_time": "2021-12-09T17:01:36.097Z"
   },
   {
    "duration": 9,
    "start_time": "2021-12-09T17:01:36.120Z"
   },
   {
    "duration": 425,
    "start_time": "2021-12-09T17:01:36.131Z"
   },
   {
    "duration": 6,
    "start_time": "2021-12-09T17:01:36.559Z"
   },
   {
    "duration": 321,
    "start_time": "2021-12-09T17:01:36.568Z"
   },
   {
    "duration": 6,
    "start_time": "2021-12-09T17:01:36.892Z"
   },
   {
    "duration": 35,
    "start_time": "2021-12-09T17:01:36.901Z"
   },
   {
    "duration": 11,
    "start_time": "2021-12-09T17:01:36.939Z"
   },
   {
    "duration": 28,
    "start_time": "2021-12-09T17:01:36.953Z"
   },
   {
    "duration": 43,
    "start_time": "2021-12-09T17:01:36.984Z"
   },
   {
    "duration": 15,
    "start_time": "2021-12-09T17:01:37.030Z"
   },
   {
    "duration": 35,
    "start_time": "2021-12-09T17:01:37.052Z"
   },
   {
    "duration": 199455,
    "start_time": "2021-12-09T17:01:37.119Z"
   },
   {
    "duration": 141,
    "start_time": "2021-12-09T17:04:56.576Z"
   },
   {
    "duration": 783,
    "start_time": "2021-12-09T17:04:56.721Z"
   },
   {
    "duration": 201875,
    "start_time": "2021-12-09T17:04:57.507Z"
   },
   {
    "duration": 6,
    "start_time": "2021-12-09T17:08:19.385Z"
   },
   {
    "duration": 36,
    "start_time": "2021-12-09T17:08:19.394Z"
   },
   {
    "duration": 9,
    "start_time": "2021-12-09T17:08:19.432Z"
   },
   {
    "duration": 83,
    "start_time": "2021-12-09T17:08:19.443Z"
   },
   {
    "duration": 962,
    "start_time": "2021-12-09T17:08:19.618Z"
   },
   {
    "duration": 279579,
    "start_time": "2021-12-09T17:08:20.582Z"
   },
   {
    "duration": 6,
    "start_time": "2021-12-09T17:13:00.164Z"
   },
   {
    "duration": 21,
    "start_time": "2021-12-09T17:13:00.172Z"
   },
   {
    "duration": 25,
    "start_time": "2021-12-09T17:13:00.196Z"
   },
   {
    "duration": 102,
    "start_time": "2021-12-09T17:13:00.223Z"
   },
   {
    "duration": 409,
    "start_time": "2021-12-09T17:13:00.417Z"
   },
   {
    "duration": 112917,
    "start_time": "2021-12-09T17:13:00.828Z"
   },
   {
    "duration": 19,
    "start_time": "2021-12-09T17:14:53.748Z"
   },
   {
    "duration": 2091,
    "start_time": "2021-12-09T17:14:53.769Z"
   },
   {
    "duration": 1521,
    "start_time": "2021-12-09T17:14:55.862Z"
   },
   {
    "duration": 4,
    "start_time": "2021-12-10T06:09:48.021Z"
   },
   {
    "duration": 410,
    "start_time": "2021-12-10T06:10:57.664Z"
   },
   {
    "duration": 1522,
    "start_time": "2021-12-10T06:28:47.246Z"
   },
   {
    "duration": 4,
    "start_time": "2021-12-10T06:28:48.770Z"
   },
   {
    "duration": 46,
    "start_time": "2021-12-10T06:28:48.778Z"
   },
   {
    "duration": 13,
    "start_time": "2021-12-10T06:28:48.826Z"
   },
   {
    "duration": 27,
    "start_time": "2021-12-10T06:28:48.841Z"
   },
   {
    "duration": 5,
    "start_time": "2021-12-10T06:28:48.871Z"
   },
   {
    "duration": 6,
    "start_time": "2021-12-10T06:28:48.879Z"
   },
   {
    "duration": 5,
    "start_time": "2021-12-10T06:28:48.920Z"
   },
   {
    "duration": 4,
    "start_time": "2021-12-10T06:28:48.928Z"
   },
   {
    "duration": 30,
    "start_time": "2021-12-10T06:28:48.935Z"
   },
   {
    "duration": 9,
    "start_time": "2021-12-10T06:28:48.967Z"
   },
   {
    "duration": 5,
    "start_time": "2021-12-10T06:28:49.018Z"
   },
   {
    "duration": 9,
    "start_time": "2021-12-10T06:28:49.027Z"
   },
   {
    "duration": 546,
    "start_time": "2021-12-10T06:28:49.039Z"
   },
   {
    "duration": 5,
    "start_time": "2021-12-10T06:28:49.588Z"
   },
   {
    "duration": 310,
    "start_time": "2021-12-10T06:28:49.595Z"
   },
   {
    "duration": 11,
    "start_time": "2021-12-10T06:28:49.908Z"
   },
   {
    "duration": 13,
    "start_time": "2021-12-10T06:28:49.921Z"
   },
   {
    "duration": 9,
    "start_time": "2021-12-10T06:28:49.936Z"
   },
   {
    "duration": 18,
    "start_time": "2021-12-10T06:28:49.948Z"
   },
   {
    "duration": 59,
    "start_time": "2021-12-10T06:28:49.968Z"
   },
   {
    "duration": 13,
    "start_time": "2021-12-10T06:28:50.029Z"
   },
   {
    "duration": 35,
    "start_time": "2021-12-10T06:28:50.047Z"
   },
   {
    "duration": 135,
    "start_time": "2021-12-10T06:28:50.084Z"
   },
   {
    "duration": 781,
    "start_time": "2021-12-10T06:28:50.222Z"
   },
   {
    "duration": 200626,
    "start_time": "2021-12-10T06:28:51.005Z"
   },
   {
    "duration": 84,
    "start_time": "2021-12-10T06:32:11.634Z"
   },
   {
    "duration": 910,
    "start_time": "2021-12-10T06:32:11.721Z"
   },
   {
    "duration": 198660,
    "start_time": "2021-12-10T06:32:12.633Z"
   },
   {
    "duration": 7,
    "start_time": "2021-12-10T06:35:31.296Z"
   },
   {
    "duration": 20,
    "start_time": "2021-12-10T06:35:31.317Z"
   },
   {
    "duration": 10,
    "start_time": "2021-12-10T06:35:31.339Z"
   },
   {
    "duration": 168,
    "start_time": "2021-12-10T06:35:31.351Z"
   },
   {
    "duration": 987,
    "start_time": "2021-12-10T06:35:31.522Z"
   },
   {
    "duration": 284482,
    "start_time": "2021-12-10T06:35:32.511Z"
   },
   {
    "duration": 6,
    "start_time": "2021-12-10T06:40:16.995Z"
   },
   {
    "duration": 31,
    "start_time": "2021-12-10T06:40:17.004Z"
   },
   {
    "duration": 10,
    "start_time": "2021-12-10T06:40:17.038Z"
   },
   {
    "duration": 73,
    "start_time": "2021-12-10T06:40:17.051Z"
   },
   {
    "duration": 456,
    "start_time": "2021-12-10T06:40:17.218Z"
   },
   {
    "duration": 111325,
    "start_time": "2021-12-10T06:40:17.677Z"
   },
   {
    "duration": 28,
    "start_time": "2021-12-10T06:42:09.004Z"
   },
   {
    "duration": 1955,
    "start_time": "2021-12-10T06:42:09.035Z"
   },
   {
    "duration": 1506,
    "start_time": "2021-12-10T06:42:10.992Z"
   },
   {
    "duration": 528,
    "start_time": "2021-12-10T07:03:28.940Z"
   },
   {
    "duration": 429,
    "start_time": "2021-12-10T07:03:54.972Z"
   },
   {
    "duration": 1409,
    "start_time": "2021-12-10T07:26:13.843Z"
   },
   {
    "duration": 3,
    "start_time": "2021-12-10T07:26:15.254Z"
   },
   {
    "duration": 55,
    "start_time": "2021-12-10T07:26:15.260Z"
   },
   {
    "duration": 11,
    "start_time": "2021-12-10T07:26:15.317Z"
   },
   {
    "duration": 31,
    "start_time": "2021-12-10T07:26:15.330Z"
   },
   {
    "duration": 6,
    "start_time": "2021-12-10T07:26:15.363Z"
   },
   {
    "duration": 20,
    "start_time": "2021-12-10T07:26:15.371Z"
   },
   {
    "duration": 25,
    "start_time": "2021-12-10T07:26:15.393Z"
   },
   {
    "duration": 20,
    "start_time": "2021-12-10T07:26:15.422Z"
   },
   {
    "duration": 44,
    "start_time": "2021-12-10T07:26:15.445Z"
   },
   {
    "duration": 15,
    "start_time": "2021-12-10T07:26:15.491Z"
   },
   {
    "duration": 16,
    "start_time": "2021-12-10T07:26:15.508Z"
   },
   {
    "duration": 22,
    "start_time": "2021-12-10T07:26:15.526Z"
   },
   {
    "duration": 424,
    "start_time": "2021-12-10T07:26:15.550Z"
   },
   {
    "duration": 5,
    "start_time": "2021-12-10T07:26:15.976Z"
   },
   {
    "duration": 326,
    "start_time": "2021-12-10T07:26:15.983Z"
   },
   {
    "duration": 6,
    "start_time": "2021-12-10T07:26:16.312Z"
   },
   {
    "duration": 35,
    "start_time": "2021-12-10T07:26:16.321Z"
   },
   {
    "duration": 28,
    "start_time": "2021-12-10T07:26:16.359Z"
   },
   {
    "duration": 35,
    "start_time": "2021-12-10T07:26:16.390Z"
   },
   {
    "duration": 32,
    "start_time": "2021-12-10T07:26:16.427Z"
   },
   {
    "duration": 43,
    "start_time": "2021-12-10T07:26:16.461Z"
   },
   {
    "duration": 41,
    "start_time": "2021-12-10T07:26:16.506Z"
   },
   {
    "duration": 167,
    "start_time": "2021-12-10T07:26:16.550Z"
   },
   {
    "duration": 684,
    "start_time": "2021-12-10T07:26:16.720Z"
   },
   {
    "duration": 213055,
    "start_time": "2021-12-10T07:26:17.408Z"
   },
   {
    "duration": 146,
    "start_time": "2021-12-10T07:29:50.470Z"
   },
   {
    "duration": 1078,
    "start_time": "2021-12-10T07:29:50.621Z"
   },
   {
    "duration": 205053,
    "start_time": "2021-12-10T07:29:51.702Z"
   },
   {
    "duration": 6,
    "start_time": "2021-12-10T07:33:16.757Z"
   },
   {
    "duration": 24,
    "start_time": "2021-12-10T07:33:16.765Z"
   },
   {
    "duration": 29,
    "start_time": "2021-12-10T07:33:16.791Z"
   },
   {
    "duration": 295,
    "start_time": "2021-12-10T07:33:16.823Z"
   },
   {
    "duration": 1148,
    "start_time": "2021-12-10T07:33:17.121Z"
   },
   {
    "duration": 321215,
    "start_time": "2021-12-10T07:33:18.272Z"
   },
   {
    "duration": 6,
    "start_time": "2021-12-10T07:38:39.490Z"
   },
   {
    "duration": 27,
    "start_time": "2021-12-10T07:38:39.498Z"
   },
   {
    "duration": 9,
    "start_time": "2021-12-10T07:38:39.527Z"
   },
   {
    "duration": 86,
    "start_time": "2021-12-10T07:38:39.538Z"
   },
   {
    "duration": 501,
    "start_time": "2021-12-10T07:38:39.627Z"
   },
   {
    "duration": 115056,
    "start_time": "2021-12-10T07:38:40.130Z"
   },
   {
    "duration": 437,
    "start_time": "2021-12-10T07:40:35.189Z"
   },
   {
    "duration": 1331,
    "start_time": "2021-12-11T13:32:35.692Z"
   },
   {
    "duration": 3,
    "start_time": "2021-12-11T13:32:37.026Z"
   },
   {
    "duration": 35,
    "start_time": "2021-12-11T13:32:37.032Z"
   },
   {
    "duration": 11,
    "start_time": "2021-12-11T13:32:37.070Z"
   },
   {
    "duration": 46,
    "start_time": "2021-12-11T13:32:37.083Z"
   },
   {
    "duration": 8,
    "start_time": "2021-12-11T13:32:37.131Z"
   },
   {
    "duration": 7,
    "start_time": "2021-12-11T13:32:37.142Z"
   },
   {
    "duration": 5,
    "start_time": "2021-12-11T13:32:37.153Z"
   },
   {
    "duration": 4,
    "start_time": "2021-12-11T13:32:37.161Z"
   },
   {
    "duration": 58,
    "start_time": "2021-12-11T13:32:37.167Z"
   },
   {
    "duration": 8,
    "start_time": "2021-12-11T13:32:37.227Z"
   },
   {
    "duration": 5,
    "start_time": "2021-12-11T13:32:37.237Z"
   },
   {
    "duration": 8,
    "start_time": "2021-12-11T13:32:37.244Z"
   },
   {
    "duration": 415,
    "start_time": "2021-12-11T13:32:37.254Z"
   },
   {
    "duration": 7,
    "start_time": "2021-12-11T13:32:37.671Z"
   },
   {
    "duration": 311,
    "start_time": "2021-12-11T13:32:37.681Z"
   },
   {
    "duration": 7,
    "start_time": "2021-12-11T13:32:37.995Z"
   },
   {
    "duration": 30,
    "start_time": "2021-12-11T13:32:38.004Z"
   },
   {
    "duration": 13,
    "start_time": "2021-12-11T13:32:38.037Z"
   },
   {
    "duration": 21,
    "start_time": "2021-12-11T13:32:38.053Z"
   },
   {
    "duration": 24,
    "start_time": "2021-12-11T13:32:38.076Z"
   },
   {
    "duration": 14,
    "start_time": "2021-12-11T13:32:38.123Z"
   },
   {
    "duration": 41,
    "start_time": "2021-12-11T13:32:38.143Z"
   },
   {
    "duration": 63,
    "start_time": "2021-12-11T13:32:38.188Z"
   },
   {
    "duration": 741,
    "start_time": "2021-12-11T13:32:38.324Z"
   },
   {
    "duration": 187214,
    "start_time": "2021-12-11T13:32:39.067Z"
   },
   {
    "duration": 142,
    "start_time": "2021-12-11T13:35:46.284Z"
   },
   {
    "duration": 746,
    "start_time": "2021-12-11T13:35:46.430Z"
   },
   {
    "duration": 179985,
    "start_time": "2021-12-11T13:35:47.179Z"
   },
   {
    "duration": 6,
    "start_time": "2021-12-11T13:38:47.166Z"
   },
   {
    "duration": 24,
    "start_time": "2021-12-11T13:38:47.174Z"
   },
   {
    "duration": 24,
    "start_time": "2021-12-11T13:38:47.200Z"
   },
   {
    "duration": 102,
    "start_time": "2021-12-11T13:38:47.227Z"
   },
   {
    "duration": 982,
    "start_time": "2021-12-11T13:38:47.333Z"
   },
   {
    "duration": 258544,
    "start_time": "2021-12-11T13:38:48.318Z"
   },
   {
    "duration": 6,
    "start_time": "2021-12-11T13:43:06.864Z"
   },
   {
    "duration": 25,
    "start_time": "2021-12-11T13:43:06.873Z"
   },
   {
    "duration": 29,
    "start_time": "2021-12-11T13:43:06.901Z"
   },
   {
    "duration": 97,
    "start_time": "2021-12-11T13:43:06.933Z"
   },
   {
    "duration": 516,
    "start_time": "2021-12-11T13:43:07.033Z"
   },
   {
    "duration": 106210,
    "start_time": "2021-12-11T13:43:07.551Z"
   },
   {
    "duration": 430,
    "start_time": "2021-12-11T13:44:53.763Z"
   },
   {
    "duration": 6,
    "start_time": "2021-12-11T14:05:07.444Z"
   },
   {
    "duration": 10,
    "start_time": "2021-12-11T14:05:13.244Z"
   },
   {
    "duration": 10,
    "start_time": "2021-12-11T14:05:26.203Z"
   },
   {
    "duration": 11,
    "start_time": "2021-12-11T14:06:55.483Z"
   },
   {
    "duration": 8,
    "start_time": "2021-12-11T14:07:18.997Z"
   },
   {
    "duration": 5,
    "start_time": "2021-12-11T14:07:24.475Z"
   },
   {
    "duration": 429,
    "start_time": "2021-12-11T14:07:32.733Z"
   },
   {
    "duration": 5,
    "start_time": "2021-12-11T14:07:37.480Z"
   },
   {
    "duration": 5,
    "start_time": "2021-12-11T14:07:51.145Z"
   },
   {
    "duration": 4,
    "start_time": "2021-12-11T14:10:49.805Z"
   },
   {
    "duration": 232,
    "start_time": "2021-12-11T14:11:03.597Z"
   },
   {
    "duration": 233,
    "start_time": "2021-12-11T14:11:14.314Z"
   },
   {
    "duration": 233,
    "start_time": "2021-12-11T14:11:39.011Z"
   },
   {
    "duration": 237,
    "start_time": "2021-12-11T14:11:43.440Z"
   },
   {
    "duration": 242,
    "start_time": "2021-12-11T14:11:56.259Z"
   },
   {
    "duration": 253,
    "start_time": "2021-12-11T14:13:04.057Z"
   },
   {
    "duration": 255,
    "start_time": "2021-12-11T14:13:17.014Z"
   },
   {
    "duration": 1386,
    "start_time": "2021-12-11T14:16:15.471Z"
   },
   {
    "duration": 3,
    "start_time": "2021-12-11T14:16:16.859Z"
   },
   {
    "duration": 40,
    "start_time": "2021-12-11T14:16:16.865Z"
   },
   {
    "duration": 18,
    "start_time": "2021-12-11T14:16:16.907Z"
   },
   {
    "duration": 23,
    "start_time": "2021-12-11T14:16:16.927Z"
   },
   {
    "duration": 5,
    "start_time": "2021-12-11T14:16:16.952Z"
   },
   {
    "duration": 6,
    "start_time": "2021-12-11T14:16:16.960Z"
   },
   {
    "duration": 5,
    "start_time": "2021-12-11T14:16:16.970Z"
   },
   {
    "duration": 45,
    "start_time": "2021-12-11T14:16:16.978Z"
   },
   {
    "duration": 30,
    "start_time": "2021-12-11T14:16:17.026Z"
   },
   {
    "duration": 9,
    "start_time": "2021-12-11T14:16:17.059Z"
   },
   {
    "duration": 5,
    "start_time": "2021-12-11T14:16:17.072Z"
   },
   {
    "duration": 44,
    "start_time": "2021-12-11T14:16:17.080Z"
   },
   {
    "duration": 313,
    "start_time": "2021-12-11T14:16:17.127Z"
   },
   {
    "duration": 6,
    "start_time": "2021-12-11T14:16:17.443Z"
   },
   {
    "duration": 323,
    "start_time": "2021-12-11T14:16:17.451Z"
   },
   {
    "duration": 5,
    "start_time": "2021-12-11T14:16:17.777Z"
   },
   {
    "duration": 18,
    "start_time": "2021-12-11T14:16:17.785Z"
   },
   {
    "duration": 11,
    "start_time": "2021-12-11T14:16:17.824Z"
   },
   {
    "duration": 21,
    "start_time": "2021-12-11T14:16:17.838Z"
   },
   {
    "duration": 20,
    "start_time": "2021-12-11T14:16:17.862Z"
   },
   {
    "duration": 13,
    "start_time": "2021-12-11T14:16:17.924Z"
   },
   {
    "duration": 34,
    "start_time": "2021-12-11T14:16:17.941Z"
   },
   {
    "duration": 148,
    "start_time": "2021-12-11T14:16:17.978Z"
   },
   {
    "duration": 705,
    "start_time": "2021-12-11T14:16:18.130Z"
   },
   {
    "duration": 181798,
    "start_time": "2021-12-11T14:16:18.838Z"
   },
   {
    "duration": 92,
    "start_time": "2021-12-11T14:19:20.638Z"
   },
   {
    "duration": 806,
    "start_time": "2021-12-11T14:19:20.733Z"
   },
   {
    "duration": 181578,
    "start_time": "2021-12-11T14:19:21.542Z"
   },
   {
    "duration": 7,
    "start_time": "2021-12-11T14:22:23.125Z"
   },
   {
    "duration": 25,
    "start_time": "2021-12-11T14:22:23.135Z"
   },
   {
    "duration": 9,
    "start_time": "2021-12-11T14:22:23.162Z"
   },
   {
    "duration": 283,
    "start_time": "2021-12-11T14:22:23.174Z"
   },
   {
    "duration": 884,
    "start_time": "2021-12-11T14:22:23.528Z"
   },
   {
    "duration": 267695,
    "start_time": "2021-12-11T14:22:24.414Z"
   },
   {
    "duration": 15,
    "start_time": "2021-12-11T14:26:52.112Z"
   },
   {
    "duration": 48,
    "start_time": "2021-12-11T14:26:52.130Z"
   },
   {
    "duration": 9,
    "start_time": "2021-12-11T14:26:52.181Z"
   },
   {
    "duration": 44,
    "start_time": "2021-12-11T14:26:52.193Z"
   },
   {
    "duration": 451,
    "start_time": "2021-12-11T14:26:52.324Z"
   },
   {
    "duration": 107460,
    "start_time": "2021-12-11T14:26:52.777Z"
   },
   {
    "duration": 426,
    "start_time": "2021-12-11T14:28:40.239Z"
   },
   {
    "duration": 270,
    "start_time": "2021-12-11T14:28:40.668Z"
   },
   {
    "duration": 1296,
    "start_time": "2022-08-22T12:36:02.633Z"
   },
   {
    "duration": 3,
    "start_time": "2022-08-22T12:36:03.931Z"
   },
   {
    "duration": 88,
    "start_time": "2022-08-22T12:36:03.935Z"
   },
   {
    "duration": 16,
    "start_time": "2022-08-22T12:36:04.025Z"
   },
   {
    "duration": 82,
    "start_time": "2022-08-22T12:36:04.042Z"
   },
   {
    "duration": 21,
    "start_time": "2022-08-22T12:36:04.126Z"
   },
   {
    "duration": 12,
    "start_time": "2022-08-22T12:36:04.148Z"
   },
   {
    "duration": 37,
    "start_time": "2022-08-22T12:36:04.162Z"
   },
   {
    "duration": 10,
    "start_time": "2022-08-22T12:36:04.200Z"
   },
   {
    "duration": 28,
    "start_time": "2022-08-22T12:36:04.214Z"
   },
   {
    "duration": 12,
    "start_time": "2022-08-22T12:36:04.244Z"
   },
   {
    "duration": 6,
    "start_time": "2022-08-22T12:36:04.257Z"
   },
   {
    "duration": 6,
    "start_time": "2022-08-22T12:36:04.265Z"
   },
   {
    "duration": 158,
    "start_time": "2022-08-22T12:36:04.272Z"
   },
   {
    "duration": 4,
    "start_time": "2022-08-22T12:36:04.431Z"
   },
   {
    "duration": 156,
    "start_time": "2022-08-22T12:36:04.437Z"
   },
   {
    "duration": 5,
    "start_time": "2022-08-22T12:36:04.595Z"
   },
   {
    "duration": 17,
    "start_time": "2022-08-22T12:36:04.602Z"
   },
   {
    "duration": 39,
    "start_time": "2022-08-22T12:36:04.621Z"
   },
   {
    "duration": 17,
    "start_time": "2022-08-22T12:36:04.662Z"
   },
   {
    "duration": 13,
    "start_time": "2022-08-22T12:36:04.681Z"
   },
   {
    "duration": 9,
    "start_time": "2022-08-22T12:36:04.696Z"
   },
   {
    "duration": 30,
    "start_time": "2022-08-22T12:36:04.707Z"
   },
   {
    "duration": 126,
    "start_time": "2022-08-22T12:36:04.739Z"
   },
   {
    "duration": 734,
    "start_time": "2022-08-22T12:36:04.866Z"
   },
   {
    "duration": 130452,
    "start_time": "2022-08-22T12:36:05.601Z"
   },
   {
    "duration": 27,
    "start_time": "2022-08-22T12:38:16.054Z"
   },
   {
    "duration": 602,
    "start_time": "2022-08-22T12:38:16.159Z"
   },
   {
    "duration": 130466,
    "start_time": "2022-08-22T12:38:16.763Z"
   },
   {
    "duration": 3,
    "start_time": "2022-08-22T12:40:27.231Z"
   },
   {
    "duration": 22,
    "start_time": "2022-08-22T12:40:27.236Z"
   },
   {
    "duration": 6,
    "start_time": "2022-08-22T12:40:27.260Z"
   },
   {
    "duration": 99,
    "start_time": "2022-08-22T12:40:27.267Z"
   },
   {
    "duration": 677,
    "start_time": "2022-08-22T12:40:27.457Z"
   },
   {
    "duration": 174136,
    "start_time": "2022-08-22T12:40:28.136Z"
   },
   {
    "duration": 4,
    "start_time": "2022-08-22T12:43:22.274Z"
   },
   {
    "duration": 25,
    "start_time": "2022-08-22T12:43:22.279Z"
   },
   {
    "duration": 6,
    "start_time": "2022-08-22T12:43:22.306Z"
   },
   {
    "duration": 48,
    "start_time": "2022-08-22T12:43:22.314Z"
   },
   {
    "duration": 384,
    "start_time": "2022-08-22T12:43:22.364Z"
   },
   {
    "duration": 81478,
    "start_time": "2022-08-22T12:43:22.750Z"
   },
   {
    "duration": 300,
    "start_time": "2022-08-22T12:44:44.230Z"
   },
   {
    "duration": 131,
    "start_time": "2022-08-22T12:44:44.532Z"
   }
  ],
  "kernelspec": {
   "display_name": "Python 3 (ipykernel)",
   "language": "python",
   "name": "python3"
  },
  "language_info": {
   "codemirror_mode": {
    "name": "ipython",
    "version": 3
   },
   "file_extension": ".py",
   "mimetype": "text/x-python",
   "name": "python",
   "nbconvert_exporter": "python",
   "pygments_lexer": "ipython3",
   "version": "3.9.5"
  },
  "toc": {
   "base_numbering": 1,
   "nav_menu": {},
   "number_sections": true,
   "sideBar": true,
   "skip_h1_title": true,
   "title_cell": "Содержание",
   "title_sidebar": "Contents",
   "toc_cell": true,
   "toc_position": {},
   "toc_section_display": true,
   "toc_window_display": false
  }
 },
 "nbformat": 4,
 "nbformat_minor": 2
}
