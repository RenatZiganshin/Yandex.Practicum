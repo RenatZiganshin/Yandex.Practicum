{
 "cells": [
  {
   "cell_type": "markdown",
   "metadata": {},
   "source": [
    "# Определение стоимости автомобилей"
   ]
  },
  {
   "cell_type": "markdown",
   "metadata": {},
   "source": [
    "Сервис по продаже автомобилей с пробегом «Не бит, не крашен» разрабатывает приложение для привлечения новых клиентов. В нём можно быстро узнать рыночную стоимость своего автомобиля. В вашем распоряжении исторические данные: технические характеристики, комплектации и цены автомобилей. Вам нужно построить модель для определения стоимости. \n",
    "\n",
    "Заказчику важны:\n",
    "\n",
    "- качество предсказания;\n",
    "- скорость предсказания;\n",
    "- время обучения."
   ]
  },
  {
   "cell_type": "markdown",
   "metadata": {},
   "source": [
    "## Подготовка данных"
   ]
  },
  {
   "cell_type": "markdown",
   "metadata": {},
   "source": [
    "### Общие данные"
   ]
  },
  {
   "cell_type": "markdown",
   "metadata": {},
   "source": [
    "Импортируем все необходимые библиотеки"
   ]
  },
  {
   "cell_type": "code",
   "execution_count": 1,
   "metadata": {},
   "outputs": [],
   "source": [
    "import pandas as pd\n",
    "import matplotlib.pyplot as plt\n",
    "import numpy as np\n",
    "from sklearn.model_selection import train_test_split\n",
    "from sklearn.preprocessing import StandardScaler\n",
    "from sklearn.linear_model import LinearRegression\n",
    "from sklearn.tree import DecisionTreeRegressor\n",
    "from sklearn.metrics import mean_squared_error\n",
    "from math import sqrt\n",
    "from sklearn.model_selection import GridSearchCV\n",
    "from sklearn.metrics import make_scorer\n",
    "from sklearn.ensemble import RandomForestRegressor\n",
    "from catboost import CatBoostRegressor, Pool\n",
    "import lightgbm as lgb\n",
    "import time"
   ]
  },
  {
   "cell_type": "code",
   "execution_count": 2,
   "metadata": {},
   "outputs": [],
   "source": [
    "import warnings\n",
    "warnings.filterwarnings(\"ignore\", category=FutureWarning)"
   ]
  },
  {
   "cell_type": "code",
   "execution_count": 3,
   "metadata": {},
   "outputs": [],
   "source": [
    "df = pd.read_csv('/datasets/autos.csv')"
   ]
  },
  {
   "cell_type": "code",
   "execution_count": 4,
   "metadata": {
    "scrolled": true
   },
   "outputs": [
    {
     "data": {
      "text/html": [
       "<div>\n",
       "<style scoped>\n",
       "    .dataframe tbody tr th:only-of-type {\n",
       "        vertical-align: middle;\n",
       "    }\n",
       "\n",
       "    .dataframe tbody tr th {\n",
       "        vertical-align: top;\n",
       "    }\n",
       "\n",
       "    .dataframe thead th {\n",
       "        text-align: right;\n",
       "    }\n",
       "</style>\n",
       "<table border=\"1\" class=\"dataframe\">\n",
       "  <thead>\n",
       "    <tr style=\"text-align: right;\">\n",
       "      <th></th>\n",
       "      <th>DateCrawled</th>\n",
       "      <th>Price</th>\n",
       "      <th>VehicleType</th>\n",
       "      <th>RegistrationYear</th>\n",
       "      <th>Gearbox</th>\n",
       "      <th>Power</th>\n",
       "      <th>Model</th>\n",
       "      <th>Kilometer</th>\n",
       "      <th>RegistrationMonth</th>\n",
       "      <th>FuelType</th>\n",
       "      <th>Brand</th>\n",
       "      <th>NotRepaired</th>\n",
       "      <th>DateCreated</th>\n",
       "      <th>NumberOfPictures</th>\n",
       "      <th>PostalCode</th>\n",
       "      <th>LastSeen</th>\n",
       "    </tr>\n",
       "  </thead>\n",
       "  <tbody>\n",
       "    <tr>\n",
       "      <th>0</th>\n",
       "      <td>2016-03-24 11:52:17</td>\n",
       "      <td>480</td>\n",
       "      <td>NaN</td>\n",
       "      <td>1993</td>\n",
       "      <td>manual</td>\n",
       "      <td>0</td>\n",
       "      <td>golf</td>\n",
       "      <td>150000</td>\n",
       "      <td>0</td>\n",
       "      <td>petrol</td>\n",
       "      <td>volkswagen</td>\n",
       "      <td>NaN</td>\n",
       "      <td>2016-03-24 00:00:00</td>\n",
       "      <td>0</td>\n",
       "      <td>70435</td>\n",
       "      <td>2016-04-07 03:16:57</td>\n",
       "    </tr>\n",
       "    <tr>\n",
       "      <th>1</th>\n",
       "      <td>2016-03-24 10:58:45</td>\n",
       "      <td>18300</td>\n",
       "      <td>coupe</td>\n",
       "      <td>2011</td>\n",
       "      <td>manual</td>\n",
       "      <td>190</td>\n",
       "      <td>NaN</td>\n",
       "      <td>125000</td>\n",
       "      <td>5</td>\n",
       "      <td>gasoline</td>\n",
       "      <td>audi</td>\n",
       "      <td>yes</td>\n",
       "      <td>2016-03-24 00:00:00</td>\n",
       "      <td>0</td>\n",
       "      <td>66954</td>\n",
       "      <td>2016-04-07 01:46:50</td>\n",
       "    </tr>\n",
       "    <tr>\n",
       "      <th>2</th>\n",
       "      <td>2016-03-14 12:52:21</td>\n",
       "      <td>9800</td>\n",
       "      <td>suv</td>\n",
       "      <td>2004</td>\n",
       "      <td>auto</td>\n",
       "      <td>163</td>\n",
       "      <td>grand</td>\n",
       "      <td>125000</td>\n",
       "      <td>8</td>\n",
       "      <td>gasoline</td>\n",
       "      <td>jeep</td>\n",
       "      <td>NaN</td>\n",
       "      <td>2016-03-14 00:00:00</td>\n",
       "      <td>0</td>\n",
       "      <td>90480</td>\n",
       "      <td>2016-04-05 12:47:46</td>\n",
       "    </tr>\n",
       "    <tr>\n",
       "      <th>3</th>\n",
       "      <td>2016-03-17 16:54:04</td>\n",
       "      <td>1500</td>\n",
       "      <td>small</td>\n",
       "      <td>2001</td>\n",
       "      <td>manual</td>\n",
       "      <td>75</td>\n",
       "      <td>golf</td>\n",
       "      <td>150000</td>\n",
       "      <td>6</td>\n",
       "      <td>petrol</td>\n",
       "      <td>volkswagen</td>\n",
       "      <td>no</td>\n",
       "      <td>2016-03-17 00:00:00</td>\n",
       "      <td>0</td>\n",
       "      <td>91074</td>\n",
       "      <td>2016-03-17 17:40:17</td>\n",
       "    </tr>\n",
       "    <tr>\n",
       "      <th>4</th>\n",
       "      <td>2016-03-31 17:25:20</td>\n",
       "      <td>3600</td>\n",
       "      <td>small</td>\n",
       "      <td>2008</td>\n",
       "      <td>manual</td>\n",
       "      <td>69</td>\n",
       "      <td>fabia</td>\n",
       "      <td>90000</td>\n",
       "      <td>7</td>\n",
       "      <td>gasoline</td>\n",
       "      <td>skoda</td>\n",
       "      <td>no</td>\n",
       "      <td>2016-03-31 00:00:00</td>\n",
       "      <td>0</td>\n",
       "      <td>60437</td>\n",
       "      <td>2016-04-06 10:17:21</td>\n",
       "    </tr>\n",
       "  </tbody>\n",
       "</table>\n",
       "</div>"
      ],
      "text/plain": [
       "           DateCrawled  Price VehicleType  RegistrationYear Gearbox  Power  \\\n",
       "0  2016-03-24 11:52:17    480         NaN              1993  manual      0   \n",
       "1  2016-03-24 10:58:45  18300       coupe              2011  manual    190   \n",
       "2  2016-03-14 12:52:21   9800         suv              2004    auto    163   \n",
       "3  2016-03-17 16:54:04   1500       small              2001  manual     75   \n",
       "4  2016-03-31 17:25:20   3600       small              2008  manual     69   \n",
       "\n",
       "   Model  Kilometer  RegistrationMonth  FuelType       Brand NotRepaired  \\\n",
       "0   golf     150000                  0    petrol  volkswagen         NaN   \n",
       "1    NaN     125000                  5  gasoline        audi         yes   \n",
       "2  grand     125000                  8  gasoline        jeep         NaN   \n",
       "3   golf     150000                  6    petrol  volkswagen          no   \n",
       "4  fabia      90000                  7  gasoline       skoda          no   \n",
       "\n",
       "           DateCreated  NumberOfPictures  PostalCode             LastSeen  \n",
       "0  2016-03-24 00:00:00                 0       70435  2016-04-07 03:16:57  \n",
       "1  2016-03-24 00:00:00                 0       66954  2016-04-07 01:46:50  \n",
       "2  2016-03-14 00:00:00                 0       90480  2016-04-05 12:47:46  \n",
       "3  2016-03-17 00:00:00                 0       91074  2016-03-17 17:40:17  \n",
       "4  2016-03-31 00:00:00                 0       60437  2016-04-06 10:17:21  "
      ]
     },
     "execution_count": 4,
     "metadata": {},
     "output_type": "execute_result"
    }
   ],
   "source": [
    "df.head()"
   ]
  },
  {
   "cell_type": "markdown",
   "metadata": {},
   "source": [
    "Переведем названия столбцов в общепринятый формат"
   ]
  },
  {
   "cell_type": "code",
   "execution_count": 5,
   "metadata": {},
   "outputs": [],
   "source": [
    "df.columns = ['date_crawled', 'price', 'vehicle_type', 'registration_year', 'gearbox',\n",
    "       'power', 'model', 'kilometer', 'registration_month', 'fuel_type', 'brand',\n",
    "       'not_repaired', 'date_created', 'number_of_pictures', 'postal_code',\n",
    "      'last_seen']"
   ]
  },
  {
   "cell_type": "code",
   "execution_count": 6,
   "metadata": {},
   "outputs": [
    {
     "data": {
      "text/html": [
       "<div>\n",
       "<style scoped>\n",
       "    .dataframe tbody tr th:only-of-type {\n",
       "        vertical-align: middle;\n",
       "    }\n",
       "\n",
       "    .dataframe tbody tr th {\n",
       "        vertical-align: top;\n",
       "    }\n",
       "\n",
       "    .dataframe thead th {\n",
       "        text-align: right;\n",
       "    }\n",
       "</style>\n",
       "<table border=\"1\" class=\"dataframe\">\n",
       "  <thead>\n",
       "    <tr style=\"text-align: right;\">\n",
       "      <th></th>\n",
       "      <th>date_crawled</th>\n",
       "      <th>price</th>\n",
       "      <th>vehicle_type</th>\n",
       "      <th>registration_year</th>\n",
       "      <th>gearbox</th>\n",
       "      <th>power</th>\n",
       "      <th>model</th>\n",
       "      <th>kilometer</th>\n",
       "      <th>registration_month</th>\n",
       "      <th>fuel_type</th>\n",
       "      <th>brand</th>\n",
       "      <th>not_repaired</th>\n",
       "      <th>date_created</th>\n",
       "      <th>number_of_pictures</th>\n",
       "      <th>postal_code</th>\n",
       "      <th>last_seen</th>\n",
       "    </tr>\n",
       "  </thead>\n",
       "  <tbody>\n",
       "    <tr>\n",
       "      <th>0</th>\n",
       "      <td>2016-03-24 11:52:17</td>\n",
       "      <td>480</td>\n",
       "      <td>NaN</td>\n",
       "      <td>1993</td>\n",
       "      <td>manual</td>\n",
       "      <td>0</td>\n",
       "      <td>golf</td>\n",
       "      <td>150000</td>\n",
       "      <td>0</td>\n",
       "      <td>petrol</td>\n",
       "      <td>volkswagen</td>\n",
       "      <td>NaN</td>\n",
       "      <td>2016-03-24 00:00:00</td>\n",
       "      <td>0</td>\n",
       "      <td>70435</td>\n",
       "      <td>2016-04-07 03:16:57</td>\n",
       "    </tr>\n",
       "    <tr>\n",
       "      <th>1</th>\n",
       "      <td>2016-03-24 10:58:45</td>\n",
       "      <td>18300</td>\n",
       "      <td>coupe</td>\n",
       "      <td>2011</td>\n",
       "      <td>manual</td>\n",
       "      <td>190</td>\n",
       "      <td>NaN</td>\n",
       "      <td>125000</td>\n",
       "      <td>5</td>\n",
       "      <td>gasoline</td>\n",
       "      <td>audi</td>\n",
       "      <td>yes</td>\n",
       "      <td>2016-03-24 00:00:00</td>\n",
       "      <td>0</td>\n",
       "      <td>66954</td>\n",
       "      <td>2016-04-07 01:46:50</td>\n",
       "    </tr>\n",
       "    <tr>\n",
       "      <th>2</th>\n",
       "      <td>2016-03-14 12:52:21</td>\n",
       "      <td>9800</td>\n",
       "      <td>suv</td>\n",
       "      <td>2004</td>\n",
       "      <td>auto</td>\n",
       "      <td>163</td>\n",
       "      <td>grand</td>\n",
       "      <td>125000</td>\n",
       "      <td>8</td>\n",
       "      <td>gasoline</td>\n",
       "      <td>jeep</td>\n",
       "      <td>NaN</td>\n",
       "      <td>2016-03-14 00:00:00</td>\n",
       "      <td>0</td>\n",
       "      <td>90480</td>\n",
       "      <td>2016-04-05 12:47:46</td>\n",
       "    </tr>\n",
       "    <tr>\n",
       "      <th>3</th>\n",
       "      <td>2016-03-17 16:54:04</td>\n",
       "      <td>1500</td>\n",
       "      <td>small</td>\n",
       "      <td>2001</td>\n",
       "      <td>manual</td>\n",
       "      <td>75</td>\n",
       "      <td>golf</td>\n",
       "      <td>150000</td>\n",
       "      <td>6</td>\n",
       "      <td>petrol</td>\n",
       "      <td>volkswagen</td>\n",
       "      <td>no</td>\n",
       "      <td>2016-03-17 00:00:00</td>\n",
       "      <td>0</td>\n",
       "      <td>91074</td>\n",
       "      <td>2016-03-17 17:40:17</td>\n",
       "    </tr>\n",
       "    <tr>\n",
       "      <th>4</th>\n",
       "      <td>2016-03-31 17:25:20</td>\n",
       "      <td>3600</td>\n",
       "      <td>small</td>\n",
       "      <td>2008</td>\n",
       "      <td>manual</td>\n",
       "      <td>69</td>\n",
       "      <td>fabia</td>\n",
       "      <td>90000</td>\n",
       "      <td>7</td>\n",
       "      <td>gasoline</td>\n",
       "      <td>skoda</td>\n",
       "      <td>no</td>\n",
       "      <td>2016-03-31 00:00:00</td>\n",
       "      <td>0</td>\n",
       "      <td>60437</td>\n",
       "      <td>2016-04-06 10:17:21</td>\n",
       "    </tr>\n",
       "  </tbody>\n",
       "</table>\n",
       "</div>"
      ],
      "text/plain": [
       "          date_crawled  price vehicle_type  registration_year gearbox  power  \\\n",
       "0  2016-03-24 11:52:17    480          NaN               1993  manual      0   \n",
       "1  2016-03-24 10:58:45  18300        coupe               2011  manual    190   \n",
       "2  2016-03-14 12:52:21   9800          suv               2004    auto    163   \n",
       "3  2016-03-17 16:54:04   1500        small               2001  manual     75   \n",
       "4  2016-03-31 17:25:20   3600        small               2008  manual     69   \n",
       "\n",
       "   model  kilometer  registration_month fuel_type       brand not_repaired  \\\n",
       "0   golf     150000                   0    petrol  volkswagen          NaN   \n",
       "1    NaN     125000                   5  gasoline        audi          yes   \n",
       "2  grand     125000                   8  gasoline        jeep          NaN   \n",
       "3   golf     150000                   6    petrol  volkswagen           no   \n",
       "4  fabia      90000                   7  gasoline       skoda           no   \n",
       "\n",
       "          date_created  number_of_pictures  postal_code            last_seen  \n",
       "0  2016-03-24 00:00:00                   0        70435  2016-04-07 03:16:57  \n",
       "1  2016-03-24 00:00:00                   0        66954  2016-04-07 01:46:50  \n",
       "2  2016-03-14 00:00:00                   0        90480  2016-04-05 12:47:46  \n",
       "3  2016-03-17 00:00:00                   0        91074  2016-03-17 17:40:17  \n",
       "4  2016-03-31 00:00:00                   0        60437  2016-04-06 10:17:21  "
      ]
     },
     "execution_count": 6,
     "metadata": {},
     "output_type": "execute_result"
    }
   ],
   "source": [
    "df.head()"
   ]
  },
  {
   "cell_type": "code",
   "execution_count": 7,
   "metadata": {
    "scrolled": false
   },
   "outputs": [
    {
     "name": "stdout",
     "output_type": "stream",
     "text": [
      "<class 'pandas.core.frame.DataFrame'>\n",
      "RangeIndex: 354369 entries, 0 to 354368\n",
      "Data columns (total 16 columns):\n",
      " #   Column              Non-Null Count   Dtype \n",
      "---  ------              --------------   ----- \n",
      " 0   date_crawled        354369 non-null  object\n",
      " 1   price               354369 non-null  int64 \n",
      " 2   vehicle_type        316879 non-null  object\n",
      " 3   registration_year   354369 non-null  int64 \n",
      " 4   gearbox             334536 non-null  object\n",
      " 5   power               354369 non-null  int64 \n",
      " 6   model               334664 non-null  object\n",
      " 7   kilometer           354369 non-null  int64 \n",
      " 8   registration_month  354369 non-null  int64 \n",
      " 9   fuel_type           321474 non-null  object\n",
      " 10  brand               354369 non-null  object\n",
      " 11  not_repaired        283215 non-null  object\n",
      " 12  date_created        354369 non-null  object\n",
      " 13  number_of_pictures  354369 non-null  int64 \n",
      " 14  postal_code         354369 non-null  int64 \n",
      " 15  last_seen           354369 non-null  object\n",
      "dtypes: int64(7), object(9)\n",
      "memory usage: 43.3+ MB\n"
     ]
    }
   ],
   "source": [
    "df.info()"
   ]
  },
  {
   "cell_type": "markdown",
   "metadata": {},
   "source": [
    "### Обработка признаков"
   ]
  },
  {
   "cell_type": "markdown",
   "metadata": {},
   "source": [
    "**Начнем с удаления неинформативных признаков**"
   ]
  },
  {
   "cell_type": "markdown",
   "metadata": {},
   "source": [
    "Рассмотрим дату создания анкеты и последнюю активность пользователя"
   ]
  },
  {
   "cell_type": "code",
   "execution_count": 8,
   "metadata": {},
   "outputs": [],
   "source": [
    "df['last_seen'] = pd.to_datetime(df['last_seen'], format='%Y-%m-%d %H:%M:%S')\n",
    "df['date_created'] = pd.to_datetime(df['date_created'], format='%Y-%m-%d %H:%M:%S')"
   ]
  },
  {
   "cell_type": "code",
   "execution_count": 9,
   "metadata": {
    "scrolled": false
   },
   "outputs": [
    {
     "data": {
      "image/png": "[encoded data removed]",
      "text/plain": [
       "<Figure size 432x288 with 1 Axes>"
      ]
     },
     "metadata": {
      "needs_background": "light"
     },
     "output_type": "display_data"
    }
   ],
   "source": [
    "df['date_created'].hist(bins=100)\n",
    "plt.xticks(rotation=90)\n",
    "plt.show()"
   ]
  },
  {
   "cell_type": "code",
   "execution_count": 10,
   "metadata": {
    "scrolled": true
   },
   "outputs": [
    {
     "data": {
      "image/png": "[encoded data removed]",
      "text/plain": [
       "<Figure size 432x288 with 1 Axes>"
      ]
     },
     "metadata": {
      "needs_background": "light"
     },
     "output_type": "display_data"
    }
   ],
   "source": [
    "df['last_seen'].hist(bins=100)\n",
    "plt.xticks(rotation=90)\n",
    "plt.show()"
   ]
  },
  {
   "cell_type": "markdown",
   "metadata": {},
   "source": [
    "Из гистограмм видно, что большинство анкет создано в марте-апреле 2016 года, но есть небольшое количесвто анкет, созданных в период 2014-2016 гг. Можно было бы предположить, что информация в этих анкетах потеряла свою актуальность. Но так как дата последней активности пользователей находится в диапазоне март-апрель 2016 года, все анкеты должны быть одинаково актуальны. Исключим эти признаки из выборки, как не несущие полезной информации. Также на стоимость автомобиля не могут влиять дата выгрузки анкеты, месяц регистрации автомобиля, почтовый индекс владельца анкеты"
   ]
  },
  {
   "cell_type": "code",
   "execution_count": 11,
   "metadata": {},
   "outputs": [],
   "source": [
    "df = df.drop(['date_crawled', 'date_created', 'last_seen', 'registration_month', 'postal_code'], axis=1)"
   ]
  },
  {
   "cell_type": "markdown",
   "metadata": {},
   "source": [
    "**Стоимость (целевой признак)**"
   ]
  },
  {
   "cell_type": "code",
   "execution_count": 12,
   "metadata": {},
   "outputs": [
    {
     "data": {
      "text/plain": [
       "<AxesSubplot:>"
      ]
     },
     "execution_count": 12,
     "metadata": {},
     "output_type": "execute_result"
    },
    {
     "data": {
      "image/png": "[encoded data removed]",
      "text/plain": [
       "<Figure size 432x288 with 1 Axes>"
      ]
     },
     "metadata": {
      "needs_background": "light"
     },
     "output_type": "display_data"
    }
   ],
   "source": [
    "df.price.hist()"
   ]
  },
  {
   "cell_type": "code",
   "execution_count": 13,
   "metadata": {},
   "outputs": [
    {
     "name": "stdout",
     "output_type": "stream",
     "text": [
      "Количество объявлений, у которых стоимость автомобиля равна 0: 10772\n"
     ]
    }
   ],
   "source": [
    "print('Количество объявлений, у которых стоимость автомобиля равна 0:', len(df.query('price==0')))"
   ]
  },
  {
   "cell_type": "markdown",
   "metadata": {},
   "source": [
    "Объявления, у которых отсутствует целевой признак, не подходят для обучения модели. Исключим эти объекты из выборки."
   ]
  },
  {
   "cell_type": "code",
   "execution_count": 14,
   "metadata": {},
   "outputs": [],
   "source": [
    "df = df.query('price!=0')"
   ]
  },
  {
   "cell_type": "markdown",
   "metadata": {},
   "source": [
    "**Тип кузова, коробка передач, модель, тип топлива**"
   ]
  },
  {
   "cell_type": "markdown",
   "metadata": {},
   "source": [
    "Заменим пропуске в столбцах с типом кузова, коробкой передач, моделью, типом топлива на dummy-значение 'unknown':"
   ]
  },
  {
   "cell_type": "code",
   "execution_count": 15,
   "metadata": {},
   "outputs": [],
   "source": [
    "df[['vehicle_type', 'gearbox', 'model', 'fuel_type']] = df[['vehicle_type', 'gearbox', 'model', 'fuel_type']].fillna('unknown')"
   ]
  },
  {
   "cell_type": "markdown",
   "metadata": {},
   "source": [
    "**Ремонтированные автомобили**"
   ]
  },
  {
   "cell_type": "code",
   "execution_count": 16,
   "metadata": {},
   "outputs": [
    {
     "data": {
      "text/plain": [
       "no     0.877403\n",
       "yes    0.122597\n",
       "Name: not_repaired, dtype: float64"
      ]
     },
     "execution_count": 16,
     "metadata": {},
     "output_type": "execute_result"
    }
   ],
   "source": [
    "df.not_repaired.value_counts(normalize=True)"
   ]
  },
  {
   "cell_type": "markdown",
   "metadata": {},
   "source": [
    "Среди тех объявлений, где указано, ремонтировалась ли машина, всего лишь 12% автомобилей не были в ремонте. Среди объявлений, где это этот признак не указан, вероятно, такое же превалирование ремонтированных машин. Заменим пропуски на 'no'."
   ]
  },
  {
   "cell_type": "code",
   "execution_count": 17,
   "metadata": {},
   "outputs": [],
   "source": [
    "df.not_repaired = df.not_repaired.fillna('no')"
   ]
  },
  {
   "cell_type": "markdown",
   "metadata": {},
   "source": [
    "**Год регистрации**"
   ]
  },
  {
   "cell_type": "code",
   "execution_count": 18,
   "metadata": {},
   "outputs": [
    {
     "data": {
      "text/plain": [
       "<AxesSubplot:>"
      ]
     },
     "execution_count": 18,
     "metadata": {},
     "output_type": "execute_result"
    },
    {
     "data": {
      "image/png": "[encoded data removed]",
      "text/plain": [
       "<Figure size 432x288 with 1 Axes>"
      ]
     },
     "metadata": {
      "needs_background": "light"
     },
     "output_type": "display_data"
    }
   ],
   "source": [
    "df['registration_year'].hist()"
   ]
  },
  {
   "cell_type": "markdown",
   "metadata": {},
   "source": [
    "Видно, что значения года регистрации находятся в диапазоне  от 0 до 10000, что указывает на наличие некорректных значений"
   ]
  },
  {
   "cell_type": "code",
   "execution_count": 19,
   "metadata": {
    "scrolled": true
   },
   "outputs": [
    {
     "data": {
      "text/plain": [
       "<AxesSubplot:>"
      ]
     },
     "execution_count": 19,
     "metadata": {},
     "output_type": "execute_result"
    },
    {
     "data": {
      "image/png": "[encoded data removed]",
      "text/plain": [
       "<Figure size 432x288 with 1 Axes>"
      ]
     },
     "metadata": {
      "needs_background": "light"
     },
     "output_type": "display_data"
    }
   ],
   "source": [
    "df[(df['registration_year'] < 2030) & (df['registration_year'] > 1900)]['registration_year'].hist()"
   ]
  },
  {
   "cell_type": "markdown",
   "metadata": {},
   "source": [
    "Предположим, что в объявлениях действительно есть раритетные автомобили до 1940 года выпуска. Дату в объявлениях раньше 1940 или позже 2020 заменим на dummy-значение 0."
   ]
  },
  {
   "cell_type": "code",
   "execution_count": 20,
   "metadata": {},
   "outputs": [],
   "source": [
    "def change_date(row):\n",
    "    if (row['registration_year'] < 1940) or (row['registration_year'] > 2020):\n",
    "        return 0\n",
    "    else:\n",
    "        return row['registration_year']"
   ]
  },
  {
   "cell_type": "code",
   "execution_count": 21,
   "metadata": {},
   "outputs": [],
   "source": [
    "df['registration_year'] = df.apply(change_date, axis=1)"
   ]
  },
  {
   "cell_type": "markdown",
   "metadata": {},
   "source": [
    "**Количество фотографий**"
   ]
  },
  {
   "cell_type": "code",
   "execution_count": 22,
   "metadata": {},
   "outputs": [
    {
     "data": {
      "text/plain": [
       "0    343597\n",
       "Name: number_of_pictures, dtype: int64"
      ]
     },
     "execution_count": 22,
     "metadata": {},
     "output_type": "execute_result"
    }
   ],
   "source": [
    "df.number_of_pictures.value_counts()"
   ]
  },
  {
   "cell_type": "markdown",
   "metadata": {},
   "source": [
    "У каждого объявления указано нулевое количество фотографий. Удалим этот признак как неинформативный"
   ]
  },
  {
   "cell_type": "code",
   "execution_count": 23,
   "metadata": {},
   "outputs": [],
   "source": [
    "df = df.drop(['number_of_pictures'], axis=1)"
   ]
  },
  {
   "cell_type": "markdown",
   "metadata": {},
   "source": [
    "**Мощность**"
   ]
  },
  {
   "cell_type": "code",
   "execution_count": 24,
   "metadata": {
    "scrolled": true
   },
   "outputs": [
    {
     "data": {
      "text/plain": [
       "<AxesSubplot:>"
      ]
     },
     "execution_count": 24,
     "metadata": {},
     "output_type": "execute_result"
    },
    {
     "data": {
      "image/png": "[encoded data removed]",
      "text/plain": [
       "<Figure size 432x288 with 1 Axes>"
      ]
     },
     "metadata": {
      "needs_background": "light"
     },
     "output_type": "display_data"
    }
   ],
   "source": [
    "df.power.hist(bins=100)"
   ]
  },
  {
   "cell_type": "markdown",
   "metadata": {},
   "source": [
    "Видно, что имеется большое количество выбросов. "
   ]
  },
  {
   "cell_type": "code",
   "execution_count": 25,
   "metadata": {
    "scrolled": false
   },
   "outputs": [
    {
     "name": "stdout",
     "output_type": "stream",
     "text": [
      "0.1% наибольших значений мощности принимает значения выше 620.0\n"
     ]
    },
    {
     "data": {
      "text/html": [
       "<div>\n",
       "<style scoped>\n",
       "    .dataframe tbody tr th:only-of-type {\n",
       "        vertical-align: middle;\n",
       "    }\n",
       "\n",
       "    .dataframe tbody tr th {\n",
       "        vertical-align: top;\n",
       "    }\n",
       "\n",
       "    .dataframe thead th {\n",
       "        text-align: right;\n",
       "    }\n",
       "</style>\n",
       "<table border=\"1\" class=\"dataframe\">\n",
       "  <thead>\n",
       "    <tr style=\"text-align: right;\">\n",
       "      <th></th>\n",
       "      <th>price</th>\n",
       "      <th>vehicle_type</th>\n",
       "      <th>registration_year</th>\n",
       "      <th>gearbox</th>\n",
       "      <th>power</th>\n",
       "      <th>model</th>\n",
       "      <th>kilometer</th>\n",
       "      <th>fuel_type</th>\n",
       "      <th>brand</th>\n",
       "      <th>not_repaired</th>\n",
       "    </tr>\n",
       "  </thead>\n",
       "  <tbody>\n",
       "    <tr>\n",
       "      <th>1816</th>\n",
       "      <td>3200</td>\n",
       "      <td>small</td>\n",
       "      <td>2004</td>\n",
       "      <td>manual</td>\n",
       "      <td>1398</td>\n",
       "      <td>corolla</td>\n",
       "      <td>5000</td>\n",
       "      <td>petrol</td>\n",
       "      <td>toyota</td>\n",
       "      <td>no</td>\n",
       "    </tr>\n",
       "    <tr>\n",
       "      <th>4060</th>\n",
       "      <td>3100</td>\n",
       "      <td>sedan</td>\n",
       "      <td>2005</td>\n",
       "      <td>manual</td>\n",
       "      <td>953</td>\n",
       "      <td>colt</td>\n",
       "      <td>150000</td>\n",
       "      <td>gasoline</td>\n",
       "      <td>mitsubishi</td>\n",
       "      <td>no</td>\n",
       "    </tr>\n",
       "    <tr>\n",
       "      <th>5328</th>\n",
       "      <td>500</td>\n",
       "      <td>wagon</td>\n",
       "      <td>1999</td>\n",
       "      <td>manual</td>\n",
       "      <td>1001</td>\n",
       "      <td>astra</td>\n",
       "      <td>150000</td>\n",
       "      <td>petrol</td>\n",
       "      <td>opel</td>\n",
       "      <td>no</td>\n",
       "    </tr>\n",
       "    <tr>\n",
       "      <th>6504</th>\n",
       "      <td>3000</td>\n",
       "      <td>small</td>\n",
       "      <td>2009</td>\n",
       "      <td>manual</td>\n",
       "      <td>771</td>\n",
       "      <td>punto</td>\n",
       "      <td>125000</td>\n",
       "      <td>petrol</td>\n",
       "      <td>fiat</td>\n",
       "      <td>no</td>\n",
       "    </tr>\n",
       "    <tr>\n",
       "      <th>7661</th>\n",
       "      <td>1499</td>\n",
       "      <td>small</td>\n",
       "      <td>1999</td>\n",
       "      <td>manual</td>\n",
       "      <td>7515</td>\n",
       "      <td>lupo</td>\n",
       "      <td>150000</td>\n",
       "      <td>petrol</td>\n",
       "      <td>volkswagen</td>\n",
       "      <td>no</td>\n",
       "    </tr>\n",
       "    <tr>\n",
       "      <th>...</th>\n",
       "      <td>...</td>\n",
       "      <td>...</td>\n",
       "      <td>...</td>\n",
       "      <td>...</td>\n",
       "      <td>...</td>\n",
       "      <td>...</td>\n",
       "      <td>...</td>\n",
       "      <td>...</td>\n",
       "      <td>...</td>\n",
       "      <td>...</td>\n",
       "    </tr>\n",
       "    <tr>\n",
       "      <th>348968</th>\n",
       "      <td>250</td>\n",
       "      <td>small</td>\n",
       "      <td>1999</td>\n",
       "      <td>manual</td>\n",
       "      <td>1241</td>\n",
       "      <td>ypsilon</td>\n",
       "      <td>150000</td>\n",
       "      <td>petrol</td>\n",
       "      <td>lancia</td>\n",
       "      <td>yes</td>\n",
       "    </tr>\n",
       "    <tr>\n",
       "      <th>351947</th>\n",
       "      <td>1500</td>\n",
       "      <td>bus</td>\n",
       "      <td>2001</td>\n",
       "      <td>manual</td>\n",
       "      <td>1001</td>\n",
       "      <td>zafira</td>\n",
       "      <td>5000</td>\n",
       "      <td>gasoline</td>\n",
       "      <td>opel</td>\n",
       "      <td>no</td>\n",
       "    </tr>\n",
       "    <tr>\n",
       "      <th>353493</th>\n",
       "      <td>12500</td>\n",
       "      <td>unknown</td>\n",
       "      <td>2017</td>\n",
       "      <td>manual</td>\n",
       "      <td>2000</td>\n",
       "      <td>other</td>\n",
       "      <td>60000</td>\n",
       "      <td>gasoline</td>\n",
       "      <td>chrysler</td>\n",
       "      <td>no</td>\n",
       "    </tr>\n",
       "    <tr>\n",
       "      <th>353633</th>\n",
       "      <td>2400</td>\n",
       "      <td>sedan</td>\n",
       "      <td>2007</td>\n",
       "      <td>manual</td>\n",
       "      <td>650</td>\n",
       "      <td>c2</td>\n",
       "      <td>150000</td>\n",
       "      <td>petrol</td>\n",
       "      <td>citroen</td>\n",
       "      <td>no</td>\n",
       "    </tr>\n",
       "    <tr>\n",
       "      <th>354260</th>\n",
       "      <td>399</td>\n",
       "      <td>other</td>\n",
       "      <td>1994</td>\n",
       "      <td>unknown</td>\n",
       "      <td>1103</td>\n",
       "      <td>3er</td>\n",
       "      <td>150000</td>\n",
       "      <td>unknown</td>\n",
       "      <td>bmw</td>\n",
       "      <td>no</td>\n",
       "    </tr>\n",
       "  </tbody>\n",
       "</table>\n",
       "<p>343 rows × 10 columns</p>\n",
       "</div>"
      ],
      "text/plain": [
       "        price vehicle_type  registration_year  gearbox  power    model  \\\n",
       "1816     3200        small               2004   manual   1398  corolla   \n",
       "4060     3100        sedan               2005   manual    953     colt   \n",
       "5328      500        wagon               1999   manual   1001    astra   \n",
       "6504     3000        small               2009   manual    771    punto   \n",
       "7661     1499        small               1999   manual   7515     lupo   \n",
       "...       ...          ...                ...      ...    ...      ...   \n",
       "348968    250        small               1999   manual   1241  ypsilon   \n",
       "351947   1500          bus               2001   manual   1001   zafira   \n",
       "353493  12500      unknown               2017   manual   2000    other   \n",
       "353633   2400        sedan               2007   manual    650       c2   \n",
       "354260    399        other               1994  unknown   1103      3er   \n",
       "\n",
       "        kilometer fuel_type       brand not_repaired  \n",
       "1816         5000    petrol      toyota           no  \n",
       "4060       150000  gasoline  mitsubishi           no  \n",
       "5328       150000    petrol        opel           no  \n",
       "6504       125000    petrol        fiat           no  \n",
       "7661       150000    petrol  volkswagen           no  \n",
       "...           ...       ...         ...          ...  \n",
       "348968     150000    petrol      lancia          yes  \n",
       "351947       5000  gasoline        opel           no  \n",
       "353493      60000  gasoline    chrysler           no  \n",
       "353633     150000    petrol     citroen           no  \n",
       "354260     150000   unknown         bmw           no  \n",
       "\n",
       "[343 rows x 10 columns]"
      ]
     },
     "execution_count": 25,
     "metadata": {},
     "output_type": "execute_result"
    }
   ],
   "source": [
    "print('0.1% наибольших значений мощности принимает значения выше', df.power.quantile(.999))\n",
    "df[df['power'] > df.power.quantile(.999)]"
   ]
  },
  {
   "cell_type": "markdown",
   "metadata": {},
   "source": [
    "Заменим выбросы, находящиеся в диапазоне выше 0.999 квантили, и нулевые значения на медианное значение"
   ]
  },
  {
   "cell_type": "code",
   "execution_count": 26,
   "metadata": {},
   "outputs": [],
   "source": [
    "power_median = df.power.median()\n",
    "power_quantile = df.power.quantile(.999)"
   ]
  },
  {
   "cell_type": "code",
   "execution_count": 27,
   "metadata": {},
   "outputs": [],
   "source": [
    "def change_power(row):\n",
    "    if (row['power'] > power_quantile) or (row['power'] == 0):\n",
    "        return power_median\n",
    "    else:\n",
    "        return row['power']"
   ]
  },
  {
   "cell_type": "code",
   "execution_count": 28,
   "metadata": {},
   "outputs": [],
   "source": [
    "df['power'] = df.apply(change_power, axis=1)"
   ]
  },
  {
   "cell_type": "code",
   "execution_count": 29,
   "metadata": {
    "scrolled": false
   },
   "outputs": [
    {
     "data": {
      "text/plain": [
       "<AxesSubplot:>"
      ]
     },
     "execution_count": 29,
     "metadata": {},
     "output_type": "execute_result"
    },
    {
     "data": {
      "image/png": "[encoded data removed]",
      "text/plain": [
       "<Figure size 432x288 with 1 Axes>"
      ]
     },
     "metadata": {
      "needs_background": "light"
     },
     "output_type": "display_data"
    }
   ],
   "source": [
    "df.power.hist()"
   ]
  },
  {
   "cell_type": "markdown",
   "metadata": {},
   "source": [
    "Теперь заменим тип данных на целочисленные"
   ]
  },
  {
   "cell_type": "code",
   "execution_count": 30,
   "metadata": {},
   "outputs": [],
   "source": [
    "df['power'] = df['power'].astype(int)"
   ]
  },
  {
   "cell_type": "markdown",
   "metadata": {},
   "source": [
    "**Датафрейм готов для дальнейшего обучения моделей.**"
   ]
  },
  {
   "cell_type": "markdown",
   "metadata": {},
   "source": [
    "## Обучение моделей"
   ]
  },
  {
   "cell_type": "markdown",
   "metadata": {},
   "source": [
    "### Линейная регрессия"
   ]
  },
  {
   "cell_type": "markdown",
   "metadata": {},
   "source": [
    "Преобразуем категориальные переменные в численные методом One-Hot Encoding"
   ]
  },
  {
   "cell_type": "code",
   "execution_count": 31,
   "metadata": {},
   "outputs": [],
   "source": [
    "df_ohe = pd.get_dummies(df, drop_first=True)"
   ]
  },
  {
   "cell_type": "markdown",
   "metadata": {},
   "source": [
    "Поделим данные на обучающую и тестовую выборки в отношении 4:1."
   ]
  },
  {
   "cell_type": "code",
   "execution_count": 32,
   "metadata": {},
   "outputs": [],
   "source": [
    "features = df_ohe.drop('price', axis=1)\n",
    "target = df_ohe['price']\n",
    "features_train, features_test, target_train, target_test = train_test_split(features, target, test_size=.2, random_state=1)"
   ]
  },
  {
   "cell_type": "markdown",
   "metadata": {},
   "source": [
    "Масштабируем численные признаки"
   ]
  },
  {
   "cell_type": "code",
   "execution_count": 33,
   "metadata": {},
   "outputs": [],
   "source": [
    "numbers = ['registration_year', 'power', 'kilometer']"
   ]
  },
  {
   "cell_type": "code",
   "execution_count": 34,
   "metadata": {},
   "outputs": [],
   "source": [
    "features_train_scaled = features_train\n",
    "features_test_scaled = features_test\n",
    "\n",
    "scaler = StandardScaler()\n",
    "scaler.fit(features_train_scaled[numbers])\n",
    "pd.options.mode.chained_assignment = None\n",
    "\n",
    "features_train_scaled[numbers] = scaler.transform(features_train_scaled[numbers])\n",
    "features_test_scaled[numbers] = scaler.transform(features_test_scaled[numbers])"
   ]
  },
  {
   "cell_type": "code",
   "execution_count": 35,
   "metadata": {
    "scrolled": true
   },
   "outputs": [
    {
     "name": "stdout",
     "output_type": "stream",
     "text": [
      "RMSE работы линейной модели на тестовой выборке: 2899.6603975295816\n",
      "CPU times: user 18 s, sys: 6.78 s, total: 24.7 s\n",
      "Wall time: 24.7 s\n"
     ]
    }
   ],
   "source": [
    "%%time\n",
    "model = LinearRegression()\n",
    "fit_time_start = time.time()\n",
    "model.fit(features_train_scaled, target_train)\n",
    "fit_time_end = time.time()\n",
    "rmse_linear = sqrt(mean_squared_error(target_test, model.predict(features_test_scaled)))\n",
    "predict_time_end = time.time()\n",
    "print('RMSE работы линейной модели на тестовой выборке:', rmse_linear)"
   ]
  },
  {
   "cell_type": "markdown",
   "metadata": {},
   "source": [
    "Сохраним время обучения и предсказания в переменных"
   ]
  },
  {
   "cell_type": "code",
   "execution_count": 36,
   "metadata": {},
   "outputs": [],
   "source": [
    "linear_fit_time = fit_time_end - fit_time_start\n",
    "linear_pred_time = predict_time_end - fit_time_end"
   ]
  },
  {
   "cell_type": "markdown",
   "metadata": {},
   "source": [
    "### Дерево решений"
   ]
  },
  {
   "cell_type": "code",
   "execution_count": 37,
   "metadata": {},
   "outputs": [],
   "source": [
    "def rmse(true, pred):\n",
    "    return sqrt(mean_squared_error(true, pred))\n",
    "\n",
    "rmse_scorer = make_scorer(rmse, greater_is_better=False)"
   ]
  },
  {
   "cell_type": "code",
   "execution_count": 38,
   "metadata": {},
   "outputs": [
    {
     "name": "stdout",
     "output_type": "stream",
     "text": [
      "RMSE работы дерева решений на тестовой выборке: 1894.2314288959637\n",
      "Максимальная глубина дерева наилучшей модели: 20\n",
      "CPU times: user 1min 45s, sys: 6.88 s, total: 1min 52s\n",
      "Wall time: 1min 52s\n"
     ]
    }
   ],
   "source": [
    "%%time\n",
    "model = DecisionTreeRegressor(random_state=1)\n",
    "parametrs = {'max_depth': range (5, 21, 5),}\n",
    "grid_tree = GridSearchCV(model, param_grid=parametrs, cv=5, scoring=rmse_scorer)\n",
    "fit_time_start = time.time()\n",
    "grid_tree.fit(features_train, target_train)\n",
    "fit_time_end = time.time()\n",
    "rmse_tree = rmse(target_test, grid_tree.best_estimator_.predict(features_test))\n",
    "predict_time_end = time.time()\n",
    "print('RMSE работы дерева решений на тестовой выборке:', rmse_tree)\n",
    "print('Максимальная глубина дерева наилучшей модели:', grid_tree.best_params_['max_depth'])"
   ]
  },
  {
   "cell_type": "code",
   "execution_count": 39,
   "metadata": {},
   "outputs": [],
   "source": [
    "tree_fit_time = fit_time_end - fit_time_start\n",
    "tree_pred_time = predict_time_end - fit_time_end"
   ]
  },
  {
   "cell_type": "markdown",
   "metadata": {},
   "source": [
    "### Случайный лес"
   ]
  },
  {
   "cell_type": "code",
   "execution_count": 40,
   "metadata": {},
   "outputs": [
    {
     "name": "stdout",
     "output_type": "stream",
     "text": [
      "RMSE работы случайного леса на тестовой выборке: 1664.5948617367865\n",
      "Максимальная глубина дерева наилучшей модели: 20\n",
      "Количество деревьев в наилучшей модели: 100\n",
      "CPU times: user 1h 46min 48s, sys: 42.4 s, total: 1h 47min 31s\n",
      "Wall time: 1h 47min 33s\n"
     ]
    }
   ],
   "source": [
    "%%time\n",
    "model = RandomForestRegressor(random_state=1)\n",
    "parametrs = {'n_estimators': [10, 50, 100],\n",
    "             'max_depth': [1, 10, 20],}\n",
    "grid_forest = GridSearchCV(model, param_grid=parametrs, cv=5, scoring=rmse_scorer)\n",
    "fit_time_start = time.time()\n",
    "grid_forest.fit(features_train, target_train)\n",
    "fit_time_end = time.time()\n",
    "rmse_forest = rmse(target_test, grid_forest.best_estimator_.predict(features_test))\n",
    "predict_time_end = time.time()\n",
    "print('RMSE работы случайного леса на тестовой выборке:', rmse_forest)\n",
    "print('Максимальная глубина дерева наилучшей модели:', grid_forest.best_params_['max_depth'])\n",
    "print('Количество деревьев в наилучшей модели:', grid_forest.best_params_['n_estimators'])"
   ]
  },
  {
   "cell_type": "code",
   "execution_count": 41,
   "metadata": {},
   "outputs": [],
   "source": [
    "forest_fit_time = fit_time_end - fit_time_start\n",
    "forest_pred_time = predict_time_end - fit_time_end"
   ]
  },
  {
   "cell_type": "markdown",
   "metadata": {},
   "source": [
    "### CatBoost"
   ]
  },
  {
   "cell_type": "markdown",
   "metadata": {},
   "source": [
    "Для модели CatBoost необязательно перобразовывать категориальные признаки. Поделим исходный датафрейм на обучающую и тестовую выборки без преобразования категориальных признаков"
   ]
  },
  {
   "cell_type": "code",
   "execution_count": 42,
   "metadata": {},
   "outputs": [],
   "source": [
    "features_cb = df.drop('price', axis=1)\n",
    "target_cb = df['price']\n",
    "\n",
    "features_cb_train, features_cb_test, target_cb_train, target_cb_test = train_test_split(\n",
    "    features_cb, target_cb, test_size=.2, random_state=1)\n",
    "\n",
    "cat_features = ['vehicle_type', 'gearbox', 'model', 'fuel_type', 'brand', 'not_repaired']"
   ]
  },
  {
   "cell_type": "code",
   "execution_count": 43,
   "metadata": {
    "scrolled": false
   },
   "outputs": [
    {
     "name": "stdout",
     "output_type": "stream",
     "text": [
      "\n",
      "bestTest = 5392.872473\n",
      "bestIteration = 9\n",
      "\n",
      "\n",
      "bestTest = 4054.606582\n",
      "bestIteration = 9\n",
      "\n",
      "\n",
      "bestTest = 3678.336177\n",
      "bestIteration = 49\n",
      "\n",
      "\n",
      "bestTest = 2817.766068\n",
      "bestIteration = 49\n",
      "\n",
      "\n",
      "bestTest = 3168.142066\n",
      "bestIteration = 99\n",
      "\n",
      "\n",
      "bestTest = 2490.181424\n",
      "bestIteration = 99\n",
      "\n",
      "\n",
      "bestTest = 5034.78965\n",
      "bestIteration = 9\n",
      "\n",
      "\n",
      "bestTest = 3124.249372\n",
      "bestIteration = 9\n",
      "\n",
      "\n",
      "bestTest = 2577.396231\n",
      "bestIteration = 49\n",
      "\n",
      "\n",
      "bestTest = 1827.354859\n",
      "bestIteration = 49\n",
      "\n",
      "\n",
      "bestTest = 1966.874043\n",
      "bestIteration = 99\n",
      "\n",
      "\n",
      "bestTest = 1748.759767\n",
      "bestIteration = 99\n",
      "\n",
      "\n",
      "bestTest = 5013.996403\n",
      "bestIteration = 9\n",
      "\n",
      "\n",
      "bestTest = 3077.885954\n",
      "bestIteration = 9\n",
      "\n",
      "\n",
      "bestTest = 2512.731692\n",
      "bestIteration = 49\n",
      "\n",
      "\n",
      "bestTest = 1736.813713\n",
      "bestIteration = 49\n",
      "\n",
      "\n",
      "bestTest = 1882.159905\n",
      "bestIteration = 99\n",
      "\n",
      "\n",
      "bestTest = 1674.107474\n",
      "bestIteration = 99\n",
      "\n",
      "Training on fold [0/3]\n",
      "\n",
      "bestTest = 1690.61481\n",
      "bestIteration = 99\n",
      "\n",
      "Training on fold [1/3]\n",
      "\n",
      "bestTest = 1692.877014\n",
      "bestIteration = 99\n",
      "\n",
      "Training on fold [2/3]\n",
      "\n",
      "bestTest = 1684.234709\n",
      "bestIteration = 99\n",
      "\n",
      "RMSE работы CatBoost на тестовой выборке: 1667.3810479424412\n",
      "CPU times: user 7min 3s, sys: 1min 12s, total: 8min 16s\n",
      "Wall time: 8min 19s\n"
     ]
    }
   ],
   "source": [
    "%%time\n",
    "model_cb = CatBoostRegressor(loss_function='RMSE', random_state=1, verbose=0)\n",
    "grid_cb = {'iterations': [10, 50, 100],\n",
    "        'learning_rate': [0.03, 0.1],\n",
    "        'depth': [1, 10, 15]}\n",
    "\n",
    "\n",
    "train_cb = Pool(features_cb_train, target_cb_train, cat_features=cat_features) \n",
    "\n",
    "fit_time_start = time.time()\n",
    "model_cb.grid_search(grid_cb, train_cb, verbose=0)\n",
    "fit_time_end = time.time()\n",
    "rmse_cb = rmse(target_cb_test, model_cb.predict(features_cb_test))\n",
    "predict_time_end = time.time()\n",
    "print('RMSE работы CatBoost на тестовой выборке:', rmse_cb)"
   ]
  },
  {
   "cell_type": "code",
   "execution_count": 44,
   "metadata": {},
   "outputs": [],
   "source": [
    "cb_fit_time = fit_time_end - fit_time_start\n",
    "cb_pred_time = predict_time_end - fit_time_end"
   ]
  },
  {
   "cell_type": "markdown",
   "metadata": {},
   "source": [
    "### LightGBM"
   ]
  },
  {
   "cell_type": "markdown",
   "metadata": {},
   "source": [
    "Для работы модели LightGBM нужно преобразовать тип данных категориальных признаков"
   ]
  },
  {
   "cell_type": "code",
   "execution_count": 45,
   "metadata": {},
   "outputs": [],
   "source": [
    "features_cb_train[cat_features] = features_cb_train[cat_features].astype('category')\n",
    "features_cb_test[cat_features] = features_cb_test[cat_features].astype('category')"
   ]
  },
  {
   "cell_type": "code",
   "execution_count": 46,
   "metadata": {},
   "outputs": [
    {
     "name": "stdout",
     "output_type": "stream",
     "text": [
      "RMSE работы модели LightGBM на тестовой выборке: 1697.690213337172\n",
      "Максимальная глубина дерева наилучшей модели: 15\n",
      "Количество деревьев в наилучшей модели: 100\n",
      "Коэффициент скорости обучения в наилучшей модели: 0.1\n",
      "CPU times: user 5min 41s, sys: 1.89 s, total: 5min 43s\n",
      "Wall time: 5min 45s\n"
     ]
    }
   ],
   "source": [
    "%%time\n",
    "lgb_model = lgb.LGBMRegressor(random_state=1)\n",
    "parametrs = {'n_estimators': [10, 50, 100],\n",
    "             'learning_rate': [0.03, 0.1],\n",
    "             'max_depth': [1, 10, 15],}\n",
    "grid_lgb = GridSearchCV(lgb_model, param_grid=parametrs, cv=5, scoring=rmse_scorer)\n",
    "fit_time_start = time.time()\n",
    "grid_lgb.fit(features_cb_train, target_cb_train)\n",
    "fit_time_end = time.time()\n",
    "rmse_lgb = rmse(target_cb_test, grid_lgb.best_estimator_.predict(features_cb_test))\n",
    "predict_time_end = time.time()\n",
    "\n",
    "print('RMSE работы модели LightGBM на тестовой выборке:', rmse_lgb)\n",
    "print('Максимальная глубина дерева наилучшей модели:', grid_lgb.best_params_['max_depth'])\n",
    "print('Количество деревьев в наилучшей модели:', grid_lgb.best_params_['n_estimators'])\n",
    "print('Коэффициент скорости обучения в наилучшей модели:', grid_lgb.best_params_['learning_rate'])"
   ]
  },
  {
   "cell_type": "code",
   "execution_count": 47,
   "metadata": {},
   "outputs": [],
   "source": [
    "lgb_fit_time = fit_time_end - fit_time_start\n",
    "lgb_pred_time = predict_time_end - fit_time_end"
   ]
  },
  {
   "cell_type": "markdown",
   "metadata": {},
   "source": [
    "## Анализ моделей"
   ]
  },
  {
   "cell_type": "code",
   "execution_count": 48,
   "metadata": {},
   "outputs": [],
   "source": [
    "results = pd.DataFrame({'Models':['Linear Regression', 'Decision Tree', 'Random Forest', 'CatBoost', 'LightGBM'],\n",
    "                       'RMSE': [rmse_linear, rmse_tree, rmse_forest, rmse_cb, rmse_lgb],\n",
    "                       'Fit time': [linear_fit_time, tree_fit_time, forest_fit_time, cb_fit_time, lgb_fit_time],\n",
    "                       'Predict time': [linear_pred_time, tree_pred_time, forest_pred_time, cb_pred_time, lgb_pred_time]})"
   ]
  },
  {
   "cell_type": "code",
   "execution_count": 49,
   "metadata": {
    "scrolled": true
   },
   "outputs": [
    {
     "data": {
      "text/html": [
       "<div>\n",
       "<style scoped>\n",
       "    .dataframe tbody tr th:only-of-type {\n",
       "        vertical-align: middle;\n",
       "    }\n",
       "\n",
       "    .dataframe tbody tr th {\n",
       "        vertical-align: top;\n",
       "    }\n",
       "\n",
       "    .dataframe thead th {\n",
       "        text-align: right;\n",
       "    }\n",
       "</style>\n",
       "<table border=\"1\" class=\"dataframe\">\n",
       "  <thead>\n",
       "    <tr style=\"text-align: right;\">\n",
       "      <th></th>\n",
       "      <th>Models</th>\n",
       "      <th>RMSE</th>\n",
       "      <th>Fit time</th>\n",
       "      <th>Predict time</th>\n",
       "    </tr>\n",
       "  </thead>\n",
       "  <tbody>\n",
       "    <tr>\n",
       "      <th>0</th>\n",
       "      <td>Linear Regression</td>\n",
       "      <td>2899.660398</td>\n",
       "      <td>24.533291</td>\n",
       "      <td>0.198764</td>\n",
       "    </tr>\n",
       "    <tr>\n",
       "      <th>1</th>\n",
       "      <td>Decision Tree</td>\n",
       "      <td>1894.231429</td>\n",
       "      <td>112.360891</td>\n",
       "      <td>0.134045</td>\n",
       "    </tr>\n",
       "    <tr>\n",
       "      <th>2</th>\n",
       "      <td>Random Forest</td>\n",
       "      <td>1664.594862</td>\n",
       "      <td>6451.674602</td>\n",
       "      <td>2.138469</td>\n",
       "    </tr>\n",
       "    <tr>\n",
       "      <th>3</th>\n",
       "      <td>CatBoost</td>\n",
       "      <td>1667.381048</td>\n",
       "      <td>498.580448</td>\n",
       "      <td>0.147311</td>\n",
       "    </tr>\n",
       "    <tr>\n",
       "      <th>4</th>\n",
       "      <td>LightGBM</td>\n",
       "      <td>1697.690213</td>\n",
       "      <td>344.876176</td>\n",
       "      <td>0.801326</td>\n",
       "    </tr>\n",
       "  </tbody>\n",
       "</table>\n",
       "</div>"
      ],
      "text/plain": [
       "              Models         RMSE     Fit time  Predict time\n",
       "0  Linear Regression  2899.660398    24.533291      0.198764\n",
       "1      Decision Tree  1894.231429   112.360891      0.134045\n",
       "2      Random Forest  1664.594862  6451.674602      2.138469\n",
       "3           CatBoost  1667.381048   498.580448      0.147311\n",
       "4           LightGBM  1697.690213   344.876176      0.801326"
      ]
     },
     "metadata": {},
     "output_type": "display_data"
    }
   ],
   "source": [
    "display(results)"
   ]
  },
  {
   "cell_type": "markdown",
   "metadata": {},
   "source": [
    "**Анализ работы моделей показал, что при схожих гиперпараметрах наибольшая точность у моделей случайного леса и градиентного бустинга (CatBoost, LightGBM). При этом модели градиентного бустинга обучаются существенно быстрее модели случайного леса, а скорость обучение LightGBM выше скорости обучения CatBoost в 1,5 раза. Наивысшая скорость обучения у модели линейной регрессии - менее минуты, но такая скорость компенсируется низкой точностью прогнозов.**"
   ]
  }
 ],
 "metadata": {
  "ExecuteTimeLog": [
   {
    "duration": 757,
    "start_time": "2022-02-08T12:09:02.322Z"
   },
   {
    "duration": 1210,
    "start_time": "2022-02-08T12:09:24.266Z"
   },
   {
    "duration": 46,
    "start_time": "2022-02-08T12:09:26.683Z"
   },
   {
    "duration": 52,
    "start_time": "2022-02-08T12:10:27.900Z"
   },
   {
    "duration": 393,
    "start_time": "2022-02-08T12:10:35.706Z"
   },
   {
    "duration": 32,
    "start_time": "2022-02-08T12:10:43.823Z"
   },
   {
    "duration": 287,
    "start_time": "2022-02-08T12:10:48.516Z"
   },
   {
    "duration": 55,
    "start_time": "2022-02-08T12:11:04.358Z"
   },
   {
    "duration": 48,
    "start_time": "2022-02-08T12:11:14.790Z"
   },
   {
    "duration": 55,
    "start_time": "2022-02-08T12:11:49.600Z"
   },
   {
    "duration": 49,
    "start_time": "2022-02-08T12:11:53.261Z"
   },
   {
    "duration": 357,
    "start_time": "2022-02-08T12:12:02.263Z"
   },
   {
    "duration": 49,
    "start_time": "2022-02-08T12:12:12.011Z"
   },
   {
    "duration": 551,
    "start_time": "2022-02-08T12:12:25.447Z"
   },
   {
    "duration": 56,
    "start_time": "2022-02-08T12:12:37.849Z"
   },
   {
    "duration": 5214,
    "start_time": "2022-02-08T12:12:42.835Z"
   },
   {
    "duration": 48,
    "start_time": "2022-02-08T12:12:50.282Z"
   },
   {
    "duration": 53,
    "start_time": "2022-02-08T12:12:55.046Z"
   },
   {
    "duration": 83,
    "start_time": "2022-02-08T12:12:59.300Z"
   },
   {
    "duration": 45,
    "start_time": "2022-02-08T12:13:01.718Z"
   },
   {
    "duration": 49,
    "start_time": "2022-02-08T12:13:06.600Z"
   },
   {
    "duration": 48,
    "start_time": "2022-02-08T12:13:25.356Z"
   },
   {
    "duration": 51,
    "start_time": "2022-02-08T12:13:30.434Z"
   },
   {
    "duration": 48,
    "start_time": "2022-02-08T12:13:36.534Z"
   },
   {
    "duration": 340,
    "start_time": "2022-02-08T12:13:41.471Z"
   },
   {
    "duration": 46,
    "start_time": "2022-02-08T12:14:00.460Z"
   },
   {
    "duration": 57,
    "start_time": "2022-02-08T12:14:24.939Z"
   },
   {
    "duration": 463,
    "start_time": "2022-02-08T12:15:04.736Z"
   },
   {
    "duration": 395,
    "start_time": "2022-02-08T12:15:15.884Z"
   },
   {
    "duration": 690,
    "start_time": "2022-02-08T12:15:20.333Z"
   },
   {
    "duration": 3324,
    "start_time": "2022-02-08T12:15:27.243Z"
   },
   {
    "duration": 450,
    "start_time": "2022-02-08T12:15:39.975Z"
   },
   {
    "duration": 338,
    "start_time": "2022-02-10T05:13:28.723Z"
   },
   {
    "duration": 740,
    "start_time": "2022-02-10T05:13:35.624Z"
   },
   {
    "duration": 6517,
    "start_time": "2022-02-10T05:13:36.367Z"
   },
   {
    "duration": 44,
    "start_time": "2022-02-10T05:13:42.888Z"
   },
   {
    "duration": 168,
    "start_time": "2022-02-10T05:13:42.935Z"
   },
   {
    "duration": 480,
    "start_time": "2022-02-10T05:13:43.107Z"
   },
   {
    "duration": 6,
    "start_time": "2022-02-10T05:18:30.226Z"
   },
   {
    "duration": 146,
    "start_time": "2022-02-10T05:21:21.302Z"
   },
   {
    "duration": 4,
    "start_time": "2022-02-10T05:21:29.360Z"
   },
   {
    "duration": 383,
    "start_time": "2022-02-10T05:21:48.349Z"
   },
   {
    "duration": 5,
    "start_time": "2022-02-10T05:23:03.953Z"
   },
   {
    "duration": 302,
    "start_time": "2022-02-10T05:23:23.192Z"
   },
   {
    "duration": 4,
    "start_time": "2022-02-10T05:23:40.197Z"
   },
   {
    "duration": 7,
    "start_time": "2022-02-10T05:23:52.846Z"
   },
   {
    "duration": 6,
    "start_time": "2022-02-10T05:23:57.009Z"
   },
   {
    "duration": 286,
    "start_time": "2022-02-10T05:27:25.112Z"
   },
   {
    "duration": 303,
    "start_time": "2022-02-10T05:27:31.689Z"
   },
   {
    "duration": 4,
    "start_time": "2022-02-10T05:30:57.333Z"
   },
   {
    "duration": 702,
    "start_time": "2022-02-10T05:31:25.233Z"
   },
   {
    "duration": 1034,
    "start_time": "2022-02-10T05:31:25.938Z"
   },
   {
    "duration": 29,
    "start_time": "2022-02-10T05:31:26.975Z"
   },
   {
    "duration": 19,
    "start_time": "2022-02-10T05:31:27.006Z"
   },
   {
    "duration": 24,
    "start_time": "2022-02-10T05:31:27.027Z"
   },
   {
    "duration": 172,
    "start_time": "2022-02-10T05:31:27.053Z"
   },
   {
    "duration": 423,
    "start_time": "2022-02-10T05:38:29.861Z"
   },
   {
    "duration": 104,
    "start_time": "2022-02-10T05:40:14.169Z"
   },
   {
    "duration": 707,
    "start_time": "2022-02-10T05:40:43.324Z"
   },
   {
    "duration": 1042,
    "start_time": "2022-02-10T05:40:44.034Z"
   },
   {
    "duration": 41,
    "start_time": "2022-02-10T05:40:45.083Z"
   },
   {
    "duration": 6,
    "start_time": "2022-02-10T05:40:45.127Z"
   },
   {
    "duration": 23,
    "start_time": "2022-02-10T05:40:45.136Z"
   },
   {
    "duration": 187,
    "start_time": "2022-02-10T05:40:45.162Z"
   },
   {
    "duration": 377,
    "start_time": "2022-02-10T05:40:45.352Z"
   },
   {
    "duration": 135,
    "start_time": "2022-02-10T05:41:31.584Z"
   },
   {
    "duration": 7344,
    "start_time": "2022-02-10T05:42:01.594Z"
   },
   {
    "duration": 25,
    "start_time": "2022-02-10T05:42:10.995Z"
   },
   {
    "duration": 842,
    "start_time": "2022-02-10T05:42:44.556Z"
   },
   {
    "duration": 1026,
    "start_time": "2022-02-10T05:42:45.400Z"
   },
   {
    "duration": 29,
    "start_time": "2022-02-10T05:42:46.428Z"
   },
   {
    "duration": 8,
    "start_time": "2022-02-10T05:42:46.459Z"
   },
   {
    "duration": 23,
    "start_time": "2022-02-10T05:42:46.469Z"
   },
   {
    "duration": 178,
    "start_time": "2022-02-10T05:42:46.495Z"
   },
   {
    "duration": 251,
    "start_time": "2022-02-10T05:42:46.675Z"
   },
   {
    "duration": 494,
    "start_time": "2022-02-10T05:43:03.137Z"
   },
   {
    "duration": 13,
    "start_time": "2022-02-10T05:43:25.780Z"
   },
   {
    "duration": 559,
    "start_time": "2022-02-10T05:43:47.953Z"
   },
   {
    "duration": 602,
    "start_time": "2022-02-10T05:44:14.372Z"
   },
   {
    "duration": 3,
    "start_time": "2022-02-10T05:45:11.166Z"
   },
   {
    "duration": 559,
    "start_time": "2022-02-10T05:45:18.732Z"
   },
   {
    "duration": 552,
    "start_time": "2022-02-10T05:45:23.359Z"
   },
   {
    "duration": 422,
    "start_time": "2022-02-10T05:50:29.027Z"
   },
   {
    "duration": 76,
    "start_time": "2022-02-10T05:50:36.188Z"
   },
   {
    "duration": 4,
    "start_time": "2022-02-10T05:52:11.310Z"
   },
   {
    "duration": 3,
    "start_time": "2022-02-10T05:52:41.165Z"
   },
   {
    "duration": 5,
    "start_time": "2022-02-10T05:52:45.341Z"
   },
   {
    "duration": 398,
    "start_time": "2022-02-10T05:53:04.682Z"
   },
   {
    "duration": 5,
    "start_time": "2022-02-10T05:53:24.275Z"
   },
   {
    "duration": 4,
    "start_time": "2022-02-10T05:53:28.453Z"
   },
   {
    "duration": 5,
    "start_time": "2022-02-10T05:53:30.103Z"
   },
   {
    "duration": 69,
    "start_time": "2022-02-10T05:54:42.757Z"
   },
   {
    "duration": 53,
    "start_time": "2022-02-10T05:55:10.030Z"
   },
   {
    "duration": 858,
    "start_time": "2022-02-10T05:55:24.649Z"
   },
   {
    "duration": 1034,
    "start_time": "2022-02-10T05:55:25.509Z"
   },
   {
    "duration": 26,
    "start_time": "2022-02-10T05:55:26.547Z"
   },
   {
    "duration": 5,
    "start_time": "2022-02-10T05:55:26.575Z"
   },
   {
    "duration": 49,
    "start_time": "2022-02-10T05:55:26.583Z"
   },
   {
    "duration": 173,
    "start_time": "2022-02-10T05:55:26.635Z"
   },
   {
    "duration": 252,
    "start_time": "2022-02-10T05:55:26.811Z"
   },
   {
    "duration": 606,
    "start_time": "2022-02-10T05:55:27.066Z"
   },
   {
    "duration": 560,
    "start_time": "2022-02-10T05:55:27.677Z"
   },
   {
    "duration": 59,
    "start_time": "2022-02-10T05:55:28.240Z"
   },
   {
    "duration": 106,
    "start_time": "2022-02-10T05:57:07.672Z"
   },
   {
    "duration": 4,
    "start_time": "2022-02-10T05:57:31.054Z"
   },
   {
    "duration": 912,
    "start_time": "2022-02-10T05:57:35.929Z"
   },
   {
    "duration": 3,
    "start_time": "2022-02-10T05:57:36.844Z"
   },
   {
    "duration": 1345,
    "start_time": "2022-02-10T05:57:36.850Z"
   },
   {
    "duration": 41,
    "start_time": "2022-02-10T05:57:38.199Z"
   },
   {
    "duration": 6,
    "start_time": "2022-02-10T05:57:38.243Z"
   },
   {
    "duration": 33,
    "start_time": "2022-02-10T05:57:38.251Z"
   },
   {
    "duration": 289,
    "start_time": "2022-02-10T05:57:38.287Z"
   },
   {
    "duration": 259,
    "start_time": "2022-02-10T05:57:38.581Z"
   },
   {
    "duration": 757,
    "start_time": "2022-02-10T05:57:38.842Z"
   },
   {
    "duration": 577,
    "start_time": "2022-02-10T05:57:39.602Z"
   },
   {
    "duration": 68,
    "start_time": "2022-02-10T05:57:40.181Z"
   },
   {
    "duration": 399,
    "start_time": "2022-02-10T06:07:16.243Z"
   },
   {
    "duration": 397,
    "start_time": "2022-02-10T06:08:27.695Z"
   },
   {
    "duration": 126,
    "start_time": "2022-02-10T06:08:35.890Z"
   },
   {
    "duration": 13,
    "start_time": "2022-02-10T06:08:39.823Z"
   },
   {
    "duration": 13,
    "start_time": "2022-02-10T06:08:55.429Z"
   },
   {
    "duration": 46,
    "start_time": "2022-02-10T06:09:05.458Z"
   },
   {
    "duration": 44,
    "start_time": "2022-02-10T06:10:03.431Z"
   },
   {
    "duration": 43,
    "start_time": "2022-02-10T06:11:13.938Z"
   },
   {
    "duration": 5,
    "start_time": "2022-02-10T06:11:19.150Z"
   },
   {
    "duration": 42,
    "start_time": "2022-02-10T06:12:02.851Z"
   },
   {
    "duration": 43,
    "start_time": "2022-02-10T06:12:06.648Z"
   },
   {
    "duration": 7,
    "start_time": "2022-02-10T06:32:04.138Z"
   },
   {
    "duration": 149,
    "start_time": "2022-02-10T06:32:17.148Z"
   },
   {
    "duration": 465,
    "start_time": "2022-02-10T06:32:48.926Z"
   },
   {
    "duration": 617,
    "start_time": "2022-02-10T06:33:19.330Z"
   },
   {
    "duration": 578,
    "start_time": "2022-02-10T06:33:37.050Z"
   },
   {
    "duration": 1086,
    "start_time": "2022-02-10T06:33:40.339Z"
   },
   {
    "duration": 4,
    "start_time": "2022-02-10T06:33:41.428Z"
   },
   {
    "duration": 1128,
    "start_time": "2022-02-10T06:33:41.436Z"
   },
   {
    "duration": 26,
    "start_time": "2022-02-10T06:33:42.568Z"
   },
   {
    "duration": 26,
    "start_time": "2022-02-10T06:33:42.597Z"
   },
   {
    "duration": 23,
    "start_time": "2022-02-10T06:33:42.626Z"
   },
   {
    "duration": 182,
    "start_time": "2022-02-10T06:33:42.652Z"
   },
   {
    "duration": 279,
    "start_time": "2022-02-10T06:33:42.838Z"
   },
   {
    "duration": 644,
    "start_time": "2022-02-10T06:33:43.120Z"
   },
   {
    "duration": 669,
    "start_time": "2022-02-10T06:33:43.767Z"
   },
   {
    "duration": 56,
    "start_time": "2022-02-10T06:33:44.439Z"
   },
   {
    "duration": 421,
    "start_time": "2022-02-10T06:33:44.498Z"
   },
   {
    "duration": 47,
    "start_time": "2022-02-10T06:33:44.924Z"
   },
   {
    "duration": 152,
    "start_time": "2022-02-10T06:33:44.974Z"
   },
   {
    "duration": 9328,
    "start_time": "2022-02-10T06:35:21.887Z"
   },
   {
    "duration": 237,
    "start_time": "2022-02-10T06:35:39.095Z"
   },
   {
    "duration": 226,
    "start_time": "2022-02-10T06:36:13.401Z"
   },
   {
    "duration": 28,
    "start_time": "2022-02-10T06:36:46.913Z"
   },
   {
    "duration": 454,
    "start_time": "2022-02-10T06:37:02.315Z"
   },
   {
    "duration": 497,
    "start_time": "2022-02-10T06:37:07.130Z"
   },
   {
    "duration": 28,
    "start_time": "2022-02-10T06:37:18.308Z"
   },
   {
    "duration": 28,
    "start_time": "2022-02-10T06:37:27.429Z"
   },
   {
    "duration": 659,
    "start_time": "2022-02-10T06:41:42.325Z"
   },
   {
    "duration": 7178,
    "start_time": "2022-02-10T12:41:49.024Z"
   },
   {
    "duration": 4,
    "start_time": "2022-02-10T12:42:52.000Z"
   },
   {
    "duration": 284,
    "start_time": "2022-02-10T12:43:24.831Z"
   },
   {
    "duration": 8156,
    "start_time": "2022-02-10T12:43:30.215Z"
   },
   {
    "duration": 83,
    "start_time": "2022-02-10T12:43:58.144Z"
   },
   {
    "duration": 118,
    "start_time": "2022-02-10T12:44:02.164Z"
   },
   {
    "duration": 14,
    "start_time": "2022-02-10T12:44:06.365Z"
   },
   {
    "duration": 84,
    "start_time": "2022-02-10T12:44:34.285Z"
   },
   {
    "duration": 31,
    "start_time": "2022-02-10T12:45:23.840Z"
   },
   {
    "duration": 53,
    "start_time": "2022-02-10T12:45:33.397Z"
   },
   {
    "duration": 175,
    "start_time": "2022-02-10T12:46:05.577Z"
   },
   {
    "duration": 124,
    "start_time": "2022-02-10T12:46:10.747Z"
   },
   {
    "duration": 6565,
    "start_time": "2022-02-10T12:46:23.869Z"
   },
   {
    "duration": 869,
    "start_time": "2022-02-10T12:47:03.113Z"
   },
   {
    "duration": 5,
    "start_time": "2022-02-10T12:47:03.985Z"
   },
   {
    "duration": 1246,
    "start_time": "2022-02-10T12:47:03.994Z"
   },
   {
    "duration": 27,
    "start_time": "2022-02-10T12:47:05.243Z"
   },
   {
    "duration": 8,
    "start_time": "2022-02-10T12:47:05.273Z"
   },
   {
    "duration": 51,
    "start_time": "2022-02-10T12:47:05.284Z"
   },
   {
    "duration": 163,
    "start_time": "2022-02-10T12:47:05.338Z"
   },
   {
    "duration": 272,
    "start_time": "2022-02-10T12:47:05.505Z"
   },
   {
    "duration": 619,
    "start_time": "2022-02-10T12:47:05.783Z"
   },
   {
    "duration": 621,
    "start_time": "2022-02-10T12:47:06.405Z"
   },
   {
    "duration": 54,
    "start_time": "2022-02-10T12:47:07.028Z"
   },
   {
    "duration": 402,
    "start_time": "2022-02-10T12:47:07.084Z"
   },
   {
    "duration": 48,
    "start_time": "2022-02-10T12:47:07.489Z"
   },
   {
    "duration": 277,
    "start_time": "2022-02-10T12:47:07.540Z"
   },
   {
    "duration": 33,
    "start_time": "2022-02-10T12:47:07.823Z"
   },
   {
    "duration": 6939,
    "start_time": "2022-02-10T12:47:07.859Z"
   },
   {
    "duration": 88,
    "start_time": "2022-02-10T12:47:14.801Z"
   },
   {
    "duration": 7452,
    "start_time": "2022-02-10T12:47:14.891Z"
   },
   {
    "duration": 54,
    "start_time": "2022-02-10T12:47:42.036Z"
   },
   {
    "duration": 879,
    "start_time": "2022-02-10T12:48:11.801Z"
   },
   {
    "duration": 4,
    "start_time": "2022-02-10T12:48:12.682Z"
   },
   {
    "duration": 1086,
    "start_time": "2022-02-10T12:48:12.689Z"
   },
   {
    "duration": 28,
    "start_time": "2022-02-10T12:48:13.779Z"
   },
   {
    "duration": 5,
    "start_time": "2022-02-10T12:48:13.824Z"
   },
   {
    "duration": 23,
    "start_time": "2022-02-10T12:48:13.832Z"
   },
   {
    "duration": 184,
    "start_time": "2022-02-10T12:48:13.857Z"
   },
   {
    "duration": 262,
    "start_time": "2022-02-10T12:48:14.046Z"
   },
   {
    "duration": 606,
    "start_time": "2022-02-10T12:48:14.311Z"
   },
   {
    "duration": 614,
    "start_time": "2022-02-10T12:48:14.919Z"
   },
   {
    "duration": 59,
    "start_time": "2022-02-10T12:48:15.536Z"
   },
   {
    "duration": 526,
    "start_time": "2022-02-10T12:48:15.597Z"
   },
   {
    "duration": 80,
    "start_time": "2022-02-10T12:48:16.126Z"
   },
   {
    "duration": 361,
    "start_time": "2022-02-10T12:48:16.224Z"
   },
   {
    "duration": 52,
    "start_time": "2022-02-10T12:48:16.588Z"
   },
   {
    "duration": 7530,
    "start_time": "2022-02-10T12:48:16.643Z"
   },
   {
    "duration": 719,
    "start_time": "2022-02-13T09:18:26.503Z"
   },
   {
    "duration": 3,
    "start_time": "2022-02-13T09:18:27.224Z"
   },
   {
    "duration": 1524,
    "start_time": "2022-02-13T09:18:27.229Z"
   },
   {
    "duration": 17,
    "start_time": "2022-02-13T09:18:28.755Z"
   },
   {
    "duration": 3,
    "start_time": "2022-02-13T09:18:28.774Z"
   },
   {
    "duration": 21,
    "start_time": "2022-02-13T09:18:28.778Z"
   },
   {
    "duration": 143,
    "start_time": "2022-02-13T09:18:28.801Z"
   },
   {
    "duration": 198,
    "start_time": "2022-02-13T09:18:28.945Z"
   },
   {
    "duration": 425,
    "start_time": "2022-02-13T09:18:29.146Z"
   },
   {
    "duration": 412,
    "start_time": "2022-02-13T09:18:29.573Z"
   },
   {
    "duration": 44,
    "start_time": "2022-02-13T09:18:29.986Z"
   },
   {
    "duration": 286,
    "start_time": "2022-02-13T09:18:30.032Z"
   },
   {
    "duration": 35,
    "start_time": "2022-02-13T09:18:30.320Z"
   },
   {
    "duration": 208,
    "start_time": "2022-02-13T09:18:30.357Z"
   },
   {
    "duration": 21,
    "start_time": "2022-02-13T09:18:30.567Z"
   },
   {
    "duration": 6567,
    "start_time": "2022-02-13T09:18:30.590Z"
   },
   {
    "duration": 275,
    "start_time": "2022-02-13T09:21:00.374Z"
   },
   {
    "duration": 22,
    "start_time": "2022-02-13T09:21:04.490Z"
   },
   {
    "duration": 268,
    "start_time": "2022-02-13T09:22:02.941Z"
   },
   {
    "duration": 239,
    "start_time": "2022-02-13T09:22:58.059Z"
   },
   {
    "duration": 36,
    "start_time": "2022-02-13T09:23:39.905Z"
   },
   {
    "duration": 268,
    "start_time": "2022-02-13T09:23:57.157Z"
   },
   {
    "duration": 249,
    "start_time": "2022-02-13T09:24:03.387Z"
   },
   {
    "duration": 5,
    "start_time": "2022-02-13T09:24:17.905Z"
   },
   {
    "duration": 6,
    "start_time": "2022-02-13T09:24:45.134Z"
   },
   {
    "duration": 5,
    "start_time": "2022-02-13T09:24:56.208Z"
   },
   {
    "duration": 5,
    "start_time": "2022-02-13T09:25:09.932Z"
   },
   {
    "duration": 245,
    "start_time": "2022-02-13T09:25:42.478Z"
   },
   {
    "duration": 5,
    "start_time": "2022-02-13T09:25:49.447Z"
   },
   {
    "duration": 720,
    "start_time": "2022-02-13T09:26:16.982Z"
   },
   {
    "duration": 3,
    "start_time": "2022-02-13T09:26:17.704Z"
   },
   {
    "duration": 856,
    "start_time": "2022-02-13T09:26:17.709Z"
   },
   {
    "duration": 17,
    "start_time": "2022-02-13T09:26:18.568Z"
   },
   {
    "duration": 23,
    "start_time": "2022-02-13T09:26:18.586Z"
   },
   {
    "duration": 35,
    "start_time": "2022-02-13T09:26:18.611Z"
   },
   {
    "duration": 143,
    "start_time": "2022-02-13T09:26:18.648Z"
   },
   {
    "duration": 196,
    "start_time": "2022-02-13T09:26:18.794Z"
   },
   {
    "duration": 445,
    "start_time": "2022-02-13T09:26:18.992Z"
   },
   {
    "duration": 414,
    "start_time": "2022-02-13T09:26:19.439Z"
   },
   {
    "duration": 47,
    "start_time": "2022-02-13T09:26:19.855Z"
   },
   {
    "duration": 298,
    "start_time": "2022-02-13T09:26:19.904Z"
   },
   {
    "duration": 38,
    "start_time": "2022-02-13T09:26:20.204Z"
   },
   {
    "duration": 197,
    "start_time": "2022-02-13T09:26:20.243Z"
   },
   {
    "duration": 21,
    "start_time": "2022-02-13T09:26:20.442Z"
   },
   {
    "duration": 35,
    "start_time": "2022-02-13T09:26:20.465Z"
   },
   {
    "duration": 34,
    "start_time": "2022-02-13T09:26:20.502Z"
   },
   {
    "duration": 256,
    "start_time": "2022-02-13T09:26:20.538Z"
   },
   {
    "duration": 38,
    "start_time": "2022-02-13T09:28:13.120Z"
   },
   {
    "duration": 17,
    "start_time": "2022-02-13T09:28:21.411Z"
   },
   {
    "duration": 17,
    "start_time": "2022-02-13T09:28:24.938Z"
   },
   {
    "duration": 5,
    "start_time": "2022-02-13T09:28:37.641Z"
   },
   {
    "duration": 32,
    "start_time": "2022-02-13T09:30:42.977Z"
   },
   {
    "duration": 15850,
    "start_time": "2022-02-13T09:37:16.936Z"
   },
   {
    "duration": 277,
    "start_time": "2022-02-13T09:38:06.985Z"
   },
   {
    "duration": 265,
    "start_time": "2022-02-13T09:38:11.602Z"
   },
   {
    "duration": 273,
    "start_time": "2022-02-13T09:38:20.329Z"
   },
   {
    "duration": 5,
    "start_time": "2022-02-13T09:38:22.950Z"
   },
   {
    "duration": 73,
    "start_time": "2022-02-13T09:41:37.903Z"
   },
   {
    "duration": 507,
    "start_time": "2022-02-13T09:41:47.082Z"
   },
   {
    "duration": 264,
    "start_time": "2022-02-13T09:41:52.285Z"
   },
   {
    "duration": 6,
    "start_time": "2022-02-13T09:49:41.803Z"
   },
   {
    "duration": 105,
    "start_time": "2022-02-13T10:36:16.537Z"
   },
   {
    "duration": 202,
    "start_time": "2022-02-13T10:36:26.199Z"
   },
   {
    "duration": 95,
    "start_time": "2022-02-13T10:36:46.535Z"
   },
   {
    "duration": 141,
    "start_time": "2022-02-13T10:37:14.323Z"
   },
   {
    "duration": 694,
    "start_time": "2022-02-13T10:41:53.017Z"
   },
   {
    "duration": 4,
    "start_time": "2022-02-13T10:41:53.713Z"
   },
   {
    "duration": 901,
    "start_time": "2022-02-13T10:41:53.719Z"
   },
   {
    "duration": 18,
    "start_time": "2022-02-13T10:41:54.622Z"
   },
   {
    "duration": 3,
    "start_time": "2022-02-13T10:41:54.642Z"
   },
   {
    "duration": 17,
    "start_time": "2022-02-13T10:41:54.646Z"
   },
   {
    "duration": 166,
    "start_time": "2022-02-13T10:41:54.665Z"
   },
   {
    "duration": 202,
    "start_time": "2022-02-13T10:41:54.833Z"
   },
   {
    "duration": 437,
    "start_time": "2022-02-13T10:41:55.038Z"
   },
   {
    "duration": 446,
    "start_time": "2022-02-13T10:41:55.477Z"
   },
   {
    "duration": 41,
    "start_time": "2022-02-13T10:41:55.925Z"
   },
   {
    "duration": 322,
    "start_time": "2022-02-13T10:41:55.968Z"
   },
   {
    "duration": 45,
    "start_time": "2022-02-13T10:41:56.292Z"
   },
   {
    "duration": 224,
    "start_time": "2022-02-13T10:41:56.339Z"
   },
   {
    "duration": 23,
    "start_time": "2022-02-13T10:41:56.565Z"
   },
   {
    "duration": 61,
    "start_time": "2022-02-13T10:41:56.599Z"
   },
   {
    "duration": 30,
    "start_time": "2022-02-13T10:41:56.662Z"
   },
   {
    "duration": -101,
    "start_time": "2022-02-13T10:44:07.116Z"
   },
   {
    "duration": 2001,
    "start_time": "2022-02-13T10:44:12.155Z"
   },
   {
    "duration": 1918,
    "start_time": "2022-02-13T10:44:27.259Z"
   },
   {
    "duration": 275,
    "start_time": "2022-02-13T10:45:05.446Z"
   },
   {
    "duration": 7,
    "start_time": "2022-02-13T10:45:09.295Z"
   },
   {
    "duration": 777,
    "start_time": "2022-02-13T10:47:30.143Z"
   },
   {
    "duration": 3,
    "start_time": "2022-02-13T10:47:30.922Z"
   },
   {
    "duration": 918,
    "start_time": "2022-02-13T10:47:30.927Z"
   },
   {
    "duration": 17,
    "start_time": "2022-02-13T10:47:31.847Z"
   },
   {
    "duration": 19,
    "start_time": "2022-02-13T10:47:31.866Z"
   },
   {
    "duration": 46,
    "start_time": "2022-02-13T10:47:31.887Z"
   },
   {
    "duration": 146,
    "start_time": "2022-02-13T10:47:31.934Z"
   },
   {
    "duration": 213,
    "start_time": "2022-02-13T10:47:32.083Z"
   },
   {
    "duration": 452,
    "start_time": "2022-02-13T10:47:32.298Z"
   },
   {
    "duration": 479,
    "start_time": "2022-02-13T10:47:32.752Z"
   },
   {
    "duration": 41,
    "start_time": "2022-02-13T10:47:33.233Z"
   },
   {
    "duration": 325,
    "start_time": "2022-02-13T10:47:33.276Z"
   },
   {
    "duration": 47,
    "start_time": "2022-02-13T10:47:33.602Z"
   },
   {
    "duration": 223,
    "start_time": "2022-02-13T10:47:33.651Z"
   },
   {
    "duration": 31,
    "start_time": "2022-02-13T10:47:33.876Z"
   },
   {
    "duration": 50,
    "start_time": "2022-02-13T10:47:33.911Z"
   },
   {
    "duration": 28,
    "start_time": "2022-02-13T10:47:33.963Z"
   },
   {
    "duration": 105,
    "start_time": "2022-02-13T10:47:33.993Z"
   },
   {
    "duration": 353,
    "start_time": "2022-02-13T10:47:33.748Z"
   },
   {
    "duration": 357,
    "start_time": "2022-02-13T10:47:47.150Z"
   },
   {
    "duration": 5,
    "start_time": "2022-02-13T10:48:39.884Z"
   },
   {
    "duration": 6,
    "start_time": "2022-02-13T10:48:43.784Z"
   },
   {
    "duration": 4,
    "start_time": "2022-02-13T10:48:52.039Z"
   },
   {
    "duration": 5,
    "start_time": "2022-02-13T10:49:01.614Z"
   },
   {
    "duration": 5,
    "start_time": "2022-02-13T10:49:16.698Z"
   },
   {
    "duration": 279,
    "start_time": "2022-02-13T10:49:19.656Z"
   },
   {
    "duration": 340,
    "start_time": "2022-02-13T10:49:42.195Z"
   },
   {
    "duration": 4,
    "start_time": "2022-02-13T10:49:48.260Z"
   },
   {
    "duration": 328,
    "start_time": "2022-02-13T10:49:51.020Z"
   },
   {
    "duration": 5,
    "start_time": "2022-02-13T10:50:01.546Z"
   },
   {
    "duration": 6,
    "start_time": "2022-02-13T10:51:41.158Z"
   },
   {
    "duration": 102,
    "start_time": "2022-02-13T10:51:44.870Z"
   },
   {
    "duration": 5,
    "start_time": "2022-02-13T10:51:50.687Z"
   },
   {
    "duration": 5280,
    "start_time": "2022-02-13T10:53:35.474Z"
   },
   {
    "duration": 55,
    "start_time": "2022-02-13T10:53:56.843Z"
   },
   {
    "duration": 1040,
    "start_time": "2022-02-13T10:54:32.724Z"
   },
   {
    "duration": 1090,
    "start_time": "2022-02-13T10:55:04.385Z"
   },
   {
    "duration": 90,
    "start_time": "2022-02-13T10:55:25.929Z"
   },
   {
    "duration": 51,
    "start_time": "2022-02-13T10:55:40.880Z"
   },
   {
    "duration": 44,
    "start_time": "2022-02-13T10:56:00.009Z"
   },
   {
    "duration": 47,
    "start_time": "2022-02-13T10:56:02.084Z"
   },
   {
    "duration": 262,
    "start_time": "2022-02-13T13:21:30.684Z"
   },
   {
    "duration": 4,
    "start_time": "2022-02-13T13:21:32.333Z"
   },
   {
    "duration": 20208,
    "start_time": "2022-02-13T13:21:41.814Z"
   },
   {
    "duration": 89,
    "start_time": "2022-02-13T13:22:11.694Z"
   },
   {
    "duration": 85,
    "start_time": "2022-02-13T13:22:13.839Z"
   },
   {
    "duration": 5,
    "start_time": "2022-02-13T13:22:15.185Z"
   },
   {
    "duration": 264,
    "start_time": "2022-02-13T13:22:22.368Z"
   },
   {
    "duration": 257,
    "start_time": "2022-02-13T13:22:35.664Z"
   },
   {
    "duration": 6,
    "start_time": "2022-02-13T13:22:39.741Z"
   },
   {
    "duration": 23,
    "start_time": "2022-02-13T13:22:41.316Z"
   },
   {
    "duration": 23,
    "start_time": "2022-02-13T13:22:52.869Z"
   },
   {
    "duration": 26,
    "start_time": "2022-02-13T13:23:09.499Z"
   },
   {
    "duration": 1242,
    "start_time": "2022-02-13T13:24:59.871Z"
   },
   {
    "duration": 260,
    "start_time": "2022-02-13T13:25:29.220Z"
   },
   {
    "duration": 1022,
    "start_time": "2022-02-13T13:25:33.006Z"
   },
   {
    "duration": 7,
    "start_time": "2022-02-13T13:37:30.938Z"
   },
   {
    "duration": 269,
    "start_time": "2022-02-13T13:37:35.964Z"
   },
   {
    "duration": 461,
    "start_time": "2022-02-13T13:37:53.040Z"
   },
   {
    "duration": 276,
    "start_time": "2022-02-13T13:38:16.464Z"
   },
   {
    "duration": 6,
    "start_time": "2022-02-13T13:38:21.811Z"
   },
   {
    "duration": 769,
    "start_time": "2022-02-13T13:40:52.794Z"
   },
   {
    "duration": 3,
    "start_time": "2022-02-13T13:40:53.566Z"
   },
   {
    "duration": 995,
    "start_time": "2022-02-13T13:40:53.571Z"
   },
   {
    "duration": 20,
    "start_time": "2022-02-13T13:40:54.568Z"
   },
   {
    "duration": 7,
    "start_time": "2022-02-13T13:40:54.591Z"
   },
   {
    "duration": 32,
    "start_time": "2022-02-13T13:40:54.602Z"
   },
   {
    "duration": 158,
    "start_time": "2022-02-13T13:40:54.637Z"
   },
   {
    "duration": 228,
    "start_time": "2022-02-13T13:40:54.797Z"
   },
   {
    "duration": 457,
    "start_time": "2022-02-13T13:40:55.026Z"
   },
   {
    "duration": 475,
    "start_time": "2022-02-13T13:40:55.485Z"
   },
   {
    "duration": 55,
    "start_time": "2022-02-13T13:40:55.962Z"
   },
   {
    "duration": 323,
    "start_time": "2022-02-13T13:40:56.019Z"
   },
   {
    "duration": 38,
    "start_time": "2022-02-13T13:40:56.344Z"
   },
   {
    "duration": 235,
    "start_time": "2022-02-13T13:40:56.384Z"
   },
   {
    "duration": 39,
    "start_time": "2022-02-13T13:40:56.621Z"
   },
   {
    "duration": 62,
    "start_time": "2022-02-13T13:40:56.662Z"
   },
   {
    "duration": 1143,
    "start_time": "2022-02-13T13:40:56.726Z"
   },
   {
    "duration": 34,
    "start_time": "2022-02-13T13:40:57.872Z"
   },
   {
    "duration": 371,
    "start_time": "2022-02-13T13:40:57.909Z"
   },
   {
    "duration": 40,
    "start_time": "2022-02-13T13:41:31.593Z"
   },
   {
    "duration": 91,
    "start_time": "2022-02-13T13:42:00.362Z"
   },
   {
    "duration": 308,
    "start_time": "2022-02-13T13:42:02.454Z"
   },
   {
    "duration": 292,
    "start_time": "2022-02-13T13:42:17.318Z"
   },
   {
    "duration": 289,
    "start_time": "2022-02-13T13:42:37.968Z"
   },
   {
    "duration": 269,
    "start_time": "2022-02-13T13:42:44.125Z"
   },
   {
    "duration": 11,
    "start_time": "2022-02-13T13:44:23.757Z"
   },
   {
    "duration": 22,
    "start_time": "2022-02-13T13:45:23.329Z"
   },
   {
    "duration": 49,
    "start_time": "2022-02-13T13:45:52.517Z"
   },
   {
    "duration": 20,
    "start_time": "2022-02-13T13:46:00.765Z"
   },
   {
    "duration": 37,
    "start_time": "2022-02-13T13:46:09.444Z"
   },
   {
    "duration": 22,
    "start_time": "2022-02-13T14:06:14.233Z"
   },
   {
    "duration": 38,
    "start_time": "2022-02-13T14:12:30.857Z"
   },
   {
    "duration": 37,
    "start_time": "2022-02-13T14:12:36.646Z"
   },
   {
    "duration": 23,
    "start_time": "2022-02-13T14:13:18.864Z"
   },
   {
    "duration": 325,
    "start_time": "2022-02-13T14:13:59.457Z"
   },
   {
    "duration": 47,
    "start_time": "2022-02-13T14:14:36.656Z"
   },
   {
    "duration": 297,
    "start_time": "2022-02-13T14:15:41.511Z"
   },
   {
    "duration": 311,
    "start_time": "2022-02-13T14:16:07.503Z"
   },
   {
    "duration": 9862,
    "start_time": "2022-02-13T14:16:48.467Z"
   },
   {
    "duration": 6,
    "start_time": "2022-02-13T14:18:09.436Z"
   },
   {
    "duration": 271,
    "start_time": "2022-02-13T14:18:35.316Z"
   },
   {
    "duration": 6,
    "start_time": "2022-02-13T14:18:38.265Z"
   },
   {
    "duration": 882,
    "start_time": "2022-02-15T13:58:17.016Z"
   },
   {
    "duration": 3,
    "start_time": "2022-02-15T13:58:17.901Z"
   },
   {
    "duration": 1571,
    "start_time": "2022-02-15T13:58:17.907Z"
   },
   {
    "duration": 25,
    "start_time": "2022-02-15T13:58:19.481Z"
   },
   {
    "duration": 6,
    "start_time": "2022-02-15T13:58:19.508Z"
   },
   {
    "duration": 46,
    "start_time": "2022-02-15T13:58:19.516Z"
   },
   {
    "duration": 164,
    "start_time": "2022-02-15T13:58:19.565Z"
   },
   {
    "duration": 263,
    "start_time": "2022-02-15T13:58:19.733Z"
   },
   {
    "duration": 623,
    "start_time": "2022-02-15T13:58:19.999Z"
   },
   {
    "duration": 743,
    "start_time": "2022-02-15T13:58:20.625Z"
   },
   {
    "duration": 77,
    "start_time": "2022-02-15T13:58:21.372Z"
   },
   {
    "duration": 380,
    "start_time": "2022-02-15T13:58:21.452Z"
   },
   {
    "duration": 31,
    "start_time": "2022-02-15T13:58:21.834Z"
   },
   {
    "duration": 58,
    "start_time": "2022-02-15T13:58:21.868Z"
   },
   {
    "duration": 54,
    "start_time": "2022-02-15T13:58:21.929Z"
   },
   {
    "duration": 238,
    "start_time": "2022-02-15T13:58:21.986Z"
   },
   {
    "duration": 30,
    "start_time": "2022-02-15T13:58:22.226Z"
   },
   {
    "duration": 38,
    "start_time": "2022-02-15T13:58:22.259Z"
   },
   {
    "duration": 8,
    "start_time": "2022-02-15T13:58:22.300Z"
   },
   {
    "duration": 70,
    "start_time": "2022-02-15T13:58:22.310Z"
   },
   {
    "duration": 41,
    "start_time": "2022-02-15T13:58:22.383Z"
   },
   {
    "duration": 99,
    "start_time": "2022-02-15T14:02:55.257Z"
   },
   {
    "duration": 919,
    "start_time": "2022-02-15T14:05:07.474Z"
   },
   {
    "duration": 4,
    "start_time": "2022-02-15T14:05:08.396Z"
   },
   {
    "duration": 1796,
    "start_time": "2022-02-15T14:05:08.403Z"
   },
   {
    "duration": 555,
    "start_time": "2022-02-15T14:05:09.647Z"
   },
   {
    "duration": 538,
    "start_time": "2022-02-15T14:05:09.666Z"
   },
   {
    "duration": 538,
    "start_time": "2022-02-15T14:05:09.668Z"
   },
   {
    "duration": 538,
    "start_time": "2022-02-15T14:05:09.669Z"
   },
   {
    "duration": 538,
    "start_time": "2022-02-15T14:05:09.671Z"
   },
   {
    "duration": 537,
    "start_time": "2022-02-15T14:05:09.673Z"
   },
   {
    "duration": 537,
    "start_time": "2022-02-15T14:05:09.675Z"
   },
   {
    "duration": 537,
    "start_time": "2022-02-15T14:05:09.677Z"
   },
   {
    "duration": 536,
    "start_time": "2022-02-15T14:05:09.679Z"
   },
   {
    "duration": 536,
    "start_time": "2022-02-15T14:05:09.681Z"
   },
   {
    "duration": 536,
    "start_time": "2022-02-15T14:05:09.683Z"
   },
   {
    "duration": 537,
    "start_time": "2022-02-15T14:05:09.684Z"
   },
   {
    "duration": 538,
    "start_time": "2022-02-15T14:05:09.686Z"
   },
   {
    "duration": 535,
    "start_time": "2022-02-15T14:05:09.691Z"
   },
   {
    "duration": 535,
    "start_time": "2022-02-15T14:05:09.693Z"
   },
   {
    "duration": 540,
    "start_time": "2022-02-15T14:05:09.694Z"
   },
   {
    "duration": 539,
    "start_time": "2022-02-15T14:05:09.697Z"
   },
   {
    "duration": 540,
    "start_time": "2022-02-15T14:05:09.698Z"
   },
   {
    "duration": 536,
    "start_time": "2022-02-15T14:05:09.704Z"
   },
   {
    "duration": 955,
    "start_time": "2022-02-15T14:05:30.058Z"
   },
   {
    "duration": 4,
    "start_time": "2022-02-15T14:05:31.016Z"
   },
   {
    "duration": 1684,
    "start_time": "2022-02-15T14:05:31.025Z"
   },
   {
    "duration": 37,
    "start_time": "2022-02-15T14:05:32.713Z"
   },
   {
    "duration": 6,
    "start_time": "2022-02-15T14:05:32.753Z"
   },
   {
    "duration": 35,
    "start_time": "2022-02-15T14:05:32.762Z"
   },
   {
    "duration": 310,
    "start_time": "2022-02-15T14:05:32.801Z"
   },
   {
    "duration": 423,
    "start_time": "2022-02-15T14:05:33.114Z"
   },
   {
    "duration": 1014,
    "start_time": "2022-02-15T14:05:33.548Z"
   },
   {
    "duration": 891,
    "start_time": "2022-02-15T14:05:34.566Z"
   },
   {
    "duration": 62,
    "start_time": "2022-02-15T14:05:35.460Z"
   },
   {
    "duration": 444,
    "start_time": "2022-02-15T14:05:35.525Z"
   },
   {
    "duration": 24,
    "start_time": "2022-02-15T14:05:35.973Z"
   },
   {
    "duration": 88,
    "start_time": "2022-02-15T14:05:36.000Z"
   },
   {
    "duration": 76,
    "start_time": "2022-02-15T14:05:36.092Z"
   },
   {
    "duration": 279,
    "start_time": "2022-02-15T14:05:36.170Z"
   },
   {
    "duration": 27,
    "start_time": "2022-02-15T14:05:36.451Z"
   },
   {
    "duration": 636,
    "start_time": "2022-02-15T14:05:36.481Z"
   },
   {
    "duration": 107,
    "start_time": "2022-02-15T14:05:37.120Z"
   },
   {
    "duration": 483524,
    "start_time": "2022-02-15T14:05:37.231Z"
   },
   {
    "duration": 528,
    "start_time": "2022-02-15T14:13:40.230Z"
   },
   {
    "duration": 41,
    "start_time": "2022-02-15T14:43:27.421Z"
   },
   {
    "duration": 133,
    "start_time": "2022-02-15T14:43:32.581Z"
   },
   {
    "duration": 58,
    "start_time": "2022-02-15T14:44:42.443Z"
   },
   {
    "duration": 303,
    "start_time": "2022-02-15T14:45:57.886Z"
   },
   {
    "duration": 47,
    "start_time": "2022-02-15T14:46:03.401Z"
   },
   {
    "duration": 39,
    "start_time": "2022-02-15T14:47:22.498Z"
   },
   {
    "duration": 984,
    "start_time": "2022-02-15T14:47:45.239Z"
   },
   {
    "duration": 4,
    "start_time": "2022-02-15T14:47:46.226Z"
   },
   {
    "duration": 1249,
    "start_time": "2022-02-15T14:47:46.233Z"
   },
   {
    "duration": 24,
    "start_time": "2022-02-15T14:47:47.485Z"
   },
   {
    "duration": 5,
    "start_time": "2022-02-15T14:47:47.512Z"
   },
   {
    "duration": 50,
    "start_time": "2022-02-15T14:47:47.519Z"
   },
   {
    "duration": 185,
    "start_time": "2022-02-15T14:47:47.571Z"
   },
   {
    "duration": 277,
    "start_time": "2022-02-15T14:47:47.766Z"
   },
   {
    "duration": 620,
    "start_time": "2022-02-15T14:47:48.049Z"
   },
   {
    "duration": 645,
    "start_time": "2022-02-15T14:47:48.672Z"
   },
   {
    "duration": 74,
    "start_time": "2022-02-15T14:47:49.320Z"
   },
   {
    "duration": 387,
    "start_time": "2022-02-15T14:47:49.397Z"
   },
   {
    "duration": 23,
    "start_time": "2022-02-15T14:47:49.787Z"
   },
   {
    "duration": 85,
    "start_time": "2022-02-15T14:47:49.812Z"
   },
   {
    "duration": 53,
    "start_time": "2022-02-15T14:47:49.900Z"
   },
   {
    "duration": 255,
    "start_time": "2022-02-15T14:47:49.957Z"
   },
   {
    "duration": 37,
    "start_time": "2022-02-15T14:47:50.215Z"
   },
   {
    "duration": 44,
    "start_time": "2022-02-15T14:47:50.255Z"
   },
   {
    "duration": 121,
    "start_time": "2022-02-15T14:47:50.302Z"
   },
   {
    "duration": 171,
    "start_time": "2022-02-15T14:47:50.425Z"
   },
   {
    "duration": 42,
    "start_time": "2022-02-15T14:47:50.598Z"
   },
   {
    "duration": 109,
    "start_time": "2022-02-15T14:48:04.785Z"
   },
   {
    "duration": 42,
    "start_time": "2022-02-15T14:49:31.808Z"
   },
   {
    "duration": 49,
    "start_time": "2022-02-15T14:50:46.412Z"
   },
   {
    "duration": 45,
    "start_time": "2022-02-15T14:50:59.666Z"
   },
   {
    "duration": 29,
    "start_time": "2022-02-15T14:54:14.205Z"
   },
   {
    "duration": 98,
    "start_time": "2022-02-15T14:54:25.855Z"
   },
   {
    "duration": 25,
    "start_time": "2022-02-15T14:54:45.701Z"
   },
   {
    "duration": 337,
    "start_time": "2022-02-15T14:55:15.542Z"
   },
   {
    "duration": 526,
    "start_time": "2022-02-15T14:55:39.094Z"
   },
   {
    "duration": 313,
    "start_time": "2022-02-15T14:55:48.376Z"
   },
   {
    "duration": 14,
    "start_time": "2022-02-15T14:56:25.202Z"
   },
   {
    "duration": 13,
    "start_time": "2022-02-15T14:56:32.018Z"
   },
   {
    "duration": 16,
    "start_time": "2022-02-15T14:56:43.008Z"
   },
   {
    "duration": 13,
    "start_time": "2022-02-15T14:56:46.107Z"
   },
   {
    "duration": 286,
    "start_time": "2022-02-15T14:56:59.931Z"
   },
   {
    "duration": 98,
    "start_time": "2022-02-15T14:58:08.200Z"
   },
   {
    "duration": 12,
    "start_time": "2022-02-15T14:58:12.842Z"
   },
   {
    "duration": 12,
    "start_time": "2022-02-15T14:58:24.937Z"
   },
   {
    "duration": 11,
    "start_time": "2022-02-15T14:59:06.600Z"
   },
   {
    "duration": 13,
    "start_time": "2022-02-15T14:59:12.848Z"
   },
   {
    "duration": 13,
    "start_time": "2022-02-15T14:59:15.956Z"
   },
   {
    "duration": 12,
    "start_time": "2022-02-15T15:00:04.036Z"
   },
   {
    "duration": 7,
    "start_time": "2022-02-15T15:00:59.196Z"
   },
   {
    "duration": 401,
    "start_time": "2022-02-15T15:01:16.067Z"
   },
   {
    "duration": 295,
    "start_time": "2022-02-15T15:01:27.437Z"
   },
   {
    "duration": 319,
    "start_time": "2022-02-15T15:01:31.774Z"
   },
   {
    "duration": 291,
    "start_time": "2022-02-15T15:01:34.366Z"
   },
   {
    "duration": 8,
    "start_time": "2022-02-15T15:01:37.896Z"
   },
   {
    "duration": 102,
    "start_time": "2022-02-15T15:02:34.637Z"
   },
   {
    "duration": 8,
    "start_time": "2022-02-15T15:02:37.686Z"
   },
   {
    "duration": 34,
    "start_time": "2022-02-15T15:04:15.589Z"
   },
   {
    "duration": 8,
    "start_time": "2022-02-15T15:04:46.983Z"
   },
   {
    "duration": 8,
    "start_time": "2022-02-15T15:04:50.841Z"
   },
   {
    "duration": 11,
    "start_time": "2022-02-15T15:04:52.920Z"
   },
   {
    "duration": 8,
    "start_time": "2022-02-15T15:05:14.736Z"
   },
   {
    "duration": 10,
    "start_time": "2022-02-15T15:05:18.798Z"
   },
   {
    "duration": 8,
    "start_time": "2022-02-15T15:05:24.696Z"
   },
   {
    "duration": 11,
    "start_time": "2022-02-15T15:05:28.065Z"
   },
   {
    "duration": 338,
    "start_time": "2022-02-15T15:06:02.052Z"
   },
   {
    "duration": 8,
    "start_time": "2022-02-15T15:06:39.545Z"
   },
   {
    "duration": 10,
    "start_time": "2022-02-15T15:06:58.303Z"
   },
   {
    "duration": 309,
    "start_time": "2022-02-15T15:07:12.229Z"
   },
   {
    "duration": 9,
    "start_time": "2022-02-15T15:07:34.917Z"
   },
   {
    "duration": 8,
    "start_time": "2022-02-15T15:07:41.210Z"
   },
   {
    "duration": 286,
    "start_time": "2022-02-15T15:07:53.416Z"
   },
   {
    "duration": 11,
    "start_time": "2022-02-15T15:08:31.357Z"
   },
   {
    "duration": 6,
    "start_time": "2022-02-15T15:08:38.971Z"
   },
   {
    "duration": 10,
    "start_time": "2022-02-15T15:09:14.265Z"
   },
   {
    "duration": 312,
    "start_time": "2022-02-15T15:12:01.795Z"
   },
   {
    "duration": 489,
    "start_time": "2022-02-15T15:12:10.940Z"
   },
   {
    "duration": 300,
    "start_time": "2022-02-15T15:12:34.519Z"
   },
   {
    "duration": 351,
    "start_time": "2022-02-15T15:12:43.461Z"
   },
   {
    "duration": 315,
    "start_time": "2022-02-15T15:13:02.133Z"
   },
   {
    "duration": 354,
    "start_time": "2022-02-15T15:13:23.697Z"
   },
   {
    "duration": 5,
    "start_time": "2022-02-15T15:17:19.359Z"
   },
   {
    "duration": 9448,
    "start_time": "2022-02-15T15:18:51.379Z"
   },
   {
    "duration": 14903,
    "start_time": "2022-02-15T15:19:38.971Z"
   },
   {
    "duration": 872,
    "start_time": "2022-02-15T15:20:02.776Z"
   },
   {
    "duration": 4,
    "start_time": "2022-02-15T15:20:03.651Z"
   },
   {
    "duration": 1095,
    "start_time": "2022-02-15T15:20:03.658Z"
   },
   {
    "duration": 25,
    "start_time": "2022-02-15T15:20:04.756Z"
   },
   {
    "duration": 8,
    "start_time": "2022-02-15T15:20:04.784Z"
   },
   {
    "duration": 32,
    "start_time": "2022-02-15T15:20:04.795Z"
   },
   {
    "duration": 163,
    "start_time": "2022-02-15T15:20:04.849Z"
   },
   {
    "duration": 272,
    "start_time": "2022-02-15T15:20:05.015Z"
   },
   {
    "duration": 596,
    "start_time": "2022-02-15T15:20:05.290Z"
   },
   {
    "duration": 597,
    "start_time": "2022-02-15T15:20:05.888Z"
   },
   {
    "duration": 70,
    "start_time": "2022-02-15T15:20:06.487Z"
   },
   {
    "duration": 419,
    "start_time": "2022-02-15T15:20:06.560Z"
   },
   {
    "duration": 45,
    "start_time": "2022-02-15T15:20:06.982Z"
   },
   {
    "duration": 59,
    "start_time": "2022-02-15T15:20:07.030Z"
   },
   {
    "duration": 62,
    "start_time": "2022-02-15T15:20:07.092Z"
   },
   {
    "duration": 253,
    "start_time": "2022-02-15T15:20:07.157Z"
   },
   {
    "duration": 39,
    "start_time": "2022-02-15T15:20:07.414Z"
   },
   {
    "duration": 38,
    "start_time": "2022-02-15T15:20:07.457Z"
   },
   {
    "duration": 126,
    "start_time": "2022-02-15T15:20:07.497Z"
   },
   {
    "duration": 170,
    "start_time": "2022-02-15T15:20:07.626Z"
   },
   {
    "duration": 55,
    "start_time": "2022-02-15T15:20:07.799Z"
   },
   {
    "duration": 39,
    "start_time": "2022-02-15T15:20:07.857Z"
   },
   {
    "duration": 319,
    "start_time": "2022-02-15T15:20:07.902Z"
   },
   {
    "duration": 352,
    "start_time": "2022-02-15T15:20:08.223Z"
   },
   {
    "duration": 4,
    "start_time": "2022-02-15T15:20:08.578Z"
   },
   {
    "duration": 12489,
    "start_time": "2022-02-15T15:20:08.584Z"
   },
   {
    "duration": 9,
    "start_time": "2022-02-15T15:20:21.076Z"
   },
   {
    "duration": 371,
    "start_time": "2022-02-15T15:20:34.532Z"
   },
   {
    "duration": 380,
    "start_time": "2022-02-15T15:20:59.218Z"
   },
   {
    "duration": 94,
    "start_time": "2022-02-15T15:21:21.837Z"
   },
   {
    "duration": 12,
    "start_time": "2022-02-15T15:21:53.289Z"
   },
   {
    "duration": 963,
    "start_time": "2022-02-15T15:22:21.644Z"
   },
   {
    "duration": 3,
    "start_time": "2022-02-15T15:22:22.610Z"
   },
   {
    "duration": 1080,
    "start_time": "2022-02-15T15:22:22.616Z"
   },
   {
    "duration": 15,
    "start_time": "2022-02-15T15:22:23.699Z"
   },
   {
    "duration": 41,
    "start_time": "2022-02-15T15:22:23.716Z"
   },
   {
    "duration": 4,
    "start_time": "2022-02-15T15:22:23.760Z"
   },
   {
    "duration": 25,
    "start_time": "2022-02-15T15:22:23.766Z"
   },
   {
    "duration": 186,
    "start_time": "2022-02-15T15:22:23.794Z"
   },
   {
    "duration": 266,
    "start_time": "2022-02-15T15:22:23.984Z"
   },
   {
    "duration": 587,
    "start_time": "2022-02-15T15:22:24.252Z"
   },
   {
    "duration": 566,
    "start_time": "2022-02-15T15:22:24.848Z"
   },
   {
    "duration": 77,
    "start_time": "2022-02-15T15:22:25.417Z"
   },
   {
    "duration": 391,
    "start_time": "2022-02-15T15:22:25.497Z"
   },
   {
    "duration": 37,
    "start_time": "2022-02-15T15:22:25.892Z"
   },
   {
    "duration": 78,
    "start_time": "2022-02-15T15:22:25.932Z"
   },
   {
    "duration": 75,
    "start_time": "2022-02-15T15:22:26.014Z"
   },
   {
    "duration": 363,
    "start_time": "2022-02-15T15:22:26.092Z"
   },
   {
    "duration": 24,
    "start_time": "2022-02-15T15:22:26.458Z"
   },
   {
    "duration": 47,
    "start_time": "2022-02-15T15:22:26.485Z"
   },
   {
    "duration": 124,
    "start_time": "2022-02-15T15:22:26.535Z"
   },
   {
    "duration": 160,
    "start_time": "2022-02-15T15:22:26.661Z"
   },
   {
    "duration": 51,
    "start_time": "2022-02-15T15:22:26.824Z"
   },
   {
    "duration": 26,
    "start_time": "2022-02-15T15:22:26.880Z"
   },
   {
    "duration": 326,
    "start_time": "2022-02-15T15:22:26.909Z"
   },
   {
    "duration": 375,
    "start_time": "2022-02-15T15:22:27.237Z"
   },
   {
    "duration": 4,
    "start_time": "2022-02-15T15:22:27.615Z"
   },
   {
    "duration": 12893,
    "start_time": "2022-02-15T15:22:27.621Z"
   },
   {
    "duration": 12,
    "start_time": "2022-02-15T15:22:40.516Z"
   },
   {
    "duration": 100,
    "start_time": "2022-02-15T15:24:24.856Z"
   },
   {
    "duration": 152,
    "start_time": "2022-02-15T15:24:30.054Z"
   },
   {
    "duration": 30,
    "start_time": "2022-02-15T15:24:30.445Z"
   },
   {
    "duration": 26,
    "start_time": "2022-02-15T15:24:37.880Z"
   },
   {
    "duration": 29,
    "start_time": "2022-02-15T15:24:39.177Z"
   },
   {
    "duration": 281,
    "start_time": "2022-02-15T16:26:55.832Z"
   },
   {
    "duration": 386,
    "start_time": "2022-02-15T16:27:08.278Z"
   },
   {
    "duration": 8,
    "start_time": "2022-02-15T16:28:46.050Z"
   },
   {
    "duration": 13,
    "start_time": "2022-02-15T16:28:56.735Z"
   },
   {
    "duration": 13,
    "start_time": "2022-02-15T16:29:01.643Z"
   },
   {
    "duration": 13,
    "start_time": "2022-02-15T16:29:06.281Z"
   },
   {
    "duration": 14,
    "start_time": "2022-02-15T16:29:13.072Z"
   },
   {
    "duration": 708,
    "start_time": "2022-02-15T16:29:29.424Z"
   },
   {
    "duration": 40,
    "start_time": "2022-02-15T16:30:02.326Z"
   },
   {
    "duration": 37,
    "start_time": "2022-02-15T16:30:12.622Z"
   },
   {
    "duration": 13,
    "start_time": "2022-02-15T16:30:41.150Z"
   },
   {
    "duration": 37,
    "start_time": "2022-02-15T16:31:54.998Z"
   },
   {
    "duration": 43,
    "start_time": "2022-02-15T16:32:59.279Z"
   },
   {
    "duration": 46,
    "start_time": "2022-02-15T16:33:24.058Z"
   },
   {
    "duration": 44,
    "start_time": "2022-02-15T16:33:32.642Z"
   },
   {
    "duration": 44,
    "start_time": "2022-02-15T16:33:46.040Z"
   },
   {
    "duration": 45,
    "start_time": "2022-02-15T16:33:51.623Z"
   },
   {
    "duration": 8,
    "start_time": "2022-02-15T16:37:36.184Z"
   },
   {
    "duration": 16,
    "start_time": "2022-02-15T16:37:44.863Z"
   },
   {
    "duration": 10,
    "start_time": "2022-02-15T16:37:55.562Z"
   },
   {
    "duration": 52,
    "start_time": "2022-02-15T16:38:13.165Z"
   },
   {
    "duration": 46,
    "start_time": "2022-02-15T16:38:16.546Z"
   },
   {
    "duration": 54,
    "start_time": "2022-02-15T16:38:18.599Z"
   },
   {
    "duration": 49,
    "start_time": "2022-02-15T16:38:21.810Z"
   },
   {
    "duration": 17,
    "start_time": "2022-02-15T16:39:09.537Z"
   },
   {
    "duration": 5,
    "start_time": "2022-02-15T16:40:49.085Z"
   },
   {
    "duration": 196404,
    "start_time": "2022-02-15T16:42:03.121Z"
   },
   {
    "duration": 884,
    "start_time": "2022-02-15T16:45:23.934Z"
   },
   {
    "duration": 4,
    "start_time": "2022-02-15T16:45:24.820Z"
   },
   {
    "duration": 1038,
    "start_time": "2022-02-15T16:45:24.827Z"
   },
   {
    "duration": 24,
    "start_time": "2022-02-15T16:45:25.868Z"
   },
   {
    "duration": 8,
    "start_time": "2022-02-15T16:45:25.895Z"
   },
   {
    "duration": 47,
    "start_time": "2022-02-15T16:45:25.905Z"
   },
   {
    "duration": 161,
    "start_time": "2022-02-15T16:45:25.955Z"
   },
   {
    "duration": 270,
    "start_time": "2022-02-15T16:45:26.121Z"
   },
   {
    "duration": 596,
    "start_time": "2022-02-15T16:45:26.395Z"
   },
   {
    "duration": 727,
    "start_time": "2022-02-15T16:45:26.994Z"
   },
   {
    "duration": 67,
    "start_time": "2022-02-15T16:45:27.724Z"
   },
   {
    "duration": 375,
    "start_time": "2022-02-15T16:45:27.793Z"
   },
   {
    "duration": 23,
    "start_time": "2022-02-15T16:45:28.170Z"
   },
   {
    "duration": 74,
    "start_time": "2022-02-15T16:45:28.196Z"
   },
   {
    "duration": 43,
    "start_time": "2022-02-15T16:45:28.272Z"
   },
   {
    "duration": 232,
    "start_time": "2022-02-15T16:45:28.317Z"
   },
   {
    "duration": 27,
    "start_time": "2022-02-15T16:45:28.551Z"
   },
   {
    "duration": 40,
    "start_time": "2022-02-15T16:45:28.581Z"
   },
   {
    "duration": 127,
    "start_time": "2022-02-15T16:45:28.623Z"
   },
   {
    "duration": 148,
    "start_time": "2022-02-15T16:45:28.753Z"
   },
   {
    "duration": 49,
    "start_time": "2022-02-15T16:45:28.904Z"
   },
   {
    "duration": 28,
    "start_time": "2022-02-15T16:45:28.955Z"
   },
   {
    "duration": 308,
    "start_time": "2022-02-15T16:45:28.987Z"
   },
   {
    "duration": 353,
    "start_time": "2022-02-15T16:45:29.298Z"
   },
   {
    "duration": 4,
    "start_time": "2022-02-15T16:45:29.653Z"
   },
   {
    "duration": 12015,
    "start_time": "2022-02-15T16:45:29.659Z"
   },
   {
    "duration": 12,
    "start_time": "2022-02-15T16:45:41.677Z"
   },
   {
    "duration": 30,
    "start_time": "2022-02-15T16:45:41.691Z"
   },
   {
    "duration": 564,
    "start_time": "2022-02-15T16:45:41.724Z"
   },
   {
    "duration": 60,
    "start_time": "2022-02-15T16:45:42.291Z"
   },
   {
    "duration": 4,
    "start_time": "2022-02-15T16:45:42.354Z"
   },
   {
    "duration": 364,
    "start_time": "2022-02-15T16:45:42.361Z"
   },
   {
    "duration": 732,
    "start_time": "2022-02-15T16:45:41.996Z"
   },
   {
    "duration": 585593,
    "start_time": "2022-02-15T16:45:54.491Z"
   },
   {
    "duration": 21,
    "start_time": "2022-02-15T16:56:41.398Z"
   },
   {
    "duration": 4,
    "start_time": "2022-02-15T16:56:53.271Z"
   },
   {
    "duration": 12566,
    "start_time": "2022-02-15T16:56:58.331Z"
   },
   {
    "duration": 333,
    "start_time": "2022-02-15T16:57:23.725Z"
   },
   {
    "duration": 940,
    "start_time": "2022-02-15T16:58:06.931Z"
   },
   {
    "duration": 4,
    "start_time": "2022-02-15T16:58:07.875Z"
   },
   {
    "duration": 1052,
    "start_time": "2022-02-15T16:58:07.887Z"
   },
   {
    "duration": 24,
    "start_time": "2022-02-15T16:58:08.942Z"
   },
   {
    "duration": 4,
    "start_time": "2022-02-15T16:58:08.969Z"
   },
   {
    "duration": 21,
    "start_time": "2022-02-15T16:58:08.975Z"
   },
   {
    "duration": 183,
    "start_time": "2022-02-15T16:58:09.000Z"
   },
   {
    "duration": 262,
    "start_time": "2022-02-15T16:58:09.186Z"
   },
   {
    "duration": 573,
    "start_time": "2022-02-15T16:58:09.451Z"
   },
   {
    "duration": 574,
    "start_time": "2022-02-15T16:58:10.026Z"
   },
   {
    "duration": 69,
    "start_time": "2022-02-15T16:58:10.603Z"
   },
   {
    "duration": 377,
    "start_time": "2022-02-15T16:58:10.674Z"
   },
   {
    "duration": 22,
    "start_time": "2022-02-15T16:58:11.053Z"
   },
   {
    "duration": 71,
    "start_time": "2022-02-15T16:58:11.077Z"
   },
   {
    "duration": 43,
    "start_time": "2022-02-15T16:58:11.151Z"
   },
   {
    "duration": 229,
    "start_time": "2022-02-15T16:58:11.196Z"
   },
   {
    "duration": 37,
    "start_time": "2022-02-15T16:58:11.428Z"
   },
   {
    "duration": 37,
    "start_time": "2022-02-15T16:58:11.468Z"
   },
   {
    "duration": 122,
    "start_time": "2022-02-15T16:58:11.508Z"
   },
   {
    "duration": 163,
    "start_time": "2022-02-15T16:58:11.632Z"
   },
   {
    "duration": 51,
    "start_time": "2022-02-15T16:58:11.798Z"
   },
   {
    "duration": 28,
    "start_time": "2022-02-15T16:58:11.854Z"
   },
   {
    "duration": 324,
    "start_time": "2022-02-15T16:58:11.884Z"
   },
   {
    "duration": 355,
    "start_time": "2022-02-15T16:58:12.210Z"
   },
   {
    "duration": 4,
    "start_time": "2022-02-15T16:58:12.568Z"
   },
   {
    "duration": 12481,
    "start_time": "2022-02-15T16:58:12.575Z"
   },
   {
    "duration": 12,
    "start_time": "2022-02-15T16:58:25.059Z"
   },
   {
    "duration": 33,
    "start_time": "2022-02-15T16:58:25.073Z"
   },
   {
    "duration": 604,
    "start_time": "2022-02-15T16:58:25.109Z"
   },
   {
    "duration": 58,
    "start_time": "2022-02-15T16:58:25.716Z"
   },
   {
    "duration": 18,
    "start_time": "2022-02-15T16:58:25.777Z"
   },
   {
    "duration": 4,
    "start_time": "2022-02-15T16:58:25.798Z"
   },
   {
    "duration": 12641,
    "start_time": "2022-02-15T16:58:25.804Z"
   },
   {
    "duration": 318,
    "start_time": "2022-02-15T16:58:38.449Z"
   },
   {
    "duration": 609,
    "start_time": "2022-02-18T07:43:42.415Z"
   },
   {
    "duration": 3,
    "start_time": "2022-02-18T07:43:43.026Z"
   },
   {
    "duration": 768,
    "start_time": "2022-02-18T07:43:43.033Z"
   },
   {
    "duration": 16,
    "start_time": "2022-02-18T07:43:43.802Z"
   },
   {
    "duration": 5,
    "start_time": "2022-02-18T07:43:43.820Z"
   },
   {
    "duration": 15,
    "start_time": "2022-02-18T07:43:43.827Z"
   },
   {
    "duration": 136,
    "start_time": "2022-02-18T07:43:43.844Z"
   },
   {
    "duration": 175,
    "start_time": "2022-02-18T07:43:43.983Z"
   },
   {
    "duration": 380,
    "start_time": "2022-02-18T07:43:44.161Z"
   },
   {
    "duration": 388,
    "start_time": "2022-02-18T07:43:44.543Z"
   },
   {
    "duration": 54,
    "start_time": "2022-02-18T07:43:44.933Z"
   },
   {
    "duration": 280,
    "start_time": "2022-02-18T07:43:44.989Z"
   },
   {
    "duration": 14,
    "start_time": "2022-02-18T07:43:45.270Z"
   },
   {
    "duration": 37,
    "start_time": "2022-02-18T07:43:45.286Z"
   },
   {
    "duration": 52,
    "start_time": "2022-02-18T07:43:45.324Z"
   },
   {
    "duration": 185,
    "start_time": "2022-02-18T07:43:45.378Z"
   },
   {
    "duration": 18,
    "start_time": "2022-02-18T07:43:45.565Z"
   },
   {
    "duration": 34,
    "start_time": "2022-02-18T07:43:45.585Z"
   },
   {
    "duration": 86,
    "start_time": "2022-02-18T07:43:45.620Z"
   },
   {
    "duration": 115,
    "start_time": "2022-02-18T07:43:45.708Z"
   },
   {
    "duration": 38,
    "start_time": "2022-02-18T07:43:45.824Z"
   },
   {
    "duration": 22,
    "start_time": "2022-02-18T07:43:45.863Z"
   },
   {
    "duration": 213,
    "start_time": "2022-02-18T07:43:45.886Z"
   },
   {
    "duration": 229,
    "start_time": "2022-02-18T07:43:46.100Z"
   },
   {
    "duration": 3,
    "start_time": "2022-02-18T07:43:46.331Z"
   },
   {
    "duration": 6949,
    "start_time": "2022-02-18T07:43:46.337Z"
   },
   {
    "duration": 9,
    "start_time": "2022-02-18T07:43:53.288Z"
   },
   {
    "duration": 20,
    "start_time": "2022-02-18T07:43:53.299Z"
   },
   {
    "duration": 373,
    "start_time": "2022-02-18T07:43:53.320Z"
   },
   {
    "duration": 31,
    "start_time": "2022-02-18T07:43:53.694Z"
   },
   {
    "duration": 15,
    "start_time": "2022-02-18T07:43:53.727Z"
   },
   {
    "duration": 3,
    "start_time": "2022-02-18T07:43:53.759Z"
   },
   {
    "duration": 6840,
    "start_time": "2022-02-18T07:43:53.763Z"
   },
   {
    "duration": 204,
    "start_time": "2022-02-18T07:44:00.605Z"
   },
   {
    "duration": 11,
    "start_time": "2022-02-18T07:44:00.811Z"
   },
   {
    "duration": 71,
    "start_time": "2022-02-18T07:44:24.102Z"
   },
   {
    "duration": 17,
    "start_time": "2022-02-18T09:02:22.203Z"
   },
   {
    "duration": 1088,
    "start_time": "2022-02-18T09:30:26.680Z"
   },
   {
    "duration": 2,
    "start_time": "2022-02-18T09:30:27.770Z"
   },
   {
    "duration": 767,
    "start_time": "2022-02-18T09:30:27.776Z"
   },
   {
    "duration": 20,
    "start_time": "2022-02-18T09:30:28.545Z"
   },
   {
    "duration": 26,
    "start_time": "2022-02-18T09:30:28.567Z"
   },
   {
    "duration": 31,
    "start_time": "2022-02-18T09:30:28.595Z"
   },
   {
    "duration": 135,
    "start_time": "2022-02-18T09:30:28.628Z"
   },
   {
    "duration": 186,
    "start_time": "2022-02-18T09:30:28.765Z"
   },
   {
    "duration": 374,
    "start_time": "2022-02-18T09:30:28.952Z"
   },
   {
    "duration": 367,
    "start_time": "2022-02-18T09:30:29.328Z"
   },
   {
    "duration": 39,
    "start_time": "2022-02-18T09:30:29.697Z"
   },
   {
    "duration": 245,
    "start_time": "2022-02-18T09:30:29.737Z"
   },
   {
    "duration": 13,
    "start_time": "2022-02-18T09:30:29.984Z"
   },
   {
    "duration": 53,
    "start_time": "2022-02-18T09:30:29.999Z"
   },
   {
    "duration": 35,
    "start_time": "2022-02-18T09:30:30.054Z"
   },
   {
    "duration": 191,
    "start_time": "2022-02-18T09:30:30.091Z"
   },
   {
    "duration": 19,
    "start_time": "2022-02-18T09:30:30.284Z"
   },
   {
    "duration": 35,
    "start_time": "2022-02-18T09:30:30.305Z"
   },
   {
    "duration": 85,
    "start_time": "2022-02-18T09:30:30.342Z"
   },
   {
    "duration": 106,
    "start_time": "2022-02-18T09:30:30.429Z"
   },
   {
    "duration": 35,
    "start_time": "2022-02-18T09:30:30.537Z"
   },
   {
    "duration": 30,
    "start_time": "2022-02-18T09:30:30.575Z"
   },
   {
    "duration": 208,
    "start_time": "2022-02-18T09:30:30.608Z"
   },
   {
    "duration": 248,
    "start_time": "2022-02-18T09:30:30.818Z"
   },
   {
    "duration": 3,
    "start_time": "2022-02-18T09:30:31.068Z"
   },
   {
    "duration": 7042,
    "start_time": "2022-02-18T09:30:31.073Z"
   },
   {
    "duration": 8,
    "start_time": "2022-02-18T09:30:38.117Z"
   },
   {
    "duration": 37,
    "start_time": "2022-02-18T09:30:38.126Z"
   },
   {
    "duration": 442,
    "start_time": "2022-02-18T09:30:38.164Z"
   },
   {
    "duration": 32,
    "start_time": "2022-02-18T09:30:38.608Z"
   },
   {
    "duration": 25,
    "start_time": "2022-02-18T09:30:38.642Z"
   },
   {
    "duration": 3,
    "start_time": "2022-02-18T09:30:38.669Z"
   },
   {
    "duration": 7029,
    "start_time": "2022-02-18T09:30:38.673Z"
   },
   {
    "duration": 203,
    "start_time": "2022-02-18T09:30:45.703Z"
   },
   {
    "duration": 64,
    "start_time": "2022-02-18T09:30:45.908Z"
   },
   {
    "duration": -12,
    "start_time": "2022-02-18T09:30:45.986Z"
   },
   {
    "duration": -12,
    "start_time": "2022-02-18T09:30:45.987Z"
   },
   {
    "duration": 157,
    "start_time": "2022-02-18T09:33:12.953Z"
   },
   {
    "duration": 4,
    "start_time": "2022-02-18T09:34:08.582Z"
   },
   {
    "duration": 17,
    "start_time": "2022-02-18T09:34:24.926Z"
   },
   {
    "duration": 6,
    "start_time": "2022-02-18T09:34:32.938Z"
   },
   {
    "duration": 2,
    "start_time": "2022-02-18T09:35:02.485Z"
   },
   {
    "duration": 338,
    "start_time": "2022-02-18T09:42:38.450Z"
   },
   {
    "duration": 20,
    "start_time": "2022-02-18T09:43:36.870Z"
   },
   {
    "duration": 18,
    "start_time": "2022-02-18T09:44:23.586Z"
   },
   {
    "duration": 75,
    "start_time": "2022-02-18T09:44:26.629Z"
   },
   {
    "duration": 22,
    "start_time": "2022-02-18T09:45:27.687Z"
   },
   {
    "duration": 58,
    "start_time": "2022-02-18T09:45:34.502Z"
   },
   {
    "duration": 57,
    "start_time": "2022-02-18T09:45:38.563Z"
   },
   {
    "duration": 59,
    "start_time": "2022-02-18T09:45:43.181Z"
   },
   {
    "duration": 20,
    "start_time": "2022-02-18T09:45:51.573Z"
   },
   {
    "duration": 5,
    "start_time": "2022-02-18T09:46:32.813Z"
   },
   {
    "duration": 79,
    "start_time": "2022-02-18T09:46:39.726Z"
   },
   {
    "duration": 1080,
    "start_time": "2022-02-18T09:51:08.495Z"
   },
   {
    "duration": 2,
    "start_time": "2022-02-18T09:51:09.577Z"
   },
   {
    "duration": 810,
    "start_time": "2022-02-18T09:51:09.581Z"
   },
   {
    "duration": 17,
    "start_time": "2022-02-18T09:51:10.393Z"
   },
   {
    "duration": 6,
    "start_time": "2022-02-18T09:51:10.411Z"
   },
   {
    "duration": 15,
    "start_time": "2022-02-18T09:51:10.419Z"
   },
   {
    "duration": 141,
    "start_time": "2022-02-18T09:51:10.436Z"
   },
   {
    "duration": 183,
    "start_time": "2022-02-18T09:51:10.580Z"
   },
   {
    "duration": 372,
    "start_time": "2022-02-18T09:51:10.766Z"
   },
   {
    "duration": 373,
    "start_time": "2022-02-18T09:51:11.140Z"
   },
   {
    "duration": 45,
    "start_time": "2022-02-18T09:51:11.514Z"
   },
   {
    "duration": 227,
    "start_time": "2022-02-18T09:51:11.561Z"
   },
   {
    "duration": 13,
    "start_time": "2022-02-18T09:51:11.790Z"
   },
   {
    "duration": 36,
    "start_time": "2022-02-18T09:51:11.804Z"
   },
   {
    "duration": 44,
    "start_time": "2022-02-18T09:51:11.842Z"
   },
   {
    "duration": 179,
    "start_time": "2022-02-18T09:51:11.887Z"
   },
   {
    "duration": 18,
    "start_time": "2022-02-18T09:51:12.068Z"
   },
   {
    "duration": 33,
    "start_time": "2022-02-18T09:51:12.088Z"
   },
   {
    "duration": 91,
    "start_time": "2022-02-18T09:51:12.123Z"
   },
   {
    "duration": 105,
    "start_time": "2022-02-18T09:51:12.216Z"
   },
   {
    "duration": 41,
    "start_time": "2022-02-18T09:51:12.323Z"
   },
   {
    "duration": 22,
    "start_time": "2022-02-18T09:51:12.365Z"
   },
   {
    "duration": 206,
    "start_time": "2022-02-18T09:51:12.390Z"
   },
   {
    "duration": 233,
    "start_time": "2022-02-18T09:51:12.598Z"
   },
   {
    "duration": 4,
    "start_time": "2022-02-18T09:51:12.833Z"
   },
   {
    "duration": 7027,
    "start_time": "2022-02-18T09:51:12.838Z"
   },
   {
    "duration": 9,
    "start_time": "2022-02-18T09:51:19.867Z"
   },
   {
    "duration": 26,
    "start_time": "2022-02-18T09:51:19.878Z"
   },
   {
    "duration": 447,
    "start_time": "2022-02-18T09:51:19.905Z"
   },
   {
    "duration": 32,
    "start_time": "2022-02-18T09:51:20.353Z"
   },
   {
    "duration": 18,
    "start_time": "2022-02-18T09:51:20.387Z"
   },
   {
    "duration": 3,
    "start_time": "2022-02-18T09:51:20.407Z"
   },
   {
    "duration": 6972,
    "start_time": "2022-02-18T09:51:20.412Z"
   },
   {
    "duration": 203,
    "start_time": "2022-02-18T09:51:27.386Z"
   },
   {
    "duration": 5,
    "start_time": "2022-02-18T09:51:27.590Z"
   },
   {
    "duration": 164,
    "start_time": "2022-02-18T09:51:27.597Z"
   },
   {
    "duration": 17,
    "start_time": "2022-02-18T09:51:27.763Z"
   },
   {
    "duration": 5,
    "start_time": "2022-02-18T09:51:27.781Z"
   },
   {
    "duration": 273,
    "start_time": "2022-02-18T09:51:27.788Z"
   },
   {
    "duration": -14,
    "start_time": "2022-02-18T09:51:28.076Z"
   },
   {
    "duration": -15,
    "start_time": "2022-02-18T09:51:28.078Z"
   },
   {
    "duration": 103,
    "start_time": "2022-02-18T09:56:11.783Z"
   },
   {
    "duration": 100,
    "start_time": "2022-02-18T09:56:22.988Z"
   },
   {
    "duration": 1131,
    "start_time": "2022-02-18T09:56:48.739Z"
   },
   {
    "duration": 3,
    "start_time": "2022-02-18T09:56:49.872Z"
   },
   {
    "duration": 796,
    "start_time": "2022-02-18T09:56:49.877Z"
   },
   {
    "duration": 17,
    "start_time": "2022-02-18T09:56:50.675Z"
   },
   {
    "duration": 7,
    "start_time": "2022-02-18T09:56:50.694Z"
   },
   {
    "duration": 19,
    "start_time": "2022-02-18T09:56:50.703Z"
   },
   {
    "duration": 137,
    "start_time": "2022-02-18T09:56:50.724Z"
   },
   {
    "duration": 191,
    "start_time": "2022-02-18T09:56:50.865Z"
   },
   {
    "duration": 383,
    "start_time": "2022-02-18T09:56:51.059Z"
   },
   {
    "duration": 360,
    "start_time": "2022-02-18T09:56:51.444Z"
   },
   {
    "duration": 53,
    "start_time": "2022-02-18T09:56:51.806Z"
   },
   {
    "duration": 212,
    "start_time": "2022-02-18T09:56:51.861Z"
   },
   {
    "duration": 14,
    "start_time": "2022-02-18T09:56:52.074Z"
   },
   {
    "duration": 37,
    "start_time": "2022-02-18T09:56:52.089Z"
   },
   {
    "duration": 48,
    "start_time": "2022-02-18T09:56:52.128Z"
   },
   {
    "duration": 193,
    "start_time": "2022-02-18T09:56:52.177Z"
   },
   {
    "duration": 19,
    "start_time": "2022-02-18T09:56:52.372Z"
   },
   {
    "duration": 33,
    "start_time": "2022-02-18T09:56:52.393Z"
   },
   {
    "duration": 88,
    "start_time": "2022-02-18T09:56:52.428Z"
   },
   {
    "duration": 108,
    "start_time": "2022-02-18T09:56:52.518Z"
   },
   {
    "duration": 37,
    "start_time": "2022-02-18T09:56:52.627Z"
   },
   {
    "duration": 20,
    "start_time": "2022-02-18T09:56:52.666Z"
   },
   {
    "duration": 213,
    "start_time": "2022-02-18T09:56:52.690Z"
   },
   {
    "duration": 232,
    "start_time": "2022-02-18T09:56:52.905Z"
   },
   {
    "duration": 3,
    "start_time": "2022-02-18T09:56:53.139Z"
   },
   {
    "duration": 6971,
    "start_time": "2022-02-18T09:56:53.144Z"
   },
   {
    "duration": 10,
    "start_time": "2022-02-18T09:57:00.116Z"
   },
   {
    "duration": 42,
    "start_time": "2022-02-18T09:57:00.128Z"
   },
   {
    "duration": 463,
    "start_time": "2022-02-18T09:57:00.172Z"
   },
   {
    "duration": 39,
    "start_time": "2022-02-18T09:57:00.637Z"
   },
   {
    "duration": 19,
    "start_time": "2022-02-18T09:57:00.678Z"
   },
   {
    "duration": 4,
    "start_time": "2022-02-18T09:57:00.698Z"
   },
   {
    "duration": 7007,
    "start_time": "2022-02-18T09:57:00.704Z"
   },
   {
    "duration": 216,
    "start_time": "2022-02-18T09:57:07.713Z"
   },
   {
    "duration": 5,
    "start_time": "2022-02-18T09:57:07.931Z"
   },
   {
    "duration": 159,
    "start_time": "2022-02-18T09:57:07.937Z"
   },
   {
    "duration": 16,
    "start_time": "2022-02-18T09:57:08.097Z"
   },
   {
    "duration": 4,
    "start_time": "2022-02-18T09:57:08.115Z"
   },
   {
    "duration": 166,
    "start_time": "2022-02-18T09:57:08.121Z"
   },
   {
    "duration": 10,
    "start_time": "2022-02-18T09:57:08.289Z"
   },
   {
    "duration": 87,
    "start_time": "2022-02-18T09:57:08.301Z"
   },
   {
    "duration": 22,
    "start_time": "2022-02-18T09:57:18.102Z"
   },
   {
    "duration": 217,
    "start_time": "2022-02-18T09:57:31.473Z"
   },
   {
    "duration": 377,
    "start_time": "2022-02-18T09:57:37.135Z"
   },
   {
    "duration": 334,
    "start_time": "2022-02-18T09:58:04.351Z"
   },
   {
    "duration": 348,
    "start_time": "2022-02-18T09:58:13.376Z"
   },
   {
    "duration": 8,
    "start_time": "2022-02-18T09:58:33.840Z"
   },
   {
    "duration": 17,
    "start_time": "2022-02-18T10:07:14.616Z"
   },
   {
    "duration": 3,
    "start_time": "2022-02-18T10:09:07.296Z"
   },
   {
    "duration": 1159,
    "start_time": "2022-02-18T10:31:56.050Z"
   },
   {
    "duration": 3,
    "start_time": "2022-02-18T10:31:57.211Z"
   },
   {
    "duration": 904,
    "start_time": "2022-02-18T10:31:57.219Z"
   },
   {
    "duration": 19,
    "start_time": "2022-02-18T10:31:58.125Z"
   },
   {
    "duration": 13,
    "start_time": "2022-02-18T10:31:58.146Z"
   },
   {
    "duration": 19,
    "start_time": "2022-02-18T10:31:58.161Z"
   },
   {
    "duration": 143,
    "start_time": "2022-02-18T10:31:58.182Z"
   },
   {
    "duration": 195,
    "start_time": "2022-02-18T10:31:58.328Z"
   },
   {
    "duration": 405,
    "start_time": "2022-02-18T10:31:58.525Z"
   },
   {
    "duration": 384,
    "start_time": "2022-02-18T10:31:58.932Z"
   },
   {
    "duration": 52,
    "start_time": "2022-02-18T10:31:59.319Z"
   },
   {
    "duration": 243,
    "start_time": "2022-02-18T10:31:59.373Z"
   },
   {
    "duration": 15,
    "start_time": "2022-02-18T10:31:59.618Z"
   },
   {
    "duration": 51,
    "start_time": "2022-02-18T10:31:59.635Z"
   },
   {
    "duration": 34,
    "start_time": "2022-02-18T10:31:59.687Z"
   },
   {
    "duration": 207,
    "start_time": "2022-02-18T10:31:59.723Z"
   },
   {
    "duration": 35,
    "start_time": "2022-02-18T10:31:59.932Z"
   },
   {
    "duration": 41,
    "start_time": "2022-02-18T10:31:59.968Z"
   },
   {
    "duration": 101,
    "start_time": "2022-02-18T10:32:00.011Z"
   },
   {
    "duration": 110,
    "start_time": "2022-02-18T10:32:00.114Z"
   },
   {
    "duration": 41,
    "start_time": "2022-02-18T10:32:00.227Z"
   },
   {
    "duration": 30,
    "start_time": "2022-02-18T10:32:00.271Z"
   },
   {
    "duration": 218,
    "start_time": "2022-02-18T10:32:00.303Z"
   },
   {
    "duration": 236,
    "start_time": "2022-02-18T10:32:00.523Z"
   },
   {
    "duration": 3,
    "start_time": "2022-02-18T10:32:00.761Z"
   },
   {
    "duration": 7374,
    "start_time": "2022-02-18T10:32:00.766Z"
   },
   {
    "duration": 21,
    "start_time": "2022-02-18T10:32:08.142Z"
   },
   {
    "duration": 24,
    "start_time": "2022-02-18T10:32:08.164Z"
   },
   {
    "duration": 469,
    "start_time": "2022-02-18T10:32:08.190Z"
   },
   {
    "duration": 33,
    "start_time": "2022-02-18T10:32:08.661Z"
   },
   {
    "duration": 18,
    "start_time": "2022-02-18T10:32:08.696Z"
   },
   {
    "duration": 3,
    "start_time": "2022-02-18T10:32:08.716Z"
   },
   {
    "duration": 7279,
    "start_time": "2022-02-18T10:32:08.721Z"
   },
   {
    "duration": 204,
    "start_time": "2022-02-18T10:32:16.002Z"
   },
   {
    "duration": 5,
    "start_time": "2022-02-18T10:32:16.208Z"
   },
   {
    "duration": 915,
    "start_time": "2022-02-18T10:32:16.214Z"
   },
   {
    "duration": 975,
    "start_time": "2022-02-18T10:32:17.131Z"
   },
   {
    "duration": 2,
    "start_time": "2022-02-18T10:32:18.108Z"
   },
   {
    "duration": 160,
    "start_time": "2022-02-18T10:32:18.112Z"
   },
   {
    "duration": 30027,
    "start_time": "2022-02-18T10:32:18.274Z"
   },
   {
    "duration": -18,
    "start_time": "2022-02-18T10:32:48.321Z"
   },
   {
    "duration": -19,
    "start_time": "2022-02-18T10:32:48.323Z"
   },
   {
    "duration": 1080,
    "start_time": "2022-02-18T10:33:56.613Z"
   },
   {
    "duration": 3,
    "start_time": "2022-02-18T10:33:57.695Z"
   },
   {
    "duration": 830,
    "start_time": "2022-02-18T10:33:57.702Z"
   },
   {
    "duration": 26,
    "start_time": "2022-02-18T10:33:58.534Z"
   },
   {
    "duration": 3,
    "start_time": "2022-02-18T10:33:58.562Z"
   },
   {
    "duration": 18,
    "start_time": "2022-02-18T10:33:58.567Z"
   },
   {
    "duration": 136,
    "start_time": "2022-02-18T10:33:58.586Z"
   },
   {
    "duration": 195,
    "start_time": "2022-02-18T10:33:58.725Z"
   },
   {
    "duration": 398,
    "start_time": "2022-02-18T10:33:58.923Z"
   },
   {
    "duration": 364,
    "start_time": "2022-02-18T10:33:59.323Z"
   },
   {
    "duration": 41,
    "start_time": "2022-02-18T10:33:59.688Z"
   },
   {
    "duration": 235,
    "start_time": "2022-02-18T10:33:59.730Z"
   },
   {
    "duration": 14,
    "start_time": "2022-02-18T10:33:59.967Z"
   },
   {
    "duration": 40,
    "start_time": "2022-02-18T10:33:59.983Z"
   },
   {
    "duration": 55,
    "start_time": "2022-02-18T10:34:00.025Z"
   },
   {
    "duration": 209,
    "start_time": "2022-02-18T10:34:00.082Z"
   },
   {
    "duration": 19,
    "start_time": "2022-02-18T10:34:00.293Z"
   },
   {
    "duration": 48,
    "start_time": "2022-02-18T10:34:00.314Z"
   },
   {
    "duration": 74,
    "start_time": "2022-02-18T10:34:00.364Z"
   },
   {
    "duration": 119,
    "start_time": "2022-02-18T10:34:00.440Z"
   },
   {
    "duration": 33,
    "start_time": "2022-02-18T10:34:00.561Z"
   },
   {
    "duration": 19,
    "start_time": "2022-02-18T10:34:00.596Z"
   },
   {
    "duration": 222,
    "start_time": "2022-02-18T10:34:00.617Z"
   },
   {
    "duration": 247,
    "start_time": "2022-02-18T10:34:00.842Z"
   },
   {
    "duration": 4,
    "start_time": "2022-02-18T10:34:01.091Z"
   },
   {
    "duration": 7025,
    "start_time": "2022-02-18T10:34:01.100Z"
   },
   {
    "duration": 9,
    "start_time": "2022-02-18T10:34:08.127Z"
   },
   {
    "duration": 39,
    "start_time": "2022-02-18T10:34:08.138Z"
   },
   {
    "duration": 465,
    "start_time": "2022-02-18T10:34:08.179Z"
   },
   {
    "duration": 42,
    "start_time": "2022-02-18T10:34:08.646Z"
   },
   {
    "duration": 19,
    "start_time": "2022-02-18T10:34:08.690Z"
   },
   {
    "duration": 4,
    "start_time": "2022-02-18T10:34:08.711Z"
   },
   {
    "duration": 7006,
    "start_time": "2022-02-18T10:34:08.717Z"
   },
   {
    "duration": 204,
    "start_time": "2022-02-18T10:34:15.725Z"
   },
   {
    "duration": 4,
    "start_time": "2022-02-18T10:34:15.931Z"
   },
   {
    "duration": 976,
    "start_time": "2022-02-18T10:34:15.937Z"
   },
   {
    "duration": 959,
    "start_time": "2022-02-18T10:34:16.915Z"
   },
   {
    "duration": 3,
    "start_time": "2022-02-18T10:34:17.875Z"
   },
   {
    "duration": 152,
    "start_time": "2022-02-18T10:34:17.880Z"
   },
   {
    "duration": 71,
    "start_time": "2022-02-18T10:34:18.034Z"
   },
   {
    "duration": -10,
    "start_time": "2022-02-18T10:34:18.117Z"
   },
   {
    "duration": -10,
    "start_time": "2022-02-18T10:34:18.118Z"
   },
   {
    "duration": 30324,
    "start_time": "2022-02-18T10:35:17.039Z"
   },
   {
    "duration": 161,
    "start_time": "2022-02-18T10:38:35.203Z"
   },
   {
    "duration": 6,
    "start_time": "2022-02-18T10:38:48.339Z"
   },
   {
    "duration": 5,
    "start_time": "2022-02-18T10:38:53.971Z"
   },
   {
    "duration": 210,
    "start_time": "2022-02-18T10:39:01.059Z"
   },
   {
    "duration": 216,
    "start_time": "2022-02-18T11:50:34.515Z"
   },
   {
    "duration": 20,
    "start_time": "2022-02-18T11:50:59.830Z"
   },
   {
    "duration": 132,
    "start_time": "2022-02-18T11:51:04.469Z"
   },
   {
    "duration": 4,
    "start_time": "2022-02-18T11:51:31.367Z"
   },
   {
    "duration": 151,
    "start_time": "2022-02-18T11:51:35.718Z"
   },
   {
    "duration": 133,
    "start_time": "2022-02-18T11:53:09.142Z"
   },
   {
    "duration": 2452,
    "start_time": "2022-02-18T16:03:47.038Z"
   },
   {
    "duration": 5,
    "start_time": "2022-02-18T16:03:49.493Z"
   },
   {
    "duration": 1102,
    "start_time": "2022-02-18T16:03:49.502Z"
   },
   {
    "duration": 25,
    "start_time": "2022-02-18T16:03:50.607Z"
   },
   {
    "duration": 27,
    "start_time": "2022-02-18T16:03:50.634Z"
   },
   {
    "duration": 28,
    "start_time": "2022-02-18T16:03:50.663Z"
   },
   {
    "duration": 179,
    "start_time": "2022-02-18T16:03:50.694Z"
   },
   {
    "duration": 262,
    "start_time": "2022-02-18T16:03:50.877Z"
   },
   {
    "duration": 591,
    "start_time": "2022-02-18T16:03:51.142Z"
   },
   {
    "duration": 610,
    "start_time": "2022-02-18T16:03:51.736Z"
   },
   {
    "duration": 70,
    "start_time": "2022-02-18T16:03:52.349Z"
   },
   {
    "duration": 367,
    "start_time": "2022-02-18T16:03:52.422Z"
   },
   {
    "duration": 23,
    "start_time": "2022-02-18T16:03:52.792Z"
   },
   {
    "duration": 76,
    "start_time": "2022-02-18T16:03:52.817Z"
   },
   {
    "duration": 43,
    "start_time": "2022-02-18T16:03:52.896Z"
   },
   {
    "duration": 250,
    "start_time": "2022-02-18T16:03:52.942Z"
   },
   {
    "duration": 27,
    "start_time": "2022-02-18T16:03:53.194Z"
   },
   {
    "duration": 60,
    "start_time": "2022-02-18T16:03:53.223Z"
   },
   {
    "duration": 107,
    "start_time": "2022-02-18T16:03:53.286Z"
   },
   {
    "duration": 156,
    "start_time": "2022-02-18T16:03:53.397Z"
   },
   {
    "duration": 44,
    "start_time": "2022-02-18T16:03:53.556Z"
   },
   {
    "duration": 27,
    "start_time": "2022-02-18T16:03:53.602Z"
   },
   {
    "duration": 329,
    "start_time": "2022-02-18T16:03:53.633Z"
   },
   {
    "duration": 366,
    "start_time": "2022-02-18T16:03:53.965Z"
   },
   {
    "duration": 4,
    "start_time": "2022-02-18T16:03:54.334Z"
   },
   {
    "duration": 13043,
    "start_time": "2022-02-18T16:03:54.340Z"
   },
   {
    "duration": 11,
    "start_time": "2022-02-18T16:04:07.385Z"
   },
   {
    "duration": 45,
    "start_time": "2022-02-18T16:04:07.399Z"
   },
   {
    "duration": 674,
    "start_time": "2022-02-18T16:04:07.461Z"
   },
   {
    "duration": 62,
    "start_time": "2022-02-18T16:04:08.138Z"
   },
   {
    "duration": 21,
    "start_time": "2022-02-18T16:04:08.202Z"
   },
   {
    "duration": 6,
    "start_time": "2022-02-18T16:04:08.225Z"
   },
   {
    "duration": 13272,
    "start_time": "2022-02-18T16:04:08.233Z"
   },
   {
    "duration": 354,
    "start_time": "2022-02-18T16:04:21.507Z"
   },
   {
    "duration": 6,
    "start_time": "2022-02-18T16:04:21.863Z"
   },
   {
    "duration": 1264,
    "start_time": "2022-02-18T16:04:21.871Z"
   },
   {
    "duration": 1375,
    "start_time": "2022-02-18T16:04:23.138Z"
   },
   {
    "duration": 4,
    "start_time": "2022-02-18T16:04:24.515Z"
   },
   {
    "duration": 222,
    "start_time": "2022-02-18T16:04:24.522Z"
   },
   {
    "duration": 31617,
    "start_time": "2022-02-18T16:04:24.746Z"
   },
   {
    "duration": 95,
    "start_time": "2022-02-18T16:04:56.367Z"
   },
   {
    "duration": 286511,
    "start_time": "2022-02-18T16:04:56.465Z"
   },
   {
    "duration": 105,
    "start_time": "2022-02-18T16:09:42.978Z"
   },
   {
    "duration": 1504,
    "start_time": "2022-02-18T16:09:54.413Z"
   },
   {
    "duration": 4,
    "start_time": "2022-02-18T16:09:55.921Z"
   },
   {
    "duration": 1219,
    "start_time": "2022-02-18T16:09:55.929Z"
   },
   {
    "duration": 34,
    "start_time": "2022-02-18T16:09:57.151Z"
   },
   {
    "duration": 6,
    "start_time": "2022-02-18T16:09:57.189Z"
   },
   {
    "duration": 35,
    "start_time": "2022-02-18T16:09:57.198Z"
   },
   {
    "duration": 179,
    "start_time": "2022-02-18T16:09:57.263Z"
   },
   {
    "duration": 272,
    "start_time": "2022-02-18T16:09:57.446Z"
   },
   {
    "duration": 706,
    "start_time": "2022-02-18T16:09:57.720Z"
   },
   {
    "duration": 882,
    "start_time": "2022-02-18T16:09:58.429Z"
   },
   {
    "duration": 68,
    "start_time": "2022-02-18T16:09:59.314Z"
   },
   {
    "duration": 351,
    "start_time": "2022-02-18T16:09:59.385Z"
   },
   {
    "duration": 33,
    "start_time": "2022-02-18T16:09:59.740Z"
   },
   {
    "duration": 61,
    "start_time": "2022-02-18T16:09:59.775Z"
   },
   {
    "duration": 57,
    "start_time": "2022-02-18T16:09:59.838Z"
   },
   {
    "duration": 246,
    "start_time": "2022-02-18T16:09:59.898Z"
   },
   {
    "duration": 34,
    "start_time": "2022-02-18T16:10:00.147Z"
   },
   {
    "duration": 77,
    "start_time": "2022-02-18T16:10:00.184Z"
   },
   {
    "duration": 118,
    "start_time": "2022-02-18T16:10:00.263Z"
   },
   {
    "duration": 177,
    "start_time": "2022-02-18T16:10:00.384Z"
   },
   {
    "duration": 45,
    "start_time": "2022-02-18T16:10:00.563Z"
   },
   {
    "duration": 34,
    "start_time": "2022-02-18T16:10:00.610Z"
   },
   {
    "duration": 324,
    "start_time": "2022-02-18T16:10:00.663Z"
   },
   {
    "duration": 370,
    "start_time": "2022-02-18T16:10:00.991Z"
   },
   {
    "duration": 4,
    "start_time": "2022-02-18T16:10:01.363Z"
   },
   {
    "duration": 12885,
    "start_time": "2022-02-18T16:10:01.370Z"
   },
   {
    "duration": 12,
    "start_time": "2022-02-18T16:10:14.257Z"
   },
   {
    "duration": 35,
    "start_time": "2022-02-18T16:10:14.271Z"
   },
   {
    "duration": 693,
    "start_time": "2022-02-18T16:10:14.308Z"
   },
   {
    "duration": 66,
    "start_time": "2022-02-18T16:10:15.004Z"
   },
   {
    "duration": 21,
    "start_time": "2022-02-18T16:10:15.073Z"
   },
   {
    "duration": 4,
    "start_time": "2022-02-18T16:10:15.097Z"
   },
   {
    "duration": 13119,
    "start_time": "2022-02-18T16:10:15.103Z"
   },
   {
    "duration": 336,
    "start_time": "2022-02-18T16:10:28.225Z"
   },
   {
    "duration": 8,
    "start_time": "2022-02-18T16:10:28.563Z"
   },
   {
    "duration": 1171,
    "start_time": "2022-02-18T16:10:28.573Z"
   },
   {
    "duration": 1377,
    "start_time": "2022-02-18T16:10:29.747Z"
   },
   {
    "duration": 3,
    "start_time": "2022-02-18T16:10:31.127Z"
   },
   {
    "duration": 219,
    "start_time": "2022-02-18T16:10:31.133Z"
   },
   {
    "duration": 30714,
    "start_time": "2022-02-18T16:10:31.355Z"
   },
   {
    "duration": 5,
    "start_time": "2022-02-18T16:11:02.161Z"
   },
   {
    "duration": 21011,
    "start_time": "2022-02-18T16:11:02.172Z"
   },
   {
    "duration": 106,
    "start_time": "2022-02-18T16:11:23.186Z"
   },
   {
    "duration": 1472,
    "start_time": "2022-02-18T16:14:23.831Z"
   },
   {
    "duration": 3,
    "start_time": "2022-02-18T16:14:25.306Z"
   },
   {
    "duration": 1095,
    "start_time": "2022-02-18T16:14:25.312Z"
   },
   {
    "duration": 23,
    "start_time": "2022-02-18T16:14:26.410Z"
   },
   {
    "duration": 11,
    "start_time": "2022-02-18T16:14:26.436Z"
   },
   {
    "duration": 20,
    "start_time": "2022-02-18T16:14:26.462Z"
   },
   {
    "duration": 177,
    "start_time": "2022-02-18T16:14:26.484Z"
   },
   {
    "duration": 261,
    "start_time": "2022-02-18T16:14:26.666Z"
   },
   {
    "duration": 605,
    "start_time": "2022-02-18T16:14:26.930Z"
   },
   {
    "duration": 614,
    "start_time": "2022-02-18T16:14:27.538Z"
   },
   {
    "duration": 64,
    "start_time": "2022-02-18T16:14:28.155Z"
   },
   {
    "duration": 359,
    "start_time": "2022-02-18T16:14:28.222Z"
   },
   {
    "duration": 22,
    "start_time": "2022-02-18T16:14:28.583Z"
   },
   {
    "duration": 79,
    "start_time": "2022-02-18T16:14:28.607Z"
   },
   {
    "duration": 46,
    "start_time": "2022-02-18T16:14:28.688Z"
   },
   {
    "duration": 243,
    "start_time": "2022-02-18T16:14:28.737Z"
   },
   {
    "duration": 26,
    "start_time": "2022-02-18T16:14:28.983Z"
   },
   {
    "duration": 56,
    "start_time": "2022-02-18T16:14:29.012Z"
   },
   {
    "duration": 107,
    "start_time": "2022-02-18T16:14:29.070Z"
   },
   {
    "duration": 159,
    "start_time": "2022-02-18T16:14:29.181Z"
   },
   {
    "duration": 50,
    "start_time": "2022-02-18T16:14:29.343Z"
   },
   {
    "duration": 30,
    "start_time": "2022-02-18T16:14:29.396Z"
   },
   {
    "duration": 341,
    "start_time": "2022-02-18T16:14:29.432Z"
   },
   {
    "duration": 394,
    "start_time": "2022-02-18T16:14:29.776Z"
   },
   {
    "duration": 4,
    "start_time": "2022-02-18T16:14:30.173Z"
   },
   {
    "duration": 12875,
    "start_time": "2022-02-18T16:14:30.179Z"
   },
   {
    "duration": 11,
    "start_time": "2022-02-18T16:14:43.056Z"
   },
   {
    "duration": 37,
    "start_time": "2022-02-18T16:14:43.070Z"
   },
   {
    "duration": 685,
    "start_time": "2022-02-18T16:14:43.109Z"
   },
   {
    "duration": 45,
    "start_time": "2022-02-18T16:14:43.797Z"
   },
   {
    "duration": 19,
    "start_time": "2022-02-18T16:14:43.861Z"
   },
   {
    "duration": 4,
    "start_time": "2022-02-18T16:14:43.883Z"
   },
   {
    "duration": 12699,
    "start_time": "2022-02-18T16:14:43.889Z"
   },
   {
    "duration": 339,
    "start_time": "2022-02-18T16:14:56.591Z"
   },
   {
    "duration": 5,
    "start_time": "2022-02-18T16:14:56.933Z"
   },
   {
    "duration": 1894,
    "start_time": "2022-02-18T16:14:56.941Z"
   },
   {
    "duration": 1469,
    "start_time": "2022-02-18T16:14:58.838Z"
   },
   {
    "duration": 3,
    "start_time": "2022-02-18T16:15:00.310Z"
   },
   {
    "duration": 228,
    "start_time": "2022-02-18T16:15:00.316Z"
   },
   {
    "duration": 30323,
    "start_time": "2022-02-18T16:15:00.546Z"
   },
   {
    "duration": 6,
    "start_time": "2022-02-18T16:15:30.961Z"
   },
   {
    "duration": 390591,
    "start_time": "2022-02-18T16:15:30.970Z"
   },
   {
    "duration": 106,
    "start_time": "2022-02-18T16:22:01.563Z"
   },
   {
    "duration": 1441,
    "start_time": "2022-02-18T17:16:48.375Z"
   },
   {
    "duration": 4,
    "start_time": "2022-02-18T17:16:49.819Z"
   },
   {
    "duration": 1121,
    "start_time": "2022-02-18T17:16:49.826Z"
   },
   {
    "duration": 26,
    "start_time": "2022-02-18T17:16:50.950Z"
   },
   {
    "duration": 7,
    "start_time": "2022-02-18T17:16:50.979Z"
   },
   {
    "duration": 27,
    "start_time": "2022-02-18T17:16:50.988Z"
   },
   {
    "duration": 187,
    "start_time": "2022-02-18T17:16:51.018Z"
   },
   {
    "duration": 258,
    "start_time": "2022-02-18T17:16:51.208Z"
   },
   {
    "duration": 615,
    "start_time": "2022-02-18T17:16:51.469Z"
   },
   {
    "duration": 605,
    "start_time": "2022-02-18T17:16:52.087Z"
   },
   {
    "duration": 71,
    "start_time": "2022-02-18T17:16:52.694Z"
   },
   {
    "duration": 347,
    "start_time": "2022-02-18T17:16:52.768Z"
   },
   {
    "duration": 24,
    "start_time": "2022-02-18T17:16:53.118Z"
   },
   {
    "duration": 75,
    "start_time": "2022-02-18T17:16:53.144Z"
   },
   {
    "duration": 68,
    "start_time": "2022-02-18T17:16:53.222Z"
   },
   {
    "duration": 269,
    "start_time": "2022-02-18T17:16:53.293Z"
   },
   {
    "duration": 26,
    "start_time": "2022-02-18T17:16:53.565Z"
   },
   {
    "duration": 38,
    "start_time": "2022-02-18T17:16:53.593Z"
   },
   {
    "duration": 139,
    "start_time": "2022-02-18T17:16:53.633Z"
   },
   {
    "duration": 190,
    "start_time": "2022-02-18T17:16:53.775Z"
   },
   {
    "duration": 46,
    "start_time": "2022-02-18T17:16:53.967Z"
   },
   {
    "duration": 46,
    "start_time": "2022-02-18T17:16:54.015Z"
   },
   {
    "duration": 314,
    "start_time": "2022-02-18T17:16:54.067Z"
   },
   {
    "duration": 463,
    "start_time": "2022-02-18T17:16:54.384Z"
   },
   {
    "duration": 11,
    "start_time": "2022-02-18T17:16:54.850Z"
   },
   {
    "duration": 13273,
    "start_time": "2022-02-18T17:16:54.863Z"
   },
   {
    "duration": 22,
    "start_time": "2022-02-18T17:17:08.139Z"
   },
   {
    "duration": 38,
    "start_time": "2022-02-18T17:17:08.164Z"
   },
   {
    "duration": 685,
    "start_time": "2022-02-18T17:17:08.204Z"
   },
   {
    "duration": 42,
    "start_time": "2022-02-18T17:17:08.891Z"
   },
   {
    "duration": 41,
    "start_time": "2022-02-18T17:17:08.936Z"
   },
   {
    "duration": 5,
    "start_time": "2022-02-18T17:17:08.981Z"
   },
   {
    "duration": 12739,
    "start_time": "2022-02-18T17:17:08.989Z"
   },
   {
    "duration": 351,
    "start_time": "2022-02-18T17:17:21.731Z"
   },
   {
    "duration": 5,
    "start_time": "2022-02-18T17:17:22.085Z"
   },
   {
    "duration": 1268,
    "start_time": "2022-02-18T17:17:22.093Z"
   },
   {
    "duration": 1388,
    "start_time": "2022-02-18T17:17:23.363Z"
   },
   {
    "duration": 8,
    "start_time": "2022-02-18T17:17:24.753Z"
   },
   {
    "duration": 228,
    "start_time": "2022-02-18T17:17:24.764Z"
   },
   {
    "duration": 30868,
    "start_time": "2022-02-18T17:17:24.995Z"
   },
   {
    "duration": 5,
    "start_time": "2022-02-18T17:17:55.867Z"
   },
   {
    "duration": 650234,
    "start_time": "2022-02-18T17:17:55.962Z"
   },
   {
    "duration": 98,
    "start_time": "2022-02-18T17:28:46.199Z"
   },
   {
    "duration": 1131,
    "start_time": "2022-02-20T11:49:25.634Z"
   },
   {
    "duration": 3,
    "start_time": "2022-02-20T11:49:26.767Z"
   },
   {
    "duration": 1205,
    "start_time": "2022-02-20T11:49:26.774Z"
   },
   {
    "duration": 17,
    "start_time": "2022-02-20T11:49:27.981Z"
   },
   {
    "duration": 9,
    "start_time": "2022-02-20T11:49:27.999Z"
   },
   {
    "duration": 30,
    "start_time": "2022-02-20T11:49:28.010Z"
   },
   {
    "duration": 132,
    "start_time": "2022-02-20T11:49:28.043Z"
   },
   {
    "duration": 186,
    "start_time": "2022-02-20T11:49:28.177Z"
   },
   {
    "duration": 366,
    "start_time": "2022-02-20T11:49:28.365Z"
   },
   {
    "duration": 367,
    "start_time": "2022-02-20T11:49:28.732Z"
   },
   {
    "duration": 49,
    "start_time": "2022-02-20T11:49:29.100Z"
   },
   {
    "duration": 217,
    "start_time": "2022-02-20T11:49:29.151Z"
   },
   {
    "duration": 16,
    "start_time": "2022-02-20T11:49:29.370Z"
   },
   {
    "duration": 50,
    "start_time": "2022-02-20T11:49:29.387Z"
   },
   {
    "duration": 35,
    "start_time": "2022-02-20T11:49:29.439Z"
   },
   {
    "duration": 208,
    "start_time": "2022-02-20T11:49:29.478Z"
   },
   {
    "duration": 22,
    "start_time": "2022-02-20T11:49:29.688Z"
   },
   {
    "duration": 40,
    "start_time": "2022-02-20T11:49:29.719Z"
   },
   {
    "duration": 88,
    "start_time": "2022-02-20T11:49:29.762Z"
   },
   {
    "duration": 107,
    "start_time": "2022-02-20T11:49:29.851Z"
   },
   {
    "duration": 34,
    "start_time": "2022-02-20T11:49:29.960Z"
   },
   {
    "duration": 35,
    "start_time": "2022-02-20T11:49:29.998Z"
   },
   {
    "duration": 207,
    "start_time": "2022-02-20T11:49:30.035Z"
   },
   {
    "duration": 238,
    "start_time": "2022-02-20T11:49:30.245Z"
   },
   {
    "duration": 3,
    "start_time": "2022-02-20T11:49:30.485Z"
   },
   {
    "duration": 7565,
    "start_time": "2022-02-20T11:49:30.489Z"
   },
   {
    "duration": 7,
    "start_time": "2022-02-20T11:49:38.056Z"
   },
   {
    "duration": 23,
    "start_time": "2022-02-20T11:49:38.065Z"
   },
   {
    "duration": 439,
    "start_time": "2022-02-20T11:49:38.090Z"
   },
   {
    "duration": 31,
    "start_time": "2022-02-20T11:49:38.531Z"
   },
   {
    "duration": 18,
    "start_time": "2022-02-20T11:49:38.564Z"
   },
   {
    "duration": 8,
    "start_time": "2022-02-20T11:49:38.584Z"
   },
   {
    "duration": 7417,
    "start_time": "2022-02-20T11:49:38.594Z"
   },
   {
    "duration": 211,
    "start_time": "2022-02-20T11:49:46.013Z"
   },
   {
    "duration": 6,
    "start_time": "2022-02-20T11:49:46.226Z"
   },
   {
    "duration": 893,
    "start_time": "2022-02-20T11:49:46.234Z"
   },
   {
    "duration": 964,
    "start_time": "2022-02-20T11:49:47.129Z"
   },
   {
    "duration": 3,
    "start_time": "2022-02-20T11:49:48.095Z"
   },
   {
    "duration": 161,
    "start_time": "2022-02-20T11:49:48.099Z"
   },
   {
    "duration": 29456,
    "start_time": "2022-02-20T11:49:48.262Z"
   },
   {
    "duration": 4,
    "start_time": "2022-02-20T11:50:17.721Z"
   },
   {
    "duration": 604785,
    "start_time": "2022-02-20T11:50:17.727Z"
   },
   {
    "duration": 85,
    "start_time": "2022-02-20T12:00:22.514Z"
   },
   {
    "duration": 396,
    "start_time": "2022-02-20T12:08:57.004Z"
   },
   {
    "duration": 12,
    "start_time": "2022-02-20T12:09:26.502Z"
   },
   {
    "duration": 21207452,
    "start_time": "2022-02-20T12:09:35.976Z"
   },
   {
    "duration": 19,
    "start_time": "2022-02-20T18:03:03.432Z"
   },
   {
    "duration": 21,
    "start_time": "2022-02-20T18:05:52.453Z"
   },
   {
    "duration": 113,
    "start_time": "2022-02-20T18:05:54.729Z"
   },
   {
    "duration": 97,
    "start_time": "2022-02-20T18:05:55.719Z"
   },
   {
    "duration": 181,
    "start_time": "2022-02-20T18:06:10.937Z"
   },
   {
    "duration": 912,
    "start_time": "2022-02-20T18:06:16.947Z"
   },
   {
    "duration": 6013,
    "start_time": "2022-02-20T18:06:22.422Z"
   },
   {
    "duration": 1484,
    "start_time": "2022-02-20T18:06:44.744Z"
   },
   {
    "duration": 3,
    "start_time": "2022-02-20T18:06:46.231Z"
   },
   {
    "duration": 1188,
    "start_time": "2022-02-20T18:06:46.236Z"
   },
   {
    "duration": 17,
    "start_time": "2022-02-20T18:06:47.426Z"
   },
   {
    "duration": 17,
    "start_time": "2022-02-20T18:06:47.444Z"
   },
   {
    "duration": 22,
    "start_time": "2022-02-20T18:06:47.462Z"
   },
   {
    "duration": 135,
    "start_time": "2022-02-20T18:06:47.486Z"
   },
   {
    "duration": 194,
    "start_time": "2022-02-20T18:06:47.624Z"
   },
   {
    "duration": 363,
    "start_time": "2022-02-20T18:06:47.820Z"
   },
   {
    "duration": 384,
    "start_time": "2022-02-20T18:06:48.185Z"
   },
   {
    "duration": 49,
    "start_time": "2022-02-20T18:06:48.571Z"
   },
   {
    "duration": 210,
    "start_time": "2022-02-20T18:06:48.622Z"
   },
   {
    "duration": 16,
    "start_time": "2022-02-20T18:06:48.834Z"
   },
   {
    "duration": 56,
    "start_time": "2022-02-20T18:06:48.852Z"
   },
   {
    "duration": 33,
    "start_time": "2022-02-20T18:06:48.910Z"
   },
   {
    "duration": 194,
    "start_time": "2022-02-20T18:06:48.945Z"
   },
   {
    "duration": 19,
    "start_time": "2022-02-20T18:06:49.141Z"
   },
   {
    "duration": 52,
    "start_time": "2022-02-20T18:06:49.162Z"
   },
   {
    "duration": 84,
    "start_time": "2022-02-20T18:06:49.216Z"
   },
   {
    "duration": 102,
    "start_time": "2022-02-20T18:06:49.302Z"
   },
   {
    "duration": 37,
    "start_time": "2022-02-20T18:06:49.406Z"
   },
   {
    "duration": 32,
    "start_time": "2022-02-20T18:06:49.445Z"
   },
   {
    "duration": 211,
    "start_time": "2022-02-20T18:06:49.481Z"
   },
   {
    "duration": 312,
    "start_time": "2022-02-20T18:06:49.694Z"
   },
   {
    "duration": 3,
    "start_time": "2022-02-20T18:06:50.008Z"
   },
   {
    "duration": 8062,
    "start_time": "2022-02-20T18:06:50.019Z"
   },
   {
    "duration": 7,
    "start_time": "2022-02-20T18:06:58.083Z"
   },
   {
    "duration": 36,
    "start_time": "2022-02-20T18:06:58.092Z"
   },
   {
    "duration": 353,
    "start_time": "2022-02-20T18:06:58.130Z"
   },
   {
    "duration": 42,
    "start_time": "2022-02-20T18:06:58.485Z"
   },
   {
    "duration": 18,
    "start_time": "2022-02-20T18:06:58.529Z"
   },
   {
    "duration": 3,
    "start_time": "2022-02-20T18:06:58.549Z"
   },
   {
    "duration": 8047,
    "start_time": "2022-02-20T18:06:58.554Z"
   },
   {
    "duration": 204,
    "start_time": "2022-02-20T18:07:06.604Z"
   },
   {
    "duration": 11,
    "start_time": "2022-02-20T18:07:06.810Z"
   },
   {
    "duration": 870,
    "start_time": "2022-02-20T18:07:06.823Z"
   },
   {
    "duration": 954,
    "start_time": "2022-02-20T18:07:07.695Z"
   },
   {
    "duration": 2,
    "start_time": "2022-02-20T18:07:08.651Z"
   },
   {
    "duration": 151,
    "start_time": "2022-02-20T18:07:08.655Z"
   },
   {
    "duration": 31420,
    "start_time": "2022-02-20T18:07:08.808Z"
   },
   {
    "duration": 4,
    "start_time": "2022-02-20T18:07:40.319Z"
   },
   {
    "duration": 600086,
    "start_time": "2022-02-20T18:07:40.325Z"
   },
   {
    "duration": 8788707,
    "start_time": "2022-02-20T18:17:40.413Z"
   },
   {
    "duration": 19,
    "start_time": "2022-02-20T20:44:09.122Z"
   },
   {
    "duration": 110,
    "start_time": "2022-02-20T20:44:09.143Z"
   },
   {
    "duration": 2791187,
    "start_time": "2022-02-20T20:44:09.255Z"
   },
   {
    "duration": 180,
    "start_time": "2022-02-20T21:30:40.444Z"
   },
   {
    "duration": 294,
    "start_time": "2022-02-21T04:53:09.869Z"
   },
   {
    "duration": 2512,
    "start_time": "2022-02-21T04:54:25.841Z"
   },
   {
    "duration": 2,
    "start_time": "2022-02-21T04:54:28.356Z"
   },
   {
    "duration": 1344,
    "start_time": "2022-02-21T04:54:28.360Z"
   },
   {
    "duration": 19,
    "start_time": "2022-02-21T04:54:29.708Z"
   },
   {
    "duration": 3,
    "start_time": "2022-02-21T04:54:29.729Z"
   },
   {
    "duration": 20,
    "start_time": "2022-02-21T04:54:29.734Z"
   },
   {
    "duration": 154,
    "start_time": "2022-02-21T04:54:29.756Z"
   },
   {
    "duration": 207,
    "start_time": "2022-02-21T04:54:29.913Z"
   },
   {
    "duration": 499,
    "start_time": "2022-02-21T04:54:30.122Z"
   },
   {
    "duration": 427,
    "start_time": "2022-02-21T04:54:30.623Z"
   },
   {
    "duration": 59,
    "start_time": "2022-02-21T04:54:31.052Z"
   },
   {
    "duration": 229,
    "start_time": "2022-02-21T04:54:31.114Z"
   },
   {
    "duration": 18,
    "start_time": "2022-02-21T04:54:31.346Z"
   },
   {
    "duration": 57,
    "start_time": "2022-02-21T04:54:31.366Z"
   },
   {
    "duration": 38,
    "start_time": "2022-02-21T04:54:31.426Z"
   },
   {
    "duration": 205,
    "start_time": "2022-02-21T04:54:31.467Z"
   },
   {
    "duration": 21,
    "start_time": "2022-02-21T04:54:31.675Z"
   },
   {
    "duration": 41,
    "start_time": "2022-02-21T04:54:31.698Z"
   },
   {
    "duration": 101,
    "start_time": "2022-02-21T04:54:31.741Z"
   },
   {
    "duration": 121,
    "start_time": "2022-02-21T04:54:31.844Z"
   },
   {
    "duration": 43,
    "start_time": "2022-02-21T04:54:31.966Z"
   },
   {
    "duration": 26,
    "start_time": "2022-02-21T04:54:32.011Z"
   },
   {
    "duration": 234,
    "start_time": "2022-02-21T04:54:32.042Z"
   },
   {
    "duration": 331,
    "start_time": "2022-02-21T04:54:32.278Z"
   },
   {
    "duration": 3,
    "start_time": "2022-02-21T04:54:32.611Z"
   },
   {
    "duration": 7979,
    "start_time": "2022-02-21T04:54:32.616Z"
   },
   {
    "duration": 17,
    "start_time": "2022-02-21T04:54:40.597Z"
   },
   {
    "duration": 25,
    "start_time": "2022-02-21T04:54:40.616Z"
   },
   {
    "duration": 392,
    "start_time": "2022-02-21T04:54:40.643Z"
   },
   {
    "duration": 42,
    "start_time": "2022-02-21T04:54:41.038Z"
   },
   {
    "duration": 40,
    "start_time": "2022-02-21T04:54:41.082Z"
   },
   {
    "duration": 4,
    "start_time": "2022-02-21T04:54:41.124Z"
   },
   {
    "duration": 7784,
    "start_time": "2022-02-21T04:54:41.130Z"
   },
   {
    "duration": 220,
    "start_time": "2022-02-21T04:54:48.916Z"
   },
   {
    "duration": 6,
    "start_time": "2022-02-21T04:54:49.138Z"
   },
   {
    "duration": 1027,
    "start_time": "2022-02-21T04:54:49.146Z"
   },
   {
    "duration": 972,
    "start_time": "2022-02-21T04:54:50.175Z"
   },
   {
    "duration": 3,
    "start_time": "2022-02-21T04:54:51.149Z"
   },
   {
    "duration": 175,
    "start_time": "2022-02-21T04:54:51.154Z"
   },
   {
    "duration": 25378,
    "start_time": "2022-02-21T04:54:51.331Z"
   },
   {
    "duration": 4,
    "start_time": "2022-02-21T04:55:16.713Z"
   },
   {
    "duration": 578320,
    "start_time": "2022-02-21T04:55:16.808Z"
   },
   {
    "duration": 2,
    "start_time": "2022-02-21T05:04:55.130Z"
   },
   {
    "duration": 50,
    "start_time": "2022-02-21T05:04:55.134Z"
   },
   {
    "duration": 91,
    "start_time": "2022-02-21T05:04:55.186Z"
   },
   {
    "duration": 2812043,
    "start_time": "2022-02-21T05:04:55.279Z"
   },
   {
    "duration": 142,
    "start_time": "2022-02-21T05:51:47.324Z"
   },
   {
    "duration": 567,
    "start_time": "2022-02-21T06:16:19.694Z"
   },
   {
    "duration": 342,
    "start_time": "2022-02-21T06:17:01.395Z"
   },
   {
    "duration": 19,
    "start_time": "2022-02-21T06:17:35.558Z"
   },
   {
    "duration": 12,
    "start_time": "2022-02-21T06:18:01.847Z"
   },
   {
    "duration": 374,
    "start_time": "2022-02-21T06:25:25.942Z"
   },
   {
    "duration": 429,
    "start_time": "2022-02-21T06:25:29.479Z"
   },
   {
    "duration": 538,
    "start_time": "2022-02-21T06:52:52.528Z"
   },
   {
    "duration": 333,
    "start_time": "2022-02-21T06:53:12.384Z"
   },
   {
    "duration": 473,
    "start_time": "2022-02-21T06:53:16.383Z"
   },
   {
    "duration": 505,
    "start_time": "2022-02-21T06:53:21.336Z"
   },
   {
    "duration": 289,
    "start_time": "2022-02-21T08:52:33.413Z"
   },
   {
    "duration": 559,
    "start_time": "2022-02-21T09:14:42.165Z"
   },
   {
    "duration": -58,
    "start_time": "2022-02-21T10:57:55.795Z"
   },
   {
    "duration": 1343,
    "start_time": "2022-02-21T10:59:24.348Z"
   },
   {
    "duration": 3,
    "start_time": "2022-02-21T10:59:25.693Z"
   },
   {
    "duration": 1428,
    "start_time": "2022-02-21T10:59:25.698Z"
   },
   {
    "duration": 18,
    "start_time": "2022-02-21T10:59:27.128Z"
   },
   {
    "duration": 3,
    "start_time": "2022-02-21T10:59:27.148Z"
   },
   {
    "duration": 24,
    "start_time": "2022-02-21T10:59:27.153Z"
   },
   {
    "duration": 152,
    "start_time": "2022-02-21T10:59:27.179Z"
   },
   {
    "duration": 210,
    "start_time": "2022-02-21T10:59:27.333Z"
   },
   {
    "duration": 409,
    "start_time": "2022-02-21T10:59:27.547Z"
   },
   {
    "duration": 419,
    "start_time": "2022-02-21T10:59:27.959Z"
   },
   {
    "duration": 55,
    "start_time": "2022-02-21T10:59:28.380Z"
   },
   {
    "duration": 241,
    "start_time": "2022-02-21T10:59:28.438Z"
   },
   {
    "duration": 27,
    "start_time": "2022-02-21T10:59:28.681Z"
   },
   {
    "duration": 40,
    "start_time": "2022-02-21T10:59:28.710Z"
   },
   {
    "duration": 56,
    "start_time": "2022-02-21T10:59:28.753Z"
   },
   {
    "duration": 202,
    "start_time": "2022-02-21T10:59:28.811Z"
   },
   {
    "duration": 22,
    "start_time": "2022-02-21T10:59:29.016Z"
   },
   {
    "duration": 43,
    "start_time": "2022-02-21T10:59:29.041Z"
   },
   {
    "duration": 105,
    "start_time": "2022-02-21T10:59:29.086Z"
   },
   {
    "duration": 129,
    "start_time": "2022-02-21T10:59:29.193Z"
   },
   {
    "duration": 40,
    "start_time": "2022-02-21T10:59:29.324Z"
   },
   {
    "duration": 43,
    "start_time": "2022-02-21T10:59:29.366Z"
   },
   {
    "duration": 220,
    "start_time": "2022-02-21T10:59:29.411Z"
   },
   {
    "duration": 343,
    "start_time": "2022-02-21T10:59:29.633Z"
   },
   {
    "duration": 3,
    "start_time": "2022-02-21T10:59:29.978Z"
   },
   {
    "duration": 8595,
    "start_time": "2022-02-21T10:59:29.983Z"
   },
   {
    "duration": 8,
    "start_time": "2022-02-21T10:59:38.582Z"
   },
   {
    "duration": 35,
    "start_time": "2022-02-21T10:59:38.592Z"
   },
   {
    "duration": 412,
    "start_time": "2022-02-21T10:59:38.629Z"
   },
   {
    "duration": 38,
    "start_time": "2022-02-21T10:59:39.043Z"
   },
   {
    "duration": 40,
    "start_time": "2022-02-21T10:59:39.083Z"
   },
   {
    "duration": 3,
    "start_time": "2022-02-21T10:59:39.125Z"
   },
   {
    "duration": 8506,
    "start_time": "2022-02-21T10:59:39.130Z"
   },
   {
    "duration": 229,
    "start_time": "2022-02-21T10:59:47.638Z"
   },
   {
    "duration": 5,
    "start_time": "2022-02-21T10:59:47.868Z"
   },
   {
    "duration": 1092,
    "start_time": "2022-02-21T10:59:47.875Z"
   },
   {
    "duration": 971,
    "start_time": "2022-02-21T10:59:48.969Z"
   },
   {
    "duration": 3,
    "start_time": "2022-02-21T10:59:49.942Z"
   },
   {
    "duration": 184,
    "start_time": "2022-02-21T10:59:49.947Z"
   },
   {
    "duration": 29173,
    "start_time": "2022-02-21T10:59:50.134Z"
   },
   {
    "duration": 98,
    "start_time": "2022-02-21T11:00:19.310Z"
   },
   {
    "duration": 9,
    "start_time": "2022-02-21T11:00:19.410Z"
   },
   {
    "duration": 11,
    "start_time": "2022-02-21T11:00:19.421Z"
   },
   {
    "duration": 27,
    "start_time": "2022-02-21T11:00:19.434Z"
   },
   {
    "duration": 116,
    "start_time": "2022-02-21T11:00:19.464Z"
   },
   {
    "duration": 2,
    "start_time": "2022-02-21T11:00:19.583Z"
   },
   {
    "duration": 8,
    "start_time": "2022-02-21T11:00:19.587Z"
   },
   {
    "duration": 382,
    "start_time": "2022-02-21T11:05:30.109Z"
   },
   {
    "duration": 335,
    "start_time": "2022-02-21T11:06:13.487Z"
   },
   {
    "duration": 20,
    "start_time": "2022-02-21T11:12:36.772Z"
   },
   {
    "duration": 26,
    "start_time": "2022-02-21T11:12:41.520Z"
   },
   {
    "duration": 106,
    "start_time": "2022-02-21T11:12:50.609Z"
   },
   {
    "duration": 364,
    "start_time": "2022-02-21T11:13:06.039Z"
   },
   {
    "duration": 139,
    "start_time": "2022-02-21T11:13:17.439Z"
   },
   {
    "duration": 131,
    "start_time": "2022-02-21T11:13:35.863Z"
   },
   {
    "duration": 150,
    "start_time": "2022-02-21T11:14:03.872Z"
   },
   {
    "duration": 15,
    "start_time": "2022-02-21T11:14:11.735Z"
   },
   {
    "duration": 153,
    "start_time": "2022-02-21T11:15:14.064Z"
   },
   {
    "duration": 24731,
    "start_time": "2022-02-21T11:15:24.888Z"
   },
   {
    "duration": 395,
    "start_time": "2022-02-21T11:20:07.912Z"
   },
   {
    "duration": 1431,
    "start_time": "2022-02-21T11:20:31.439Z"
   },
   {
    "duration": 3,
    "start_time": "2022-02-21T11:20:32.873Z"
   },
   {
    "duration": 955,
    "start_time": "2022-02-21T11:20:32.879Z"
   },
   {
    "duration": 20,
    "start_time": "2022-02-21T11:20:33.836Z"
   },
   {
    "duration": 6,
    "start_time": "2022-02-21T11:20:33.859Z"
   },
   {
    "duration": 41,
    "start_time": "2022-02-21T11:20:33.868Z"
   },
   {
    "duration": 242,
    "start_time": "2022-02-21T11:20:33.911Z"
   },
   {
    "duration": 302,
    "start_time": "2022-02-21T11:20:34.156Z"
   },
   {
    "duration": 626,
    "start_time": "2022-02-21T11:20:34.462Z"
   },
   {
    "duration": 580,
    "start_time": "2022-02-21T11:20:35.092Z"
   },
   {
    "duration": 53,
    "start_time": "2022-02-21T11:20:35.673Z"
   },
   {
    "duration": 247,
    "start_time": "2022-02-21T11:20:35.728Z"
   },
   {
    "duration": 30,
    "start_time": "2022-02-21T11:20:35.977Z"
   },
   {
    "duration": 47,
    "start_time": "2022-02-21T11:20:36.010Z"
   },
   {
    "duration": 61,
    "start_time": "2022-02-21T11:20:36.060Z"
   },
   {
    "duration": 216,
    "start_time": "2022-02-21T11:20:36.124Z"
   },
   {
    "duration": 22,
    "start_time": "2022-02-21T11:20:36.342Z"
   },
   {
    "duration": 47,
    "start_time": "2022-02-21T11:20:36.366Z"
   },
   {
    "duration": 101,
    "start_time": "2022-02-21T11:20:36.415Z"
   },
   {
    "duration": 119,
    "start_time": "2022-02-21T11:20:36.518Z"
   },
   {
    "duration": 37,
    "start_time": "2022-02-21T11:20:36.639Z"
   },
   {
    "duration": 56,
    "start_time": "2022-02-21T11:20:36.679Z"
   },
   {
    "duration": 235,
    "start_time": "2022-02-21T11:20:36.738Z"
   },
   {
    "duration": 323,
    "start_time": "2022-02-21T11:20:36.976Z"
   },
   {
    "duration": 4,
    "start_time": "2022-02-21T11:20:37.307Z"
   },
   {
    "duration": 8833,
    "start_time": "2022-02-21T11:20:37.314Z"
   },
   {
    "duration": 12,
    "start_time": "2022-02-21T11:20:46.153Z"
   },
   {
    "duration": 48,
    "start_time": "2022-02-21T11:20:46.169Z"
   },
   {
    "duration": 707,
    "start_time": "2022-02-21T11:20:46.220Z"
   },
   {
    "duration": 48,
    "start_time": "2022-02-21T11:20:46.930Z"
   },
   {
    "duration": 40,
    "start_time": "2022-02-21T11:20:46.980Z"
   },
   {
    "duration": 5,
    "start_time": "2022-02-21T11:20:47.023Z"
   },
   {
    "duration": 8479,
    "start_time": "2022-02-21T11:20:47.030Z"
   },
   {
    "duration": 225,
    "start_time": "2022-02-21T11:20:55.511Z"
   },
   {
    "duration": 6,
    "start_time": "2022-02-21T11:20:55.739Z"
   },
   {
    "duration": 1084,
    "start_time": "2022-02-21T11:20:55.747Z"
   },
   {
    "duration": 993,
    "start_time": "2022-02-21T11:20:56.833Z"
   },
   {
    "duration": 3,
    "start_time": "2022-02-21T11:20:57.828Z"
   },
   {
    "duration": 184,
    "start_time": "2022-02-21T11:20:57.833Z"
   },
   {
    "duration": 29401,
    "start_time": "2022-02-21T11:20:58.020Z"
   },
   {
    "duration": 5,
    "start_time": "2022-02-21T11:21:27.511Z"
   },
   {
    "duration": 21,
    "start_time": "2022-02-21T11:21:27.518Z"
   },
   {
    "duration": 21,
    "start_time": "2022-02-21T11:21:27.541Z"
   },
   {
    "duration": 37,
    "start_time": "2022-02-21T11:21:27.565Z"
   },
   {
    "duration": 122,
    "start_time": "2022-02-21T11:21:27.605Z"
   },
   {
    "duration": 5,
    "start_time": "2022-02-21T11:21:27.729Z"
   },
   {
    "duration": 193,
    "start_time": "2022-02-21T11:21:27.736Z"
   },
   {
    "duration": 207489,
    "start_time": "2022-02-21T11:21:27.931Z"
   },
   {
    "duration": 894,
    "start_time": "2022-02-21T11:24:55.422Z"
   },
   {
    "duration": 74658,
    "start_time": "2022-02-21T11:35:17.064Z"
   },
   {
    "duration": 772,
    "start_time": "2022-02-21T11:38:02.967Z"
   },
   {
    "duration": 112,
    "start_time": "2022-02-21T11:50:09.534Z"
   },
   {
    "duration": 1874180,
    "start_time": "2022-02-21T11:50:18.856Z"
   },
   {
    "duration": 1314,
    "start_time": "2022-02-21T12:40:04.602Z"
   },
   {
    "duration": 3,
    "start_time": "2022-02-21T12:40:05.919Z"
   },
   {
    "duration": 1012,
    "start_time": "2022-02-21T12:40:05.927Z"
   },
   {
    "duration": 21,
    "start_time": "2022-02-21T12:40:06.941Z"
   },
   {
    "duration": 7,
    "start_time": "2022-02-21T12:40:06.964Z"
   },
   {
    "duration": 40,
    "start_time": "2022-02-21T12:40:06.973Z"
   },
   {
    "duration": 151,
    "start_time": "2022-02-21T12:40:07.016Z"
   },
   {
    "duration": 207,
    "start_time": "2022-02-21T12:40:07.170Z"
   },
   {
    "duration": 434,
    "start_time": "2022-02-21T12:40:07.379Z"
   },
   {
    "duration": 437,
    "start_time": "2022-02-21T12:40:07.815Z"
   },
   {
    "duration": 53,
    "start_time": "2022-02-21T12:40:08.254Z"
   },
   {
    "duration": 261,
    "start_time": "2022-02-21T12:40:08.310Z"
   },
   {
    "duration": 18,
    "start_time": "2022-02-21T12:40:08.573Z"
   },
   {
    "duration": 49,
    "start_time": "2022-02-21T12:40:08.593Z"
   },
   {
    "duration": 39,
    "start_time": "2022-02-21T12:40:08.644Z"
   },
   {
    "duration": 316,
    "start_time": "2022-02-21T12:40:08.685Z"
   },
   {
    "duration": 32,
    "start_time": "2022-02-21T12:40:09.007Z"
   },
   {
    "duration": 37,
    "start_time": "2022-02-21T12:40:09.042Z"
   },
   {
    "duration": 114,
    "start_time": "2022-02-21T12:40:09.081Z"
   },
   {
    "duration": 130,
    "start_time": "2022-02-21T12:40:09.197Z"
   },
   {
    "duration": 38,
    "start_time": "2022-02-21T12:40:09.329Z"
   },
   {
    "duration": 56,
    "start_time": "2022-02-21T12:40:09.373Z"
   },
   {
    "duration": 226,
    "start_time": "2022-02-21T12:40:09.432Z"
   },
   {
    "duration": 351,
    "start_time": "2022-02-21T12:40:09.660Z"
   },
   {
    "duration": 3,
    "start_time": "2022-02-21T12:40:10.014Z"
   },
   {
    "duration": 9674,
    "start_time": "2022-02-21T12:40:10.020Z"
   },
   {
    "duration": 13,
    "start_time": "2022-02-21T12:40:19.696Z"
   },
   {
    "duration": 26,
    "start_time": "2022-02-21T12:40:19.711Z"
   },
   {
    "duration": 443,
    "start_time": "2022-02-21T12:40:19.739Z"
   },
   {
    "duration": 53,
    "start_time": "2022-02-21T12:40:20.184Z"
   },
   {
    "duration": 22,
    "start_time": "2022-02-21T12:40:20.240Z"
   },
   {
    "duration": 4,
    "start_time": "2022-02-21T12:40:20.264Z"
   },
   {
    "duration": 9824,
    "start_time": "2022-02-21T12:40:20.270Z"
   },
   {
    "duration": 253,
    "start_time": "2022-02-21T12:40:30.096Z"
   },
   {
    "duration": 7,
    "start_time": "2022-02-21T12:40:30.351Z"
   },
   {
    "duration": 1169,
    "start_time": "2022-02-21T12:40:30.360Z"
   },
   {
    "duration": 1112,
    "start_time": "2022-02-21T12:40:31.532Z"
   },
   {
    "duration": 4,
    "start_time": "2022-02-21T12:40:32.647Z"
   },
   {
    "duration": 188,
    "start_time": "2022-02-21T12:40:32.653Z"
   },
   {
    "duration": 30267,
    "start_time": "2022-02-21T12:40:32.843Z"
   },
   {
    "duration": 93,
    "start_time": "2022-02-21T12:41:03.113Z"
   },
   {
    "duration": 668684,
    "start_time": "2022-02-21T12:41:03.209Z"
   },
   {
    "duration": 8812104,
    "start_time": "2022-02-21T12:52:11.896Z"
   },
   {
    "duration": 22,
    "start_time": "2022-02-21T15:19:04.007Z"
   },
   {
    "duration": 112,
    "start_time": "2022-02-21T15:19:04.032Z"
   },
   {
    "duration": 1123,
    "start_time": "2022-02-21T15:56:16.686Z"
   },
   {
    "duration": 2,
    "start_time": "2022-02-21T15:56:17.811Z"
   },
   {
    "duration": 762,
    "start_time": "2022-02-21T15:56:17.819Z"
   },
   {
    "duration": 16,
    "start_time": "2022-02-21T15:56:18.584Z"
   },
   {
    "duration": 3,
    "start_time": "2022-02-21T15:56:18.602Z"
   },
   {
    "duration": 13,
    "start_time": "2022-02-21T15:56:18.618Z"
   },
   {
    "duration": 133,
    "start_time": "2022-02-21T15:56:18.633Z"
   },
   {
    "duration": 183,
    "start_time": "2022-02-21T15:56:18.768Z"
   },
   {
    "duration": 382,
    "start_time": "2022-02-21T15:56:18.953Z"
   },
   {
    "duration": 392,
    "start_time": "2022-02-21T15:56:19.337Z"
   },
   {
    "duration": 41,
    "start_time": "2022-02-21T15:56:19.730Z"
   },
   {
    "duration": 227,
    "start_time": "2022-02-21T15:56:19.773Z"
   },
   {
    "duration": 20,
    "start_time": "2022-02-21T15:56:20.002Z"
   },
   {
    "duration": 36,
    "start_time": "2022-02-21T15:56:20.024Z"
   },
   {
    "duration": 34,
    "start_time": "2022-02-21T15:56:20.062Z"
   },
   {
    "duration": 184,
    "start_time": "2022-02-21T15:56:20.098Z"
   },
   {
    "duration": 20,
    "start_time": "2022-02-21T15:56:20.284Z"
   },
   {
    "duration": 41,
    "start_time": "2022-02-21T15:56:20.305Z"
   },
   {
    "duration": 88,
    "start_time": "2022-02-21T15:56:20.348Z"
   },
   {
    "duration": 104,
    "start_time": "2022-02-21T15:56:20.438Z"
   },
   {
    "duration": 39,
    "start_time": "2022-02-21T15:56:20.544Z"
   },
   {
    "duration": 36,
    "start_time": "2022-02-21T15:56:20.585Z"
   },
   {
    "duration": 212,
    "start_time": "2022-02-21T15:56:20.626Z"
   },
   {
    "duration": 298,
    "start_time": "2022-02-21T15:56:20.840Z"
   },
   {
    "duration": 4,
    "start_time": "2022-02-21T15:56:21.140Z"
   },
   {
    "duration": 7166,
    "start_time": "2022-02-21T15:56:21.146Z"
   },
   {
    "duration": 9,
    "start_time": "2022-02-21T15:56:28.315Z"
   },
   {
    "duration": 22,
    "start_time": "2022-02-21T15:56:28.326Z"
   },
   {
    "duration": 384,
    "start_time": "2022-02-21T15:56:28.350Z"
   },
   {
    "duration": 32,
    "start_time": "2022-02-21T15:56:28.736Z"
   },
   {
    "duration": 17,
    "start_time": "2022-02-21T15:56:28.769Z"
   },
   {
    "duration": 3,
    "start_time": "2022-02-21T15:56:28.788Z"
   },
   {
    "duration": 7231,
    "start_time": "2022-02-21T15:56:28.792Z"
   },
   {
    "duration": 208,
    "start_time": "2022-02-21T15:56:36.025Z"
   },
   {
    "duration": 4,
    "start_time": "2022-02-21T15:56:36.235Z"
   },
   {
    "duration": 684,
    "start_time": "2022-02-21T15:56:36.241Z"
   },
   {
    "duration": 1046,
    "start_time": "2022-02-21T15:56:36.927Z"
   },
   {
    "duration": 2,
    "start_time": "2022-02-21T15:56:37.974Z"
   },
   {
    "duration": 144,
    "start_time": "2022-02-21T15:56:37.978Z"
   },
   {
    "duration": 25201,
    "start_time": "2022-02-21T15:56:38.123Z"
   },
   {
    "duration": 93,
    "start_time": "2022-02-21T15:57:03.326Z"
   },
   {
    "duration": 524395,
    "start_time": "2022-02-21T15:57:03.421Z"
   },
   {
    "duration": 2,
    "start_time": "2022-02-21T16:05:47.817Z"
   },
   {
    "duration": 34,
    "start_time": "2022-02-21T16:05:47.821Z"
   },
   {
    "duration": 88,
    "start_time": "2022-02-21T16:05:47.856Z"
   },
   {
    "duration": 2610888,
    "start_time": "2022-02-21T16:05:47.946Z"
   },
   {
    "duration": 178,
    "start_time": "2022-02-21T16:49:18.836Z"
   },
   {
    "duration": 834342,
    "start_time": "2022-02-21T16:49:19.016Z"
   },
   {
    "duration": 293,
    "start_time": "2022-02-21T18:56:32.083Z"
   },
   {
    "duration": 2465,
    "start_time": "2022-02-22T05:01:07.358Z"
   },
   {
    "duration": 3,
    "start_time": "2022-02-22T05:01:09.826Z"
   },
   {
    "duration": 3075,
    "start_time": "2022-02-22T05:01:09.832Z"
   },
   {
    "duration": 25,
    "start_time": "2022-02-22T05:01:12.910Z"
   },
   {
    "duration": 6,
    "start_time": "2022-02-22T05:01:12.937Z"
   },
   {
    "duration": 22,
    "start_time": "2022-02-22T05:01:12.945Z"
   },
   {
    "duration": 170,
    "start_time": "2022-02-22T05:01:12.993Z"
   },
   {
    "duration": 260,
    "start_time": "2022-02-22T05:01:13.166Z"
   },
   {
    "duration": 586,
    "start_time": "2022-02-22T05:01:13.430Z"
   },
   {
    "duration": 604,
    "start_time": "2022-02-22T05:01:14.019Z"
   },
   {
    "duration": 69,
    "start_time": "2022-02-22T05:01:14.625Z"
   },
   {
    "duration": 339,
    "start_time": "2022-02-22T05:01:14.696Z"
   },
   {
    "duration": 23,
    "start_time": "2022-02-22T05:01:15.038Z"
   },
   {
    "duration": 80,
    "start_time": "2022-02-22T05:01:15.064Z"
   },
   {
    "duration": 159,
    "start_time": "2022-02-22T05:01:15.146Z"
   },
   {
    "duration": 47,
    "start_time": "2022-02-22T05:01:15.308Z"
   },
   {
    "duration": 43,
    "start_time": "2022-02-22T05:01:15.358Z"
   },
   {
    "duration": 318,
    "start_time": "2022-02-22T05:01:15.404Z"
   },
   {
    "duration": 456,
    "start_time": "2022-02-22T05:01:15.724Z"
   },
   {
    "duration": 13,
    "start_time": "2022-02-22T05:01:16.183Z"
   },
   {
    "duration": 13135,
    "start_time": "2022-02-22T05:01:16.199Z"
   },
   {
    "duration": 13,
    "start_time": "2022-02-22T05:01:29.337Z"
   },
   {
    "duration": 69,
    "start_time": "2022-02-22T05:01:29.353Z"
   },
   {
    "duration": 576,
    "start_time": "2022-02-22T05:01:29.425Z"
   },
   {
    "duration": 46,
    "start_time": "2022-02-22T05:01:30.004Z"
   },
   {
    "duration": 54,
    "start_time": "2022-02-22T05:01:30.052Z"
   },
   {
    "duration": 4,
    "start_time": "2022-02-22T05:01:30.111Z"
   },
   {
    "duration": 12849,
    "start_time": "2022-02-22T05:01:30.118Z"
   },
   {
    "duration": 336,
    "start_time": "2022-02-22T05:01:42.970Z"
   },
   {
    "duration": 7,
    "start_time": "2022-02-22T05:01:43.309Z"
   },
   {
    "duration": 1478,
    "start_time": "2022-02-22T05:01:43.319Z"
   },
   {
    "duration": 1387,
    "start_time": "2022-02-22T05:01:44.799Z"
   },
   {
    "duration": 6,
    "start_time": "2022-02-22T05:01:46.188Z"
   },
   {
    "duration": 219,
    "start_time": "2022-02-22T05:01:46.196Z"
   },
   {
    "duration": 33481,
    "start_time": "2022-02-22T05:01:46.418Z"
   },
   {
    "duration": 93,
    "start_time": "2022-02-22T05:02:19.902Z"
   },
   {
    "duration": 651818,
    "start_time": "2022-02-22T05:02:19.998Z"
   },
   {
    "duration": 1603,
    "start_time": "2022-02-22T05:33:14.216Z"
   },
   {
    "duration": 4,
    "start_time": "2022-02-22T05:33:15.823Z"
   },
   {
    "duration": 1113,
    "start_time": "2022-02-22T05:33:15.830Z"
   },
   {
    "duration": 25,
    "start_time": "2022-02-22T05:33:16.946Z"
   },
   {
    "duration": 20,
    "start_time": "2022-02-22T05:33:16.974Z"
   },
   {
    "duration": 21,
    "start_time": "2022-02-22T05:33:16.996Z"
   },
   {
    "duration": 184,
    "start_time": "2022-02-22T05:33:17.019Z"
   },
   {
    "duration": 265,
    "start_time": "2022-02-22T05:33:17.207Z"
   },
   {
    "duration": 572,
    "start_time": "2022-02-22T05:33:17.477Z"
   },
   {
    "duration": 603,
    "start_time": "2022-02-22T05:33:18.051Z"
   },
   {
    "duration": 74,
    "start_time": "2022-02-22T05:33:18.656Z"
   },
   {
    "duration": 335,
    "start_time": "2022-02-22T05:33:18.733Z"
   },
   {
    "duration": 29,
    "start_time": "2022-02-22T05:33:19.071Z"
   },
   {
    "duration": 59,
    "start_time": "2022-02-22T05:33:19.103Z"
   },
   {
    "duration": 170,
    "start_time": "2022-02-22T05:33:19.164Z"
   },
   {
    "duration": 56,
    "start_time": "2022-02-22T05:33:19.337Z"
   },
   {
    "duration": 30,
    "start_time": "2022-02-22T05:33:19.396Z"
   },
   {
    "duration": 339,
    "start_time": "2022-02-22T05:33:19.429Z"
   },
   {
    "duration": 481,
    "start_time": "2022-02-22T05:33:19.771Z"
   },
   {
    "duration": 5,
    "start_time": "2022-02-22T05:33:20.255Z"
   },
   {
    "duration": 13423,
    "start_time": "2022-02-22T05:33:20.266Z"
   },
   {
    "duration": 11,
    "start_time": "2022-02-22T05:33:33.694Z"
   },
   {
    "duration": 44,
    "start_time": "2022-02-22T05:33:33.712Z"
   },
   {
    "duration": 601,
    "start_time": "2022-02-22T05:33:33.760Z"
   },
   {
    "duration": 63,
    "start_time": "2022-02-22T05:33:34.363Z"
   },
   {
    "duration": 22,
    "start_time": "2022-02-22T05:33:34.428Z"
   },
   {
    "duration": 5,
    "start_time": "2022-02-22T05:33:34.452Z"
   },
   {
    "duration": 12817,
    "start_time": "2022-02-22T05:33:34.459Z"
   },
   {
    "duration": 319,
    "start_time": "2022-02-22T05:33:47.278Z"
   },
   {
    "duration": 5,
    "start_time": "2022-02-22T05:33:47.599Z"
   },
   {
    "duration": 1349,
    "start_time": "2022-02-22T05:33:47.606Z"
   },
   {
    "duration": 1345,
    "start_time": "2022-02-22T05:33:48.957Z"
   },
   {
    "duration": 4,
    "start_time": "2022-02-22T05:33:50.304Z"
   },
   {
    "duration": 230,
    "start_time": "2022-02-22T05:33:50.310Z"
   },
   {
    "duration": 31159,
    "start_time": "2022-02-22T05:33:50.543Z"
   },
   {
    "duration": 6,
    "start_time": "2022-02-22T05:34:21.796Z"
   },
   {
    "duration": 647428,
    "start_time": "2022-02-22T05:34:21.806Z"
   },
   {
    "duration": 1498,
    "start_time": "2022-02-22T13:03:18.197Z"
   },
   {
    "duration": 5,
    "start_time": "2022-02-22T13:03:19.698Z"
   },
   {
    "duration": 3295,
    "start_time": "2022-02-22T13:03:19.707Z"
   },
   {
    "duration": 26,
    "start_time": "2022-02-22T13:03:23.005Z"
   },
   {
    "duration": 11,
    "start_time": "2022-02-22T13:03:23.034Z"
   },
   {
    "duration": 48,
    "start_time": "2022-02-22T13:03:23.047Z"
   },
   {
    "duration": 177,
    "start_time": "2022-02-22T13:03:23.098Z"
   },
   {
    "duration": 268,
    "start_time": "2022-02-22T13:03:23.278Z"
   },
   {
    "duration": 646,
    "start_time": "2022-02-22T13:03:23.550Z"
   },
   {
    "duration": 640,
    "start_time": "2022-02-22T13:03:24.199Z"
   },
   {
    "duration": 81,
    "start_time": "2022-02-22T13:03:24.842Z"
   },
   {
    "duration": 357,
    "start_time": "2022-02-22T13:03:24.925Z"
   },
   {
    "duration": 26,
    "start_time": "2022-02-22T13:03:25.284Z"
   },
   {
    "duration": 85,
    "start_time": "2022-02-22T13:03:25.313Z"
   },
   {
    "duration": 162,
    "start_time": "2022-02-22T13:03:25.400Z"
   },
   {
    "duration": 73,
    "start_time": "2022-02-22T13:03:25.565Z"
   },
   {
    "duration": 29,
    "start_time": "2022-02-22T13:03:25.641Z"
   },
   {
    "duration": 337,
    "start_time": "2022-02-22T13:03:25.696Z"
   },
   {
    "duration": 454,
    "start_time": "2022-02-22T13:03:26.035Z"
   },
   {
    "duration": 4,
    "start_time": "2022-02-22T13:03:26.494Z"
   },
   {
    "duration": 13762,
    "start_time": "2022-02-22T13:03:26.500Z"
   },
   {
    "duration": 11,
    "start_time": "2022-02-22T13:03:40.264Z"
   },
   {
    "duration": 50,
    "start_time": "2022-02-22T13:03:40.277Z"
   },
   {
    "duration": 638,
    "start_time": "2022-02-22T13:03:40.330Z"
   },
   {
    "duration": 56,
    "start_time": "2022-02-22T13:03:40.971Z"
   },
   {
    "duration": 22,
    "start_time": "2022-02-22T13:03:41.030Z"
   },
   {
    "duration": 5,
    "start_time": "2022-02-22T13:03:41.057Z"
   },
   {
    "duration": 12875,
    "start_time": "2022-02-22T13:03:41.095Z"
   },
   {
    "duration": 348,
    "start_time": "2022-02-22T13:03:53.972Z"
   },
   {
    "duration": 5,
    "start_time": "2022-02-22T13:03:54.322Z"
   },
   {
    "duration": 1511,
    "start_time": "2022-02-22T13:03:54.330Z"
   },
   {
    "duration": 1374,
    "start_time": "2022-02-22T13:03:55.844Z"
   },
   {
    "duration": 4,
    "start_time": "2022-02-22T13:03:57.221Z"
   },
   {
    "duration": 223,
    "start_time": "2022-02-22T13:03:57.227Z"
   },
   {
    "duration": 32945,
    "start_time": "2022-02-22T13:03:57.452Z"
   },
   {
    "duration": 93,
    "start_time": "2022-02-22T13:04:30.401Z"
   },
   {
    "duration": 663622,
    "start_time": "2022-02-22T13:04:30.497Z"
   },
   {
    "duration": 1570,
    "start_time": "2022-02-22T15:03:56.737Z"
   },
   {
    "duration": 4,
    "start_time": "2022-02-22T15:03:58.309Z"
   },
   {
    "duration": 1266,
    "start_time": "2022-02-22T15:03:58.316Z"
   },
   {
    "duration": 29,
    "start_time": "2022-02-22T15:03:59.585Z"
   },
   {
    "duration": 4,
    "start_time": "2022-02-22T15:03:59.616Z"
   },
   {
    "duration": 31,
    "start_time": "2022-02-22T15:03:59.623Z"
   },
   {
    "duration": 227,
    "start_time": "2022-02-22T15:03:59.658Z"
   },
   {
    "duration": 290,
    "start_time": "2022-02-22T15:03:59.890Z"
   },
   {
    "duration": 652,
    "start_time": "2022-02-22T15:04:00.183Z"
   },
   {
    "duration": 858,
    "start_time": "2022-02-22T15:04:00.838Z"
   },
   {
    "duration": 65,
    "start_time": "2022-02-22T15:04:01.699Z"
   },
   {
    "duration": 371,
    "start_time": "2022-02-22T15:04:01.768Z"
   },
   {
    "duration": 22,
    "start_time": "2022-02-22T15:04:02.142Z"
   },
   {
    "duration": 82,
    "start_time": "2022-02-22T15:04:02.166Z"
   },
   {
    "duration": 163,
    "start_time": "2022-02-22T15:04:02.251Z"
   },
   {
    "duration": 51,
    "start_time": "2022-02-22T15:04:02.417Z"
   },
   {
    "duration": 61,
    "start_time": "2022-02-22T15:04:02.471Z"
   },
   {
    "duration": 445,
    "start_time": "2022-02-22T15:04:02.535Z"
   },
   {
    "duration": 454,
    "start_time": "2022-02-22T15:04:02.993Z"
   },
   {
    "duration": 4,
    "start_time": "2022-02-22T15:04:03.450Z"
   },
   {
    "duration": 18459,
    "start_time": "2022-02-22T15:04:03.457Z"
   },
   {
    "duration": 15,
    "start_time": "2022-02-22T15:04:21.919Z"
   },
   {
    "duration": 66,
    "start_time": "2022-02-22T15:04:21.939Z"
   },
   {
    "duration": 772,
    "start_time": "2022-02-22T15:04:22.009Z"
   },
   {
    "duration": 47,
    "start_time": "2022-02-22T15:04:22.784Z"
   },
   {
    "duration": 20,
    "start_time": "2022-02-22T15:04:22.834Z"
   },
   {
    "duration": 39,
    "start_time": "2022-02-22T15:04:22.856Z"
   },
   {
    "duration": 13114,
    "start_time": "2022-02-22T15:04:22.898Z"
   },
   {
    "duration": 340,
    "start_time": "2022-02-22T15:04:36.015Z"
   },
   {
    "duration": 7,
    "start_time": "2022-02-22T15:04:36.357Z"
   },
   {
    "duration": 1366,
    "start_time": "2022-02-22T15:04:36.366Z"
   },
   {
    "duration": 1405,
    "start_time": "2022-02-22T15:04:37.735Z"
   },
   {
    "duration": 5,
    "start_time": "2022-02-22T15:04:39.143Z"
   },
   {
    "duration": 238,
    "start_time": "2022-02-22T15:04:39.151Z"
   },
   {
    "duration": 36603,
    "start_time": "2022-02-22T15:04:39.392Z"
   },
   {
    "duration": 3,
    "start_time": "2022-02-22T15:05:15.998Z"
   },
   {
    "duration": 673613,
    "start_time": "2022-02-22T15:05:16.004Z"
   },
   {
    "duration": 29365715,
    "start_time": "2022-02-22T15:16:29.620Z"
   },
   {
    "duration": 218,
    "start_time": "2022-02-22T23:25:55.338Z"
   },
   {
    "duration": 1634727,
    "start_time": "2022-02-22T23:25:55.559Z"
   },
   {
    "duration": 241,
    "start_time": "2022-02-22T23:53:10.288Z"
   },
   {
    "duration": 2154564,
    "start_time": "2022-02-22T23:53:10.532Z"
   },
   {
    "duration": 264,
    "start_time": "2022-02-23T00:29:05.099Z"
   },
   {
    "duration": 55,
    "start_time": "2022-02-23T00:29:05.311Z"
   },
   {
    "duration": 9735,
    "start_time": "2022-02-23T06:27:48.633Z"
   },
   {
    "duration": 211,
    "start_time": "2022-02-23T07:16:47.502Z"
   },
   {
    "duration": 2499,
    "start_time": "2022-02-23T07:17:10.971Z"
   },
   {
    "duration": 4,
    "start_time": "2022-02-23T07:17:13.472Z"
   },
   {
    "duration": 3234,
    "start_time": "2022-02-23T07:17:13.479Z"
   },
   {
    "duration": 26,
    "start_time": "2022-02-23T07:17:16.716Z"
   },
   {
    "duration": 3,
    "start_time": "2022-02-23T07:17:16.745Z"
   },
   {
    "duration": 50,
    "start_time": "2022-02-23T07:17:16.751Z"
   },
   {
    "duration": 169,
    "start_time": "2022-02-23T07:17:16.804Z"
   },
   {
    "duration": 264,
    "start_time": "2022-02-23T07:17:16.977Z"
   },
   {
    "duration": 633,
    "start_time": "2022-02-23T07:17:17.244Z"
   },
   {
    "duration": 1000,
    "start_time": "2022-02-23T07:17:17.880Z"
   },
   {
    "duration": 365,
    "start_time": "2022-02-23T07:17:18.518Z"
   },
   {
    "duration": 364,
    "start_time": "2022-02-23T07:17:18.521Z"
   },
   {
    "duration": 362,
    "start_time": "2022-02-23T07:17:18.524Z"
   },
   {
    "duration": 357,
    "start_time": "2022-02-23T07:17:18.530Z"
   },
   {
    "duration": 356,
    "start_time": "2022-02-23T07:17:18.533Z"
   },
   {
    "duration": 355,
    "start_time": "2022-02-23T07:17:18.535Z"
   },
   {
    "duration": 353,
    "start_time": "2022-02-23T07:17:18.538Z"
   },
   {
    "duration": 353,
    "start_time": "2022-02-23T07:17:18.540Z"
   },
   {
    "duration": 351,
    "start_time": "2022-02-23T07:17:18.543Z"
   },
   {
    "duration": 350,
    "start_time": "2022-02-23T07:17:18.545Z"
   },
   {
    "duration": 348,
    "start_time": "2022-02-23T07:17:18.548Z"
   },
   {
    "duration": 348,
    "start_time": "2022-02-23T07:17:18.550Z"
   },
   {
    "duration": 346,
    "start_time": "2022-02-23T07:17:18.553Z"
   },
   {
    "duration": 345,
    "start_time": "2022-02-23T07:17:18.555Z"
   },
   {
    "duration": 344,
    "start_time": "2022-02-23T07:17:18.557Z"
   },
   {
    "duration": 342,
    "start_time": "2022-02-23T07:17:18.560Z"
   },
   {
    "duration": 341,
    "start_time": "2022-02-23T07:17:18.562Z"
   },
   {
    "duration": 340,
    "start_time": "2022-02-23T07:17:18.565Z"
   },
   {
    "duration": 340,
    "start_time": "2022-02-23T07:17:18.567Z"
   },
   {
    "duration": 338,
    "start_time": "2022-02-23T07:17:18.570Z"
   },
   {
    "duration": 332,
    "start_time": "2022-02-23T07:17:18.577Z"
   },
   {
    "duration": 331,
    "start_time": "2022-02-23T07:17:18.580Z"
   },
   {
    "duration": 330,
    "start_time": "2022-02-23T07:17:18.582Z"
   },
   {
    "duration": 328,
    "start_time": "2022-02-23T07:17:18.585Z"
   },
   {
    "duration": 328,
    "start_time": "2022-02-23T07:17:18.587Z"
   },
   {
    "duration": 326,
    "start_time": "2022-02-23T07:17:18.590Z"
   },
   {
    "duration": 326,
    "start_time": "2022-02-23T07:17:18.592Z"
   },
   {
    "duration": 325,
    "start_time": "2022-02-23T07:17:18.594Z"
   },
   {
    "duration": 323,
    "start_time": "2022-02-23T07:17:18.597Z"
   },
   {
    "duration": 323,
    "start_time": "2022-02-23T07:17:18.599Z"
   },
   {
    "duration": 322,
    "start_time": "2022-02-23T07:17:18.601Z"
   },
   {
    "duration": 320,
    "start_time": "2022-02-23T07:17:18.604Z"
   },
   {
    "duration": 319,
    "start_time": "2022-02-23T07:17:18.607Z"
   },
   {
    "duration": 317,
    "start_time": "2022-02-23T07:17:18.610Z"
   },
   {
    "duration": 1563,
    "start_time": "2022-02-23T07:17:37.648Z"
   },
   {
    "duration": 4,
    "start_time": "2022-02-23T07:17:39.214Z"
   },
   {
    "duration": 1142,
    "start_time": "2022-02-23T07:17:39.224Z"
   },
   {
    "duration": 37,
    "start_time": "2022-02-23T07:17:40.369Z"
   },
   {
    "duration": 7,
    "start_time": "2022-02-23T07:17:40.409Z"
   },
   {
    "duration": 21,
    "start_time": "2022-02-23T07:17:40.419Z"
   },
   {
    "duration": 195,
    "start_time": "2022-02-23T07:17:40.444Z"
   },
   {
    "duration": 276,
    "start_time": "2022-02-23T07:17:40.643Z"
   },
   {
    "duration": 648,
    "start_time": "2022-02-23T07:17:40.921Z"
   },
   {
    "duration": 661,
    "start_time": "2022-02-23T07:17:41.572Z"
   },
   {
    "duration": 75,
    "start_time": "2022-02-23T07:17:42.235Z"
   },
   {
    "duration": 340,
    "start_time": "2022-02-23T07:17:42.313Z"
   },
   {
    "duration": 21,
    "start_time": "2022-02-23T07:17:42.655Z"
   },
   {
    "duration": 58,
    "start_time": "2022-02-23T07:17:42.694Z"
   },
   {
    "duration": 167,
    "start_time": "2022-02-23T07:17:42.754Z"
   },
   {
    "duration": 44,
    "start_time": "2022-02-23T07:17:42.924Z"
   },
   {
    "duration": 46,
    "start_time": "2022-02-23T07:17:42.970Z"
   },
   {
    "duration": 327,
    "start_time": "2022-02-23T07:17:43.018Z"
   },
   {
    "duration": 466,
    "start_time": "2022-02-23T07:17:43.348Z"
   },
   {
    "duration": 4,
    "start_time": "2022-02-23T07:17:43.817Z"
   },
   {
    "duration": 13002,
    "start_time": "2022-02-23T07:17:43.823Z"
   },
   {
    "duration": 11,
    "start_time": "2022-02-23T07:17:56.830Z"
   },
   {
    "duration": 67,
    "start_time": "2022-02-23T07:17:56.845Z"
   },
   {
    "duration": 646,
    "start_time": "2022-02-23T07:17:56.915Z"
   },
   {
    "duration": 58,
    "start_time": "2022-02-23T07:17:57.563Z"
   },
   {
    "duration": 21,
    "start_time": "2022-02-23T07:17:57.623Z"
   },
   {
    "duration": 4,
    "start_time": "2022-02-23T07:17:57.647Z"
   },
   {
    "duration": 13008,
    "start_time": "2022-02-23T07:17:57.653Z"
   },
   {
    "duration": 317,
    "start_time": "2022-02-23T07:18:10.663Z"
   },
   {
    "duration": 14,
    "start_time": "2022-02-23T07:18:10.983Z"
   },
   {
    "duration": 1365,
    "start_time": "2022-02-23T07:18:11.000Z"
   },
   {
    "duration": 1316,
    "start_time": "2022-02-23T07:18:12.368Z"
   },
   {
    "duration": 3,
    "start_time": "2022-02-23T07:18:13.686Z"
   },
   {
    "duration": 215,
    "start_time": "2022-02-23T07:18:13.694Z"
   },
   {
    "duration": 30191,
    "start_time": "2022-02-23T07:18:13.912Z"
   },
   {
    "duration": 5,
    "start_time": "2022-02-23T07:18:44.194Z"
   },
   {
    "duration": 649769,
    "start_time": "2022-02-23T07:18:44.201Z"
   },
   {
    "duration": 3,
    "start_time": "2022-02-23T07:29:33.972Z"
   },
   {
    "duration": 195,
    "start_time": "2022-02-23T07:29:33.977Z"
   },
   {
    "duration": 2540,
    "start_time": "2022-02-23T08:46:56.875Z"
   },
   {
    "duration": 4,
    "start_time": "2022-02-23T08:46:59.417Z"
   },
   {
    "duration": 3286,
    "start_time": "2022-02-23T08:46:59.424Z"
   },
   {
    "duration": 26,
    "start_time": "2022-02-23T08:47:02.713Z"
   },
   {
    "duration": 6,
    "start_time": "2022-02-23T08:47:02.741Z"
   },
   {
    "duration": 55,
    "start_time": "2022-02-23T08:47:02.749Z"
   },
   {
    "duration": 175,
    "start_time": "2022-02-23T08:47:02.806Z"
   },
   {
    "duration": 272,
    "start_time": "2022-02-23T08:47:02.993Z"
   },
   {
    "duration": 630,
    "start_time": "2022-02-23T08:47:03.269Z"
   },
   {
    "duration": 607,
    "start_time": "2022-02-23T08:47:03.902Z"
   },
   {
    "duration": 59,
    "start_time": "2022-02-23T08:47:04.511Z"
   },
   {
    "duration": 363,
    "start_time": "2022-02-23T08:47:04.573Z"
   },
   {
    "duration": 24,
    "start_time": "2022-02-23T08:47:04.939Z"
   },
   {
    "duration": 88,
    "start_time": "2022-02-23T08:47:04.967Z"
   },
   {
    "duration": 177,
    "start_time": "2022-02-23T08:47:05.057Z"
   },
   {
    "duration": 61,
    "start_time": "2022-02-23T08:47:05.236Z"
   },
   {
    "duration": 40,
    "start_time": "2022-02-23T08:47:05.299Z"
   },
   {
    "duration": 356,
    "start_time": "2022-02-23T08:47:05.341Z"
   },
   {
    "duration": 455,
    "start_time": "2022-02-23T08:47:05.700Z"
   },
   {
    "duration": 4,
    "start_time": "2022-02-23T08:47:06.158Z"
   },
   {
    "duration": 12929,
    "start_time": "2022-02-23T08:47:06.165Z"
   },
   {
    "duration": 11,
    "start_time": "2022-02-23T08:47:19.096Z"
   },
   {
    "duration": 39,
    "start_time": "2022-02-23T08:47:19.113Z"
   },
   {
    "duration": 613,
    "start_time": "2022-02-23T08:47:19.155Z"
   },
   {
    "duration": 53,
    "start_time": "2022-02-23T08:47:19.771Z"
   },
   {
    "duration": 19,
    "start_time": "2022-02-23T08:47:19.827Z"
   },
   {
    "duration": 4,
    "start_time": "2022-02-23T08:47:19.848Z"
   },
   {
    "duration": 13062,
    "start_time": "2022-02-23T08:47:19.854Z"
   },
   {
    "duration": 325,
    "start_time": "2022-02-23T08:47:32.919Z"
   },
   {
    "duration": 7,
    "start_time": "2022-02-23T08:47:33.247Z"
   },
   {
    "duration": 1368,
    "start_time": "2022-02-23T08:47:33.256Z"
   },
   {
    "duration": 1373,
    "start_time": "2022-02-23T08:47:34.627Z"
   },
   {
    "duration": 4,
    "start_time": "2022-02-23T08:47:36.002Z"
   },
   {
    "duration": 224,
    "start_time": "2022-02-23T08:47:36.008Z"
   },
   {
    "duration": 30866,
    "start_time": "2022-02-23T08:47:36.234Z"
   },
   {
    "duration": 95,
    "start_time": "2022-02-23T08:48:07.103Z"
   },
   {
    "duration": 3352,
    "start_time": "2022-02-23T08:48:07.200Z"
   },
   {
    "duration": 4,
    "start_time": "2022-02-23T08:48:10.555Z"
   },
   {
    "duration": 194,
    "start_time": "2022-02-23T08:48:10.562Z"
   },
   {
    "duration": 453460,
    "start_time": "2022-02-23T08:48:10.758Z"
   },
   {
    "duration": 242,
    "start_time": "2022-02-23T08:55:44.221Z"
   },
   {
    "duration": 1546,
    "start_time": "2022-02-23T09:22:38.674Z"
   },
   {
    "duration": 4,
    "start_time": "2022-02-23T09:22:40.223Z"
   },
   {
    "duration": 1196,
    "start_time": "2022-02-23T09:22:40.230Z"
   },
   {
    "duration": 26,
    "start_time": "2022-02-23T09:22:41.429Z"
   },
   {
    "duration": 7,
    "start_time": "2022-02-23T09:22:41.457Z"
   },
   {
    "duration": 44,
    "start_time": "2022-02-23T09:22:41.466Z"
   },
   {
    "duration": 188,
    "start_time": "2022-02-23T09:22:41.512Z"
   },
   {
    "duration": 304,
    "start_time": "2022-02-23T09:22:41.704Z"
   },
   {
    "duration": 624,
    "start_time": "2022-02-23T09:22:42.013Z"
   },
   {
    "duration": 621,
    "start_time": "2022-02-23T09:22:42.640Z"
   },
   {
    "duration": 75,
    "start_time": "2022-02-23T09:22:43.263Z"
   },
   {
    "duration": 352,
    "start_time": "2022-02-23T09:22:43.341Z"
   },
   {
    "duration": 21,
    "start_time": "2022-02-23T09:22:43.696Z"
   },
   {
    "duration": 84,
    "start_time": "2022-02-23T09:22:43.721Z"
   },
   {
    "duration": 161,
    "start_time": "2022-02-23T09:22:43.808Z"
   },
   {
    "duration": 55,
    "start_time": "2022-02-23T09:22:43.972Z"
   },
   {
    "duration": 32,
    "start_time": "2022-02-23T09:22:44.030Z"
   },
   {
    "duration": 359,
    "start_time": "2022-02-23T09:22:44.064Z"
   },
   {
    "duration": 482,
    "start_time": "2022-02-23T09:22:44.427Z"
   },
   {
    "duration": 5,
    "start_time": "2022-02-23T09:22:44.911Z"
   },
   {
    "duration": 12767,
    "start_time": "2022-02-23T09:22:44.918Z"
   },
   {
    "duration": 12,
    "start_time": "2022-02-23T09:22:57.687Z"
   },
   {
    "duration": 39,
    "start_time": "2022-02-23T09:22:57.704Z"
   },
   {
    "duration": 624,
    "start_time": "2022-02-23T09:22:57.748Z"
   },
   {
    "duration": 53,
    "start_time": "2022-02-23T09:22:58.374Z"
   },
   {
    "duration": 23,
    "start_time": "2022-02-23T09:22:58.430Z"
   },
   {
    "duration": 38,
    "start_time": "2022-02-23T09:22:58.456Z"
   },
   {
    "duration": 15357,
    "start_time": "2022-02-23T09:22:58.498Z"
   },
   {
    "duration": 352,
    "start_time": "2022-02-23T09:23:13.858Z"
   },
   {
    "duration": 7,
    "start_time": "2022-02-23T09:23:14.214Z"
   },
   {
    "duration": 1533,
    "start_time": "2022-02-23T09:23:14.224Z"
   },
   {
    "duration": 1791,
    "start_time": "2022-02-23T09:23:15.761Z"
   },
   {
    "duration": 3,
    "start_time": "2022-02-23T09:23:17.555Z"
   },
   {
    "duration": 231,
    "start_time": "2022-02-23T09:23:17.561Z"
   },
   {
    "duration": 32300,
    "start_time": "2022-02-23T09:23:17.794Z"
   },
   {
    "duration": 5,
    "start_time": "2022-02-23T09:23:50.097Z"
   },
   {
    "duration": 89,
    "start_time": "2022-02-23T09:23:50.105Z"
   },
   {
    "duration": 9150,
    "start_time": "2022-02-23T09:23:50.196Z"
   },
   {
    "duration": 4,
    "start_time": "2022-02-23T09:23:59.348Z"
   },
   {
    "duration": 38758,
    "start_time": "2022-02-23T09:23:59.354Z"
   },
   {
    "duration": 4,
    "start_time": "2022-02-23T09:24:38.115Z"
   },
   {
    "duration": 196,
    "start_time": "2022-02-23T09:24:38.121Z"
   },
   {
    "duration": 8494,
    "start_time": "2022-02-23T09:24:38.319Z"
   },
   {
    "duration": 4,
    "start_time": "2022-02-23T09:24:46.817Z"
   },
   {
    "duration": 369,
    "start_time": "2022-02-23T09:24:46.824Z"
   },
   {
    "duration": 69601,
    "start_time": "2022-02-23T09:24:47.197Z"
   },
   {
    "duration": 3,
    "start_time": "2022-02-23T09:25:56.801Z"
   },
   {
    "duration": 84,
    "start_time": "2022-02-23T09:25:56.807Z"
   },
   {
    "duration": 627,
    "start_time": "2022-02-23T09:25:56.266Z"
   },
   {
    "duration": 82,
    "start_time": "2022-02-23T09:26:13.824Z"
   },
   {
    "duration": 7,
    "start_time": "2022-02-23T09:26:19.397Z"
   },
   {
    "duration": 13,
    "start_time": "2022-02-23T09:26:21.112Z"
   },
   {
    "duration": 1529,
    "start_time": "2022-02-23T09:34:17.596Z"
   },
   {
    "duration": 4,
    "start_time": "2022-02-23T09:34:19.128Z"
   },
   {
    "duration": 1157,
    "start_time": "2022-02-23T09:34:19.134Z"
   },
   {
    "duration": 24,
    "start_time": "2022-02-23T09:34:20.294Z"
   },
   {
    "duration": 7,
    "start_time": "2022-02-23T09:34:20.321Z"
   },
   {
    "duration": 30,
    "start_time": "2022-02-23T09:34:20.331Z"
   },
   {
    "duration": 211,
    "start_time": "2022-02-23T09:34:20.363Z"
   },
   {
    "duration": 289,
    "start_time": "2022-02-23T09:34:20.577Z"
   },
   {
    "duration": 740,
    "start_time": "2022-02-23T09:34:20.871Z"
   },
   {
    "duration": 654,
    "start_time": "2022-02-23T09:34:21.614Z"
   },
   {
    "duration": 75,
    "start_time": "2022-02-23T09:34:22.271Z"
   },
   {
    "duration": 368,
    "start_time": "2022-02-23T09:34:22.348Z"
   },
   {
    "duration": 20,
    "start_time": "2022-02-23T09:34:22.719Z"
   },
   {
    "duration": 82,
    "start_time": "2022-02-23T09:34:22.742Z"
   },
   {
    "duration": 162,
    "start_time": "2022-02-23T09:34:22.827Z"
   },
   {
    "duration": 48,
    "start_time": "2022-02-23T09:34:22.994Z"
   },
   {
    "duration": 56,
    "start_time": "2022-02-23T09:34:23.044Z"
   },
   {
    "duration": 313,
    "start_time": "2022-02-23T09:34:23.103Z"
   },
   {
    "duration": 442,
    "start_time": "2022-02-23T09:34:23.418Z"
   },
   {
    "duration": 4,
    "start_time": "2022-02-23T09:34:23.863Z"
   },
   {
    "duration": 13306,
    "start_time": "2022-02-23T09:34:23.870Z"
   },
   {
    "duration": 16,
    "start_time": "2022-02-23T09:34:37.179Z"
   },
   {
    "duration": 37,
    "start_time": "2022-02-23T09:34:37.198Z"
   },
   {
    "duration": 623,
    "start_time": "2022-02-23T09:34:37.238Z"
   },
   {
    "duration": 61,
    "start_time": "2022-02-23T09:34:37.864Z"
   },
   {
    "duration": 21,
    "start_time": "2022-02-23T09:34:37.928Z"
   },
   {
    "duration": 4,
    "start_time": "2022-02-23T09:34:37.954Z"
   },
   {
    "duration": 12650,
    "start_time": "2022-02-23T09:34:37.961Z"
   },
   {
    "duration": 333,
    "start_time": "2022-02-23T09:34:50.614Z"
   },
   {
    "duration": 5,
    "start_time": "2022-02-23T09:34:50.950Z"
   },
   {
    "duration": 1444,
    "start_time": "2022-02-23T09:34:50.958Z"
   },
   {
    "duration": 1351,
    "start_time": "2022-02-23T09:34:52.404Z"
   },
   {
    "duration": 5,
    "start_time": "2022-02-23T09:34:53.758Z"
   },
   {
    "duration": 242,
    "start_time": "2022-02-23T09:34:53.766Z"
   },
   {
    "duration": 30983,
    "start_time": "2022-02-23T09:34:54.011Z"
   },
   {
    "duration": 4,
    "start_time": "2022-02-23T09:35:24.998Z"
   },
   {
    "duration": 8,
    "start_time": "2022-02-23T09:35:25.094Z"
   },
   {
    "duration": 147009,
    "start_time": "2022-02-23T09:35:25.105Z"
   },
   {
    "duration": 4,
    "start_time": "2022-02-23T09:37:52.116Z"
   },
   {
    "duration": 8008151,
    "start_time": "2022-02-23T09:37:52.122Z"
   },
   {
    "duration": 4,
    "start_time": "2022-02-23T11:51:20.276Z"
   },
   {
    "duration": 204,
    "start_time": "2022-02-23T11:51:20.294Z"
   },
   {
    "duration": 1356404,
    "start_time": "2022-02-23T11:51:20.501Z"
   },
   {
    "duration": 3,
    "start_time": "2022-02-23T12:13:56.908Z"
   },
   {
    "duration": 299,
    "start_time": "2022-02-23T12:13:56.914Z"
   },
   {
    "duration": 576502,
    "start_time": "2022-02-23T12:13:57.216Z"
   },
   {
    "duration": 4,
    "start_time": "2022-02-23T12:23:33.720Z"
   },
   {
    "duration": 7,
    "start_time": "2022-02-23T12:23:33.794Z"
   },
   {
    "duration": 17,
    "start_time": "2022-02-23T12:23:33.803Z"
   },
   {
    "duration": 2587,
    "start_time": "2022-08-23T12:28:33.238Z"
   },
   {
    "duration": 0,
    "start_time": "2022-08-23T12:28:35.829Z"
   },
   {
    "duration": 0,
    "start_time": "2022-08-23T12:28:35.830Z"
   },
   {
    "duration": 0,
    "start_time": "2022-08-23T12:28:35.831Z"
   },
   {
    "duration": 0,
    "start_time": "2022-08-23T12:28:35.832Z"
   },
   {
    "duration": 1,
    "start_time": "2022-08-23T12:28:35.833Z"
   },
   {
    "duration": 0,
    "start_time": "2022-08-23T12:28:35.834Z"
   },
   {
    "duration": 0,
    "start_time": "2022-08-23T12:28:35.893Z"
   },
   {
    "duration": 0,
    "start_time": "2022-08-23T12:28:35.894Z"
   },
   {
    "duration": 0,
    "start_time": "2022-08-23T12:28:35.895Z"
   },
   {
    "duration": 0,
    "start_time": "2022-08-23T12:28:35.896Z"
   },
   {
    "duration": 0,
    "start_time": "2022-08-23T12:28:35.896Z"
   },
   {
    "duration": 0,
    "start_time": "2022-08-23T12:28:35.897Z"
   },
   {
    "duration": 0,
    "start_time": "2022-08-23T12:28:35.898Z"
   },
   {
    "duration": 0,
    "start_time": "2022-08-23T12:28:35.899Z"
   },
   {
    "duration": 0,
    "start_time": "2022-08-23T12:28:35.900Z"
   },
   {
    "duration": 0,
    "start_time": "2022-08-23T12:28:35.901Z"
   },
   {
    "duration": 0,
    "start_time": "2022-08-23T12:28:35.902Z"
   },
   {
    "duration": 0,
    "start_time": "2022-08-23T12:28:35.904Z"
   },
   {
    "duration": 0,
    "start_time": "2022-08-23T12:28:35.905Z"
   },
   {
    "duration": 0,
    "start_time": "2022-08-23T12:28:35.905Z"
   },
   {
    "duration": 0,
    "start_time": "2022-08-23T12:28:35.906Z"
   },
   {
    "duration": 0,
    "start_time": "2022-08-23T12:28:35.907Z"
   },
   {
    "duration": 0,
    "start_time": "2022-08-23T12:28:35.908Z"
   },
   {
    "duration": 0,
    "start_time": "2022-08-23T12:28:35.909Z"
   },
   {
    "duration": 0,
    "start_time": "2022-08-23T12:28:35.910Z"
   },
   {
    "duration": 0,
    "start_time": "2022-08-23T12:28:35.911Z"
   },
   {
    "duration": 0,
    "start_time": "2022-08-23T12:28:35.912Z"
   },
   {
    "duration": 0,
    "start_time": "2022-08-23T12:28:35.913Z"
   },
   {
    "duration": 0,
    "start_time": "2022-08-23T12:28:35.914Z"
   },
   {
    "duration": 0,
    "start_time": "2022-08-23T12:28:35.915Z"
   },
   {
    "duration": 0,
    "start_time": "2022-08-23T12:28:35.916Z"
   },
   {
    "duration": 0,
    "start_time": "2022-08-23T12:28:35.918Z"
   },
   {
    "duration": 0,
    "start_time": "2022-08-23T12:28:35.919Z"
   },
   {
    "duration": 0,
    "start_time": "2022-08-23T12:28:35.993Z"
   },
   {
    "duration": 0,
    "start_time": "2022-08-23T12:28:35.995Z"
   },
   {
    "duration": 0,
    "start_time": "2022-08-23T12:28:35.996Z"
   },
   {
    "duration": 0,
    "start_time": "2022-08-23T12:28:35.997Z"
   },
   {
    "duration": 0,
    "start_time": "2022-08-23T12:28:35.998Z"
   },
   {
    "duration": 0,
    "start_time": "2022-08-23T12:28:35.999Z"
   },
   {
    "duration": 0,
    "start_time": "2022-08-23T12:28:36.000Z"
   },
   {
    "duration": 0,
    "start_time": "2022-08-23T12:28:36.002Z"
   },
   {
    "duration": 0,
    "start_time": "2022-08-23T12:28:36.003Z"
   },
   {
    "duration": 0,
    "start_time": "2022-08-23T12:28:36.004Z"
   },
   {
    "duration": 0,
    "start_time": "2022-08-23T12:28:36.005Z"
   },
   {
    "duration": 0,
    "start_time": "2022-08-23T12:28:36.006Z"
   },
   {
    "duration": 0,
    "start_time": "2022-08-23T12:28:36.007Z"
   },
   {
    "duration": 0,
    "start_time": "2022-08-23T12:28:36.008Z"
   },
   {
    "duration": 0,
    "start_time": "2022-08-23T12:28:36.009Z"
   },
   {
    "duration": 0,
    "start_time": "2022-08-23T12:28:36.010Z"
   },
   {
    "duration": 10901,
    "start_time": "2022-08-23T12:32:47.400Z"
   },
   {
    "duration": 101,
    "start_time": "2022-08-23T12:32:58.392Z"
   },
   {
    "duration": 19519,
    "start_time": "2022-08-23T12:32:58.495Z"
   },
   {
    "duration": 94,
    "start_time": "2022-08-23T12:33:18.016Z"
   },
   {
    "duration": 80,
    "start_time": "2022-08-23T12:33:18.113Z"
   },
   {
    "duration": 98,
    "start_time": "2022-08-23T12:33:18.196Z"
   },
   {
    "duration": 505,
    "start_time": "2022-08-23T12:33:18.296Z"
   },
   {
    "duration": 694,
    "start_time": "2022-08-23T12:33:18.803Z"
   },
   {
    "duration": 1299,
    "start_time": "2022-08-23T12:33:19.499Z"
   },
   {
    "duration": 1297,
    "start_time": "2022-08-23T12:33:20.801Z"
   },
   {
    "duration": 109,
    "start_time": "2022-08-23T12:33:22.099Z"
   },
   {
    "duration": 585,
    "start_time": "2022-08-23T12:33:22.210Z"
   },
   {
    "duration": 12,
    "start_time": "2022-08-23T12:33:22.797Z"
   },
   {
    "duration": 181,
    "start_time": "2022-08-23T12:33:22.814Z"
   },
   {
    "duration": 312,
    "start_time": "2022-08-23T12:33:22.997Z"
   },
   {
    "duration": 102,
    "start_time": "2022-08-23T12:33:23.310Z"
   },
   {
    "duration": 110,
    "start_time": "2022-08-23T12:33:23.414Z"
   },
   {
    "duration": 498,
    "start_time": "2022-08-23T12:33:23.526Z"
   },
   {
    "duration": 775,
    "start_time": "2022-08-23T12:33:24.025Z"
   },
   {
    "duration": 4,
    "start_time": "2022-08-23T12:33:24.802Z"
   },
   {
    "duration": 12990,
    "start_time": "2022-08-23T12:33:24.808Z"
   },
   {
    "duration": 9,
    "start_time": "2022-08-23T12:33:37.801Z"
   },
   {
    "duration": 88,
    "start_time": "2022-08-23T12:33:37.812Z"
   },
   {
    "duration": 905,
    "start_time": "2022-08-23T12:33:37.902Z"
   },
   {
    "duration": 188,
    "start_time": "2022-08-23T12:33:38.810Z"
   },
   {
    "duration": 92,
    "start_time": "2022-08-23T12:33:39.001Z"
   },
   {
    "duration": 4,
    "start_time": "2022-08-23T12:33:39.095Z"
   },
   {
    "duration": 12398,
    "start_time": "2022-08-23T12:33:39.101Z"
   },
   {
    "duration": 608,
    "start_time": "2022-08-23T12:33:51.502Z"
   },
   {
    "duration": 4,
    "start_time": "2022-08-23T12:33:52.113Z"
   },
   {
    "duration": 3575,
    "start_time": "2022-08-23T12:33:52.119Z"
   },
   {
    "duration": 1704,
    "start_time": "2022-08-23T12:33:55.696Z"
   },
   {
    "duration": 3,
    "start_time": "2022-08-23T12:33:57.402Z"
   },
   {
    "duration": 588,
    "start_time": "2022-08-23T12:33:57.407Z"
   },
   {
    "duration": 45707,
    "start_time": "2022-08-23T12:33:57.997Z"
   },
   {
    "duration": 4,
    "start_time": "2022-08-23T12:34:43.797Z"
   },
   {
    "duration": 12,
    "start_time": "2022-08-23T12:34:43.893Z"
   },
   {
    "duration": 721585,
    "start_time": "2022-08-23T12:34:43.908Z"
   },
   {
    "duration": 3,
    "start_time": "2022-08-23T12:46:45.495Z"
   },
   {
    "duration": 3320098,
    "start_time": "2022-08-23T12:46:45.500Z"
   },
   {
    "duration": 186,
    "start_time": "2022-08-23T13:42:05.606Z"
   },
   {
    "duration": 1205,
    "start_time": "2022-08-23T13:42:05.794Z"
   },
   {
    "duration": 1490,
    "start_time": "2022-08-23T19:04:51.473Z"
   },
   {
    "duration": 2,
    "start_time": "2022-08-23T19:04:52.965Z"
   },
   {
    "duration": 930,
    "start_time": "2022-08-23T19:04:52.969Z"
   },
   {
    "duration": 17,
    "start_time": "2022-08-23T19:04:53.901Z"
   },
   {
    "duration": 3,
    "start_time": "2022-08-23T19:04:53.920Z"
   },
   {
    "duration": 15,
    "start_time": "2022-08-23T19:04:53.925Z"
   },
   {
    "duration": 161,
    "start_time": "2022-08-23T19:04:53.942Z"
   },
   {
    "duration": 211,
    "start_time": "2022-08-23T19:04:54.105Z"
   },
   {
    "duration": 400,
    "start_time": "2022-08-23T19:04:54.318Z"
   },
   {
    "duration": 391,
    "start_time": "2022-08-23T19:04:54.720Z"
   },
   {
    "duration": 37,
    "start_time": "2022-08-23T19:04:55.113Z"
   },
   {
    "duration": 170,
    "start_time": "2022-08-23T19:04:55.152Z"
   },
   {
    "duration": 13,
    "start_time": "2022-08-23T19:04:55.324Z"
   },
   {
    "duration": 59,
    "start_time": "2022-08-23T19:04:55.338Z"
   },
   {
    "duration": 80,
    "start_time": "2022-08-23T19:04:55.399Z"
   },
   {
    "duration": 42,
    "start_time": "2022-08-23T19:04:55.481Z"
   },
   {
    "duration": 24,
    "start_time": "2022-08-23T19:04:55.524Z"
   },
   {
    "duration": 168,
    "start_time": "2022-08-23T19:04:55.549Z"
   },
   {
    "duration": 181,
    "start_time": "2022-08-23T19:04:55.718Z"
   },
   {
    "duration": 3,
    "start_time": "2022-08-23T19:04:55.901Z"
   },
   {
    "duration": 3844,
    "start_time": "2022-08-23T19:04:55.905Z"
   },
   {
    "duration": 8,
    "start_time": "2022-08-23T19:04:59.751Z"
   },
   {
    "duration": 36,
    "start_time": "2022-08-23T19:04:59.761Z"
   },
   {
    "duration": 272,
    "start_time": "2022-08-23T19:04:59.799Z"
   },
   {
    "duration": 41,
    "start_time": "2022-08-23T19:05:00.072Z"
   },
   {
    "duration": 18,
    "start_time": "2022-08-23T19:05:00.115Z"
   },
   {
    "duration": 3,
    "start_time": "2022-08-23T19:05:00.135Z"
   },
   {
    "duration": 4053,
    "start_time": "2022-08-23T19:05:00.142Z"
   },
   {
    "duration": 157,
    "start_time": "2022-08-23T19:05:04.197Z"
   },
   {
    "duration": 5,
    "start_time": "2022-08-23T19:05:04.356Z"
   },
   {
    "duration": 874,
    "start_time": "2022-08-23T19:05:04.362Z"
   },
   {
    "duration": 527,
    "start_time": "2022-08-23T19:05:05.238Z"
   },
   {
    "duration": 3,
    "start_time": "2022-08-23T19:05:05.767Z"
   },
   {
    "duration": 174,
    "start_time": "2022-08-23T19:05:05.771Z"
   },
   {
    "duration": 23849,
    "start_time": "2022-08-23T19:05:05.946Z"
   },
   {
    "duration": 93,
    "start_time": "2022-08-23T19:05:29.800Z"
   },
   {
    "duration": 2,
    "start_time": "2022-08-23T19:05:29.895Z"
   },
   {
    "duration": 108194,
    "start_time": "2022-08-23T19:05:29.899Z"
   },
   {
    "duration": 3,
    "start_time": "2022-08-23T19:07:18.096Z"
   },
   {
    "duration": 6264378,
    "start_time": "2022-08-23T19:07:18.101Z"
   },
   {
    "duration": 2,
    "start_time": "2022-08-23T20:51:42.481Z"
   },
   {
    "duration": 95,
    "start_time": "2022-08-23T20:51:42.492Z"
   },
   {
    "duration": 502267,
    "start_time": "2022-08-23T20:51:42.589Z"
   },
   {
    "duration": 3,
    "start_time": "2022-08-23T21:00:04.857Z"
   },
   {
    "duration": 201,
    "start_time": "2022-08-23T21:00:04.862Z"
   },
   {
    "duration": 274238,
    "start_time": "2022-08-23T21:00:05.065Z"
   },
   {
    "duration": 2,
    "start_time": "2022-08-23T21:04:39.305Z"
   },
   {
    "duration": 7,
    "start_time": "2022-08-23T21:04:39.309Z"
   },
   {
    "duration": 12,
    "start_time": "2022-08-23T21:04:39.317Z"
   },
   {
    "duration": 9,
    "start_time": "2022-08-23T21:04:39.331Z"
   },
   {
    "duration": 1544,
    "start_time": "2022-08-29T18:50:14.159Z"
   },
   {
    "duration": 3,
    "start_time": "2022-08-29T18:50:15.705Z"
   },
   {
    "duration": 3219,
    "start_time": "2022-08-29T18:50:15.710Z"
   },
   {
    "duration": 20,
    "start_time": "2022-08-29T18:50:18.932Z"
   },
   {
    "duration": 4,
    "start_time": "2022-08-29T18:50:18.954Z"
   },
   {
    "duration": 24,
    "start_time": "2022-08-29T18:50:18.960Z"
   },
   {
    "duration": 169,
    "start_time": "2022-08-29T18:50:18.985Z"
   },
   {
    "duration": 214,
    "start_time": "2022-08-29T18:50:19.156Z"
   },
   {
    "duration": 457,
    "start_time": "2022-08-29T18:50:19.373Z"
   },
   {
    "duration": 422,
    "start_time": "2022-08-29T18:50:19.833Z"
   },
   {
    "duration": 45,
    "start_time": "2022-08-29T18:50:20.257Z"
   },
   {
    "duration": 182,
    "start_time": "2022-08-29T18:50:20.304Z"
   },
   {
    "duration": 17,
    "start_time": "2022-08-29T18:50:20.488Z"
   },
   {
    "duration": 44,
    "start_time": "2022-08-29T18:50:20.507Z"
   },
   {
    "duration": 99,
    "start_time": "2022-08-29T18:50:20.553Z"
   },
   {
    "duration": 41,
    "start_time": "2022-08-29T18:50:20.654Z"
   },
   {
    "duration": 32,
    "start_time": "2022-08-29T18:50:20.697Z"
   },
   {
    "duration": 176,
    "start_time": "2022-08-29T18:50:20.731Z"
   },
   {
    "duration": 207,
    "start_time": "2022-08-29T18:50:20.909Z"
   },
   {
    "duration": 3,
    "start_time": "2022-08-29T18:50:21.118Z"
   },
   {
    "duration": 4014,
    "start_time": "2022-08-29T18:50:21.123Z"
   },
   {
    "duration": 9,
    "start_time": "2022-08-29T18:50:25.138Z"
   },
   {
    "duration": 32,
    "start_time": "2022-08-29T18:50:25.149Z"
   },
   {
    "duration": 292,
    "start_time": "2022-08-29T18:50:25.192Z"
   },
   {
    "duration": 35,
    "start_time": "2022-08-29T18:50:25.485Z"
   },
   {
    "duration": 22,
    "start_time": "2022-08-29T18:50:25.522Z"
   },
   {
    "duration": 4,
    "start_time": "2022-08-29T18:50:25.547Z"
   },
   {
    "duration": 4090,
    "start_time": "2022-08-29T18:50:25.556Z"
   },
   {
    "duration": 173,
    "start_time": "2022-08-29T18:50:29.648Z"
   },
   {
    "duration": 5,
    "start_time": "2022-08-29T18:50:29.823Z"
   },
   {
    "duration": 1273,
    "start_time": "2022-08-29T18:50:29.830Z"
   },
   {
    "duration": 535,
    "start_time": "2022-08-29T18:50:31.105Z"
   },
   {
    "duration": 3,
    "start_time": "2022-08-29T18:50:31.642Z"
   },
   {
    "duration": 232,
    "start_time": "2022-08-29T18:50:31.647Z"
   },
   {
    "duration": 35030,
    "start_time": "2022-08-29T18:50:31.882Z"
   },
   {
    "duration": 5,
    "start_time": "2022-08-29T18:51:06.993Z"
   },
   {
    "duration": 19,
    "start_time": "2022-08-29T18:51:07.000Z"
   },
   {
    "duration": 117122,
    "start_time": "2022-08-29T18:51:07.022Z"
   },
   {
    "duration": 3,
    "start_time": "2022-08-29T18:53:04.146Z"
   },
   {
    "duration": 6618859,
    "start_time": "2022-08-29T18:53:04.151Z"
   },
   {
    "duration": 3,
    "start_time": "2022-08-29T20:43:23.012Z"
   },
   {
    "duration": 105,
    "start_time": "2022-08-29T20:43:23.017Z"
   },
   {
    "duration": 525307,
    "start_time": "2022-08-29T20:43:23.124Z"
   },
   {
    "duration": 2,
    "start_time": "2022-08-29T20:52:08.433Z"
   },
   {
    "duration": 208,
    "start_time": "2022-08-29T20:52:08.437Z"
   },
   {
    "duration": 582445,
    "start_time": "2022-08-29T20:52:08.647Z"
   },
   {
    "duration": 3,
    "start_time": "2022-08-29T21:01:51.094Z"
   },
   {
    "duration": 21,
    "start_time": "2022-08-29T21:01:51.098Z"
   },
   {
    "duration": 29,
    "start_time": "2022-08-29T21:01:51.120Z"
   },
   {
    "duration": 1734,
    "start_time": "2022-08-30T12:12:55.525Z"
   },
   {
    "duration": 3,
    "start_time": "2022-08-30T12:12:57.261Z"
   },
   {
    "duration": 1184,
    "start_time": "2022-08-30T12:12:57.266Z"
   },
   {
    "duration": 23,
    "start_time": "2022-08-30T12:12:58.451Z"
   },
   {
    "duration": 3,
    "start_time": "2022-08-30T12:12:58.476Z"
   },
   {
    "duration": 16,
    "start_time": "2022-08-30T12:12:58.481Z"
   },
   {
    "duration": 147,
    "start_time": "2022-08-30T12:12:58.499Z"
   },
   {
    "duration": 233,
    "start_time": "2022-08-30T12:12:58.648Z"
   },
   {
    "duration": 487,
    "start_time": "2022-08-30T12:12:58.883Z"
   },
   {
    "duration": 422,
    "start_time": "2022-08-30T12:12:59.371Z"
   },
   {
    "duration": 44,
    "start_time": "2022-08-30T12:12:59.795Z"
   },
   {
    "duration": 209,
    "start_time": "2022-08-30T12:12:59.841Z"
   },
   {
    "duration": 12,
    "start_time": "2022-08-30T12:13:00.051Z"
   },
   {
    "duration": 48,
    "start_time": "2022-08-30T12:13:00.067Z"
   },
   {
    "duration": 85,
    "start_time": "2022-08-30T12:13:00.118Z"
   },
   {
    "duration": 41,
    "start_time": "2022-08-30T12:13:00.206Z"
   },
   {
    "duration": 48,
    "start_time": "2022-08-30T12:13:00.249Z"
   },
   {
    "duration": 176,
    "start_time": "2022-08-30T12:13:00.299Z"
   },
   {
    "duration": 193,
    "start_time": "2022-08-30T12:13:00.476Z"
   },
   {
    "duration": 3,
    "start_time": "2022-08-30T12:13:00.670Z"
   },
   {
    "duration": 4232,
    "start_time": "2022-08-30T12:13:00.675Z"
   },
   {
    "duration": 9,
    "start_time": "2022-08-30T12:13:04.909Z"
   },
   {
    "duration": 30,
    "start_time": "2022-08-30T12:13:04.920Z"
   },
   {
    "duration": 308,
    "start_time": "2022-08-30T12:13:04.953Z"
   },
   {
    "duration": 46,
    "start_time": "2022-08-30T12:13:05.263Z"
   },
   {
    "duration": 17,
    "start_time": "2022-08-30T12:13:05.311Z"
   },
   {
    "duration": 11,
    "start_time": "2022-08-30T12:13:05.330Z"
   },
   {
    "duration": 4409,
    "start_time": "2022-08-30T12:13:05.343Z"
   },
   {
    "duration": 166,
    "start_time": "2022-08-30T12:13:09.753Z"
   },
   {
    "duration": 5,
    "start_time": "2022-08-30T12:13:09.921Z"
   },
   {
    "duration": 974,
    "start_time": "2022-08-30T12:13:09.929Z"
   },
   {
    "duration": 589,
    "start_time": "2022-08-30T12:13:10.906Z"
   },
   {
    "duration": 6,
    "start_time": "2022-08-30T12:13:11.497Z"
   },
   {
    "duration": 177,
    "start_time": "2022-08-30T12:13:11.506Z"
   },
   {
    "duration": 65930,
    "start_time": "2022-08-30T12:13:11.684Z"
   },
   {
    "duration": 2,
    "start_time": "2022-08-30T12:14:17.616Z"
   },
   {
    "duration": 109,
    "start_time": "2022-08-30T12:14:17.620Z"
   },
   {
    "duration": 12,
    "start_time": "2022-08-30T12:14:17.730Z"
   },
   {
    "duration": 115,
    "start_time": "2022-08-30T12:14:17.744Z"
   },
   {
    "duration": 27530,
    "start_time": "2022-08-30T12:14:17.861Z"
   },
   {
    "duration": 3,
    "start_time": "2022-08-30T12:14:45.394Z"
   },
   {
    "duration": 197,
    "start_time": "2022-08-30T12:14:45.398Z"
   },
   {
    "duration": 251155,
    "start_time": "2022-08-30T12:14:45.597Z"
   },
   {
    "duration": 2,
    "start_time": "2022-08-30T12:18:56.754Z"
   },
   {
    "duration": 19,
    "start_time": "2022-08-30T12:18:56.758Z"
   },
   {
    "duration": 0,
    "start_time": "2022-08-30T12:18:56.778Z"
   },
   {
    "duration": 0,
    "start_time": "2022-08-30T12:18:56.781Z"
   },
   {
    "duration": 1657,
    "start_time": "2022-08-30T12:19:03.181Z"
   },
   {
    "duration": 3,
    "start_time": "2022-08-30T12:19:04.840Z"
   },
   {
    "duration": 893,
    "start_time": "2022-08-30T12:19:04.845Z"
   },
   {
    "duration": 17,
    "start_time": "2022-08-30T12:19:05.740Z"
   },
   {
    "duration": 5,
    "start_time": "2022-08-30T12:19:05.759Z"
   },
   {
    "duration": 17,
    "start_time": "2022-08-30T12:19:05.766Z"
   },
   {
    "duration": 168,
    "start_time": "2022-08-30T12:19:05.785Z"
   },
   {
    "duration": 236,
    "start_time": "2022-08-30T12:19:05.954Z"
   },
   {
    "duration": 479,
    "start_time": "2022-08-30T12:19:06.192Z"
   },
   {
    "duration": 464,
    "start_time": "2022-08-30T12:19:06.673Z"
   },
   {
    "duration": 34,
    "start_time": "2022-08-30T12:19:07.139Z"
   },
   {
    "duration": 211,
    "start_time": "2022-08-30T12:19:07.175Z"
   },
   {
    "duration": 22,
    "start_time": "2022-08-30T12:19:07.387Z"
   },
   {
    "duration": 42,
    "start_time": "2022-08-30T12:19:07.415Z"
   },
   {
    "duration": 111,
    "start_time": "2022-08-30T12:19:07.459Z"
   },
   {
    "duration": 42,
    "start_time": "2022-08-30T12:19:07.572Z"
   },
   {
    "duration": 34,
    "start_time": "2022-08-30T12:19:07.617Z"
   },
   {
    "duration": 179,
    "start_time": "2022-08-30T12:19:07.652Z"
   },
   {
    "duration": 187,
    "start_time": "2022-08-30T12:19:07.833Z"
   },
   {
    "duration": 4,
    "start_time": "2022-08-30T12:19:08.023Z"
   },
   {
    "duration": 4558,
    "start_time": "2022-08-30T12:19:08.029Z"
   },
   {
    "duration": 8,
    "start_time": "2022-08-30T12:19:12.588Z"
   },
   {
    "duration": 26,
    "start_time": "2022-08-30T12:19:12.605Z"
   },
   {
    "duration": 317,
    "start_time": "2022-08-30T12:19:12.633Z"
   },
   {
    "duration": 31,
    "start_time": "2022-08-30T12:19:12.952Z"
   },
   {
    "duration": 39,
    "start_time": "2022-08-30T12:19:12.984Z"
   },
   {
    "duration": 5,
    "start_time": "2022-08-30T12:19:13.026Z"
   },
   {
    "duration": 4524,
    "start_time": "2022-08-30T12:19:13.034Z"
   },
   {
    "duration": 171,
    "start_time": "2022-08-30T12:19:17.560Z"
   },
   {
    "duration": 5,
    "start_time": "2022-08-30T12:19:17.734Z"
   },
   {
    "duration": 982,
    "start_time": "2022-08-30T12:19:17.740Z"
   },
   {
    "duration": 601,
    "start_time": "2022-08-30T12:19:18.724Z"
   },
   {
    "duration": 3,
    "start_time": "2022-08-30T12:19:19.327Z"
   },
   {
    "duration": 191,
    "start_time": "2022-08-30T12:19:19.332Z"
   },
   {
    "duration": 62497,
    "start_time": "2022-08-30T12:19:19.525Z"
   },
   {
    "duration": 81,
    "start_time": "2022-08-30T12:20:22.026Z"
   },
   {
    "duration": 39,
    "start_time": "2022-08-30T12:20:22.109Z"
   },
   {
    "duration": 24,
    "start_time": "2022-08-30T12:20:22.150Z"
   },
   {
    "duration": 122,
    "start_time": "2022-08-30T12:20:22.176Z"
   },
   {
    "duration": 34125,
    "start_time": "2022-08-30T12:20:22.302Z"
   },
   {
    "duration": 3,
    "start_time": "2022-08-30T12:20:56.433Z"
   },
   {
    "duration": 214,
    "start_time": "2022-08-30T12:20:56.438Z"
   },
   {
    "duration": 1435,
    "start_time": "2022-08-30T12:22:20.442Z"
   },
   {
    "duration": 3,
    "start_time": "2022-08-30T12:22:21.880Z"
   },
   {
    "duration": 865,
    "start_time": "2022-08-30T12:22:21.885Z"
   },
   {
    "duration": 19,
    "start_time": "2022-08-30T12:22:22.752Z"
   },
   {
    "duration": 4,
    "start_time": "2022-08-30T12:22:22.773Z"
   },
   {
    "duration": 27,
    "start_time": "2022-08-30T12:22:22.778Z"
   },
   {
    "duration": 136,
    "start_time": "2022-08-30T12:22:22.807Z"
   },
   {
    "duration": 201,
    "start_time": "2022-08-30T12:22:22.945Z"
   },
   {
    "duration": 446,
    "start_time": "2022-08-30T12:22:23.148Z"
   },
   {
    "duration": 456,
    "start_time": "2022-08-30T12:22:23.596Z"
   },
   {
    "duration": 49,
    "start_time": "2022-08-30T12:22:24.054Z"
   },
   {
    "duration": 211,
    "start_time": "2022-08-30T12:22:24.105Z"
   },
   {
    "duration": 15,
    "start_time": "2022-08-30T12:22:24.318Z"
   },
   {
    "duration": 50,
    "start_time": "2022-08-30T12:22:24.337Z"
   },
   {
    "duration": 133,
    "start_time": "2022-08-30T12:22:24.389Z"
   },
   {
    "duration": 35,
    "start_time": "2022-08-30T12:22:24.524Z"
   },
   {
    "duration": 25,
    "start_time": "2022-08-30T12:22:24.560Z"
   },
   {
    "duration": 172,
    "start_time": "2022-08-30T12:22:24.587Z"
   },
   {
    "duration": 189,
    "start_time": "2022-08-30T12:22:24.761Z"
   },
   {
    "duration": 3,
    "start_time": "2022-08-30T12:22:24.952Z"
   },
   {
    "duration": 4342,
    "start_time": "2022-08-30T12:22:24.957Z"
   },
   {
    "duration": 7,
    "start_time": "2022-08-30T12:22:29.303Z"
   },
   {
    "duration": 39,
    "start_time": "2022-08-30T12:22:29.312Z"
   },
   {
    "duration": 336,
    "start_time": "2022-08-30T12:22:29.353Z"
   },
   {
    "duration": 40,
    "start_time": "2022-08-30T12:22:29.690Z"
   },
   {
    "duration": 19,
    "start_time": "2022-08-30T12:22:29.732Z"
   },
   {
    "duration": 12,
    "start_time": "2022-08-30T12:22:29.753Z"
   },
   {
    "duration": 4218,
    "start_time": "2022-08-30T12:22:29.767Z"
   },
   {
    "duration": 161,
    "start_time": "2022-08-30T12:22:33.986Z"
   },
   {
    "duration": 5,
    "start_time": "2022-08-30T12:22:34.148Z"
   },
   {
    "duration": 899,
    "start_time": "2022-08-30T12:22:34.155Z"
   },
   {
    "duration": 544,
    "start_time": "2022-08-30T12:22:35.056Z"
   },
   {
    "duration": 3,
    "start_time": "2022-08-30T12:22:35.602Z"
   },
   {
    "duration": 209,
    "start_time": "2022-08-30T12:22:35.607Z"
   },
   {
    "duration": 26000,
    "start_time": "2022-08-30T12:22:35.817Z"
   },
   {
    "duration": 5,
    "start_time": "2022-08-30T12:23:01.904Z"
   },
   {
    "duration": 116,
    "start_time": "2022-08-30T12:23:01.913Z"
   },
   {
    "duration": 31,
    "start_time": "2022-08-30T12:23:02.031Z"
   },
   {
    "duration": 98,
    "start_time": "2022-08-30T12:23:02.064Z"
   },
   {
    "duration": 55223,
    "start_time": "2022-08-30T12:23:02.164Z"
   },
   {
    "duration": 3,
    "start_time": "2022-08-30T12:23:57.391Z"
   },
   {
    "duration": 234,
    "start_time": "2022-08-30T12:23:57.396Z"
   },
   {
    "duration": 1459,
    "start_time": "2022-08-30T12:24:11.362Z"
   },
   {
    "duration": 3,
    "start_time": "2022-08-30T12:24:12.823Z"
   },
   {
    "duration": 835,
    "start_time": "2022-08-30T12:24:12.827Z"
   },
   {
    "duration": 22,
    "start_time": "2022-08-30T12:24:13.666Z"
   },
   {
    "duration": 15,
    "start_time": "2022-08-30T12:24:13.690Z"
   },
   {
    "duration": 17,
    "start_time": "2022-08-30T12:24:13.707Z"
   },
   {
    "duration": 145,
    "start_time": "2022-08-30T12:24:13.726Z"
   },
   {
    "duration": 208,
    "start_time": "2022-08-30T12:24:13.874Z"
   },
   {
    "duration": 426,
    "start_time": "2022-08-30T12:24:14.084Z"
   },
   {
    "duration": 413,
    "start_time": "2022-08-30T12:24:14.512Z"
   },
   {
    "duration": 36,
    "start_time": "2022-08-30T12:24:14.927Z"
   },
   {
    "duration": 197,
    "start_time": "2022-08-30T12:24:14.965Z"
   },
   {
    "duration": 16,
    "start_time": "2022-08-30T12:24:15.165Z"
   },
   {
    "duration": 68,
    "start_time": "2022-08-30T12:24:15.183Z"
   },
   {
    "duration": 87,
    "start_time": "2022-08-30T12:24:15.254Z"
   },
   {
    "duration": 31,
    "start_time": "2022-08-30T12:24:15.343Z"
   },
   {
    "duration": 45,
    "start_time": "2022-08-30T12:24:15.376Z"
   },
   {
    "duration": 166,
    "start_time": "2022-08-30T12:24:15.423Z"
   },
   {
    "duration": 231,
    "start_time": "2022-08-30T12:24:15.591Z"
   },
   {
    "duration": 5,
    "start_time": "2022-08-30T12:24:15.825Z"
   },
   {
    "duration": 4226,
    "start_time": "2022-08-30T12:24:15.832Z"
   },
   {
    "duration": 9,
    "start_time": "2022-08-30T12:24:20.059Z"
   },
   {
    "duration": 34,
    "start_time": "2022-08-30T12:24:20.070Z"
   },
   {
    "duration": 372,
    "start_time": "2022-08-30T12:24:20.106Z"
   },
   {
    "duration": 40,
    "start_time": "2022-08-30T12:24:20.479Z"
   },
   {
    "duration": 19,
    "start_time": "2022-08-30T12:24:20.521Z"
   },
   {
    "duration": 4,
    "start_time": "2022-08-30T12:24:20.541Z"
   },
   {
    "duration": 4170,
    "start_time": "2022-08-30T12:24:20.550Z"
   },
   {
    "duration": 174,
    "start_time": "2022-08-30T12:24:24.722Z"
   },
   {
    "duration": 5,
    "start_time": "2022-08-30T12:24:24.903Z"
   },
   {
    "duration": 866,
    "start_time": "2022-08-30T12:24:24.910Z"
   },
   {
    "duration": 538,
    "start_time": "2022-08-30T12:24:25.778Z"
   },
   {
    "duration": 3,
    "start_time": "2022-08-30T12:24:26.318Z"
   },
   {
    "duration": 187,
    "start_time": "2022-08-30T12:24:26.323Z"
   },
   {
    "duration": 29897,
    "start_time": "2022-08-30T12:24:26.512Z"
   },
   {
    "duration": 10,
    "start_time": "2022-08-30T12:24:56.412Z"
   },
   {
    "duration": 88,
    "start_time": "2022-08-30T12:24:56.424Z"
   },
   {
    "duration": 8,
    "start_time": "2022-08-30T12:24:56.513Z"
   },
   {
    "duration": 93,
    "start_time": "2022-08-30T12:24:56.522Z"
   },
   {
    "duration": 525077,
    "start_time": "2022-08-30T12:24:56.617Z"
   },
   {
    "duration": 24,
    "start_time": "2022-08-30T12:33:41.696Z"
   },
   {
    "duration": 199,
    "start_time": "2022-08-30T12:33:41.725Z"
   },
   {
    "duration": 320565,
    "start_time": "2022-08-30T12:33:41.926Z"
   },
   {
    "duration": 3,
    "start_time": "2022-08-30T12:39:02.493Z"
   },
   {
    "duration": 68,
    "start_time": "2022-08-30T12:39:02.498Z"
   },
   {
    "duration": 0,
    "start_time": "2022-08-30T12:39:02.568Z"
   },
   {
    "duration": 1488,
    "start_time": "2022-08-30T12:39:08.136Z"
   },
   {
    "duration": 6,
    "start_time": "2022-08-30T12:39:09.626Z"
   },
   {
    "duration": 939,
    "start_time": "2022-08-30T12:39:09.634Z"
   },
   {
    "duration": 18,
    "start_time": "2022-08-30T12:39:10.575Z"
   },
   {
    "duration": 10,
    "start_time": "2022-08-30T12:39:10.603Z"
   },
   {
    "duration": 46,
    "start_time": "2022-08-30T12:39:10.615Z"
   },
   {
    "duration": 127,
    "start_time": "2022-08-30T12:39:10.663Z"
   },
   {
    "duration": 219,
    "start_time": "2022-08-30T12:39:10.792Z"
   },
   {
    "duration": 487,
    "start_time": "2022-08-30T12:39:11.013Z"
   },
   {
    "duration": 444,
    "start_time": "2022-08-30T12:39:11.503Z"
   },
   {
    "duration": 37,
    "start_time": "2022-08-30T12:39:11.950Z"
   },
   {
    "duration": 182,
    "start_time": "2022-08-30T12:39:11.989Z"
   },
   {
    "duration": 14,
    "start_time": "2022-08-30T12:39:12.174Z"
   },
   {
    "duration": 36,
    "start_time": "2022-08-30T12:39:12.202Z"
   },
   {
    "duration": 90,
    "start_time": "2022-08-30T12:39:12.240Z"
   },
   {
    "duration": 31,
    "start_time": "2022-08-30T12:39:12.332Z"
   },
   {
    "duration": 24,
    "start_time": "2022-08-30T12:39:12.365Z"
   },
   {
    "duration": 180,
    "start_time": "2022-08-30T12:39:12.391Z"
   },
   {
    "duration": 187,
    "start_time": "2022-08-30T12:39:12.573Z"
   },
   {
    "duration": 3,
    "start_time": "2022-08-30T12:39:12.762Z"
   },
   {
    "duration": 4281,
    "start_time": "2022-08-30T12:39:12.767Z"
   },
   {
    "duration": 11,
    "start_time": "2022-08-30T12:39:17.050Z"
   },
   {
    "duration": 69,
    "start_time": "2022-08-30T12:39:17.063Z"
   },
   {
    "duration": 291,
    "start_time": "2022-08-30T12:39:17.137Z"
   },
   {
    "duration": 35,
    "start_time": "2022-08-30T12:39:17.430Z"
   },
   {
    "duration": 38,
    "start_time": "2022-08-30T12:39:17.467Z"
   },
   {
    "duration": 4,
    "start_time": "2022-08-30T12:39:17.506Z"
   },
   {
    "duration": 4264,
    "start_time": "2022-08-30T12:39:17.515Z"
   },
   {
    "duration": 174,
    "start_time": "2022-08-30T12:39:21.781Z"
   },
   {
    "duration": 5,
    "start_time": "2022-08-30T12:39:21.957Z"
   },
   {
    "duration": 924,
    "start_time": "2022-08-30T12:39:21.964Z"
   },
   {
    "duration": 542,
    "start_time": "2022-08-30T12:39:22.890Z"
   },
   {
    "duration": 3,
    "start_time": "2022-08-30T12:39:23.434Z"
   },
   {
    "duration": 192,
    "start_time": "2022-08-30T12:39:23.439Z"
   },
   {
    "duration": 32869,
    "start_time": "2022-08-30T12:39:23.634Z"
   },
   {
    "duration": 3,
    "start_time": "2022-08-30T12:39:56.505Z"
   },
   {
    "duration": 98,
    "start_time": "2022-08-30T12:39:56.510Z"
   },
   {
    "duration": 5,
    "start_time": "2022-08-30T12:39:56.610Z"
   },
   {
    "duration": 110,
    "start_time": "2022-08-30T12:39:56.617Z"
   },
   {
    "duration": 54443,
    "start_time": "2022-08-30T12:39:56.729Z"
   },
   {
    "duration": 3,
    "start_time": "2022-08-30T12:40:51.174Z"
   },
   {
    "duration": 225,
    "start_time": "2022-08-30T12:40:51.178Z"
   },
   {
    "duration": 1586,
    "start_time": "2022-08-30T12:41:17.960Z"
   },
   {
    "duration": 2,
    "start_time": "2022-08-30T12:41:19.549Z"
   },
   {
    "duration": 891,
    "start_time": "2022-08-30T12:41:19.553Z"
   },
   {
    "duration": 23,
    "start_time": "2022-08-30T12:41:20.446Z"
   },
   {
    "duration": 4,
    "start_time": "2022-08-30T12:41:20.473Z"
   },
   {
    "duration": 35,
    "start_time": "2022-08-30T12:41:20.479Z"
   },
   {
    "duration": 135,
    "start_time": "2022-08-30T12:41:20.516Z"
   },
   {
    "duration": 224,
    "start_time": "2022-08-30T12:41:20.653Z"
   },
   {
    "duration": 481,
    "start_time": "2022-08-30T12:41:20.879Z"
   },
   {
    "duration": 431,
    "start_time": "2022-08-30T12:41:21.362Z"
   },
   {
    "duration": 40,
    "start_time": "2022-08-30T12:41:21.795Z"
   },
   {
    "duration": 193,
    "start_time": "2022-08-30T12:41:21.837Z"
   },
   {
    "duration": 16,
    "start_time": "2022-08-30T12:41:22.041Z"
   },
   {
    "duration": 46,
    "start_time": "2022-08-30T12:41:22.061Z"
   },
   {
    "duration": 73,
    "start_time": "2022-08-30T12:41:22.109Z"
   },
   {
    "duration": 42,
    "start_time": "2022-08-30T12:41:22.184Z"
   },
   {
    "duration": 27,
    "start_time": "2022-08-30T12:41:22.228Z"
   },
   {
    "duration": 176,
    "start_time": "2022-08-30T12:41:22.257Z"
   },
   {
    "duration": 218,
    "start_time": "2022-08-30T12:41:22.435Z"
   },
   {
    "duration": 4,
    "start_time": "2022-08-30T12:41:22.655Z"
   },
   {
    "duration": 4110,
    "start_time": "2022-08-30T12:41:22.661Z"
   },
   {
    "duration": 9,
    "start_time": "2022-08-30T12:41:26.773Z"
   },
   {
    "duration": 39,
    "start_time": "2022-08-30T12:41:26.784Z"
   },
   {
    "duration": 309,
    "start_time": "2022-08-30T12:41:26.825Z"
   },
   {
    "duration": 33,
    "start_time": "2022-08-30T12:41:27.136Z"
   },
   {
    "duration": 39,
    "start_time": "2022-08-30T12:41:27.171Z"
   },
   {
    "duration": 3,
    "start_time": "2022-08-30T12:41:27.212Z"
   },
   {
    "duration": 4378,
    "start_time": "2022-08-30T12:41:27.217Z"
   },
   {
    "duration": 192,
    "start_time": "2022-08-30T12:41:31.598Z"
   },
   {
    "duration": 13,
    "start_time": "2022-08-30T12:41:31.792Z"
   },
   {
    "duration": 905,
    "start_time": "2022-08-30T12:41:31.807Z"
   },
   {
    "duration": 562,
    "start_time": "2022-08-30T12:41:32.714Z"
   },
   {
    "duration": 4,
    "start_time": "2022-08-30T12:41:33.277Z"
   },
   {
    "duration": 190,
    "start_time": "2022-08-30T12:41:33.283Z"
   },
   {
    "duration": 29741,
    "start_time": "2022-08-30T12:41:33.475Z"
   },
   {
    "duration": 86,
    "start_time": "2022-08-30T12:42:03.219Z"
   },
   {
    "duration": 121,
    "start_time": "2022-08-30T12:42:03.307Z"
   },
   {
    "duration": 113340,
    "start_time": "2022-08-30T12:42:03.430Z"
   },
   {
    "duration": 4,
    "start_time": "2022-08-30T12:43:56.772Z"
   },
   {
    "duration": 6509636,
    "start_time": "2022-08-30T12:43:56.778Z"
   },
   {
    "duration": 3,
    "start_time": "2022-08-30T14:32:26.419Z"
   },
   {
    "duration": 112,
    "start_time": "2022-08-30T14:32:26.426Z"
   },
   {
    "duration": 490436,
    "start_time": "2022-08-30T14:32:26.542Z"
   },
   {
    "duration": 3,
    "start_time": "2022-08-30T14:40:36.980Z"
   },
   {
    "duration": 221,
    "start_time": "2022-08-30T14:40:36.985Z"
   },
   {
    "duration": 331497,
    "start_time": "2022-08-30T14:40:37.207Z"
   },
   {
    "duration": 4,
    "start_time": "2022-08-30T14:46:08.706Z"
   },
   {
    "duration": 7,
    "start_time": "2022-08-30T14:46:08.712Z"
   },
   {
    "duration": 13,
    "start_time": "2022-08-30T14:46:08.721Z"
   },
   {
    "duration": 1446,
    "start_time": "2022-08-30T15:11:04.131Z"
   },
   {
    "duration": 2,
    "start_time": "2022-08-30T15:11:05.579Z"
   },
   {
    "duration": 858,
    "start_time": "2022-08-30T15:11:05.583Z"
   },
   {
    "duration": 17,
    "start_time": "2022-08-30T15:11:06.443Z"
   },
   {
    "duration": 25,
    "start_time": "2022-08-30T15:11:06.461Z"
   },
   {
    "duration": 27,
    "start_time": "2022-08-30T15:11:06.488Z"
   },
   {
    "duration": 133,
    "start_time": "2022-08-30T15:11:06.516Z"
   },
   {
    "duration": 190,
    "start_time": "2022-08-30T15:11:06.651Z"
   },
   {
    "duration": 400,
    "start_time": "2022-08-30T15:11:06.843Z"
   },
   {
    "duration": 421,
    "start_time": "2022-08-30T15:11:07.246Z"
   },
   {
    "duration": 46,
    "start_time": "2022-08-30T15:11:07.669Z"
   },
   {
    "duration": 173,
    "start_time": "2022-08-30T15:11:07.716Z"
   },
   {
    "duration": 24,
    "start_time": "2022-08-30T15:11:07.890Z"
   },
   {
    "duration": 59,
    "start_time": "2022-08-30T15:11:07.915Z"
   },
   {
    "duration": 70,
    "start_time": "2022-08-30T15:11:07.976Z"
   },
   {
    "duration": 30,
    "start_time": "2022-08-30T15:11:08.048Z"
   },
   {
    "duration": 50,
    "start_time": "2022-08-30T15:11:08.080Z"
   },
   {
    "duration": 154,
    "start_time": "2022-08-30T15:11:08.132Z"
   },
   {
    "duration": 194,
    "start_time": "2022-08-30T15:11:08.287Z"
   },
   {
    "duration": 4,
    "start_time": "2022-08-30T15:11:08.483Z"
   },
   {
    "duration": 4172,
    "start_time": "2022-08-30T15:11:08.489Z"
   },
   {
    "duration": 8,
    "start_time": "2022-08-30T15:11:12.663Z"
   },
   {
    "duration": 40,
    "start_time": "2022-08-30T15:11:12.673Z"
   },
   {
    "duration": 271,
    "start_time": "2022-08-30T15:11:12.714Z"
   },
   {
    "duration": 37,
    "start_time": "2022-08-30T15:11:12.987Z"
   },
   {
    "duration": 16,
    "start_time": "2022-08-30T15:11:13.027Z"
   },
   {
    "duration": 4,
    "start_time": "2022-08-30T15:11:13.044Z"
   },
   {
    "duration": 4012,
    "start_time": "2022-08-30T15:11:13.053Z"
   },
   {
    "duration": 157,
    "start_time": "2022-08-30T15:11:17.067Z"
   },
   {
    "duration": 6,
    "start_time": "2022-08-30T15:11:17.226Z"
   },
   {
    "duration": 902,
    "start_time": "2022-08-30T15:11:17.234Z"
   },
   {
    "duration": 553,
    "start_time": "2022-08-30T15:11:18.138Z"
   },
   {
    "duration": 3,
    "start_time": "2022-08-30T15:11:18.693Z"
   },
   {
    "duration": 167,
    "start_time": "2022-08-30T15:11:18.703Z"
   },
   {
    "duration": 24738,
    "start_time": "2022-08-30T15:11:18.873Z"
   },
   {
    "duration": 91,
    "start_time": "2022-08-30T15:11:43.613Z"
   },
   {
    "duration": 108,
    "start_time": "2022-08-30T15:11:43.706Z"
   },
   {
    "duration": 112520,
    "start_time": "2022-08-30T15:11:43.816Z"
   },
   {
    "duration": 3,
    "start_time": "2022-08-30T15:13:36.337Z"
   },
   {
    "duration": 6453827,
    "start_time": "2022-08-30T15:13:36.342Z"
   },
   {
    "duration": 5,
    "start_time": "2022-08-30T17:01:10.171Z"
   },
   {
    "duration": 119,
    "start_time": "2022-08-30T17:01:10.178Z"
   },
   {
    "duration": 499032,
    "start_time": "2022-08-30T17:01:10.302Z"
   },
   {
    "duration": 3,
    "start_time": "2022-08-30T17:09:29.336Z"
   },
   {
    "duration": 195,
    "start_time": "2022-08-30T17:09:29.341Z"
   },
   {
    "duration": 345690,
    "start_time": "2022-08-30T17:09:29.537Z"
   },
   {
    "duration": 3,
    "start_time": "2022-08-30T17:15:15.229Z"
   },
   {
    "duration": 70,
    "start_time": "2022-08-30T17:15:15.233Z"
   },
   {
    "duration": 9,
    "start_time": "2022-08-30T17:15:15.305Z"
   }
  ],
  "kernelspec": {
   "display_name": "Python 3 (ipykernel)",
   "language": "python",
   "name": "python3"
  },
  "language_info": {
   "codemirror_mode": {
    "name": "ipython",
    "version": 3
   },
   "file_extension": ".py",
   "mimetype": "text/x-python",
   "name": "python",
   "nbconvert_exporter": "python",
   "pygments_lexer": "ipython3",
   "version": "3.9.5"
  },
  "toc": {
   "base_numbering": 1,
   "nav_menu": {},
   "number_sections": true,
   "sideBar": true,
   "skip_h1_title": true,
   "title_cell": "Table of Contents",
   "title_sidebar": "Contents",
   "toc_cell": false,
   "toc_position": {},
   "toc_section_display": true,
   "toc_window_display": false
  }
 },
 "nbformat": 4,
 "nbformat_minor": 2
}
