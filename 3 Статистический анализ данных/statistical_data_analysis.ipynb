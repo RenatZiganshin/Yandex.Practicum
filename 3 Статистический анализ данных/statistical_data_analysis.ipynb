{
 "cells": [
  {
   "cell_type": "markdown",
   "metadata": {},
   "source": [
    "## Введение"
   ]
  },
  {
   "cell_type": "markdown",
   "metadata": {},
   "source": [
    "В данном проекте выполнен анализ двух тарифов компании \"Мегалайн\": «Смарт» и «Ультра» по выборке из 500 клиентов. Проверены гипотезы о равенстве выручки пользователей разных тарифов и равенстве выручки пользователей Москвы и других регионов."
   ]
  },
  {
   "cell_type": "markdown",
   "metadata": {},
   "source": [
    "## Изучение общей информации и подготовка данных"
   ]
  },
  {
   "cell_type": "code",
   "execution_count": 1,
   "metadata": {},
   "outputs": [],
   "source": [
    "#Импорт библиотек и загрузка .csv-файлов\n",
    "import pandas as pd\n",
    "import numpy as np\n",
    "import matplotlib.pyplot as plt\n",
    "from scipy import stats as st\n",
    "calls = pd.read_csv('/datasets/calls.csv')\n",
    "internet = pd.read_csv('/datasets/internet.csv')\n",
    "messages = pd.read_csv('/datasets/messages.csv')\n",
    "tariffs = pd.read_csv('/datasets/tariffs.csv')\n",
    "users = pd.read_csv('/datasets/users.csv')"
   ]
  },
  {
   "cell_type": "markdown",
   "metadata": {},
   "source": [
    "**Расcмотрим подробнее каждый датафрейм**"
   ]
  },
  {
   "cell_type": "markdown",
   "metadata": {},
   "source": [
    "### CALLS"
   ]
  },
  {
   "cell_type": "code",
   "execution_count": 2,
   "metadata": {},
   "outputs": [
    {
     "name": "stdout",
     "output_type": "stream",
     "text": [
      "<class 'pandas.core.frame.DataFrame'>\n",
      "RangeIndex: 202607 entries, 0 to 202606\n",
      "Data columns (total 4 columns):\n",
      " #   Column     Non-Null Count   Dtype  \n",
      "---  ------     --------------   -----  \n",
      " 0   id         202607 non-null  object \n",
      " 1   call_date  202607 non-null  object \n",
      " 2   duration   202607 non-null  float64\n",
      " 3   user_id    202607 non-null  int64  \n",
      "dtypes: float64(1), int64(1), object(2)\n",
      "memory usage: 6.2+ MB\n"
     ]
    },
    {
     "data": {
      "text/html": [
       "<div>\n",
       "<style scoped>\n",
       "    .dataframe tbody tr th:only-of-type {\n",
       "        vertical-align: middle;\n",
       "    }\n",
       "\n",
       "    .dataframe tbody tr th {\n",
       "        vertical-align: top;\n",
       "    }\n",
       "\n",
       "    .dataframe thead th {\n",
       "        text-align: right;\n",
       "    }\n",
       "</style>\n",
       "<table border=\"1\" class=\"dataframe\">\n",
       "  <thead>\n",
       "    <tr style=\"text-align: right;\">\n",
       "      <th></th>\n",
       "      <th>id</th>\n",
       "      <th>call_date</th>\n",
       "      <th>duration</th>\n",
       "      <th>user_id</th>\n",
       "    </tr>\n",
       "  </thead>\n",
       "  <tbody>\n",
       "    <tr>\n",
       "      <th>0</th>\n",
       "      <td>1000_0</td>\n",
       "      <td>2018-07-25</td>\n",
       "      <td>0.00</td>\n",
       "      <td>1000</td>\n",
       "    </tr>\n",
       "    <tr>\n",
       "      <th>1</th>\n",
       "      <td>1000_1</td>\n",
       "      <td>2018-08-17</td>\n",
       "      <td>0.00</td>\n",
       "      <td>1000</td>\n",
       "    </tr>\n",
       "    <tr>\n",
       "      <th>2</th>\n",
       "      <td>1000_2</td>\n",
       "      <td>2018-06-11</td>\n",
       "      <td>2.85</td>\n",
       "      <td>1000</td>\n",
       "    </tr>\n",
       "    <tr>\n",
       "      <th>3</th>\n",
       "      <td>1000_3</td>\n",
       "      <td>2018-09-21</td>\n",
       "      <td>13.80</td>\n",
       "      <td>1000</td>\n",
       "    </tr>\n",
       "    <tr>\n",
       "      <th>4</th>\n",
       "      <td>1000_4</td>\n",
       "      <td>2018-12-15</td>\n",
       "      <td>5.18</td>\n",
       "      <td>1000</td>\n",
       "    </tr>\n",
       "  </tbody>\n",
       "</table>\n",
       "</div>"
      ],
      "text/plain": [
       "       id   call_date  duration  user_id\n",
       "0  1000_0  2018-07-25      0.00     1000\n",
       "1  1000_1  2018-08-17      0.00     1000\n",
       "2  1000_2  2018-06-11      2.85     1000\n",
       "3  1000_3  2018-09-21     13.80     1000\n",
       "4  1000_4  2018-12-15      5.18     1000"
      ]
     },
     "execution_count": 2,
     "metadata": {},
     "output_type": "execute_result"
    }
   ],
   "source": [
    "calls.info()\n",
    "calls.head()"
   ]
  },
  {
   "cell_type": "code",
   "execution_count": 3,
   "metadata": {},
   "outputs": [
    {
     "data": {
      "text/html": [
       "<div>\n",
       "<style scoped>\n",
       "    .dataframe tbody tr th:only-of-type {\n",
       "        vertical-align: middle;\n",
       "    }\n",
       "\n",
       "    .dataframe tbody tr th {\n",
       "        vertical-align: top;\n",
       "    }\n",
       "\n",
       "    .dataframe thead th {\n",
       "        text-align: right;\n",
       "    }\n",
       "</style>\n",
       "<table border=\"1\" class=\"dataframe\">\n",
       "  <thead>\n",
       "    <tr style=\"text-align: right;\">\n",
       "      <th></th>\n",
       "      <th>duration</th>\n",
       "      <th>user_id</th>\n",
       "    </tr>\n",
       "  </thead>\n",
       "  <tbody>\n",
       "    <tr>\n",
       "      <th>count</th>\n",
       "      <td>202607.000000</td>\n",
       "      <td>202607.000000</td>\n",
       "    </tr>\n",
       "    <tr>\n",
       "      <th>mean</th>\n",
       "      <td>6.755887</td>\n",
       "      <td>1253.940619</td>\n",
       "    </tr>\n",
       "    <tr>\n",
       "      <th>std</th>\n",
       "      <td>5.843365</td>\n",
       "      <td>144.722751</td>\n",
       "    </tr>\n",
       "    <tr>\n",
       "      <th>min</th>\n",
       "      <td>0.000000</td>\n",
       "      <td>1000.000000</td>\n",
       "    </tr>\n",
       "    <tr>\n",
       "      <th>25%</th>\n",
       "      <td>1.300000</td>\n",
       "      <td>1126.000000</td>\n",
       "    </tr>\n",
       "    <tr>\n",
       "      <th>50%</th>\n",
       "      <td>6.000000</td>\n",
       "      <td>1260.000000</td>\n",
       "    </tr>\n",
       "    <tr>\n",
       "      <th>75%</th>\n",
       "      <td>10.700000</td>\n",
       "      <td>1379.000000</td>\n",
       "    </tr>\n",
       "    <tr>\n",
       "      <th>max</th>\n",
       "      <td>38.000000</td>\n",
       "      <td>1499.000000</td>\n",
       "    </tr>\n",
       "  </tbody>\n",
       "</table>\n",
       "</div>"
      ],
      "text/plain": [
       "            duration        user_id\n",
       "count  202607.000000  202607.000000\n",
       "mean        6.755887    1253.940619\n",
       "std         5.843365     144.722751\n",
       "min         0.000000    1000.000000\n",
       "25%         1.300000    1126.000000\n",
       "50%         6.000000    1260.000000\n",
       "75%        10.700000    1379.000000\n",
       "max        38.000000    1499.000000"
      ]
     },
     "execution_count": 3,
     "metadata": {},
     "output_type": "execute_result"
    }
   ],
   "source": [
    "calls.describe()"
   ]
  },
  {
   "cell_type": "markdown",
   "metadata": {},
   "source": [
    "Создадим функцию замены типа данных даты на корректный."
   ]
  },
  {
   "cell_type": "code",
   "execution_count": 4,
   "metadata": {},
   "outputs": [],
   "source": [
    "def to_datetime(data, axis):\n",
    "    return pd.to_datetime(data[axis], format='%Y-%m-%d')"
   ]
  },
  {
   "cell_type": "markdown",
   "metadata": {},
   "source": [
    "Приведем дату в корректный тип данных"
   ]
  },
  {
   "cell_type": "code",
   "execution_count": 5,
   "metadata": {},
   "outputs": [],
   "source": [
    "calls['call_date'] = to_datetime(calls, 'call_date')"
   ]
  },
  {
   "cell_type": "markdown",
   "metadata": {},
   "source": [
    "Добавим столбец с месяцем звонка для дальнейшего анализа"
   ]
  },
  {
   "cell_type": "code",
   "execution_count": 6,
   "metadata": {},
   "outputs": [],
   "source": [
    "calls['month'] = pd.DatetimeIndex(calls['call_date']).month"
   ]
  },
  {
   "cell_type": "markdown",
   "metadata": {},
   "source": [
    "Продолжительность звонков округлим до минут. Округлять будем согласно тарифу, в большую сторону. Тип данных заменим на целочисленные"
   ]
  },
  {
   "cell_type": "code",
   "execution_count": 7,
   "metadata": {},
   "outputs": [],
   "source": [
    "calls['duration'] = np.ceil(calls['duration']).astype(int)"
   ]
  },
  {
   "cell_type": "markdown",
   "metadata": {},
   "source": [
    "Проверка на наличие дубликатов"
   ]
  },
  {
   "cell_type": "code",
   "execution_count": 8,
   "metadata": {},
   "outputs": [
    {
     "data": {
      "text/plain": [
       "0"
      ]
     },
     "execution_count": 8,
     "metadata": {},
     "output_type": "execute_result"
    }
   ],
   "source": [
    "calls.duplicated().sum()"
   ]
  },
  {
   "cell_type": "markdown",
   "metadata": {},
   "source": [
    "### INTERNET"
   ]
  },
  {
   "cell_type": "code",
   "execution_count": 9,
   "metadata": {},
   "outputs": [
    {
     "name": "stdout",
     "output_type": "stream",
     "text": [
      "<class 'pandas.core.frame.DataFrame'>\n",
      "RangeIndex: 149396 entries, 0 to 149395\n",
      "Data columns (total 5 columns):\n",
      " #   Column        Non-Null Count   Dtype  \n",
      "---  ------        --------------   -----  \n",
      " 0   Unnamed: 0    149396 non-null  int64  \n",
      " 1   id            149396 non-null  object \n",
      " 2   mb_used       149396 non-null  float64\n",
      " 3   session_date  149396 non-null  object \n",
      " 4   user_id       149396 non-null  int64  \n",
      "dtypes: float64(1), int64(2), object(2)\n",
      "memory usage: 5.7+ MB\n"
     ]
    },
    {
     "data": {
      "text/html": [
       "<div>\n",
       "<style scoped>\n",
       "    .dataframe tbody tr th:only-of-type {\n",
       "        vertical-align: middle;\n",
       "    }\n",
       "\n",
       "    .dataframe tbody tr th {\n",
       "        vertical-align: top;\n",
       "    }\n",
       "\n",
       "    .dataframe thead th {\n",
       "        text-align: right;\n",
       "    }\n",
       "</style>\n",
       "<table border=\"1\" class=\"dataframe\">\n",
       "  <thead>\n",
       "    <tr style=\"text-align: right;\">\n",
       "      <th></th>\n",
       "      <th>Unnamed: 0</th>\n",
       "      <th>id</th>\n",
       "      <th>mb_used</th>\n",
       "      <th>session_date</th>\n",
       "      <th>user_id</th>\n",
       "    </tr>\n",
       "  </thead>\n",
       "  <tbody>\n",
       "    <tr>\n",
       "      <th>0</th>\n",
       "      <td>0</td>\n",
       "      <td>1000_0</td>\n",
       "      <td>112.95</td>\n",
       "      <td>2018-11-25</td>\n",
       "      <td>1000</td>\n",
       "    </tr>\n",
       "    <tr>\n",
       "      <th>1</th>\n",
       "      <td>1</td>\n",
       "      <td>1000_1</td>\n",
       "      <td>1052.81</td>\n",
       "      <td>2018-09-07</td>\n",
       "      <td>1000</td>\n",
       "    </tr>\n",
       "    <tr>\n",
       "      <th>2</th>\n",
       "      <td>2</td>\n",
       "      <td>1000_2</td>\n",
       "      <td>1197.26</td>\n",
       "      <td>2018-06-25</td>\n",
       "      <td>1000</td>\n",
       "    </tr>\n",
       "    <tr>\n",
       "      <th>3</th>\n",
       "      <td>3</td>\n",
       "      <td>1000_3</td>\n",
       "      <td>550.27</td>\n",
       "      <td>2018-08-22</td>\n",
       "      <td>1000</td>\n",
       "    </tr>\n",
       "    <tr>\n",
       "      <th>4</th>\n",
       "      <td>4</td>\n",
       "      <td>1000_4</td>\n",
       "      <td>302.56</td>\n",
       "      <td>2018-09-24</td>\n",
       "      <td>1000</td>\n",
       "    </tr>\n",
       "  </tbody>\n",
       "</table>\n",
       "</div>"
      ],
      "text/plain": [
       "   Unnamed: 0      id  mb_used session_date  user_id\n",
       "0           0  1000_0   112.95   2018-11-25     1000\n",
       "1           1  1000_1  1052.81   2018-09-07     1000\n",
       "2           2  1000_2  1197.26   2018-06-25     1000\n",
       "3           3  1000_3   550.27   2018-08-22     1000\n",
       "4           4  1000_4   302.56   2018-09-24     1000"
      ]
     },
     "execution_count": 9,
     "metadata": {},
     "output_type": "execute_result"
    }
   ],
   "source": [
    "internet.info()\n",
    "internet.head()"
   ]
  },
  {
   "cell_type": "code",
   "execution_count": 10,
   "metadata": {},
   "outputs": [
    {
     "data": {
      "text/html": [
       "<div>\n",
       "<style scoped>\n",
       "    .dataframe tbody tr th:only-of-type {\n",
       "        vertical-align: middle;\n",
       "    }\n",
       "\n",
       "    .dataframe tbody tr th {\n",
       "        vertical-align: top;\n",
       "    }\n",
       "\n",
       "    .dataframe thead th {\n",
       "        text-align: right;\n",
       "    }\n",
       "</style>\n",
       "<table border=\"1\" class=\"dataframe\">\n",
       "  <thead>\n",
       "    <tr style=\"text-align: right;\">\n",
       "      <th></th>\n",
       "      <th>Unnamed: 0</th>\n",
       "      <th>mb_used</th>\n",
       "      <th>user_id</th>\n",
       "    </tr>\n",
       "  </thead>\n",
       "  <tbody>\n",
       "    <tr>\n",
       "      <th>count</th>\n",
       "      <td>149396.000000</td>\n",
       "      <td>149396.000000</td>\n",
       "      <td>149396.000000</td>\n",
       "    </tr>\n",
       "    <tr>\n",
       "      <th>mean</th>\n",
       "      <td>74697.500000</td>\n",
       "      <td>370.192426</td>\n",
       "      <td>1252.099842</td>\n",
       "    </tr>\n",
       "    <tr>\n",
       "      <th>std</th>\n",
       "      <td>43127.054745</td>\n",
       "      <td>278.300951</td>\n",
       "      <td>144.050823</td>\n",
       "    </tr>\n",
       "    <tr>\n",
       "      <th>min</th>\n",
       "      <td>0.000000</td>\n",
       "      <td>0.000000</td>\n",
       "      <td>1000.000000</td>\n",
       "    </tr>\n",
       "    <tr>\n",
       "      <th>25%</th>\n",
       "      <td>37348.750000</td>\n",
       "      <td>138.187500</td>\n",
       "      <td>1130.000000</td>\n",
       "    </tr>\n",
       "    <tr>\n",
       "      <th>50%</th>\n",
       "      <td>74697.500000</td>\n",
       "      <td>348.015000</td>\n",
       "      <td>1251.000000</td>\n",
       "    </tr>\n",
       "    <tr>\n",
       "      <th>75%</th>\n",
       "      <td>112046.250000</td>\n",
       "      <td>559.552500</td>\n",
       "      <td>1380.000000</td>\n",
       "    </tr>\n",
       "    <tr>\n",
       "      <th>max</th>\n",
       "      <td>149395.000000</td>\n",
       "      <td>1724.830000</td>\n",
       "      <td>1499.000000</td>\n",
       "    </tr>\n",
       "  </tbody>\n",
       "</table>\n",
       "</div>"
      ],
      "text/plain": [
       "          Unnamed: 0        mb_used        user_id\n",
       "count  149396.000000  149396.000000  149396.000000\n",
       "mean    74697.500000     370.192426    1252.099842\n",
       "std     43127.054745     278.300951     144.050823\n",
       "min         0.000000       0.000000    1000.000000\n",
       "25%     37348.750000     138.187500    1130.000000\n",
       "50%     74697.500000     348.015000    1251.000000\n",
       "75%    112046.250000     559.552500    1380.000000\n",
       "max    149395.000000    1724.830000    1499.000000"
      ]
     },
     "execution_count": 10,
     "metadata": {},
     "output_type": "execute_result"
    }
   ],
   "source": [
    "internet.describe()"
   ]
  },
  {
   "cell_type": "markdown",
   "metadata": {},
   "source": [
    "Столбец 'Unnamed: 0', скорее всего, дублирует индексы. Проверим это"
   ]
  },
  {
   "cell_type": "code",
   "execution_count": 11,
   "metadata": {},
   "outputs": [
    {
     "data": {
      "text/plain": [
       "True"
      ]
     },
     "execution_count": 11,
     "metadata": {},
     "output_type": "execute_result"
    }
   ],
   "source": [
    "((internet.index - internet['Unnamed: 0']) == 0).all()"
   ]
  },
  {
   "cell_type": "markdown",
   "metadata": {},
   "source": [
    "Удалим этот столбец"
   ]
  },
  {
   "cell_type": "code",
   "execution_count": 12,
   "metadata": {},
   "outputs": [],
   "source": [
    "internet.drop('Unnamed: 0', axis=1, inplace=True)"
   ]
  },
  {
   "cell_type": "markdown",
   "metadata": {},
   "source": [
    "Приведем в порядок тип данных в столбце с датой"
   ]
  },
  {
   "cell_type": "code",
   "execution_count": 13,
   "metadata": {},
   "outputs": [],
   "source": [
    "internet['session_date'] = to_datetime(internet, 'session_date')"
   ]
  },
  {
   "cell_type": "markdown",
   "metadata": {},
   "source": [
    "Добавим столбец с месяцем "
   ]
  },
  {
   "cell_type": "code",
   "execution_count": 14,
   "metadata": {},
   "outputs": [],
   "source": [
    "internet['month'] = pd.DatetimeIndex(internet['session_date']).month"
   ]
  },
  {
   "cell_type": "markdown",
   "metadata": {},
   "source": [
    "Проверим на наличие дубликатов"
   ]
  },
  {
   "cell_type": "code",
   "execution_count": 15,
   "metadata": {},
   "outputs": [
    {
     "data": {
      "text/plain": [
       "0"
      ]
     },
     "execution_count": 15,
     "metadata": {},
     "output_type": "execute_result"
    }
   ],
   "source": [
    "internet.duplicated().sum()"
   ]
  },
  {
   "cell_type": "markdown",
   "metadata": {},
   "source": [
    "### MESSAGES"
   ]
  },
  {
   "cell_type": "code",
   "execution_count": 16,
   "metadata": {},
   "outputs": [
    {
     "name": "stdout",
     "output_type": "stream",
     "text": [
      "<class 'pandas.core.frame.DataFrame'>\n",
      "RangeIndex: 123036 entries, 0 to 123035\n",
      "Data columns (total 3 columns):\n",
      " #   Column        Non-Null Count   Dtype \n",
      "---  ------        --------------   ----- \n",
      " 0   id            123036 non-null  object\n",
      " 1   message_date  123036 non-null  object\n",
      " 2   user_id       123036 non-null  int64 \n",
      "dtypes: int64(1), object(2)\n",
      "memory usage: 2.8+ MB\n"
     ]
    },
    {
     "data": {
      "text/html": [
       "<div>\n",
       "<style scoped>\n",
       "    .dataframe tbody tr th:only-of-type {\n",
       "        vertical-align: middle;\n",
       "    }\n",
       "\n",
       "    .dataframe tbody tr th {\n",
       "        vertical-align: top;\n",
       "    }\n",
       "\n",
       "    .dataframe thead th {\n",
       "        text-align: right;\n",
       "    }\n",
       "</style>\n",
       "<table border=\"1\" class=\"dataframe\">\n",
       "  <thead>\n",
       "    <tr style=\"text-align: right;\">\n",
       "      <th></th>\n",
       "      <th>id</th>\n",
       "      <th>message_date</th>\n",
       "      <th>user_id</th>\n",
       "    </tr>\n",
       "  </thead>\n",
       "  <tbody>\n",
       "    <tr>\n",
       "      <th>0</th>\n",
       "      <td>1000_0</td>\n",
       "      <td>2018-06-27</td>\n",
       "      <td>1000</td>\n",
       "    </tr>\n",
       "    <tr>\n",
       "      <th>1</th>\n",
       "      <td>1000_1</td>\n",
       "      <td>2018-10-08</td>\n",
       "      <td>1000</td>\n",
       "    </tr>\n",
       "    <tr>\n",
       "      <th>2</th>\n",
       "      <td>1000_2</td>\n",
       "      <td>2018-08-04</td>\n",
       "      <td>1000</td>\n",
       "    </tr>\n",
       "    <tr>\n",
       "      <th>3</th>\n",
       "      <td>1000_3</td>\n",
       "      <td>2018-06-16</td>\n",
       "      <td>1000</td>\n",
       "    </tr>\n",
       "    <tr>\n",
       "      <th>4</th>\n",
       "      <td>1000_4</td>\n",
       "      <td>2018-12-05</td>\n",
       "      <td>1000</td>\n",
       "    </tr>\n",
       "  </tbody>\n",
       "</table>\n",
       "</div>"
      ],
      "text/plain": [
       "       id message_date  user_id\n",
       "0  1000_0   2018-06-27     1000\n",
       "1  1000_1   2018-10-08     1000\n",
       "2  1000_2   2018-08-04     1000\n",
       "3  1000_3   2018-06-16     1000\n",
       "4  1000_4   2018-12-05     1000"
      ]
     },
     "execution_count": 16,
     "metadata": {},
     "output_type": "execute_result"
    }
   ],
   "source": [
    "messages.info()\n",
    "messages.head()"
   ]
  },
  {
   "cell_type": "markdown",
   "metadata": {},
   "source": [
    "Откорректируем тип данных даты"
   ]
  },
  {
   "cell_type": "code",
   "execution_count": 17,
   "metadata": {},
   "outputs": [],
   "source": [
    "messages['message_date'] = to_datetime(messages, 'message_date')"
   ]
  },
  {
   "cell_type": "markdown",
   "metadata": {},
   "source": [
    "Добавим столбец с месяцем"
   ]
  },
  {
   "cell_type": "code",
   "execution_count": 18,
   "metadata": {},
   "outputs": [],
   "source": [
    "messages['month'] = pd.DatetimeIndex(messages['message_date']).month"
   ]
  },
  {
   "cell_type": "markdown",
   "metadata": {},
   "source": [
    "Прjверим на наличие дубликатов"
   ]
  },
  {
   "cell_type": "code",
   "execution_count": 19,
   "metadata": {},
   "outputs": [
    {
     "data": {
      "text/plain": [
       "0"
      ]
     },
     "execution_count": 19,
     "metadata": {},
     "output_type": "execute_result"
    }
   ],
   "source": [
    "messages.duplicated().sum()"
   ]
  },
  {
   "cell_type": "markdown",
   "metadata": {},
   "source": [
    "### TARIFFS"
   ]
  },
  {
   "cell_type": "code",
   "execution_count": 20,
   "metadata": {},
   "outputs": [
    {
     "name": "stdout",
     "output_type": "stream",
     "text": [
      "<class 'pandas.core.frame.DataFrame'>\n",
      "RangeIndex: 2 entries, 0 to 1\n",
      "Data columns (total 8 columns):\n",
      " #   Column                 Non-Null Count  Dtype \n",
      "---  ------                 --------------  ----- \n",
      " 0   messages_included      2 non-null      int64 \n",
      " 1   mb_per_month_included  2 non-null      int64 \n",
      " 2   minutes_included       2 non-null      int64 \n",
      " 3   rub_monthly_fee        2 non-null      int64 \n",
      " 4   rub_per_gb             2 non-null      int64 \n",
      " 5   rub_per_message        2 non-null      int64 \n",
      " 6   rub_per_minute         2 non-null      int64 \n",
      " 7   tariff_name            2 non-null      object\n",
      "dtypes: int64(7), object(1)\n",
      "memory usage: 256.0+ bytes\n"
     ]
    },
    {
     "data": {
      "text/html": [
       "<div>\n",
       "<style scoped>\n",
       "    .dataframe tbody tr th:only-of-type {\n",
       "        vertical-align: middle;\n",
       "    }\n",
       "\n",
       "    .dataframe tbody tr th {\n",
       "        vertical-align: top;\n",
       "    }\n",
       "\n",
       "    .dataframe thead th {\n",
       "        text-align: right;\n",
       "    }\n",
       "</style>\n",
       "<table border=\"1\" class=\"dataframe\">\n",
       "  <thead>\n",
       "    <tr style=\"text-align: right;\">\n",
       "      <th></th>\n",
       "      <th>messages_included</th>\n",
       "      <th>mb_per_month_included</th>\n",
       "      <th>minutes_included</th>\n",
       "      <th>rub_monthly_fee</th>\n",
       "      <th>rub_per_gb</th>\n",
       "      <th>rub_per_message</th>\n",
       "      <th>rub_per_minute</th>\n",
       "      <th>tariff_name</th>\n",
       "    </tr>\n",
       "  </thead>\n",
       "  <tbody>\n",
       "    <tr>\n",
       "      <th>0</th>\n",
       "      <td>50</td>\n",
       "      <td>15360</td>\n",
       "      <td>500</td>\n",
       "      <td>550</td>\n",
       "      <td>200</td>\n",
       "      <td>3</td>\n",
       "      <td>3</td>\n",
       "      <td>smart</td>\n",
       "    </tr>\n",
       "    <tr>\n",
       "      <th>1</th>\n",
       "      <td>1000</td>\n",
       "      <td>30720</td>\n",
       "      <td>3000</td>\n",
       "      <td>1950</td>\n",
       "      <td>150</td>\n",
       "      <td>1</td>\n",
       "      <td>1</td>\n",
       "      <td>ultra</td>\n",
       "    </tr>\n",
       "  </tbody>\n",
       "</table>\n",
       "</div>"
      ],
      "text/plain": [
       "   messages_included  mb_per_month_included  minutes_included  \\\n",
       "0                 50                  15360               500   \n",
       "1               1000                  30720              3000   \n",
       "\n",
       "   rub_monthly_fee  rub_per_gb  rub_per_message  rub_per_minute tariff_name  \n",
       "0              550         200                3               3       smart  \n",
       "1             1950         150                1               1       ultra  "
      ]
     },
     "execution_count": 20,
     "metadata": {},
     "output_type": "execute_result"
    }
   ],
   "source": [
    "tariffs.info()\n",
    "tariffs.head()"
   ]
  },
  {
   "cell_type": "markdown",
   "metadata": {},
   "source": [
    "### USERS"
   ]
  },
  {
   "cell_type": "code",
   "execution_count": 21,
   "metadata": {
    "scrolled": false
   },
   "outputs": [
    {
     "name": "stdout",
     "output_type": "stream",
     "text": [
      "<class 'pandas.core.frame.DataFrame'>\n",
      "RangeIndex: 500 entries, 0 to 499\n",
      "Data columns (total 8 columns):\n",
      " #   Column      Non-Null Count  Dtype \n",
      "---  ------      --------------  ----- \n",
      " 0   user_id     500 non-null    int64 \n",
      " 1   age         500 non-null    int64 \n",
      " 2   churn_date  38 non-null     object\n",
      " 3   city        500 non-null    object\n",
      " 4   first_name  500 non-null    object\n",
      " 5   last_name   500 non-null    object\n",
      " 6   reg_date    500 non-null    object\n",
      " 7   tariff      500 non-null    object\n",
      "dtypes: int64(2), object(6)\n",
      "memory usage: 31.4+ KB\n"
     ]
    },
    {
     "data": {
      "text/html": [
       "<div>\n",
       "<style scoped>\n",
       "    .dataframe tbody tr th:only-of-type {\n",
       "        vertical-align: middle;\n",
       "    }\n",
       "\n",
       "    .dataframe tbody tr th {\n",
       "        vertical-align: top;\n",
       "    }\n",
       "\n",
       "    .dataframe thead th {\n",
       "        text-align: right;\n",
       "    }\n",
       "</style>\n",
       "<table border=\"1\" class=\"dataframe\">\n",
       "  <thead>\n",
       "    <tr style=\"text-align: right;\">\n",
       "      <th></th>\n",
       "      <th>user_id</th>\n",
       "      <th>age</th>\n",
       "      <th>churn_date</th>\n",
       "      <th>city</th>\n",
       "      <th>first_name</th>\n",
       "      <th>last_name</th>\n",
       "      <th>reg_date</th>\n",
       "      <th>tariff</th>\n",
       "    </tr>\n",
       "  </thead>\n",
       "  <tbody>\n",
       "    <tr>\n",
       "      <th>0</th>\n",
       "      <td>1000</td>\n",
       "      <td>52</td>\n",
       "      <td>NaN</td>\n",
       "      <td>Краснодар</td>\n",
       "      <td>Рафаил</td>\n",
       "      <td>Верещагин</td>\n",
       "      <td>2018-05-25</td>\n",
       "      <td>ultra</td>\n",
       "    </tr>\n",
       "    <tr>\n",
       "      <th>1</th>\n",
       "      <td>1001</td>\n",
       "      <td>41</td>\n",
       "      <td>NaN</td>\n",
       "      <td>Москва</td>\n",
       "      <td>Иван</td>\n",
       "      <td>Ежов</td>\n",
       "      <td>2018-11-01</td>\n",
       "      <td>smart</td>\n",
       "    </tr>\n",
       "    <tr>\n",
       "      <th>2</th>\n",
       "      <td>1002</td>\n",
       "      <td>59</td>\n",
       "      <td>NaN</td>\n",
       "      <td>Стерлитамак</td>\n",
       "      <td>Евгений</td>\n",
       "      <td>Абрамович</td>\n",
       "      <td>2018-06-17</td>\n",
       "      <td>smart</td>\n",
       "    </tr>\n",
       "    <tr>\n",
       "      <th>3</th>\n",
       "      <td>1003</td>\n",
       "      <td>23</td>\n",
       "      <td>NaN</td>\n",
       "      <td>Москва</td>\n",
       "      <td>Белла</td>\n",
       "      <td>Белякова</td>\n",
       "      <td>2018-08-17</td>\n",
       "      <td>ultra</td>\n",
       "    </tr>\n",
       "    <tr>\n",
       "      <th>4</th>\n",
       "      <td>1004</td>\n",
       "      <td>68</td>\n",
       "      <td>NaN</td>\n",
       "      <td>Новокузнецк</td>\n",
       "      <td>Татьяна</td>\n",
       "      <td>Авдеенко</td>\n",
       "      <td>2018-05-14</td>\n",
       "      <td>ultra</td>\n",
       "    </tr>\n",
       "  </tbody>\n",
       "</table>\n",
       "</div>"
      ],
      "text/plain": [
       "   user_id  age churn_date         city first_name  last_name    reg_date  \\\n",
       "0     1000   52        NaN    Краснодар     Рафаил  Верещагин  2018-05-25   \n",
       "1     1001   41        NaN       Москва       Иван       Ежов  2018-11-01   \n",
       "2     1002   59        NaN  Стерлитамак    Евгений  Абрамович  2018-06-17   \n",
       "3     1003   23        NaN       Москва      Белла   Белякова  2018-08-17   \n",
       "4     1004   68        NaN  Новокузнецк    Татьяна   Авдеенко  2018-05-14   \n",
       "\n",
       "  tariff  \n",
       "0  ultra  \n",
       "1  smart  \n",
       "2  smart  \n",
       "3  ultra  \n",
       "4  ultra  "
      ]
     },
     "execution_count": 21,
     "metadata": {},
     "output_type": "execute_result"
    }
   ],
   "source": [
    "users.info()\n",
    "users.head()"
   ]
  },
  {
   "cell_type": "markdown",
   "metadata": {},
   "source": [
    "Пропущенные значения в столбце 'churn_date' означают, что на момент выгрузки данных тариф еще действовал. Так как мы исследуем только 2018 год, заменим пропуски на 31.12.2018"
   ]
  },
  {
   "cell_type": "code",
   "execution_count": 22,
   "metadata": {},
   "outputs": [
    {
     "name": "stdout",
     "output_type": "stream",
     "text": [
      "<class 'pandas.core.frame.DataFrame'>\n",
      "RangeIndex: 500 entries, 0 to 499\n",
      "Data columns (total 8 columns):\n",
      " #   Column      Non-Null Count  Dtype \n",
      "---  ------      --------------  ----- \n",
      " 0   user_id     500 non-null    int64 \n",
      " 1   age         500 non-null    int64 \n",
      " 2   churn_date  500 non-null    object\n",
      " 3   city        500 non-null    object\n",
      " 4   first_name  500 non-null    object\n",
      " 5   last_name   500 non-null    object\n",
      " 6   reg_date    500 non-null    object\n",
      " 7   tariff      500 non-null    object\n",
      "dtypes: int64(2), object(6)\n",
      "memory usage: 31.4+ KB\n"
     ]
    }
   ],
   "source": [
    "users['churn_date'] = users['churn_date'].fillna('2018-12-31')\n",
    "users.info()"
   ]
  },
  {
   "cell_type": "markdown",
   "metadata": {},
   "source": [
    "Приведем дату прекращения пользования тарифом и дату подключения к корректному типу данных"
   ]
  },
  {
   "cell_type": "code",
   "execution_count": 23,
   "metadata": {},
   "outputs": [],
   "source": [
    "for i in ['churn_date', 'reg_date']:\n",
    "    users[i] = to_datetime(users, i)"
   ]
  },
  {
   "cell_type": "markdown",
   "metadata": {},
   "source": [
    "## Расчет помесячной выручки с каждого пользователя"
   ]
  },
  {
   "cell_type": "markdown",
   "metadata": {},
   "source": [
    "**Посчитаем для каждого пользователя количество израсходованных минут разговора по месяцам в сводной таблице**"
   ]
  },
  {
   "cell_type": "code",
   "execution_count": 24,
   "metadata": {},
   "outputs": [],
   "source": [
    "calls_pivot = calls.pivot_table(index=('user_id', 'month'), values='duration', aggfunc='sum').reset_index()"
   ]
  },
  {
   "cell_type": "code",
   "execution_count": 25,
   "metadata": {},
   "outputs": [
    {
     "data": {
      "text/html": [
       "<div>\n",
       "<style scoped>\n",
       "    .dataframe tbody tr th:only-of-type {\n",
       "        vertical-align: middle;\n",
       "    }\n",
       "\n",
       "    .dataframe tbody tr th {\n",
       "        vertical-align: top;\n",
       "    }\n",
       "\n",
       "    .dataframe thead th {\n",
       "        text-align: right;\n",
       "    }\n",
       "</style>\n",
       "<table border=\"1\" class=\"dataframe\">\n",
       "  <thead>\n",
       "    <tr style=\"text-align: right;\">\n",
       "      <th></th>\n",
       "      <th>user_id</th>\n",
       "      <th>month</th>\n",
       "      <th>duration</th>\n",
       "    </tr>\n",
       "  </thead>\n",
       "  <tbody>\n",
       "    <tr>\n",
       "      <th>0</th>\n",
       "      <td>1000</td>\n",
       "      <td>5</td>\n",
       "      <td>159</td>\n",
       "    </tr>\n",
       "    <tr>\n",
       "      <th>1</th>\n",
       "      <td>1000</td>\n",
       "      <td>6</td>\n",
       "      <td>172</td>\n",
       "    </tr>\n",
       "    <tr>\n",
       "      <th>2</th>\n",
       "      <td>1000</td>\n",
       "      <td>7</td>\n",
       "      <td>340</td>\n",
       "    </tr>\n",
       "    <tr>\n",
       "      <th>3</th>\n",
       "      <td>1000</td>\n",
       "      <td>8</td>\n",
       "      <td>408</td>\n",
       "    </tr>\n",
       "    <tr>\n",
       "      <th>4</th>\n",
       "      <td>1000</td>\n",
       "      <td>9</td>\n",
       "      <td>466</td>\n",
       "    </tr>\n",
       "    <tr>\n",
       "      <th>...</th>\n",
       "      <td>...</td>\n",
       "      <td>...</td>\n",
       "      <td>...</td>\n",
       "    </tr>\n",
       "    <tr>\n",
       "      <th>3169</th>\n",
       "      <td>1498</td>\n",
       "      <td>10</td>\n",
       "      <td>247</td>\n",
       "    </tr>\n",
       "    <tr>\n",
       "      <th>3170</th>\n",
       "      <td>1499</td>\n",
       "      <td>9</td>\n",
       "      <td>70</td>\n",
       "    </tr>\n",
       "    <tr>\n",
       "      <th>3171</th>\n",
       "      <td>1499</td>\n",
       "      <td>10</td>\n",
       "      <td>449</td>\n",
       "    </tr>\n",
       "    <tr>\n",
       "      <th>3172</th>\n",
       "      <td>1499</td>\n",
       "      <td>11</td>\n",
       "      <td>612</td>\n",
       "    </tr>\n",
       "    <tr>\n",
       "      <th>3173</th>\n",
       "      <td>1499</td>\n",
       "      <td>12</td>\n",
       "      <td>492</td>\n",
       "    </tr>\n",
       "  </tbody>\n",
       "</table>\n",
       "<p>3174 rows × 3 columns</p>\n",
       "</div>"
      ],
      "text/plain": [
       "      user_id  month  duration\n",
       "0        1000      5       159\n",
       "1        1000      6       172\n",
       "2        1000      7       340\n",
       "3        1000      8       408\n",
       "4        1000      9       466\n",
       "...       ...    ...       ...\n",
       "3169     1498     10       247\n",
       "3170     1499      9        70\n",
       "3171     1499     10       449\n",
       "3172     1499     11       612\n",
       "3173     1499     12       492\n",
       "\n",
       "[3174 rows x 3 columns]"
      ]
     },
     "execution_count": 25,
     "metadata": {},
     "output_type": "execute_result"
    }
   ],
   "source": [
    "calls_pivot"
   ]
  },
  {
   "cell_type": "markdown",
   "metadata": {},
   "source": [
    "**Посчитаем для каждого пользователя количество отправленных сообщений по месяцам**"
   ]
  },
  {
   "cell_type": "code",
   "execution_count": 26,
   "metadata": {},
   "outputs": [],
   "source": [
    "messages_pivot = messages.pivot_table(index=('user_id', 'month'), values='id', aggfunc='count').reset_index()"
   ]
  },
  {
   "cell_type": "code",
   "execution_count": 27,
   "metadata": {},
   "outputs": [
    {
     "data": {
      "text/html": [
       "<div>\n",
       "<style scoped>\n",
       "    .dataframe tbody tr th:only-of-type {\n",
       "        vertical-align: middle;\n",
       "    }\n",
       "\n",
       "    .dataframe tbody tr th {\n",
       "        vertical-align: top;\n",
       "    }\n",
       "\n",
       "    .dataframe thead th {\n",
       "        text-align: right;\n",
       "    }\n",
       "</style>\n",
       "<table border=\"1\" class=\"dataframe\">\n",
       "  <thead>\n",
       "    <tr style=\"text-align: right;\">\n",
       "      <th></th>\n",
       "      <th>user_id</th>\n",
       "      <th>month</th>\n",
       "      <th>id</th>\n",
       "    </tr>\n",
       "  </thead>\n",
       "  <tbody>\n",
       "    <tr>\n",
       "      <th>0</th>\n",
       "      <td>1000</td>\n",
       "      <td>5</td>\n",
       "      <td>22</td>\n",
       "    </tr>\n",
       "    <tr>\n",
       "      <th>1</th>\n",
       "      <td>1000</td>\n",
       "      <td>6</td>\n",
       "      <td>60</td>\n",
       "    </tr>\n",
       "    <tr>\n",
       "      <th>2</th>\n",
       "      <td>1000</td>\n",
       "      <td>7</td>\n",
       "      <td>75</td>\n",
       "    </tr>\n",
       "    <tr>\n",
       "      <th>3</th>\n",
       "      <td>1000</td>\n",
       "      <td>8</td>\n",
       "      <td>81</td>\n",
       "    </tr>\n",
       "    <tr>\n",
       "      <th>4</th>\n",
       "      <td>1000</td>\n",
       "      <td>9</td>\n",
       "      <td>57</td>\n",
       "    </tr>\n",
       "    <tr>\n",
       "      <th>...</th>\n",
       "      <td>...</td>\n",
       "      <td>...</td>\n",
       "      <td>...</td>\n",
       "    </tr>\n",
       "    <tr>\n",
       "      <th>2712</th>\n",
       "      <td>1498</td>\n",
       "      <td>10</td>\n",
       "      <td>42</td>\n",
       "    </tr>\n",
       "    <tr>\n",
       "      <th>2713</th>\n",
       "      <td>1499</td>\n",
       "      <td>9</td>\n",
       "      <td>11</td>\n",
       "    </tr>\n",
       "    <tr>\n",
       "      <th>2714</th>\n",
       "      <td>1499</td>\n",
       "      <td>10</td>\n",
       "      <td>48</td>\n",
       "    </tr>\n",
       "    <tr>\n",
       "      <th>2715</th>\n",
       "      <td>1499</td>\n",
       "      <td>11</td>\n",
       "      <td>59</td>\n",
       "    </tr>\n",
       "    <tr>\n",
       "      <th>2716</th>\n",
       "      <td>1499</td>\n",
       "      <td>12</td>\n",
       "      <td>66</td>\n",
       "    </tr>\n",
       "  </tbody>\n",
       "</table>\n",
       "<p>2717 rows × 3 columns</p>\n",
       "</div>"
      ],
      "text/plain": [
       "      user_id  month  id\n",
       "0        1000      5  22\n",
       "1        1000      6  60\n",
       "2        1000      7  75\n",
       "3        1000      8  81\n",
       "4        1000      9  57\n",
       "...       ...    ...  ..\n",
       "2712     1498     10  42\n",
       "2713     1499      9  11\n",
       "2714     1499     10  48\n",
       "2715     1499     11  59\n",
       "2716     1499     12  66\n",
       "\n",
       "[2717 rows x 3 columns]"
      ]
     },
     "execution_count": 27,
     "metadata": {},
     "output_type": "execute_result"
    }
   ],
   "source": [
    "messages_pivot"
   ]
  },
  {
   "cell_type": "markdown",
   "metadata": {},
   "source": [
    "**Посчитаем для каждого пользователя объем израсходованного интернет-трафика по месяцам**"
   ]
  },
  {
   "cell_type": "code",
   "execution_count": 28,
   "metadata": {},
   "outputs": [],
   "source": [
    "internet_pivot = internet.pivot_table(index=('user_id', 'month'), values='mb_used', aggfunc='sum').reset_index()"
   ]
  },
  {
   "cell_type": "code",
   "execution_count": 29,
   "metadata": {},
   "outputs": [
    {
     "data": {
      "text/html": [
       "<div>\n",
       "<style scoped>\n",
       "    .dataframe tbody tr th:only-of-type {\n",
       "        vertical-align: middle;\n",
       "    }\n",
       "\n",
       "    .dataframe tbody tr th {\n",
       "        vertical-align: top;\n",
       "    }\n",
       "\n",
       "    .dataframe thead th {\n",
       "        text-align: right;\n",
       "    }\n",
       "</style>\n",
       "<table border=\"1\" class=\"dataframe\">\n",
       "  <thead>\n",
       "    <tr style=\"text-align: right;\">\n",
       "      <th></th>\n",
       "      <th>user_id</th>\n",
       "      <th>month</th>\n",
       "      <th>mb_used</th>\n",
       "    </tr>\n",
       "  </thead>\n",
       "  <tbody>\n",
       "    <tr>\n",
       "      <th>0</th>\n",
       "      <td>1000</td>\n",
       "      <td>5</td>\n",
       "      <td>2253.49</td>\n",
       "    </tr>\n",
       "    <tr>\n",
       "      <th>1</th>\n",
       "      <td>1000</td>\n",
       "      <td>6</td>\n",
       "      <td>23233.77</td>\n",
       "    </tr>\n",
       "    <tr>\n",
       "      <th>2</th>\n",
       "      <td>1000</td>\n",
       "      <td>7</td>\n",
       "      <td>14003.64</td>\n",
       "    </tr>\n",
       "    <tr>\n",
       "      <th>3</th>\n",
       "      <td>1000</td>\n",
       "      <td>8</td>\n",
       "      <td>14055.93</td>\n",
       "    </tr>\n",
       "    <tr>\n",
       "      <th>4</th>\n",
       "      <td>1000</td>\n",
       "      <td>9</td>\n",
       "      <td>14568.91</td>\n",
       "    </tr>\n",
       "    <tr>\n",
       "      <th>...</th>\n",
       "      <td>...</td>\n",
       "      <td>...</td>\n",
       "      <td>...</td>\n",
       "    </tr>\n",
       "    <tr>\n",
       "      <th>3198</th>\n",
       "      <td>1498</td>\n",
       "      <td>10</td>\n",
       "      <td>20579.36</td>\n",
       "    </tr>\n",
       "    <tr>\n",
       "      <th>3199</th>\n",
       "      <td>1499</td>\n",
       "      <td>9</td>\n",
       "      <td>1845.75</td>\n",
       "    </tr>\n",
       "    <tr>\n",
       "      <th>3200</th>\n",
       "      <td>1499</td>\n",
       "      <td>10</td>\n",
       "      <td>17788.51</td>\n",
       "    </tr>\n",
       "    <tr>\n",
       "      <th>3201</th>\n",
       "      <td>1499</td>\n",
       "      <td>11</td>\n",
       "      <td>17963.31</td>\n",
       "    </tr>\n",
       "    <tr>\n",
       "      <th>3202</th>\n",
       "      <td>1499</td>\n",
       "      <td>12</td>\n",
       "      <td>13055.58</td>\n",
       "    </tr>\n",
       "  </tbody>\n",
       "</table>\n",
       "<p>3203 rows × 3 columns</p>\n",
       "</div>"
      ],
      "text/plain": [
       "      user_id  month   mb_used\n",
       "0        1000      5   2253.49\n",
       "1        1000      6  23233.77\n",
       "2        1000      7  14003.64\n",
       "3        1000      8  14055.93\n",
       "4        1000      9  14568.91\n",
       "...       ...    ...       ...\n",
       "3198     1498     10  20579.36\n",
       "3199     1499      9   1845.75\n",
       "3200     1499     10  17788.51\n",
       "3201     1499     11  17963.31\n",
       "3202     1499     12  13055.58\n",
       "\n",
       "[3203 rows x 3 columns]"
      ]
     },
     "execution_count": 29,
     "metadata": {},
     "output_type": "execute_result"
    }
   ],
   "source": [
    "internet_pivot"
   ]
  },
  {
   "cell_type": "markdown",
   "metadata": {},
   "source": [
    "**Добавим к датафрейму users столбцы с номером месяца подключения тарифа и месяца прекращения пользования тарифом**"
   ]
  },
  {
   "cell_type": "code",
   "execution_count": 30,
   "metadata": {},
   "outputs": [],
   "source": [
    "users['reg_month'] = pd.DatetimeIndex(users['reg_date']).month\n",
    "users['churn_month'] = pd.DatetimeIndex(users['churn_date']).month"
   ]
  },
  {
   "cell_type": "code",
   "execution_count": 31,
   "metadata": {
    "scrolled": false
   },
   "outputs": [
    {
     "data": {
      "text/html": [
       "<div>\n",
       "<style scoped>\n",
       "    .dataframe tbody tr th:only-of-type {\n",
       "        vertical-align: middle;\n",
       "    }\n",
       "\n",
       "    .dataframe tbody tr th {\n",
       "        vertical-align: top;\n",
       "    }\n",
       "\n",
       "    .dataframe thead th {\n",
       "        text-align: right;\n",
       "    }\n",
       "</style>\n",
       "<table border=\"1\" class=\"dataframe\">\n",
       "  <thead>\n",
       "    <tr style=\"text-align: right;\">\n",
       "      <th></th>\n",
       "      <th>user_id</th>\n",
       "      <th>age</th>\n",
       "      <th>churn_date</th>\n",
       "      <th>city</th>\n",
       "      <th>first_name</th>\n",
       "      <th>last_name</th>\n",
       "      <th>reg_date</th>\n",
       "      <th>tariff</th>\n",
       "      <th>reg_month</th>\n",
       "      <th>churn_month</th>\n",
       "    </tr>\n",
       "  </thead>\n",
       "  <tbody>\n",
       "    <tr>\n",
       "      <th>0</th>\n",
       "      <td>1000</td>\n",
       "      <td>52</td>\n",
       "      <td>2018-12-31</td>\n",
       "      <td>Краснодар</td>\n",
       "      <td>Рафаил</td>\n",
       "      <td>Верещагин</td>\n",
       "      <td>2018-05-25</td>\n",
       "      <td>ultra</td>\n",
       "      <td>5</td>\n",
       "      <td>12</td>\n",
       "    </tr>\n",
       "    <tr>\n",
       "      <th>1</th>\n",
       "      <td>1001</td>\n",
       "      <td>41</td>\n",
       "      <td>2018-12-31</td>\n",
       "      <td>Москва</td>\n",
       "      <td>Иван</td>\n",
       "      <td>Ежов</td>\n",
       "      <td>2018-11-01</td>\n",
       "      <td>smart</td>\n",
       "      <td>11</td>\n",
       "      <td>12</td>\n",
       "    </tr>\n",
       "    <tr>\n",
       "      <th>2</th>\n",
       "      <td>1002</td>\n",
       "      <td>59</td>\n",
       "      <td>2018-12-31</td>\n",
       "      <td>Стерлитамак</td>\n",
       "      <td>Евгений</td>\n",
       "      <td>Абрамович</td>\n",
       "      <td>2018-06-17</td>\n",
       "      <td>smart</td>\n",
       "      <td>6</td>\n",
       "      <td>12</td>\n",
       "    </tr>\n",
       "    <tr>\n",
       "      <th>3</th>\n",
       "      <td>1003</td>\n",
       "      <td>23</td>\n",
       "      <td>2018-12-31</td>\n",
       "      <td>Москва</td>\n",
       "      <td>Белла</td>\n",
       "      <td>Белякова</td>\n",
       "      <td>2018-08-17</td>\n",
       "      <td>ultra</td>\n",
       "      <td>8</td>\n",
       "      <td>12</td>\n",
       "    </tr>\n",
       "    <tr>\n",
       "      <th>4</th>\n",
       "      <td>1004</td>\n",
       "      <td>68</td>\n",
       "      <td>2018-12-31</td>\n",
       "      <td>Новокузнецк</td>\n",
       "      <td>Татьяна</td>\n",
       "      <td>Авдеенко</td>\n",
       "      <td>2018-05-14</td>\n",
       "      <td>ultra</td>\n",
       "      <td>5</td>\n",
       "      <td>12</td>\n",
       "    </tr>\n",
       "    <tr>\n",
       "      <th>...</th>\n",
       "      <td>...</td>\n",
       "      <td>...</td>\n",
       "      <td>...</td>\n",
       "      <td>...</td>\n",
       "      <td>...</td>\n",
       "      <td>...</td>\n",
       "      <td>...</td>\n",
       "      <td>...</td>\n",
       "      <td>...</td>\n",
       "      <td>...</td>\n",
       "    </tr>\n",
       "    <tr>\n",
       "      <th>495</th>\n",
       "      <td>1495</td>\n",
       "      <td>65</td>\n",
       "      <td>2018-12-31</td>\n",
       "      <td>Иркутск</td>\n",
       "      <td>Авксентий</td>\n",
       "      <td>Фокин</td>\n",
       "      <td>2018-08-28</td>\n",
       "      <td>ultra</td>\n",
       "      <td>8</td>\n",
       "      <td>12</td>\n",
       "    </tr>\n",
       "    <tr>\n",
       "      <th>496</th>\n",
       "      <td>1496</td>\n",
       "      <td>36</td>\n",
       "      <td>2018-12-31</td>\n",
       "      <td>Вологда</td>\n",
       "      <td>Трифон</td>\n",
       "      <td>Блохин</td>\n",
       "      <td>2018-01-27</td>\n",
       "      <td>smart</td>\n",
       "      <td>1</td>\n",
       "      <td>12</td>\n",
       "    </tr>\n",
       "    <tr>\n",
       "      <th>497</th>\n",
       "      <td>1497</td>\n",
       "      <td>32</td>\n",
       "      <td>2018-12-31</td>\n",
       "      <td>Челябинск</td>\n",
       "      <td>Каролина</td>\n",
       "      <td>Агеева</td>\n",
       "      <td>2018-10-09</td>\n",
       "      <td>smart</td>\n",
       "      <td>10</td>\n",
       "      <td>12</td>\n",
       "    </tr>\n",
       "    <tr>\n",
       "      <th>498</th>\n",
       "      <td>1498</td>\n",
       "      <td>68</td>\n",
       "      <td>2018-10-25</td>\n",
       "      <td>Владикавказ</td>\n",
       "      <td>Всеволод</td>\n",
       "      <td>Акимчин</td>\n",
       "      <td>2018-07-19</td>\n",
       "      <td>smart</td>\n",
       "      <td>7</td>\n",
       "      <td>10</td>\n",
       "    </tr>\n",
       "    <tr>\n",
       "      <th>499</th>\n",
       "      <td>1499</td>\n",
       "      <td>35</td>\n",
       "      <td>2018-12-31</td>\n",
       "      <td>Пермь</td>\n",
       "      <td>Гектор</td>\n",
       "      <td>Корнилов</td>\n",
       "      <td>2018-09-27</td>\n",
       "      <td>smart</td>\n",
       "      <td>9</td>\n",
       "      <td>12</td>\n",
       "    </tr>\n",
       "  </tbody>\n",
       "</table>\n",
       "<p>500 rows × 10 columns</p>\n",
       "</div>"
      ],
      "text/plain": [
       "     user_id  age churn_date         city first_name  last_name   reg_date  \\\n",
       "0       1000   52 2018-12-31    Краснодар     Рафаил  Верещагин 2018-05-25   \n",
       "1       1001   41 2018-12-31       Москва       Иван       Ежов 2018-11-01   \n",
       "2       1002   59 2018-12-31  Стерлитамак    Евгений  Абрамович 2018-06-17   \n",
       "3       1003   23 2018-12-31       Москва      Белла   Белякова 2018-08-17   \n",
       "4       1004   68 2018-12-31  Новокузнецк    Татьяна   Авдеенко 2018-05-14   \n",
       "..       ...  ...        ...          ...        ...        ...        ...   \n",
       "495     1495   65 2018-12-31      Иркутск  Авксентий      Фокин 2018-08-28   \n",
       "496     1496   36 2018-12-31      Вологда     Трифон     Блохин 2018-01-27   \n",
       "497     1497   32 2018-12-31    Челябинск   Каролина     Агеева 2018-10-09   \n",
       "498     1498   68 2018-10-25  Владикавказ   Всеволод    Акимчин 2018-07-19   \n",
       "499     1499   35 2018-12-31        Пермь     Гектор   Корнилов 2018-09-27   \n",
       "\n",
       "    tariff  reg_month  churn_month  \n",
       "0    ultra          5           12  \n",
       "1    smart         11           12  \n",
       "2    smart          6           12  \n",
       "3    ultra          8           12  \n",
       "4    ultra          5           12  \n",
       "..     ...        ...          ...  \n",
       "495  ultra          8           12  \n",
       "496  smart          1           12  \n",
       "497  smart         10           12  \n",
       "498  smart          7           10  \n",
       "499  smart          9           12  \n",
       "\n",
       "[500 rows x 10 columns]"
      ]
     },
     "execution_count": 31,
     "metadata": {},
     "output_type": "execute_result"
    }
   ],
   "source": [
    "users"
   ]
  },
  {
   "cell_type": "markdown",
   "metadata": {},
   "source": [
    "Сперва объединим данные по объему потраченного трафика и продолжительности звонков"
   ]
  },
  {
   "cell_type": "code",
   "execution_count": 32,
   "metadata": {},
   "outputs": [],
   "source": [
    "svod = calls_pivot.merge(internet_pivot, on=('user_id', 'month'), how='outer') "
   ]
  },
  {
   "cell_type": "markdown",
   "metadata": {},
   "source": [
    "Добавим количество отправленных сообщений"
   ]
  },
  {
   "cell_type": "code",
   "execution_count": 33,
   "metadata": {},
   "outputs": [],
   "source": [
    "svod = svod.merge(messages_pivot, on=('user_id', 'month'), how='outer') "
   ]
  },
  {
   "cell_type": "code",
   "execution_count": 34,
   "metadata": {},
   "outputs": [
    {
     "data": {
      "text/html": [
       "<div>\n",
       "<style scoped>\n",
       "    .dataframe tbody tr th:only-of-type {\n",
       "        vertical-align: middle;\n",
       "    }\n",
       "\n",
       "    .dataframe tbody tr th {\n",
       "        vertical-align: top;\n",
       "    }\n",
       "\n",
       "    .dataframe thead th {\n",
       "        text-align: right;\n",
       "    }\n",
       "</style>\n",
       "<table border=\"1\" class=\"dataframe\">\n",
       "  <thead>\n",
       "    <tr style=\"text-align: right;\">\n",
       "      <th></th>\n",
       "      <th>user_id</th>\n",
       "      <th>month</th>\n",
       "      <th>duration</th>\n",
       "      <th>mb_used</th>\n",
       "      <th>id</th>\n",
       "    </tr>\n",
       "  </thead>\n",
       "  <tbody>\n",
       "    <tr>\n",
       "      <th>0</th>\n",
       "      <td>1000</td>\n",
       "      <td>5</td>\n",
       "      <td>159.0</td>\n",
       "      <td>2253.49</td>\n",
       "      <td>22.0</td>\n",
       "    </tr>\n",
       "    <tr>\n",
       "      <th>1</th>\n",
       "      <td>1000</td>\n",
       "      <td>6</td>\n",
       "      <td>172.0</td>\n",
       "      <td>23233.77</td>\n",
       "      <td>60.0</td>\n",
       "    </tr>\n",
       "    <tr>\n",
       "      <th>2</th>\n",
       "      <td>1000</td>\n",
       "      <td>7</td>\n",
       "      <td>340.0</td>\n",
       "      <td>14003.64</td>\n",
       "      <td>75.0</td>\n",
       "    </tr>\n",
       "    <tr>\n",
       "      <th>3</th>\n",
       "      <td>1000</td>\n",
       "      <td>8</td>\n",
       "      <td>408.0</td>\n",
       "      <td>14055.93</td>\n",
       "      <td>81.0</td>\n",
       "    </tr>\n",
       "    <tr>\n",
       "      <th>4</th>\n",
       "      <td>1000</td>\n",
       "      <td>9</td>\n",
       "      <td>466.0</td>\n",
       "      <td>14568.91</td>\n",
       "      <td>57.0</td>\n",
       "    </tr>\n",
       "    <tr>\n",
       "      <th>...</th>\n",
       "      <td>...</td>\n",
       "      <td>...</td>\n",
       "      <td>...</td>\n",
       "      <td>...</td>\n",
       "      <td>...</td>\n",
       "    </tr>\n",
       "    <tr>\n",
       "      <th>3209</th>\n",
       "      <td>1489</td>\n",
       "      <td>8</td>\n",
       "      <td>NaN</td>\n",
       "      <td>11050.56</td>\n",
       "      <td>17.0</td>\n",
       "    </tr>\n",
       "    <tr>\n",
       "      <th>3210</th>\n",
       "      <td>1489</td>\n",
       "      <td>9</td>\n",
       "      <td>NaN</td>\n",
       "      <td>17206.30</td>\n",
       "      <td>32.0</td>\n",
       "    </tr>\n",
       "    <tr>\n",
       "      <th>3211</th>\n",
       "      <td>1489</td>\n",
       "      <td>10</td>\n",
       "      <td>NaN</td>\n",
       "      <td>19559.44</td>\n",
       "      <td>21.0</td>\n",
       "    </tr>\n",
       "    <tr>\n",
       "      <th>3212</th>\n",
       "      <td>1489</td>\n",
       "      <td>11</td>\n",
       "      <td>NaN</td>\n",
       "      <td>17491.56</td>\n",
       "      <td>20.0</td>\n",
       "    </tr>\n",
       "    <tr>\n",
       "      <th>3213</th>\n",
       "      <td>1489</td>\n",
       "      <td>12</td>\n",
       "      <td>NaN</td>\n",
       "      <td>17322.51</td>\n",
       "      <td>35.0</td>\n",
       "    </tr>\n",
       "  </tbody>\n",
       "</table>\n",
       "<p>3214 rows × 5 columns</p>\n",
       "</div>"
      ],
      "text/plain": [
       "      user_id  month  duration   mb_used    id\n",
       "0        1000      5     159.0   2253.49  22.0\n",
       "1        1000      6     172.0  23233.77  60.0\n",
       "2        1000      7     340.0  14003.64  75.0\n",
       "3        1000      8     408.0  14055.93  81.0\n",
       "4        1000      9     466.0  14568.91  57.0\n",
       "...       ...    ...       ...       ...   ...\n",
       "3209     1489      8       NaN  11050.56  17.0\n",
       "3210     1489      9       NaN  17206.30  32.0\n",
       "3211     1489     10       NaN  19559.44  21.0\n",
       "3212     1489     11       NaN  17491.56  20.0\n",
       "3213     1489     12       NaN  17322.51  35.0\n",
       "\n",
       "[3214 rows x 5 columns]"
      ]
     },
     "execution_count": 34,
     "metadata": {},
     "output_type": "execute_result"
    }
   ],
   "source": [
    "svod"
   ]
  },
  {
   "cell_type": "markdown",
   "metadata": {},
   "source": [
    "Объединим полученную сводную таблицу с информацией о пользователях"
   ]
  },
  {
   "cell_type": "code",
   "execution_count": 35,
   "metadata": {},
   "outputs": [],
   "source": [
    "svod = users.merge(svod, on='user_id', how='outer')"
   ]
  },
  {
   "cell_type": "code",
   "execution_count": 36,
   "metadata": {},
   "outputs": [
    {
     "data": {
      "text/html": [
       "<div>\n",
       "<style scoped>\n",
       "    .dataframe tbody tr th:only-of-type {\n",
       "        vertical-align: middle;\n",
       "    }\n",
       "\n",
       "    .dataframe tbody tr th {\n",
       "        vertical-align: top;\n",
       "    }\n",
       "\n",
       "    .dataframe thead th {\n",
       "        text-align: right;\n",
       "    }\n",
       "</style>\n",
       "<table border=\"1\" class=\"dataframe\">\n",
       "  <thead>\n",
       "    <tr style=\"text-align: right;\">\n",
       "      <th></th>\n",
       "      <th>user_id</th>\n",
       "      <th>age</th>\n",
       "      <th>churn_date</th>\n",
       "      <th>city</th>\n",
       "      <th>first_name</th>\n",
       "      <th>last_name</th>\n",
       "      <th>reg_date</th>\n",
       "      <th>tariff</th>\n",
       "      <th>reg_month</th>\n",
       "      <th>churn_month</th>\n",
       "      <th>month</th>\n",
       "      <th>duration</th>\n",
       "      <th>mb_used</th>\n",
       "      <th>id</th>\n",
       "    </tr>\n",
       "  </thead>\n",
       "  <tbody>\n",
       "    <tr>\n",
       "      <th>0</th>\n",
       "      <td>1000</td>\n",
       "      <td>52</td>\n",
       "      <td>2018-12-31</td>\n",
       "      <td>Краснодар</td>\n",
       "      <td>Рафаил</td>\n",
       "      <td>Верещагин</td>\n",
       "      <td>2018-05-25</td>\n",
       "      <td>ultra</td>\n",
       "      <td>5</td>\n",
       "      <td>12</td>\n",
       "      <td>5.0</td>\n",
       "      <td>159.0</td>\n",
       "      <td>2253.49</td>\n",
       "      <td>22.0</td>\n",
       "    </tr>\n",
       "    <tr>\n",
       "      <th>1</th>\n",
       "      <td>1000</td>\n",
       "      <td>52</td>\n",
       "      <td>2018-12-31</td>\n",
       "      <td>Краснодар</td>\n",
       "      <td>Рафаил</td>\n",
       "      <td>Верещагин</td>\n",
       "      <td>2018-05-25</td>\n",
       "      <td>ultra</td>\n",
       "      <td>5</td>\n",
       "      <td>12</td>\n",
       "      <td>6.0</td>\n",
       "      <td>172.0</td>\n",
       "      <td>23233.77</td>\n",
       "      <td>60.0</td>\n",
       "    </tr>\n",
       "    <tr>\n",
       "      <th>2</th>\n",
       "      <td>1000</td>\n",
       "      <td>52</td>\n",
       "      <td>2018-12-31</td>\n",
       "      <td>Краснодар</td>\n",
       "      <td>Рафаил</td>\n",
       "      <td>Верещагин</td>\n",
       "      <td>2018-05-25</td>\n",
       "      <td>ultra</td>\n",
       "      <td>5</td>\n",
       "      <td>12</td>\n",
       "      <td>7.0</td>\n",
       "      <td>340.0</td>\n",
       "      <td>14003.64</td>\n",
       "      <td>75.0</td>\n",
       "    </tr>\n",
       "    <tr>\n",
       "      <th>3</th>\n",
       "      <td>1000</td>\n",
       "      <td>52</td>\n",
       "      <td>2018-12-31</td>\n",
       "      <td>Краснодар</td>\n",
       "      <td>Рафаил</td>\n",
       "      <td>Верещагин</td>\n",
       "      <td>2018-05-25</td>\n",
       "      <td>ultra</td>\n",
       "      <td>5</td>\n",
       "      <td>12</td>\n",
       "      <td>8.0</td>\n",
       "      <td>408.0</td>\n",
       "      <td>14055.93</td>\n",
       "      <td>81.0</td>\n",
       "    </tr>\n",
       "    <tr>\n",
       "      <th>4</th>\n",
       "      <td>1000</td>\n",
       "      <td>52</td>\n",
       "      <td>2018-12-31</td>\n",
       "      <td>Краснодар</td>\n",
       "      <td>Рафаил</td>\n",
       "      <td>Верещагин</td>\n",
       "      <td>2018-05-25</td>\n",
       "      <td>ultra</td>\n",
       "      <td>5</td>\n",
       "      <td>12</td>\n",
       "      <td>9.0</td>\n",
       "      <td>466.0</td>\n",
       "      <td>14568.91</td>\n",
       "      <td>57.0</td>\n",
       "    </tr>\n",
       "    <tr>\n",
       "      <th>...</th>\n",
       "      <td>...</td>\n",
       "      <td>...</td>\n",
       "      <td>...</td>\n",
       "      <td>...</td>\n",
       "      <td>...</td>\n",
       "      <td>...</td>\n",
       "      <td>...</td>\n",
       "      <td>...</td>\n",
       "      <td>...</td>\n",
       "      <td>...</td>\n",
       "      <td>...</td>\n",
       "      <td>...</td>\n",
       "      <td>...</td>\n",
       "      <td>...</td>\n",
       "    </tr>\n",
       "    <tr>\n",
       "      <th>3211</th>\n",
       "      <td>1498</td>\n",
       "      <td>68</td>\n",
       "      <td>2018-10-25</td>\n",
       "      <td>Владикавказ</td>\n",
       "      <td>Всеволод</td>\n",
       "      <td>Акимчин</td>\n",
       "      <td>2018-07-19</td>\n",
       "      <td>smart</td>\n",
       "      <td>7</td>\n",
       "      <td>10</td>\n",
       "      <td>10.0</td>\n",
       "      <td>247.0</td>\n",
       "      <td>20579.36</td>\n",
       "      <td>42.0</td>\n",
       "    </tr>\n",
       "    <tr>\n",
       "      <th>3212</th>\n",
       "      <td>1499</td>\n",
       "      <td>35</td>\n",
       "      <td>2018-12-31</td>\n",
       "      <td>Пермь</td>\n",
       "      <td>Гектор</td>\n",
       "      <td>Корнилов</td>\n",
       "      <td>2018-09-27</td>\n",
       "      <td>smart</td>\n",
       "      <td>9</td>\n",
       "      <td>12</td>\n",
       "      <td>9.0</td>\n",
       "      <td>70.0</td>\n",
       "      <td>1845.75</td>\n",
       "      <td>11.0</td>\n",
       "    </tr>\n",
       "    <tr>\n",
       "      <th>3213</th>\n",
       "      <td>1499</td>\n",
       "      <td>35</td>\n",
       "      <td>2018-12-31</td>\n",
       "      <td>Пермь</td>\n",
       "      <td>Гектор</td>\n",
       "      <td>Корнилов</td>\n",
       "      <td>2018-09-27</td>\n",
       "      <td>smart</td>\n",
       "      <td>9</td>\n",
       "      <td>12</td>\n",
       "      <td>10.0</td>\n",
       "      <td>449.0</td>\n",
       "      <td>17788.51</td>\n",
       "      <td>48.0</td>\n",
       "    </tr>\n",
       "    <tr>\n",
       "      <th>3214</th>\n",
       "      <td>1499</td>\n",
       "      <td>35</td>\n",
       "      <td>2018-12-31</td>\n",
       "      <td>Пермь</td>\n",
       "      <td>Гектор</td>\n",
       "      <td>Корнилов</td>\n",
       "      <td>2018-09-27</td>\n",
       "      <td>smart</td>\n",
       "      <td>9</td>\n",
       "      <td>12</td>\n",
       "      <td>11.0</td>\n",
       "      <td>612.0</td>\n",
       "      <td>17963.31</td>\n",
       "      <td>59.0</td>\n",
       "    </tr>\n",
       "    <tr>\n",
       "      <th>3215</th>\n",
       "      <td>1499</td>\n",
       "      <td>35</td>\n",
       "      <td>2018-12-31</td>\n",
       "      <td>Пермь</td>\n",
       "      <td>Гектор</td>\n",
       "      <td>Корнилов</td>\n",
       "      <td>2018-09-27</td>\n",
       "      <td>smart</td>\n",
       "      <td>9</td>\n",
       "      <td>12</td>\n",
       "      <td>12.0</td>\n",
       "      <td>492.0</td>\n",
       "      <td>13055.58</td>\n",
       "      <td>66.0</td>\n",
       "    </tr>\n",
       "  </tbody>\n",
       "</table>\n",
       "<p>3216 rows × 14 columns</p>\n",
       "</div>"
      ],
      "text/plain": [
       "      user_id  age churn_date         city first_name  last_name   reg_date  \\\n",
       "0        1000   52 2018-12-31    Краснодар     Рафаил  Верещагин 2018-05-25   \n",
       "1        1000   52 2018-12-31    Краснодар     Рафаил  Верещагин 2018-05-25   \n",
       "2        1000   52 2018-12-31    Краснодар     Рафаил  Верещагин 2018-05-25   \n",
       "3        1000   52 2018-12-31    Краснодар     Рафаил  Верещагин 2018-05-25   \n",
       "4        1000   52 2018-12-31    Краснодар     Рафаил  Верещагин 2018-05-25   \n",
       "...       ...  ...        ...          ...        ...        ...        ...   \n",
       "3211     1498   68 2018-10-25  Владикавказ   Всеволод    Акимчин 2018-07-19   \n",
       "3212     1499   35 2018-12-31        Пермь     Гектор   Корнилов 2018-09-27   \n",
       "3213     1499   35 2018-12-31        Пермь     Гектор   Корнилов 2018-09-27   \n",
       "3214     1499   35 2018-12-31        Пермь     Гектор   Корнилов 2018-09-27   \n",
       "3215     1499   35 2018-12-31        Пермь     Гектор   Корнилов 2018-09-27   \n",
       "\n",
       "     tariff  reg_month  churn_month  month  duration   mb_used    id  \n",
       "0     ultra          5           12    5.0     159.0   2253.49  22.0  \n",
       "1     ultra          5           12    6.0     172.0  23233.77  60.0  \n",
       "2     ultra          5           12    7.0     340.0  14003.64  75.0  \n",
       "3     ultra          5           12    8.0     408.0  14055.93  81.0  \n",
       "4     ultra          5           12    9.0     466.0  14568.91  57.0  \n",
       "...     ...        ...          ...    ...       ...       ...   ...  \n",
       "3211  smart          7           10   10.0     247.0  20579.36  42.0  \n",
       "3212  smart          9           12    9.0      70.0   1845.75  11.0  \n",
       "3213  smart          9           12   10.0     449.0  17788.51  48.0  \n",
       "3214  smart          9           12   11.0     612.0  17963.31  59.0  \n",
       "3215  smart          9           12   12.0     492.0  13055.58  66.0  \n",
       "\n",
       "[3216 rows x 14 columns]"
      ]
     },
     "execution_count": 36,
     "metadata": {},
     "output_type": "execute_result"
    }
   ],
   "source": [
    "svod "
   ]
  },
  {
   "cell_type": "markdown",
   "metadata": {},
   "source": [
    "Переименуем столбцы в более понятные для дальнейшего анализа"
   ]
  },
  {
   "cell_type": "code",
   "execution_count": 37,
   "metadata": {},
   "outputs": [],
   "source": [
    "svod = svod.rename(columns={'id':'messages'})"
   ]
  },
  {
   "cell_type": "code",
   "execution_count": 38,
   "metadata": {},
   "outputs": [
    {
     "data": {
      "text/html": [
       "<div>\n",
       "<style scoped>\n",
       "    .dataframe tbody tr th:only-of-type {\n",
       "        vertical-align: middle;\n",
       "    }\n",
       "\n",
       "    .dataframe tbody tr th {\n",
       "        vertical-align: top;\n",
       "    }\n",
       "\n",
       "    .dataframe thead th {\n",
       "        text-align: right;\n",
       "    }\n",
       "</style>\n",
       "<table border=\"1\" class=\"dataframe\">\n",
       "  <thead>\n",
       "    <tr style=\"text-align: right;\">\n",
       "      <th></th>\n",
       "      <th>user_id</th>\n",
       "      <th>age</th>\n",
       "      <th>churn_date</th>\n",
       "      <th>city</th>\n",
       "      <th>first_name</th>\n",
       "      <th>last_name</th>\n",
       "      <th>reg_date</th>\n",
       "      <th>tariff</th>\n",
       "      <th>reg_month</th>\n",
       "      <th>churn_month</th>\n",
       "      <th>month</th>\n",
       "      <th>duration</th>\n",
       "      <th>mb_used</th>\n",
       "      <th>messages</th>\n",
       "    </tr>\n",
       "  </thead>\n",
       "  <tbody>\n",
       "    <tr>\n",
       "      <th>0</th>\n",
       "      <td>1000</td>\n",
       "      <td>52</td>\n",
       "      <td>2018-12-31</td>\n",
       "      <td>Краснодар</td>\n",
       "      <td>Рафаил</td>\n",
       "      <td>Верещагин</td>\n",
       "      <td>2018-05-25</td>\n",
       "      <td>ultra</td>\n",
       "      <td>5</td>\n",
       "      <td>12</td>\n",
       "      <td>5.0</td>\n",
       "      <td>159.0</td>\n",
       "      <td>2253.49</td>\n",
       "      <td>22.0</td>\n",
       "    </tr>\n",
       "    <tr>\n",
       "      <th>1</th>\n",
       "      <td>1000</td>\n",
       "      <td>52</td>\n",
       "      <td>2018-12-31</td>\n",
       "      <td>Краснодар</td>\n",
       "      <td>Рафаил</td>\n",
       "      <td>Верещагин</td>\n",
       "      <td>2018-05-25</td>\n",
       "      <td>ultra</td>\n",
       "      <td>5</td>\n",
       "      <td>12</td>\n",
       "      <td>6.0</td>\n",
       "      <td>172.0</td>\n",
       "      <td>23233.77</td>\n",
       "      <td>60.0</td>\n",
       "    </tr>\n",
       "    <tr>\n",
       "      <th>2</th>\n",
       "      <td>1000</td>\n",
       "      <td>52</td>\n",
       "      <td>2018-12-31</td>\n",
       "      <td>Краснодар</td>\n",
       "      <td>Рафаил</td>\n",
       "      <td>Верещагин</td>\n",
       "      <td>2018-05-25</td>\n",
       "      <td>ultra</td>\n",
       "      <td>5</td>\n",
       "      <td>12</td>\n",
       "      <td>7.0</td>\n",
       "      <td>340.0</td>\n",
       "      <td>14003.64</td>\n",
       "      <td>75.0</td>\n",
       "    </tr>\n",
       "    <tr>\n",
       "      <th>3</th>\n",
       "      <td>1000</td>\n",
       "      <td>52</td>\n",
       "      <td>2018-12-31</td>\n",
       "      <td>Краснодар</td>\n",
       "      <td>Рафаил</td>\n",
       "      <td>Верещагин</td>\n",
       "      <td>2018-05-25</td>\n",
       "      <td>ultra</td>\n",
       "      <td>5</td>\n",
       "      <td>12</td>\n",
       "      <td>8.0</td>\n",
       "      <td>408.0</td>\n",
       "      <td>14055.93</td>\n",
       "      <td>81.0</td>\n",
       "    </tr>\n",
       "    <tr>\n",
       "      <th>4</th>\n",
       "      <td>1000</td>\n",
       "      <td>52</td>\n",
       "      <td>2018-12-31</td>\n",
       "      <td>Краснодар</td>\n",
       "      <td>Рафаил</td>\n",
       "      <td>Верещагин</td>\n",
       "      <td>2018-05-25</td>\n",
       "      <td>ultra</td>\n",
       "      <td>5</td>\n",
       "      <td>12</td>\n",
       "      <td>9.0</td>\n",
       "      <td>466.0</td>\n",
       "      <td>14568.91</td>\n",
       "      <td>57.0</td>\n",
       "    </tr>\n",
       "    <tr>\n",
       "      <th>...</th>\n",
       "      <td>...</td>\n",
       "      <td>...</td>\n",
       "      <td>...</td>\n",
       "      <td>...</td>\n",
       "      <td>...</td>\n",
       "      <td>...</td>\n",
       "      <td>...</td>\n",
       "      <td>...</td>\n",
       "      <td>...</td>\n",
       "      <td>...</td>\n",
       "      <td>...</td>\n",
       "      <td>...</td>\n",
       "      <td>...</td>\n",
       "      <td>...</td>\n",
       "    </tr>\n",
       "    <tr>\n",
       "      <th>3211</th>\n",
       "      <td>1498</td>\n",
       "      <td>68</td>\n",
       "      <td>2018-10-25</td>\n",
       "      <td>Владикавказ</td>\n",
       "      <td>Всеволод</td>\n",
       "      <td>Акимчин</td>\n",
       "      <td>2018-07-19</td>\n",
       "      <td>smart</td>\n",
       "      <td>7</td>\n",
       "      <td>10</td>\n",
       "      <td>10.0</td>\n",
       "      <td>247.0</td>\n",
       "      <td>20579.36</td>\n",
       "      <td>42.0</td>\n",
       "    </tr>\n",
       "    <tr>\n",
       "      <th>3212</th>\n",
       "      <td>1499</td>\n",
       "      <td>35</td>\n",
       "      <td>2018-12-31</td>\n",
       "      <td>Пермь</td>\n",
       "      <td>Гектор</td>\n",
       "      <td>Корнилов</td>\n",
       "      <td>2018-09-27</td>\n",
       "      <td>smart</td>\n",
       "      <td>9</td>\n",
       "      <td>12</td>\n",
       "      <td>9.0</td>\n",
       "      <td>70.0</td>\n",
       "      <td>1845.75</td>\n",
       "      <td>11.0</td>\n",
       "    </tr>\n",
       "    <tr>\n",
       "      <th>3213</th>\n",
       "      <td>1499</td>\n",
       "      <td>35</td>\n",
       "      <td>2018-12-31</td>\n",
       "      <td>Пермь</td>\n",
       "      <td>Гектор</td>\n",
       "      <td>Корнилов</td>\n",
       "      <td>2018-09-27</td>\n",
       "      <td>smart</td>\n",
       "      <td>9</td>\n",
       "      <td>12</td>\n",
       "      <td>10.0</td>\n",
       "      <td>449.0</td>\n",
       "      <td>17788.51</td>\n",
       "      <td>48.0</td>\n",
       "    </tr>\n",
       "    <tr>\n",
       "      <th>3214</th>\n",
       "      <td>1499</td>\n",
       "      <td>35</td>\n",
       "      <td>2018-12-31</td>\n",
       "      <td>Пермь</td>\n",
       "      <td>Гектор</td>\n",
       "      <td>Корнилов</td>\n",
       "      <td>2018-09-27</td>\n",
       "      <td>smart</td>\n",
       "      <td>9</td>\n",
       "      <td>12</td>\n",
       "      <td>11.0</td>\n",
       "      <td>612.0</td>\n",
       "      <td>17963.31</td>\n",
       "      <td>59.0</td>\n",
       "    </tr>\n",
       "    <tr>\n",
       "      <th>3215</th>\n",
       "      <td>1499</td>\n",
       "      <td>35</td>\n",
       "      <td>2018-12-31</td>\n",
       "      <td>Пермь</td>\n",
       "      <td>Гектор</td>\n",
       "      <td>Корнилов</td>\n",
       "      <td>2018-09-27</td>\n",
       "      <td>smart</td>\n",
       "      <td>9</td>\n",
       "      <td>12</td>\n",
       "      <td>12.0</td>\n",
       "      <td>492.0</td>\n",
       "      <td>13055.58</td>\n",
       "      <td>66.0</td>\n",
       "    </tr>\n",
       "  </tbody>\n",
       "</table>\n",
       "<p>3216 rows × 14 columns</p>\n",
       "</div>"
      ],
      "text/plain": [
       "      user_id  age churn_date         city first_name  last_name   reg_date  \\\n",
       "0        1000   52 2018-12-31    Краснодар     Рафаил  Верещагин 2018-05-25   \n",
       "1        1000   52 2018-12-31    Краснодар     Рафаил  Верещагин 2018-05-25   \n",
       "2        1000   52 2018-12-31    Краснодар     Рафаил  Верещагин 2018-05-25   \n",
       "3        1000   52 2018-12-31    Краснодар     Рафаил  Верещагин 2018-05-25   \n",
       "4        1000   52 2018-12-31    Краснодар     Рафаил  Верещагин 2018-05-25   \n",
       "...       ...  ...        ...          ...        ...        ...        ...   \n",
       "3211     1498   68 2018-10-25  Владикавказ   Всеволод    Акимчин 2018-07-19   \n",
       "3212     1499   35 2018-12-31        Пермь     Гектор   Корнилов 2018-09-27   \n",
       "3213     1499   35 2018-12-31        Пермь     Гектор   Корнилов 2018-09-27   \n",
       "3214     1499   35 2018-12-31        Пермь     Гектор   Корнилов 2018-09-27   \n",
       "3215     1499   35 2018-12-31        Пермь     Гектор   Корнилов 2018-09-27   \n",
       "\n",
       "     tariff  reg_month  churn_month  month  duration   mb_used  messages  \n",
       "0     ultra          5           12    5.0     159.0   2253.49      22.0  \n",
       "1     ultra          5           12    6.0     172.0  23233.77      60.0  \n",
       "2     ultra          5           12    7.0     340.0  14003.64      75.0  \n",
       "3     ultra          5           12    8.0     408.0  14055.93      81.0  \n",
       "4     ultra          5           12    9.0     466.0  14568.91      57.0  \n",
       "...     ...        ...          ...    ...       ...       ...       ...  \n",
       "3211  smart          7           10   10.0     247.0  20579.36      42.0  \n",
       "3212  smart          9           12    9.0      70.0   1845.75      11.0  \n",
       "3213  smart          9           12   10.0     449.0  17788.51      48.0  \n",
       "3214  smart          9           12   11.0     612.0  17963.31      59.0  \n",
       "3215  smart          9           12   12.0     492.0  13055.58      66.0  \n",
       "\n",
       "[3216 rows x 14 columns]"
      ]
     },
     "execution_count": 38,
     "metadata": {},
     "output_type": "execute_result"
    }
   ],
   "source": [
    "svod"
   ]
  },
  {
   "cell_type": "markdown",
   "metadata": {},
   "source": [
    "**Переименуем индексы в таблице \"tariffs\" на названия тарифов**"
   ]
  },
  {
   "cell_type": "code",
   "execution_count": 39,
   "metadata": {},
   "outputs": [
    {
     "data": {
      "text/html": [
       "<div>\n",
       "<style scoped>\n",
       "    .dataframe tbody tr th:only-of-type {\n",
       "        vertical-align: middle;\n",
       "    }\n",
       "\n",
       "    .dataframe tbody tr th {\n",
       "        vertical-align: top;\n",
       "    }\n",
       "\n",
       "    .dataframe thead th {\n",
       "        text-align: right;\n",
       "    }\n",
       "</style>\n",
       "<table border=\"1\" class=\"dataframe\">\n",
       "  <thead>\n",
       "    <tr style=\"text-align: right;\">\n",
       "      <th></th>\n",
       "      <th>messages_included</th>\n",
       "      <th>mb_per_month_included</th>\n",
       "      <th>minutes_included</th>\n",
       "      <th>rub_monthly_fee</th>\n",
       "      <th>rub_per_gb</th>\n",
       "      <th>rub_per_message</th>\n",
       "      <th>rub_per_minute</th>\n",
       "    </tr>\n",
       "    <tr>\n",
       "      <th>tariff_name</th>\n",
       "      <th></th>\n",
       "      <th></th>\n",
       "      <th></th>\n",
       "      <th></th>\n",
       "      <th></th>\n",
       "      <th></th>\n",
       "      <th></th>\n",
       "    </tr>\n",
       "  </thead>\n",
       "  <tbody>\n",
       "    <tr>\n",
       "      <th>smart</th>\n",
       "      <td>50</td>\n",
       "      <td>15360</td>\n",
       "      <td>500</td>\n",
       "      <td>550</td>\n",
       "      <td>200</td>\n",
       "      <td>3</td>\n",
       "      <td>3</td>\n",
       "    </tr>\n",
       "    <tr>\n",
       "      <th>ultra</th>\n",
       "      <td>1000</td>\n",
       "      <td>30720</td>\n",
       "      <td>3000</td>\n",
       "      <td>1950</td>\n",
       "      <td>150</td>\n",
       "      <td>1</td>\n",
       "      <td>1</td>\n",
       "    </tr>\n",
       "  </tbody>\n",
       "</table>\n",
       "</div>"
      ],
      "text/plain": [
       "             messages_included  mb_per_month_included  minutes_included  \\\n",
       "tariff_name                                                               \n",
       "smart                       50                  15360               500   \n",
       "ultra                     1000                  30720              3000   \n",
       "\n",
       "             rub_monthly_fee  rub_per_gb  rub_per_message  rub_per_minute  \n",
       "tariff_name                                                                \n",
       "smart                    550         200                3               3  \n",
       "ultra                   1950         150                1               1  "
      ]
     },
     "execution_count": 39,
     "metadata": {},
     "output_type": "execute_result"
    }
   ],
   "source": [
    "tariffs.index = tariffs['tariff_name']\n",
    "tariffs = tariffs.drop('tariff_name', axis=1)\n",
    "tariffs"
   ]
  },
  {
   "cell_type": "markdown",
   "metadata": {},
   "source": [
    "**Напишем функцию для одной строки для подсчета выручки**"
   ]
  },
  {
   "cell_type": "code",
   "execution_count": 40,
   "metadata": {},
   "outputs": [],
   "source": [
    "def add_proceeds(row):\n",
    "    proceeds = tariffs.loc[row['tariff'], 'rub_monthly_fee']\n",
    "    if row['duration'] > tariffs.loc[row['tariff'], 'minutes_included']:\n",
    "        proceeds += (row['duration'] - tariffs.loc[row['tariff'], 'minutes_included']) * tariffs.loc[row['tariff'], 'rub_per_minute']\n",
    "    if row['mb_used'] > tariffs.loc[row['tariff'], 'mb_per_month_included']:\n",
    "        proceeds += np.ceil((row['mb_used'] - tariffs.loc[row['tariff'], 'mb_per_month_included'])/1024) * tariffs.loc[row['tariff'], 'rub_per_gb']\n",
    "    if row['messages'] > tariffs.loc[row['tariff'], 'messages_included']:\n",
    "        proceeds += (row['messages'] - tariffs.loc[row['tariff'], 'messages_included']) * tariffs.loc[row['tariff'], 'rub_per_message']\n",
    "    return proceeds"
   ]
  },
  {
   "cell_type": "code",
   "execution_count": 41,
   "metadata": {},
   "outputs": [],
   "source": [
    "svod['proceeds'] = svod.apply(add_proceeds, axis=1)"
   ]
  },
  {
   "cell_type": "code",
   "execution_count": 42,
   "metadata": {
    "scrolled": false
   },
   "outputs": [
    {
     "data": {
      "text/html": [
       "<div>\n",
       "<style scoped>\n",
       "    .dataframe tbody tr th:only-of-type {\n",
       "        vertical-align: middle;\n",
       "    }\n",
       "\n",
       "    .dataframe tbody tr th {\n",
       "        vertical-align: top;\n",
       "    }\n",
       "\n",
       "    .dataframe thead th {\n",
       "        text-align: right;\n",
       "    }\n",
       "</style>\n",
       "<table border=\"1\" class=\"dataframe\">\n",
       "  <thead>\n",
       "    <tr style=\"text-align: right;\">\n",
       "      <th></th>\n",
       "      <th>user_id</th>\n",
       "      <th>age</th>\n",
       "      <th>churn_date</th>\n",
       "      <th>city</th>\n",
       "      <th>first_name</th>\n",
       "      <th>last_name</th>\n",
       "      <th>reg_date</th>\n",
       "      <th>tariff</th>\n",
       "      <th>reg_month</th>\n",
       "      <th>churn_month</th>\n",
       "      <th>month</th>\n",
       "      <th>duration</th>\n",
       "      <th>mb_used</th>\n",
       "      <th>messages</th>\n",
       "      <th>proceeds</th>\n",
       "    </tr>\n",
       "  </thead>\n",
       "  <tbody>\n",
       "    <tr>\n",
       "      <th>0</th>\n",
       "      <td>1000</td>\n",
       "      <td>52</td>\n",
       "      <td>2018-12-31</td>\n",
       "      <td>Краснодар</td>\n",
       "      <td>Рафаил</td>\n",
       "      <td>Верещагин</td>\n",
       "      <td>2018-05-25</td>\n",
       "      <td>ultra</td>\n",
       "      <td>5</td>\n",
       "      <td>12</td>\n",
       "      <td>5.0</td>\n",
       "      <td>159.0</td>\n",
       "      <td>2253.49</td>\n",
       "      <td>22.0</td>\n",
       "      <td>1950.0</td>\n",
       "    </tr>\n",
       "    <tr>\n",
       "      <th>1</th>\n",
       "      <td>1000</td>\n",
       "      <td>52</td>\n",
       "      <td>2018-12-31</td>\n",
       "      <td>Краснодар</td>\n",
       "      <td>Рафаил</td>\n",
       "      <td>Верещагин</td>\n",
       "      <td>2018-05-25</td>\n",
       "      <td>ultra</td>\n",
       "      <td>5</td>\n",
       "      <td>12</td>\n",
       "      <td>6.0</td>\n",
       "      <td>172.0</td>\n",
       "      <td>23233.77</td>\n",
       "      <td>60.0</td>\n",
       "      <td>1950.0</td>\n",
       "    </tr>\n",
       "    <tr>\n",
       "      <th>2</th>\n",
       "      <td>1000</td>\n",
       "      <td>52</td>\n",
       "      <td>2018-12-31</td>\n",
       "      <td>Краснодар</td>\n",
       "      <td>Рафаил</td>\n",
       "      <td>Верещагин</td>\n",
       "      <td>2018-05-25</td>\n",
       "      <td>ultra</td>\n",
       "      <td>5</td>\n",
       "      <td>12</td>\n",
       "      <td>7.0</td>\n",
       "      <td>340.0</td>\n",
       "      <td>14003.64</td>\n",
       "      <td>75.0</td>\n",
       "      <td>1950.0</td>\n",
       "    </tr>\n",
       "    <tr>\n",
       "      <th>3</th>\n",
       "      <td>1000</td>\n",
       "      <td>52</td>\n",
       "      <td>2018-12-31</td>\n",
       "      <td>Краснодар</td>\n",
       "      <td>Рафаил</td>\n",
       "      <td>Верещагин</td>\n",
       "      <td>2018-05-25</td>\n",
       "      <td>ultra</td>\n",
       "      <td>5</td>\n",
       "      <td>12</td>\n",
       "      <td>8.0</td>\n",
       "      <td>408.0</td>\n",
       "      <td>14055.93</td>\n",
       "      <td>81.0</td>\n",
       "      <td>1950.0</td>\n",
       "    </tr>\n",
       "    <tr>\n",
       "      <th>4</th>\n",
       "      <td>1000</td>\n",
       "      <td>52</td>\n",
       "      <td>2018-12-31</td>\n",
       "      <td>Краснодар</td>\n",
       "      <td>Рафаил</td>\n",
       "      <td>Верещагин</td>\n",
       "      <td>2018-05-25</td>\n",
       "      <td>ultra</td>\n",
       "      <td>5</td>\n",
       "      <td>12</td>\n",
       "      <td>9.0</td>\n",
       "      <td>466.0</td>\n",
       "      <td>14568.91</td>\n",
       "      <td>57.0</td>\n",
       "      <td>1950.0</td>\n",
       "    </tr>\n",
       "    <tr>\n",
       "      <th>...</th>\n",
       "      <td>...</td>\n",
       "      <td>...</td>\n",
       "      <td>...</td>\n",
       "      <td>...</td>\n",
       "      <td>...</td>\n",
       "      <td>...</td>\n",
       "      <td>...</td>\n",
       "      <td>...</td>\n",
       "      <td>...</td>\n",
       "      <td>...</td>\n",
       "      <td>...</td>\n",
       "      <td>...</td>\n",
       "      <td>...</td>\n",
       "      <td>...</td>\n",
       "      <td>...</td>\n",
       "    </tr>\n",
       "    <tr>\n",
       "      <th>3211</th>\n",
       "      <td>1498</td>\n",
       "      <td>68</td>\n",
       "      <td>2018-10-25</td>\n",
       "      <td>Владикавказ</td>\n",
       "      <td>Всеволод</td>\n",
       "      <td>Акимчин</td>\n",
       "      <td>2018-07-19</td>\n",
       "      <td>smart</td>\n",
       "      <td>7</td>\n",
       "      <td>10</td>\n",
       "      <td>10.0</td>\n",
       "      <td>247.0</td>\n",
       "      <td>20579.36</td>\n",
       "      <td>42.0</td>\n",
       "      <td>1750.0</td>\n",
       "    </tr>\n",
       "    <tr>\n",
       "      <th>3212</th>\n",
       "      <td>1499</td>\n",
       "      <td>35</td>\n",
       "      <td>2018-12-31</td>\n",
       "      <td>Пермь</td>\n",
       "      <td>Гектор</td>\n",
       "      <td>Корнилов</td>\n",
       "      <td>2018-09-27</td>\n",
       "      <td>smart</td>\n",
       "      <td>9</td>\n",
       "      <td>12</td>\n",
       "      <td>9.0</td>\n",
       "      <td>70.0</td>\n",
       "      <td>1845.75</td>\n",
       "      <td>11.0</td>\n",
       "      <td>550.0</td>\n",
       "    </tr>\n",
       "    <tr>\n",
       "      <th>3213</th>\n",
       "      <td>1499</td>\n",
       "      <td>35</td>\n",
       "      <td>2018-12-31</td>\n",
       "      <td>Пермь</td>\n",
       "      <td>Гектор</td>\n",
       "      <td>Корнилов</td>\n",
       "      <td>2018-09-27</td>\n",
       "      <td>smart</td>\n",
       "      <td>9</td>\n",
       "      <td>12</td>\n",
       "      <td>10.0</td>\n",
       "      <td>449.0</td>\n",
       "      <td>17788.51</td>\n",
       "      <td>48.0</td>\n",
       "      <td>1150.0</td>\n",
       "    </tr>\n",
       "    <tr>\n",
       "      <th>3214</th>\n",
       "      <td>1499</td>\n",
       "      <td>35</td>\n",
       "      <td>2018-12-31</td>\n",
       "      <td>Пермь</td>\n",
       "      <td>Гектор</td>\n",
       "      <td>Корнилов</td>\n",
       "      <td>2018-09-27</td>\n",
       "      <td>smart</td>\n",
       "      <td>9</td>\n",
       "      <td>12</td>\n",
       "      <td>11.0</td>\n",
       "      <td>612.0</td>\n",
       "      <td>17963.31</td>\n",
       "      <td>59.0</td>\n",
       "      <td>1513.0</td>\n",
       "    </tr>\n",
       "    <tr>\n",
       "      <th>3215</th>\n",
       "      <td>1499</td>\n",
       "      <td>35</td>\n",
       "      <td>2018-12-31</td>\n",
       "      <td>Пермь</td>\n",
       "      <td>Гектор</td>\n",
       "      <td>Корнилов</td>\n",
       "      <td>2018-09-27</td>\n",
       "      <td>smart</td>\n",
       "      <td>9</td>\n",
       "      <td>12</td>\n",
       "      <td>12.0</td>\n",
       "      <td>492.0</td>\n",
       "      <td>13055.58</td>\n",
       "      <td>66.0</td>\n",
       "      <td>598.0</td>\n",
       "    </tr>\n",
       "  </tbody>\n",
       "</table>\n",
       "<p>3216 rows × 15 columns</p>\n",
       "</div>"
      ],
      "text/plain": [
       "      user_id  age churn_date         city first_name  last_name   reg_date  \\\n",
       "0        1000   52 2018-12-31    Краснодар     Рафаил  Верещагин 2018-05-25   \n",
       "1        1000   52 2018-12-31    Краснодар     Рафаил  Верещагин 2018-05-25   \n",
       "2        1000   52 2018-12-31    Краснодар     Рафаил  Верещагин 2018-05-25   \n",
       "3        1000   52 2018-12-31    Краснодар     Рафаил  Верещагин 2018-05-25   \n",
       "4        1000   52 2018-12-31    Краснодар     Рафаил  Верещагин 2018-05-25   \n",
       "...       ...  ...        ...          ...        ...        ...        ...   \n",
       "3211     1498   68 2018-10-25  Владикавказ   Всеволод    Акимчин 2018-07-19   \n",
       "3212     1499   35 2018-12-31        Пермь     Гектор   Корнилов 2018-09-27   \n",
       "3213     1499   35 2018-12-31        Пермь     Гектор   Корнилов 2018-09-27   \n",
       "3214     1499   35 2018-12-31        Пермь     Гектор   Корнилов 2018-09-27   \n",
       "3215     1499   35 2018-12-31        Пермь     Гектор   Корнилов 2018-09-27   \n",
       "\n",
       "     tariff  reg_month  churn_month  month  duration   mb_used  messages  \\\n",
       "0     ultra          5           12    5.0     159.0   2253.49      22.0   \n",
       "1     ultra          5           12    6.0     172.0  23233.77      60.0   \n",
       "2     ultra          5           12    7.0     340.0  14003.64      75.0   \n",
       "3     ultra          5           12    8.0     408.0  14055.93      81.0   \n",
       "4     ultra          5           12    9.0     466.0  14568.91      57.0   \n",
       "...     ...        ...          ...    ...       ...       ...       ...   \n",
       "3211  smart          7           10   10.0     247.0  20579.36      42.0   \n",
       "3212  smart          9           12    9.0      70.0   1845.75      11.0   \n",
       "3213  smart          9           12   10.0     449.0  17788.51      48.0   \n",
       "3214  smart          9           12   11.0     612.0  17963.31      59.0   \n",
       "3215  smart          9           12   12.0     492.0  13055.58      66.0   \n",
       "\n",
       "      proceeds  \n",
       "0       1950.0  \n",
       "1       1950.0  \n",
       "2       1950.0  \n",
       "3       1950.0  \n",
       "4       1950.0  \n",
       "...        ...  \n",
       "3211    1750.0  \n",
       "3212     550.0  \n",
       "3213    1150.0  \n",
       "3214    1513.0  \n",
       "3215     598.0  \n",
       "\n",
       "[3216 rows x 15 columns]"
      ]
     },
     "execution_count": 42,
     "metadata": {},
     "output_type": "execute_result"
    }
   ],
   "source": [
    "svod"
   ]
  },
  {
   "cell_type": "markdown",
   "metadata": {},
   "source": [
    "**Получили итоговую таблицу \"svod\", в которой указана помесячная выручка по каждому пользователю**"
   ]
  },
  {
   "cell_type": "markdown",
   "metadata": {},
   "source": [
    "## Анализ данных"
   ]
  },
  {
   "cell_type": "markdown",
   "metadata": {},
   "source": [
    "### Длительность разговора"
   ]
  },
  {
   "cell_type": "markdown",
   "metadata": {},
   "source": [
    "**Найдем среднее значение, дисперсию и стандартное отклонение помесячно длительности разговоров для пользователей разных тарифов**"
   ]
  },
  {
   "cell_type": "code",
   "execution_count": 43,
   "metadata": {},
   "outputs": [
    {
     "name": "stdout",
     "output_type": "stream",
     "text": [
      "Средняя месячная продолжительность разгоров пользователей тарифа \"Смарт\" 419.1\n",
      "Дисперсия составила 35828.1, стандартное отклонение 189.3\n",
      "Средняя месячная продолжительность разгоров пользователей тарифа \"Ультра\" 545.5\n",
      "Дисперсия составила 94104.4, стандартное отклонение 306.8\n"
     ]
    }
   ],
   "source": [
    "print('Средняя месячная продолжительность разгоров пользователей тарифа \"Смарт\" {:.1f}'.format(svod.query('tariff==\"smart\"')['duration'].mean()))\n",
    "print('Дисперсия составила {:.1f}, стандартное отклонение {:.1f}'.format(np.var(svod.query('tariff==\"smart\"')['duration']), np.std(svod.query('tariff==\"smart\"')['duration'])))\n",
    "print('Средняя месячная продолжительность разгоров пользователей тарифа \"Ультра\" {:.1f}'.format(svod.query('tariff==\"ultra\"')['duration'].mean()))\n",
    "print('Дисперсия составила {:.1f}, стандартное отклонение {:.1f}'.format(np.var(svod.query('tariff==\"ultra\"')['duration']), np.std(svod.query('tariff==\"ultra\"')['duration'])))"
   ]
  },
  {
   "cell_type": "markdown",
   "metadata": {},
   "source": [
    "**Визуализируем эти данные в виде гистограмм**"
   ]
  },
  {
   "cell_type": "code",
   "execution_count": 44,
   "metadata": {},
   "outputs": [
    {
     "data": {
      "text/plain": [
       "<matplotlib.legend.Legend at 0x7fb9b1d5bd60>"
      ]
     },
     "execution_count": 44,
     "metadata": {},
     "output_type": "execute_result"
    },
    {
     "data": {
      "image/png": "[encoded data removed]",
      "text/plain": [
       "<Figure size 432x288 with 1 Axes>"
      ]
     },
     "metadata": {
      "needs_background": "light"
     },
     "output_type": "display_data"
    }
   ],
   "source": [
    "plt.hist(svod.query('tariff==\"smart\"')['duration'], bins=20, alpha=0.7, label='Смарт')\n",
    "plt.hist(svod.query('tariff==\"ultra\"')['duration'], bins=20, alpha=0.7, label='Ультра')\n",
    "plt.title('Гистограмма помесячной длительности звонков для пользователей разных тарифов')\n",
    "plt.legend()"
   ]
  },
  {
   "cell_type": "markdown",
   "metadata": {},
   "source": [
    "**Можно отметить, что продолжительность звонков распределена нормально. Несмотрая на то, что пользователи тарифа \"Ультра\" действительно звонят больше, чем пользователи тарифа \"Смарт\", почти никто из них не использует включенное в пакет количество минут даже наполовину (максимальная продолжительность звонков порядка 1750 мин при пакете 3000 мин). Чего нельзя сказать о пользователях тарифа \"Смарт\" - в среднем они расходуют 419 мин при пакете в 500 мин.**"
   ]
  },
  {
   "cell_type": "markdown",
   "metadata": {},
   "source": [
    "### Количество отправленных сообщений"
   ]
  },
  {
   "cell_type": "markdown",
   "metadata": {},
   "source": [
    "**Найдем среднее значение, дисперсию и стандартное отклонение помесячно количества отправленных сообщений для пользователей разных тарифов**"
   ]
  },
  {
   "cell_type": "code",
   "execution_count": 45,
   "metadata": {},
   "outputs": [
    {
     "name": "stdout",
     "output_type": "stream",
     "text": [
      "Среднее месячное количество сообщений, отправленных пользователями тарифа \"Смарт\" 38.7\n",
      "Дисперсия составила 717.2, стандартное отклонение 26.8\n",
      "Среднее месячное количество сообщений, отправленных пользователями тарифа \"Ультра\" 61.2\n",
      "Дисперсия составила 2107.0, стандартное отклонение 45.9\n"
     ]
    }
   ],
   "source": [
    "print('Среднее месячное количество сообщений, отправленных пользователями тарифа \"Смарт\" {:.1f}'.format(svod.query('tariff==\"smart\"')['messages'].mean()))\n",
    "print('Дисперсия составила {:.1f}, стандартное отклонение {:.1f}'.format(np.var(svod.query('tariff==\"smart\"')['messages']), np.std(svod.query('tariff==\"smart\"')['messages'])))\n",
    "print('Среднее месячное количество сообщений, отправленных пользователями тарифа \"Ультра\" {:.1f}'.format(svod.query('tariff==\"ultra\"')['messages'].mean()))\n",
    "print('Дисперсия составила {:.1f}, стандартное отклонение {:.1f}'.format(np.var(svod.query('tariff==\"ultra\"')['messages']), np.std(svod.query('tariff==\"ultra\"')['messages'])))"
   ]
  },
  {
   "cell_type": "markdown",
   "metadata": {},
   "source": [
    "**Визуализируем эти данные в виде гистограмм**"
   ]
  },
  {
   "cell_type": "code",
   "execution_count": 46,
   "metadata": {
    "scrolled": true
   },
   "outputs": [
    {
     "data": {
      "text/plain": [
       "<matplotlib.legend.Legend at 0x7fb9b1b35d60>"
      ]
     },
     "execution_count": 46,
     "metadata": {},
     "output_type": "execute_result"
    },
    {
     "data": {
      "image/png": "[encoded data removed]",
      "text/plain": [
       "<Figure size 432x288 with 1 Axes>"
      ]
     },
     "metadata": {
      "needs_background": "light"
     },
     "output_type": "display_data"
    }
   ],
   "source": [
    "plt.hist(svod.query('tariff==\"smart\"')['messages'], bins=20, alpha=0.7, label='Смарт')\n",
    "plt.hist(svod.query('tariff==\"ultra\"')['messages'], bins=20, alpha=0.7, label='Ультра')\n",
    "plt.title('Гистограмма помесячного количества отправленных сообщений для пользователей разных тарифов')\n",
    "plt.legend()"
   ]
  },
  {
   "cell_type": "markdown",
   "metadata": {},
   "source": [
    "**Распределение количества отправленных сообщений имеет характер распределения Пуассона - наибольшую частоту принимает наименьшее количество отправленных сообщений. Вероятно, это связано с популярностью мессенджеров - пользователи предпочитают отправлять личные сообщения используя интернет связь. Несмотря на небольшое количество включенных в пакет тарифа \"Смарт\" сообщений, в среднем пользователи расходуют большую часть пакета - 39 сообщений из 50 возможных. Пользователи тарифа \"Ультра\", наоборот, отправляют в среднем 61 сообщение при максимальном количестве отправленных за месяц сообщений чуть более 200, в то время как в пакет их тарифа включена 1000 сообщений. Возможно, им стоит пересмотреть свой тариф.**"
   ]
  },
  {
   "cell_type": "markdown",
   "metadata": {},
   "source": [
    "### Объем использованного интернет-трафика"
   ]
  },
  {
   "cell_type": "markdown",
   "metadata": {},
   "source": [
    "**Найдем среднее значение, дисперсию и стандартное отклонение использованного трафика для пользователей разных тарифов**"
   ]
  },
  {
   "cell_type": "code",
   "execution_count": 47,
   "metadata": {},
   "outputs": [
    {
     "name": "stdout",
     "output_type": "stream",
     "text": [
      "Среднее месячное количество использованного трафика пользователями тарифа \"Смарт\" 16215.7\n",
      "Дисперсия составила 34344529.8, стандартное отклонение 5860.4\n",
      "Среднее месячное количество использованного трафика пользователями тарифа \"Ультра\" 19668.5\n",
      "Дисперсия составила 98762849.7, стандартное отклонение 9937.9\n"
     ]
    }
   ],
   "source": [
    "print('Среднее месячное количество использованного трафика пользователями тарифа \"Смарт\" {:.1f}'.format(svod.query('tariff==\"smart\"')['mb_used'].mean()))\n",
    "print('Дисперсия составила {:.1f}, стандартное отклонение {:.1f}'.format(np.var(svod.query('tariff==\"smart\"')['mb_used']), np.std(svod.query('tariff==\"smart\"')['mb_used'])))\n",
    "print('Среднее месячное количество использованного трафика пользователями тарифа \"Ультра\" {:.1f}'.format(svod.query('tariff==\"ultra\"')['mb_used'].mean()))\n",
    "print('Дисперсия составила {:.1f}, стандартное отклонение {:.1f}'.format(np.var(svod.query('tariff==\"ultra\"')['mb_used']), np.std(svod.query('tariff==\"ultra\"')['mb_used'])))"
   ]
  },
  {
   "cell_type": "markdown",
   "metadata": {},
   "source": [
    "**Визуализируем эти данные в виде гистограмм**"
   ]
  },
  {
   "cell_type": "code",
   "execution_count": 48,
   "metadata": {},
   "outputs": [
    {
     "data": {
      "text/plain": [
       "<matplotlib.legend.Legend at 0x7fb9b1250fd0>"
      ]
     },
     "execution_count": 48,
     "metadata": {},
     "output_type": "execute_result"
    },
    {
     "data": {
      "image/png": "[encoded data removed]",
      "text/plain": [
       "<Figure size 432x288 with 1 Axes>"
      ]
     },
     "metadata": {
      "needs_background": "light"
     },
     "output_type": "display_data"
    }
   ],
   "source": [
    "plt.hist(svod.query('tariff==\"smart\"')['mb_used'], bins=20, alpha=0.7, label='Смарт')\n",
    "plt.hist(svod.query('tariff==\"ultra\"')['mb_used'], bins=20, alpha=0.7, label='Ультра')\n",
    "plt.title('Гистограмма помесячного использования трафика для пользователей разных тарифов')\n",
    "plt.legend()"
   ]
  },
  {
   "cell_type": "markdown",
   "metadata": {},
   "source": [
    "**Ежемесячное использование трафика имеет нормальный вид распределения. Пользователи тарифа \"Смарт\" в большинстве своем превышают предоставленный пакет в 15 ГБ.**"
   ]
  },
  {
   "cell_type": "markdown",
   "metadata": {},
   "source": [
    "### Результаты анализа"
   ]
  },
  {
   "cell_type": "markdown",
   "metadata": {},
   "source": [
    "**Распределения продолжительности звонков и использования интернета имеют нормальный характер, в то время как количесвто отправленных сообщений имеет распределение ~~Гаусса~~ Пуассона. Предоставленное для пользователей траифа \"Ультра\" количество минут и сообщений в несколько раз превышает их потребность, а доступный пакет интернет-трафика недостаточен для пользователей тарифа \"Смарт\".**"
   ]
  },
  {
   "cell_type": "markdown",
   "metadata": {},
   "source": [
    "## Проверка гипотез"
   ]
  },
  {
   "cell_type": "markdown",
   "metadata": {},
   "source": [
    "### Средняя выручка тарифов \"Ультра\" и \"Смарт\" различается"
   ]
  },
  {
   "cell_type": "markdown",
   "metadata": {},
   "source": [
    "**Нулевая гипотеза H0 - cредняя выручка тарифов \"Ультра\" и \"Смарт\" не различается. Альтернативная гипотеза H1 - cредняя выручка тарифов \"Ультра\" и \"Смарт\" различается. Уровень значимости примем за 5 %.**"
   ]
  },
  {
   "cell_type": "code",
   "execution_count": 49,
   "metadata": {},
   "outputs": [
    {
     "name": "stdout",
     "output_type": "stream",
     "text": [
      "p-value = 8.081909555489933e-161\n",
      "Отвергаем нулевую гипотезу\n",
      "Средняя выручка по пользователям тарифа \"Смарт\": 1289.6417040358745\n",
      "Средняя выручка по пользователям тарифа \"Ультра\": 2070.030425963489\n"
     ]
    }
   ],
   "source": [
    "alpha = 0.05 #Критический уровень статистической значимости\n",
    "results = st.ttest_ind(svod.query('tariff==\"smart\"')['proceeds'], svod.query('tariff==\"ultra\"')['proceeds'])\n",
    "print('p-value =', results.pvalue)\n",
    "if results.pvalue < alpha:\n",
    "    print('Отвергаем нулевую гипотезу')\n",
    "else:\n",
    "    print('Не отвергаем нулевую гипотезу')\n",
    "print('Средняя выручка по пользователям тарифа \"Смарт\":', svod.query('tariff==\"smart\"')['proceeds'].mean())\n",
    "print('Средняя выручка по пользователям тарифа \"Ультра\":', svod.query('tariff==\"ultra\"')['proceeds'].mean())"
   ]
  },
  {
   "cell_type": "markdown",
   "metadata": {},
   "source": [
    "**Результаты анализа показывают, что вероятность получить данную выборку при равной выручке тарифов \"Ультра\" и \"Смарт\" практически равна нулю. На этом основании мы отвергаем нулевую гипотезу о том, что cредняя выручка тарифов \"Ультра\" и \"Смарт\" одинаковая, и делаем вывод, что выручка тарифов \"Ультра\" и \"Смарт\" различается. Выручка по пользователям тарифа \"Смарт\" существенно выше.**"
   ]
  },
  {
   "cell_type": "markdown",
   "metadata": {},
   "source": [
    "### Средняя выручка пользователей из Москвы отличается от выручки пользователей из других регионов."
   ]
  },
  {
   "cell_type": "markdown",
   "metadata": {},
   "source": [
    "**Нулевая гипотеза H0 - cредняя выручка пользователей из Москвы и других регионов одинаковая. Альтернативная гипотеза H1 - cредняя выручка пользователей из Москвы и других регионов различается. Уровень значимости примем за 5 %.**"
   ]
  },
  {
   "cell_type": "code",
   "execution_count": 50,
   "metadata": {},
   "outputs": [
    {
     "name": "stdout",
     "output_type": "stream",
     "text": [
      "p-value = 0.5400751614511182\n",
      "Не отвергаем нулевую гипотезу\n",
      "Средняя выручка по пользователям Москвы: 1546.7135842880523\n",
      "Средняя выручка по пользователям других регионов: 1524.7251439539348\n"
     ]
    }
   ],
   "source": [
    "alpha = 0.05 #Критический уровень статистической значимости\n",
    "results = st.ttest_ind(svod.query('city==\"Москва\"')['proceeds'], svod.query('city!=\"Москва\"')['proceeds'])\n",
    "print('p-value =', results.pvalue)\n",
    "if results.pvalue < alpha:\n",
    "    print('Отвергаем нулевую гипотезу')\n",
    "else:\n",
    "    print('Не отвергаем нулевую гипотезу')\n",
    "print('Средняя выручка по пользователям Москвы:', svod.query('city==\"Москва\"')['proceeds'].mean())\n",
    "print('Средняя выручка по пользователям других регионов:', svod.query('city!=\"Москва\"')['proceeds'].mean())"
   ]
  },
  {
   "cell_type": "markdown",
   "metadata": {},
   "source": [
    "**Вероятность получить такую выборку при равной выручке из Москвы и других регионов довольно высока, значит, мы не можем опровергнуть нулевую гипотезу. Тогда альтернативную гипотезу о том, что средняя выручка пользователей из Москвы отличается от выручки пользователей из других регионов, можно считать недоказанной.**"
   ]
  },
  {
   "cell_type": "markdown",
   "metadata": {},
   "source": [
    "## Общий вывод"
   ]
  },
  {
   "cell_type": "markdown",
   "metadata": {},
   "source": [
    "**В этом проекте выполнен анализ двух тарифов \"Мегалайна\" по выборке из 500 клиентов. Для этого были подготовлены данные, создана сводная таблица с помесячной выручкой по каждому пользователю. По результатам анализа определено, что средняя выручка пользователей тарифов «Ультра» и «Смарт» различается. Выручка пользователей Москвы и других регионов значительно не отличается.**"
   ]
  }
 ],
 "metadata": {
  "ExecuteTimeLog": [
   {
    "duration": 3071,
    "start_time": "2021-10-18T10:18:12.720Z"
   },
   {
    "duration": 513,
    "start_time": "2021-10-18T10:18:33.834Z"
   },
   {
    "duration": 43,
    "start_time": "2021-10-18T10:18:57.917Z"
   },
   {
    "duration": 56,
    "start_time": "2021-10-18T10:21:57.104Z"
   },
   {
    "duration": 34,
    "start_time": "2021-10-18T10:22:01.389Z"
   },
   {
    "duration": 34,
    "start_time": "2021-10-18T10:22:21.670Z"
   },
   {
    "duration": 56,
    "start_time": "2021-10-18T10:22:38.694Z"
   },
   {
    "duration": 36,
    "start_time": "2021-10-18T10:22:56.127Z"
   },
   {
    "duration": 487,
    "start_time": "2021-10-18T10:23:20.382Z"
   },
   {
    "duration": 34,
    "start_time": "2021-10-18T10:23:20.872Z"
   },
   {
    "duration": 34,
    "start_time": "2021-10-18T10:23:20.909Z"
   },
   {
    "duration": 279,
    "start_time": "2021-10-18T10:25:27.413Z"
   },
   {
    "duration": 316,
    "start_time": "2021-10-18T10:29:46.291Z"
   },
   {
    "duration": 55,
    "start_time": "2021-10-18T10:29:53.755Z"
   },
   {
    "duration": 520,
    "start_time": "2021-10-18T10:30:03.918Z"
   },
   {
    "duration": 36,
    "start_time": "2021-10-18T10:30:04.441Z"
   },
   {
    "duration": 38,
    "start_time": "2021-10-18T10:30:04.481Z"
   },
   {
    "duration": 85,
    "start_time": "2021-10-18T10:30:04.522Z"
   },
   {
    "duration": 500,
    "start_time": "2021-10-18T10:34:55.728Z"
   },
   {
    "duration": 34,
    "start_time": "2021-10-18T10:34:56.231Z"
   },
   {
    "duration": 38,
    "start_time": "2021-10-18T10:34:56.267Z"
   },
   {
    "duration": 35,
    "start_time": "2021-10-18T10:34:56.307Z"
   },
   {
    "duration": 37,
    "start_time": "2021-10-18T10:34:56.345Z"
   },
   {
    "duration": 20,
    "start_time": "2021-10-18T10:35:12.693Z"
   },
   {
    "duration": 28,
    "start_time": "2021-10-18T10:35:20.148Z"
   },
   {
    "duration": 511,
    "start_time": "2021-10-18T10:36:35.532Z"
   },
   {
    "duration": 37,
    "start_time": "2021-10-18T10:36:36.046Z"
   },
   {
    "duration": 36,
    "start_time": "2021-10-18T10:36:36.086Z"
   },
   {
    "duration": 58,
    "start_time": "2021-10-18T10:36:36.125Z"
   },
   {
    "duration": 7,
    "start_time": "2021-10-18T10:36:36.185Z"
   },
   {
    "duration": 25,
    "start_time": "2021-10-18T10:36:46.666Z"
   },
   {
    "duration": 508,
    "start_time": "2021-10-18T10:36:51.761Z"
   },
   {
    "duration": 33,
    "start_time": "2021-10-18T10:36:52.272Z"
   },
   {
    "duration": 33,
    "start_time": "2021-10-18T10:36:52.308Z"
   },
   {
    "duration": 64,
    "start_time": "2021-10-18T10:36:52.343Z"
   },
   {
    "duration": 23,
    "start_time": "2021-10-18T10:36:52.409Z"
   },
   {
    "duration": 29,
    "start_time": "2021-10-18T10:38:36.058Z"
   },
   {
    "duration": 500,
    "start_time": "2021-10-18T10:38:42.382Z"
   },
   {
    "duration": 37,
    "start_time": "2021-10-18T10:38:42.884Z"
   },
   {
    "duration": 62,
    "start_time": "2021-10-18T10:38:42.924Z"
   },
   {
    "duration": 41,
    "start_time": "2021-10-18T10:38:42.989Z"
   },
   {
    "duration": 64,
    "start_time": "2021-10-18T10:38:43.033Z"
   },
   {
    "duration": 507,
    "start_time": "2021-10-18T10:40:05.487Z"
   },
   {
    "duration": 40,
    "start_time": "2021-10-18T10:40:05.997Z"
   },
   {
    "duration": 53,
    "start_time": "2021-10-18T10:40:06.041Z"
   },
   {
    "duration": 40,
    "start_time": "2021-10-18T10:40:06.097Z"
   },
   {
    "duration": 7,
    "start_time": "2021-10-18T10:40:06.140Z"
   },
   {
    "duration": 56,
    "start_time": "2021-10-18T10:40:06.150Z"
   },
   {
    "duration": 36,
    "start_time": "2021-10-18T10:40:06.208Z"
   },
   {
    "duration": 114,
    "start_time": "2021-10-18T10:52:05.008Z"
   },
   {
    "duration": 120,
    "start_time": "2021-10-18T10:52:12.663Z"
   },
   {
    "duration": 13,
    "start_time": "2021-10-18T10:54:41.317Z"
   },
   {
    "duration": 9,
    "start_time": "2021-10-18T10:54:46.365Z"
   },
   {
    "duration": 554,
    "start_time": "2021-10-18T10:55:33.091Z"
   },
   {
    "duration": 37,
    "start_time": "2021-10-18T10:55:33.648Z"
   },
   {
    "duration": 36,
    "start_time": "2021-10-18T10:55:33.689Z"
   },
   {
    "duration": 69,
    "start_time": "2021-10-18T10:55:33.729Z"
   },
   {
    "duration": 8,
    "start_time": "2021-10-18T10:55:33.800Z"
   },
   {
    "duration": 147,
    "start_time": "2021-10-18T10:55:33.810Z"
   },
   {
    "duration": 38,
    "start_time": "2021-10-18T10:55:33.960Z"
   },
   {
    "duration": 38,
    "start_time": "2021-10-18T10:55:34.001Z"
   },
   {
    "duration": 5,
    "start_time": "2021-10-18T10:55:34.042Z"
   },
   {
    "duration": 12,
    "start_time": "2021-10-18T10:55:57.116Z"
   },
   {
    "duration": 10,
    "start_time": "2021-10-18T10:56:05.938Z"
   },
   {
    "duration": 516,
    "start_time": "2021-10-18T11:00:51.442Z"
   },
   {
    "duration": 32,
    "start_time": "2021-10-18T11:00:51.961Z"
   },
   {
    "duration": 34,
    "start_time": "2021-10-18T11:00:51.996Z"
   },
   {
    "duration": 61,
    "start_time": "2021-10-18T11:00:52.033Z"
   },
   {
    "duration": 6,
    "start_time": "2021-10-18T11:00:52.098Z"
   },
   {
    "duration": 135,
    "start_time": "2021-10-18T11:00:52.106Z"
   },
   {
    "duration": 46,
    "start_time": "2021-10-18T11:00:52.244Z"
   },
   {
    "duration": 35,
    "start_time": "2021-10-18T11:00:52.292Z"
   },
   {
    "duration": 10,
    "start_time": "2021-10-18T11:00:52.329Z"
   },
   {
    "duration": 353,
    "start_time": "2021-10-18T11:00:52.341Z"
   },
   {
    "duration": 18,
    "start_time": "2021-10-18T11:01:06.108Z"
   },
   {
    "duration": 478,
    "start_time": "2021-10-18T11:04:10.237Z"
   },
   {
    "duration": 35,
    "start_time": "2021-10-18T11:04:10.718Z"
   },
   {
    "duration": 35,
    "start_time": "2021-10-18T11:04:10.757Z"
   },
   {
    "duration": 36,
    "start_time": "2021-10-18T11:04:10.795Z"
   },
   {
    "duration": 5,
    "start_time": "2021-10-18T11:04:10.834Z"
   },
   {
    "duration": 146,
    "start_time": "2021-10-18T11:04:10.842Z"
   },
   {
    "duration": 29,
    "start_time": "2021-10-18T11:04:10.991Z"
   },
   {
    "duration": 62,
    "start_time": "2021-10-18T11:04:11.023Z"
   },
   {
    "duration": 9,
    "start_time": "2021-10-18T11:04:11.088Z"
   },
   {
    "duration": 9,
    "start_time": "2021-10-18T11:04:11.100Z"
   },
   {
    "duration": 333,
    "start_time": "2021-10-18T11:04:11.112Z"
   },
   {
    "duration": 273,
    "start_time": "2021-10-18T11:04:20.300Z"
   },
   {
    "duration": 29,
    "start_time": "2021-10-18T11:04:28.866Z"
   },
   {
    "duration": 518,
    "start_time": "2021-10-18T11:06:28.106Z"
   },
   {
    "duration": 37,
    "start_time": "2021-10-18T11:06:28.626Z"
   },
   {
    "duration": 54,
    "start_time": "2021-10-18T11:06:28.666Z"
   },
   {
    "duration": 37,
    "start_time": "2021-10-18T11:06:28.722Z"
   },
   {
    "duration": 6,
    "start_time": "2021-10-18T11:06:28.761Z"
   },
   {
    "duration": 124,
    "start_time": "2021-10-18T11:06:28.782Z"
   },
   {
    "duration": 32,
    "start_time": "2021-10-18T11:06:28.908Z"
   },
   {
    "duration": 66,
    "start_time": "2021-10-18T11:06:28.943Z"
   },
   {
    "duration": 10,
    "start_time": "2021-10-18T11:06:29.012Z"
   },
   {
    "duration": 23,
    "start_time": "2021-10-18T11:06:29.024Z"
   },
   {
    "duration": 27,
    "start_time": "2021-10-18T11:06:29.049Z"
   },
   {
    "duration": 47,
    "start_time": "2021-10-18T11:06:29.078Z"
   },
   {
    "duration": 31,
    "start_time": "2021-10-18T11:06:29.127Z"
   },
   {
    "duration": 25,
    "start_time": "2021-10-18T11:06:37.426Z"
   },
   {
    "duration": 501,
    "start_time": "2021-10-18T11:07:37.420Z"
   },
   {
    "duration": 37,
    "start_time": "2021-10-18T11:07:37.923Z"
   },
   {
    "duration": 35,
    "start_time": "2021-10-18T11:07:37.963Z"
   },
   {
    "duration": 38,
    "start_time": "2021-10-18T11:07:38.001Z"
   },
   {
    "duration": 6,
    "start_time": "2021-10-18T11:07:38.041Z"
   },
   {
    "duration": 149,
    "start_time": "2021-10-18T11:07:38.049Z"
   },
   {
    "duration": 31,
    "start_time": "2021-10-18T11:07:38.200Z"
   },
   {
    "duration": 57,
    "start_time": "2021-10-18T11:07:38.233Z"
   },
   {
    "duration": 10,
    "start_time": "2021-10-18T11:07:38.294Z"
   },
   {
    "duration": 10,
    "start_time": "2021-10-18T11:07:38.307Z"
   },
   {
    "duration": 9,
    "start_time": "2021-10-18T11:07:38.319Z"
   },
   {
    "duration": 69,
    "start_time": "2021-10-18T11:07:38.330Z"
   },
   {
    "duration": 25,
    "start_time": "2021-10-18T11:07:38.402Z"
   },
   {
    "duration": 19,
    "start_time": "2021-10-18T11:07:38.429Z"
   },
   {
    "duration": 59,
    "start_time": "2021-10-18T11:09:27.896Z"
   },
   {
    "duration": 25,
    "start_time": "2021-10-18T11:09:42.687Z"
   },
   {
    "duration": 516,
    "start_time": "2021-10-18T11:09:57.551Z"
   },
   {
    "duration": 34,
    "start_time": "2021-10-18T11:09:58.069Z"
   },
   {
    "duration": 33,
    "start_time": "2021-10-18T11:09:58.106Z"
   },
   {
    "duration": 64,
    "start_time": "2021-10-18T11:09:58.142Z"
   },
   {
    "duration": 6,
    "start_time": "2021-10-18T11:09:58.208Z"
   },
   {
    "duration": 136,
    "start_time": "2021-10-18T11:09:58.216Z"
   },
   {
    "duration": 39,
    "start_time": "2021-10-18T11:09:58.354Z"
   },
   {
    "duration": 39,
    "start_time": "2021-10-18T11:09:58.397Z"
   },
   {
    "duration": 10,
    "start_time": "2021-10-18T11:09:58.439Z"
   },
   {
    "duration": 9,
    "start_time": "2021-10-18T11:09:58.484Z"
   },
   {
    "duration": 12,
    "start_time": "2021-10-18T11:09:58.496Z"
   },
   {
    "duration": 34,
    "start_time": "2021-10-18T11:09:58.510Z"
   },
   {
    "duration": 72,
    "start_time": "2021-10-18T11:09:58.546Z"
   },
   {
    "duration": 25,
    "start_time": "2021-10-18T11:09:58.620Z"
   },
   {
    "duration": 46,
    "start_time": "2021-10-18T11:09:58.647Z"
   },
   {
    "duration": 26,
    "start_time": "2021-10-18T11:09:58.696Z"
   },
   {
    "duration": 49,
    "start_time": "2021-10-18T11:10:33.648Z"
   },
   {
    "duration": 18,
    "start_time": "2021-10-18T12:39:05.807Z"
   },
   {
    "duration": 516,
    "start_time": "2021-10-18T12:44:34.829Z"
   },
   {
    "duration": 37,
    "start_time": "2021-10-18T12:44:35.348Z"
   },
   {
    "duration": 37,
    "start_time": "2021-10-18T12:44:35.388Z"
   },
   {
    "duration": 69,
    "start_time": "2021-10-18T12:44:35.429Z"
   },
   {
    "duration": 6,
    "start_time": "2021-10-18T12:44:35.500Z"
   },
   {
    "duration": 141,
    "start_time": "2021-10-18T12:44:35.509Z"
   },
   {
    "duration": 44,
    "start_time": "2021-10-18T12:44:35.653Z"
   },
   {
    "duration": 38,
    "start_time": "2021-10-18T12:44:35.701Z"
   },
   {
    "duration": 40,
    "start_time": "2021-10-18T12:44:35.743Z"
   },
   {
    "duration": 8,
    "start_time": "2021-10-18T12:44:35.786Z"
   },
   {
    "duration": 15,
    "start_time": "2021-10-18T12:44:35.797Z"
   },
   {
    "duration": 6,
    "start_time": "2021-10-18T12:44:35.814Z"
   },
   {
    "duration": 33,
    "start_time": "2021-10-18T12:44:35.823Z"
   },
   {
    "duration": 74,
    "start_time": "2021-10-18T12:44:35.859Z"
   },
   {
    "duration": 20,
    "start_time": "2021-10-18T12:44:35.935Z"
   },
   {
    "duration": 47,
    "start_time": "2021-10-18T12:44:35.958Z"
   },
   {
    "duration": 24,
    "start_time": "2021-10-18T12:44:36.008Z"
   },
   {
    "duration": 87,
    "start_time": "2021-10-18T12:44:36.035Z"
   },
   {
    "duration": 17,
    "start_time": "2021-10-18T12:44:36.124Z"
   },
   {
    "duration": 24,
    "start_time": "2021-10-18T12:44:46.919Z"
   },
   {
    "duration": 6,
    "start_time": "2021-10-18T12:45:08.037Z"
   },
   {
    "duration": 488,
    "start_time": "2021-10-18T12:45:11.537Z"
   },
   {
    "duration": 34,
    "start_time": "2021-10-18T12:45:12.028Z"
   },
   {
    "duration": 36,
    "start_time": "2021-10-18T12:45:12.065Z"
   },
   {
    "duration": 40,
    "start_time": "2021-10-18T12:45:12.104Z"
   },
   {
    "duration": 5,
    "start_time": "2021-10-18T12:45:12.146Z"
   },
   {
    "duration": 153,
    "start_time": "2021-10-18T12:45:12.154Z"
   },
   {
    "duration": 34,
    "start_time": "2021-10-18T12:45:12.310Z"
   },
   {
    "duration": 65,
    "start_time": "2021-10-18T12:45:12.347Z"
   },
   {
    "duration": 11,
    "start_time": "2021-10-18T12:45:12.417Z"
   },
   {
    "duration": 14,
    "start_time": "2021-10-18T12:45:12.431Z"
   },
   {
    "duration": 38,
    "start_time": "2021-10-18T12:45:12.448Z"
   },
   {
    "duration": 9,
    "start_time": "2021-10-18T12:45:12.489Z"
   },
   {
    "duration": 46,
    "start_time": "2021-10-18T12:45:12.500Z"
   },
   {
    "duration": 59,
    "start_time": "2021-10-18T12:45:12.548Z"
   },
   {
    "duration": 34,
    "start_time": "2021-10-18T12:45:12.610Z"
   },
   {
    "duration": 60,
    "start_time": "2021-10-18T12:45:12.647Z"
   },
   {
    "duration": 24,
    "start_time": "2021-10-18T12:45:12.709Z"
   },
   {
    "duration": 78,
    "start_time": "2021-10-18T12:45:12.736Z"
   },
   {
    "duration": 17,
    "start_time": "2021-10-18T12:45:12.817Z"
   },
   {
    "duration": 20,
    "start_time": "2021-10-18T12:45:44.689Z"
   },
   {
    "duration": 11,
    "start_time": "2021-10-18T12:47:25.646Z"
   },
   {
    "duration": 482,
    "start_time": "2021-10-18T12:58:22.383Z"
   },
   {
    "duration": 6,
    "start_time": "2021-10-18T12:58:33.208Z"
   },
   {
    "duration": 6,
    "start_time": "2021-10-18T12:58:38.637Z"
   },
   {
    "duration": 6,
    "start_time": "2021-10-18T12:58:49.883Z"
   },
   {
    "duration": 90,
    "start_time": "2021-10-18T12:59:12.372Z"
   },
   {
    "duration": 12,
    "start_time": "2021-10-18T12:59:31.414Z"
   },
   {
    "duration": 332,
    "start_time": "2021-10-18T12:59:39.952Z"
   },
   {
    "duration": 10,
    "start_time": "2021-10-18T13:00:03.172Z"
   },
   {
    "duration": 722,
    "start_time": "2021-10-18T13:00:09.672Z"
   },
   {
    "duration": 13,
    "start_time": "2021-10-18T13:00:22.323Z"
   },
   {
    "duration": 9,
    "start_time": "2021-10-18T13:00:28.077Z"
   },
   {
    "duration": 12,
    "start_time": "2021-10-18T13:00:30.464Z"
   },
   {
    "duration": 221,
    "start_time": "2021-10-18T13:00:38.646Z"
   },
   {
    "duration": 17656,
    "start_time": "2021-10-18T13:00:42.374Z"
   },
   {
    "duration": 1391,
    "start_time": "2021-10-19T11:39:53.872Z"
   },
   {
    "duration": 49,
    "start_time": "2021-10-19T11:39:55.265Z"
   },
   {
    "duration": 61,
    "start_time": "2021-10-19T11:39:55.317Z"
   },
   {
    "duration": 43,
    "start_time": "2021-10-19T11:39:55.381Z"
   },
   {
    "duration": 7,
    "start_time": "2021-10-19T11:39:55.426Z"
   },
   {
    "duration": 145,
    "start_time": "2021-10-19T11:39:55.436Z"
   },
   {
    "duration": 31,
    "start_time": "2021-10-19T11:39:55.584Z"
   },
   {
    "duration": 62,
    "start_time": "2021-10-19T11:39:55.617Z"
   },
   {
    "duration": 15,
    "start_time": "2021-10-19T11:39:55.683Z"
   },
   {
    "duration": 9,
    "start_time": "2021-10-19T11:39:55.701Z"
   },
   {
    "duration": 8,
    "start_time": "2021-10-19T11:39:55.712Z"
   },
   {
    "duration": 36,
    "start_time": "2021-10-19T11:39:55.722Z"
   },
   {
    "duration": 32,
    "start_time": "2021-10-19T11:39:55.760Z"
   },
   {
    "duration": 72,
    "start_time": "2021-10-19T11:39:55.795Z"
   },
   {
    "duration": 26,
    "start_time": "2021-10-19T11:39:55.869Z"
   },
   {
    "duration": 26,
    "start_time": "2021-10-19T11:39:55.898Z"
   },
   {
    "duration": 84,
    "start_time": "2021-10-19T11:39:55.927Z"
   },
   {
    "duration": 16,
    "start_time": "2021-10-19T11:39:56.013Z"
   },
   {
    "duration": 44,
    "start_time": "2021-10-19T11:39:56.032Z"
   },
   {
    "duration": 8,
    "start_time": "2021-10-19T11:40:47.675Z"
   },
   {
    "duration": 456,
    "start_time": "2021-10-19T12:05:33.688Z"
   },
   {
    "duration": 1264,
    "start_time": "2021-10-19T12:05:40.289Z"
   },
   {
    "duration": 7,
    "start_time": "2021-10-19T12:07:33.660Z"
   },
   {
    "duration": 11,
    "start_time": "2021-10-19T12:07:44.468Z"
   },
   {
    "duration": 10,
    "start_time": "2021-10-19T12:08:33.895Z"
   },
   {
    "duration": 9,
    "start_time": "2021-10-19T12:08:36.461Z"
   },
   {
    "duration": 561,
    "start_time": "2021-10-19T12:08:48.238Z"
   },
   {
    "duration": 35,
    "start_time": "2021-10-19T12:08:48.802Z"
   },
   {
    "duration": 38,
    "start_time": "2021-10-19T12:08:48.840Z"
   },
   {
    "duration": 39,
    "start_time": "2021-10-19T12:08:48.881Z"
   },
   {
    "duration": 5,
    "start_time": "2021-10-19T12:08:48.923Z"
   },
   {
    "duration": 134,
    "start_time": "2021-10-19T12:08:48.930Z"
   },
   {
    "duration": 31,
    "start_time": "2021-10-19T12:08:49.066Z"
   },
   {
    "duration": 66,
    "start_time": "2021-10-19T12:08:49.100Z"
   },
   {
    "duration": 8,
    "start_time": "2021-10-19T12:08:49.170Z"
   },
   {
    "duration": 17,
    "start_time": "2021-10-19T12:08:49.181Z"
   },
   {
    "duration": 5,
    "start_time": "2021-10-19T12:08:49.200Z"
   },
   {
    "duration": 14,
    "start_time": "2021-10-19T12:08:49.207Z"
   },
   {
    "duration": 58,
    "start_time": "2021-10-19T12:08:49.224Z"
   },
   {
    "duration": 51,
    "start_time": "2021-10-19T12:08:49.284Z"
   },
   {
    "duration": 42,
    "start_time": "2021-10-19T12:08:49.337Z"
   },
   {
    "duration": 25,
    "start_time": "2021-10-19T12:08:49.382Z"
   },
   {
    "duration": 80,
    "start_time": "2021-10-19T12:08:49.409Z"
   },
   {
    "duration": 15,
    "start_time": "2021-10-19T12:08:49.491Z"
   },
   {
    "duration": 23,
    "start_time": "2021-10-19T12:08:49.509Z"
   },
   {
    "duration": 469,
    "start_time": "2021-10-19T12:08:49.534Z"
   },
   {
    "duration": -52,
    "start_time": "2021-10-19T12:08:50.057Z"
   },
   {
    "duration": 596,
    "start_time": "2021-10-19T12:08:57.279Z"
   },
   {
    "duration": 35,
    "start_time": "2021-10-19T12:08:57.877Z"
   },
   {
    "duration": 47,
    "start_time": "2021-10-19T12:08:57.917Z"
   },
   {
    "duration": 41,
    "start_time": "2021-10-19T12:08:57.968Z"
   },
   {
    "duration": 8,
    "start_time": "2021-10-19T12:08:58.011Z"
   },
   {
    "duration": 157,
    "start_time": "2021-10-19T12:08:58.022Z"
   },
   {
    "duration": 39,
    "start_time": "2021-10-19T12:08:58.182Z"
   },
   {
    "duration": 64,
    "start_time": "2021-10-19T12:08:58.224Z"
   },
   {
    "duration": 10,
    "start_time": "2021-10-19T12:08:58.292Z"
   },
   {
    "duration": 10,
    "start_time": "2021-10-19T12:08:58.305Z"
   },
   {
    "duration": 6,
    "start_time": "2021-10-19T12:08:58.318Z"
   },
   {
    "duration": 6,
    "start_time": "2021-10-19T12:08:58.358Z"
   },
   {
    "duration": 34,
    "start_time": "2021-10-19T12:08:58.367Z"
   },
   {
    "duration": 81,
    "start_time": "2021-10-19T12:08:58.403Z"
   },
   {
    "duration": 27,
    "start_time": "2021-10-19T12:08:58.486Z"
   },
   {
    "duration": 51,
    "start_time": "2021-10-19T12:08:58.515Z"
   },
   {
    "duration": 64,
    "start_time": "2021-10-19T12:08:58.568Z"
   },
   {
    "duration": 39,
    "start_time": "2021-10-19T12:08:58.635Z"
   },
   {
    "duration": 22,
    "start_time": "2021-10-19T12:08:58.677Z"
   },
   {
    "duration": 12,
    "start_time": "2021-10-19T12:08:58.701Z"
   },
   {
    "duration": 48,
    "start_time": "2021-10-19T12:08:58.715Z"
   },
   {
    "duration": 529,
    "start_time": "2021-10-19T12:09:41.438Z"
   },
   {
    "duration": 34,
    "start_time": "2021-10-19T12:09:41.970Z"
   },
   {
    "duration": 33,
    "start_time": "2021-10-19T12:09:42.007Z"
   },
   {
    "duration": 37,
    "start_time": "2021-10-19T12:09:42.058Z"
   },
   {
    "duration": 5,
    "start_time": "2021-10-19T12:09:42.097Z"
   },
   {
    "duration": 134,
    "start_time": "2021-10-19T12:09:42.105Z"
   },
   {
    "duration": 39,
    "start_time": "2021-10-19T12:09:42.242Z"
   },
   {
    "duration": 36,
    "start_time": "2021-10-19T12:09:42.283Z"
   },
   {
    "duration": 38,
    "start_time": "2021-10-19T12:09:42.322Z"
   },
   {
    "duration": 9,
    "start_time": "2021-10-19T12:09:42.363Z"
   },
   {
    "duration": 9,
    "start_time": "2021-10-19T12:09:42.374Z"
   },
   {
    "duration": 9,
    "start_time": "2021-10-19T12:09:42.385Z"
   },
   {
    "duration": 31,
    "start_time": "2021-10-19T12:09:42.396Z"
   },
   {
    "duration": 76,
    "start_time": "2021-10-19T12:09:42.429Z"
   },
   {
    "duration": 58,
    "start_time": "2021-10-19T12:09:42.508Z"
   },
   {
    "duration": 33,
    "start_time": "2021-10-19T12:09:42.568Z"
   },
   {
    "duration": 82,
    "start_time": "2021-10-19T12:09:42.604Z"
   },
   {
    "duration": 24,
    "start_time": "2021-10-19T12:09:42.689Z"
   },
   {
    "duration": 47,
    "start_time": "2021-10-19T12:09:42.715Z"
   },
   {
    "duration": 10,
    "start_time": "2021-10-19T12:09:42.764Z"
   },
   {
    "duration": 20,
    "start_time": "2021-10-19T12:09:42.777Z"
   },
   {
    "duration": 528,
    "start_time": "2021-10-19T12:11:22.519Z"
   },
   {
    "duration": 35,
    "start_time": "2021-10-19T12:11:23.050Z"
   },
   {
    "duration": 36,
    "start_time": "2021-10-19T12:11:23.090Z"
   },
   {
    "duration": 65,
    "start_time": "2021-10-19T12:11:23.130Z"
   },
   {
    "duration": 7,
    "start_time": "2021-10-19T12:11:23.197Z"
   },
   {
    "duration": 154,
    "start_time": "2021-10-19T12:11:23.207Z"
   },
   {
    "duration": 32,
    "start_time": "2021-10-19T12:11:23.364Z"
   },
   {
    "duration": 61,
    "start_time": "2021-10-19T12:11:23.398Z"
   },
   {
    "duration": 10,
    "start_time": "2021-10-19T12:11:23.462Z"
   },
   {
    "duration": 24,
    "start_time": "2021-10-19T12:11:23.474Z"
   },
   {
    "duration": 11,
    "start_time": "2021-10-19T12:11:23.500Z"
   },
   {
    "duration": 16,
    "start_time": "2021-10-19T12:11:23.513Z"
   },
   {
    "duration": 123,
    "start_time": "2021-10-19T12:11:23.531Z"
   },
   {
    "duration": 54,
    "start_time": "2021-10-19T12:11:23.656Z"
   },
   {
    "duration": 26,
    "start_time": "2021-10-19T12:11:23.712Z"
   },
   {
    "duration": 43,
    "start_time": "2021-10-19T12:11:23.740Z"
   },
   {
    "duration": 88,
    "start_time": "2021-10-19T12:11:23.785Z"
   },
   {
    "duration": 17,
    "start_time": "2021-10-19T12:11:23.875Z"
   },
   {
    "duration": 35,
    "start_time": "2021-10-19T12:11:23.894Z"
   },
   {
    "duration": 31,
    "start_time": "2021-10-19T12:11:23.931Z"
   },
   {
    "duration": 12,
    "start_time": "2021-10-19T12:21:56.267Z"
   },
   {
    "duration": 622,
    "start_time": "2021-10-19T12:23:06.929Z"
   },
   {
    "duration": 33,
    "start_time": "2021-10-19T12:23:07.554Z"
   },
   {
    "duration": 35,
    "start_time": "2021-10-19T12:23:07.591Z"
   },
   {
    "duration": 64,
    "start_time": "2021-10-19T12:23:07.628Z"
   },
   {
    "duration": 6,
    "start_time": "2021-10-19T12:23:07.695Z"
   },
   {
    "duration": 138,
    "start_time": "2021-10-19T12:23:07.703Z"
   },
   {
    "duration": 34,
    "start_time": "2021-10-19T12:23:07.843Z"
   },
   {
    "duration": 53,
    "start_time": "2021-10-19T12:23:07.881Z"
   },
   {
    "duration": 12,
    "start_time": "2021-10-19T12:23:07.962Z"
   },
   {
    "duration": 13,
    "start_time": "2021-10-19T12:23:07.978Z"
   },
   {
    "duration": 16,
    "start_time": "2021-10-19T12:23:07.994Z"
   },
   {
    "duration": 17,
    "start_time": "2021-10-19T12:23:08.012Z"
   },
   {
    "duration": 49,
    "start_time": "2021-10-19T12:23:08.032Z"
   },
   {
    "duration": 53,
    "start_time": "2021-10-19T12:23:08.083Z"
   },
   {
    "duration": 28,
    "start_time": "2021-10-19T12:23:08.160Z"
   },
   {
    "duration": 33,
    "start_time": "2021-10-19T12:23:08.191Z"
   },
   {
    "duration": 81,
    "start_time": "2021-10-19T12:23:08.227Z"
   },
   {
    "duration": 16,
    "start_time": "2021-10-19T12:23:08.310Z"
   },
   {
    "duration": 44,
    "start_time": "2021-10-19T12:23:08.329Z"
   },
   {
    "duration": 6,
    "start_time": "2021-10-19T12:23:08.375Z"
   },
   {
    "duration": 412,
    "start_time": "2021-10-19T12:25:15.826Z"
   },
   {
    "duration": 9444,
    "start_time": "2021-10-19T12:25:32.197Z"
   },
   {
    "duration": -38,
    "start_time": "2021-10-19T12:25:41.682Z"
   },
   {
    "duration": 9,
    "start_time": "2021-10-19T12:25:51.230Z"
   },
   {
    "duration": 511,
    "start_time": "2021-10-19T12:26:35.399Z"
   },
   {
    "duration": 33,
    "start_time": "2021-10-19T12:26:35.913Z"
   },
   {
    "duration": 40,
    "start_time": "2021-10-19T12:26:35.949Z"
   },
   {
    "duration": 38,
    "start_time": "2021-10-19T12:26:35.991Z"
   },
   {
    "duration": 6,
    "start_time": "2021-10-19T12:26:36.031Z"
   },
   {
    "duration": 116,
    "start_time": "2021-10-19T12:26:36.058Z"
   },
   {
    "duration": 30,
    "start_time": "2021-10-19T12:26:36.176Z"
   },
   {
    "duration": 59,
    "start_time": "2021-10-19T12:26:36.209Z"
   },
   {
    "duration": 9,
    "start_time": "2021-10-19T12:26:36.272Z"
   },
   {
    "duration": 10,
    "start_time": "2021-10-19T12:26:36.284Z"
   },
   {
    "duration": 12,
    "start_time": "2021-10-19T12:26:36.296Z"
   },
   {
    "duration": 6,
    "start_time": "2021-10-19T12:26:36.311Z"
   },
   {
    "duration": 61,
    "start_time": "2021-10-19T12:26:36.319Z"
   },
   {
    "duration": 50,
    "start_time": "2021-10-19T12:26:36.383Z"
   },
   {
    "duration": 37,
    "start_time": "2021-10-19T12:26:36.435Z"
   },
   {
    "duration": 25,
    "start_time": "2021-10-19T12:26:36.474Z"
   },
   {
    "duration": 82,
    "start_time": "2021-10-19T12:26:36.502Z"
   },
   {
    "duration": 15,
    "start_time": "2021-10-19T12:26:36.587Z"
   },
   {
    "duration": 30,
    "start_time": "2021-10-19T12:26:36.604Z"
   },
   {
    "duration": 22,
    "start_time": "2021-10-19T12:26:36.636Z"
   },
   {
    "duration": 380,
    "start_time": "2021-10-19T12:26:36.660Z"
   },
   {
    "duration": -20,
    "start_time": "2021-10-19T12:26:37.063Z"
   },
   {
    "duration": 382,
    "start_time": "2021-10-19T12:26:42.405Z"
   },
   {
    "duration": 621,
    "start_time": "2021-10-19T12:31:47.457Z"
   },
   {
    "duration": 35,
    "start_time": "2021-10-19T12:31:48.081Z"
   },
   {
    "duration": 39,
    "start_time": "2021-10-19T12:31:48.119Z"
   },
   {
    "duration": 4,
    "start_time": "2021-10-19T12:31:48.161Z"
   },
   {
    "duration": 63,
    "start_time": "2021-10-19T12:31:48.168Z"
   },
   {
    "duration": 3,
    "start_time": "2021-10-19T12:31:48.233Z"
   },
   {
    "duration": 22,
    "start_time": "2021-10-19T12:31:48.238Z"
   },
   {
    "duration": 137,
    "start_time": "2021-10-19T12:31:48.263Z"
   },
   {
    "duration": 30,
    "start_time": "2021-10-19T12:31:48.404Z"
   },
   {
    "duration": 52,
    "start_time": "2021-10-19T12:31:48.437Z"
   },
   {
    "duration": 10,
    "start_time": "2021-10-19T12:31:48.492Z"
   },
   {
    "duration": 10,
    "start_time": "2021-10-19T12:31:48.504Z"
   },
   {
    "duration": 40,
    "start_time": "2021-10-19T12:31:48.517Z"
   },
   {
    "duration": 7,
    "start_time": "2021-10-19T12:31:48.560Z"
   },
   {
    "duration": 31,
    "start_time": "2021-10-19T12:31:48.570Z"
   },
   {
    "duration": 80,
    "start_time": "2021-10-19T12:31:48.603Z"
   },
   {
    "duration": 25,
    "start_time": "2021-10-19T12:31:48.685Z"
   },
   {
    "duration": 49,
    "start_time": "2021-10-19T12:31:48.712Z"
   },
   {
    "duration": 51,
    "start_time": "2021-10-19T12:31:48.764Z"
   },
   {
    "duration": 40,
    "start_time": "2021-10-19T12:31:48.817Z"
   },
   {
    "duration": 21,
    "start_time": "2021-10-19T12:31:48.860Z"
   },
   {
    "duration": 4,
    "start_time": "2021-10-19T12:31:48.884Z"
   },
   {
    "duration": 11695,
    "start_time": "2021-10-19T12:35:19.349Z"
   },
   {
    "duration": 13,
    "start_time": "2021-10-19T12:35:33.885Z"
   },
   {
    "duration": 557,
    "start_time": "2021-10-19T12:35:40.192Z"
   },
   {
    "duration": 109,
    "start_time": "2021-10-19T12:35:40.759Z"
   },
   {
    "duration": 77,
    "start_time": "2021-10-19T12:35:40.883Z"
   },
   {
    "duration": 23,
    "start_time": "2021-10-19T12:35:40.968Z"
   },
   {
    "duration": 125,
    "start_time": "2021-10-19T12:35:40.995Z"
   },
   {
    "duration": 22,
    "start_time": "2021-10-19T12:35:41.138Z"
   },
   {
    "duration": 167,
    "start_time": "2021-10-19T12:35:41.163Z"
   },
   {
    "duration": 38,
    "start_time": "2021-10-19T12:35:41.332Z"
   },
   {
    "duration": 36,
    "start_time": "2021-10-19T12:35:41.374Z"
   },
   {
    "duration": 9,
    "start_time": "2021-10-19T12:35:41.413Z"
   },
   {
    "duration": 44,
    "start_time": "2021-10-19T12:35:41.424Z"
   },
   {
    "duration": 16,
    "start_time": "2021-10-19T12:35:41.471Z"
   },
   {
    "duration": 14,
    "start_time": "2021-10-19T12:35:41.489Z"
   },
   {
    "duration": 44,
    "start_time": "2021-10-19T12:35:41.506Z"
   },
   {
    "duration": 50,
    "start_time": "2021-10-19T12:35:41.552Z"
   },
   {
    "duration": 24,
    "start_time": "2021-10-19T12:35:41.605Z"
   },
   {
    "duration": 45,
    "start_time": "2021-10-19T12:35:41.632Z"
   },
   {
    "duration": 53,
    "start_time": "2021-10-19T12:35:41.679Z"
   },
   {
    "duration": 38,
    "start_time": "2021-10-19T12:35:41.734Z"
   },
   {
    "duration": 24,
    "start_time": "2021-10-19T12:35:41.775Z"
   },
   {
    "duration": 5,
    "start_time": "2021-10-19T12:35:41.802Z"
   },
   {
    "duration": 26,
    "start_time": "2021-10-19T12:35:41.809Z"
   },
   {
    "duration": 770,
    "start_time": "2021-10-19T12:36:27.134Z"
   },
   {
    "duration": 766,
    "start_time": "2021-10-19T12:36:44.846Z"
   },
   {
    "duration": 229,
    "start_time": "2021-10-19T12:37:26.990Z"
   },
   {
    "duration": 5,
    "start_time": "2021-10-19T12:37:36.645Z"
   },
   {
    "duration": 508,
    "start_time": "2021-10-19T12:38:21.904Z"
   },
   {
    "duration": 36,
    "start_time": "2021-10-19T12:38:22.415Z"
   },
   {
    "duration": 37,
    "start_time": "2021-10-19T12:38:22.455Z"
   },
   {
    "duration": 3,
    "start_time": "2021-10-19T12:38:22.495Z"
   },
   {
    "duration": 45,
    "start_time": "2021-10-19T12:38:22.500Z"
   },
   {
    "duration": 14,
    "start_time": "2021-10-19T12:38:22.548Z"
   },
   {
    "duration": 128,
    "start_time": "2021-10-19T12:38:22.564Z"
   },
   {
    "duration": 31,
    "start_time": "2021-10-19T12:38:22.694Z"
   },
   {
    "duration": 58,
    "start_time": "2021-10-19T12:38:22.731Z"
   },
   {
    "duration": 10,
    "start_time": "2021-10-19T12:38:22.791Z"
   },
   {
    "duration": 10,
    "start_time": "2021-10-19T12:38:22.804Z"
   },
   {
    "duration": 41,
    "start_time": "2021-10-19T12:38:22.816Z"
   },
   {
    "duration": 6,
    "start_time": "2021-10-19T12:38:22.860Z"
   },
   {
    "duration": 31,
    "start_time": "2021-10-19T12:38:22.868Z"
   },
   {
    "duration": 76,
    "start_time": "2021-10-19T12:38:22.902Z"
   },
   {
    "duration": 25,
    "start_time": "2021-10-19T12:38:22.981Z"
   },
   {
    "duration": 24,
    "start_time": "2021-10-19T12:38:23.008Z"
   },
   {
    "duration": 73,
    "start_time": "2021-10-19T12:38:23.034Z"
   },
   {
    "duration": 17,
    "start_time": "2021-10-19T12:38:23.109Z"
   },
   {
    "duration": 48,
    "start_time": "2021-10-19T12:38:23.128Z"
   },
   {
    "duration": 5,
    "start_time": "2021-10-19T12:38:23.178Z"
   },
   {
    "duration": 11,
    "start_time": "2021-10-19T12:38:23.185Z"
   },
   {
    "duration": 23,
    "start_time": "2021-10-19T12:38:23.198Z"
   },
   {
    "duration": 591,
    "start_time": "2021-10-19T12:38:42.217Z"
   },
   {
    "duration": 34,
    "start_time": "2021-10-19T12:38:42.811Z"
   },
   {
    "duration": 34,
    "start_time": "2021-10-19T12:38:42.848Z"
   },
   {
    "duration": 3,
    "start_time": "2021-10-19T12:38:42.885Z"
   },
   {
    "duration": 51,
    "start_time": "2021-10-19T12:38:42.891Z"
   },
   {
    "duration": 7,
    "start_time": "2021-10-19T12:38:42.959Z"
   },
   {
    "duration": 130,
    "start_time": "2021-10-19T12:38:42.969Z"
   },
   {
    "duration": 30,
    "start_time": "2021-10-19T12:38:43.101Z"
   },
   {
    "duration": 53,
    "start_time": "2021-10-19T12:38:43.135Z"
   },
   {
    "duration": 9,
    "start_time": "2021-10-19T12:38:43.191Z"
   },
   {
    "duration": 9,
    "start_time": "2021-10-19T12:38:43.203Z"
   },
   {
    "duration": 8,
    "start_time": "2021-10-19T12:38:43.215Z"
   },
   {
    "duration": 6,
    "start_time": "2021-10-19T12:38:43.258Z"
   },
   {
    "duration": 34,
    "start_time": "2021-10-19T12:38:43.267Z"
   },
   {
    "duration": 76,
    "start_time": "2021-10-19T12:38:43.303Z"
   },
   {
    "duration": 25,
    "start_time": "2021-10-19T12:38:43.382Z"
   },
   {
    "duration": 48,
    "start_time": "2021-10-19T12:38:43.409Z"
   },
   {
    "duration": 51,
    "start_time": "2021-10-19T12:38:43.460Z"
   },
   {
    "duration": 16,
    "start_time": "2021-10-19T12:38:43.514Z"
   },
   {
    "duration": 40,
    "start_time": "2021-10-19T12:38:43.532Z"
   },
   {
    "duration": 3,
    "start_time": "2021-10-19T12:38:43.575Z"
   },
   {
    "duration": 10,
    "start_time": "2021-10-19T12:38:43.580Z"
   },
   {
    "duration": 989,
    "start_time": "2021-10-20T04:37:42.506Z"
   },
   {
    "duration": 34,
    "start_time": "2021-10-20T04:37:43.497Z"
   },
   {
    "duration": 30,
    "start_time": "2021-10-20T04:37:43.533Z"
   },
   {
    "duration": 3,
    "start_time": "2021-10-20T04:37:43.565Z"
   },
   {
    "duration": 35,
    "start_time": "2021-10-20T04:37:43.569Z"
   },
   {
    "duration": 6,
    "start_time": "2021-10-20T04:37:43.606Z"
   },
   {
    "duration": 128,
    "start_time": "2021-10-20T04:37:43.614Z"
   },
   {
    "duration": 27,
    "start_time": "2021-10-20T04:37:43.744Z"
   },
   {
    "duration": 29,
    "start_time": "2021-10-20T04:37:43.774Z"
   },
   {
    "duration": 11,
    "start_time": "2021-10-20T04:37:43.806Z"
   },
   {
    "duration": 7,
    "start_time": "2021-10-20T04:37:43.818Z"
   },
   {
    "duration": 37,
    "start_time": "2021-10-20T04:37:43.827Z"
   },
   {
    "duration": 5,
    "start_time": "2021-10-20T04:37:43.866Z"
   },
   {
    "duration": 25,
    "start_time": "2021-10-20T04:37:43.873Z"
   },
   {
    "duration": 42,
    "start_time": "2021-10-20T04:37:43.900Z"
   },
   {
    "duration": 37,
    "start_time": "2021-10-20T04:37:43.944Z"
   },
   {
    "duration": 18,
    "start_time": "2021-10-20T04:37:43.982Z"
   },
   {
    "duration": 72,
    "start_time": "2021-10-20T04:37:44.002Z"
   },
   {
    "duration": 11,
    "start_time": "2021-10-20T04:37:44.076Z"
   },
   {
    "duration": 14,
    "start_time": "2021-10-20T04:37:44.089Z"
   },
   {
    "duration": 5,
    "start_time": "2021-10-20T04:37:44.105Z"
   },
   {
    "duration": 428,
    "start_time": "2021-10-20T04:42:59.504Z"
   },
   {
    "duration": 25,
    "start_time": "2021-10-20T04:42:59.934Z"
   },
   {
    "duration": 26,
    "start_time": "2021-10-20T04:42:59.961Z"
   },
   {
    "duration": 2,
    "start_time": "2021-10-20T04:42:59.990Z"
   },
   {
    "duration": 35,
    "start_time": "2021-10-20T04:42:59.994Z"
   },
   {
    "duration": 6,
    "start_time": "2021-10-20T04:43:00.031Z"
   },
   {
    "duration": 137,
    "start_time": "2021-10-20T04:43:00.039Z"
   },
   {
    "duration": 29,
    "start_time": "2021-10-20T04:43:00.178Z"
   },
   {
    "duration": 65,
    "start_time": "2021-10-20T04:43:00.210Z"
   },
   {
    "duration": 11,
    "start_time": "2021-10-20T04:43:00.278Z"
   },
   {
    "duration": 11,
    "start_time": "2021-10-20T04:43:00.291Z"
   },
   {
    "duration": 15,
    "start_time": "2021-10-20T04:43:00.305Z"
   },
   {
    "duration": 23,
    "start_time": "2021-10-20T04:43:00.322Z"
   },
   {
    "duration": 34,
    "start_time": "2021-10-20T04:43:00.347Z"
   },
   {
    "duration": 44,
    "start_time": "2021-10-20T04:43:00.383Z"
   },
   {
    "duration": 36,
    "start_time": "2021-10-20T04:43:00.429Z"
   },
   {
    "duration": 18,
    "start_time": "2021-10-20T04:43:00.467Z"
   },
   {
    "duration": 54,
    "start_time": "2021-10-20T04:43:00.487Z"
   },
   {
    "duration": 29,
    "start_time": "2021-10-20T04:43:00.543Z"
   },
   {
    "duration": 29,
    "start_time": "2021-10-20T04:43:00.573Z"
   },
   {
    "duration": 91,
    "start_time": "2021-10-20T04:43:00.603Z"
   },
   {
    "duration": 78,
    "start_time": "2021-10-20T04:43:06.046Z"
   },
   {
    "duration": 72,
    "start_time": "2021-10-20T04:43:14.454Z"
   },
   {
    "duration": 73,
    "start_time": "2021-10-20T04:44:12.646Z"
   },
   {
    "duration": 7,
    "start_time": "2021-10-20T04:44:18.941Z"
   },
   {
    "duration": 15,
    "start_time": "2021-10-20T04:44:37.550Z"
   },
   {
    "duration": 435,
    "start_time": "2021-10-20T05:12:29.559Z"
   },
   {
    "duration": 28,
    "start_time": "2021-10-20T05:12:29.996Z"
   },
   {
    "duration": 29,
    "start_time": "2021-10-20T05:12:30.027Z"
   },
   {
    "duration": 3,
    "start_time": "2021-10-20T05:12:30.058Z"
   },
   {
    "duration": 37,
    "start_time": "2021-10-20T05:12:30.063Z"
   },
   {
    "duration": 5,
    "start_time": "2021-10-20T05:12:30.102Z"
   },
   {
    "duration": 117,
    "start_time": "2021-10-20T05:12:30.108Z"
   },
   {
    "duration": 25,
    "start_time": "2021-10-20T05:12:30.227Z"
   },
   {
    "duration": 32,
    "start_time": "2021-10-20T05:12:30.264Z"
   },
   {
    "duration": 7,
    "start_time": "2021-10-20T05:12:30.298Z"
   },
   {
    "duration": 25,
    "start_time": "2021-10-20T05:12:30.307Z"
   },
   {
    "duration": 25,
    "start_time": "2021-10-20T05:12:30.334Z"
   },
   {
    "duration": 25,
    "start_time": "2021-10-20T05:12:30.362Z"
   },
   {
    "duration": 39,
    "start_time": "2021-10-20T05:12:30.389Z"
   },
   {
    "duration": 50,
    "start_time": "2021-10-20T05:12:30.430Z"
   },
   {
    "duration": 21,
    "start_time": "2021-10-20T05:12:30.482Z"
   },
   {
    "duration": 32,
    "start_time": "2021-10-20T05:12:30.505Z"
   },
   {
    "duration": 71,
    "start_time": "2021-10-20T05:12:30.539Z"
   },
   {
    "duration": 13,
    "start_time": "2021-10-20T05:12:30.612Z"
   },
   {
    "duration": 42,
    "start_time": "2021-10-20T05:12:30.626Z"
   },
   {
    "duration": 24,
    "start_time": "2021-10-20T05:12:30.670Z"
   },
   {
    "duration": 330,
    "start_time": "2021-10-20T06:12:41.931Z"
   },
   {
    "duration": 399,
    "start_time": "2021-10-20T06:13:11.952Z"
   },
   {
    "duration": 182,
    "start_time": "2021-10-20T06:14:09.183Z"
   },
   {
    "duration": 186,
    "start_time": "2021-10-20T06:14:40.388Z"
   },
   {
    "duration": 463,
    "start_time": "2021-10-20T06:14:44.691Z"
   },
   {
    "duration": 31,
    "start_time": "2021-10-20T06:14:45.156Z"
   },
   {
    "duration": 51,
    "start_time": "2021-10-20T06:14:45.189Z"
   },
   {
    "duration": 3,
    "start_time": "2021-10-20T06:14:45.243Z"
   },
   {
    "duration": 46,
    "start_time": "2021-10-20T06:14:45.249Z"
   },
   {
    "duration": 7,
    "start_time": "2021-10-20T06:14:45.297Z"
   },
   {
    "duration": 121,
    "start_time": "2021-10-20T06:14:45.306Z"
   },
   {
    "duration": 35,
    "start_time": "2021-10-20T06:14:45.429Z"
   },
   {
    "duration": 32,
    "start_time": "2021-10-20T06:14:45.467Z"
   },
   {
    "duration": 14,
    "start_time": "2021-10-20T06:14:45.501Z"
   },
   {
    "duration": 15,
    "start_time": "2021-10-20T06:14:45.516Z"
   },
   {
    "duration": 8,
    "start_time": "2021-10-20T06:14:45.533Z"
   },
   {
    "duration": 20,
    "start_time": "2021-10-20T06:14:45.543Z"
   },
   {
    "duration": 25,
    "start_time": "2021-10-20T06:14:45.565Z"
   },
   {
    "duration": 42,
    "start_time": "2021-10-20T06:14:45.591Z"
   },
   {
    "duration": 41,
    "start_time": "2021-10-20T06:14:45.635Z"
   },
   {
    "duration": 19,
    "start_time": "2021-10-20T06:14:45.678Z"
   },
   {
    "duration": 69,
    "start_time": "2021-10-20T06:14:45.699Z"
   },
   {
    "duration": 13,
    "start_time": "2021-10-20T06:14:45.770Z"
   },
   {
    "duration": 17,
    "start_time": "2021-10-20T06:14:45.785Z"
   },
   {
    "duration": 9,
    "start_time": "2021-10-20T06:14:45.805Z"
   },
   {
    "duration": 213,
    "start_time": "2021-10-20T06:14:45.816Z"
   },
   {
    "duration": 615,
    "start_time": "2021-10-20T06:17:05.369Z"
   },
   {
    "duration": 44,
    "start_time": "2021-10-20T06:17:05.986Z"
   },
   {
    "duration": 32,
    "start_time": "2021-10-20T06:17:06.033Z"
   },
   {
    "duration": 3,
    "start_time": "2021-10-20T06:17:06.067Z"
   },
   {
    "duration": 33,
    "start_time": "2021-10-20T06:17:06.071Z"
   },
   {
    "duration": 5,
    "start_time": "2021-10-20T06:17:06.106Z"
   },
   {
    "duration": 132,
    "start_time": "2021-10-20T06:17:06.112Z"
   },
   {
    "duration": 29,
    "start_time": "2021-10-20T06:17:06.247Z"
   },
   {
    "duration": 34,
    "start_time": "2021-10-20T06:17:06.278Z"
   },
   {
    "duration": 8,
    "start_time": "2021-10-20T06:17:06.313Z"
   },
   {
    "duration": 41,
    "start_time": "2021-10-20T06:17:06.323Z"
   },
   {
    "duration": 5,
    "start_time": "2021-10-20T06:17:06.366Z"
   },
   {
    "duration": 8,
    "start_time": "2021-10-20T06:17:06.372Z"
   },
   {
    "duration": 23,
    "start_time": "2021-10-20T06:17:06.382Z"
   },
   {
    "duration": 70,
    "start_time": "2021-10-20T06:17:06.407Z"
   },
   {
    "duration": 22,
    "start_time": "2021-10-20T06:17:06.479Z"
   },
   {
    "duration": 20,
    "start_time": "2021-10-20T06:17:06.503Z"
   },
   {
    "duration": 84,
    "start_time": "2021-10-20T06:17:06.525Z"
   },
   {
    "duration": 14,
    "start_time": "2021-10-20T06:17:06.611Z"
   },
   {
    "duration": 42,
    "start_time": "2021-10-20T06:17:06.627Z"
   },
   {
    "duration": 8,
    "start_time": "2021-10-20T06:17:06.671Z"
   },
   {
    "duration": 195,
    "start_time": "2021-10-20T06:17:06.682Z"
   },
   {
    "duration": 446,
    "start_time": "2021-10-20T06:17:18.202Z"
   },
   {
    "duration": 31,
    "start_time": "2021-10-20T06:17:18.650Z"
   },
   {
    "duration": 31,
    "start_time": "2021-10-20T06:17:18.684Z"
   },
   {
    "duration": 3,
    "start_time": "2021-10-20T06:17:18.717Z"
   },
   {
    "duration": 49,
    "start_time": "2021-10-20T06:17:18.722Z"
   },
   {
    "duration": 6,
    "start_time": "2021-10-20T06:17:18.773Z"
   },
   {
    "duration": 119,
    "start_time": "2021-10-20T06:17:18.781Z"
   },
   {
    "duration": 28,
    "start_time": "2021-10-20T06:17:18.901Z"
   },
   {
    "duration": 47,
    "start_time": "2021-10-20T06:17:18.932Z"
   },
   {
    "duration": 6,
    "start_time": "2021-10-20T06:17:18.981Z"
   },
   {
    "duration": 9,
    "start_time": "2021-10-20T06:17:18.989Z"
   },
   {
    "duration": 4,
    "start_time": "2021-10-20T06:17:19.000Z"
   },
   {
    "duration": 10,
    "start_time": "2021-10-20T06:17:19.006Z"
   },
   {
    "duration": 56,
    "start_time": "2021-10-20T06:17:19.018Z"
   },
   {
    "duration": 46,
    "start_time": "2021-10-20T06:17:19.077Z"
   },
   {
    "duration": 39,
    "start_time": "2021-10-20T06:17:19.125Z"
   },
   {
    "duration": 19,
    "start_time": "2021-10-20T06:17:19.166Z"
   },
   {
    "duration": 47,
    "start_time": "2021-10-20T06:17:19.187Z"
   },
   {
    "duration": 39,
    "start_time": "2021-10-20T06:17:19.235Z"
   },
   {
    "duration": 25,
    "start_time": "2021-10-20T06:17:19.276Z"
   },
   {
    "duration": 6,
    "start_time": "2021-10-20T06:17:19.303Z"
   },
   {
    "duration": 97,
    "start_time": "2021-10-20T06:17:19.311Z"
   },
   {
    "duration": 426,
    "start_time": "2021-10-20T06:21:24.962Z"
   },
   {
    "duration": 27,
    "start_time": "2021-10-20T06:21:25.390Z"
   },
   {
    "duration": 27,
    "start_time": "2021-10-20T06:21:25.419Z"
   },
   {
    "duration": 3,
    "start_time": "2021-10-20T06:21:25.448Z"
   },
   {
    "duration": 31,
    "start_time": "2021-10-20T06:21:25.453Z"
   },
   {
    "duration": 5,
    "start_time": "2021-10-20T06:21:25.486Z"
   },
   {
    "duration": 109,
    "start_time": "2021-10-20T06:21:25.493Z"
   },
   {
    "duration": 25,
    "start_time": "2021-10-20T06:21:25.603Z"
   },
   {
    "duration": 53,
    "start_time": "2021-10-20T06:21:25.630Z"
   },
   {
    "duration": 8,
    "start_time": "2021-10-20T06:21:25.686Z"
   },
   {
    "duration": 8,
    "start_time": "2021-10-20T06:21:25.696Z"
   },
   {
    "duration": 10,
    "start_time": "2021-10-20T06:21:25.706Z"
   },
   {
    "duration": 15,
    "start_time": "2021-10-20T06:21:25.718Z"
   },
   {
    "duration": 49,
    "start_time": "2021-10-20T06:21:25.735Z"
   },
   {
    "duration": 45,
    "start_time": "2021-10-20T06:21:25.786Z"
   },
   {
    "duration": 39,
    "start_time": "2021-10-20T06:21:25.833Z"
   },
   {
    "duration": 19,
    "start_time": "2021-10-20T06:21:25.874Z"
   },
   {
    "duration": 42,
    "start_time": "2021-10-20T06:21:25.895Z"
   },
   {
    "duration": 34,
    "start_time": "2021-10-20T06:21:25.939Z"
   },
   {
    "duration": 15,
    "start_time": "2021-10-20T06:21:25.975Z"
   },
   {
    "duration": 12,
    "start_time": "2021-10-20T06:21:25.993Z"
   },
   {
    "duration": 293,
    "start_time": "2021-10-20T06:21:26.007Z"
   },
   {
    "duration": 415,
    "start_time": "2021-10-20T06:21:35.802Z"
   },
   {
    "duration": 26,
    "start_time": "2021-10-20T06:21:36.219Z"
   },
   {
    "duration": 27,
    "start_time": "2021-10-20T06:21:36.247Z"
   },
   {
    "duration": 3,
    "start_time": "2021-10-20T06:21:36.276Z"
   },
   {
    "duration": 31,
    "start_time": "2021-10-20T06:21:36.280Z"
   },
   {
    "duration": 5,
    "start_time": "2021-10-20T06:21:36.313Z"
   },
   {
    "duration": 116,
    "start_time": "2021-10-20T06:21:36.320Z"
   },
   {
    "duration": 33,
    "start_time": "2021-10-20T06:21:36.438Z"
   },
   {
    "duration": 30,
    "start_time": "2021-10-20T06:21:36.475Z"
   },
   {
    "duration": 8,
    "start_time": "2021-10-20T06:21:36.508Z"
   },
   {
    "duration": 8,
    "start_time": "2021-10-20T06:21:36.518Z"
   },
   {
    "duration": 38,
    "start_time": "2021-10-20T06:21:36.528Z"
   },
   {
    "duration": 10,
    "start_time": "2021-10-20T06:21:36.568Z"
   },
   {
    "duration": 24,
    "start_time": "2021-10-20T06:21:36.580Z"
   },
   {
    "duration": 58,
    "start_time": "2021-10-20T06:21:36.606Z"
   },
   {
    "duration": 19,
    "start_time": "2021-10-20T06:21:36.666Z"
   },
   {
    "duration": 18,
    "start_time": "2021-10-20T06:21:36.686Z"
   },
   {
    "duration": 69,
    "start_time": "2021-10-20T06:21:36.706Z"
   },
   {
    "duration": 12,
    "start_time": "2021-10-20T06:21:36.777Z"
   },
   {
    "duration": 16,
    "start_time": "2021-10-20T06:21:36.790Z"
   },
   {
    "duration": 6,
    "start_time": "2021-10-20T06:21:36.808Z"
   },
   {
    "duration": 80,
    "start_time": "2021-10-20T06:21:36.815Z"
   },
   {
    "duration": 8,
    "start_time": "2021-10-20T06:27:44.503Z"
   },
   {
    "duration": 7,
    "start_time": "2021-10-20T06:29:14.864Z"
   },
   {
    "duration": 6,
    "start_time": "2021-10-20T06:35:15.760Z"
   },
   {
    "duration": 5,
    "start_time": "2021-10-20T07:19:03.001Z"
   },
   {
    "duration": 5,
    "start_time": "2021-10-20T07:19:08.008Z"
   },
   {
    "duration": 422,
    "start_time": "2021-10-20T07:30:40.402Z"
   },
   {
    "duration": 27,
    "start_time": "2021-10-20T07:30:40.826Z"
   },
   {
    "duration": 28,
    "start_time": "2021-10-20T07:30:40.856Z"
   },
   {
    "duration": 3,
    "start_time": "2021-10-20T07:30:40.886Z"
   },
   {
    "duration": 32,
    "start_time": "2021-10-20T07:30:40.891Z"
   },
   {
    "duration": 5,
    "start_time": "2021-10-20T07:30:40.925Z"
   },
   {
    "duration": 115,
    "start_time": "2021-10-20T07:30:40.932Z"
   },
   {
    "duration": 28,
    "start_time": "2021-10-20T07:30:41.049Z"
   },
   {
    "duration": 32,
    "start_time": "2021-10-20T07:30:41.079Z"
   },
   {
    "duration": 7,
    "start_time": "2021-10-20T07:30:41.113Z"
   },
   {
    "duration": 11,
    "start_time": "2021-10-20T07:30:41.122Z"
   },
   {
    "duration": 32,
    "start_time": "2021-10-20T07:30:41.135Z"
   },
   {
    "duration": 8,
    "start_time": "2021-10-20T07:30:41.169Z"
   },
   {
    "duration": 22,
    "start_time": "2021-10-20T07:30:41.179Z"
   },
   {
    "duration": 67,
    "start_time": "2021-10-20T07:30:41.203Z"
   },
   {
    "duration": 20,
    "start_time": "2021-10-20T07:30:41.271Z"
   },
   {
    "duration": 20,
    "start_time": "2021-10-20T07:30:41.293Z"
   },
   {
    "duration": 68,
    "start_time": "2021-10-20T07:30:41.315Z"
   },
   {
    "duration": 13,
    "start_time": "2021-10-20T07:30:41.385Z"
   },
   {
    "duration": 17,
    "start_time": "2021-10-20T07:30:41.400Z"
   },
   {
    "duration": 11,
    "start_time": "2021-10-20T07:30:41.419Z"
   },
   {
    "duration": 87,
    "start_time": "2021-10-20T07:35:12.118Z"
   },
   {
    "duration": 84,
    "start_time": "2021-10-20T07:35:48.505Z"
   },
   {
    "duration": 23,
    "start_time": "2021-10-20T07:37:23.005Z"
   },
   {
    "duration": 417,
    "start_time": "2021-10-20T07:37:29.303Z"
   },
   {
    "duration": 28,
    "start_time": "2021-10-20T07:37:29.722Z"
   },
   {
    "duration": 28,
    "start_time": "2021-10-20T07:37:29.752Z"
   },
   {
    "duration": 3,
    "start_time": "2021-10-20T07:37:29.782Z"
   },
   {
    "duration": 33,
    "start_time": "2021-10-20T07:37:29.787Z"
   },
   {
    "duration": 41,
    "start_time": "2021-10-20T07:37:29.822Z"
   },
   {
    "duration": 5,
    "start_time": "2021-10-20T07:37:29.865Z"
   },
   {
    "duration": 108,
    "start_time": "2021-10-20T07:37:29.872Z"
   },
   {
    "duration": 25,
    "start_time": "2021-10-20T07:37:29.983Z"
   },
   {
    "duration": 53,
    "start_time": "2021-10-20T07:37:30.010Z"
   },
   {
    "duration": 8,
    "start_time": "2021-10-20T07:37:30.065Z"
   },
   {
    "duration": 35,
    "start_time": "2021-10-20T07:37:30.075Z"
   },
   {
    "duration": 17,
    "start_time": "2021-10-20T07:37:30.112Z"
   },
   {
    "duration": 27,
    "start_time": "2021-10-20T07:37:30.131Z"
   },
   {
    "duration": 37,
    "start_time": "2021-10-20T07:37:30.160Z"
   },
   {
    "duration": 57,
    "start_time": "2021-10-20T07:37:30.199Z"
   },
   {
    "duration": 20,
    "start_time": "2021-10-20T07:37:30.258Z"
   },
   {
    "duration": 22,
    "start_time": "2021-10-20T07:37:30.279Z"
   },
   {
    "duration": 71,
    "start_time": "2021-10-20T07:37:30.303Z"
   },
   {
    "duration": 12,
    "start_time": "2021-10-20T07:37:30.375Z"
   },
   {
    "duration": 18,
    "start_time": "2021-10-20T07:37:30.389Z"
   },
   {
    "duration": 20,
    "start_time": "2021-10-20T07:37:30.409Z"
   },
   {
    "duration": 105,
    "start_time": "2021-10-20T07:37:30.431Z"
   },
   {
    "duration": 84,
    "start_time": "2021-10-20T07:38:13.290Z"
   },
   {
    "duration": 76,
    "start_time": "2021-10-20T07:38:44.617Z"
   },
   {
    "duration": 406,
    "start_time": "2021-10-20T07:39:10.410Z"
   },
   {
    "duration": 28,
    "start_time": "2021-10-20T07:39:10.818Z"
   },
   {
    "duration": 33,
    "start_time": "2021-10-20T07:39:10.849Z"
   },
   {
    "duration": 3,
    "start_time": "2021-10-20T07:39:10.885Z"
   },
   {
    "duration": 38,
    "start_time": "2021-10-20T07:39:10.890Z"
   },
   {
    "duration": 37,
    "start_time": "2021-10-20T07:39:10.930Z"
   },
   {
    "duration": 7,
    "start_time": "2021-10-20T07:39:10.968Z"
   },
   {
    "duration": 109,
    "start_time": "2021-10-20T07:39:10.977Z"
   },
   {
    "duration": 24,
    "start_time": "2021-10-20T07:39:11.090Z"
   },
   {
    "duration": 49,
    "start_time": "2021-10-20T07:39:11.117Z"
   },
   {
    "duration": 8,
    "start_time": "2021-10-20T07:39:11.169Z"
   },
   {
    "duration": 9,
    "start_time": "2021-10-20T07:39:11.179Z"
   },
   {
    "duration": 14,
    "start_time": "2021-10-20T07:39:11.190Z"
   },
   {
    "duration": 6,
    "start_time": "2021-10-20T07:39:11.206Z"
   },
   {
    "duration": 34,
    "start_time": "2021-10-20T07:39:11.213Z"
   },
   {
    "duration": 48,
    "start_time": "2021-10-20T07:39:11.248Z"
   },
   {
    "duration": 21,
    "start_time": "2021-10-20T07:39:11.298Z"
   },
   {
    "duration": 21,
    "start_time": "2021-10-20T07:39:11.321Z"
   },
   {
    "duration": 63,
    "start_time": "2021-10-20T07:39:11.344Z"
   },
   {
    "duration": 11,
    "start_time": "2021-10-20T07:39:11.409Z"
   },
   {
    "duration": 24,
    "start_time": "2021-10-20T07:39:11.422Z"
   },
   {
    "duration": 6,
    "start_time": "2021-10-20T07:39:11.464Z"
   },
   {
    "duration": 87,
    "start_time": "2021-10-20T07:39:11.472Z"
   },
   {
    "duration": 228,
    "start_time": "2021-10-20T07:40:20.650Z"
   },
   {
    "duration": 49,
    "start_time": "2021-10-20T07:40:37.785Z"
   },
   {
    "duration": 440,
    "start_time": "2021-10-20T07:40:48.866Z"
   },
   {
    "duration": 27,
    "start_time": "2021-10-20T07:40:49.309Z"
   },
   {
    "duration": 29,
    "start_time": "2021-10-20T07:40:49.339Z"
   },
   {
    "duration": 3,
    "start_time": "2021-10-20T07:40:49.370Z"
   },
   {
    "duration": 66,
    "start_time": "2021-10-20T07:40:49.375Z"
   },
   {
    "duration": 29,
    "start_time": "2021-10-20T07:40:49.443Z"
   },
   {
    "duration": 5,
    "start_time": "2021-10-20T07:40:49.474Z"
   },
   {
    "duration": 138,
    "start_time": "2021-10-20T07:40:49.481Z"
   },
   {
    "duration": 25,
    "start_time": "2021-10-20T07:40:49.622Z"
   },
   {
    "duration": 31,
    "start_time": "2021-10-20T07:40:49.664Z"
   },
   {
    "duration": 7,
    "start_time": "2021-10-20T07:40:49.697Z"
   },
   {
    "duration": 8,
    "start_time": "2021-10-20T07:40:49.706Z"
   },
   {
    "duration": 5,
    "start_time": "2021-10-20T07:40:49.716Z"
   },
   {
    "duration": 7,
    "start_time": "2021-10-20T07:40:49.722Z"
   },
   {
    "duration": 48,
    "start_time": "2021-10-20T07:40:49.731Z"
   },
   {
    "duration": 43,
    "start_time": "2021-10-20T07:40:49.782Z"
   },
   {
    "duration": 41,
    "start_time": "2021-10-20T07:40:49.827Z"
   },
   {
    "duration": 19,
    "start_time": "2021-10-20T07:40:49.870Z"
   },
   {
    "duration": 45,
    "start_time": "2021-10-20T07:40:49.891Z"
   },
   {
    "duration": 41,
    "start_time": "2021-10-20T07:40:49.938Z"
   },
   {
    "duration": 20,
    "start_time": "2021-10-20T07:40:49.981Z"
   },
   {
    "duration": 8,
    "start_time": "2021-10-20T07:40:50.003Z"
   },
   {
    "duration": 131,
    "start_time": "2021-10-20T07:40:50.014Z"
   },
   {
    "duration": 417,
    "start_time": "2021-10-20T07:43:41.475Z"
   },
   {
    "duration": 29,
    "start_time": "2021-10-20T07:43:41.894Z"
   },
   {
    "duration": 28,
    "start_time": "2021-10-20T07:43:41.926Z"
   },
   {
    "duration": 3,
    "start_time": "2021-10-20T07:43:41.957Z"
   },
   {
    "duration": 32,
    "start_time": "2021-10-20T07:43:41.962Z"
   },
   {
    "duration": 23,
    "start_time": "2021-10-20T07:43:41.995Z"
   },
   {
    "duration": 5,
    "start_time": "2021-10-20T07:43:42.020Z"
   },
   {
    "duration": 118,
    "start_time": "2021-10-20T07:43:42.026Z"
   },
   {
    "duration": 28,
    "start_time": "2021-10-20T07:43:42.147Z"
   },
   {
    "duration": 30,
    "start_time": "2021-10-20T07:43:42.177Z"
   },
   {
    "duration": 7,
    "start_time": "2021-10-20T07:43:42.208Z"
   },
   {
    "duration": 9,
    "start_time": "2021-10-20T07:43:42.217Z"
   },
   {
    "duration": 38,
    "start_time": "2021-10-20T07:43:42.227Z"
   },
   {
    "duration": 5,
    "start_time": "2021-10-20T07:43:42.267Z"
   },
   {
    "duration": 26,
    "start_time": "2021-10-20T07:43:42.274Z"
   },
   {
    "duration": 60,
    "start_time": "2021-10-20T07:43:42.302Z"
   },
   {
    "duration": 24,
    "start_time": "2021-10-20T07:43:42.365Z"
   },
   {
    "duration": 18,
    "start_time": "2021-10-20T07:43:42.391Z"
   },
   {
    "duration": 67,
    "start_time": "2021-10-20T07:43:42.411Z"
   },
   {
    "duration": 12,
    "start_time": "2021-10-20T07:43:42.479Z"
   },
   {
    "duration": 41,
    "start_time": "2021-10-20T07:43:42.493Z"
   },
   {
    "duration": 10,
    "start_time": "2021-10-20T07:43:42.536Z"
   },
   {
    "duration": 50,
    "start_time": "2021-10-20T07:43:42.548Z"
   },
   {
    "duration": 51,
    "start_time": "2021-10-20T07:43:54.010Z"
   },
   {
    "duration": 430,
    "start_time": "2021-10-20T07:45:29.802Z"
   },
   {
    "duration": 29,
    "start_time": "2021-10-20T07:45:30.234Z"
   },
   {
    "duration": 30,
    "start_time": "2021-10-20T07:45:30.265Z"
   },
   {
    "duration": 2,
    "start_time": "2021-10-20T07:45:30.297Z"
   },
   {
    "duration": 46,
    "start_time": "2021-10-20T07:45:30.301Z"
   },
   {
    "duration": 29,
    "start_time": "2021-10-20T07:45:30.350Z"
   },
   {
    "duration": 5,
    "start_time": "2021-10-20T07:45:30.381Z"
   },
   {
    "duration": 118,
    "start_time": "2021-10-20T07:45:30.388Z"
   },
   {
    "duration": 25,
    "start_time": "2021-10-20T07:45:30.508Z"
   },
   {
    "duration": 48,
    "start_time": "2021-10-20T07:45:30.535Z"
   },
   {
    "duration": 8,
    "start_time": "2021-10-20T07:45:30.585Z"
   },
   {
    "duration": 23,
    "start_time": "2021-10-20T07:45:30.594Z"
   },
   {
    "duration": 35,
    "start_time": "2021-10-20T07:45:30.619Z"
   },
   {
    "duration": 16,
    "start_time": "2021-10-20T07:45:30.656Z"
   },
   {
    "duration": 37,
    "start_time": "2021-10-20T07:45:30.674Z"
   },
   {
    "duration": 28,
    "start_time": "2021-10-20T07:45:30.713Z"
   },
   {
    "duration": 60,
    "start_time": "2021-10-20T07:45:30.743Z"
   },
   {
    "duration": 20,
    "start_time": "2021-10-20T07:45:30.804Z"
   },
   {
    "duration": 31,
    "start_time": "2021-10-20T07:45:30.826Z"
   },
   {
    "duration": 53,
    "start_time": "2021-10-20T07:45:30.859Z"
   },
   {
    "duration": 12,
    "start_time": "2021-10-20T07:45:30.913Z"
   },
   {
    "duration": 34,
    "start_time": "2021-10-20T07:45:30.927Z"
   },
   {
    "duration": 21,
    "start_time": "2021-10-20T07:45:30.964Z"
   },
   {
    "duration": 74,
    "start_time": "2021-10-20T07:45:30.987Z"
   },
   {
    "duration": 29,
    "start_time": "2021-10-20T07:45:31.063Z"
   },
   {
    "duration": 1217,
    "start_time": "2021-10-20T10:43:53.206Z"
   },
   {
    "duration": 45,
    "start_time": "2021-10-20T10:43:54.426Z"
   },
   {
    "duration": 40,
    "start_time": "2021-10-20T10:43:54.474Z"
   },
   {
    "duration": 4,
    "start_time": "2021-10-20T10:43:54.517Z"
   },
   {
    "duration": 74,
    "start_time": "2021-10-20T10:43:54.523Z"
   },
   {
    "duration": 33,
    "start_time": "2021-10-20T10:43:54.600Z"
   },
   {
    "duration": 7,
    "start_time": "2021-10-20T10:43:54.635Z"
   },
   {
    "duration": 149,
    "start_time": "2021-10-20T10:43:54.645Z"
   },
   {
    "duration": 33,
    "start_time": "2021-10-20T10:43:54.797Z"
   },
   {
    "duration": 66,
    "start_time": "2021-10-20T10:43:54.833Z"
   },
   {
    "duration": 18,
    "start_time": "2021-10-20T10:43:54.902Z"
   },
   {
    "duration": 39,
    "start_time": "2021-10-20T10:43:54.923Z"
   },
   {
    "duration": 9,
    "start_time": "2021-10-20T10:43:54.964Z"
   },
   {
    "duration": 7,
    "start_time": "2021-10-20T10:43:54.975Z"
   },
   {
    "duration": 44,
    "start_time": "2021-10-20T10:43:54.985Z"
   },
   {
    "duration": 45,
    "start_time": "2021-10-20T10:43:55.031Z"
   },
   {
    "duration": 57,
    "start_time": "2021-10-20T10:43:55.079Z"
   },
   {
    "duration": 42,
    "start_time": "2021-10-20T10:43:55.139Z"
   },
   {
    "duration": 24,
    "start_time": "2021-10-20T10:43:55.183Z"
   },
   {
    "duration": 36,
    "start_time": "2021-10-20T10:43:55.209Z"
   },
   {
    "duration": 61,
    "start_time": "2021-10-20T10:43:55.262Z"
   },
   {
    "duration": 17,
    "start_time": "2021-10-20T10:43:55.326Z"
   },
   {
    "duration": 21,
    "start_time": "2021-10-20T10:43:55.364Z"
   },
   {
    "duration": 8,
    "start_time": "2021-10-20T10:43:55.387Z"
   },
   {
    "duration": 94,
    "start_time": "2021-10-20T10:43:55.398Z"
   },
   {
    "duration": 49,
    "start_time": "2021-10-20T10:43:55.494Z"
   },
   {
    "duration": 11,
    "start_time": "2021-10-20T10:44:17.174Z"
   },
   {
    "duration": 504,
    "start_time": "2021-10-20T10:46:16.441Z"
   },
   {
    "duration": 36,
    "start_time": "2021-10-20T10:46:16.948Z"
   },
   {
    "duration": 36,
    "start_time": "2021-10-20T10:46:16.988Z"
   },
   {
    "duration": 35,
    "start_time": "2021-10-20T10:46:17.028Z"
   },
   {
    "duration": 42,
    "start_time": "2021-10-20T10:46:17.066Z"
   },
   {
    "duration": 29,
    "start_time": "2021-10-20T10:46:17.111Z"
   },
   {
    "duration": 21,
    "start_time": "2021-10-20T10:46:17.143Z"
   },
   {
    "duration": 131,
    "start_time": "2021-10-20T10:46:17.167Z"
   },
   {
    "duration": 30,
    "start_time": "2021-10-20T10:46:17.302Z"
   },
   {
    "duration": 56,
    "start_time": "2021-10-20T10:46:17.335Z"
   },
   {
    "duration": 9,
    "start_time": "2021-10-20T10:46:17.393Z"
   },
   {
    "duration": 8,
    "start_time": "2021-10-20T10:46:17.405Z"
   },
   {
    "duration": 12,
    "start_time": "2021-10-20T10:46:17.416Z"
   },
   {
    "duration": 32,
    "start_time": "2021-10-20T10:46:17.430Z"
   },
   {
    "duration": 33,
    "start_time": "2021-10-20T10:46:17.464Z"
   },
   {
    "duration": 29,
    "start_time": "2021-10-20T10:46:17.500Z"
   },
   {
    "duration": 83,
    "start_time": "2021-10-20T10:46:17.531Z"
   },
   {
    "duration": 54,
    "start_time": "2021-10-20T10:46:17.617Z"
   },
   {
    "duration": 31,
    "start_time": "2021-10-20T10:46:17.674Z"
   },
   {
    "duration": 21,
    "start_time": "2021-10-20T10:46:17.707Z"
   },
   {
    "duration": 90,
    "start_time": "2021-10-20T10:46:17.730Z"
   },
   {
    "duration": 18,
    "start_time": "2021-10-20T10:46:17.822Z"
   },
   {
    "duration": 22,
    "start_time": "2021-10-20T10:46:17.862Z"
   },
   {
    "duration": 12,
    "start_time": "2021-10-20T10:46:17.886Z"
   },
   {
    "duration": 95,
    "start_time": "2021-10-20T10:46:17.900Z"
   },
   {
    "duration": 48,
    "start_time": "2021-10-20T10:46:17.997Z"
   },
   {
    "duration": 40,
    "start_time": "2021-10-20T10:46:18.062Z"
   },
   {
    "duration": 27,
    "start_time": "2021-10-20T10:46:18.104Z"
   },
   {
    "duration": 526,
    "start_time": "2021-10-20T10:47:00.073Z"
   },
   {
    "duration": 34,
    "start_time": "2021-10-20T10:47:00.601Z"
   },
   {
    "duration": 36,
    "start_time": "2021-10-20T10:47:00.638Z"
   },
   {
    "duration": 4,
    "start_time": "2021-10-20T10:47:00.677Z"
   },
   {
    "duration": 51,
    "start_time": "2021-10-20T10:47:00.683Z"
   },
   {
    "duration": 40,
    "start_time": "2021-10-20T10:47:00.736Z"
   },
   {
    "duration": 6,
    "start_time": "2021-10-20T10:47:00.778Z"
   },
   {
    "duration": 146,
    "start_time": "2021-10-20T10:47:00.786Z"
   },
   {
    "duration": 42,
    "start_time": "2021-10-20T10:47:00.936Z"
   },
   {
    "duration": 36,
    "start_time": "2021-10-20T10:47:00.981Z"
   },
   {
    "duration": 11,
    "start_time": "2021-10-20T10:47:01.019Z"
   },
   {
    "duration": 39,
    "start_time": "2021-10-20T10:47:01.032Z"
   },
   {
    "duration": 16,
    "start_time": "2021-10-20T10:47:01.073Z"
   },
   {
    "duration": 34,
    "start_time": "2021-10-20T10:47:01.091Z"
   },
   {
    "duration": 44,
    "start_time": "2021-10-20T10:47:01.127Z"
   },
   {
    "duration": 27,
    "start_time": "2021-10-20T10:47:01.173Z"
   },
   {
    "duration": 93,
    "start_time": "2021-10-20T10:47:01.203Z"
   },
   {
    "duration": 26,
    "start_time": "2021-10-20T10:47:01.298Z"
   },
   {
    "duration": 47,
    "start_time": "2021-10-20T10:47:01.326Z"
   },
   {
    "duration": 21,
    "start_time": "2021-10-20T10:47:01.375Z"
   },
   {
    "duration": 69,
    "start_time": "2021-10-20T10:47:01.398Z"
   },
   {
    "duration": 17,
    "start_time": "2021-10-20T10:47:01.470Z"
   },
   {
    "duration": 56,
    "start_time": "2021-10-20T10:47:01.490Z"
   },
   {
    "duration": 13,
    "start_time": "2021-10-20T10:47:01.549Z"
   },
   {
    "duration": 73,
    "start_time": "2021-10-20T10:47:01.564Z"
   },
   {
    "duration": 54,
    "start_time": "2021-10-20T10:47:01.640Z"
   },
   {
    "duration": 38,
    "start_time": "2021-10-20T10:47:01.699Z"
   },
   {
    "duration": 43,
    "start_time": "2021-10-20T10:47:01.739Z"
   },
   {
    "duration": 523,
    "start_time": "2021-10-20T10:50:07.641Z"
   },
   {
    "duration": 38,
    "start_time": "2021-10-20T10:50:08.167Z"
   },
   {
    "duration": 59,
    "start_time": "2021-10-20T10:50:08.209Z"
   },
   {
    "duration": 4,
    "start_time": "2021-10-20T10:50:08.272Z"
   },
   {
    "duration": 40,
    "start_time": "2021-10-20T10:50:08.279Z"
   },
   {
    "duration": 61,
    "start_time": "2021-10-20T10:50:08.322Z"
   },
   {
    "duration": 7,
    "start_time": "2021-10-20T10:50:08.385Z"
   },
   {
    "duration": 130,
    "start_time": "2021-10-20T10:50:08.394Z"
   },
   {
    "duration": 44,
    "start_time": "2021-10-20T10:50:08.528Z"
   },
   {
    "duration": 38,
    "start_time": "2021-10-20T10:50:08.575Z"
   },
   {
    "duration": 10,
    "start_time": "2021-10-20T10:50:08.615Z"
   },
   {
    "duration": 41,
    "start_time": "2021-10-20T10:50:08.627Z"
   },
   {
    "duration": 5,
    "start_time": "2021-10-20T10:50:08.670Z"
   },
   {
    "duration": 13,
    "start_time": "2021-10-20T10:50:08.678Z"
   },
   {
    "duration": 34,
    "start_time": "2021-10-20T10:50:08.693Z"
   },
   {
    "duration": 49,
    "start_time": "2021-10-20T10:50:08.729Z"
   },
   {
    "duration": 53,
    "start_time": "2021-10-20T10:50:08.780Z"
   },
   {
    "duration": 39,
    "start_time": "2021-10-20T10:50:08.835Z"
   },
   {
    "duration": 23,
    "start_time": "2021-10-20T10:50:08.876Z"
   },
   {
    "duration": 22,
    "start_time": "2021-10-20T10:50:08.902Z"
   },
   {
    "duration": 83,
    "start_time": "2021-10-20T10:50:08.926Z"
   },
   {
    "duration": 19,
    "start_time": "2021-10-20T10:50:09.012Z"
   },
   {
    "duration": 47,
    "start_time": "2021-10-20T10:50:09.034Z"
   },
   {
    "duration": 11,
    "start_time": "2021-10-20T10:50:09.084Z"
   },
   {
    "duration": 98,
    "start_time": "2021-10-20T10:50:09.098Z"
   },
   {
    "duration": 64,
    "start_time": "2021-10-20T10:50:09.199Z"
   },
   {
    "duration": 40,
    "start_time": "2021-10-20T10:50:09.270Z"
   },
   {
    "duration": 26,
    "start_time": "2021-10-20T10:50:09.312Z"
   },
   {
    "duration": 120,
    "start_time": "2021-10-20T10:50:09.341Z"
   },
   {
    "duration": -7,
    "start_time": "2021-10-20T10:50:09.470Z"
   },
   {
    "duration": -8,
    "start_time": "2021-10-20T10:50:09.472Z"
   },
   {
    "duration": 518,
    "start_time": "2021-10-20T10:50:14.937Z"
   },
   {
    "duration": 38,
    "start_time": "2021-10-20T10:50:15.458Z"
   },
   {
    "duration": 35,
    "start_time": "2021-10-20T10:50:15.500Z"
   },
   {
    "duration": 4,
    "start_time": "2021-10-20T10:50:15.562Z"
   },
   {
    "duration": 54,
    "start_time": "2021-10-20T10:50:15.568Z"
   },
   {
    "duration": 40,
    "start_time": "2021-10-20T10:50:15.624Z"
   },
   {
    "duration": 6,
    "start_time": "2021-10-20T10:50:15.666Z"
   },
   {
    "duration": 135,
    "start_time": "2021-10-20T10:50:15.675Z"
   },
   {
    "duration": 29,
    "start_time": "2021-10-20T10:50:15.814Z"
   },
   {
    "duration": 35,
    "start_time": "2021-10-20T10:50:15.862Z"
   },
   {
    "duration": 9,
    "start_time": "2021-10-20T10:50:15.900Z"
   },
   {
    "duration": 10,
    "start_time": "2021-10-20T10:50:15.911Z"
   },
   {
    "duration": 38,
    "start_time": "2021-10-20T10:50:15.924Z"
   },
   {
    "duration": 13,
    "start_time": "2021-10-20T10:50:15.964Z"
   },
   {
    "duration": 53,
    "start_time": "2021-10-20T10:50:15.979Z"
   },
   {
    "duration": 25,
    "start_time": "2021-10-20T10:50:16.035Z"
   },
   {
    "duration": 56,
    "start_time": "2021-10-20T10:50:16.062Z"
   },
   {
    "duration": 54,
    "start_time": "2021-10-20T10:50:16.121Z"
   },
   {
    "duration": 25,
    "start_time": "2021-10-20T10:50:16.178Z"
   },
   {
    "duration": 22,
    "start_time": "2021-10-20T10:50:16.206Z"
   },
   {
    "duration": 80,
    "start_time": "2021-10-20T10:50:16.230Z"
   },
   {
    "duration": 18,
    "start_time": "2021-10-20T10:50:16.312Z"
   },
   {
    "duration": 43,
    "start_time": "2021-10-20T10:50:16.332Z"
   },
   {
    "duration": 10,
    "start_time": "2021-10-20T10:50:16.377Z"
   },
   {
    "duration": 80,
    "start_time": "2021-10-20T10:50:16.389Z"
   },
   {
    "duration": 52,
    "start_time": "2021-10-20T10:50:16.471Z"
   },
   {
    "duration": 58,
    "start_time": "2021-10-20T10:50:16.528Z"
   },
   {
    "duration": 26,
    "start_time": "2021-10-20T10:50:16.589Z"
   },
   {
    "duration": 55,
    "start_time": "2021-10-20T10:50:16.618Z"
   },
   {
    "duration": 26,
    "start_time": "2021-10-20T10:50:16.675Z"
   },
   {
    "duration": 19,
    "start_time": "2021-10-20T10:57:52.955Z"
   },
   {
    "duration": 14,
    "start_time": "2021-10-20T10:58:56.486Z"
   },
   {
    "duration": 10,
    "start_time": "2021-10-20T10:59:21.694Z"
   },
   {
    "duration": 509,
    "start_time": "2021-10-20T10:59:32.545Z"
   },
   {
    "duration": 34,
    "start_time": "2021-10-20T10:59:33.057Z"
   },
   {
    "duration": 37,
    "start_time": "2021-10-20T10:59:33.094Z"
   },
   {
    "duration": 4,
    "start_time": "2021-10-20T10:59:33.133Z"
   },
   {
    "duration": 83,
    "start_time": "2021-10-20T10:59:33.139Z"
   },
   {
    "duration": 31,
    "start_time": "2021-10-20T10:59:33.225Z"
   },
   {
    "duration": 6,
    "start_time": "2021-10-20T10:59:33.259Z"
   },
   {
    "duration": 138,
    "start_time": "2021-10-20T10:59:33.267Z"
   },
   {
    "duration": 30,
    "start_time": "2021-10-20T10:59:33.409Z"
   },
   {
    "duration": 54,
    "start_time": "2021-10-20T10:59:33.442Z"
   },
   {
    "duration": 10,
    "start_time": "2021-10-20T10:59:33.499Z"
   },
   {
    "duration": 13,
    "start_time": "2021-10-20T10:59:33.512Z"
   },
   {
    "duration": 11,
    "start_time": "2021-10-20T10:59:33.527Z"
   },
   {
    "duration": 10,
    "start_time": "2021-10-20T10:59:33.562Z"
   },
   {
    "duration": 33,
    "start_time": "2021-10-20T10:59:33.574Z"
   },
   {
    "duration": 25,
    "start_time": "2021-10-20T10:59:33.609Z"
   },
   {
    "duration": 80,
    "start_time": "2021-10-20T10:59:33.636Z"
   },
   {
    "duration": 46,
    "start_time": "2021-10-20T10:59:33.718Z"
   },
   {
    "duration": 23,
    "start_time": "2021-10-20T10:59:33.767Z"
   },
   {
    "duration": 22,
    "start_time": "2021-10-20T10:59:33.793Z"
   },
   {
    "duration": 95,
    "start_time": "2021-10-20T10:59:33.818Z"
   },
   {
    "duration": 18,
    "start_time": "2021-10-20T10:59:33.916Z"
   },
   {
    "duration": 41,
    "start_time": "2021-10-20T10:59:33.936Z"
   },
   {
    "duration": 11,
    "start_time": "2021-10-20T10:59:33.980Z"
   },
   {
    "duration": 81,
    "start_time": "2021-10-20T10:59:33.994Z"
   },
   {
    "duration": 50,
    "start_time": "2021-10-20T10:59:34.078Z"
   },
   {
    "duration": 61,
    "start_time": "2021-10-20T10:59:34.133Z"
   },
   {
    "duration": 25,
    "start_time": "2021-10-20T10:59:34.197Z"
   },
   {
    "duration": 54,
    "start_time": "2021-10-20T10:59:34.225Z"
   },
   {
    "duration": 25,
    "start_time": "2021-10-20T10:59:34.281Z"
   },
   {
    "duration": 1052,
    "start_time": "2021-10-21T05:22:21.208Z"
   },
   {
    "duration": 33,
    "start_time": "2021-10-21T05:22:22.263Z"
   },
   {
    "duration": 33,
    "start_time": "2021-10-21T05:22:22.299Z"
   },
   {
    "duration": 3,
    "start_time": "2021-10-21T05:22:22.334Z"
   },
   {
    "duration": 57,
    "start_time": "2021-10-21T05:22:22.339Z"
   },
   {
    "duration": 25,
    "start_time": "2021-10-21T05:22:22.397Z"
   },
   {
    "duration": 5,
    "start_time": "2021-10-21T05:22:22.424Z"
   },
   {
    "duration": 128,
    "start_time": "2021-10-21T05:22:22.430Z"
   },
   {
    "duration": 23,
    "start_time": "2021-10-21T05:22:22.564Z"
   },
   {
    "duration": 30,
    "start_time": "2021-10-21T05:22:22.589Z"
   },
   {
    "duration": 12,
    "start_time": "2021-10-21T05:22:22.620Z"
   },
   {
    "duration": 32,
    "start_time": "2021-10-21T05:22:22.633Z"
   },
   {
    "duration": 14,
    "start_time": "2021-10-21T05:22:22.667Z"
   },
   {
    "duration": 10,
    "start_time": "2021-10-21T05:22:22.683Z"
   },
   {
    "duration": 26,
    "start_time": "2021-10-21T05:22:22.694Z"
   },
   {
    "duration": 20,
    "start_time": "2021-10-21T05:22:22.722Z"
   },
   {
    "duration": 47,
    "start_time": "2021-10-21T05:22:22.764Z"
   },
   {
    "duration": 21,
    "start_time": "2021-10-21T05:22:22.813Z"
   },
   {
    "duration": 47,
    "start_time": "2021-10-21T05:22:22.836Z"
   },
   {
    "duration": 18,
    "start_time": "2021-10-21T05:22:22.885Z"
   },
   {
    "duration": 74,
    "start_time": "2021-10-21T05:22:22.905Z"
   },
   {
    "duration": 13,
    "start_time": "2021-10-21T05:22:22.981Z"
   },
   {
    "duration": 15,
    "start_time": "2021-10-21T05:22:22.996Z"
   },
   {
    "duration": 5,
    "start_time": "2021-10-21T05:22:23.013Z"
   },
   {
    "duration": 78,
    "start_time": "2021-10-21T05:22:23.020Z"
   },
   {
    "duration": 34,
    "start_time": "2021-10-21T05:22:23.100Z"
   },
   {
    "duration": 53,
    "start_time": "2021-10-21T05:22:23.137Z"
   },
   {
    "duration": 16,
    "start_time": "2021-10-21T05:22:23.193Z"
   },
   {
    "duration": 30,
    "start_time": "2021-10-21T05:22:23.211Z"
   },
   {
    "duration": 30,
    "start_time": "2021-10-21T05:22:23.243Z"
   },
   {
    "duration": 90,
    "start_time": "2021-10-21T05:22:23.274Z"
   },
   {
    "duration": 85,
    "start_time": "2021-10-21T05:22:28.148Z"
   },
   {
    "duration": 3,
    "start_time": "2021-10-21T05:22:36.845Z"
   },
   {
    "duration": 81,
    "start_time": "2021-10-21T05:22:42.229Z"
   },
   {
    "duration": 301,
    "start_time": "2021-10-21T05:22:50.948Z"
   },
   {
    "duration": 95,
    "start_time": "2021-10-21T05:23:04.492Z"
   },
   {
    "duration": 4,
    "start_time": "2021-10-21T05:23:10.133Z"
   },
   {
    "duration": 3,
    "start_time": "2021-10-21T05:23:19.132Z"
   },
   {
    "duration": 4,
    "start_time": "2021-10-21T05:23:27.724Z"
   },
   {
    "duration": 256,
    "start_time": "2021-10-21T05:29:54.369Z"
   },
   {
    "duration": 245,
    "start_time": "2021-10-21T05:29:58.820Z"
   },
   {
    "duration": 18,
    "start_time": "2021-10-21T05:31:58.772Z"
   },
   {
    "duration": 248,
    "start_time": "2021-10-21T05:32:12.929Z"
   },
   {
    "duration": 4,
    "start_time": "2021-10-21T05:32:21.244Z"
   },
   {
    "duration": 1148,
    "start_time": "2021-10-21T05:32:39.854Z"
   },
   {
    "duration": 17,
    "start_time": "2021-10-21T05:33:59.501Z"
   },
   {
    "duration": 20,
    "start_time": "2021-10-21T05:34:17.453Z"
   },
   {
    "duration": 427,
    "start_time": "2021-10-21T05:34:27.992Z"
   },
   {
    "duration": 27,
    "start_time": "2021-10-21T05:34:28.421Z"
   },
   {
    "duration": 26,
    "start_time": "2021-10-21T05:34:28.450Z"
   },
   {
    "duration": 2,
    "start_time": "2021-10-21T05:34:28.478Z"
   },
   {
    "duration": 29,
    "start_time": "2021-10-21T05:34:28.482Z"
   },
   {
    "duration": 23,
    "start_time": "2021-10-21T05:34:28.513Z"
   },
   {
    "duration": 5,
    "start_time": "2021-10-21T05:34:28.538Z"
   },
   {
    "duration": 120,
    "start_time": "2021-10-21T05:34:28.544Z"
   },
   {
    "duration": 23,
    "start_time": "2021-10-21T05:34:28.668Z"
   },
   {
    "duration": 28,
    "start_time": "2021-10-21T05:34:28.693Z"
   },
   {
    "duration": 7,
    "start_time": "2021-10-21T05:34:28.722Z"
   },
   {
    "duration": 32,
    "start_time": "2021-10-21T05:34:28.731Z"
   },
   {
    "duration": 4,
    "start_time": "2021-10-21T05:34:28.766Z"
   },
   {
    "duration": 7,
    "start_time": "2021-10-21T05:34:28.772Z"
   },
   {
    "duration": 23,
    "start_time": "2021-10-21T05:34:28.780Z"
   },
   {
    "duration": 17,
    "start_time": "2021-10-21T05:34:28.805Z"
   },
   {
    "duration": 68,
    "start_time": "2021-10-21T05:34:28.824Z"
   },
   {
    "duration": 18,
    "start_time": "2021-10-21T05:34:28.894Z"
   },
   {
    "duration": 19,
    "start_time": "2021-10-21T05:34:28.914Z"
   },
   {
    "duration": 39,
    "start_time": "2021-10-21T05:34:28.935Z"
   },
   {
    "duration": 51,
    "start_time": "2021-10-21T05:34:28.976Z"
   },
   {
    "duration": 12,
    "start_time": "2021-10-21T05:34:29.029Z"
   },
   {
    "duration": 32,
    "start_time": "2021-10-21T05:34:29.042Z"
   },
   {
    "duration": 6,
    "start_time": "2021-10-21T05:34:29.076Z"
   },
   {
    "duration": 51,
    "start_time": "2021-10-21T05:34:29.083Z"
   },
   {
    "duration": 52,
    "start_time": "2021-10-21T05:34:29.136Z"
   },
   {
    "duration": 31,
    "start_time": "2021-10-21T05:34:29.191Z"
   },
   {
    "duration": 16,
    "start_time": "2021-10-21T05:34:29.224Z"
   },
   {
    "duration": 27,
    "start_time": "2021-10-21T05:34:29.263Z"
   },
   {
    "duration": 16,
    "start_time": "2021-10-21T05:34:29.292Z"
   },
   {
    "duration": 10,
    "start_time": "2021-10-21T05:35:05.125Z"
   },
   {
    "duration": 26,
    "start_time": "2021-10-21T05:35:06.533Z"
   },
   {
    "duration": 26,
    "start_time": "2021-10-21T05:51:20.570Z"
   },
   {
    "duration": 11,
    "start_time": "2021-10-21T05:51:34.032Z"
   },
   {
    "duration": 419,
    "start_time": "2021-10-21T05:51:47.225Z"
   },
   {
    "duration": 27,
    "start_time": "2021-10-21T05:51:47.646Z"
   },
   {
    "duration": 27,
    "start_time": "2021-10-21T05:51:47.676Z"
   },
   {
    "duration": 2,
    "start_time": "2021-10-21T05:51:47.705Z"
   },
   {
    "duration": 32,
    "start_time": "2021-10-21T05:51:47.709Z"
   },
   {
    "duration": 40,
    "start_time": "2021-10-21T05:51:47.743Z"
   },
   {
    "duration": 5,
    "start_time": "2021-10-21T05:51:47.784Z"
   },
   {
    "duration": 120,
    "start_time": "2021-10-21T05:51:47.791Z"
   },
   {
    "duration": 24,
    "start_time": "2021-10-21T05:51:47.914Z"
   },
   {
    "duration": 47,
    "start_time": "2021-10-21T05:51:47.940Z"
   },
   {
    "duration": 7,
    "start_time": "2021-10-21T05:51:47.989Z"
   },
   {
    "duration": 7,
    "start_time": "2021-10-21T05:51:47.998Z"
   },
   {
    "duration": 10,
    "start_time": "2021-10-21T05:51:48.007Z"
   },
   {
    "duration": 6,
    "start_time": "2021-10-21T05:51:48.019Z"
   },
   {
    "duration": 52,
    "start_time": "2021-10-21T05:51:48.026Z"
   },
   {
    "duration": 18,
    "start_time": "2021-10-21T05:51:48.080Z"
   },
   {
    "duration": 45,
    "start_time": "2021-10-21T05:51:48.100Z"
   },
   {
    "duration": 20,
    "start_time": "2021-10-21T05:51:48.163Z"
   },
   {
    "duration": 18,
    "start_time": "2021-10-21T05:51:48.184Z"
   },
   {
    "duration": 15,
    "start_time": "2021-10-21T05:51:48.203Z"
   },
   {
    "duration": 78,
    "start_time": "2021-10-21T05:51:48.220Z"
   },
   {
    "duration": 13,
    "start_time": "2021-10-21T05:51:48.300Z"
   },
   {
    "duration": 17,
    "start_time": "2021-10-21T05:51:48.315Z"
   },
   {
    "duration": 30,
    "start_time": "2021-10-21T05:51:48.334Z"
   },
   {
    "duration": 11,
    "start_time": "2021-10-21T05:51:48.367Z"
   },
   {
    "duration": 51,
    "start_time": "2021-10-21T05:51:48.380Z"
   },
   {
    "duration": 55,
    "start_time": "2021-10-21T05:51:48.435Z"
   },
   {
    "duration": 33,
    "start_time": "2021-10-21T05:51:48.492Z"
   },
   {
    "duration": 37,
    "start_time": "2021-10-21T05:51:48.527Z"
   },
   {
    "duration": 29,
    "start_time": "2021-10-21T05:51:48.566Z"
   },
   {
    "duration": 18,
    "start_time": "2021-10-21T05:51:48.597Z"
   },
   {
    "duration": 10,
    "start_time": "2021-10-21T05:51:48.617Z"
   },
   {
    "duration": 88,
    "start_time": "2021-10-21T05:51:48.629Z"
   },
   {
    "duration": 451,
    "start_time": "2021-10-21T05:52:42.448Z"
   },
   {
    "duration": 28,
    "start_time": "2021-10-21T05:52:42.901Z"
   },
   {
    "duration": 29,
    "start_time": "2021-10-21T05:52:42.932Z"
   },
   {
    "duration": 3,
    "start_time": "2021-10-21T05:52:42.964Z"
   },
   {
    "duration": 36,
    "start_time": "2021-10-21T05:52:42.969Z"
   },
   {
    "duration": 24,
    "start_time": "2021-10-21T05:52:43.007Z"
   },
   {
    "duration": 6,
    "start_time": "2021-10-21T05:52:43.033Z"
   },
   {
    "duration": 127,
    "start_time": "2021-10-21T05:52:43.064Z"
   },
   {
    "duration": 24,
    "start_time": "2021-10-21T05:52:43.194Z"
   },
   {
    "duration": 45,
    "start_time": "2021-10-21T05:52:43.220Z"
   },
   {
    "duration": 8,
    "start_time": "2021-10-21T05:52:43.266Z"
   },
   {
    "duration": 7,
    "start_time": "2021-10-21T05:52:43.276Z"
   },
   {
    "duration": 8,
    "start_time": "2021-10-21T05:52:43.285Z"
   },
   {
    "duration": 6,
    "start_time": "2021-10-21T05:52:43.295Z"
   },
   {
    "duration": 24,
    "start_time": "2021-10-21T05:52:43.302Z"
   },
   {
    "duration": 43,
    "start_time": "2021-10-21T05:52:43.328Z"
   },
   {
    "duration": 47,
    "start_time": "2021-10-21T05:52:43.373Z"
   },
   {
    "duration": 43,
    "start_time": "2021-10-21T05:52:43.422Z"
   },
   {
    "duration": 19,
    "start_time": "2021-10-21T05:52:43.467Z"
   },
   {
    "duration": 16,
    "start_time": "2021-10-21T05:52:43.487Z"
   },
   {
    "duration": 70,
    "start_time": "2021-10-21T05:52:43.505Z"
   },
   {
    "duration": 12,
    "start_time": "2021-10-21T05:52:43.577Z"
   },
   {
    "duration": 15,
    "start_time": "2021-10-21T05:52:43.591Z"
   },
   {
    "duration": 7,
    "start_time": "2021-10-21T05:52:43.608Z"
   },
   {
    "duration": 7,
    "start_time": "2021-10-21T05:52:43.617Z"
   },
   {
    "duration": 42,
    "start_time": "2021-10-21T05:52:43.626Z"
   },
   {
    "duration": 49,
    "start_time": "2021-10-21T05:52:43.671Z"
   },
   {
    "duration": 51,
    "start_time": "2021-10-21T05:52:43.722Z"
   },
   {
    "duration": 39,
    "start_time": "2021-10-21T05:52:43.775Z"
   },
   {
    "duration": 16,
    "start_time": "2021-10-21T05:52:43.816Z"
   },
   {
    "duration": 45,
    "start_time": "2021-10-21T05:52:43.833Z"
   },
   {
    "duration": 17,
    "start_time": "2021-10-21T05:52:43.880Z"
   },
   {
    "duration": 11,
    "start_time": "2021-10-21T05:52:43.899Z"
   },
   {
    "duration": 86,
    "start_time": "2021-10-21T05:52:43.912Z"
   },
   {
    "duration": 26,
    "start_time": "2021-10-21T05:53:00.972Z"
   },
   {
    "duration": 428,
    "start_time": "2021-10-21T05:53:32.664Z"
   },
   {
    "duration": 28,
    "start_time": "2021-10-21T05:53:33.094Z"
   },
   {
    "duration": 28,
    "start_time": "2021-10-21T05:53:33.125Z"
   },
   {
    "duration": 4,
    "start_time": "2021-10-21T05:53:33.155Z"
   },
   {
    "duration": 28,
    "start_time": "2021-10-21T05:53:33.163Z"
   },
   {
    "duration": 23,
    "start_time": "2021-10-21T05:53:33.193Z"
   },
   {
    "duration": 6,
    "start_time": "2021-10-21T05:53:33.218Z"
   },
   {
    "duration": 118,
    "start_time": "2021-10-21T05:53:33.226Z"
   },
   {
    "duration": 33,
    "start_time": "2021-10-21T05:53:33.348Z"
   },
   {
    "duration": 30,
    "start_time": "2021-10-21T05:53:33.384Z"
   },
   {
    "duration": 8,
    "start_time": "2021-10-21T05:53:33.416Z"
   },
   {
    "duration": 37,
    "start_time": "2021-10-21T05:53:33.426Z"
   },
   {
    "duration": 5,
    "start_time": "2021-10-21T05:53:33.466Z"
   },
   {
    "duration": 7,
    "start_time": "2021-10-21T05:53:33.473Z"
   },
   {
    "duration": 25,
    "start_time": "2021-10-21T05:53:33.482Z"
   },
   {
    "duration": 18,
    "start_time": "2021-10-21T05:53:33.509Z"
   },
   {
    "duration": 77,
    "start_time": "2021-10-21T05:53:33.529Z"
   },
   {
    "duration": 22,
    "start_time": "2021-10-21T05:53:33.609Z"
   },
   {
    "duration": 44,
    "start_time": "2021-10-21T05:53:33.633Z"
   },
   {
    "duration": 16,
    "start_time": "2021-10-21T05:53:33.678Z"
   },
   {
    "duration": 45,
    "start_time": "2021-10-21T05:53:33.695Z"
   },
   {
    "duration": 34,
    "start_time": "2021-10-21T05:53:33.742Z"
   },
   {
    "duration": 15,
    "start_time": "2021-10-21T05:53:33.777Z"
   },
   {
    "duration": 7,
    "start_time": "2021-10-21T05:53:33.794Z"
   },
   {
    "duration": 16,
    "start_time": "2021-10-21T05:53:33.802Z"
   },
   {
    "duration": 44,
    "start_time": "2021-10-21T05:53:33.820Z"
   },
   {
    "duration": 44,
    "start_time": "2021-10-21T05:53:33.868Z"
   },
   {
    "duration": 51,
    "start_time": "2021-10-21T05:53:33.914Z"
   },
   {
    "duration": 32,
    "start_time": "2021-10-21T05:53:33.967Z"
   },
   {
    "duration": 17,
    "start_time": "2021-10-21T05:53:34.001Z"
   },
   {
    "duration": 55,
    "start_time": "2021-10-21T05:53:34.019Z"
   },
   {
    "duration": 16,
    "start_time": "2021-10-21T05:53:34.076Z"
   },
   {
    "duration": 9,
    "start_time": "2021-10-21T05:53:34.094Z"
   },
   {
    "duration": 85,
    "start_time": "2021-10-21T05:53:34.105Z"
   },
   {
    "duration": 9,
    "start_time": "2021-10-21T05:54:07.758Z"
   },
   {
    "duration": 416,
    "start_time": "2021-10-21T05:54:13.274Z"
   },
   {
    "duration": 26,
    "start_time": "2021-10-21T05:54:13.692Z"
   },
   {
    "duration": 28,
    "start_time": "2021-10-21T05:54:13.720Z"
   },
   {
    "duration": 3,
    "start_time": "2021-10-21T05:54:13.750Z"
   },
   {
    "duration": 31,
    "start_time": "2021-10-21T05:54:13.754Z"
   },
   {
    "duration": 23,
    "start_time": "2021-10-21T05:54:13.787Z"
   },
   {
    "duration": 4,
    "start_time": "2021-10-21T05:54:13.812Z"
   },
   {
    "duration": 124,
    "start_time": "2021-10-21T05:54:13.818Z"
   },
   {
    "duration": 33,
    "start_time": "2021-10-21T05:54:13.945Z"
   },
   {
    "duration": 28,
    "start_time": "2021-10-21T05:54:13.980Z"
   },
   {
    "duration": 7,
    "start_time": "2021-10-21T05:54:14.010Z"
   },
   {
    "duration": 8,
    "start_time": "2021-10-21T05:54:14.019Z"
   },
   {
    "duration": 35,
    "start_time": "2021-10-21T05:54:14.029Z"
   },
   {
    "duration": 11,
    "start_time": "2021-10-21T05:54:14.066Z"
   },
   {
    "duration": 23,
    "start_time": "2021-10-21T05:54:14.079Z"
   },
   {
    "duration": 18,
    "start_time": "2021-10-21T05:54:14.103Z"
   },
   {
    "duration": 67,
    "start_time": "2021-10-21T05:54:14.123Z"
   },
   {
    "duration": 19,
    "start_time": "2021-10-21T05:54:14.192Z"
   },
   {
    "duration": 17,
    "start_time": "2021-10-21T05:54:14.213Z"
   },
   {
    "duration": 37,
    "start_time": "2021-10-21T05:54:14.232Z"
   },
   {
    "duration": 52,
    "start_time": "2021-10-21T05:54:14.271Z"
   },
   {
    "duration": 12,
    "start_time": "2021-10-21T05:54:14.324Z"
   },
   {
    "duration": 39,
    "start_time": "2021-10-21T05:54:14.338Z"
   },
   {
    "duration": 9,
    "start_time": "2021-10-21T05:54:14.379Z"
   },
   {
    "duration": 13,
    "start_time": "2021-10-21T05:54:14.389Z"
   },
   {
    "duration": 74,
    "start_time": "2021-10-21T05:54:14.404Z"
   },
   {
    "duration": 32,
    "start_time": "2021-10-21T05:54:14.481Z"
   },
   {
    "duration": 49,
    "start_time": "2021-10-21T05:54:14.515Z"
   },
   {
    "duration": 17,
    "start_time": "2021-10-21T05:54:14.566Z"
   },
   {
    "duration": 30,
    "start_time": "2021-10-21T05:54:14.585Z"
   },
   {
    "duration": 16,
    "start_time": "2021-10-21T05:54:14.617Z"
   },
   {
    "duration": 31,
    "start_time": "2021-10-21T05:54:14.634Z"
   },
   {
    "duration": 105,
    "start_time": "2021-10-21T05:54:14.667Z"
   },
   {
    "duration": 423,
    "start_time": "2021-10-21T05:54:22.302Z"
   },
   {
    "duration": 36,
    "start_time": "2021-10-21T05:54:22.727Z"
   },
   {
    "duration": 27,
    "start_time": "2021-10-21T05:54:22.765Z"
   },
   {
    "duration": 3,
    "start_time": "2021-10-21T05:54:22.793Z"
   },
   {
    "duration": 32,
    "start_time": "2021-10-21T05:54:22.797Z"
   },
   {
    "duration": 40,
    "start_time": "2021-10-21T05:54:22.831Z"
   },
   {
    "duration": 5,
    "start_time": "2021-10-21T05:54:22.873Z"
   },
   {
    "duration": 107,
    "start_time": "2021-10-21T05:54:22.881Z"
   },
   {
    "duration": 24,
    "start_time": "2021-10-21T05:54:22.990Z"
   },
   {
    "duration": 51,
    "start_time": "2021-10-21T05:54:23.016Z"
   },
   {
    "duration": 7,
    "start_time": "2021-10-21T05:54:23.069Z"
   },
   {
    "duration": 8,
    "start_time": "2021-10-21T05:54:23.078Z"
   },
   {
    "duration": 11,
    "start_time": "2021-10-21T05:54:23.087Z"
   },
   {
    "duration": 7,
    "start_time": "2021-10-21T05:54:23.100Z"
   },
   {
    "duration": 26,
    "start_time": "2021-10-21T05:54:23.108Z"
   },
   {
    "duration": 42,
    "start_time": "2021-10-21T05:54:23.136Z"
   },
   {
    "duration": 40,
    "start_time": "2021-10-21T05:54:23.180Z"
   },
   {
    "duration": 43,
    "start_time": "2021-10-21T05:54:23.222Z"
   },
   {
    "duration": 18,
    "start_time": "2021-10-21T05:54:23.267Z"
   },
   {
    "duration": 16,
    "start_time": "2021-10-21T05:54:23.286Z"
   },
   {
    "duration": 68,
    "start_time": "2021-10-21T05:54:23.304Z"
   },
   {
    "duration": 12,
    "start_time": "2021-10-21T05:54:23.374Z"
   },
   {
    "duration": 14,
    "start_time": "2021-10-21T05:54:23.389Z"
   },
   {
    "duration": 7,
    "start_time": "2021-10-21T05:54:23.405Z"
   },
   {
    "duration": 10,
    "start_time": "2021-10-21T05:54:23.414Z"
   },
   {
    "duration": 78,
    "start_time": "2021-10-21T05:54:23.425Z"
   },
   {
    "duration": 34,
    "start_time": "2021-10-21T05:54:23.505Z"
   },
   {
    "duration": 50,
    "start_time": "2021-10-21T05:54:23.541Z"
   },
   {
    "duration": 16,
    "start_time": "2021-10-21T05:54:23.592Z"
   },
   {
    "duration": 27,
    "start_time": "2021-10-21T05:54:23.610Z"
   },
   {
    "duration": 33,
    "start_time": "2021-10-21T05:54:23.639Z"
   },
   {
    "duration": 11,
    "start_time": "2021-10-21T05:54:23.673Z"
   },
   {
    "duration": 25,
    "start_time": "2021-10-21T05:59:03.687Z"
   },
   {
    "duration": 82,
    "start_time": "2021-10-21T06:07:02.387Z"
   },
   {
    "duration": 88,
    "start_time": "2021-10-21T06:07:11.974Z"
   },
   {
    "duration": 420,
    "start_time": "2021-10-21T06:08:22.182Z"
   },
   {
    "duration": 576,
    "start_time": "2021-10-21T06:27:08.553Z"
   },
   {
    "duration": 27,
    "start_time": "2021-10-21T06:27:09.131Z"
   },
   {
    "duration": 33,
    "start_time": "2021-10-21T06:27:09.160Z"
   },
   {
    "duration": 3,
    "start_time": "2021-10-21T06:27:09.196Z"
   },
   {
    "duration": 32,
    "start_time": "2021-10-21T06:27:09.201Z"
   },
   {
    "duration": 41,
    "start_time": "2021-10-21T06:27:09.235Z"
   },
   {
    "duration": 7,
    "start_time": "2021-10-21T06:27:09.278Z"
   },
   {
    "duration": 131,
    "start_time": "2021-10-21T06:27:09.288Z"
   },
   {
    "duration": 25,
    "start_time": "2021-10-21T06:27:09.421Z"
   },
   {
    "duration": 31,
    "start_time": "2021-10-21T06:27:09.464Z"
   },
   {
    "duration": 7,
    "start_time": "2021-10-21T06:27:09.497Z"
   },
   {
    "duration": 17,
    "start_time": "2021-10-21T06:27:09.505Z"
   },
   {
    "duration": 16,
    "start_time": "2021-10-21T06:27:09.524Z"
   },
   {
    "duration": 17,
    "start_time": "2021-10-21T06:27:09.542Z"
   },
   {
    "duration": 27,
    "start_time": "2021-10-21T06:27:09.563Z"
   },
   {
    "duration": 22,
    "start_time": "2021-10-21T06:27:09.592Z"
   },
   {
    "duration": 70,
    "start_time": "2021-10-21T06:27:09.616Z"
   },
   {
    "duration": 22,
    "start_time": "2021-10-21T06:27:09.688Z"
   },
   {
    "duration": 19,
    "start_time": "2021-10-21T06:27:09.712Z"
   },
   {
    "duration": 41,
    "start_time": "2021-10-21T06:27:09.733Z"
   },
   {
    "duration": 53,
    "start_time": "2021-10-21T06:27:09.776Z"
   },
   {
    "duration": 13,
    "start_time": "2021-10-21T06:27:09.831Z"
   },
   {
    "duration": 31,
    "start_time": "2021-10-21T06:27:09.848Z"
   },
   {
    "duration": 8,
    "start_time": "2021-10-21T06:27:09.882Z"
   },
   {
    "duration": 7,
    "start_time": "2021-10-21T06:27:09.893Z"
   },
   {
    "duration": 81,
    "start_time": "2021-10-21T06:27:09.902Z"
   },
   {
    "duration": 35,
    "start_time": "2021-10-21T06:27:09.985Z"
   },
   {
    "duration": 64,
    "start_time": "2021-10-21T06:27:10.023Z"
   },
   {
    "duration": 29,
    "start_time": "2021-10-21T06:27:10.090Z"
   },
   {
    "duration": 58,
    "start_time": "2021-10-21T06:27:10.122Z"
   },
   {
    "duration": 28,
    "start_time": "2021-10-21T06:27:10.182Z"
   },
   {
    "duration": 16,
    "start_time": "2021-10-21T06:27:10.213Z"
   },
   {
    "duration": 48,
    "start_time": "2021-10-21T06:27:10.231Z"
   },
   {
    "duration": 3,
    "start_time": "2021-10-21T06:27:10.280Z"
   },
   {
    "duration": 517,
    "start_time": "2021-10-21T06:28:39.700Z"
   },
   {
    "duration": 14,
    "start_time": "2021-10-21T06:29:00.832Z"
   },
   {
    "duration": 12,
    "start_time": "2021-10-21T06:47:59.828Z"
   },
   {
    "duration": 34,
    "start_time": "2021-10-21T07:05:37.569Z"
   },
   {
    "duration": 15,
    "start_time": "2021-10-21T07:06:41.106Z"
   },
   {
    "duration": 32,
    "start_time": "2021-10-21T07:06:51.523Z"
   },
   {
    "duration": 6470,
    "start_time": "2021-10-21T07:49:51.367Z"
   },
   {
    "duration": 20,
    "start_time": "2021-10-21T07:50:07.592Z"
   },
   {
    "duration": 6295,
    "start_time": "2021-10-21T07:51:18.858Z"
   },
   {
    "duration": 5072,
    "start_time": "2021-10-21T07:51:44.596Z"
   },
   {
    "duration": 8,
    "start_time": "2021-10-21T07:51:58.581Z"
   },
   {
    "duration": 18,
    "start_time": "2021-10-21T07:52:13.340Z"
   },
   {
    "duration": 22,
    "start_time": "2021-10-21T09:10:23.539Z"
   },
   {
    "duration": 17,
    "start_time": "2021-10-21T09:14:08.814Z"
   },
   {
    "duration": 17,
    "start_time": "2021-10-21T09:21:48.439Z"
   },
   {
    "duration": 85,
    "start_time": "2021-10-21T09:23:41.366Z"
   },
   {
    "duration": 79,
    "start_time": "2021-10-21T09:24:14.671Z"
   },
   {
    "duration": 456,
    "start_time": "2021-10-21T09:24:44.742Z"
   },
   {
    "duration": 33,
    "start_time": "2021-10-21T10:30:06.541Z"
   },
   {
    "duration": 79,
    "start_time": "2021-10-21T10:37:19.169Z"
   },
   {
    "duration": 245,
    "start_time": "2021-10-21T10:37:45.178Z"
   },
   {
    "duration": 436,
    "start_time": "2021-10-21T10:39:58.466Z"
   },
   {
    "duration": 28,
    "start_time": "2021-10-21T10:39:58.904Z"
   },
   {
    "duration": 30,
    "start_time": "2021-10-21T10:39:58.935Z"
   },
   {
    "duration": 3,
    "start_time": "2021-10-21T10:39:58.967Z"
   },
   {
    "duration": 31,
    "start_time": "2021-10-21T10:39:58.972Z"
   },
   {
    "duration": 24,
    "start_time": "2021-10-21T10:39:59.005Z"
   },
   {
    "duration": 6,
    "start_time": "2021-10-21T10:39:59.031Z"
   },
   {
    "duration": 126,
    "start_time": "2021-10-21T10:39:59.040Z"
   },
   {
    "duration": 24,
    "start_time": "2021-10-21T10:39:59.168Z"
   },
   {
    "duration": 29,
    "start_time": "2021-10-21T10:39:59.194Z"
   },
   {
    "duration": 6,
    "start_time": "2021-10-21T10:39:59.225Z"
   },
   {
    "duration": 37,
    "start_time": "2021-10-21T10:39:59.233Z"
   },
   {
    "duration": 22,
    "start_time": "2021-10-21T10:39:59.272Z"
   },
   {
    "duration": 13,
    "start_time": "2021-10-21T10:39:59.296Z"
   },
   {
    "duration": 31,
    "start_time": "2021-10-21T10:39:59.311Z"
   },
   {
    "duration": 20,
    "start_time": "2021-10-21T10:39:59.344Z"
   },
   {
    "duration": 45,
    "start_time": "2021-10-21T10:39:59.366Z"
   },
   {
    "duration": 20,
    "start_time": "2021-10-21T10:39:59.413Z"
   },
   {
    "duration": 44,
    "start_time": "2021-10-21T10:39:59.434Z"
   },
   {
    "duration": 15,
    "start_time": "2021-10-21T10:39:59.480Z"
   },
   {
    "duration": 67,
    "start_time": "2021-10-21T10:39:59.497Z"
   },
   {
    "duration": 13,
    "start_time": "2021-10-21T10:39:59.565Z"
   },
   {
    "duration": 17,
    "start_time": "2021-10-21T10:39:59.581Z"
   },
   {
    "duration": 7,
    "start_time": "2021-10-21T10:39:59.600Z"
   },
   {
    "duration": 10,
    "start_time": "2021-10-21T10:39:59.608Z"
   },
   {
    "duration": 66,
    "start_time": "2021-10-21T10:39:59.620Z"
   },
   {
    "duration": 19,
    "start_time": "2021-10-21T10:39:59.688Z"
   },
   {
    "duration": 33,
    "start_time": "2021-10-21T10:39:59.709Z"
   },
   {
    "duration": 29,
    "start_time": "2021-10-21T10:39:59.744Z"
   },
   {
    "duration": 32,
    "start_time": "2021-10-21T10:39:59.775Z"
   },
   {
    "duration": 16,
    "start_time": "2021-10-21T10:39:59.809Z"
   },
   {
    "duration": 13,
    "start_time": "2021-10-21T10:39:59.826Z"
   },
   {
    "duration": 30,
    "start_time": "2021-10-21T10:39:59.863Z"
   },
   {
    "duration": 20,
    "start_time": "2021-10-21T10:39:59.895Z"
   },
   {
    "duration": 5,
    "start_time": "2021-10-21T10:39:59.917Z"
   },
   {
    "duration": 39,
    "start_time": "2021-10-21T10:40:15.209Z"
   },
   {
    "duration": 30,
    "start_time": "2021-10-21T10:41:29.921Z"
   },
   {
    "duration": 18,
    "start_time": "2021-10-21T10:41:32.443Z"
   },
   {
    "duration": 455,
    "start_time": "2021-10-21T10:41:35.122Z"
   },
   {
    "duration": 28,
    "start_time": "2021-10-21T10:41:35.579Z"
   },
   {
    "duration": 30,
    "start_time": "2021-10-21T10:41:35.610Z"
   },
   {
    "duration": 3,
    "start_time": "2021-10-21T10:41:35.643Z"
   },
   {
    "duration": 32,
    "start_time": "2021-10-21T10:41:35.664Z"
   },
   {
    "duration": 24,
    "start_time": "2021-10-21T10:41:35.698Z"
   },
   {
    "duration": 6,
    "start_time": "2021-10-21T10:41:35.724Z"
   },
   {
    "duration": 149,
    "start_time": "2021-10-21T10:41:35.732Z"
   },
   {
    "duration": 25,
    "start_time": "2021-10-21T10:41:35.886Z"
   },
   {
    "duration": 50,
    "start_time": "2021-10-21T10:41:35.914Z"
   },
   {
    "duration": 8,
    "start_time": "2021-10-21T10:41:35.967Z"
   },
   {
    "duration": 25,
    "start_time": "2021-10-21T10:41:35.977Z"
   },
   {
    "duration": 14,
    "start_time": "2021-10-21T10:41:36.004Z"
   },
   {
    "duration": 23,
    "start_time": "2021-10-21T10:41:36.020Z"
   },
   {
    "duration": 43,
    "start_time": "2021-10-21T10:41:36.045Z"
   },
   {
    "duration": 20,
    "start_time": "2021-10-21T10:41:36.090Z"
   },
   {
    "duration": 57,
    "start_time": "2021-10-21T10:41:36.112Z"
   },
   {
    "duration": 22,
    "start_time": "2021-10-21T10:41:36.171Z"
   },
   {
    "duration": 26,
    "start_time": "2021-10-21T10:41:36.196Z"
   },
   {
    "duration": 39,
    "start_time": "2021-10-21T10:41:36.224Z"
   },
   {
    "duration": 59,
    "start_time": "2021-10-21T10:41:36.265Z"
   },
   {
    "duration": 37,
    "start_time": "2021-10-21T10:41:36.326Z"
   },
   {
    "duration": 16,
    "start_time": "2021-10-21T10:41:36.365Z"
   },
   {
    "duration": 21,
    "start_time": "2021-10-21T10:41:36.383Z"
   },
   {
    "duration": 25,
    "start_time": "2021-10-21T10:41:36.406Z"
   },
   {
    "duration": 56,
    "start_time": "2021-10-21T10:41:36.433Z"
   },
   {
    "duration": 17,
    "start_time": "2021-10-21T10:41:36.493Z"
   },
   {
    "duration": 50,
    "start_time": "2021-10-21T10:41:36.512Z"
   },
   {
    "duration": 17,
    "start_time": "2021-10-21T10:41:36.564Z"
   },
   {
    "duration": 43,
    "start_time": "2021-10-21T10:41:36.583Z"
   },
   {
    "duration": 15,
    "start_time": "2021-10-21T10:41:36.628Z"
   },
   {
    "duration": 29,
    "start_time": "2021-10-21T10:41:36.645Z"
   },
   {
    "duration": 51,
    "start_time": "2021-10-21T10:41:36.675Z"
   },
   {
    "duration": 17,
    "start_time": "2021-10-21T10:41:36.727Z"
   },
   {
    "duration": 46,
    "start_time": "2021-10-21T10:41:36.746Z"
   },
   {
    "duration": 36,
    "start_time": "2021-10-21T10:44:03.978Z"
   },
   {
    "duration": 22,
    "start_time": "2021-10-21T10:44:23.937Z"
   },
   {
    "duration": 20,
    "start_time": "2021-10-21T10:44:37.288Z"
   },
   {
    "duration": 268,
    "start_time": "2021-10-21T10:44:47.649Z"
   },
   {
    "duration": 10,
    "start_time": "2021-10-21T10:45:00.249Z"
   },
   {
    "duration": 436,
    "start_time": "2021-10-21T11:38:51.486Z"
   },
   {
    "duration": 30,
    "start_time": "2021-10-21T11:38:51.924Z"
   },
   {
    "duration": 29,
    "start_time": "2021-10-21T11:38:51.956Z"
   },
   {
    "duration": 2,
    "start_time": "2021-10-21T11:38:51.987Z"
   },
   {
    "duration": 35,
    "start_time": "2021-10-21T11:38:51.991Z"
   },
   {
    "duration": 37,
    "start_time": "2021-10-21T11:38:52.027Z"
   },
   {
    "duration": 6,
    "start_time": "2021-10-21T11:38:52.066Z"
   },
   {
    "duration": 127,
    "start_time": "2021-10-21T11:38:52.074Z"
   },
   {
    "duration": 25,
    "start_time": "2021-10-21T11:38:52.204Z"
   },
   {
    "duration": 56,
    "start_time": "2021-10-21T11:38:52.231Z"
   },
   {
    "duration": 8,
    "start_time": "2021-10-21T11:38:52.289Z"
   },
   {
    "duration": 7,
    "start_time": "2021-10-21T11:38:52.299Z"
   },
   {
    "duration": 5,
    "start_time": "2021-10-21T11:38:52.308Z"
   },
   {
    "duration": 9,
    "start_time": "2021-10-21T11:38:52.315Z"
   },
   {
    "duration": 60,
    "start_time": "2021-10-21T11:38:52.326Z"
   },
   {
    "duration": 19,
    "start_time": "2021-10-21T11:38:52.389Z"
   },
   {
    "duration": 62,
    "start_time": "2021-10-21T11:38:52.410Z"
   },
   {
    "duration": 21,
    "start_time": "2021-10-21T11:38:52.474Z"
   },
   {
    "duration": 19,
    "start_time": "2021-10-21T11:38:52.497Z"
   },
   {
    "duration": 16,
    "start_time": "2021-10-21T11:38:52.518Z"
   },
   {
    "duration": 82,
    "start_time": "2021-10-21T11:38:52.536Z"
   },
   {
    "duration": 13,
    "start_time": "2021-10-21T11:38:52.621Z"
   },
   {
    "duration": 17,
    "start_time": "2021-10-21T11:38:52.664Z"
   },
   {
    "duration": 11,
    "start_time": "2021-10-21T11:38:52.684Z"
   },
   {
    "duration": 9,
    "start_time": "2021-10-21T11:38:52.697Z"
   },
   {
    "duration": 68,
    "start_time": "2021-10-21T11:38:52.708Z"
   },
   {
    "duration": 18,
    "start_time": "2021-10-21T11:38:52.781Z"
   },
   {
    "duration": 33,
    "start_time": "2021-10-21T11:38:52.802Z"
   },
   {
    "duration": 39,
    "start_time": "2021-10-21T11:38:52.837Z"
   },
   {
    "duration": 27,
    "start_time": "2021-10-21T11:38:52.878Z"
   },
   {
    "duration": 19,
    "start_time": "2021-10-21T11:38:52.907Z"
   },
   {
    "duration": 8,
    "start_time": "2021-10-21T11:38:52.928Z"
   },
   {
    "duration": 21,
    "start_time": "2021-10-21T11:38:52.963Z"
   },
   {
    "duration": 19,
    "start_time": "2021-10-21T11:38:52.986Z"
   },
   {
    "duration": 259,
    "start_time": "2021-10-21T11:38:53.007Z"
   },
   {
    "duration": 429,
    "start_time": "2021-10-21T11:57:34.649Z"
   },
   {
    "duration": 27,
    "start_time": "2021-10-21T11:57:35.080Z"
   },
   {
    "duration": 29,
    "start_time": "2021-10-21T11:57:35.110Z"
   },
   {
    "duration": 3,
    "start_time": "2021-10-21T11:57:35.142Z"
   },
   {
    "duration": 44,
    "start_time": "2021-10-21T11:57:35.147Z"
   },
   {
    "duration": 23,
    "start_time": "2021-10-21T11:57:35.193Z"
   },
   {
    "duration": 5,
    "start_time": "2021-10-21T11:57:35.218Z"
   },
   {
    "duration": 129,
    "start_time": "2021-10-21T11:57:35.224Z"
   },
   {
    "duration": 29,
    "start_time": "2021-10-21T11:57:35.356Z"
   },
   {
    "duration": 31,
    "start_time": "2021-10-21T11:57:35.387Z"
   },
   {
    "duration": 11,
    "start_time": "2021-10-21T11:57:35.420Z"
   },
   {
    "duration": 45,
    "start_time": "2021-10-21T11:57:35.433Z"
   },
   {
    "duration": 15,
    "start_time": "2021-10-21T11:57:35.480Z"
   },
   {
    "duration": 33,
    "start_time": "2021-10-21T11:57:35.497Z"
   },
   {
    "duration": 33,
    "start_time": "2021-10-21T11:57:35.532Z"
   },
   {
    "duration": 18,
    "start_time": "2021-10-21T11:57:35.568Z"
   },
   {
    "duration": 46,
    "start_time": "2021-10-21T11:57:35.588Z"
   },
   {
    "duration": 37,
    "start_time": "2021-10-21T11:57:35.636Z"
   },
   {
    "duration": 19,
    "start_time": "2021-10-21T11:57:35.674Z"
   },
   {
    "duration": 16,
    "start_time": "2021-10-21T11:57:35.695Z"
   },
   {
    "duration": 77,
    "start_time": "2021-10-21T11:57:35.712Z"
   },
   {
    "duration": 12,
    "start_time": "2021-10-21T11:57:35.791Z"
   },
   {
    "duration": 35,
    "start_time": "2021-10-21T11:57:35.805Z"
   },
   {
    "duration": 21,
    "start_time": "2021-10-21T11:57:35.841Z"
   },
   {
    "duration": 15,
    "start_time": "2021-10-21T11:57:35.864Z"
   },
   {
    "duration": 50,
    "start_time": "2021-10-21T11:57:35.881Z"
   },
   {
    "duration": 17,
    "start_time": "2021-10-21T11:57:35.935Z"
   },
   {
    "duration": 47,
    "start_time": "2021-10-21T11:57:35.955Z"
   },
   {
    "duration": 19,
    "start_time": "2021-10-21T11:57:36.004Z"
   },
   {
    "duration": 46,
    "start_time": "2021-10-21T11:57:36.025Z"
   },
   {
    "duration": 18,
    "start_time": "2021-10-21T11:57:36.072Z"
   },
   {
    "duration": 90,
    "start_time": "2021-10-21T11:57:36.092Z"
   },
   {
    "duration": 6,
    "start_time": "2021-10-21T11:57:36.178Z"
   },
   {
    "duration": 7,
    "start_time": "2021-10-21T11:57:36.179Z"
   },
   {
    "duration": 414,
    "start_time": "2021-10-21T12:05:18.581Z"
   },
   {
    "duration": 28,
    "start_time": "2021-10-21T12:05:18.997Z"
   },
   {
    "duration": 28,
    "start_time": "2021-10-21T12:05:19.028Z"
   },
   {
    "duration": 3,
    "start_time": "2021-10-21T12:05:19.059Z"
   },
   {
    "duration": 30,
    "start_time": "2021-10-21T12:05:19.064Z"
   },
   {
    "duration": 25,
    "start_time": "2021-10-21T12:05:19.096Z"
   },
   {
    "duration": 6,
    "start_time": "2021-10-21T12:05:19.123Z"
   },
   {
    "duration": 125,
    "start_time": "2021-10-21T12:05:19.131Z"
   },
   {
    "duration": 24,
    "start_time": "2021-10-21T12:05:19.264Z"
   },
   {
    "duration": 29,
    "start_time": "2021-10-21T12:05:19.291Z"
   },
   {
    "duration": 8,
    "start_time": "2021-10-21T12:05:19.322Z"
   },
   {
    "duration": 9,
    "start_time": "2021-10-21T12:05:19.364Z"
   },
   {
    "duration": 8,
    "start_time": "2021-10-21T12:05:19.374Z"
   },
   {
    "duration": 7,
    "start_time": "2021-10-21T12:05:19.384Z"
   },
   {
    "duration": 25,
    "start_time": "2021-10-21T12:05:19.392Z"
   },
   {
    "duration": 47,
    "start_time": "2021-10-21T12:05:19.419Z"
   },
   {
    "duration": 44,
    "start_time": "2021-10-21T12:05:19.468Z"
   },
   {
    "duration": 20,
    "start_time": "2021-10-21T12:05:19.514Z"
   },
   {
    "duration": 41,
    "start_time": "2021-10-21T12:05:19.536Z"
   },
   {
    "duration": 16,
    "start_time": "2021-10-21T12:05:19.578Z"
   },
   {
    "duration": 68,
    "start_time": "2021-10-21T12:05:19.596Z"
   },
   {
    "duration": 13,
    "start_time": "2021-10-21T12:05:19.667Z"
   },
   {
    "duration": 18,
    "start_time": "2021-10-21T12:05:19.683Z"
   },
   {
    "duration": 8,
    "start_time": "2021-10-21T12:05:19.703Z"
   },
   {
    "duration": 12,
    "start_time": "2021-10-21T12:05:19.714Z"
   },
   {
    "duration": 75,
    "start_time": "2021-10-21T12:05:19.728Z"
   },
   {
    "duration": 16,
    "start_time": "2021-10-21T12:05:19.806Z"
   },
   {
    "duration": 47,
    "start_time": "2021-10-21T12:05:19.824Z"
   },
   {
    "duration": 16,
    "start_time": "2021-10-21T12:05:19.873Z"
   },
   {
    "duration": 31,
    "start_time": "2021-10-21T12:05:19.891Z"
   },
   {
    "duration": 16,
    "start_time": "2021-10-21T12:05:19.924Z"
   },
   {
    "duration": 115,
    "start_time": "2021-10-21T12:05:19.942Z"
   },
   {
    "duration": 7,
    "start_time": "2021-10-21T12:05:20.053Z"
   },
   {
    "duration": 7,
    "start_time": "2021-10-21T12:05:20.054Z"
   },
   {
    "duration": 14,
    "start_time": "2021-10-21T12:05:36.129Z"
   },
   {
    "duration": 425,
    "start_time": "2021-10-21T12:05:39.031Z"
   },
   {
    "duration": 28,
    "start_time": "2021-10-21T12:05:39.458Z"
   },
   {
    "duration": 29,
    "start_time": "2021-10-21T12:05:39.488Z"
   },
   {
    "duration": 3,
    "start_time": "2021-10-21T12:05:39.519Z"
   },
   {
    "duration": 52,
    "start_time": "2021-10-21T12:05:39.524Z"
   },
   {
    "duration": 24,
    "start_time": "2021-10-21T12:05:39.578Z"
   },
   {
    "duration": 5,
    "start_time": "2021-10-21T12:05:39.604Z"
   },
   {
    "duration": 116,
    "start_time": "2021-10-21T12:05:39.610Z"
   },
   {
    "duration": 24,
    "start_time": "2021-10-21T12:05:39.729Z"
   },
   {
    "duration": 34,
    "start_time": "2021-10-21T12:05:39.764Z"
   },
   {
    "duration": 6,
    "start_time": "2021-10-21T12:05:39.800Z"
   },
   {
    "duration": 9,
    "start_time": "2021-10-21T12:05:39.808Z"
   },
   {
    "duration": 7,
    "start_time": "2021-10-21T12:05:39.818Z"
   },
   {
    "duration": 6,
    "start_time": "2021-10-21T12:05:39.827Z"
   },
   {
    "duration": 23,
    "start_time": "2021-10-21T12:05:39.864Z"
   },
   {
    "duration": 17,
    "start_time": "2021-10-21T12:05:39.889Z"
   },
   {
    "duration": 56,
    "start_time": "2021-10-21T12:05:39.908Z"
   },
   {
    "duration": 20,
    "start_time": "2021-10-21T12:05:39.966Z"
   },
   {
    "duration": 17,
    "start_time": "2021-10-21T12:05:39.988Z"
   },
   {
    "duration": 16,
    "start_time": "2021-10-21T12:05:40.007Z"
   },
   {
    "duration": 75,
    "start_time": "2021-10-21T12:05:40.025Z"
   },
   {
    "duration": 14,
    "start_time": "2021-10-21T12:05:40.102Z"
   },
   {
    "duration": 17,
    "start_time": "2021-10-21T12:05:40.118Z"
   },
   {
    "duration": 31,
    "start_time": "2021-10-21T12:05:40.137Z"
   },
   {
    "duration": 9,
    "start_time": "2021-10-21T12:05:40.170Z"
   },
   {
    "duration": 34,
    "start_time": "2021-10-21T12:05:40.181Z"
   },
   {
    "duration": 17,
    "start_time": "2021-10-21T12:05:40.218Z"
   },
   {
    "duration": 54,
    "start_time": "2021-10-21T12:05:40.237Z"
   },
   {
    "duration": 18,
    "start_time": "2021-10-21T12:05:40.293Z"
   },
   {
    "duration": 29,
    "start_time": "2021-10-21T12:05:40.313Z"
   },
   {
    "duration": 34,
    "start_time": "2021-10-21T12:05:40.344Z"
   },
   {
    "duration": 11,
    "start_time": "2021-10-21T12:05:40.380Z"
   },
   {
    "duration": 38,
    "start_time": "2021-10-21T12:05:40.393Z"
   },
   {
    "duration": 34,
    "start_time": "2021-10-21T12:05:40.433Z"
   },
   {
    "duration": 4,
    "start_time": "2021-10-21T12:07:32.604Z"
   },
   {
    "duration": 5,
    "start_time": "2021-10-21T12:07:45.436Z"
   },
   {
    "duration": 17,
    "start_time": "2021-10-21T12:07:55.916Z"
   },
   {
    "duration": 13,
    "start_time": "2021-10-21T12:21:35.701Z"
   },
   {
    "duration": 8,
    "start_time": "2021-10-21T12:21:38.309Z"
   },
   {
    "duration": 26,
    "start_time": "2021-10-21T12:21:43.469Z"
   },
   {
    "duration": 18,
    "start_time": "2021-10-21T12:21:44.061Z"
   },
   {
    "duration": 421,
    "start_time": "2021-10-21T12:21:49.823Z"
   },
   {
    "duration": 27,
    "start_time": "2021-10-21T12:21:50.246Z"
   },
   {
    "duration": 32,
    "start_time": "2021-10-21T12:21:50.275Z"
   },
   {
    "duration": 3,
    "start_time": "2021-10-21T12:21:50.309Z"
   },
   {
    "duration": 47,
    "start_time": "2021-10-21T12:21:50.314Z"
   },
   {
    "duration": 24,
    "start_time": "2021-10-21T12:21:50.363Z"
   },
   {
    "duration": 6,
    "start_time": "2021-10-21T12:21:50.388Z"
   },
   {
    "duration": 128,
    "start_time": "2021-10-21T12:21:50.396Z"
   },
   {
    "duration": 36,
    "start_time": "2021-10-21T12:21:50.528Z"
   },
   {
    "duration": 31,
    "start_time": "2021-10-21T12:21:50.567Z"
   },
   {
    "duration": 9,
    "start_time": "2021-10-21T12:21:50.600Z"
   },
   {
    "duration": 6,
    "start_time": "2021-10-21T12:21:50.611Z"
   },
   {
    "duration": 8,
    "start_time": "2021-10-21T12:21:50.619Z"
   },
   {
    "duration": 34,
    "start_time": "2021-10-21T12:21:50.629Z"
   },
   {
    "duration": 28,
    "start_time": "2021-10-21T12:21:50.665Z"
   },
   {
    "duration": 18,
    "start_time": "2021-10-21T12:21:50.695Z"
   },
   {
    "duration": 60,
    "start_time": "2021-10-21T12:21:50.715Z"
   },
   {
    "duration": 20,
    "start_time": "2021-10-21T12:21:50.777Z"
   },
   {
    "duration": 18,
    "start_time": "2021-10-21T12:21:50.798Z"
   },
   {
    "duration": 16,
    "start_time": "2021-10-21T12:21:50.817Z"
   },
   {
    "duration": 73,
    "start_time": "2021-10-21T12:21:50.834Z"
   },
   {
    "duration": 13,
    "start_time": "2021-10-21T12:21:50.909Z"
   },
   {
    "duration": 39,
    "start_time": "2021-10-21T12:21:50.924Z"
   },
   {
    "duration": 8,
    "start_time": "2021-10-21T12:21:50.965Z"
   },
   {
    "duration": 10,
    "start_time": "2021-10-21T12:21:50.974Z"
   },
   {
    "duration": 36,
    "start_time": "2021-10-21T12:21:50.985Z"
   },
   {
    "duration": 16,
    "start_time": "2021-10-21T12:21:51.024Z"
   },
   {
    "duration": 51,
    "start_time": "2021-10-21T12:21:51.042Z"
   },
   {
    "duration": 17,
    "start_time": "2021-10-21T12:21:51.094Z"
   },
   {
    "duration": 50,
    "start_time": "2021-10-21T12:21:51.113Z"
   },
   {
    "duration": 17,
    "start_time": "2021-10-21T12:21:51.165Z"
   },
   {
    "duration": 10,
    "start_time": "2021-10-21T12:21:51.184Z"
   },
   {
    "duration": 31,
    "start_time": "2021-10-21T12:21:51.195Z"
   },
   {
    "duration": 37,
    "start_time": "2021-10-21T12:21:51.228Z"
   },
   {
    "duration": 5,
    "start_time": "2021-10-21T12:34:57.053Z"
   },
   {
    "duration": 31,
    "start_time": "2021-10-21T12:34:59.221Z"
   },
   {
    "duration": 428,
    "start_time": "2021-10-21T12:35:04.712Z"
   },
   {
    "duration": 27,
    "start_time": "2021-10-21T12:35:05.141Z"
   },
   {
    "duration": 35,
    "start_time": "2021-10-21T12:35:05.171Z"
   },
   {
    "duration": 3,
    "start_time": "2021-10-21T12:35:05.208Z"
   },
   {
    "duration": 49,
    "start_time": "2021-10-21T12:35:05.213Z"
   },
   {
    "duration": 24,
    "start_time": "2021-10-21T12:35:05.264Z"
   },
   {
    "duration": 6,
    "start_time": "2021-10-21T12:35:05.290Z"
   },
   {
    "duration": 123,
    "start_time": "2021-10-21T12:35:05.297Z"
   },
   {
    "duration": 24,
    "start_time": "2021-10-21T12:35:05.423Z"
   },
   {
    "duration": 41,
    "start_time": "2021-10-21T12:35:05.450Z"
   },
   {
    "duration": 7,
    "start_time": "2021-10-21T12:35:05.493Z"
   },
   {
    "duration": 30,
    "start_time": "2021-10-21T12:35:05.502Z"
   },
   {
    "duration": 11,
    "start_time": "2021-10-21T12:35:05.534Z"
   },
   {
    "duration": 19,
    "start_time": "2021-10-21T12:35:05.547Z"
   },
   {
    "duration": 37,
    "start_time": "2021-10-21T12:35:05.568Z"
   },
   {
    "duration": 18,
    "start_time": "2021-10-21T12:35:05.607Z"
   },
   {
    "duration": 54,
    "start_time": "2021-10-21T12:35:05.628Z"
   },
   {
    "duration": 19,
    "start_time": "2021-10-21T12:35:05.684Z"
   },
   {
    "duration": 20,
    "start_time": "2021-10-21T12:35:05.705Z"
   },
   {
    "duration": 25,
    "start_time": "2021-10-21T12:35:05.727Z"
   },
   {
    "duration": 57,
    "start_time": "2021-10-21T12:35:05.754Z"
   },
   {
    "duration": 12,
    "start_time": "2021-10-21T12:35:05.812Z"
   },
   {
    "duration": 23,
    "start_time": "2021-10-21T12:35:05.826Z"
   },
   {
    "duration": 7,
    "start_time": "2021-10-21T12:35:05.864Z"
   },
   {
    "duration": 26,
    "start_time": "2021-10-21T12:35:05.873Z"
   },
   {
    "duration": 53,
    "start_time": "2021-10-21T12:35:05.901Z"
   },
   {
    "duration": 18,
    "start_time": "2021-10-21T12:35:05.958Z"
   },
   {
    "duration": 41,
    "start_time": "2021-10-21T12:35:05.978Z"
   },
   {
    "duration": 18,
    "start_time": "2021-10-21T12:35:06.021Z"
   },
   {
    "duration": 41,
    "start_time": "2021-10-21T12:35:06.041Z"
   },
   {
    "duration": 28,
    "start_time": "2021-10-21T12:35:06.084Z"
   },
   {
    "duration": 24,
    "start_time": "2021-10-21T12:35:06.114Z"
   },
   {
    "duration": 37,
    "start_time": "2021-10-21T12:35:06.140Z"
   },
   {
    "duration": 22,
    "start_time": "2021-10-21T12:35:06.179Z"
   },
   {
    "duration": 36,
    "start_time": "2021-10-21T12:36:03.654Z"
   },
   {
    "duration": 429,
    "start_time": "2021-10-21T12:36:37.969Z"
   },
   {
    "duration": 29,
    "start_time": "2021-10-21T12:36:38.400Z"
   },
   {
    "duration": 36,
    "start_time": "2021-10-21T12:36:38.432Z"
   },
   {
    "duration": 4,
    "start_time": "2021-10-21T12:36:38.471Z"
   },
   {
    "duration": 52,
    "start_time": "2021-10-21T12:36:38.477Z"
   },
   {
    "duration": 26,
    "start_time": "2021-10-21T12:36:38.531Z"
   },
   {
    "duration": 6,
    "start_time": "2021-10-21T12:36:38.559Z"
   },
   {
    "duration": 116,
    "start_time": "2021-10-21T12:36:38.567Z"
   },
   {
    "duration": 25,
    "start_time": "2021-10-21T12:36:38.687Z"
   },
   {
    "duration": 54,
    "start_time": "2021-10-21T12:36:38.714Z"
   },
   {
    "duration": 8,
    "start_time": "2021-10-21T12:36:38.770Z"
   },
   {
    "duration": 9,
    "start_time": "2021-10-21T12:36:38.779Z"
   },
   {
    "duration": 5,
    "start_time": "2021-10-21T12:36:38.791Z"
   },
   {
    "duration": 7,
    "start_time": "2021-10-21T12:36:38.798Z"
   },
   {
    "duration": 23,
    "start_time": "2021-10-21T12:36:38.806Z"
   },
   {
    "duration": 48,
    "start_time": "2021-10-21T12:36:38.831Z"
   },
   {
    "duration": 45,
    "start_time": "2021-10-21T12:36:38.881Z"
   },
   {
    "duration": 38,
    "start_time": "2021-10-21T12:36:38.928Z"
   },
   {
    "duration": 19,
    "start_time": "2021-10-21T12:36:38.968Z"
   },
   {
    "duration": 17,
    "start_time": "2021-10-21T12:36:38.988Z"
   },
   {
    "duration": 75,
    "start_time": "2021-10-21T12:36:39.006Z"
   },
   {
    "duration": 12,
    "start_time": "2021-10-21T12:36:39.082Z"
   },
   {
    "duration": 15,
    "start_time": "2021-10-21T12:36:39.096Z"
   },
   {
    "duration": 8,
    "start_time": "2021-10-21T12:36:39.112Z"
   },
   {
    "duration": 11,
    "start_time": "2021-10-21T12:36:39.121Z"
   },
   {
    "duration": 63,
    "start_time": "2021-10-21T12:36:39.134Z"
   },
   {
    "duration": 17,
    "start_time": "2021-10-21T12:36:39.200Z"
   },
   {
    "duration": 50,
    "start_time": "2021-10-21T12:36:39.219Z"
   },
   {
    "duration": 17,
    "start_time": "2021-10-21T12:36:39.271Z"
   },
   {
    "duration": 28,
    "start_time": "2021-10-21T12:36:39.290Z"
   },
   {
    "duration": 18,
    "start_time": "2021-10-21T12:36:39.320Z"
   },
   {
    "duration": 29,
    "start_time": "2021-10-21T12:36:39.340Z"
   },
   {
    "duration": 22,
    "start_time": "2021-10-21T12:36:39.371Z"
   },
   {
    "duration": 17,
    "start_time": "2021-10-21T12:36:39.396Z"
   },
   {
    "duration": 13,
    "start_time": "2021-10-21T12:36:39.415Z"
   },
   {
    "duration": 33,
    "start_time": "2021-10-21T12:36:44.604Z"
   },
   {
    "duration": 11,
    "start_time": "2021-10-21T12:37:21.878Z"
   },
   {
    "duration": 32,
    "start_time": "2021-10-21T12:37:24.590Z"
   },
   {
    "duration": 432,
    "start_time": "2021-10-21T12:39:28.495Z"
   },
   {
    "duration": 28,
    "start_time": "2021-10-21T12:39:28.929Z"
   },
   {
    "duration": 35,
    "start_time": "2021-10-21T12:39:28.960Z"
   },
   {
    "duration": 3,
    "start_time": "2021-10-21T12:39:28.997Z"
   },
   {
    "duration": 46,
    "start_time": "2021-10-21T12:39:29.002Z"
   },
   {
    "duration": 25,
    "start_time": "2021-10-21T12:39:29.050Z"
   },
   {
    "duration": 9,
    "start_time": "2021-10-21T12:39:29.077Z"
   },
   {
    "duration": 124,
    "start_time": "2021-10-21T12:39:29.088Z"
   },
   {
    "duration": 26,
    "start_time": "2021-10-21T12:39:29.215Z"
   },
   {
    "duration": 51,
    "start_time": "2021-10-21T12:39:29.244Z"
   },
   {
    "duration": 12,
    "start_time": "2021-10-21T12:39:29.297Z"
   },
   {
    "duration": 18,
    "start_time": "2021-10-21T12:39:29.311Z"
   },
   {
    "duration": 21,
    "start_time": "2021-10-21T12:39:29.331Z"
   },
   {
    "duration": 40,
    "start_time": "2021-10-21T12:39:29.354Z"
   },
   {
    "duration": 54,
    "start_time": "2021-10-21T12:39:29.396Z"
   },
   {
    "duration": 24,
    "start_time": "2021-10-21T12:39:29.452Z"
   },
   {
    "duration": 49,
    "start_time": "2021-10-21T12:39:29.477Z"
   },
   {
    "duration": 20,
    "start_time": "2021-10-21T12:39:29.528Z"
   },
   {
    "duration": 32,
    "start_time": "2021-10-21T12:39:29.550Z"
   },
   {
    "duration": 25,
    "start_time": "2021-10-21T12:39:29.584Z"
   },
   {
    "duration": 52,
    "start_time": "2021-10-21T12:39:29.611Z"
   },
   {
    "duration": 16,
    "start_time": "2021-10-21T12:39:29.665Z"
   },
   {
    "duration": 15,
    "start_time": "2021-10-21T12:39:29.683Z"
   },
   {
    "duration": 9,
    "start_time": "2021-10-21T12:39:29.700Z"
   },
   {
    "duration": 14,
    "start_time": "2021-10-21T12:39:29.712Z"
   },
   {
    "duration": 70,
    "start_time": "2021-10-21T12:39:29.728Z"
   },
   {
    "duration": 17,
    "start_time": "2021-10-21T12:39:29.803Z"
   },
   {
    "duration": 56,
    "start_time": "2021-10-21T12:39:29.823Z"
   },
   {
    "duration": 18,
    "start_time": "2021-10-21T12:39:29.881Z"
   },
   {
    "duration": 38,
    "start_time": "2021-10-21T12:39:29.901Z"
   },
   {
    "duration": 35,
    "start_time": "2021-10-21T12:39:29.941Z"
   },
   {
    "duration": 16,
    "start_time": "2021-10-21T12:39:29.978Z"
   },
   {
    "duration": 40,
    "start_time": "2021-10-21T12:39:29.996Z"
   },
   {
    "duration": 38,
    "start_time": "2021-10-21T12:39:30.038Z"
   },
   {
    "duration": 22,
    "start_time": "2021-10-21T12:39:30.078Z"
   },
   {
    "duration": 23,
    "start_time": "2021-10-21T12:39:30.102Z"
   },
   {
    "duration": 18,
    "start_time": "2021-10-21T12:39:30.127Z"
   },
   {
    "duration": 31,
    "start_time": "2021-10-21T12:40:04.661Z"
   },
   {
    "duration": 425,
    "start_time": "2021-10-21T12:40:16.384Z"
   },
   {
    "duration": 29,
    "start_time": "2021-10-21T12:40:16.811Z"
   },
   {
    "duration": 29,
    "start_time": "2021-10-21T12:40:16.842Z"
   },
   {
    "duration": 3,
    "start_time": "2021-10-21T12:40:16.873Z"
   },
   {
    "duration": 46,
    "start_time": "2021-10-21T12:40:16.878Z"
   },
   {
    "duration": 24,
    "start_time": "2021-10-21T12:40:16.926Z"
   },
   {
    "duration": 11,
    "start_time": "2021-10-21T12:40:16.952Z"
   },
   {
    "duration": 130,
    "start_time": "2021-10-21T12:40:16.965Z"
   },
   {
    "duration": 25,
    "start_time": "2021-10-21T12:40:17.098Z"
   },
   {
    "duration": 41,
    "start_time": "2021-10-21T12:40:17.125Z"
   },
   {
    "duration": 7,
    "start_time": "2021-10-21T12:40:17.168Z"
   },
   {
    "duration": 29,
    "start_time": "2021-10-21T12:40:17.177Z"
   },
   {
    "duration": 22,
    "start_time": "2021-10-21T12:40:17.208Z"
   },
   {
    "duration": 18,
    "start_time": "2021-10-21T12:40:17.232Z"
   },
   {
    "duration": 38,
    "start_time": "2021-10-21T12:40:17.252Z"
   },
   {
    "duration": 19,
    "start_time": "2021-10-21T12:40:17.292Z"
   },
   {
    "duration": 58,
    "start_time": "2021-10-21T12:40:17.313Z"
   },
   {
    "duration": 21,
    "start_time": "2021-10-21T12:40:17.373Z"
   },
   {
    "duration": 25,
    "start_time": "2021-10-21T12:40:17.395Z"
   },
   {
    "duration": 26,
    "start_time": "2021-10-21T12:40:17.422Z"
   },
   {
    "duration": 56,
    "start_time": "2021-10-21T12:40:17.450Z"
   },
   {
    "duration": 13,
    "start_time": "2021-10-21T12:40:17.508Z"
   },
   {
    "duration": 35,
    "start_time": "2021-10-21T12:40:17.524Z"
   },
   {
    "duration": 27,
    "start_time": "2021-10-21T12:40:17.562Z"
   },
   {
    "duration": 29,
    "start_time": "2021-10-21T12:40:17.591Z"
   },
   {
    "duration": 49,
    "start_time": "2021-10-21T12:40:17.622Z"
   },
   {
    "duration": 18,
    "start_time": "2021-10-21T12:40:17.675Z"
   },
   {
    "duration": 53,
    "start_time": "2021-10-21T12:40:17.695Z"
   },
   {
    "duration": 17,
    "start_time": "2021-10-21T12:40:17.750Z"
   },
   {
    "duration": 42,
    "start_time": "2021-10-21T12:40:17.769Z"
   },
   {
    "duration": 21,
    "start_time": "2021-10-21T12:40:17.813Z"
   },
   {
    "duration": 22,
    "start_time": "2021-10-21T12:40:17.836Z"
   },
   {
    "duration": 48,
    "start_time": "2021-10-21T12:40:17.859Z"
   },
   {
    "duration": 17,
    "start_time": "2021-10-21T12:40:17.908Z"
   },
   {
    "duration": 23,
    "start_time": "2021-10-21T12:40:17.927Z"
   },
   {
    "duration": 9,
    "start_time": "2021-10-21T12:40:17.952Z"
   },
   {
    "duration": 46,
    "start_time": "2021-10-21T12:40:17.963Z"
   },
   {
    "duration": 5,
    "start_time": "2021-10-21T12:40:37.518Z"
   },
   {
    "duration": 12,
    "start_time": "2021-10-21T12:41:02.214Z"
   },
   {
    "duration": 5,
    "start_time": "2021-10-21T12:41:02.997Z"
   },
   {
    "duration": 9,
    "start_time": "2021-10-21T12:41:12.093Z"
   },
   {
    "duration": 9,
    "start_time": "2021-10-21T12:41:12.653Z"
   },
   {
    "duration": 5,
    "start_time": "2021-10-21T12:41:13.317Z"
   },
   {
    "duration": 443,
    "start_time": "2021-10-21T12:42:02.935Z"
   },
   {
    "duration": 30,
    "start_time": "2021-10-21T12:42:03.381Z"
   },
   {
    "duration": 31,
    "start_time": "2021-10-21T12:42:03.414Z"
   },
   {
    "duration": 3,
    "start_time": "2021-10-21T12:42:03.447Z"
   },
   {
    "duration": 37,
    "start_time": "2021-10-21T12:42:03.464Z"
   },
   {
    "duration": 24,
    "start_time": "2021-10-21T12:42:03.503Z"
   },
   {
    "duration": 5,
    "start_time": "2021-10-21T12:42:03.529Z"
   },
   {
    "duration": 121,
    "start_time": "2021-10-21T12:42:03.538Z"
   },
   {
    "duration": 26,
    "start_time": "2021-10-21T12:42:03.664Z"
   },
   {
    "duration": 32,
    "start_time": "2021-10-21T12:42:03.692Z"
   },
   {
    "duration": 40,
    "start_time": "2021-10-21T12:42:03.727Z"
   },
   {
    "duration": 7,
    "start_time": "2021-10-21T12:42:03.769Z"
   },
   {
    "duration": 13,
    "start_time": "2021-10-21T12:42:03.778Z"
   },
   {
    "duration": 7,
    "start_time": "2021-10-21T12:42:03.793Z"
   },
   {
    "duration": 25,
    "start_time": "2021-10-21T12:42:03.802Z"
   },
   {
    "duration": 43,
    "start_time": "2021-10-21T12:42:03.829Z"
   },
   {
    "duration": 47,
    "start_time": "2021-10-21T12:42:03.874Z"
   },
   {
    "duration": 20,
    "start_time": "2021-10-21T12:42:03.922Z"
   },
   {
    "duration": 20,
    "start_time": "2021-10-21T12:42:03.964Z"
   },
   {
    "duration": 16,
    "start_time": "2021-10-21T12:42:03.986Z"
   },
   {
    "duration": 78,
    "start_time": "2021-10-21T12:42:04.004Z"
   },
   {
    "duration": 13,
    "start_time": "2021-10-21T12:42:04.084Z"
   },
   {
    "duration": 15,
    "start_time": "2021-10-21T12:42:04.102Z"
   },
   {
    "duration": 19,
    "start_time": "2021-10-21T12:42:04.120Z"
   },
   {
    "duration": 40,
    "start_time": "2021-10-21T12:42:04.141Z"
   },
   {
    "duration": 48,
    "start_time": "2021-10-21T12:42:04.183Z"
   },
   {
    "duration": 17,
    "start_time": "2021-10-21T12:42:04.233Z"
   },
   {
    "duration": 38,
    "start_time": "2021-10-21T12:42:04.252Z"
   },
   {
    "duration": 17,
    "start_time": "2021-10-21T12:42:04.292Z"
   },
   {
    "duration": 41,
    "start_time": "2021-10-21T12:42:04.311Z"
   },
   {
    "duration": 22,
    "start_time": "2021-10-21T12:42:04.354Z"
   },
   {
    "duration": 11,
    "start_time": "2021-10-21T12:42:04.378Z"
   },
   {
    "duration": 35,
    "start_time": "2021-10-21T12:42:04.391Z"
   },
   {
    "duration": 36,
    "start_time": "2021-10-21T12:42:04.427Z"
   },
   {
    "duration": 10,
    "start_time": "2021-10-21T12:42:04.465Z"
   },
   {
    "duration": 4,
    "start_time": "2021-10-21T12:42:04.477Z"
   },
   {
    "duration": 12,
    "start_time": "2021-10-21T12:42:04.482Z"
   },
   {
    "duration": 10,
    "start_time": "2021-10-21T12:42:42.661Z"
   },
   {
    "duration": 5,
    "start_time": "2021-10-21T12:42:44.990Z"
   },
   {
    "duration": 457,
    "start_time": "2021-10-21T12:42:55.096Z"
   },
   {
    "duration": 28,
    "start_time": "2021-10-21T12:42:55.555Z"
   },
   {
    "duration": 27,
    "start_time": "2021-10-21T12:42:55.585Z"
   },
   {
    "duration": 7,
    "start_time": "2021-10-21T12:42:55.614Z"
   },
   {
    "duration": 42,
    "start_time": "2021-10-21T12:42:55.622Z"
   },
   {
    "duration": 23,
    "start_time": "2021-10-21T12:42:55.666Z"
   },
   {
    "duration": 6,
    "start_time": "2021-10-21T12:42:55.691Z"
   },
   {
    "duration": 137,
    "start_time": "2021-10-21T12:42:55.698Z"
   },
   {
    "duration": 31,
    "start_time": "2021-10-21T12:42:55.838Z"
   },
   {
    "duration": 30,
    "start_time": "2021-10-21T12:42:55.871Z"
   },
   {
    "duration": 7,
    "start_time": "2021-10-21T12:42:55.903Z"
   },
   {
    "duration": 10,
    "start_time": "2021-10-21T12:42:55.912Z"
   },
   {
    "duration": 6,
    "start_time": "2021-10-21T12:42:55.924Z"
   },
   {
    "duration": 35,
    "start_time": "2021-10-21T12:42:55.931Z"
   },
   {
    "duration": 25,
    "start_time": "2021-10-21T12:42:55.968Z"
   },
   {
    "duration": 18,
    "start_time": "2021-10-21T12:42:55.995Z"
   },
   {
    "duration": 75,
    "start_time": "2021-10-21T12:42:56.015Z"
   },
   {
    "duration": 20,
    "start_time": "2021-10-21T12:42:56.092Z"
   },
   {
    "duration": 19,
    "start_time": "2021-10-21T12:42:56.114Z"
   },
   {
    "duration": 40,
    "start_time": "2021-10-21T12:42:56.135Z"
   },
   {
    "duration": 55,
    "start_time": "2021-10-21T12:42:56.177Z"
   },
   {
    "duration": 12,
    "start_time": "2021-10-21T12:42:56.233Z"
   },
   {
    "duration": 14,
    "start_time": "2021-10-21T12:42:56.264Z"
   },
   {
    "duration": 7,
    "start_time": "2021-10-21T12:42:56.280Z"
   },
   {
    "duration": 11,
    "start_time": "2021-10-21T12:42:56.289Z"
   },
   {
    "duration": 70,
    "start_time": "2021-10-21T12:42:56.302Z"
   },
   {
    "duration": 17,
    "start_time": "2021-10-21T12:42:56.376Z"
   },
   {
    "duration": 36,
    "start_time": "2021-10-21T12:42:56.396Z"
   },
   {
    "duration": 34,
    "start_time": "2021-10-21T12:42:56.434Z"
   },
   {
    "duration": 34,
    "start_time": "2021-10-21T12:42:56.470Z"
   },
   {
    "duration": 17,
    "start_time": "2021-10-21T12:42:56.505Z"
   },
   {
    "duration": 11,
    "start_time": "2021-10-21T12:42:56.524Z"
   },
   {
    "duration": 52,
    "start_time": "2021-10-21T12:42:56.537Z"
   },
   {
    "duration": 17,
    "start_time": "2021-10-21T12:42:56.591Z"
   },
   {
    "duration": 13,
    "start_time": "2021-10-21T12:42:56.610Z"
   },
   {
    "duration": 8,
    "start_time": "2021-10-21T12:42:56.625Z"
   },
   {
    "duration": 4,
    "start_time": "2021-10-21T12:42:56.635Z"
   },
   {
    "duration": 456,
    "start_time": "2021-10-21T12:44:21.008Z"
   },
   {
    "duration": 28,
    "start_time": "2021-10-21T12:44:21.466Z"
   },
   {
    "duration": 28,
    "start_time": "2021-10-21T12:44:21.497Z"
   },
   {
    "duration": 3,
    "start_time": "2021-10-21T12:44:21.527Z"
   },
   {
    "duration": 56,
    "start_time": "2021-10-21T12:44:21.531Z"
   },
   {
    "duration": 23,
    "start_time": "2021-10-21T12:44:21.590Z"
   },
   {
    "duration": 5,
    "start_time": "2021-10-21T12:44:21.615Z"
   },
   {
    "duration": 148,
    "start_time": "2021-10-21T12:44:21.622Z"
   },
   {
    "duration": 23,
    "start_time": "2021-10-21T12:44:21.773Z"
   },
   {
    "duration": 30,
    "start_time": "2021-10-21T12:44:21.798Z"
   },
   {
    "duration": 35,
    "start_time": "2021-10-21T12:44:21.830Z"
   },
   {
    "duration": 8,
    "start_time": "2021-10-21T12:44:21.867Z"
   },
   {
    "duration": 8,
    "start_time": "2021-10-21T12:44:21.877Z"
   },
   {
    "duration": 10,
    "start_time": "2021-10-21T12:44:21.887Z"
   },
   {
    "duration": 25,
    "start_time": "2021-10-21T12:44:21.899Z"
   },
   {
    "duration": 39,
    "start_time": "2021-10-21T12:44:21.926Z"
   },
   {
    "duration": 53,
    "start_time": "2021-10-21T12:44:21.967Z"
   },
   {
    "duration": 21,
    "start_time": "2021-10-21T12:44:22.022Z"
   },
   {
    "duration": 20,
    "start_time": "2021-10-21T12:44:22.064Z"
   },
   {
    "duration": 17,
    "start_time": "2021-10-21T12:44:22.086Z"
   },
   {
    "duration": 77,
    "start_time": "2021-10-21T12:44:22.105Z"
   },
   {
    "duration": 12,
    "start_time": "2021-10-21T12:44:22.184Z"
   },
   {
    "duration": 19,
    "start_time": "2021-10-21T12:44:22.197Z"
   },
   {
    "duration": 13,
    "start_time": "2021-10-21T12:44:22.217Z"
   },
   {
    "duration": 35,
    "start_time": "2021-10-21T12:44:22.232Z"
   },
   {
    "duration": 37,
    "start_time": "2021-10-21T12:44:22.269Z"
   },
   {
    "duration": 18,
    "start_time": "2021-10-21T12:44:22.310Z"
   },
   {
    "duration": 54,
    "start_time": "2021-10-21T12:44:22.330Z"
   },
   {
    "duration": 17,
    "start_time": "2021-10-21T12:44:22.386Z"
   },
   {
    "duration": 39,
    "start_time": "2021-10-21T12:44:22.405Z"
   },
   {
    "duration": 31,
    "start_time": "2021-10-21T12:44:22.445Z"
   },
   {
    "duration": 17,
    "start_time": "2021-10-21T12:44:22.478Z"
   },
   {
    "duration": 51,
    "start_time": "2021-10-21T12:44:22.497Z"
   },
   {
    "duration": 18,
    "start_time": "2021-10-21T12:44:22.550Z"
   },
   {
    "duration": 24,
    "start_time": "2021-10-21T12:44:22.569Z"
   },
   {
    "duration": 18,
    "start_time": "2021-10-21T12:44:22.595Z"
   },
   {
    "duration": 14,
    "start_time": "2021-10-21T12:44:22.615Z"
   },
   {
    "duration": 456,
    "start_time": "2021-10-21T12:45:00.777Z"
   },
   {
    "duration": 28,
    "start_time": "2021-10-21T12:45:01.236Z"
   },
   {
    "duration": 46,
    "start_time": "2021-10-21T12:45:01.266Z"
   },
   {
    "duration": 3,
    "start_time": "2021-10-21T12:45:01.315Z"
   },
   {
    "duration": 46,
    "start_time": "2021-10-21T12:45:01.321Z"
   },
   {
    "duration": 31,
    "start_time": "2021-10-21T12:45:01.369Z"
   },
   {
    "duration": 5,
    "start_time": "2021-10-21T12:45:01.402Z"
   },
   {
    "duration": 126,
    "start_time": "2021-10-21T12:45:01.409Z"
   },
   {
    "duration": 28,
    "start_time": "2021-10-21T12:45:01.538Z"
   },
   {
    "duration": 35,
    "start_time": "2021-10-21T12:45:01.568Z"
   },
   {
    "duration": 7,
    "start_time": "2021-10-21T12:45:01.605Z"
   },
   {
    "duration": 21,
    "start_time": "2021-10-21T12:45:01.613Z"
   },
   {
    "duration": 16,
    "start_time": "2021-10-21T12:45:01.635Z"
   },
   {
    "duration": 17,
    "start_time": "2021-10-21T12:45:01.653Z"
   },
   {
    "duration": 40,
    "start_time": "2021-10-21T12:45:01.672Z"
   },
   {
    "duration": 36,
    "start_time": "2021-10-21T12:45:01.714Z"
   },
   {
    "duration": 54,
    "start_time": "2021-10-21T12:45:01.752Z"
   },
   {
    "duration": 19,
    "start_time": "2021-10-21T12:45:01.808Z"
   },
   {
    "duration": 20,
    "start_time": "2021-10-21T12:45:01.829Z"
   },
   {
    "duration": 24,
    "start_time": "2021-10-21T12:45:01.851Z"
   },
   {
    "duration": 55,
    "start_time": "2021-10-21T12:45:01.877Z"
   },
   {
    "duration": 34,
    "start_time": "2021-10-21T12:45:01.934Z"
   },
   {
    "duration": 34,
    "start_time": "2021-10-21T12:45:01.970Z"
   },
   {
    "duration": 23,
    "start_time": "2021-10-21T12:45:02.006Z"
   },
   {
    "duration": 18,
    "start_time": "2021-10-21T12:45:02.031Z"
   },
   {
    "duration": 63,
    "start_time": "2021-10-21T12:45:02.051Z"
   },
   {
    "duration": 16,
    "start_time": "2021-10-21T12:45:02.118Z"
   },
   {
    "duration": 39,
    "start_time": "2021-10-21T12:45:02.137Z"
   },
   {
    "duration": 18,
    "start_time": "2021-10-21T12:45:02.178Z"
   },
   {
    "duration": 61,
    "start_time": "2021-10-21T12:45:02.198Z"
   },
   {
    "duration": 17,
    "start_time": "2021-10-21T12:45:02.261Z"
   },
   {
    "duration": 21,
    "start_time": "2021-10-21T12:45:02.280Z"
   },
   {
    "duration": 50,
    "start_time": "2021-10-21T12:45:02.303Z"
   },
   {
    "duration": 19,
    "start_time": "2021-10-21T12:45:02.354Z"
   },
   {
    "duration": 39,
    "start_time": "2021-10-21T12:45:02.375Z"
   },
   {
    "duration": 10,
    "start_time": "2021-10-21T12:45:02.416Z"
   },
   {
    "duration": 14,
    "start_time": "2021-10-21T12:45:02.428Z"
   },
   {
    "duration": 4,
    "start_time": "2021-10-21T12:45:12.245Z"
   },
   {
    "duration": 460,
    "start_time": "2021-10-21T12:46:01.489Z"
   },
   {
    "duration": 28,
    "start_time": "2021-10-21T12:46:01.952Z"
   },
   {
    "duration": 39,
    "start_time": "2021-10-21T12:46:01.982Z"
   },
   {
    "duration": 3,
    "start_time": "2021-10-21T12:46:02.024Z"
   },
   {
    "duration": 51,
    "start_time": "2021-10-21T12:46:02.029Z"
   },
   {
    "duration": 24,
    "start_time": "2021-10-21T12:46:02.082Z"
   },
   {
    "duration": 5,
    "start_time": "2021-10-21T12:46:02.108Z"
   },
   {
    "duration": 131,
    "start_time": "2021-10-21T12:46:02.115Z"
   },
   {
    "duration": 34,
    "start_time": "2021-10-21T12:46:02.249Z"
   },
   {
    "duration": 47,
    "start_time": "2021-10-21T12:46:02.286Z"
   },
   {
    "duration": 11,
    "start_time": "2021-10-21T12:46:02.334Z"
   },
   {
    "duration": 35,
    "start_time": "2021-10-21T12:46:02.346Z"
   },
   {
    "duration": 31,
    "start_time": "2021-10-21T12:46:02.383Z"
   },
   {
    "duration": 39,
    "start_time": "2021-10-21T12:46:02.416Z"
   },
   {
    "duration": 37,
    "start_time": "2021-10-21T12:46:02.458Z"
   },
   {
    "duration": 41,
    "start_time": "2021-10-21T12:46:02.497Z"
   },
   {
    "duration": 54,
    "start_time": "2021-10-21T12:46:02.540Z"
   },
   {
    "duration": 21,
    "start_time": "2021-10-21T12:46:02.596Z"
   },
   {
    "duration": 33,
    "start_time": "2021-10-21T12:46:02.619Z"
   },
   {
    "duration": 19,
    "start_time": "2021-10-21T12:46:02.654Z"
   },
   {
    "duration": 53,
    "start_time": "2021-10-21T12:46:02.675Z"
   },
   {
    "duration": 34,
    "start_time": "2021-10-21T12:46:02.730Z"
   },
   {
    "duration": 22,
    "start_time": "2021-10-21T12:46:02.766Z"
   },
   {
    "duration": 23,
    "start_time": "2021-10-21T12:46:02.790Z"
   },
   {
    "duration": 25,
    "start_time": "2021-10-21T12:46:02.815Z"
   },
   {
    "duration": 62,
    "start_time": "2021-10-21T12:46:02.842Z"
   },
   {
    "duration": 20,
    "start_time": "2021-10-21T12:46:02.908Z"
   },
   {
    "duration": 53,
    "start_time": "2021-10-21T12:46:02.930Z"
   },
   {
    "duration": 16,
    "start_time": "2021-10-21T12:46:02.985Z"
   },
   {
    "duration": 47,
    "start_time": "2021-10-21T12:46:03.003Z"
   },
   {
    "duration": 17,
    "start_time": "2021-10-21T12:46:03.052Z"
   },
   {
    "duration": 32,
    "start_time": "2021-10-21T12:46:03.070Z"
   },
   {
    "duration": 54,
    "start_time": "2021-10-21T12:46:03.104Z"
   },
   {
    "duration": 17,
    "start_time": "2021-10-21T12:46:03.160Z"
   },
   {
    "duration": 40,
    "start_time": "2021-10-21T12:46:03.179Z"
   },
   {
    "duration": 21,
    "start_time": "2021-10-21T12:46:03.221Z"
   },
   {
    "duration": 27,
    "start_time": "2021-10-21T12:46:03.244Z"
   },
   {
    "duration": 457,
    "start_time": "2021-10-21T12:49:45.569Z"
   },
   {
    "duration": 28,
    "start_time": "2021-10-21T12:49:46.028Z"
   },
   {
    "duration": 29,
    "start_time": "2021-10-21T12:49:46.059Z"
   },
   {
    "duration": 4,
    "start_time": "2021-10-21T12:49:46.091Z"
   },
   {
    "duration": 45,
    "start_time": "2021-10-21T12:49:46.097Z"
   },
   {
    "duration": 33,
    "start_time": "2021-10-21T12:49:46.144Z"
   },
   {
    "duration": 6,
    "start_time": "2021-10-21T12:49:46.179Z"
   },
   {
    "duration": 127,
    "start_time": "2021-10-21T12:49:46.187Z"
   },
   {
    "duration": 24,
    "start_time": "2021-10-21T12:49:46.318Z"
   },
   {
    "duration": 28,
    "start_time": "2021-10-21T12:49:46.365Z"
   },
   {
    "duration": 7,
    "start_time": "2021-10-21T12:49:46.395Z"
   },
   {
    "duration": 18,
    "start_time": "2021-10-21T12:49:46.403Z"
   },
   {
    "duration": 16,
    "start_time": "2021-10-21T12:49:46.422Z"
   },
   {
    "duration": 18,
    "start_time": "2021-10-21T12:49:46.440Z"
   },
   {
    "duration": 33,
    "start_time": "2021-10-21T12:49:46.460Z"
   },
   {
    "duration": 27,
    "start_time": "2021-10-21T12:49:46.495Z"
   },
   {
    "duration": 46,
    "start_time": "2021-10-21T12:49:46.523Z"
   },
   {
    "duration": 20,
    "start_time": "2021-10-21T12:49:46.571Z"
   },
   {
    "duration": 18,
    "start_time": "2021-10-21T12:49:46.592Z"
   },
   {
    "duration": 17,
    "start_time": "2021-10-21T12:49:46.612Z"
   },
   {
    "duration": 72,
    "start_time": "2021-10-21T12:49:46.631Z"
   },
   {
    "duration": 13,
    "start_time": "2021-10-21T12:49:46.704Z"
   },
   {
    "duration": 34,
    "start_time": "2021-10-21T12:49:46.718Z"
   },
   {
    "duration": 22,
    "start_time": "2021-10-21T12:49:46.753Z"
   },
   {
    "duration": 24,
    "start_time": "2021-10-21T12:49:46.777Z"
   },
   {
    "duration": 50,
    "start_time": "2021-10-21T12:49:46.803Z"
   },
   {
    "duration": 17,
    "start_time": "2021-10-21T12:49:46.856Z"
   },
   {
    "duration": 59,
    "start_time": "2021-10-21T12:49:46.875Z"
   },
   {
    "duration": 17,
    "start_time": "2021-10-21T12:49:46.937Z"
   },
   {
    "duration": 44,
    "start_time": "2021-10-21T12:49:46.956Z"
   },
   {
    "duration": 17,
    "start_time": "2021-10-21T12:49:47.002Z"
   },
   {
    "duration": 21,
    "start_time": "2021-10-21T12:49:47.021Z"
   },
   {
    "duration": 55,
    "start_time": "2021-10-21T12:49:47.044Z"
   },
   {
    "duration": 16,
    "start_time": "2021-10-21T12:49:47.100Z"
   },
   {
    "duration": 34,
    "start_time": "2021-10-21T12:49:47.117Z"
   },
   {
    "duration": 17,
    "start_time": "2021-10-21T12:49:47.153Z"
   },
   {
    "duration": 30,
    "start_time": "2021-10-21T12:49:47.172Z"
   },
   {
    "duration": 10,
    "start_time": "2021-10-21T12:50:14.434Z"
   },
   {
    "duration": 25,
    "start_time": "2021-10-21T12:50:21.134Z"
   },
   {
    "duration": 6,
    "start_time": "2021-10-21T12:50:39.950Z"
   },
   {
    "duration": 6,
    "start_time": "2021-10-21T12:50:45.262Z"
   },
   {
    "duration": 1323,
    "start_time": "2021-10-22T05:32:34.089Z"
   },
   {
    "duration": 47,
    "start_time": "2021-10-22T05:32:35.415Z"
   },
   {
    "duration": 54,
    "start_time": "2021-10-22T05:32:35.465Z"
   },
   {
    "duration": 4,
    "start_time": "2021-10-22T05:32:35.522Z"
   },
   {
    "duration": 48,
    "start_time": "2021-10-22T05:32:35.528Z"
   },
   {
    "duration": 45,
    "start_time": "2021-10-22T05:32:35.578Z"
   },
   {
    "duration": 7,
    "start_time": "2021-10-22T05:32:35.626Z"
   },
   {
    "duration": 152,
    "start_time": "2021-10-22T05:32:35.637Z"
   },
   {
    "duration": 38,
    "start_time": "2021-10-22T05:32:35.792Z"
   },
   {
    "duration": 38,
    "start_time": "2021-10-22T05:32:35.832Z"
   },
   {
    "duration": 39,
    "start_time": "2021-10-22T05:32:35.873Z"
   },
   {
    "duration": 10,
    "start_time": "2021-10-22T05:32:35.915Z"
   },
   {
    "duration": 9,
    "start_time": "2021-10-22T05:32:35.927Z"
   },
   {
    "duration": 6,
    "start_time": "2021-10-22T05:32:35.939Z"
   },
   {
    "duration": 61,
    "start_time": "2021-10-22T05:32:35.947Z"
   },
   {
    "duration": 25,
    "start_time": "2021-10-22T05:32:36.011Z"
   },
   {
    "duration": 79,
    "start_time": "2021-10-22T05:32:36.038Z"
   },
   {
    "duration": 28,
    "start_time": "2021-10-22T05:32:36.119Z"
   },
   {
    "duration": 51,
    "start_time": "2021-10-22T05:32:36.149Z"
   },
   {
    "duration": 21,
    "start_time": "2021-10-22T05:32:36.203Z"
   },
   {
    "duration": 76,
    "start_time": "2021-10-22T05:32:36.226Z"
   },
   {
    "duration": 17,
    "start_time": "2021-10-22T05:32:36.304Z"
   },
   {
    "duration": 21,
    "start_time": "2021-10-22T05:32:36.326Z"
   },
   {
    "duration": 9,
    "start_time": "2021-10-22T05:32:36.349Z"
   },
   {
    "duration": 44,
    "start_time": "2021-10-22T05:32:36.360Z"
   },
   {
    "duration": 46,
    "start_time": "2021-10-22T05:32:36.407Z"
   },
   {
    "duration": 45,
    "start_time": "2021-10-22T05:32:36.455Z"
   },
   {
    "duration": 44,
    "start_time": "2021-10-22T05:32:36.503Z"
   },
   {
    "duration": 50,
    "start_time": "2021-10-22T05:32:36.550Z"
   },
   {
    "duration": 35,
    "start_time": "2021-10-22T05:32:36.603Z"
   },
   {
    "duration": 26,
    "start_time": "2021-10-22T05:32:36.640Z"
   },
   {
    "duration": 40,
    "start_time": "2021-10-22T05:32:36.668Z"
   },
   {
    "duration": 51,
    "start_time": "2021-10-22T05:32:36.710Z"
   },
   {
    "duration": 42,
    "start_time": "2021-10-22T05:32:36.763Z"
   },
   {
    "duration": 15,
    "start_time": "2021-10-22T05:32:36.808Z"
   },
   {
    "duration": 50,
    "start_time": "2021-10-22T05:37:10.321Z"
   },
   {
    "duration": 13,
    "start_time": "2021-10-22T05:37:20.439Z"
   },
   {
    "duration": 52,
    "start_time": "2021-10-22T05:37:21.977Z"
   },
   {
    "duration": 422,
    "start_time": "2021-10-22T05:37:43.131Z"
   },
   {
    "duration": 533,
    "start_time": "2021-10-22T05:41:13.460Z"
   },
   {
    "duration": 36,
    "start_time": "2021-10-22T05:41:13.996Z"
   },
   {
    "duration": 36,
    "start_time": "2021-10-22T05:41:14.035Z"
   },
   {
    "duration": 27,
    "start_time": "2021-10-22T05:41:14.073Z"
   },
   {
    "duration": 39,
    "start_time": "2021-10-22T05:41:14.102Z"
   },
   {
    "duration": 31,
    "start_time": "2021-10-22T05:41:14.144Z"
   },
   {
    "duration": 27,
    "start_time": "2021-10-22T05:41:14.178Z"
   },
   {
    "duration": 141,
    "start_time": "2021-10-22T05:41:14.208Z"
   },
   {
    "duration": 48,
    "start_time": "2021-10-22T05:41:14.355Z"
   },
   {
    "duration": 39,
    "start_time": "2021-10-22T05:41:14.408Z"
   },
   {
    "duration": 12,
    "start_time": "2021-10-22T05:41:14.450Z"
   },
   {
    "duration": 11,
    "start_time": "2021-10-22T05:41:14.502Z"
   },
   {
    "duration": 9,
    "start_time": "2021-10-22T05:41:14.516Z"
   },
   {
    "duration": 10,
    "start_time": "2021-10-22T05:41:14.527Z"
   },
   {
    "duration": 30,
    "start_time": "2021-10-22T05:41:14.539Z"
   },
   {
    "duration": 25,
    "start_time": "2021-10-22T05:41:14.600Z"
   },
   {
    "duration": 51,
    "start_time": "2021-10-22T05:41:14.628Z"
   },
   {
    "duration": 42,
    "start_time": "2021-10-22T05:41:14.682Z"
   },
   {
    "duration": 24,
    "start_time": "2021-10-22T05:41:14.727Z"
   },
   {
    "duration": 50,
    "start_time": "2021-10-22T05:41:14.753Z"
   },
   {
    "duration": 58,
    "start_time": "2021-10-22T05:41:14.805Z"
   },
   {
    "duration": 16,
    "start_time": "2021-10-22T05:41:14.866Z"
   },
   {
    "duration": 20,
    "start_time": "2021-10-22T05:41:14.901Z"
   },
   {
    "duration": 12,
    "start_time": "2021-10-22T05:41:14.924Z"
   },
   {
    "duration": 12,
    "start_time": "2021-10-22T05:41:14.938Z"
   },
   {
    "duration": 87,
    "start_time": "2021-10-22T05:41:14.952Z"
   },
   {
    "duration": 25,
    "start_time": "2021-10-22T05:41:15.044Z"
   },
   {
    "duration": 60,
    "start_time": "2021-10-22T05:41:15.072Z"
   },
   {
    "duration": 25,
    "start_time": "2021-10-22T05:41:15.135Z"
   },
   {
    "duration": 55,
    "start_time": "2021-10-22T05:41:15.162Z"
   },
   {
    "duration": 25,
    "start_time": "2021-10-22T05:41:15.219Z"
   },
   {
    "duration": 8,
    "start_time": "2021-10-22T05:41:15.246Z"
   },
   {
    "duration": 51,
    "start_time": "2021-10-22T05:41:15.256Z"
   },
   {
    "duration": 25,
    "start_time": "2021-10-22T05:41:15.310Z"
   },
   {
    "duration": 363,
    "start_time": "2021-10-22T05:41:15.337Z"
   },
   {
    "duration": 16,
    "start_time": "2021-10-22T05:41:15.687Z"
   },
   {
    "duration": 29,
    "start_time": "2021-10-22T06:40:55.675Z"
   },
   {
    "duration": 18,
    "start_time": "2021-10-22T06:40:56.963Z"
   },
   {
    "duration": 40,
    "start_time": "2021-10-22T06:41:42.556Z"
   },
   {
    "duration": 33,
    "start_time": "2021-10-22T06:41:51.196Z"
   },
   {
    "duration": 19,
    "start_time": "2021-10-22T06:41:54.324Z"
   },
   {
    "duration": 24,
    "start_time": "2021-10-22T06:42:36.268Z"
   },
   {
    "duration": 17,
    "start_time": "2021-10-22T06:42:36.637Z"
   },
   {
    "duration": 577,
    "start_time": "2021-10-22T06:43:03.239Z"
   },
   {
    "duration": 36,
    "start_time": "2021-10-22T06:43:03.818Z"
   },
   {
    "duration": 45,
    "start_time": "2021-10-22T06:43:03.857Z"
   },
   {
    "duration": 4,
    "start_time": "2021-10-22T06:43:03.904Z"
   },
   {
    "duration": 43,
    "start_time": "2021-10-22T06:43:03.910Z"
   },
   {
    "duration": 52,
    "start_time": "2021-10-22T06:43:03.956Z"
   },
   {
    "duration": 5,
    "start_time": "2021-10-22T06:43:04.010Z"
   },
   {
    "duration": 131,
    "start_time": "2021-10-22T06:43:04.017Z"
   },
   {
    "duration": 32,
    "start_time": "2021-10-22T06:43:04.152Z"
   },
   {
    "duration": 37,
    "start_time": "2021-10-22T06:43:04.201Z"
   },
   {
    "duration": 9,
    "start_time": "2021-10-22T06:43:04.241Z"
   },
   {
    "duration": 9,
    "start_time": "2021-10-22T06:43:04.252Z"
   },
   {
    "duration": 36,
    "start_time": "2021-10-22T06:43:04.264Z"
   },
   {
    "duration": 13,
    "start_time": "2021-10-22T06:43:04.303Z"
   },
   {
    "duration": 32,
    "start_time": "2021-10-22T06:43:04.318Z"
   },
   {
    "duration": 49,
    "start_time": "2021-10-22T06:43:04.352Z"
   },
   {
    "duration": 53,
    "start_time": "2021-10-22T06:43:04.403Z"
   },
   {
    "duration": 43,
    "start_time": "2021-10-22T06:43:04.458Z"
   },
   {
    "duration": 24,
    "start_time": "2021-10-22T06:43:04.504Z"
   },
   {
    "duration": 21,
    "start_time": "2021-10-22T06:43:04.530Z"
   },
   {
    "duration": 89,
    "start_time": "2021-10-22T06:43:04.553Z"
   },
   {
    "duration": 17,
    "start_time": "2021-10-22T06:43:04.644Z"
   },
   {
    "duration": 42,
    "start_time": "2021-10-22T06:43:04.663Z"
   },
   {
    "duration": 11,
    "start_time": "2021-10-22T06:43:04.707Z"
   },
   {
    "duration": 10,
    "start_time": "2021-10-22T06:43:04.721Z"
   },
   {
    "duration": 37,
    "start_time": "2021-10-22T06:43:04.734Z"
   },
   {
    "duration": 18,
    "start_time": "2021-10-22T06:43:04.804Z"
   },
   {
    "duration": 42,
    "start_time": "2021-10-22T06:43:04.825Z"
   },
   {
    "duration": 39,
    "start_time": "2021-10-22T06:43:04.869Z"
   },
   {
    "duration": 31,
    "start_time": "2021-10-22T06:43:04.911Z"
   },
   {
    "duration": 18,
    "start_time": "2021-10-22T06:43:04.944Z"
   },
   {
    "duration": 38,
    "start_time": "2021-10-22T06:43:04.964Z"
   },
   {
    "duration": 35,
    "start_time": "2021-10-22T06:43:05.005Z"
   },
   {
    "duration": 18,
    "start_time": "2021-10-22T06:43:05.043Z"
   },
   {
    "duration": 345,
    "start_time": "2021-10-22T06:43:05.064Z"
   },
   {
    "duration": -19,
    "start_time": "2021-10-22T06:43:05.432Z"
   },
   {
    "duration": 10,
    "start_time": "2021-10-22T06:43:17.540Z"
   },
   {
    "duration": 33,
    "start_time": "2021-10-22T06:43:18.979Z"
   },
   {
    "duration": 392,
    "start_time": "2021-10-22T06:44:26.316Z"
   },
   {
    "duration": 18,
    "start_time": "2021-10-22T06:44:43.219Z"
   },
   {
    "duration": 5,
    "start_time": "2021-10-22T06:44:52.052Z"
   },
   {
    "duration": 8,
    "start_time": "2021-10-22T06:45:02.419Z"
   },
   {
    "duration": 18,
    "start_time": "2021-10-22T06:45:15.555Z"
   },
   {
    "duration": 115,
    "start_time": "2021-10-22T06:45:29.955Z"
   },
   {
    "duration": 131,
    "start_time": "2021-10-22T06:49:51.796Z"
   },
   {
    "duration": 118,
    "start_time": "2021-10-22T06:49:57.691Z"
   },
   {
    "duration": 11,
    "start_time": "2021-10-22T06:50:05.556Z"
   },
   {
    "duration": 32,
    "start_time": "2021-10-22T06:50:07.252Z"
   },
   {
    "duration": 31,
    "start_time": "2021-10-22T06:53:50.268Z"
   },
   {
    "duration": 12,
    "start_time": "2021-10-22T06:53:51.227Z"
   },
   {
    "duration": 29,
    "start_time": "2021-10-22T06:54:04.427Z"
   },
   {
    "duration": 15,
    "start_time": "2021-10-22T06:54:05.002Z"
   },
   {
    "duration": 16,
    "start_time": "2021-10-22T06:54:26.964Z"
   },
   {
    "duration": 12,
    "start_time": "2021-10-22T06:54:28.204Z"
   },
   {
    "duration": 33,
    "start_time": "2021-10-22T06:54:29.012Z"
   },
   {
    "duration": 566,
    "start_time": "2021-10-22T06:56:14.464Z"
   },
   {
    "duration": 35,
    "start_time": "2021-10-22T06:56:15.033Z"
   },
   {
    "duration": 36,
    "start_time": "2021-10-22T06:56:15.071Z"
   },
   {
    "duration": 3,
    "start_time": "2021-10-22T06:56:15.110Z"
   },
   {
    "duration": 49,
    "start_time": "2021-10-22T06:56:15.115Z"
   },
   {
    "duration": 48,
    "start_time": "2021-10-22T06:56:15.166Z"
   },
   {
    "duration": 6,
    "start_time": "2021-10-22T06:56:15.217Z"
   },
   {
    "duration": 142,
    "start_time": "2021-10-22T06:56:15.225Z"
   },
   {
    "duration": 44,
    "start_time": "2021-10-22T06:56:15.370Z"
   },
   {
    "duration": 38,
    "start_time": "2021-10-22T06:56:15.417Z"
   },
   {
    "duration": 9,
    "start_time": "2021-10-22T06:56:15.458Z"
   },
   {
    "duration": 38,
    "start_time": "2021-10-22T06:56:15.470Z"
   },
   {
    "duration": 8,
    "start_time": "2021-10-22T06:56:15.511Z"
   },
   {
    "duration": 8,
    "start_time": "2021-10-22T06:56:15.521Z"
   },
   {
    "duration": 32,
    "start_time": "2021-10-22T06:56:15.532Z"
   },
   {
    "duration": 28,
    "start_time": "2021-10-22T06:56:15.601Z"
   },
   {
    "duration": 80,
    "start_time": "2021-10-22T06:56:15.631Z"
   },
   {
    "duration": 28,
    "start_time": "2021-10-22T06:56:15.714Z"
   },
   {
    "duration": 59,
    "start_time": "2021-10-22T06:56:15.746Z"
   },
   {
    "duration": 23,
    "start_time": "2021-10-22T06:56:15.808Z"
   },
   {
    "duration": 83,
    "start_time": "2021-10-22T06:56:15.834Z"
   },
   {
    "duration": 19,
    "start_time": "2021-10-22T06:56:15.920Z"
   },
   {
    "duration": 21,
    "start_time": "2021-10-22T06:56:15.942Z"
   },
   {
    "duration": 11,
    "start_time": "2021-10-22T06:56:16.002Z"
   },
   {
    "duration": 13,
    "start_time": "2021-10-22T06:56:16.016Z"
   },
   {
    "duration": 73,
    "start_time": "2021-10-22T06:56:16.032Z"
   },
   {
    "duration": 14,
    "start_time": "2021-10-22T06:56:16.112Z"
   },
   {
    "duration": 40,
    "start_time": "2021-10-22T06:56:16.129Z"
   },
   {
    "duration": 14,
    "start_time": "2021-10-22T06:56:16.200Z"
   },
   {
    "duration": 36,
    "start_time": "2021-10-22T06:56:16.217Z"
   },
   {
    "duration": 44,
    "start_time": "2021-10-22T06:56:16.256Z"
   },
   {
    "duration": 9,
    "start_time": "2021-10-22T06:56:16.304Z"
   },
   {
    "duration": 30,
    "start_time": "2021-10-22T06:56:16.315Z"
   },
   {
    "duration": 14,
    "start_time": "2021-10-22T06:56:16.348Z"
   },
   {
    "duration": 11,
    "start_time": "2021-10-22T06:56:16.400Z"
   },
   {
    "duration": 40,
    "start_time": "2021-10-22T06:56:16.413Z"
   },
   {
    "duration": 13,
    "start_time": "2021-10-22T06:56:55.256Z"
   },
   {
    "duration": 20,
    "start_time": "2021-10-22T06:57:32.840Z"
   },
   {
    "duration": 35,
    "start_time": "2021-10-22T06:57:38.068Z"
   },
   {
    "duration": 10,
    "start_time": "2021-10-22T06:58:06.525Z"
   },
   {
    "duration": 31,
    "start_time": "2021-10-22T06:58:06.990Z"
   },
   {
    "duration": 12,
    "start_time": "2021-10-22T06:58:08.700Z"
   },
   {
    "duration": 33,
    "start_time": "2021-10-22T06:58:10.749Z"
   },
   {
    "duration": 13,
    "start_time": "2021-10-22T06:59:38.340Z"
   },
   {
    "duration": 36,
    "start_time": "2021-10-22T06:59:39.076Z"
   },
   {
    "duration": 561,
    "start_time": "2021-10-22T07:04:08.974Z"
   },
   {
    "duration": 36,
    "start_time": "2021-10-22T07:04:09.538Z"
   },
   {
    "duration": 37,
    "start_time": "2021-10-22T07:04:09.578Z"
   },
   {
    "duration": 5,
    "start_time": "2021-10-22T07:04:09.618Z"
   },
   {
    "duration": 41,
    "start_time": "2021-10-22T07:04:09.626Z"
   },
   {
    "duration": 57,
    "start_time": "2021-10-22T07:04:09.670Z"
   },
   {
    "duration": 7,
    "start_time": "2021-10-22T07:04:09.730Z"
   },
   {
    "duration": 139,
    "start_time": "2021-10-22T07:04:09.743Z"
   },
   {
    "duration": 43,
    "start_time": "2021-10-22T07:04:09.886Z"
   },
   {
    "duration": 39,
    "start_time": "2021-10-22T07:04:09.933Z"
   },
   {
    "duration": 11,
    "start_time": "2021-10-22T07:04:10.000Z"
   },
   {
    "duration": 10,
    "start_time": "2021-10-22T07:04:10.014Z"
   },
   {
    "duration": 8,
    "start_time": "2021-10-22T07:04:10.027Z"
   },
   {
    "duration": 11,
    "start_time": "2021-10-22T07:04:10.037Z"
   },
   {
    "duration": 64,
    "start_time": "2021-10-22T07:04:10.050Z"
   },
   {
    "duration": 24,
    "start_time": "2021-10-22T07:04:10.117Z"
   },
   {
    "duration": 71,
    "start_time": "2021-10-22T07:04:10.144Z"
   },
   {
    "duration": 27,
    "start_time": "2021-10-22T07:04:10.217Z"
   },
   {
    "duration": 25,
    "start_time": "2021-10-22T07:04:10.247Z"
   },
   {
    "duration": 46,
    "start_time": "2021-10-22T07:04:10.274Z"
   },
   {
    "duration": 57,
    "start_time": "2021-10-22T07:04:10.323Z"
   },
   {
    "duration": 19,
    "start_time": "2021-10-22T07:04:10.401Z"
   },
   {
    "duration": 20,
    "start_time": "2021-10-22T07:04:10.425Z"
   },
   {
    "duration": 11,
    "start_time": "2021-10-22T07:04:10.448Z"
   },
   {
    "duration": 47,
    "start_time": "2021-10-22T07:04:10.461Z"
   },
   {
    "duration": 42,
    "start_time": "2021-10-22T07:04:10.510Z"
   },
   {
    "duration": 12,
    "start_time": "2021-10-22T07:04:10.555Z"
   },
   {
    "duration": 64,
    "start_time": "2021-10-22T07:04:10.569Z"
   },
   {
    "duration": 13,
    "start_time": "2021-10-22T07:04:10.635Z"
   },
   {
    "duration": 53,
    "start_time": "2021-10-22T07:04:10.650Z"
   },
   {
    "duration": 12,
    "start_time": "2021-10-22T07:04:10.705Z"
   },
   {
    "duration": 8,
    "start_time": "2021-10-22T07:04:10.720Z"
   },
   {
    "duration": 31,
    "start_time": "2021-10-22T07:04:10.730Z"
   },
   {
    "duration": 43,
    "start_time": "2021-10-22T07:04:10.764Z"
   },
   {
    "duration": 10,
    "start_time": "2021-10-22T07:04:10.810Z"
   },
   {
    "duration": 33,
    "start_time": "2021-10-22T07:04:10.823Z"
   },
   {
    "duration": 47,
    "start_time": "2021-10-22T07:04:10.859Z"
   },
   {
    "duration": 35,
    "start_time": "2021-10-22T07:04:10.908Z"
   },
   {
    "duration": 13,
    "start_time": "2021-10-22T07:04:10.946Z"
   },
   {
    "duration": 63,
    "start_time": "2021-10-22T07:04:10.961Z"
   },
   {
    "duration": 37,
    "start_time": "2021-10-22T07:09:10.078Z"
   },
   {
    "duration": 553,
    "start_time": "2021-10-22T07:09:24.390Z"
   },
   {
    "duration": 36,
    "start_time": "2021-10-22T07:09:24.946Z"
   },
   {
    "duration": 37,
    "start_time": "2021-10-22T07:09:24.985Z"
   },
   {
    "duration": 5,
    "start_time": "2021-10-22T07:09:25.025Z"
   },
   {
    "duration": 46,
    "start_time": "2021-10-22T07:09:25.033Z"
   },
   {
    "duration": 41,
    "start_time": "2021-10-22T07:09:25.081Z"
   },
   {
    "duration": 7,
    "start_time": "2021-10-22T07:09:25.124Z"
   },
   {
    "duration": 167,
    "start_time": "2021-10-22T07:09:25.137Z"
   },
   {
    "duration": 35,
    "start_time": "2021-10-22T07:09:25.308Z"
   },
   {
    "duration": 72,
    "start_time": "2021-10-22T07:09:25.346Z"
   },
   {
    "duration": 10,
    "start_time": "2021-10-22T07:09:25.421Z"
   },
   {
    "duration": 9,
    "start_time": "2021-10-22T07:09:25.434Z"
   },
   {
    "duration": 12,
    "start_time": "2021-10-22T07:09:25.445Z"
   },
   {
    "duration": 6,
    "start_time": "2021-10-22T07:09:25.459Z"
   },
   {
    "duration": 64,
    "start_time": "2021-10-22T07:09:25.468Z"
   },
   {
    "duration": 26,
    "start_time": "2021-10-22T07:09:25.536Z"
   },
   {
    "duration": 87,
    "start_time": "2021-10-22T07:09:25.565Z"
   },
   {
    "duration": 57,
    "start_time": "2021-10-22T07:09:25.655Z"
   },
   {
    "duration": 24,
    "start_time": "2021-10-22T07:09:25.719Z"
   },
   {
    "duration": 21,
    "start_time": "2021-10-22T07:09:25.746Z"
   },
   {
    "duration": 95,
    "start_time": "2021-10-22T07:09:25.769Z"
   },
   {
    "duration": 36,
    "start_time": "2021-10-22T07:09:25.867Z"
   },
   {
    "duration": 26,
    "start_time": "2021-10-22T07:09:25.909Z"
   },
   {
    "duration": 11,
    "start_time": "2021-10-22T07:09:25.938Z"
   },
   {
    "duration": 51,
    "start_time": "2021-10-22T07:09:25.953Z"
   },
   {
    "duration": 44,
    "start_time": "2021-10-22T07:09:26.008Z"
   },
   {
    "duration": 14,
    "start_time": "2021-10-22T07:09:26.055Z"
   },
   {
    "duration": 2842,
    "start_time": "2021-10-22T07:09:26.072Z"
   },
   {
    "duration": 20,
    "start_time": "2021-10-22T07:09:28.897Z"
   },
   {
    "duration": 19,
    "start_time": "2021-10-22T07:09:28.899Z"
   },
   {
    "duration": 17,
    "start_time": "2021-10-22T07:09:28.903Z"
   },
   {
    "duration": 5,
    "start_time": "2021-10-22T07:09:28.916Z"
   },
   {
    "duration": 5,
    "start_time": "2021-10-22T07:09:28.917Z"
   },
   {
    "duration": 6,
    "start_time": "2021-10-22T07:09:28.918Z"
   },
   {
    "duration": 6,
    "start_time": "2021-10-22T07:09:28.919Z"
   },
   {
    "duration": 8,
    "start_time": "2021-10-22T07:09:28.919Z"
   },
   {
    "duration": 5,
    "start_time": "2021-10-22T07:09:28.923Z"
   },
   {
    "duration": 6,
    "start_time": "2021-10-22T07:09:28.924Z"
   },
   {
    "duration": 2,
    "start_time": "2021-10-22T07:09:28.929Z"
   },
   {
    "duration": -1,
    "start_time": "2021-10-22T07:09:28.933Z"
   },
   {
    "duration": 556,
    "start_time": "2021-10-22T07:12:20.375Z"
   },
   {
    "duration": 37,
    "start_time": "2021-10-22T07:12:20.934Z"
   },
   {
    "duration": 35,
    "start_time": "2021-10-22T07:12:20.974Z"
   },
   {
    "duration": 4,
    "start_time": "2021-10-22T07:12:21.012Z"
   },
   {
    "duration": 47,
    "start_time": "2021-10-22T07:12:21.018Z"
   },
   {
    "duration": 52,
    "start_time": "2021-10-22T07:12:21.068Z"
   },
   {
    "duration": 6,
    "start_time": "2021-10-22T07:12:21.122Z"
   },
   {
    "duration": 134,
    "start_time": "2021-10-22T07:12:21.130Z"
   },
   {
    "duration": 41,
    "start_time": "2021-10-22T07:12:21.269Z"
   },
   {
    "duration": 37,
    "start_time": "2021-10-22T07:12:21.313Z"
   },
   {
    "duration": 10,
    "start_time": "2021-10-22T07:12:21.353Z"
   },
   {
    "duration": 41,
    "start_time": "2021-10-22T07:12:21.365Z"
   },
   {
    "duration": 18,
    "start_time": "2021-10-22T07:12:21.409Z"
   },
   {
    "duration": 23,
    "start_time": "2021-10-22T07:12:21.429Z"
   },
   {
    "duration": 51,
    "start_time": "2021-10-22T07:12:21.454Z"
   },
   {
    "duration": 33,
    "start_time": "2021-10-22T07:12:21.508Z"
   },
   {
    "duration": 63,
    "start_time": "2021-10-22T07:12:21.543Z"
   },
   {
    "duration": 26,
    "start_time": "2021-10-22T07:12:21.608Z"
   },
   {
    "duration": 29,
    "start_time": "2021-10-22T07:12:21.636Z"
   },
   {
    "duration": 46,
    "start_time": "2021-10-22T07:12:21.667Z"
   },
   {
    "duration": 58,
    "start_time": "2021-10-22T07:12:21.716Z"
   },
   {
    "duration": 35,
    "start_time": "2021-10-22T07:12:21.776Z"
   },
   {
    "duration": 45,
    "start_time": "2021-10-22T07:12:21.814Z"
   },
   {
    "duration": 12,
    "start_time": "2021-10-22T07:12:21.861Z"
   },
   {
    "duration": 25,
    "start_time": "2021-10-22T07:12:21.875Z"
   },
   {
    "duration": 49,
    "start_time": "2021-10-22T07:12:21.902Z"
   },
   {
    "duration": 13,
    "start_time": "2021-10-22T07:12:21.956Z"
   },
   {
    "duration": 117,
    "start_time": "2021-10-22T07:12:21.972Z"
   },
   {
    "duration": 9,
    "start_time": "2021-10-22T07:12:22.083Z"
   },
   {
    "duration": 10,
    "start_time": "2021-10-22T07:12:22.084Z"
   },
   {
    "duration": 10,
    "start_time": "2021-10-22T07:12:22.085Z"
   },
   {
    "duration": 8,
    "start_time": "2021-10-22T07:12:22.089Z"
   },
   {
    "duration": 8,
    "start_time": "2021-10-22T07:12:22.090Z"
   },
   {
    "duration": 8,
    "start_time": "2021-10-22T07:12:22.091Z"
   },
   {
    "duration": 8,
    "start_time": "2021-10-22T07:12:22.092Z"
   },
   {
    "duration": 8,
    "start_time": "2021-10-22T07:12:22.093Z"
   },
   {
    "duration": 8,
    "start_time": "2021-10-22T07:12:22.094Z"
   },
   {
    "duration": 9,
    "start_time": "2021-10-22T07:12:22.095Z"
   },
   {
    "duration": 7,
    "start_time": "2021-10-22T07:12:22.098Z"
   },
   {
    "duration": 7,
    "start_time": "2021-10-22T07:12:22.099Z"
   },
   {
    "duration": 544,
    "start_time": "2021-10-22T07:12:34.487Z"
   },
   {
    "duration": 37,
    "start_time": "2021-10-22T07:12:35.034Z"
   },
   {
    "duration": 43,
    "start_time": "2021-10-22T07:12:35.073Z"
   },
   {
    "duration": 3,
    "start_time": "2021-10-22T07:12:35.119Z"
   },
   {
    "duration": 59,
    "start_time": "2021-10-22T07:12:35.125Z"
   },
   {
    "duration": 36,
    "start_time": "2021-10-22T07:12:35.187Z"
   },
   {
    "duration": 6,
    "start_time": "2021-10-22T07:12:35.225Z"
   },
   {
    "duration": 134,
    "start_time": "2021-10-22T07:12:35.233Z"
   },
   {
    "duration": 41,
    "start_time": "2021-10-22T07:12:35.372Z"
   },
   {
    "duration": 39,
    "start_time": "2021-10-22T07:12:35.416Z"
   },
   {
    "duration": 10,
    "start_time": "2021-10-22T07:12:35.458Z"
   },
   {
    "duration": 9,
    "start_time": "2021-10-22T07:12:35.501Z"
   },
   {
    "duration": 19,
    "start_time": "2021-10-22T07:12:35.513Z"
   },
   {
    "duration": 10,
    "start_time": "2021-10-22T07:12:35.534Z"
   },
   {
    "duration": 40,
    "start_time": "2021-10-22T07:12:35.546Z"
   },
   {
    "duration": 33,
    "start_time": "2021-10-22T07:12:35.588Z"
   },
   {
    "duration": 53,
    "start_time": "2021-10-22T07:12:35.624Z"
   },
   {
    "duration": 44,
    "start_time": "2021-10-22T07:12:35.680Z"
   },
   {
    "duration": 25,
    "start_time": "2021-10-22T07:12:35.727Z"
   },
   {
    "duration": 54,
    "start_time": "2021-10-22T07:12:35.754Z"
   },
   {
    "duration": 65,
    "start_time": "2021-10-22T07:12:35.810Z"
   },
   {
    "duration": 38,
    "start_time": "2021-10-22T07:12:35.878Z"
   },
   {
    "duration": 29,
    "start_time": "2021-10-22T07:12:35.919Z"
   },
   {
    "duration": 14,
    "start_time": "2021-10-22T07:12:35.951Z"
   },
   {
    "duration": 13,
    "start_time": "2021-10-22T07:12:36.002Z"
   },
   {
    "duration": 55,
    "start_time": "2021-10-22T07:12:36.018Z"
   },
   {
    "duration": 19,
    "start_time": "2021-10-22T07:12:36.101Z"
   },
   {
    "duration": 47,
    "start_time": "2021-10-22T07:12:36.123Z"
   },
   {
    "duration": 29,
    "start_time": "2021-10-22T07:12:36.173Z"
   },
   {
    "duration": 36,
    "start_time": "2021-10-22T07:12:36.204Z"
   },
   {
    "duration": 13,
    "start_time": "2021-10-22T07:12:36.243Z"
   },
   {
    "duration": 24,
    "start_time": "2021-10-22T07:12:36.258Z"
   },
   {
    "duration": 41,
    "start_time": "2021-10-22T07:12:36.285Z"
   },
   {
    "duration": 24,
    "start_time": "2021-10-22T07:12:36.328Z"
   },
   {
    "duration": 27,
    "start_time": "2021-10-22T07:12:36.354Z"
   },
   {
    "duration": 42,
    "start_time": "2021-10-22T07:12:36.383Z"
   },
   {
    "duration": 13,
    "start_time": "2021-10-22T07:12:36.427Z"
   },
   {
    "duration": 32,
    "start_time": "2021-10-22T07:12:36.443Z"
   },
   {
    "duration": 32,
    "start_time": "2021-10-22T07:12:36.477Z"
   },
   {
    "duration": 38,
    "start_time": "2021-10-22T07:12:36.512Z"
   },
   {
    "duration": 1350,
    "start_time": "2021-10-22T07:33:27.213Z"
   },
   {
    "duration": 5,
    "start_time": "2021-10-22T07:33:34.877Z"
   },
   {
    "duration": 555,
    "start_time": "2021-10-22T07:33:59.743Z"
   },
   {
    "duration": 38,
    "start_time": "2021-10-22T07:34:00.301Z"
   },
   {
    "duration": 58,
    "start_time": "2021-10-22T07:34:00.342Z"
   },
   {
    "duration": 3,
    "start_time": "2021-10-22T07:34:00.404Z"
   },
   {
    "duration": 56,
    "start_time": "2021-10-22T07:34:00.409Z"
   },
   {
    "duration": 40,
    "start_time": "2021-10-22T07:34:00.468Z"
   },
   {
    "duration": 5,
    "start_time": "2021-10-22T07:34:00.511Z"
   },
   {
    "duration": 139,
    "start_time": "2021-10-22T07:34:00.520Z"
   },
   {
    "duration": 42,
    "start_time": "2021-10-22T07:34:00.662Z"
   },
   {
    "duration": 39,
    "start_time": "2021-10-22T07:34:00.707Z"
   },
   {
    "duration": 9,
    "start_time": "2021-10-22T07:34:00.752Z"
   },
   {
    "duration": 42,
    "start_time": "2021-10-22T07:34:00.764Z"
   },
   {
    "duration": 34,
    "start_time": "2021-10-22T07:34:00.808Z"
   },
   {
    "duration": 45,
    "start_time": "2021-10-22T07:34:00.845Z"
   },
   {
    "duration": 88,
    "start_time": "2021-10-22T07:34:00.893Z"
   },
   {
    "duration": 24,
    "start_time": "2021-10-22T07:34:00.984Z"
   },
   {
    "duration": 76,
    "start_time": "2021-10-22T07:34:01.011Z"
   },
   {
    "duration": 27,
    "start_time": "2021-10-22T07:34:01.089Z"
   },
   {
    "duration": 27,
    "start_time": "2021-10-22T07:34:01.118Z"
   },
   {
    "duration": 20,
    "start_time": "2021-10-22T07:34:01.148Z"
   },
   {
    "duration": 99,
    "start_time": "2021-10-22T07:34:01.171Z"
   },
   {
    "duration": 17,
    "start_time": "2021-10-22T07:34:01.273Z"
   },
   {
    "duration": 35,
    "start_time": "2021-10-22T07:34:01.297Z"
   },
   {
    "duration": 49,
    "start_time": "2021-10-22T07:34:01.337Z"
   },
   {
    "duration": 28,
    "start_time": "2021-10-22T07:34:01.389Z"
   },
   {
    "duration": 65,
    "start_time": "2021-10-22T07:34:01.419Z"
   },
   {
    "duration": 16,
    "start_time": "2021-10-22T07:34:01.487Z"
   },
   {
    "duration": 50,
    "start_time": "2021-10-22T07:34:01.506Z"
   },
   {
    "duration": 14,
    "start_time": "2021-10-22T07:34:01.559Z"
   },
   {
    "duration": 54,
    "start_time": "2021-10-22T07:34:01.577Z"
   },
   {
    "duration": 20,
    "start_time": "2021-10-22T07:34:01.633Z"
   },
   {
    "duration": 21,
    "start_time": "2021-10-22T07:34:01.656Z"
   },
   {
    "duration": 47,
    "start_time": "2021-10-22T07:34:01.679Z"
   },
   {
    "duration": 15,
    "start_time": "2021-10-22T07:34:01.729Z"
   },
   {
    "duration": 21,
    "start_time": "2021-10-22T07:34:01.747Z"
   },
   {
    "duration": 55,
    "start_time": "2021-10-22T07:34:01.770Z"
   },
   {
    "duration": 15,
    "start_time": "2021-10-22T07:34:01.828Z"
   },
   {
    "duration": 66,
    "start_time": "2021-10-22T07:34:01.845Z"
   },
   {
    "duration": 13,
    "start_time": "2021-10-22T07:34:01.913Z"
   },
   {
    "duration": 48,
    "start_time": "2021-10-22T07:34:01.929Z"
   },
   {
    "duration": 32,
    "start_time": "2021-10-22T07:34:01.980Z"
   },
   {
    "duration": 24,
    "start_time": "2021-10-22T07:34:02.015Z"
   },
   {
    "duration": 36,
    "start_time": "2021-10-22T07:34:13.398Z"
   },
   {
    "duration": 110,
    "start_time": "2021-10-22T07:56:28.255Z"
   },
   {
    "duration": 121,
    "start_time": "2021-10-22T07:57:34.863Z"
   },
   {
    "duration": 533,
    "start_time": "2021-10-22T07:57:55.826Z"
   },
   {
    "duration": 35,
    "start_time": "2021-10-22T07:57:56.362Z"
   },
   {
    "duration": 34,
    "start_time": "2021-10-22T07:57:56.400Z"
   },
   {
    "duration": 3,
    "start_time": "2021-10-22T07:57:56.437Z"
   },
   {
    "duration": 58,
    "start_time": "2021-10-22T07:57:56.442Z"
   },
   {
    "duration": 32,
    "start_time": "2021-10-22T07:57:56.503Z"
   },
   {
    "duration": 5,
    "start_time": "2021-10-22T07:57:56.538Z"
   },
   {
    "duration": 132,
    "start_time": "2021-10-22T07:57:56.545Z"
   },
   {
    "duration": 40,
    "start_time": "2021-10-22T07:57:56.681Z"
   },
   {
    "duration": 37,
    "start_time": "2021-10-22T07:57:56.724Z"
   },
   {
    "duration": 9,
    "start_time": "2021-10-22T07:57:56.763Z"
   },
   {
    "duration": 10,
    "start_time": "2021-10-22T07:57:56.800Z"
   },
   {
    "duration": 7,
    "start_time": "2021-10-22T07:57:56.813Z"
   },
   {
    "duration": 11,
    "start_time": "2021-10-22T07:57:56.822Z"
   },
   {
    "duration": 31,
    "start_time": "2021-10-22T07:57:56.835Z"
   },
   {
    "duration": 53,
    "start_time": "2021-10-22T07:57:56.868Z"
   },
   {
    "duration": 54,
    "start_time": "2021-10-22T07:57:56.924Z"
   },
   {
    "duration": 43,
    "start_time": "2021-10-22T07:57:56.980Z"
   },
   {
    "duration": 28,
    "start_time": "2021-10-22T07:57:57.025Z"
   },
   {
    "duration": 45,
    "start_time": "2021-10-22T07:57:57.055Z"
   },
   {
    "duration": 61,
    "start_time": "2021-10-22T07:57:57.103Z"
   },
   {
    "duration": 44,
    "start_time": "2021-10-22T07:57:57.167Z"
   },
   {
    "duration": 23,
    "start_time": "2021-10-22T07:57:57.214Z"
   },
   {
    "duration": 11,
    "start_time": "2021-10-22T07:57:57.240Z"
   },
   {
    "duration": 51,
    "start_time": "2021-10-22T07:57:57.254Z"
   },
   {
    "duration": 40,
    "start_time": "2021-10-22T07:57:57.308Z"
   },
   {
    "duration": 12,
    "start_time": "2021-10-22T07:57:57.353Z"
   },
   {
    "duration": 69,
    "start_time": "2021-10-22T07:57:57.368Z"
   },
   {
    "duration": 13,
    "start_time": "2021-10-22T07:57:57.440Z"
   },
   {
    "duration": 54,
    "start_time": "2021-10-22T07:57:57.456Z"
   },
   {
    "duration": 14,
    "start_time": "2021-10-22T07:57:57.512Z"
   },
   {
    "duration": 9,
    "start_time": "2021-10-22T07:57:57.528Z"
   },
   {
    "duration": 29,
    "start_time": "2021-10-22T07:57:57.540Z"
   },
   {
    "duration": 14,
    "start_time": "2021-10-22T07:57:57.600Z"
   },
   {
    "duration": 12,
    "start_time": "2021-10-22T07:57:57.616Z"
   },
   {
    "duration": 31,
    "start_time": "2021-10-22T07:57:57.630Z"
   },
   {
    "duration": 13,
    "start_time": "2021-10-22T07:57:57.700Z"
   },
   {
    "duration": 32,
    "start_time": "2021-10-22T07:57:57.715Z"
   },
   {
    "duration": 13,
    "start_time": "2021-10-22T07:57:57.749Z"
   },
   {
    "duration": 63,
    "start_time": "2021-10-22T07:57:57.764Z"
   },
   {
    "duration": 4,
    "start_time": "2021-10-22T07:57:57.829Z"
   },
   {
    "duration": 43,
    "start_time": "2021-10-22T07:57:57.835Z"
   },
   {
    "duration": 139,
    "start_time": "2021-10-22T07:57:57.880Z"
   },
   {
    "duration": 6,
    "start_time": "2021-10-22T07:58:55.903Z"
   },
   {
    "duration": 552,
    "start_time": "2021-10-22T07:58:59.179Z"
   },
   {
    "duration": 36,
    "start_time": "2021-10-22T07:58:59.734Z"
   },
   {
    "duration": 36,
    "start_time": "2021-10-22T07:58:59.773Z"
   },
   {
    "duration": 4,
    "start_time": "2021-10-22T07:58:59.812Z"
   },
   {
    "duration": 42,
    "start_time": "2021-10-22T07:58:59.818Z"
   },
   {
    "duration": 53,
    "start_time": "2021-10-22T07:58:59.862Z"
   },
   {
    "duration": 5,
    "start_time": "2021-10-22T07:58:59.918Z"
   },
   {
    "duration": 136,
    "start_time": "2021-10-22T07:58:59.926Z"
   },
   {
    "duration": 39,
    "start_time": "2021-10-22T07:59:00.066Z"
   },
   {
    "duration": 39,
    "start_time": "2021-10-22T07:59:00.108Z"
   },
   {
    "duration": 11,
    "start_time": "2021-10-22T07:59:00.149Z"
   },
   {
    "duration": 42,
    "start_time": "2021-10-22T07:59:00.162Z"
   },
   {
    "duration": 19,
    "start_time": "2021-10-22T07:59:00.207Z"
   },
   {
    "duration": 14,
    "start_time": "2021-10-22T07:59:00.229Z"
   },
   {
    "duration": 36,
    "start_time": "2021-10-22T07:59:00.246Z"
   },
   {
    "duration": 33,
    "start_time": "2021-10-22T07:59:00.285Z"
   },
   {
    "duration": 58,
    "start_time": "2021-10-22T07:59:00.320Z"
   },
   {
    "duration": 43,
    "start_time": "2021-10-22T07:59:00.381Z"
   },
   {
    "duration": 26,
    "start_time": "2021-10-22T07:59:00.427Z"
   },
   {
    "duration": 50,
    "start_time": "2021-10-22T07:59:00.455Z"
   },
   {
    "duration": 63,
    "start_time": "2021-10-22T07:59:00.507Z"
   },
   {
    "duration": 35,
    "start_time": "2021-10-22T07:59:00.573Z"
   },
   {
    "duration": 24,
    "start_time": "2021-10-22T07:59:00.611Z"
   },
   {
    "duration": 10,
    "start_time": "2021-10-22T07:59:00.638Z"
   },
   {
    "duration": 13,
    "start_time": "2021-10-22T07:59:00.650Z"
   },
   {
    "duration": 72,
    "start_time": "2021-10-22T07:59:00.666Z"
   },
   {
    "duration": 13,
    "start_time": "2021-10-22T07:59:00.743Z"
   },
   {
    "duration": 63,
    "start_time": "2021-10-22T07:59:00.759Z"
   },
   {
    "duration": 16,
    "start_time": "2021-10-22T07:59:00.825Z"
   },
   {
    "duration": 45,
    "start_time": "2021-10-22T07:59:00.844Z"
   },
   {
    "duration": 14,
    "start_time": "2021-10-22T07:59:00.901Z"
   },
   {
    "duration": 32,
    "start_time": "2021-10-22T07:59:00.918Z"
   },
   {
    "duration": 47,
    "start_time": "2021-10-22T07:59:00.953Z"
   },
   {
    "duration": 15,
    "start_time": "2021-10-22T07:59:01.002Z"
   },
   {
    "duration": 26,
    "start_time": "2021-10-22T07:59:01.019Z"
   },
   {
    "duration": 57,
    "start_time": "2021-10-22T07:59:01.048Z"
   },
   {
    "duration": 13,
    "start_time": "2021-10-22T07:59:01.108Z"
   },
   {
    "duration": 42,
    "start_time": "2021-10-22T07:59:01.124Z"
   },
   {
    "duration": 35,
    "start_time": "2021-10-22T07:59:01.168Z"
   },
   {
    "duration": 37,
    "start_time": "2021-10-22T07:59:01.206Z"
   },
   {
    "duration": 4,
    "start_time": "2021-10-22T07:59:01.246Z"
   },
   {
    "duration": 75,
    "start_time": "2021-10-22T07:59:01.252Z"
   },
   {
    "duration": 7,
    "start_time": "2021-10-22T07:59:01.330Z"
   },
   {
    "duration": 237,
    "start_time": "2021-10-22T07:59:19.655Z"
   },
   {
    "duration": 235,
    "start_time": "2021-10-22T07:59:59.502Z"
   },
   {
    "duration": 41,
    "start_time": "2021-10-22T08:00:03.118Z"
   },
   {
    "duration": 7,
    "start_time": "2021-10-22T08:00:26.471Z"
   },
   {
    "duration": 234,
    "start_time": "2021-10-22T08:00:27.327Z"
   },
   {
    "duration": 38,
    "start_time": "2021-10-22T08:00:29.264Z"
   },
   {
    "duration": 407,
    "start_time": "2021-10-22T09:19:48.003Z"
   },
   {
    "duration": 603,
    "start_time": "2021-10-22T09:20:12.080Z"
   },
   {
    "duration": 36,
    "start_time": "2021-10-22T09:20:12.686Z"
   },
   {
    "duration": 74,
    "start_time": "2021-10-22T09:20:12.726Z"
   },
   {
    "duration": 4,
    "start_time": "2021-10-22T09:20:12.804Z"
   },
   {
    "duration": 79,
    "start_time": "2021-10-22T09:20:12.811Z"
   },
   {
    "duration": 44,
    "start_time": "2021-10-22T09:20:12.893Z"
   },
   {
    "duration": 8,
    "start_time": "2021-10-22T09:20:12.940Z"
   },
   {
    "duration": 160,
    "start_time": "2021-10-22T09:20:12.951Z"
   },
   {
    "duration": 33,
    "start_time": "2021-10-22T09:20:13.115Z"
   },
   {
    "duration": 68,
    "start_time": "2021-10-22T09:20:13.151Z"
   },
   {
    "duration": 10,
    "start_time": "2021-10-22T09:20:13.221Z"
   },
   {
    "duration": 10,
    "start_time": "2021-10-22T09:20:13.234Z"
   },
   {
    "duration": 12,
    "start_time": "2021-10-22T09:20:13.247Z"
   },
   {
    "duration": 41,
    "start_time": "2021-10-22T09:20:13.262Z"
   },
   {
    "duration": 41,
    "start_time": "2021-10-22T09:20:13.306Z"
   },
   {
    "duration": 25,
    "start_time": "2021-10-22T09:20:13.350Z"
   },
   {
    "duration": 72,
    "start_time": "2021-10-22T09:20:13.378Z"
   },
   {
    "duration": 49,
    "start_time": "2021-10-22T09:20:13.452Z"
   },
   {
    "duration": 27,
    "start_time": "2021-10-22T09:20:13.505Z"
   },
   {
    "duration": 21,
    "start_time": "2021-10-22T09:20:13.535Z"
   },
   {
    "duration": 99,
    "start_time": "2021-10-22T09:20:13.559Z"
   },
   {
    "duration": 40,
    "start_time": "2021-10-22T09:20:13.661Z"
   },
   {
    "duration": 22,
    "start_time": "2021-10-22T09:20:13.703Z"
   },
   {
    "duration": 24,
    "start_time": "2021-10-22T09:20:13.728Z"
   },
   {
    "duration": 14,
    "start_time": "2021-10-22T09:20:13.754Z"
   },
   {
    "duration": 43,
    "start_time": "2021-10-22T09:20:13.802Z"
   },
   {
    "duration": 13,
    "start_time": "2021-10-22T09:20:13.852Z"
   },
   {
    "duration": 64,
    "start_time": "2021-10-22T09:20:13.868Z"
   },
   {
    "duration": 13,
    "start_time": "2021-10-22T09:20:13.935Z"
   },
   {
    "duration": 64,
    "start_time": "2021-10-22T09:20:13.951Z"
   },
   {
    "duration": 13,
    "start_time": "2021-10-22T09:20:14.018Z"
   },
   {
    "duration": 11,
    "start_time": "2021-10-22T09:20:14.034Z"
   },
   {
    "duration": 53,
    "start_time": "2021-10-22T09:20:14.048Z"
   },
   {
    "duration": 13,
    "start_time": "2021-10-22T09:20:14.104Z"
   },
   {
    "duration": 15,
    "start_time": "2021-10-22T09:20:14.121Z"
   },
   {
    "duration": 67,
    "start_time": "2021-10-22T09:20:14.138Z"
   },
   {
    "duration": 14,
    "start_time": "2021-10-22T09:20:14.208Z"
   },
   {
    "duration": 36,
    "start_time": "2021-10-22T09:20:14.224Z"
   },
   {
    "duration": 44,
    "start_time": "2021-10-22T09:20:14.263Z"
   },
   {
    "duration": 39,
    "start_time": "2021-10-22T09:20:14.310Z"
   },
   {
    "duration": 9,
    "start_time": "2021-10-22T09:20:14.352Z"
   },
   {
    "duration": 66,
    "start_time": "2021-10-22T09:20:14.364Z"
   },
   {
    "duration": 7,
    "start_time": "2021-10-22T09:20:14.432Z"
   },
   {
    "duration": 258,
    "start_time": "2021-10-22T09:20:14.442Z"
   },
   {
    "duration": 35,
    "start_time": "2021-10-22T09:20:14.703Z"
   },
   {
    "duration": 725,
    "start_time": "2021-10-22T09:20:14.741Z"
   },
   {
    "duration": 12,
    "start_time": "2021-10-22T09:20:56.372Z"
   },
   {
    "duration": 15,
    "start_time": "2021-10-22T09:21:45.508Z"
   },
   {
    "duration": 380,
    "start_time": "2021-10-22T09:23:40.309Z"
   },
   {
    "duration": 14,
    "start_time": "2021-10-22T09:25:56.892Z"
   },
   {
    "duration": 20,
    "start_time": "2021-10-22T09:30:52.973Z"
   },
   {
    "duration": 20,
    "start_time": "2021-10-22T09:31:01.580Z"
   },
   {
    "duration": 23,
    "start_time": "2021-10-22T09:31:56.556Z"
   },
   {
    "duration": 23,
    "start_time": "2021-10-22T09:32:42.108Z"
   },
   {
    "duration": 24,
    "start_time": "2021-10-22T09:32:59.301Z"
   },
   {
    "duration": 26,
    "start_time": "2021-10-22T09:33:22.669Z"
   },
   {
    "duration": 123,
    "start_time": "2021-10-22T09:34:48.364Z"
   },
   {
    "duration": 121,
    "start_time": "2021-10-22T09:36:07.924Z"
   },
   {
    "duration": 132,
    "start_time": "2021-10-22T09:37:05.732Z"
   },
   {
    "duration": 25,
    "start_time": "2021-10-22T09:37:57.982Z"
   },
   {
    "duration": 30,
    "start_time": "2021-10-22T09:38:36.844Z"
   },
   {
    "duration": 38,
    "start_time": "2021-10-22T09:39:11.830Z"
   },
   {
    "duration": 12,
    "start_time": "2021-10-22T09:49:30.441Z"
   },
   {
    "duration": 505,
    "start_time": "2021-10-22T09:49:48.229Z"
   },
   {
    "duration": 377,
    "start_time": "2021-10-22T09:50:12.582Z"
   },
   {
    "duration": 426,
    "start_time": "2021-10-22T09:50:33.071Z"
   },
   {
    "duration": 426,
    "start_time": "2021-10-22T09:50:39.485Z"
   },
   {
    "duration": 822,
    "start_time": "2021-10-22T09:53:19.742Z"
   },
   {
    "duration": 444,
    "start_time": "2021-10-22T09:53:52.030Z"
   },
   {
    "duration": 960,
    "start_time": "2021-10-22T09:55:53.263Z"
   },
   {
    "duration": 646,
    "start_time": "2021-10-22T09:55:59.666Z"
   },
   {
    "duration": 40,
    "start_time": "2021-10-22T09:56:00.318Z"
   },
   {
    "duration": 50,
    "start_time": "2021-10-22T09:56:00.361Z"
   },
   {
    "duration": 5,
    "start_time": "2021-10-22T09:56:00.415Z"
   },
   {
    "duration": 60,
    "start_time": "2021-10-22T09:56:00.424Z"
   },
   {
    "duration": 49,
    "start_time": "2021-10-22T09:56:00.486Z"
   },
   {
    "duration": 6,
    "start_time": "2021-10-22T09:56:00.538Z"
   },
   {
    "duration": 144,
    "start_time": "2021-10-22T09:56:00.546Z"
   },
   {
    "duration": 47,
    "start_time": "2021-10-22T09:56:00.695Z"
   },
   {
    "duration": 57,
    "start_time": "2021-10-22T09:56:00.745Z"
   },
   {
    "duration": 16,
    "start_time": "2021-10-22T09:56:00.805Z"
   },
   {
    "duration": 19,
    "start_time": "2021-10-22T09:56:00.824Z"
   },
   {
    "duration": 21,
    "start_time": "2021-10-22T09:56:00.846Z"
   },
   {
    "duration": 22,
    "start_time": "2021-10-22T09:56:00.870Z"
   },
   {
    "duration": 57,
    "start_time": "2021-10-22T09:56:00.902Z"
   },
   {
    "duration": 26,
    "start_time": "2021-10-22T09:56:00.962Z"
   },
   {
    "duration": 73,
    "start_time": "2021-10-22T09:56:00.990Z"
   },
   {
    "duration": 55,
    "start_time": "2021-10-22T09:56:01.065Z"
   },
   {
    "duration": 28,
    "start_time": "2021-10-22T09:56:01.123Z"
   },
   {
    "duration": 55,
    "start_time": "2021-10-22T09:56:01.154Z"
   },
   {
    "duration": 66,
    "start_time": "2021-10-22T09:56:01.216Z"
   },
   {
    "duration": 39,
    "start_time": "2021-10-22T09:56:01.285Z"
   },
   {
    "duration": 33,
    "start_time": "2021-10-22T09:56:01.327Z"
   },
   {
    "duration": 30,
    "start_time": "2021-10-22T09:56:01.364Z"
   },
   {
    "duration": 19,
    "start_time": "2021-10-22T09:56:01.400Z"
   },
   {
    "duration": 46,
    "start_time": "2021-10-22T09:56:01.422Z"
   },
   {
    "duration": 27,
    "start_time": "2021-10-22T09:56:01.473Z"
   },
   {
    "duration": 50,
    "start_time": "2021-10-22T09:56:01.505Z"
   },
   {
    "duration": 17,
    "start_time": "2021-10-22T09:56:01.558Z"
   },
   {
    "duration": 66,
    "start_time": "2021-10-22T09:56:01.578Z"
   },
   {
    "duration": 16,
    "start_time": "2021-10-22T09:56:01.647Z"
   },
   {
    "duration": 44,
    "start_time": "2021-10-22T09:56:01.666Z"
   },
   {
    "duration": 40,
    "start_time": "2021-10-22T09:56:01.713Z"
   },
   {
    "duration": 32,
    "start_time": "2021-10-22T09:56:01.756Z"
   },
   {
    "duration": 54,
    "start_time": "2021-10-22T09:56:01.791Z"
   },
   {
    "duration": 52,
    "start_time": "2021-10-22T09:56:01.848Z"
   },
   {
    "duration": 15,
    "start_time": "2021-10-22T09:56:01.904Z"
   },
   {
    "duration": 40,
    "start_time": "2021-10-22T09:56:01.923Z"
   },
   {
    "duration": 48,
    "start_time": "2021-10-22T09:56:01.966Z"
   },
   {
    "duration": 51,
    "start_time": "2021-10-22T09:56:02.017Z"
   },
   {
    "duration": 4,
    "start_time": "2021-10-22T09:56:02.071Z"
   },
   {
    "duration": 61,
    "start_time": "2021-10-22T09:56:02.078Z"
   },
   {
    "duration": 7,
    "start_time": "2021-10-22T09:56:02.141Z"
   },
   {
    "duration": 389,
    "start_time": "2021-10-22T09:56:02.150Z"
   },
   {
    "duration": 36,
    "start_time": "2021-10-22T09:56:02.542Z"
   },
   {
    "duration": 62,
    "start_time": "2021-10-22T09:56:02.581Z"
   },
   {
    "duration": 930,
    "start_time": "2021-10-22T09:56:02.645Z"
   },
   {
    "duration": 601,
    "start_time": "2021-10-22T09:57:16.848Z"
   },
   {
    "duration": 36,
    "start_time": "2021-10-22T09:57:17.451Z"
   },
   {
    "duration": 42,
    "start_time": "2021-10-22T09:57:17.491Z"
   },
   {
    "duration": 4,
    "start_time": "2021-10-22T09:57:17.536Z"
   },
   {
    "duration": 58,
    "start_time": "2021-10-22T09:57:17.542Z"
   },
   {
    "duration": 32,
    "start_time": "2021-10-22T09:57:17.604Z"
   },
   {
    "duration": 6,
    "start_time": "2021-10-22T09:57:17.639Z"
   },
   {
    "duration": 155,
    "start_time": "2021-10-22T09:57:17.649Z"
   },
   {
    "duration": 44,
    "start_time": "2021-10-22T09:57:17.807Z"
   },
   {
    "duration": 74,
    "start_time": "2021-10-22T09:57:17.854Z"
   },
   {
    "duration": 10,
    "start_time": "2021-10-22T09:57:17.931Z"
   },
   {
    "duration": 15,
    "start_time": "2021-10-22T09:57:17.944Z"
   },
   {
    "duration": 10,
    "start_time": "2021-10-22T09:57:17.961Z"
   },
   {
    "duration": 32,
    "start_time": "2021-10-22T09:57:17.974Z"
   },
   {
    "duration": 37,
    "start_time": "2021-10-22T09:57:18.009Z"
   },
   {
    "duration": 25,
    "start_time": "2021-10-22T09:57:18.049Z"
   },
   {
    "duration": 82,
    "start_time": "2021-10-22T09:57:18.076Z"
   },
   {
    "duration": 52,
    "start_time": "2021-10-22T09:57:18.161Z"
   },
   {
    "duration": 29,
    "start_time": "2021-10-22T09:57:18.216Z"
   },
   {
    "duration": 53,
    "start_time": "2021-10-22T09:57:18.248Z"
   },
   {
    "duration": 65,
    "start_time": "2021-10-22T09:57:18.305Z"
   },
   {
    "duration": 41,
    "start_time": "2021-10-22T09:57:18.373Z"
   },
   {
    "duration": 24,
    "start_time": "2021-10-22T09:57:18.420Z"
   },
   {
    "duration": 11,
    "start_time": "2021-10-22T09:57:18.447Z"
   },
   {
    "duration": 46,
    "start_time": "2021-10-22T09:57:18.461Z"
   },
   {
    "duration": 48,
    "start_time": "2021-10-22T09:57:18.511Z"
   },
   {
    "duration": 13,
    "start_time": "2021-10-22T09:57:18.561Z"
   },
   {
    "duration": 47,
    "start_time": "2021-10-22T09:57:18.602Z"
   },
   {
    "duration": 14,
    "start_time": "2021-10-22T09:57:18.651Z"
   },
   {
    "duration": 68,
    "start_time": "2021-10-22T09:57:18.667Z"
   },
   {
    "duration": 14,
    "start_time": "2021-10-22T09:57:18.738Z"
   },
   {
    "duration": 13,
    "start_time": "2021-10-22T09:57:18.755Z"
   },
   {
    "duration": 58,
    "start_time": "2021-10-22T09:57:18.771Z"
   },
   {
    "duration": 15,
    "start_time": "2021-10-22T09:57:18.832Z"
   },
   {
    "duration": 50,
    "start_time": "2021-10-22T09:57:18.850Z"
   },
   {
    "duration": 39,
    "start_time": "2021-10-22T09:57:18.904Z"
   },
   {
    "duration": 13,
    "start_time": "2021-10-22T09:57:18.945Z"
   },
   {
    "duration": 71,
    "start_time": "2021-10-22T09:57:18.961Z"
   },
   {
    "duration": 13,
    "start_time": "2021-10-22T09:57:19.035Z"
   },
   {
    "duration": 63,
    "start_time": "2021-10-22T09:57:19.050Z"
   },
   {
    "duration": 5,
    "start_time": "2021-10-22T09:57:19.116Z"
   },
   {
    "duration": 37,
    "start_time": "2021-10-22T09:57:19.124Z"
   },
   {
    "duration": 7,
    "start_time": "2021-10-22T09:57:19.164Z"
   },
   {
    "duration": 302,
    "start_time": "2021-10-22T09:57:19.173Z"
   },
   {
    "duration": 47,
    "start_time": "2021-10-22T09:57:19.478Z"
   },
   {
    "duration": 35,
    "start_time": "2021-10-22T09:57:19.528Z"
   },
   {
    "duration": 506,
    "start_time": "2021-10-22T09:57:19.565Z"
   },
   {
    "duration": 492,
    "start_time": "2021-10-22T09:58:59.974Z"
   },
   {
    "duration": 503,
    "start_time": "2021-10-22T09:59:05.774Z"
   },
   {
    "duration": 507,
    "start_time": "2021-10-22T10:00:44.550Z"
   },
   {
    "duration": 496,
    "start_time": "2021-10-22T10:01:06.662Z"
   },
   {
    "duration": 488,
    "start_time": "2021-10-22T10:01:26.085Z"
   },
   {
    "duration": 2396,
    "start_time": "2021-10-24T13:04:27.901Z"
   },
   {
    "duration": 44,
    "start_time": "2021-10-24T13:04:30.300Z"
   },
   {
    "duration": 45,
    "start_time": "2021-10-24T13:04:30.348Z"
   },
   {
    "duration": 4,
    "start_time": "2021-10-24T13:04:30.396Z"
   },
   {
    "duration": 69,
    "start_time": "2021-10-24T13:04:30.403Z"
   },
   {
    "duration": 35,
    "start_time": "2021-10-24T13:04:30.475Z"
   },
   {
    "duration": 7,
    "start_time": "2021-10-24T13:04:30.513Z"
   },
   {
    "duration": 167,
    "start_time": "2021-10-24T13:04:30.524Z"
   },
   {
    "duration": 31,
    "start_time": "2021-10-24T13:04:30.694Z"
   },
   {
    "duration": 64,
    "start_time": "2021-10-24T13:04:30.727Z"
   },
   {
    "duration": 27,
    "start_time": "2021-10-24T13:04:30.793Z"
   },
   {
    "duration": 11,
    "start_time": "2021-10-24T13:04:30.823Z"
   },
   {
    "duration": 30,
    "start_time": "2021-10-24T13:04:30.836Z"
   },
   {
    "duration": 8,
    "start_time": "2021-10-24T13:04:30.869Z"
   },
   {
    "duration": 36,
    "start_time": "2021-10-24T13:04:30.879Z"
   },
   {
    "duration": 41,
    "start_time": "2021-10-24T13:04:30.917Z"
   },
   {
    "duration": 58,
    "start_time": "2021-10-24T13:04:30.961Z"
   },
   {
    "duration": 38,
    "start_time": "2021-10-24T13:04:31.021Z"
   },
   {
    "duration": 24,
    "start_time": "2021-10-24T13:04:31.061Z"
   },
   {
    "duration": 22,
    "start_time": "2021-10-24T13:04:31.087Z"
   },
   {
    "duration": 108,
    "start_time": "2021-10-24T13:04:31.111Z"
   },
   {
    "duration": 17,
    "start_time": "2021-10-24T13:04:31.222Z"
   },
   {
    "duration": 1898,
    "start_time": "2021-10-24T13:04:31.266Z"
   },
   {
    "duration": 14,
    "start_time": "2021-10-24T13:04:33.168Z"
   },
   {
    "duration": 9,
    "start_time": "2021-10-24T13:04:33.185Z"
   },
   {
    "duration": 84,
    "start_time": "2021-10-24T13:04:33.197Z"
   },
   {
    "duration": 26,
    "start_time": "2021-10-24T13:04:33.283Z"
   },
   {
    "duration": 81,
    "start_time": "2021-10-24T13:04:33.312Z"
   },
   {
    "duration": 32,
    "start_time": "2021-10-24T13:04:33.396Z"
   },
   {
    "duration": 44,
    "start_time": "2021-10-24T13:04:33.431Z"
   },
   {
    "duration": 45,
    "start_time": "2021-10-24T13:04:33.477Z"
   },
   {
    "duration": 33,
    "start_time": "2021-10-24T13:04:33.526Z"
   },
   {
    "duration": 49,
    "start_time": "2021-10-24T13:04:33.562Z"
   },
   {
    "duration": 20,
    "start_time": "2021-10-24T13:04:33.614Z"
   },
   {
    "duration": 29,
    "start_time": "2021-10-24T13:04:33.636Z"
   },
   {
    "duration": 44,
    "start_time": "2021-10-24T13:04:33.667Z"
   },
   {
    "duration": 15,
    "start_time": "2021-10-24T13:04:33.714Z"
   },
   {
    "duration": 77,
    "start_time": "2021-10-24T13:04:33.731Z"
   },
   {
    "duration": 18,
    "start_time": "2021-10-24T13:04:33.810Z"
   },
   {
    "duration": 56,
    "start_time": "2021-10-24T13:04:33.859Z"
   },
   {
    "duration": 5,
    "start_time": "2021-10-24T13:04:33.918Z"
   },
   {
    "duration": 63,
    "start_time": "2021-10-24T13:04:33.926Z"
   },
   {
    "duration": 7,
    "start_time": "2021-10-24T13:04:33.992Z"
   },
   {
    "duration": 262,
    "start_time": "2021-10-24T13:04:34.001Z"
   },
   {
    "duration": 36,
    "start_time": "2021-10-24T13:04:34.266Z"
   },
   {
    "duration": 61,
    "start_time": "2021-10-24T13:04:34.304Z"
   },
   {
    "duration": 533,
    "start_time": "2021-10-24T13:04:34.367Z"
   },
   {
    "duration": 38,
    "start_time": "2021-10-24T13:08:15.157Z"
   },
   {
    "duration": 605,
    "start_time": "2021-10-24T13:09:12.058Z"
   },
   {
    "duration": 29,
    "start_time": "2021-10-24T13:10:56.747Z"
   },
   {
    "duration": 695,
    "start_time": "2021-10-24T13:11:11.469Z"
   },
   {
    "duration": 41,
    "start_time": "2021-10-24T13:11:12.167Z"
   },
   {
    "duration": 58,
    "start_time": "2021-10-24T13:11:12.212Z"
   },
   {
    "duration": 4,
    "start_time": "2021-10-24T13:11:12.273Z"
   },
   {
    "duration": 107,
    "start_time": "2021-10-24T13:11:12.280Z"
   },
   {
    "duration": 34,
    "start_time": "2021-10-24T13:11:12.389Z"
   },
   {
    "duration": 14,
    "start_time": "2021-10-24T13:11:12.426Z"
   },
   {
    "duration": 162,
    "start_time": "2021-10-24T13:11:12.443Z"
   },
   {
    "duration": 38,
    "start_time": "2021-10-24T13:11:12.659Z"
   },
   {
    "duration": 61,
    "start_time": "2021-10-24T13:11:12.701Z"
   },
   {
    "duration": 11,
    "start_time": "2021-10-24T13:11:12.764Z"
   },
   {
    "duration": 28,
    "start_time": "2021-10-24T13:11:12.778Z"
   },
   {
    "duration": 57,
    "start_time": "2021-10-24T13:11:12.809Z"
   },
   {
    "duration": 26,
    "start_time": "2021-10-24T13:11:12.870Z"
   },
   {
    "duration": 47,
    "start_time": "2021-10-24T13:11:12.899Z"
   },
   {
    "duration": 37,
    "start_time": "2021-10-24T13:11:12.949Z"
   },
   {
    "duration": 58,
    "start_time": "2021-10-24T13:11:12.989Z"
   },
   {
    "duration": 33,
    "start_time": "2021-10-24T13:11:13.050Z"
   },
   {
    "duration": 57,
    "start_time": "2021-10-24T13:11:13.086Z"
   },
   {
    "duration": 35,
    "start_time": "2021-10-24T13:11:13.146Z"
   },
   {
    "duration": 99,
    "start_time": "2021-10-24T13:11:13.184Z"
   },
   {
    "duration": 17,
    "start_time": "2021-10-24T13:11:13.285Z"
   },
   {
    "duration": 35,
    "start_time": "2021-10-24T13:11:13.305Z"
   },
   {
    "duration": 13,
    "start_time": "2021-10-24T13:11:13.357Z"
   },
   {
    "duration": 29,
    "start_time": "2021-10-24T13:11:13.373Z"
   },
   {
    "duration": 67,
    "start_time": "2021-10-24T13:11:13.404Z"
   },
   {
    "duration": 12,
    "start_time": "2021-10-24T13:11:13.477Z"
   },
   {
    "duration": 45,
    "start_time": "2021-10-24T13:11:13.492Z"
   },
   {
    "duration": 29,
    "start_time": "2021-10-24T13:11:13.539Z"
   },
   {
    "duration": 46,
    "start_time": "2021-10-24T13:11:13.571Z"
   },
   {
    "duration": 13,
    "start_time": "2021-10-24T13:11:13.619Z"
   },
   {
    "duration": 25,
    "start_time": "2021-10-24T13:11:13.634Z"
   },
   {
    "duration": 31,
    "start_time": "2021-10-24T13:11:13.662Z"
   },
   {
    "duration": 14,
    "start_time": "2021-10-24T13:11:13.695Z"
   },
   {
    "duration": 49,
    "start_time": "2021-10-24T13:11:13.712Z"
   },
   {
    "duration": 32,
    "start_time": "2021-10-24T13:11:13.763Z"
   },
   {
    "duration": 12,
    "start_time": "2021-10-24T13:11:13.798Z"
   },
   {
    "duration": 62,
    "start_time": "2021-10-24T13:11:13.813Z"
   },
   {
    "duration": 12,
    "start_time": "2021-10-24T13:11:13.878Z"
   },
   {
    "duration": 39,
    "start_time": "2021-10-24T13:11:13.893Z"
   },
   {
    "duration": 22,
    "start_time": "2021-10-24T13:11:13.935Z"
   },
   {
    "duration": 44,
    "start_time": "2021-10-24T13:11:13.960Z"
   },
   {
    "duration": 6,
    "start_time": "2021-10-24T13:11:14.007Z"
   },
   {
    "duration": 246,
    "start_time": "2021-10-24T13:11:14.016Z"
   },
   {
    "duration": 36,
    "start_time": "2021-10-24T13:11:14.264Z"
   },
   {
    "duration": 65,
    "start_time": "2021-10-24T13:11:14.303Z"
   },
   {
    "duration": 767,
    "start_time": "2021-10-24T13:11:14.371Z"
   },
   {
    "duration": 34,
    "start_time": "2021-10-24T13:11:15.140Z"
   },
   {
    "duration": 627,
    "start_time": "2021-10-24T13:11:15.176Z"
   },
   {
    "duration": 28,
    "start_time": "2021-10-24T13:11:15.806Z"
   },
   {
    "duration": 29,
    "start_time": "2021-10-24T13:11:52.986Z"
   },
   {
    "duration": 550,
    "start_time": "2021-10-24T13:13:17.036Z"
   },
   {
    "duration": 35,
    "start_time": "2021-10-24T13:13:17.588Z"
   },
   {
    "duration": 34,
    "start_time": "2021-10-24T13:13:17.626Z"
   },
   {
    "duration": 4,
    "start_time": "2021-10-24T13:13:17.663Z"
   },
   {
    "duration": 44,
    "start_time": "2021-10-24T13:13:17.669Z"
   },
   {
    "duration": 48,
    "start_time": "2021-10-24T13:13:17.715Z"
   },
   {
    "duration": 6,
    "start_time": "2021-10-24T13:13:17.765Z"
   },
   {
    "duration": 125,
    "start_time": "2021-10-24T13:13:17.774Z"
   },
   {
    "duration": 30,
    "start_time": "2021-10-24T13:13:17.902Z"
   },
   {
    "duration": 53,
    "start_time": "2021-10-24T13:13:17.935Z"
   },
   {
    "duration": 9,
    "start_time": "2021-10-24T13:13:17.990Z"
   },
   {
    "duration": 9,
    "start_time": "2021-10-24T13:13:18.002Z"
   },
   {
    "duration": 5,
    "start_time": "2021-10-24T13:13:18.014Z"
   },
   {
    "duration": 39,
    "start_time": "2021-10-24T13:13:18.021Z"
   },
   {
    "duration": 30,
    "start_time": "2021-10-24T13:13:18.063Z"
   },
   {
    "duration": 24,
    "start_time": "2021-10-24T13:13:18.095Z"
   },
   {
    "duration": 78,
    "start_time": "2021-10-24T13:13:18.121Z"
   },
   {
    "duration": 25,
    "start_time": "2021-10-24T13:13:18.201Z"
   },
   {
    "duration": 45,
    "start_time": "2021-10-24T13:13:18.228Z"
   },
   {
    "duration": 21,
    "start_time": "2021-10-24T13:13:18.275Z"
   },
   {
    "duration": 75,
    "start_time": "2021-10-24T13:13:18.298Z"
   },
   {
    "duration": 16,
    "start_time": "2021-10-24T13:13:18.376Z"
   },
   {
    "duration": 19,
    "start_time": "2021-10-24T13:13:18.397Z"
   },
   {
    "duration": 9,
    "start_time": "2021-10-24T13:13:18.419Z"
   },
   {
    "duration": 9,
    "start_time": "2021-10-24T13:13:18.458Z"
   },
   {
    "duration": 42,
    "start_time": "2021-10-24T13:13:18.469Z"
   },
   {
    "duration": 13,
    "start_time": "2021-10-24T13:13:18.513Z"
   },
   {
    "duration": 35,
    "start_time": "2021-10-24T13:13:18.558Z"
   },
   {
    "duration": 15,
    "start_time": "2021-10-24T13:13:18.595Z"
   },
   {
    "duration": 60,
    "start_time": "2021-10-24T13:13:18.612Z"
   },
   {
    "duration": 13,
    "start_time": "2021-10-24T13:13:18.675Z"
   },
   {
    "duration": 7,
    "start_time": "2021-10-24T13:13:18.690Z"
   },
   {
    "duration": 29,
    "start_time": "2021-10-24T13:13:18.699Z"
   },
   {
    "duration": 12,
    "start_time": "2021-10-24T13:13:18.758Z"
   },
   {
    "duration": 15,
    "start_time": "2021-10-24T13:13:18.772Z"
   },
   {
    "duration": 31,
    "start_time": "2021-10-24T13:13:18.789Z"
   },
   {
    "duration": 45,
    "start_time": "2021-10-24T13:13:18.822Z"
   },
   {
    "duration": 31,
    "start_time": "2021-10-24T13:13:18.869Z"
   },
   {
    "duration": 12,
    "start_time": "2021-10-24T13:13:18.902Z"
   },
   {
    "duration": 65,
    "start_time": "2021-10-24T13:13:18.917Z"
   },
   {
    "duration": 4,
    "start_time": "2021-10-24T13:13:18.984Z"
   },
   {
    "duration": 38,
    "start_time": "2021-10-24T13:13:18.990Z"
   },
   {
    "duration": 28,
    "start_time": "2021-10-24T13:13:19.030Z"
   },
   {
    "duration": 233,
    "start_time": "2021-10-24T13:13:19.061Z"
   },
   {
    "duration": 35,
    "start_time": "2021-10-24T13:13:19.297Z"
   },
   {
    "duration": 45,
    "start_time": "2021-10-24T13:13:19.334Z"
   },
   {
    "duration": 460,
    "start_time": "2021-10-24T13:13:19.382Z"
   },
   {
    "duration": 35,
    "start_time": "2021-10-24T13:13:19.844Z"
   },
   {
    "duration": 584,
    "start_time": "2021-10-24T13:13:19.882Z"
   },
   {
    "duration": 30,
    "start_time": "2021-10-24T13:13:20.469Z"
   },
   {
    "duration": 484,
    "start_time": "2021-10-24T13:13:20.502Z"
   },
   {
    "duration": 1888,
    "start_time": "2021-10-25T09:38:07.652Z"
   },
   {
    "duration": 44,
    "start_time": "2021-10-25T09:38:09.543Z"
   },
   {
    "duration": 58,
    "start_time": "2021-10-25T09:38:09.591Z"
   },
   {
    "duration": 4,
    "start_time": "2021-10-25T09:38:09.653Z"
   },
   {
    "duration": 75,
    "start_time": "2021-10-25T09:38:09.660Z"
   },
   {
    "duration": 34,
    "start_time": "2021-10-25T09:38:09.738Z"
   },
   {
    "duration": 9,
    "start_time": "2021-10-25T09:38:09.774Z"
   },
   {
    "duration": 163,
    "start_time": "2021-10-25T09:38:09.789Z"
   },
   {
    "duration": 34,
    "start_time": "2021-10-25T09:38:09.956Z"
   },
   {
    "duration": 69,
    "start_time": "2021-10-25T09:38:09.994Z"
   },
   {
    "duration": 14,
    "start_time": "2021-10-25T09:38:10.067Z"
   },
   {
    "duration": 15,
    "start_time": "2021-10-25T09:38:10.084Z"
   },
   {
    "duration": 7,
    "start_time": "2021-10-25T09:38:10.130Z"
   },
   {
    "duration": 13,
    "start_time": "2021-10-25T09:38:10.139Z"
   },
   {
    "duration": 43,
    "start_time": "2021-10-25T09:38:10.154Z"
   },
   {
    "duration": 45,
    "start_time": "2021-10-25T09:38:10.199Z"
   },
   {
    "duration": 62,
    "start_time": "2021-10-25T09:38:10.247Z"
   },
   {
    "duration": 45,
    "start_time": "2021-10-25T09:38:10.311Z"
   },
   {
    "duration": 25,
    "start_time": "2021-10-25T09:38:10.359Z"
   },
   {
    "duration": 54,
    "start_time": "2021-10-25T09:38:10.387Z"
   },
   {
    "duration": 69,
    "start_time": "2021-10-25T09:38:10.444Z"
   },
   {
    "duration": 18,
    "start_time": "2021-10-25T09:38:10.529Z"
   },
   {
    "duration": 30,
    "start_time": "2021-10-25T09:38:10.552Z"
   },
   {
    "duration": 45,
    "start_time": "2021-10-25T09:38:10.587Z"
   },
   {
    "duration": 20,
    "start_time": "2021-10-25T09:38:10.635Z"
   },
   {
    "duration": 81,
    "start_time": "2021-10-25T09:38:10.659Z"
   },
   {
    "duration": 20,
    "start_time": "2021-10-25T09:38:10.744Z"
   },
   {
    "duration": 67,
    "start_time": "2021-10-25T09:38:10.767Z"
   },
   {
    "duration": 13,
    "start_time": "2021-10-25T09:38:10.837Z"
   },
   {
    "duration": 41,
    "start_time": "2021-10-25T09:38:10.853Z"
   },
   {
    "duration": 33,
    "start_time": "2021-10-25T09:38:10.896Z"
   },
   {
    "duration": 8,
    "start_time": "2021-10-25T09:38:10.931Z"
   },
   {
    "duration": 37,
    "start_time": "2021-10-25T09:38:10.941Z"
   },
   {
    "duration": 19,
    "start_time": "2021-10-25T09:38:10.981Z"
   },
   {
    "duration": 37,
    "start_time": "2021-10-25T09:38:11.002Z"
   },
   {
    "duration": 33,
    "start_time": "2021-10-25T09:38:11.041Z"
   },
   {
    "duration": 14,
    "start_time": "2021-10-25T09:38:11.076Z"
   },
   {
    "duration": 61,
    "start_time": "2021-10-25T09:38:11.093Z"
   },
   {
    "duration": 12,
    "start_time": "2021-10-25T09:38:11.157Z"
   },
   {
    "duration": 60,
    "start_time": "2021-10-25T09:38:11.171Z"
   },
   {
    "duration": 4,
    "start_time": "2021-10-25T09:38:11.234Z"
   },
   {
    "duration": 38,
    "start_time": "2021-10-25T09:38:11.241Z"
   },
   {
    "duration": 8,
    "start_time": "2021-10-25T09:38:11.281Z"
   },
   {
    "duration": 264,
    "start_time": "2021-10-25T09:38:11.292Z"
   },
   {
    "duration": 41,
    "start_time": "2021-10-25T09:38:11.558Z"
   },
   {
    "duration": 62,
    "start_time": "2021-10-25T09:38:11.602Z"
   },
   {
    "duration": 587,
    "start_time": "2021-10-25T09:38:11.666Z"
   },
   {
    "duration": 30,
    "start_time": "2021-10-25T09:38:12.256Z"
   },
   {
    "duration": 489,
    "start_time": "2021-10-25T09:38:12.288Z"
   },
   {
    "duration": 30,
    "start_time": "2021-10-25T09:38:12.780Z"
   },
   {
    "duration": 473,
    "start_time": "2021-10-25T09:38:12.830Z"
   },
   {
    "duration": 61,
    "start_time": "2021-10-25T09:49:52.961Z"
   },
   {
    "duration": 15,
    "start_time": "2021-10-25T09:50:09.353Z"
   },
   {
    "duration": 13,
    "start_time": "2021-10-25T09:50:53.024Z"
   },
   {
    "duration": 527,
    "start_time": "2021-10-25T09:56:55.587Z"
   },
   {
    "duration": 38,
    "start_time": "2021-10-25T09:56:56.118Z"
   },
   {
    "duration": 37,
    "start_time": "2021-10-25T09:56:56.160Z"
   },
   {
    "duration": 30,
    "start_time": "2021-10-25T09:56:56.200Z"
   },
   {
    "duration": 41,
    "start_time": "2021-10-25T09:56:56.233Z"
   },
   {
    "duration": 57,
    "start_time": "2021-10-25T09:56:56.276Z"
   },
   {
    "duration": 7,
    "start_time": "2021-10-25T09:56:56.336Z"
   },
   {
    "duration": 140,
    "start_time": "2021-10-25T09:56:56.348Z"
   },
   {
    "duration": 44,
    "start_time": "2021-10-25T09:56:56.491Z"
   },
   {
    "duration": 37,
    "start_time": "2021-10-25T09:56:56.538Z"
   },
   {
    "duration": 10,
    "start_time": "2021-10-25T09:56:56.578Z"
   },
   {
    "duration": 42,
    "start_time": "2021-10-25T09:56:56.591Z"
   },
   {
    "duration": 9,
    "start_time": "2021-10-25T09:56:56.636Z"
   },
   {
    "duration": 6,
    "start_time": "2021-10-25T09:56:56.648Z"
   },
   {
    "duration": 32,
    "start_time": "2021-10-25T09:56:56.656Z"
   },
   {
    "duration": 52,
    "start_time": "2021-10-25T09:56:56.691Z"
   },
   {
    "duration": 61,
    "start_time": "2021-10-25T09:56:56.746Z"
   },
   {
    "duration": 38,
    "start_time": "2021-10-25T09:56:56.809Z"
   },
   {
    "duration": 25,
    "start_time": "2021-10-25T09:56:56.850Z"
   },
   {
    "duration": 53,
    "start_time": "2021-10-25T09:56:56.878Z"
   },
   {
    "duration": 64,
    "start_time": "2021-10-25T09:56:56.934Z"
   },
   {
    "duration": 34,
    "start_time": "2021-10-25T09:56:57.001Z"
   },
   {
    "duration": 22,
    "start_time": "2021-10-25T09:56:57.041Z"
   },
   {
    "duration": 11,
    "start_time": "2021-10-25T09:56:57.066Z"
   },
   {
    "duration": 52,
    "start_time": "2021-10-25T09:56:57.080Z"
   },
   {
    "duration": 45,
    "start_time": "2021-10-25T09:56:57.135Z"
   },
   {
    "duration": 17,
    "start_time": "2021-10-25T09:56:57.182Z"
   },
   {
    "duration": 62,
    "start_time": "2021-10-25T09:56:57.201Z"
   },
   {
    "duration": 13,
    "start_time": "2021-10-25T09:56:57.266Z"
   },
   {
    "duration": 57,
    "start_time": "2021-10-25T09:56:57.282Z"
   },
   {
    "duration": 14,
    "start_time": "2021-10-25T09:56:57.342Z"
   },
   {
    "duration": 8,
    "start_time": "2021-10-25T09:56:57.358Z"
   },
   {
    "duration": 31,
    "start_time": "2021-10-25T09:56:57.369Z"
   },
   {
    "duration": 14,
    "start_time": "2021-10-25T09:56:57.429Z"
   },
   {
    "duration": 12,
    "start_time": "2021-10-25T09:56:57.445Z"
   },
   {
    "duration": 32,
    "start_time": "2021-10-25T09:56:57.459Z"
   },
   {
    "duration": 12,
    "start_time": "2021-10-25T09:56:57.530Z"
   },
   {
    "duration": 34,
    "start_time": "2021-10-25T09:56:57.544Z"
   },
   {
    "duration": 13,
    "start_time": "2021-10-25T09:56:57.581Z"
   },
   {
    "duration": 62,
    "start_time": "2021-10-25T09:56:57.596Z"
   },
   {
    "duration": 4,
    "start_time": "2021-10-25T09:56:57.660Z"
   },
   {
    "duration": 64,
    "start_time": "2021-10-25T09:56:57.667Z"
   },
   {
    "duration": 7,
    "start_time": "2021-10-25T09:56:57.733Z"
   },
   {
    "duration": 236,
    "start_time": "2021-10-25T09:56:57.742Z"
   },
   {
    "duration": 50,
    "start_time": "2021-10-25T09:56:57.980Z"
   },
   {
    "duration": 29,
    "start_time": "2021-10-25T09:56:58.032Z"
   },
   {
    "duration": 494,
    "start_time": "2021-10-25T09:56:58.064Z"
   },
   {
    "duration": 30,
    "start_time": "2021-10-25T09:56:58.561Z"
   },
   {
    "duration": 484,
    "start_time": "2021-10-25T09:56:58.594Z"
   },
   {
    "duration": 27,
    "start_time": "2021-10-25T09:56:59.080Z"
   },
   {
    "duration": 470,
    "start_time": "2021-10-25T09:56:59.130Z"
   },
   {
    "duration": 15,
    "start_time": "2021-10-25T09:56:59.602Z"
   },
   {
    "duration": 22,
    "start_time": "2021-10-25T09:56:59.630Z"
   },
   {
    "duration": 529,
    "start_time": "2021-10-25T09:57:42.305Z"
   },
   {
    "duration": 35,
    "start_time": "2021-10-25T09:57:42.837Z"
   },
   {
    "duration": 65,
    "start_time": "2021-10-25T09:57:42.876Z"
   },
   {
    "duration": 4,
    "start_time": "2021-10-25T09:57:42.944Z"
   },
   {
    "duration": 41,
    "start_time": "2021-10-25T09:57:42.951Z"
   },
   {
    "duration": 56,
    "start_time": "2021-10-25T09:57:42.994Z"
   },
   {
    "duration": 6,
    "start_time": "2021-10-25T09:57:43.052Z"
   },
   {
    "duration": 138,
    "start_time": "2021-10-25T09:57:43.062Z"
   },
   {
    "duration": 40,
    "start_time": "2021-10-25T09:57:43.203Z"
   },
   {
    "duration": 38,
    "start_time": "2021-10-25T09:57:43.246Z"
   },
   {
    "duration": 11,
    "start_time": "2021-10-25T09:57:43.286Z"
   },
   {
    "duration": 34,
    "start_time": "2021-10-25T09:57:43.300Z"
   },
   {
    "duration": 8,
    "start_time": "2021-10-25T09:57:43.337Z"
   },
   {
    "duration": 7,
    "start_time": "2021-10-25T09:57:43.347Z"
   },
   {
    "duration": 30,
    "start_time": "2021-10-25T09:57:43.356Z"
   },
   {
    "duration": 57,
    "start_time": "2021-10-25T09:57:43.388Z"
   },
   {
    "duration": 53,
    "start_time": "2021-10-25T09:57:43.447Z"
   },
   {
    "duration": 40,
    "start_time": "2021-10-25T09:57:43.502Z"
   },
   {
    "duration": 26,
    "start_time": "2021-10-25T09:57:43.545Z"
   },
   {
    "duration": 21,
    "start_time": "2021-10-25T09:57:43.574Z"
   },
   {
    "duration": 83,
    "start_time": "2021-10-25T09:57:43.598Z"
   },
   {
    "duration": 19,
    "start_time": "2021-10-25T09:57:43.683Z"
   },
   {
    "duration": 21,
    "start_time": "2021-10-25T09:57:43.729Z"
   },
   {
    "duration": 15,
    "start_time": "2021-10-25T09:57:43.753Z"
   },
   {
    "duration": 9,
    "start_time": "2021-10-25T09:57:43.770Z"
   },
   {
    "duration": 78,
    "start_time": "2021-10-25T09:57:43.781Z"
   },
   {
    "duration": 12,
    "start_time": "2021-10-25T09:57:43.862Z"
   },
   {
    "duration": 57,
    "start_time": "2021-10-25T09:57:43.877Z"
   },
   {
    "duration": 12,
    "start_time": "2021-10-25T09:57:43.936Z"
   },
   {
    "duration": 31,
    "start_time": "2021-10-25T09:57:43.950Z"
   },
   {
    "duration": 15,
    "start_time": "2021-10-25T09:57:43.984Z"
   },
   {
    "duration": 33,
    "start_time": "2021-10-25T09:57:44.001Z"
   },
   {
    "duration": 29,
    "start_time": "2021-10-25T09:57:44.036Z"
   },
   {
    "duration": 12,
    "start_time": "2021-10-25T09:57:44.067Z"
   },
   {
    "duration": 48,
    "start_time": "2021-10-25T09:57:44.081Z"
   },
   {
    "duration": 31,
    "start_time": "2021-10-25T09:57:44.132Z"
   },
   {
    "duration": 12,
    "start_time": "2021-10-25T09:57:44.165Z"
   },
   {
    "duration": 63,
    "start_time": "2021-10-25T09:57:44.180Z"
   },
   {
    "duration": 12,
    "start_time": "2021-10-25T09:57:44.245Z"
   },
   {
    "duration": 33,
    "start_time": "2021-10-25T09:57:44.260Z"
   },
   {
    "duration": 4,
    "start_time": "2021-10-25T09:57:44.295Z"
   },
   {
    "duration": 35,
    "start_time": "2021-10-25T09:57:44.329Z"
   },
   {
    "duration": 7,
    "start_time": "2021-10-25T09:57:44.366Z"
   },
   {
    "duration": 330,
    "start_time": "2021-10-25T09:57:44.376Z"
   },
   {
    "duration": 46,
    "start_time": "2021-10-25T09:57:44.709Z"
   },
   {
    "duration": 30,
    "start_time": "2021-10-25T09:57:44.757Z"
   },
   {
    "duration": 495,
    "start_time": "2021-10-25T09:57:44.789Z"
   },
   {
    "duration": 42,
    "start_time": "2021-10-25T09:57:45.287Z"
   },
   {
    "duration": 474,
    "start_time": "2021-10-25T09:57:45.331Z"
   },
   {
    "duration": 39,
    "start_time": "2021-10-25T09:57:45.807Z"
   },
   {
    "duration": 559,
    "start_time": "2021-10-25T09:57:45.848Z"
   },
   {
    "duration": 23,
    "start_time": "2021-10-25T09:57:46.410Z"
   },
   {
    "duration": 17,
    "start_time": "2021-10-25T09:57:46.436Z"
   },
   {
    "duration": 12,
    "start_time": "2021-10-25T10:02:57.417Z"
   },
   {
    "duration": 12,
    "start_time": "2021-10-25T10:03:06.962Z"
   },
   {
    "duration": 552,
    "start_time": "2021-10-25T10:04:09.789Z"
   },
   {
    "duration": 38,
    "start_time": "2021-10-25T10:04:10.343Z"
   },
   {
    "duration": 67,
    "start_time": "2021-10-25T10:04:10.386Z"
   },
   {
    "duration": 4,
    "start_time": "2021-10-25T10:04:10.457Z"
   },
   {
    "duration": 52,
    "start_time": "2021-10-25T10:04:10.464Z"
   },
   {
    "duration": 42,
    "start_time": "2021-10-25T10:04:10.519Z"
   },
   {
    "duration": 7,
    "start_time": "2021-10-25T10:04:10.564Z"
   },
   {
    "duration": 152,
    "start_time": "2021-10-25T10:04:10.576Z"
   },
   {
    "duration": 34,
    "start_time": "2021-10-25T10:04:10.731Z"
   },
   {
    "duration": 62,
    "start_time": "2021-10-25T10:04:10.768Z"
   },
   {
    "duration": 10,
    "start_time": "2021-10-25T10:04:10.833Z"
   },
   {
    "duration": 12,
    "start_time": "2021-10-25T10:04:10.845Z"
   },
   {
    "duration": 5,
    "start_time": "2021-10-25T10:04:10.860Z"
   },
   {
    "duration": 14,
    "start_time": "2021-10-25T10:04:10.867Z"
   },
   {
    "duration": 63,
    "start_time": "2021-10-25T10:04:10.884Z"
   },
   {
    "duration": 24,
    "start_time": "2021-10-25T10:04:10.950Z"
   },
   {
    "duration": 74,
    "start_time": "2021-10-25T10:04:10.977Z"
   },
   {
    "duration": 27,
    "start_time": "2021-10-25T10:04:11.053Z"
   },
   {
    "duration": 47,
    "start_time": "2021-10-25T10:04:11.082Z"
   },
   {
    "duration": 21,
    "start_time": "2021-10-25T10:04:11.131Z"
   },
   {
    "duration": 51,
    "start_time": "2021-10-25T10:04:11.154Z"
   },
   {
    "duration": 38,
    "start_time": "2021-10-25T10:04:11.207Z"
   },
   {
    "duration": 19,
    "start_time": "2021-10-25T10:04:11.251Z"
   },
   {
    "duration": 10,
    "start_time": "2021-10-25T10:04:11.273Z"
   },
   {
    "duration": 47,
    "start_time": "2021-10-25T10:04:11.286Z"
   },
   {
    "duration": 40,
    "start_time": "2021-10-25T10:04:11.335Z"
   },
   {
    "duration": 13,
    "start_time": "2021-10-25T10:04:11.378Z"
   },
   {
    "duration": 61,
    "start_time": "2021-10-25T10:04:11.393Z"
   },
   {
    "duration": 13,
    "start_time": "2021-10-25T10:04:11.456Z"
   },
   {
    "duration": 40,
    "start_time": "2021-10-25T10:04:11.471Z"
   },
   {
    "duration": 26,
    "start_time": "2021-10-25T10:04:11.514Z"
   },
   {
    "duration": 14,
    "start_time": "2021-10-25T10:04:11.543Z"
   },
   {
    "duration": 36,
    "start_time": "2021-10-25T10:04:11.559Z"
   },
   {
    "duration": 37,
    "start_time": "2021-10-25T10:04:11.598Z"
   },
   {
    "duration": 15,
    "start_time": "2021-10-25T10:04:11.639Z"
   },
   {
    "duration": 35,
    "start_time": "2021-10-25T10:04:11.656Z"
   },
   {
    "duration": 44,
    "start_time": "2021-10-25T10:04:11.694Z"
   },
   {
    "duration": 37,
    "start_time": "2021-10-25T10:04:11.741Z"
   },
   {
    "duration": 14,
    "start_time": "2021-10-25T10:04:11.781Z"
   },
   {
    "duration": 63,
    "start_time": "2021-10-25T10:04:11.797Z"
   },
   {
    "duration": 4,
    "start_time": "2021-10-25T10:04:11.862Z"
   },
   {
    "duration": 61,
    "start_time": "2021-10-25T10:04:11.868Z"
   },
   {
    "duration": 7,
    "start_time": "2021-10-25T10:04:11.931Z"
   },
   {
    "duration": 235,
    "start_time": "2021-10-25T10:04:11.940Z"
   },
   {
    "duration": 51,
    "start_time": "2021-10-25T10:04:12.178Z"
   },
   {
    "duration": 31,
    "start_time": "2021-10-25T10:04:12.232Z"
   },
   {
    "duration": 484,
    "start_time": "2021-10-25T10:04:12.266Z"
   },
   {
    "duration": 28,
    "start_time": "2021-10-25T10:04:12.752Z"
   },
   {
    "duration": 472,
    "start_time": "2021-10-25T10:04:12.783Z"
   },
   {
    "duration": 29,
    "start_time": "2021-10-25T10:04:13.257Z"
   },
   {
    "duration": 458,
    "start_time": "2021-10-25T10:04:13.288Z"
   },
   {
    "duration": 14,
    "start_time": "2021-10-25T10:04:13.748Z"
   },
   {
    "duration": 318,
    "start_time": "2021-10-25T10:04:13.765Z"
   },
   {
    "duration": -604,
    "start_time": "2021-10-25T10:04:14.690Z"
   },
   {
    "duration": -608,
    "start_time": "2021-10-25T10:04:14.695Z"
   },
   {
    "duration": 533,
    "start_time": "2021-10-25T10:04:48.597Z"
   },
   {
    "duration": 36,
    "start_time": "2021-10-25T10:04:49.133Z"
   },
   {
    "duration": 61,
    "start_time": "2021-10-25T10:04:49.172Z"
   },
   {
    "duration": 4,
    "start_time": "2021-10-25T10:04:49.235Z"
   },
   {
    "duration": 52,
    "start_time": "2021-10-25T10:04:49.242Z"
   },
   {
    "duration": 43,
    "start_time": "2021-10-25T10:04:49.296Z"
   },
   {
    "duration": 6,
    "start_time": "2021-10-25T10:04:49.341Z"
   },
   {
    "duration": 125,
    "start_time": "2021-10-25T10:04:49.350Z"
   },
   {
    "duration": 33,
    "start_time": "2021-10-25T10:04:49.478Z"
   },
   {
    "duration": 38,
    "start_time": "2021-10-25T10:04:49.530Z"
   },
   {
    "duration": 10,
    "start_time": "2021-10-25T10:04:49.570Z"
   },
   {
    "duration": 20,
    "start_time": "2021-10-25T10:04:49.582Z"
   },
   {
    "duration": 28,
    "start_time": "2021-10-25T10:04:49.604Z"
   },
   {
    "duration": 22,
    "start_time": "2021-10-25T10:04:49.634Z"
   },
   {
    "duration": 40,
    "start_time": "2021-10-25T10:04:49.659Z"
   },
   {
    "duration": 30,
    "start_time": "2021-10-25T10:04:49.702Z"
   },
   {
    "duration": 52,
    "start_time": "2021-10-25T10:04:49.734Z"
   },
   {
    "duration": 41,
    "start_time": "2021-10-25T10:04:49.789Z"
   },
   {
    "duration": 24,
    "start_time": "2021-10-25T10:04:49.833Z"
   },
   {
    "duration": 20,
    "start_time": "2021-10-25T10:04:49.859Z"
   },
   {
    "duration": 102,
    "start_time": "2021-10-25T10:04:49.881Z"
   },
   {
    "duration": 19,
    "start_time": "2021-10-25T10:04:49.986Z"
   },
   {
    "duration": 38,
    "start_time": "2021-10-25T10:04:50.010Z"
   },
   {
    "duration": 14,
    "start_time": "2021-10-25T10:04:50.052Z"
   },
   {
    "duration": 16,
    "start_time": "2021-10-25T10:04:50.069Z"
   },
   {
    "duration": 83,
    "start_time": "2021-10-25T10:04:50.087Z"
   },
   {
    "duration": 13,
    "start_time": "2021-10-25T10:04:50.172Z"
   },
   {
    "duration": 51,
    "start_time": "2021-10-25T10:04:50.188Z"
   },
   {
    "duration": 14,
    "start_time": "2021-10-25T10:04:50.241Z"
   },
   {
    "duration": 38,
    "start_time": "2021-10-25T10:04:50.258Z"
   },
   {
    "duration": 36,
    "start_time": "2021-10-25T10:04:50.300Z"
   },
   {
    "duration": 8,
    "start_time": "2021-10-25T10:04:50.339Z"
   },
   {
    "duration": 39,
    "start_time": "2021-10-25T10:04:50.350Z"
   },
   {
    "duration": 14,
    "start_time": "2021-10-25T10:04:50.392Z"
   },
   {
    "duration": 12,
    "start_time": "2021-10-25T10:04:50.430Z"
   },
   {
    "duration": 39,
    "start_time": "2021-10-25T10:04:50.444Z"
   },
   {
    "duration": 14,
    "start_time": "2021-10-25T10:04:50.486Z"
   },
   {
    "duration": 58,
    "start_time": "2021-10-25T10:04:50.502Z"
   },
   {
    "duration": 14,
    "start_time": "2021-10-25T10:04:50.562Z"
   },
   {
    "duration": 64,
    "start_time": "2021-10-25T10:04:50.578Z"
   },
   {
    "duration": 4,
    "start_time": "2021-10-25T10:04:50.644Z"
   },
   {
    "duration": 58,
    "start_time": "2021-10-25T10:04:50.650Z"
   },
   {
    "duration": 6,
    "start_time": "2021-10-25T10:04:50.710Z"
   },
   {
    "duration": 239,
    "start_time": "2021-10-25T10:04:50.719Z"
   },
   {
    "duration": 35,
    "start_time": "2021-10-25T10:04:50.960Z"
   },
   {
    "duration": 53,
    "start_time": "2021-10-25T10:04:50.998Z"
   },
   {
    "duration": 501,
    "start_time": "2021-10-25T10:04:51.053Z"
   },
   {
    "duration": 29,
    "start_time": "2021-10-25T10:04:51.556Z"
   },
   {
    "duration": 498,
    "start_time": "2021-10-25T10:04:51.587Z"
   },
   {
    "duration": 41,
    "start_time": "2021-10-25T10:04:52.088Z"
   },
   {
    "duration": 470,
    "start_time": "2021-10-25T10:04:52.132Z"
   },
   {
    "duration": 24,
    "start_time": "2021-10-25T10:04:52.605Z"
   },
   {
    "duration": 23,
    "start_time": "2021-10-25T10:04:52.631Z"
   },
   {
    "duration": 32,
    "start_time": "2021-10-25T10:04:52.656Z"
   },
   {
    "duration": 29,
    "start_time": "2021-10-25T10:04:52.690Z"
   },
   {
    "duration": 576,
    "start_time": "2021-10-25T10:07:34.504Z"
   },
   {
    "duration": 36,
    "start_time": "2021-10-25T10:07:35.082Z"
   },
   {
    "duration": 33,
    "start_time": "2021-10-25T10:07:35.122Z"
   },
   {
    "duration": 4,
    "start_time": "2021-10-25T10:07:35.157Z"
   },
   {
    "duration": 44,
    "start_time": "2021-10-25T10:07:35.163Z"
   },
   {
    "duration": 47,
    "start_time": "2021-10-25T10:07:35.209Z"
   },
   {
    "duration": 6,
    "start_time": "2021-10-25T10:07:35.259Z"
   },
   {
    "duration": 139,
    "start_time": "2021-10-25T10:07:35.269Z"
   },
   {
    "duration": 40,
    "start_time": "2021-10-25T10:07:35.411Z"
   },
   {
    "duration": 145,
    "start_time": "2021-10-25T10:07:35.453Z"
   },
   {
    "duration": 28,
    "start_time": "2021-10-25T10:07:35.601Z"
   },
   {
    "duration": 9,
    "start_time": "2021-10-25T10:07:35.631Z"
   },
   {
    "duration": 30,
    "start_time": "2021-10-25T10:07:35.643Z"
   },
   {
    "duration": 6,
    "start_time": "2021-10-25T10:07:35.675Z"
   },
   {
    "duration": 43,
    "start_time": "2021-10-25T10:07:35.683Z"
   },
   {
    "duration": 24,
    "start_time": "2021-10-25T10:07:35.728Z"
   },
   {
    "duration": 60,
    "start_time": "2021-10-25T10:07:35.754Z"
   },
   {
    "duration": 35,
    "start_time": "2021-10-25T10:07:35.816Z"
   },
   {
    "duration": 25,
    "start_time": "2021-10-25T10:07:35.854Z"
   },
   {
    "duration": 57,
    "start_time": "2021-10-25T10:07:35.882Z"
   },
   {
    "duration": 59,
    "start_time": "2021-10-25T10:07:35.941Z"
   },
   {
    "duration": 30,
    "start_time": "2021-10-25T10:07:36.002Z"
   },
   {
    "duration": 20,
    "start_time": "2021-10-25T10:07:36.038Z"
   },
   {
    "duration": 10,
    "start_time": "2021-10-25T10:07:36.061Z"
   },
   {
    "duration": 15,
    "start_time": "2021-10-25T10:07:36.073Z"
   },
   {
    "duration": 76,
    "start_time": "2021-10-25T10:07:36.091Z"
   },
   {
    "duration": 14,
    "start_time": "2021-10-25T10:07:36.169Z"
   },
   {
    "duration": 69,
    "start_time": "2021-10-25T10:07:36.186Z"
   },
   {
    "duration": 15,
    "start_time": "2021-10-25T10:07:36.257Z"
   },
   {
    "duration": 59,
    "start_time": "2021-10-25T10:07:36.275Z"
   },
   {
    "duration": 16,
    "start_time": "2021-10-25T10:07:36.336Z"
   },
   {
    "duration": 9,
    "start_time": "2021-10-25T10:07:36.355Z"
   },
   {
    "duration": 63,
    "start_time": "2021-10-25T10:07:36.366Z"
   },
   {
    "duration": 15,
    "start_time": "2021-10-25T10:07:36.431Z"
   },
   {
    "duration": 14,
    "start_time": "2021-10-25T10:07:36.448Z"
   },
   {
    "duration": 33,
    "start_time": "2021-10-25T10:07:36.465Z"
   },
   {
    "duration": 39,
    "start_time": "2021-10-25T10:07:36.500Z"
   },
   {
    "duration": 34,
    "start_time": "2021-10-25T10:07:36.542Z"
   },
   {
    "duration": 50,
    "start_time": "2021-10-25T10:07:36.579Z"
   },
   {
    "duration": 38,
    "start_time": "2021-10-25T10:07:36.632Z"
   },
   {
    "duration": 4,
    "start_time": "2021-10-25T10:07:36.672Z"
   },
   {
    "duration": 74,
    "start_time": "2021-10-25T10:07:36.679Z"
   },
   {
    "duration": 8,
    "start_time": "2021-10-25T10:07:36.756Z"
   },
   {
    "duration": 241,
    "start_time": "2021-10-25T10:07:36.766Z"
   },
   {
    "duration": 48,
    "start_time": "2021-10-25T10:07:37.009Z"
   },
   {
    "duration": 33,
    "start_time": "2021-10-25T10:07:37.060Z"
   },
   {
    "duration": 510,
    "start_time": "2021-10-25T10:07:37.096Z"
   },
   {
    "duration": 39,
    "start_time": "2021-10-25T10:07:37.609Z"
   },
   {
    "duration": 493,
    "start_time": "2021-10-25T10:07:37.651Z"
   },
   {
    "duration": 29,
    "start_time": "2021-10-25T10:07:38.147Z"
   },
   {
    "duration": 499,
    "start_time": "2021-10-25T10:07:38.179Z"
   },
   {
    "duration": 19,
    "start_time": "2021-10-25T10:07:38.681Z"
   },
   {
    "duration": 41,
    "start_time": "2021-10-25T10:07:38.703Z"
   },
   {
    "duration": 1524,
    "start_time": "2021-10-26T09:23:53.934Z"
   },
   {
    "duration": 29,
    "start_time": "2021-10-26T09:23:55.460Z"
   },
   {
    "duration": 33,
    "start_time": "2021-10-26T09:23:55.491Z"
   },
   {
    "duration": 3,
    "start_time": "2021-10-26T09:23:55.527Z"
   },
   {
    "duration": 60,
    "start_time": "2021-10-26T09:23:55.532Z"
   },
   {
    "duration": 25,
    "start_time": "2021-10-26T09:23:55.594Z"
   },
   {
    "duration": 7,
    "start_time": "2021-10-26T09:23:55.620Z"
   },
   {
    "duration": 109,
    "start_time": "2021-10-26T09:23:55.630Z"
   },
   {
    "duration": 32,
    "start_time": "2021-10-26T09:23:55.741Z"
   },
   {
    "duration": 41,
    "start_time": "2021-10-26T09:23:55.775Z"
   },
   {
    "duration": 13,
    "start_time": "2021-10-26T09:23:55.818Z"
   },
   {
    "duration": 13,
    "start_time": "2021-10-26T09:23:55.832Z"
   },
   {
    "duration": 8,
    "start_time": "2021-10-26T09:23:55.852Z"
   },
   {
    "duration": 5,
    "start_time": "2021-10-26T09:23:55.862Z"
   },
   {
    "duration": 23,
    "start_time": "2021-10-26T09:23:55.869Z"
   },
   {
    "duration": 17,
    "start_time": "2021-10-26T09:23:55.894Z"
   },
   {
    "duration": 63,
    "start_time": "2021-10-26T09:23:55.913Z"
   },
   {
    "duration": 18,
    "start_time": "2021-10-26T09:23:55.978Z"
   },
   {
    "duration": 17,
    "start_time": "2021-10-26T09:23:55.998Z"
   },
   {
    "duration": 36,
    "start_time": "2021-10-26T09:23:56.017Z"
   },
   {
    "duration": 44,
    "start_time": "2021-10-26T09:23:56.056Z"
   },
   {
    "duration": 11,
    "start_time": "2021-10-26T09:23:56.102Z"
   },
   {
    "duration": 42,
    "start_time": "2021-10-26T09:23:56.117Z"
   },
   {
    "duration": 8,
    "start_time": "2021-10-26T09:23:56.163Z"
   },
   {
    "duration": 7,
    "start_time": "2021-10-26T09:23:56.173Z"
   },
   {
    "duration": 34,
    "start_time": "2021-10-26T09:23:56.182Z"
   },
   {
    "duration": 36,
    "start_time": "2021-10-26T09:23:56.218Z"
   },
   {
    "duration": 33,
    "start_time": "2021-10-26T09:23:56.260Z"
   },
   {
    "duration": 9,
    "start_time": "2021-10-26T09:23:56.295Z"
   },
   {
    "duration": 40,
    "start_time": "2021-10-26T09:23:56.306Z"
   },
   {
    "duration": 13,
    "start_time": "2021-10-26T09:23:56.348Z"
   },
   {
    "duration": 16,
    "start_time": "2021-10-26T09:23:56.363Z"
   },
   {
    "duration": 30,
    "start_time": "2021-10-26T09:23:56.381Z"
   },
   {
    "duration": 9,
    "start_time": "2021-10-26T09:23:56.413Z"
   },
   {
    "duration": 24,
    "start_time": "2021-10-26T09:23:56.423Z"
   },
   {
    "duration": 13,
    "start_time": "2021-10-26T09:23:56.451Z"
   },
   {
    "duration": 23,
    "start_time": "2021-10-26T09:23:56.466Z"
   },
   {
    "duration": 9,
    "start_time": "2021-10-26T09:23:56.492Z"
   },
   {
    "duration": 55,
    "start_time": "2021-10-26T09:23:56.503Z"
   },
   {
    "duration": 7,
    "start_time": "2021-10-26T09:23:56.560Z"
   },
   {
    "duration": 27,
    "start_time": "2021-10-26T09:23:56.569Z"
   },
   {
    "duration": 5,
    "start_time": "2021-10-26T09:23:56.598Z"
   },
   {
    "duration": 250,
    "start_time": "2021-10-26T09:23:56.605Z"
   },
   {
    "duration": 24,
    "start_time": "2021-10-26T09:23:56.857Z"
   },
   {
    "duration": 21,
    "start_time": "2021-10-26T09:23:56.883Z"
   },
   {
    "duration": 318,
    "start_time": "2021-10-26T09:23:56.906Z"
   },
   {
    "duration": 36,
    "start_time": "2021-10-26T09:23:57.226Z"
   },
   {
    "duration": 471,
    "start_time": "2021-10-26T09:23:57.264Z"
   },
   {
    "duration": 28,
    "start_time": "2021-10-26T09:23:57.745Z"
   },
   {
    "duration": 323,
    "start_time": "2021-10-26T09:23:57.776Z"
   },
   {
    "duration": 13,
    "start_time": "2021-10-26T09:23:58.102Z"
   },
   {
    "duration": 36,
    "start_time": "2021-10-26T09:23:58.117Z"
   },
   {
    "duration": 15,
    "start_time": "2021-10-26T09:26:50.367Z"
   },
   {
    "duration": 18,
    "start_time": "2021-10-26T09:27:43.339Z"
   },
   {
    "duration": 21,
    "start_time": "2021-10-26T09:29:03.438Z"
   },
   {
    "duration": 434,
    "start_time": "2021-10-26T09:45:21.410Z"
   },
   {
    "duration": 31,
    "start_time": "2021-10-26T09:45:21.847Z"
   },
   {
    "duration": 31,
    "start_time": "2021-10-26T09:45:21.880Z"
   },
   {
    "duration": 3,
    "start_time": "2021-10-26T09:45:21.913Z"
   },
   {
    "duration": 64,
    "start_time": "2021-10-26T09:45:21.917Z"
   },
   {
    "duration": 31,
    "start_time": "2021-10-26T09:45:21.983Z"
   },
   {
    "duration": 4,
    "start_time": "2021-10-26T09:45:22.016Z"
   },
   {
    "duration": 115,
    "start_time": "2021-10-26T09:45:22.023Z"
   },
   {
    "duration": 30,
    "start_time": "2021-10-26T09:45:22.141Z"
   },
   {
    "duration": 48,
    "start_time": "2021-10-26T09:45:22.173Z"
   },
   {
    "duration": 20,
    "start_time": "2021-10-26T09:45:22.223Z"
   },
   {
    "duration": 36,
    "start_time": "2021-10-26T09:45:22.247Z"
   },
   {
    "duration": 24,
    "start_time": "2021-10-26T09:45:22.286Z"
   },
   {
    "duration": 35,
    "start_time": "2021-10-26T09:45:22.312Z"
   },
   {
    "duration": 37,
    "start_time": "2021-10-26T09:45:22.349Z"
   },
   {
    "duration": 33,
    "start_time": "2021-10-26T09:45:22.388Z"
   },
   {
    "duration": 56,
    "start_time": "2021-10-26T09:45:22.423Z"
   },
   {
    "duration": 20,
    "start_time": "2021-10-26T09:45:22.482Z"
   },
   {
    "duration": 26,
    "start_time": "2021-10-26T09:45:22.504Z"
   },
   {
    "duration": 23,
    "start_time": "2021-10-26T09:45:22.544Z"
   },
   {
    "duration": 50,
    "start_time": "2021-10-26T09:45:22.569Z"
   },
   {
    "duration": 10,
    "start_time": "2021-10-26T09:45:22.621Z"
   },
   {
    "duration": 31,
    "start_time": "2021-10-26T09:45:22.646Z"
   },
   {
    "duration": 24,
    "start_time": "2021-10-26T09:45:22.679Z"
   },
   {
    "duration": 44,
    "start_time": "2021-10-26T09:45:22.705Z"
   },
   {
    "duration": 60,
    "start_time": "2021-10-26T09:45:22.751Z"
   },
   {
    "duration": 9,
    "start_time": "2021-10-26T09:45:22.813Z"
   },
   {
    "duration": 59,
    "start_time": "2021-10-26T09:45:22.824Z"
   },
   {
    "duration": 12,
    "start_time": "2021-10-26T09:45:22.884Z"
   },
   {
    "duration": 39,
    "start_time": "2021-10-26T09:45:22.898Z"
   },
   {
    "duration": 23,
    "start_time": "2021-10-26T09:45:22.939Z"
   },
   {
    "duration": 23,
    "start_time": "2021-10-26T09:45:22.963Z"
   },
   {
    "duration": 32,
    "start_time": "2021-10-26T09:45:22.988Z"
   },
   {
    "duration": 37,
    "start_time": "2021-10-26T09:45:23.022Z"
   },
   {
    "duration": 27,
    "start_time": "2021-10-26T09:45:23.061Z"
   },
   {
    "duration": 11,
    "start_time": "2021-10-26T09:45:23.090Z"
   },
   {
    "duration": 28,
    "start_time": "2021-10-26T09:45:23.102Z"
   },
   {
    "duration": 25,
    "start_time": "2021-10-26T09:45:23.131Z"
   },
   {
    "duration": 46,
    "start_time": "2021-10-26T09:45:23.158Z"
   },
   {
    "duration": 11,
    "start_time": "2021-10-26T09:45:23.206Z"
   },
   {
    "duration": 59,
    "start_time": "2021-10-26T09:45:23.219Z"
   },
   {
    "duration": 19,
    "start_time": "2021-10-26T09:45:23.280Z"
   },
   {
    "duration": 178,
    "start_time": "2021-10-26T09:45:23.301Z"
   },
   {
    "duration": 21,
    "start_time": "2021-10-26T09:45:23.481Z"
   },
   {
    "duration": 19,
    "start_time": "2021-10-26T09:45:23.504Z"
   },
   {
    "duration": 293,
    "start_time": "2021-10-26T09:45:23.525Z"
   },
   {
    "duration": 35,
    "start_time": "2021-10-26T09:45:23.819Z"
   },
   {
    "duration": 290,
    "start_time": "2021-10-26T09:45:23.856Z"
   },
   {
    "duration": 21,
    "start_time": "2021-10-26T09:45:24.147Z"
   },
   {
    "duration": 285,
    "start_time": "2021-10-26T09:45:24.170Z"
   },
   {
    "duration": 15,
    "start_time": "2021-10-26T09:45:24.457Z"
   },
   {
    "duration": 27,
    "start_time": "2021-10-26T09:45:24.474Z"
   },
   {
    "duration": 314,
    "start_time": "2021-10-27T07:37:19.944Z"
   },
   {
    "duration": 1493,
    "start_time": "2021-10-27T07:37:22.924Z"
   },
   {
    "duration": 29,
    "start_time": "2021-10-27T07:37:24.419Z"
   },
   {
    "duration": 31,
    "start_time": "2021-10-27T07:37:24.450Z"
   },
   {
    "duration": 3,
    "start_time": "2021-10-27T07:37:24.483Z"
   },
   {
    "duration": 34,
    "start_time": "2021-10-27T07:37:24.487Z"
   },
   {
    "duration": 39,
    "start_time": "2021-10-27T07:37:24.523Z"
   },
   {
    "duration": 5,
    "start_time": "2021-10-27T07:37:24.564Z"
   },
   {
    "duration": 110,
    "start_time": "2021-10-27T07:37:24.571Z"
   },
   {
    "duration": 22,
    "start_time": "2021-10-27T07:37:24.683Z"
   },
   {
    "duration": 45,
    "start_time": "2021-10-27T07:37:24.707Z"
   },
   {
    "duration": 16,
    "start_time": "2021-10-27T07:37:24.754Z"
   },
   {
    "duration": 6,
    "start_time": "2021-10-27T07:37:24.771Z"
   },
   {
    "duration": 8,
    "start_time": "2021-10-27T07:37:24.779Z"
   },
   {
    "duration": 7,
    "start_time": "2021-10-27T07:37:24.788Z"
   },
   {
    "duration": 24,
    "start_time": "2021-10-27T07:37:24.797Z"
   },
   {
    "duration": 34,
    "start_time": "2021-10-27T07:37:24.822Z"
   },
   {
    "duration": 40,
    "start_time": "2021-10-27T07:37:24.858Z"
   },
   {
    "duration": 18,
    "start_time": "2021-10-27T07:37:24.900Z"
   },
   {
    "duration": 40,
    "start_time": "2021-10-27T07:37:24.920Z"
   },
   {
    "duration": 16,
    "start_time": "2021-10-27T07:37:24.962Z"
   },
   {
    "duration": 71,
    "start_time": "2021-10-27T07:37:24.980Z"
   },
   {
    "duration": 11,
    "start_time": "2021-10-27T07:37:25.053Z"
   },
   {
    "duration": 12,
    "start_time": "2021-10-27T07:37:25.068Z"
   },
   {
    "duration": 7,
    "start_time": "2021-10-27T07:37:25.082Z"
   },
   {
    "duration": 9,
    "start_time": "2021-10-27T07:37:25.091Z"
   },
   {
    "duration": 59,
    "start_time": "2021-10-27T07:37:25.102Z"
   },
   {
    "duration": 8,
    "start_time": "2021-10-27T07:37:25.163Z"
   },
   {
    "duration": 31,
    "start_time": "2021-10-27T07:37:25.173Z"
   },
   {
    "duration": 9,
    "start_time": "2021-10-27T07:37:25.206Z"
   },
   {
    "duration": 45,
    "start_time": "2021-10-27T07:37:25.216Z"
   },
   {
    "duration": 9,
    "start_time": "2021-10-27T07:37:25.263Z"
   },
   {
    "duration": 5,
    "start_time": "2021-10-27T07:37:25.273Z"
   },
   {
    "duration": 22,
    "start_time": "2021-10-27T07:37:25.280Z"
   },
   {
    "duration": 8,
    "start_time": "2021-10-27T07:37:25.303Z"
   },
   {
    "duration": 51,
    "start_time": "2021-10-27T07:37:25.312Z"
   },
   {
    "duration": 8,
    "start_time": "2021-10-27T07:37:25.365Z"
   },
   {
    "duration": 11,
    "start_time": "2021-10-27T07:37:25.375Z"
   },
   {
    "duration": 24,
    "start_time": "2021-10-27T07:37:25.388Z"
   },
   {
    "duration": 33,
    "start_time": "2021-10-27T07:37:25.414Z"
   },
   {
    "duration": 23,
    "start_time": "2021-10-27T07:37:25.448Z"
   },
   {
    "duration": 3,
    "start_time": "2021-10-27T07:37:25.472Z"
   },
   {
    "duration": 23,
    "start_time": "2021-10-27T07:37:25.477Z"
   },
   {
    "duration": 4,
    "start_time": "2021-10-27T07:37:25.502Z"
   },
   {
    "duration": 172,
    "start_time": "2021-10-27T07:37:25.508Z"
   },
   {
    "duration": 23,
    "start_time": "2021-10-27T07:37:25.681Z"
   },
   {
    "duration": 19,
    "start_time": "2021-10-27T07:37:25.705Z"
   },
   {
    "duration": 310,
    "start_time": "2021-10-27T07:37:25.726Z"
   },
   {
    "duration": 23,
    "start_time": "2021-10-27T07:37:26.038Z"
   },
   {
    "duration": 273,
    "start_time": "2021-10-27T07:37:26.063Z"
   },
   {
    "duration": 23,
    "start_time": "2021-10-27T07:37:26.338Z"
   },
   {
    "duration": 264,
    "start_time": "2021-10-27T07:37:26.362Z"
   },
   {
    "duration": 21,
    "start_time": "2021-10-27T07:37:26.627Z"
   },
   {
    "duration": 14,
    "start_time": "2021-10-27T07:37:26.650Z"
   },
   {
    "duration": 24,
    "start_time": "2021-10-27T07:37:55.671Z"
   },
   {
    "duration": 8728,
    "start_time": "2021-10-27T07:38:38.110Z"
   },
   {
    "duration": 26,
    "start_time": "2021-10-27T07:39:02.541Z"
   },
   {
    "duration": 21,
    "start_time": "2021-10-27T07:39:05.331Z"
   },
   {
    "duration": 25,
    "start_time": "2021-10-27T07:39:10.563Z"
   },
   {
    "duration": 24,
    "start_time": "2021-10-27T07:39:23.412Z"
   },
   {
    "duration": 27,
    "start_time": "2021-10-27T07:39:33.302Z"
   },
   {
    "duration": 95,
    "start_time": "2021-10-27T07:40:22.318Z"
   },
   {
    "duration": 292,
    "start_time": "2021-10-27T07:40:26.885Z"
   },
   {
    "duration": 34,
    "start_time": "2021-10-27T07:40:35.179Z"
   },
   {
    "duration": 35,
    "start_time": "2021-10-27T07:40:45.161Z"
   },
   {
    "duration": 407,
    "start_time": "2021-10-27T07:41:03.522Z"
   },
   {
    "duration": 25,
    "start_time": "2021-10-27T07:41:03.930Z"
   },
   {
    "duration": 58,
    "start_time": "2021-10-27T07:41:03.957Z"
   },
   {
    "duration": 11,
    "start_time": "2021-10-27T07:41:04.017Z"
   },
   {
    "duration": 53,
    "start_time": "2021-10-27T07:41:04.029Z"
   },
   {
    "duration": 31,
    "start_time": "2021-10-27T07:41:04.084Z"
   },
   {
    "duration": 5,
    "start_time": "2021-10-27T07:41:04.117Z"
   },
   {
    "duration": 108,
    "start_time": "2021-10-27T07:41:04.124Z"
   },
   {
    "duration": 26,
    "start_time": "2021-10-27T07:41:04.235Z"
   },
   {
    "duration": 37,
    "start_time": "2021-10-27T07:41:04.263Z"
   },
   {
    "duration": 12,
    "start_time": "2021-10-27T07:41:04.302Z"
   },
   {
    "duration": 30,
    "start_time": "2021-10-27T07:41:04.316Z"
   },
   {
    "duration": 27,
    "start_time": "2021-10-27T07:41:04.348Z"
   },
   {
    "duration": 23,
    "start_time": "2021-10-27T07:41:04.377Z"
   },
   {
    "duration": 58,
    "start_time": "2021-10-27T07:41:04.402Z"
   },
   {
    "duration": 56,
    "start_time": "2021-10-27T07:41:04.461Z"
   },
   {
    "duration": 50,
    "start_time": "2021-10-27T07:41:04.518Z"
   },
   {
    "duration": 18,
    "start_time": "2021-10-27T07:41:04.570Z"
   },
   {
    "duration": 28,
    "start_time": "2021-10-27T07:41:04.590Z"
   },
   {
    "duration": 35,
    "start_time": "2021-10-27T07:41:04.619Z"
   },
   {
    "duration": 54,
    "start_time": "2021-10-27T07:41:04.656Z"
   },
   {
    "duration": 12,
    "start_time": "2021-10-27T07:41:04.712Z"
   },
   {
    "duration": 18,
    "start_time": "2021-10-27T07:41:04.727Z"
   },
   {
    "duration": 33,
    "start_time": "2021-10-27T07:41:04.747Z"
   },
   {
    "duration": 43,
    "start_time": "2021-10-27T07:41:04.782Z"
   },
   {
    "duration": 79,
    "start_time": "2021-10-27T07:41:04.827Z"
   },
   {
    "duration": 13,
    "start_time": "2021-10-27T07:41:04.908Z"
   },
   {
    "duration": 44,
    "start_time": "2021-10-27T07:41:04.923Z"
   },
   {
    "duration": 9,
    "start_time": "2021-10-27T07:41:04.969Z"
   },
   {
    "duration": 43,
    "start_time": "2021-10-27T07:41:04.980Z"
   },
   {
    "duration": 9,
    "start_time": "2021-10-27T07:41:05.025Z"
   },
   {
    "duration": 20,
    "start_time": "2021-10-27T07:41:05.036Z"
   },
   {
    "duration": 23,
    "start_time": "2021-10-27T07:41:05.058Z"
   },
   {
    "duration": 28,
    "start_time": "2021-10-27T07:41:05.083Z"
   },
   {
    "duration": 31,
    "start_time": "2021-10-27T07:41:05.113Z"
   },
   {
    "duration": 10,
    "start_time": "2021-10-27T07:41:05.145Z"
   },
   {
    "duration": 90,
    "start_time": "2021-10-27T07:41:09.492Z"
   },
   {
    "duration": 32,
    "start_time": "2021-10-27T07:41:17.990Z"
   },
   {
    "duration": 31,
    "start_time": "2021-10-27T07:41:24.824Z"
   },
   {
    "duration": 32,
    "start_time": "2021-10-27T07:41:27.941Z"
   },
   {
    "duration": 35,
    "start_time": "2021-10-27T07:41:34.075Z"
   },
   {
    "duration": 328,
    "start_time": "2021-10-27T10:55:56.519Z"
   },
   {
    "duration": 1449,
    "start_time": "2021-10-27T10:58:14.165Z"
   },
   {
    "duration": 33,
    "start_time": "2021-10-27T10:58:15.616Z"
   },
   {
    "duration": 34,
    "start_time": "2021-10-27T10:58:15.653Z"
   },
   {
    "duration": 2,
    "start_time": "2021-10-27T10:58:15.689Z"
   },
   {
    "duration": 39,
    "start_time": "2021-10-27T10:58:15.693Z"
   },
   {
    "duration": 31,
    "start_time": "2021-10-27T10:58:15.734Z"
   },
   {
    "duration": 5,
    "start_time": "2021-10-27T10:58:15.767Z"
   },
   {
    "duration": 111,
    "start_time": "2021-10-27T10:58:15.774Z"
   },
   {
    "duration": 25,
    "start_time": "2021-10-27T10:58:15.887Z"
   },
   {
    "duration": 49,
    "start_time": "2021-10-27T10:58:15.914Z"
   },
   {
    "duration": 12,
    "start_time": "2021-10-27T10:58:15.965Z"
   },
   {
    "duration": 6,
    "start_time": "2021-10-27T10:58:15.978Z"
   },
   {
    "duration": 9,
    "start_time": "2021-10-27T10:58:15.986Z"
   },
   {
    "duration": 13,
    "start_time": "2021-10-27T10:58:15.997Z"
   },
   {
    "duration": 40,
    "start_time": "2021-10-27T10:58:16.012Z"
   },
   {
    "duration": 21,
    "start_time": "2021-10-27T10:58:16.057Z"
   },
   {
    "duration": 54,
    "start_time": "2021-10-27T10:58:16.080Z"
   },
   {
    "duration": 25,
    "start_time": "2021-10-27T10:58:16.136Z"
   },
   {
    "duration": 29,
    "start_time": "2021-10-27T10:58:16.163Z"
   },
   {
    "duration": 16,
    "start_time": "2021-10-27T10:58:16.194Z"
   },
   {
    "duration": 66,
    "start_time": "2021-10-27T10:58:16.212Z"
   },
   {
    "duration": 12,
    "start_time": "2021-10-27T10:58:16.280Z"
   },
   {
    "duration": 21,
    "start_time": "2021-10-27T10:58:16.297Z"
   },
   {
    "duration": 35,
    "start_time": "2021-10-27T10:58:16.321Z"
   },
   {
    "duration": 13,
    "start_time": "2021-10-27T10:58:16.358Z"
   },
   {
    "duration": 45,
    "start_time": "2021-10-27T10:58:16.373Z"
   },
   {
    "duration": 11,
    "start_time": "2021-10-27T10:58:16.419Z"
   },
   {
    "duration": 36,
    "start_time": "2021-10-27T10:58:16.432Z"
   },
   {
    "duration": 8,
    "start_time": "2021-10-27T10:58:16.470Z"
   },
   {
    "duration": 27,
    "start_time": "2021-10-27T10:58:16.480Z"
   },
   {
    "duration": 10,
    "start_time": "2021-10-27T10:58:16.509Z"
   },
   {
    "duration": 5,
    "start_time": "2021-10-27T10:58:16.521Z"
   },
   {
    "duration": 26,
    "start_time": "2021-10-27T10:58:16.546Z"
   },
   {
    "duration": 7,
    "start_time": "2021-10-27T10:58:16.574Z"
   },
   {
    "duration": 23,
    "start_time": "2021-10-27T10:58:16.582Z"
   },
   {
    "duration": 9,
    "start_time": "2021-10-27T10:58:16.607Z"
   },
   {
    "duration": 71,
    "start_time": "2021-10-27T10:58:16.617Z"
   },
   {
    "duration": 20,
    "start_time": "2021-10-27T10:58:16.690Z"
   },
   {
    "duration": 33,
    "start_time": "2021-10-27T10:58:16.712Z"
   },
   {
    "duration": 26,
    "start_time": "2021-10-27T10:58:16.746Z"
   },
   {
    "duration": 3,
    "start_time": "2021-10-27T10:58:16.774Z"
   },
   {
    "duration": 27,
    "start_time": "2021-10-27T10:58:16.778Z"
   },
   {
    "duration": 5,
    "start_time": "2021-10-27T10:58:16.807Z"
   },
   {
    "duration": 161,
    "start_time": "2021-10-27T10:58:16.813Z"
   },
   {
    "duration": 22,
    "start_time": "2021-10-27T10:58:16.976Z"
   },
   {
    "duration": 23,
    "start_time": "2021-10-27T10:58:17.000Z"
   },
   {
    "duration": 328,
    "start_time": "2021-10-27T10:58:17.024Z"
   },
   {
    "duration": 21,
    "start_time": "2021-10-27T10:58:17.358Z"
   },
   {
    "duration": 291,
    "start_time": "2021-10-27T10:58:17.381Z"
   },
   {
    "duration": 20,
    "start_time": "2021-10-27T10:58:17.674Z"
   },
   {
    "duration": 297,
    "start_time": "2021-10-27T10:58:17.696Z"
   },
   {
    "duration": 16,
    "start_time": "2021-10-27T10:58:17.996Z"
   },
   {
    "duration": 42,
    "start_time": "2021-10-27T10:58:18.014Z"
   },
   {
    "duration": 90,
    "start_time": "2021-10-27T10:58:53.368Z"
   },
   {
    "duration": 4,
    "start_time": "2021-10-27T10:59:04.098Z"
   },
   {
    "duration": 415,
    "start_time": "2021-10-27T11:17:17.051Z"
   },
   {
    "duration": 27,
    "start_time": "2021-10-27T11:17:17.468Z"
   },
   {
    "duration": 27,
    "start_time": "2021-10-27T11:17:17.498Z"
   },
   {
    "duration": 3,
    "start_time": "2021-10-27T11:17:17.527Z"
   },
   {
    "duration": 32,
    "start_time": "2021-10-27T11:17:17.532Z"
   },
   {
    "duration": 23,
    "start_time": "2021-10-27T11:17:17.566Z"
   },
   {
    "duration": 6,
    "start_time": "2021-10-27T11:17:17.590Z"
   },
   {
    "duration": 113,
    "start_time": "2021-10-27T11:17:17.599Z"
   },
   {
    "duration": 35,
    "start_time": "2021-10-27T11:17:17.715Z"
   },
   {
    "duration": 27,
    "start_time": "2021-10-27T11:17:17.753Z"
   },
   {
    "duration": 8,
    "start_time": "2021-10-27T11:17:17.782Z"
   },
   {
    "duration": 8,
    "start_time": "2021-10-27T11:17:17.792Z"
   },
   {
    "duration": 12,
    "start_time": "2021-10-27T11:17:17.802Z"
   },
   {
    "duration": 29,
    "start_time": "2021-10-27T11:17:17.815Z"
   },
   {
    "duration": 33,
    "start_time": "2021-10-27T11:17:17.846Z"
   },
   {
    "duration": 19,
    "start_time": "2021-10-27T11:17:17.881Z"
   },
   {
    "duration": 68,
    "start_time": "2021-10-27T11:17:17.902Z"
   },
   {
    "duration": 20,
    "start_time": "2021-10-27T11:17:17.972Z"
   },
   {
    "duration": 18,
    "start_time": "2021-10-27T11:17:17.994Z"
   },
   {
    "duration": 35,
    "start_time": "2021-10-27T11:17:18.014Z"
   },
   {
    "duration": 44,
    "start_time": "2021-10-27T11:17:18.051Z"
   },
   {
    "duration": 12,
    "start_time": "2021-10-27T11:17:18.097Z"
   },
   {
    "duration": 39,
    "start_time": "2021-10-27T11:17:18.112Z"
   },
   {
    "duration": 8,
    "start_time": "2021-10-27T11:17:18.153Z"
   },
   {
    "duration": 12,
    "start_time": "2021-10-27T11:17:18.162Z"
   },
   {
    "duration": 38,
    "start_time": "2021-10-27T11:17:18.176Z"
   },
   {
    "duration": 10,
    "start_time": "2021-10-27T11:17:18.216Z"
   },
   {
    "duration": 27,
    "start_time": "2021-10-27T11:17:18.245Z"
   },
   {
    "duration": 10,
    "start_time": "2021-10-27T11:17:18.274Z"
   },
   {
    "duration": 22,
    "start_time": "2021-10-27T11:17:18.286Z"
   },
   {
    "duration": 38,
    "start_time": "2021-10-27T11:17:18.310Z"
   },
   {
    "duration": 5,
    "start_time": "2021-10-27T11:17:18.350Z"
   },
   {
    "duration": 21,
    "start_time": "2021-10-27T11:17:18.356Z"
   },
   {
    "duration": 7,
    "start_time": "2021-10-27T11:17:18.379Z"
   },
   {
    "duration": 21,
    "start_time": "2021-10-27T11:17:18.388Z"
   },
   {
    "duration": 33,
    "start_time": "2021-10-27T11:17:18.411Z"
   },
   {
    "duration": 37,
    "start_time": "2021-10-27T11:17:18.446Z"
   },
   {
    "duration": 19,
    "start_time": "2021-10-27T11:17:18.485Z"
   },
   {
    "duration": 9,
    "start_time": "2021-10-27T11:17:18.506Z"
   },
   {
    "duration": 49,
    "start_time": "2021-10-27T11:17:18.516Z"
   },
   {
    "duration": 3,
    "start_time": "2021-10-27T11:17:18.566Z"
   },
   {
    "duration": 25,
    "start_time": "2021-10-27T11:17:18.571Z"
   },
   {
    "duration": 5,
    "start_time": "2021-10-27T11:17:18.597Z"
   },
   {
    "duration": 147,
    "start_time": "2021-10-27T11:17:18.603Z"
   },
   {
    "duration": 21,
    "start_time": "2021-10-27T11:17:18.752Z"
   },
   {
    "duration": 20,
    "start_time": "2021-10-27T11:17:18.775Z"
   },
   {
    "duration": 313,
    "start_time": "2021-10-27T11:17:18.796Z"
   },
   {
    "duration": 34,
    "start_time": "2021-10-27T11:17:19.110Z"
   },
   {
    "duration": 308,
    "start_time": "2021-10-27T11:17:19.146Z"
   },
   {
    "duration": 21,
    "start_time": "2021-10-27T11:17:19.456Z"
   },
   {
    "duration": 295,
    "start_time": "2021-10-27T11:17:19.479Z"
   },
   {
    "duration": 16,
    "start_time": "2021-10-27T11:17:19.776Z"
   },
   {
    "duration": 16,
    "start_time": "2021-10-27T11:17:19.794Z"
   },
   {
    "duration": 4,
    "start_time": "2021-10-27T11:18:25.014Z"
   },
   {
    "duration": 9,
    "start_time": "2021-10-27T11:18:25.857Z"
   },
   {
    "duration": 22,
    "start_time": "2021-10-27T11:18:34.908Z"
   },
   {
    "duration": 2,
    "start_time": "2021-10-27T11:18:36.310Z"
   },
   {
    "duration": 10,
    "start_time": "2021-10-27T11:18:37.176Z"
   },
   {
    "duration": 3,
    "start_time": "2021-10-27T11:18:46.965Z"
   },
   {
    "duration": 12,
    "start_time": "2021-10-27T11:18:48.409Z"
   },
   {
    "duration": 421,
    "start_time": "2021-10-27T11:19:02.226Z"
   },
   {
    "duration": 28,
    "start_time": "2021-10-27T11:19:02.649Z"
   },
   {
    "duration": 26,
    "start_time": "2021-10-27T11:19:02.679Z"
   },
   {
    "duration": 3,
    "start_time": "2021-10-27T11:19:02.708Z"
   },
   {
    "duration": 58,
    "start_time": "2021-10-27T11:19:02.712Z"
   },
   {
    "duration": 23,
    "start_time": "2021-10-27T11:19:02.771Z"
   },
   {
    "duration": 5,
    "start_time": "2021-10-27T11:19:02.796Z"
   },
   {
    "duration": 100,
    "start_time": "2021-10-27T11:19:02.804Z"
   },
   {
    "duration": 39,
    "start_time": "2021-10-27T11:19:02.907Z"
   },
   {
    "duration": 28,
    "start_time": "2021-10-27T11:19:02.948Z"
   },
   {
    "duration": 8,
    "start_time": "2021-10-27T11:19:02.979Z"
   },
   {
    "duration": 8,
    "start_time": "2021-10-27T11:19:02.988Z"
   },
   {
    "duration": 5,
    "start_time": "2021-10-27T11:19:02.998Z"
   },
   {
    "duration": 8,
    "start_time": "2021-10-27T11:19:03.005Z"
   },
   {
    "duration": 52,
    "start_time": "2021-10-27T11:19:03.015Z"
   },
   {
    "duration": 18,
    "start_time": "2021-10-27T11:19:03.069Z"
   },
   {
    "duration": 75,
    "start_time": "2021-10-27T11:19:03.089Z"
   },
   {
    "duration": 21,
    "start_time": "2021-10-27T11:19:03.166Z"
   },
   {
    "duration": 22,
    "start_time": "2021-10-27T11:19:03.189Z"
   },
   {
    "duration": 36,
    "start_time": "2021-10-27T11:19:03.213Z"
   },
   {
    "duration": 44,
    "start_time": "2021-10-27T11:19:03.252Z"
   },
   {
    "duration": 11,
    "start_time": "2021-10-27T11:19:03.298Z"
   },
   {
    "duration": 34,
    "start_time": "2021-10-27T11:19:03.312Z"
   },
   {
    "duration": 11,
    "start_time": "2021-10-27T11:19:03.349Z"
   },
   {
    "duration": 21,
    "start_time": "2021-10-27T11:19:03.362Z"
   },
   {
    "duration": 33,
    "start_time": "2021-10-27T11:19:03.385Z"
   },
   {
    "duration": 9,
    "start_time": "2021-10-27T11:19:03.420Z"
   },
   {
    "duration": 40,
    "start_time": "2021-10-27T11:19:03.431Z"
   },
   {
    "duration": 8,
    "start_time": "2021-10-27T11:19:03.473Z"
   },
   {
    "duration": 22,
    "start_time": "2021-10-27T11:19:03.483Z"
   },
   {
    "duration": 4,
    "start_time": "2021-10-27T11:19:03.506Z"
   },
   {
    "duration": 35,
    "start_time": "2021-10-27T11:19:03.511Z"
   },
   {
    "duration": 25,
    "start_time": "2021-10-27T11:19:03.548Z"
   },
   {
    "duration": 27,
    "start_time": "2021-10-27T11:19:03.574Z"
   },
   {
    "duration": 7,
    "start_time": "2021-10-27T11:19:03.603Z"
   },
   {
    "duration": 27,
    "start_time": "2021-10-27T11:19:03.612Z"
   },
   {
    "duration": 9,
    "start_time": "2021-10-27T11:19:03.641Z"
   },
   {
    "duration": 41,
    "start_time": "2021-10-27T11:19:03.652Z"
   },
   {
    "duration": 39,
    "start_time": "2021-10-27T11:19:03.694Z"
   },
   {
    "duration": 18,
    "start_time": "2021-10-27T11:19:03.735Z"
   },
   {
    "duration": 22,
    "start_time": "2021-10-27T11:19:03.754Z"
   },
   {
    "duration": 3,
    "start_time": "2021-10-27T11:19:03.778Z"
   },
   {
    "duration": 32,
    "start_time": "2021-10-27T11:19:03.783Z"
   },
   {
    "duration": 5,
    "start_time": "2021-10-27T11:19:03.817Z"
   },
   {
    "duration": 207,
    "start_time": "2021-10-27T11:19:03.823Z"
   },
   {
    "duration": 29,
    "start_time": "2021-10-27T11:19:04.032Z"
   },
   {
    "duration": 21,
    "start_time": "2021-10-27T11:19:04.063Z"
   },
   {
    "duration": 322,
    "start_time": "2021-10-27T11:19:04.086Z"
   },
   {
    "duration": 36,
    "start_time": "2021-10-27T11:19:04.411Z"
   },
   {
    "duration": 323,
    "start_time": "2021-10-27T11:19:04.449Z"
   },
   {
    "duration": 21,
    "start_time": "2021-10-27T11:19:04.774Z"
   },
   {
    "duration": 295,
    "start_time": "2021-10-27T11:19:04.797Z"
   },
   {
    "duration": 15,
    "start_time": "2021-10-27T11:19:05.094Z"
   },
   {
    "duration": 19,
    "start_time": "2021-10-27T11:19:05.111Z"
   },
   {
    "duration": 8,
    "start_time": "2021-10-27T11:20:56.057Z"
   },
   {
    "duration": 2,
    "start_time": "2021-10-27T11:20:59.073Z"
   },
   {
    "duration": 13,
    "start_time": "2021-10-27T11:21:00.520Z"
   },
   {
    "duration": 9,
    "start_time": "2021-10-27T11:23:08.945Z"
   },
   {
    "duration": 3,
    "start_time": "2021-10-27T11:23:10.127Z"
   },
   {
    "duration": 13,
    "start_time": "2021-10-27T11:23:10.955Z"
   },
   {
    "duration": 8,
    "start_time": "2021-10-27T11:25:24.791Z"
   },
   {
    "duration": 13,
    "start_time": "2021-10-27T11:25:50.834Z"
   },
   {
    "duration": 136,
    "start_time": "2021-10-27T11:27:11.400Z"
   },
   {
    "duration": 8,
    "start_time": "2021-10-27T11:27:45.986Z"
   },
   {
    "duration": 18,
    "start_time": "2021-10-27T11:27:51.945Z"
   },
   {
    "duration": 345,
    "start_time": "2021-10-27T11:30:46.941Z"
   },
   {
    "duration": 8,
    "start_time": "2021-10-27T11:31:34.272Z"
   },
   {
    "duration": 25,
    "start_time": "2021-10-27T11:31:40.816Z"
   },
   {
    "duration": 96,
    "start_time": "2021-10-27T11:37:01.325Z"
   },
   {
    "duration": 5,
    "start_time": "2021-10-27T11:37:08.818Z"
   },
   {
    "duration": 29,
    "start_time": "2021-10-27T11:37:09.954Z"
   },
   {
    "duration": 8,
    "start_time": "2021-10-27T11:41:36.809Z"
   },
   {
    "duration": 94,
    "start_time": "2021-10-27T11:48:35.942Z"
   },
   {
    "duration": 9,
    "start_time": "2021-10-27T11:49:09.344Z"
   },
   {
    "duration": 6097,
    "start_time": "2021-10-27T12:03:27.624Z"
   },
   {
    "duration": 8776,
    "start_time": "2021-10-27T12:03:41.714Z"
   },
   {
    "duration": 85,
    "start_time": "2021-10-27T12:09:29.832Z"
   },
   {
    "duration": 347,
    "start_time": "2021-10-27T12:09:36.115Z"
   },
   {
    "duration": 283,
    "start_time": "2021-10-27T12:09:57.535Z"
   },
   {
    "duration": 292,
    "start_time": "2021-10-27T12:10:25.635Z"
   },
   {
    "duration": 8,
    "start_time": "2021-10-27T12:11:41.074Z"
   },
   {
    "duration": 339,
    "start_time": "2021-10-27T12:12:22.161Z"
   },
   {
    "duration": 10,
    "start_time": "2021-10-27T12:13:11.506Z"
   },
   {
    "duration": 4,
    "start_time": "2021-10-27T12:15:26.983Z"
   },
   {
    "duration": 415,
    "start_time": "2021-10-27T12:35:43.541Z"
   },
   {
    "duration": 28,
    "start_time": "2021-10-27T12:35:43.959Z"
   },
   {
    "duration": 25,
    "start_time": "2021-10-27T12:35:43.989Z"
   },
   {
    "duration": 2,
    "start_time": "2021-10-27T12:35:44.016Z"
   },
   {
    "duration": 48,
    "start_time": "2021-10-27T12:35:44.020Z"
   },
   {
    "duration": 24,
    "start_time": "2021-10-27T12:35:44.070Z"
   },
   {
    "duration": 5,
    "start_time": "2021-10-27T12:35:44.096Z"
   },
   {
    "duration": 115,
    "start_time": "2021-10-27T12:35:44.104Z"
   },
   {
    "duration": 39,
    "start_time": "2021-10-27T12:35:44.222Z"
   },
   {
    "duration": 30,
    "start_time": "2021-10-27T12:35:44.263Z"
   },
   {
    "duration": 7,
    "start_time": "2021-10-27T12:35:44.294Z"
   },
   {
    "duration": 7,
    "start_time": "2021-10-27T12:35:44.303Z"
   },
   {
    "duration": 4,
    "start_time": "2021-10-27T12:35:44.345Z"
   },
   {
    "duration": 22,
    "start_time": "2021-10-27T12:35:44.351Z"
   },
   {
    "duration": 32,
    "start_time": "2021-10-27T12:35:44.376Z"
   },
   {
    "duration": 18,
    "start_time": "2021-10-27T12:35:44.410Z"
   },
   {
    "duration": 50,
    "start_time": "2021-10-27T12:35:44.429Z"
   },
   {
    "duration": 22,
    "start_time": "2021-10-27T12:35:44.480Z"
   },
   {
    "duration": 24,
    "start_time": "2021-10-27T12:35:44.504Z"
   },
   {
    "duration": 29,
    "start_time": "2021-10-27T12:35:44.530Z"
   },
   {
    "duration": 42,
    "start_time": "2021-10-27T12:35:44.562Z"
   },
   {
    "duration": 11,
    "start_time": "2021-10-27T12:35:44.606Z"
   },
   {
    "duration": 18,
    "start_time": "2021-10-27T12:35:44.648Z"
   },
   {
    "duration": 7,
    "start_time": "2021-10-27T12:35:44.669Z"
   },
   {
    "duration": 23,
    "start_time": "2021-10-27T12:35:44.678Z"
   },
   {
    "duration": 46,
    "start_time": "2021-10-27T12:35:44.703Z"
   },
   {
    "duration": 11,
    "start_time": "2021-10-27T12:35:44.752Z"
   },
   {
    "duration": 27,
    "start_time": "2021-10-27T12:35:44.767Z"
   },
   {
    "duration": 9,
    "start_time": "2021-10-27T12:35:44.796Z"
   },
   {
    "duration": 55,
    "start_time": "2021-10-27T12:35:44.806Z"
   },
   {
    "duration": 12,
    "start_time": "2021-10-27T12:35:44.863Z"
   },
   {
    "duration": 6,
    "start_time": "2021-10-27T12:35:44.877Z"
   },
   {
    "duration": 20,
    "start_time": "2021-10-27T12:35:44.884Z"
   },
   {
    "duration": 2,
    "start_time": "2021-10-27T12:35:44.906Z"
   },
   {
    "duration": 4,
    "start_time": "2021-10-27T12:35:44.910Z"
   },
   {
    "duration": 4,
    "start_time": "2021-10-27T12:35:44.916Z"
   },
   {
    "duration": 15,
    "start_time": "2021-10-27T12:35:44.947Z"
   },
   {
    "duration": 8,
    "start_time": "2021-10-27T12:35:44.965Z"
   },
   {
    "duration": 12,
    "start_time": "2021-10-27T12:35:44.975Z"
   },
   {
    "duration": 7,
    "start_time": "2021-10-27T12:35:44.989Z"
   },
   {
    "duration": 66,
    "start_time": "2021-10-27T12:35:44.998Z"
   },
   {
    "duration": 46,
    "start_time": "2021-10-27T12:35:45.066Z"
   },
   {
    "duration": 101,
    "start_time": "2021-10-27T12:35:45.114Z"
   },
   {
    "duration": 68,
    "start_time": "2021-10-27T12:35:45.149Z"
   },
   {
    "duration": 65,
    "start_time": "2021-10-27T12:35:45.153Z"
   },
   {
    "duration": 61,
    "start_time": "2021-10-27T12:35:45.158Z"
   },
   {
    "duration": 59,
    "start_time": "2021-10-27T12:35:45.161Z"
   },
   {
    "duration": 56,
    "start_time": "2021-10-27T12:35:45.165Z"
   },
   {
    "duration": 54,
    "start_time": "2021-10-27T12:35:45.168Z"
   },
   {
    "duration": 49,
    "start_time": "2021-10-27T12:35:45.173Z"
   },
   {
    "duration": 46,
    "start_time": "2021-10-27T12:35:45.177Z"
   },
   {
    "duration": 43,
    "start_time": "2021-10-27T12:35:45.181Z"
   },
   {
    "duration": 41,
    "start_time": "2021-10-27T12:35:45.184Z"
   },
   {
    "duration": 37,
    "start_time": "2021-10-27T12:35:45.189Z"
   },
   {
    "duration": 35,
    "start_time": "2021-10-27T12:35:45.192Z"
   },
   {
    "duration": 32,
    "start_time": "2021-10-27T12:35:45.196Z"
   },
   {
    "duration": 29,
    "start_time": "2021-10-27T12:35:45.200Z"
   },
   {
    "duration": 26,
    "start_time": "2021-10-27T12:35:45.203Z"
   },
   {
    "duration": 415,
    "start_time": "2021-10-27T12:36:23.853Z"
   },
   {
    "duration": 25,
    "start_time": "2021-10-27T12:36:24.270Z"
   },
   {
    "duration": 24,
    "start_time": "2021-10-27T12:36:24.297Z"
   },
   {
    "duration": 2,
    "start_time": "2021-10-27T12:36:24.323Z"
   },
   {
    "duration": 42,
    "start_time": "2021-10-27T12:36:24.327Z"
   },
   {
    "duration": 23,
    "start_time": "2021-10-27T12:36:24.372Z"
   },
   {
    "duration": 5,
    "start_time": "2021-10-27T12:36:24.397Z"
   },
   {
    "duration": 109,
    "start_time": "2021-10-27T12:36:24.405Z"
   },
   {
    "duration": 29,
    "start_time": "2021-10-27T12:36:24.517Z"
   },
   {
    "duration": 38,
    "start_time": "2021-10-27T12:36:24.548Z"
   },
   {
    "duration": 7,
    "start_time": "2021-10-27T12:36:24.587Z"
   },
   {
    "duration": 17,
    "start_time": "2021-10-27T12:36:24.596Z"
   },
   {
    "duration": 9,
    "start_time": "2021-10-27T12:36:24.615Z"
   },
   {
    "duration": 10,
    "start_time": "2021-10-27T12:36:24.626Z"
   },
   {
    "duration": 28,
    "start_time": "2021-10-27T12:36:24.651Z"
   },
   {
    "duration": 18,
    "start_time": "2021-10-27T12:36:24.681Z"
   },
   {
    "duration": 53,
    "start_time": "2021-10-27T12:36:24.701Z"
   },
   {
    "duration": 21,
    "start_time": "2021-10-27T12:36:24.756Z"
   },
   {
    "duration": 18,
    "start_time": "2021-10-27T12:36:24.779Z"
   },
   {
    "duration": 24,
    "start_time": "2021-10-27T12:36:24.799Z"
   },
   {
    "duration": 49,
    "start_time": "2021-10-27T12:36:24.826Z"
   },
   {
    "duration": 11,
    "start_time": "2021-10-27T12:36:24.877Z"
   },
   {
    "duration": 23,
    "start_time": "2021-10-27T12:36:24.892Z"
   },
   {
    "duration": 28,
    "start_time": "2021-10-27T12:36:24.917Z"
   },
   {
    "duration": 18,
    "start_time": "2021-10-27T12:36:24.947Z"
   },
   {
    "duration": 56,
    "start_time": "2021-10-27T12:36:24.967Z"
   },
   {
    "duration": 9,
    "start_time": "2021-10-27T12:36:25.024Z"
   },
   {
    "duration": 46,
    "start_time": "2021-10-27T12:36:25.035Z"
   },
   {
    "duration": 10,
    "start_time": "2021-10-27T12:36:25.083Z"
   },
   {
    "duration": 34,
    "start_time": "2021-10-27T12:36:25.096Z"
   },
   {
    "duration": 12,
    "start_time": "2021-10-27T12:36:25.131Z"
   },
   {
    "duration": 28,
    "start_time": "2021-10-27T12:36:25.145Z"
   },
   {
    "duration": 28,
    "start_time": "2021-10-27T12:36:25.174Z"
   },
   {
    "duration": 2,
    "start_time": "2021-10-27T12:36:25.204Z"
   },
   {
    "duration": 17,
    "start_time": "2021-10-27T12:36:25.208Z"
   },
   {
    "duration": 19,
    "start_time": "2021-10-27T12:36:25.227Z"
   },
   {
    "duration": 19,
    "start_time": "2021-10-27T12:36:25.249Z"
   },
   {
    "duration": 20,
    "start_time": "2021-10-27T12:36:25.270Z"
   },
   {
    "duration": 18,
    "start_time": "2021-10-27T12:36:25.292Z"
   },
   {
    "duration": 17,
    "start_time": "2021-10-27T12:36:25.311Z"
   },
   {
    "duration": 28,
    "start_time": "2021-10-27T12:36:25.329Z"
   },
   {
    "duration": 42,
    "start_time": "2021-10-27T12:36:25.360Z"
   },
   {
    "duration": 2,
    "start_time": "2021-10-27T12:36:25.404Z"
   },
   {
    "duration": 12,
    "start_time": "2021-10-27T12:36:25.408Z"
   },
   {
    "duration": 43,
    "start_time": "2021-10-27T12:36:25.422Z"
   },
   {
    "duration": 5,
    "start_time": "2021-10-27T12:36:25.467Z"
   },
   {
    "duration": 12,
    "start_time": "2021-10-27T12:36:25.475Z"
   },
   {
    "duration": 101,
    "start_time": "2021-10-27T12:36:25.489Z"
   },
   {
    "duration": 220,
    "start_time": "2021-10-27T12:36:25.371Z"
   },
   {
    "duration": 216,
    "start_time": "2021-10-27T12:36:25.376Z"
   },
   {
    "duration": 188,
    "start_time": "2021-10-27T12:36:25.405Z"
   },
   {
    "duration": 185,
    "start_time": "2021-10-27T12:36:25.409Z"
   },
   {
    "duration": 182,
    "start_time": "2021-10-27T12:36:25.413Z"
   },
   {
    "duration": 179,
    "start_time": "2021-10-27T12:36:25.417Z"
   },
   {
    "duration": 176,
    "start_time": "2021-10-27T12:36:25.421Z"
   },
   {
    "duration": 174,
    "start_time": "2021-10-27T12:36:25.424Z"
   },
   {
    "duration": 172,
    "start_time": "2021-10-27T12:36:25.427Z"
   },
   {
    "duration": 169,
    "start_time": "2021-10-27T12:36:25.431Z"
   },
   {
    "duration": 5,
    "start_time": "2021-10-27T12:42:45.207Z"
   },
   {
    "duration": 421,
    "start_time": "2021-10-27T12:42:56.254Z"
   },
   {
    "duration": 28,
    "start_time": "2021-10-27T12:42:56.677Z"
   },
   {
    "duration": 27,
    "start_time": "2021-10-27T12:42:56.707Z"
   },
   {
    "duration": 3,
    "start_time": "2021-10-27T12:42:56.737Z"
   },
   {
    "duration": 36,
    "start_time": "2021-10-27T12:42:56.742Z"
   },
   {
    "duration": 24,
    "start_time": "2021-10-27T12:42:56.780Z"
   },
   {
    "duration": 5,
    "start_time": "2021-10-27T12:42:56.806Z"
   },
   {
    "duration": 127,
    "start_time": "2021-10-27T12:42:56.814Z"
   },
   {
    "duration": 30,
    "start_time": "2021-10-27T12:42:56.945Z"
   },
   {
    "duration": 28,
    "start_time": "2021-10-27T12:42:56.977Z"
   },
   {
    "duration": 6,
    "start_time": "2021-10-27T12:42:57.007Z"
   },
   {
    "duration": 36,
    "start_time": "2021-10-27T12:42:57.015Z"
   },
   {
    "duration": 8,
    "start_time": "2021-10-27T12:42:57.053Z"
   },
   {
    "duration": 3,
    "start_time": "2021-10-27T12:42:57.064Z"
   },
   {
    "duration": 30,
    "start_time": "2021-10-27T12:42:57.069Z"
   },
   {
    "duration": 17,
    "start_time": "2021-10-27T12:42:57.101Z"
   },
   {
    "duration": 69,
    "start_time": "2021-10-27T12:42:57.120Z"
   },
   {
    "duration": 19,
    "start_time": "2021-10-27T12:42:57.191Z"
   },
   {
    "duration": 40,
    "start_time": "2021-10-27T12:42:57.211Z"
   },
   {
    "duration": 17,
    "start_time": "2021-10-27T12:42:57.252Z"
   },
   {
    "duration": 41,
    "start_time": "2021-10-27T12:42:57.271Z"
   },
   {
    "duration": 33,
    "start_time": "2021-10-27T12:42:57.314Z"
   },
   {
    "duration": 22,
    "start_time": "2021-10-27T12:42:57.355Z"
   },
   {
    "duration": 8,
    "start_time": "2021-10-27T12:42:57.380Z"
   },
   {
    "duration": 11,
    "start_time": "2021-10-27T12:42:57.390Z"
   },
   {
    "duration": 56,
    "start_time": "2021-10-27T12:42:57.403Z"
   },
   {
    "duration": 14,
    "start_time": "2021-10-27T12:42:57.462Z"
   },
   {
    "duration": 29,
    "start_time": "2021-10-27T12:42:57.478Z"
   },
   {
    "duration": 9,
    "start_time": "2021-10-27T12:42:57.509Z"
   },
   {
    "duration": 48,
    "start_time": "2021-10-27T12:42:57.520Z"
   },
   {
    "duration": 9,
    "start_time": "2021-10-27T12:42:57.570Z"
   },
   {
    "duration": 4,
    "start_time": "2021-10-27T12:42:57.581Z"
   },
   {
    "duration": 20,
    "start_time": "2021-10-27T12:42:57.587Z"
   },
   {
    "duration": 2,
    "start_time": "2021-10-27T12:42:57.609Z"
   },
   {
    "duration": 5,
    "start_time": "2021-10-27T12:42:57.613Z"
   },
   {
    "duration": 3,
    "start_time": "2021-10-27T12:42:57.645Z"
   },
   {
    "duration": 14,
    "start_time": "2021-10-27T12:42:57.650Z"
   },
   {
    "duration": 8,
    "start_time": "2021-10-27T12:42:57.671Z"
   },
   {
    "duration": 13,
    "start_time": "2021-10-27T12:42:57.681Z"
   },
   {
    "duration": 10,
    "start_time": "2021-10-27T12:42:57.696Z"
   },
   {
    "duration": 53,
    "start_time": "2021-10-27T12:42:57.708Z"
   },
   {
    "duration": 45,
    "start_time": "2021-10-27T12:42:57.763Z"
   },
   {
    "duration": 2,
    "start_time": "2021-10-27T12:42:57.810Z"
   },
   {
    "duration": 34,
    "start_time": "2021-10-27T12:42:57.814Z"
   },
   {
    "duration": 31,
    "start_time": "2021-10-27T12:42:57.854Z"
   },
   {
    "duration": 17,
    "start_time": "2021-10-27T12:42:57.887Z"
   },
   {
    "duration": 30,
    "start_time": "2021-10-27T12:42:57.906Z"
   },
   {
    "duration": 16,
    "start_time": "2021-10-27T12:42:57.938Z"
   },
   {
    "duration": 434,
    "start_time": "2021-10-27T12:42:57.956Z"
   },
   {
    "duration": 24,
    "start_time": "2021-10-27T12:42:58.392Z"
   },
   {
    "duration": 47,
    "start_time": "2021-10-27T12:42:58.418Z"
   },
   {
    "duration": 315,
    "start_time": "2021-10-27T12:42:58.468Z"
   },
   {
    "duration": 25,
    "start_time": "2021-10-27T12:42:58.785Z"
   },
   {
    "duration": 306,
    "start_time": "2021-10-27T12:42:58.812Z"
   },
   {
    "duration": 7911,
    "start_time": "2021-10-27T12:42:59.120Z"
   },
   {
    "duration": 232,
    "start_time": "2021-10-27T12:43:06.801Z"
   },
   {
    "duration": 226,
    "start_time": "2021-10-27T12:43:06.809Z"
   },
   {
    "duration": 219,
    "start_time": "2021-10-27T12:43:06.817Z"
   },
   {
    "duration": 440,
    "start_time": "2021-10-27T12:43:54.924Z"
   },
   {
    "duration": 27,
    "start_time": "2021-10-27T12:43:55.366Z"
   },
   {
    "duration": 26,
    "start_time": "2021-10-27T12:43:55.396Z"
   },
   {
    "duration": 3,
    "start_time": "2021-10-27T12:43:55.424Z"
   },
   {
    "duration": 42,
    "start_time": "2021-10-27T12:43:55.429Z"
   },
   {
    "duration": 23,
    "start_time": "2021-10-27T12:43:55.473Z"
   },
   {
    "duration": 6,
    "start_time": "2021-10-27T12:43:55.497Z"
   },
   {
    "duration": 109,
    "start_time": "2021-10-27T12:43:55.505Z"
   },
   {
    "duration": 33,
    "start_time": "2021-10-27T12:43:55.616Z"
   },
   {
    "duration": 33,
    "start_time": "2021-10-27T12:43:55.651Z"
   },
   {
    "duration": 7,
    "start_time": "2021-10-27T12:43:55.685Z"
   },
   {
    "duration": 11,
    "start_time": "2021-10-27T12:43:55.693Z"
   },
   {
    "duration": 8,
    "start_time": "2021-10-27T12:43:55.706Z"
   },
   {
    "duration": 18,
    "start_time": "2021-10-27T12:43:55.716Z"
   },
   {
    "duration": 26,
    "start_time": "2021-10-27T12:43:55.746Z"
   },
   {
    "duration": 19,
    "start_time": "2021-10-27T12:43:55.775Z"
   },
   {
    "duration": 73,
    "start_time": "2021-10-27T12:43:55.796Z"
   },
   {
    "duration": 20,
    "start_time": "2021-10-27T12:43:55.870Z"
   },
   {
    "duration": 17,
    "start_time": "2021-10-27T12:43:55.892Z"
   },
   {
    "duration": 36,
    "start_time": "2021-10-27T12:43:55.911Z"
   },
   {
    "duration": 41,
    "start_time": "2021-10-27T12:43:55.949Z"
   },
   {
    "duration": 11,
    "start_time": "2021-10-27T12:43:55.991Z"
   },
   {
    "duration": 14,
    "start_time": "2021-10-27T12:43:56.006Z"
   },
   {
    "duration": 12,
    "start_time": "2021-10-27T12:43:56.046Z"
   },
   {
    "duration": 12,
    "start_time": "2021-10-27T12:43:56.060Z"
   },
   {
    "duration": 44,
    "start_time": "2021-10-27T12:43:56.074Z"
   },
   {
    "duration": 9,
    "start_time": "2021-10-27T12:43:56.120Z"
   },
   {
    "duration": 35,
    "start_time": "2021-10-27T12:43:56.144Z"
   },
   {
    "duration": 9,
    "start_time": "2021-10-27T12:43:56.181Z"
   },
   {
    "duration": 32,
    "start_time": "2021-10-27T12:43:56.192Z"
   },
   {
    "duration": 27,
    "start_time": "2021-10-27T12:43:56.226Z"
   },
   {
    "duration": 14,
    "start_time": "2021-10-27T12:43:56.257Z"
   },
   {
    "duration": 42,
    "start_time": "2021-10-27T12:43:56.273Z"
   },
   {
    "duration": 21,
    "start_time": "2021-10-27T12:43:56.317Z"
   },
   {
    "duration": 31,
    "start_time": "2021-10-27T12:43:56.340Z"
   },
   {
    "duration": 33,
    "start_time": "2021-10-27T12:43:56.372Z"
   },
   {
    "duration": 29,
    "start_time": "2021-10-27T12:43:56.407Z"
   },
   {
    "duration": 28,
    "start_time": "2021-10-27T12:43:56.438Z"
   },
   {
    "duration": 35,
    "start_time": "2021-10-27T12:43:56.468Z"
   },
   {
    "duration": 22,
    "start_time": "2021-10-27T12:43:56.504Z"
   },
   {
    "duration": 45,
    "start_time": "2021-10-27T12:43:56.528Z"
   },
   {
    "duration": 39,
    "start_time": "2021-10-27T12:43:56.574Z"
   },
   {
    "duration": 2,
    "start_time": "2021-10-27T12:43:56.615Z"
   },
   {
    "duration": 36,
    "start_time": "2021-10-27T12:43:56.619Z"
   },
   {
    "duration": 44,
    "start_time": "2021-10-27T12:43:56.657Z"
   },
   {
    "duration": 27,
    "start_time": "2021-10-27T12:43:56.703Z"
   },
   {
    "duration": 38,
    "start_time": "2021-10-27T12:43:56.731Z"
   },
   {
    "duration": 18,
    "start_time": "2021-10-27T12:43:56.771Z"
   },
   {
    "duration": 483,
    "start_time": "2021-10-27T12:43:56.791Z"
   },
   {
    "duration": 24,
    "start_time": "2021-10-27T12:43:57.275Z"
   },
   {
    "duration": 21,
    "start_time": "2021-10-27T12:43:57.301Z"
   },
   {
    "duration": 329,
    "start_time": "2021-10-27T12:43:57.324Z"
   },
   {
    "duration": 24,
    "start_time": "2021-10-27T12:43:57.655Z"
   },
   {
    "duration": 316,
    "start_time": "2021-10-27T12:43:57.682Z"
   },
   {
    "duration": 10092,
    "start_time": "2021-10-27T12:43:58.000Z"
   },
   {
    "duration": 257,
    "start_time": "2021-10-27T12:44:07.837Z"
   },
   {
    "duration": 249,
    "start_time": "2021-10-27T12:44:07.845Z"
   },
   {
    "duration": 245,
    "start_time": "2021-10-27T12:44:07.850Z"
   },
   {
    "duration": 436,
    "start_time": "2021-10-27T12:45:12.168Z"
   },
   {
    "duration": 25,
    "start_time": "2021-10-27T12:45:12.606Z"
   },
   {
    "duration": 28,
    "start_time": "2021-10-27T12:45:12.633Z"
   },
   {
    "duration": 3,
    "start_time": "2021-10-27T12:45:12.663Z"
   },
   {
    "duration": 32,
    "start_time": "2021-10-27T12:45:12.668Z"
   },
   {
    "duration": 24,
    "start_time": "2021-10-27T12:45:12.701Z"
   },
   {
    "duration": 21,
    "start_time": "2021-10-27T12:45:12.726Z"
   },
   {
    "duration": 98,
    "start_time": "2021-10-27T12:45:12.751Z"
   },
   {
    "duration": 29,
    "start_time": "2021-10-27T12:45:12.851Z"
   },
   {
    "duration": 132,
    "start_time": "2021-10-27T12:45:12.882Z"
   },
   {
    "duration": 8,
    "start_time": "2021-10-27T12:45:13.016Z"
   },
   {
    "duration": 8,
    "start_time": "2021-10-27T12:45:13.045Z"
   },
   {
    "duration": 6,
    "start_time": "2021-10-27T12:45:13.056Z"
   },
   {
    "duration": 5,
    "start_time": "2021-10-27T12:45:13.065Z"
   },
   {
    "duration": 23,
    "start_time": "2021-10-27T12:45:13.072Z"
   },
   {
    "duration": 18,
    "start_time": "2021-10-27T12:45:13.097Z"
   },
   {
    "duration": 68,
    "start_time": "2021-10-27T12:45:13.117Z"
   },
   {
    "duration": 21,
    "start_time": "2021-10-27T12:45:13.186Z"
   },
   {
    "duration": 39,
    "start_time": "2021-10-27T12:45:13.209Z"
   },
   {
    "duration": 17,
    "start_time": "2021-10-27T12:45:13.250Z"
   },
   {
    "duration": 39,
    "start_time": "2021-10-27T12:45:13.270Z"
   },
   {
    "duration": 39,
    "start_time": "2021-10-27T12:45:13.311Z"
   },
   {
    "duration": 16,
    "start_time": "2021-10-27T12:45:13.355Z"
   },
   {
    "duration": 7,
    "start_time": "2021-10-27T12:45:13.374Z"
   },
   {
    "duration": 10,
    "start_time": "2021-10-27T12:45:13.382Z"
   },
   {
    "duration": 52,
    "start_time": "2021-10-27T12:45:13.394Z"
   },
   {
    "duration": 21,
    "start_time": "2021-10-27T12:45:13.448Z"
   },
   {
    "duration": 30,
    "start_time": "2021-10-27T12:45:13.471Z"
   },
   {
    "duration": 9,
    "start_time": "2021-10-27T12:45:13.502Z"
   },
   {
    "duration": 38,
    "start_time": "2021-10-27T12:45:13.513Z"
   },
   {
    "duration": 18,
    "start_time": "2021-10-27T12:45:13.555Z"
   },
   {
    "duration": 7,
    "start_time": "2021-10-27T12:45:13.575Z"
   },
   {
    "duration": 20,
    "start_time": "2021-10-27T12:45:13.584Z"
   },
   {
    "duration": 2,
    "start_time": "2021-10-27T12:45:13.606Z"
   },
   {
    "duration": 8,
    "start_time": "2021-10-27T12:45:13.609Z"
   },
   {
    "duration": 5,
    "start_time": "2021-10-27T12:45:13.618Z"
   },
   {
    "duration": 12,
    "start_time": "2021-10-27T12:45:13.646Z"
   },
   {
    "duration": 8,
    "start_time": "2021-10-27T12:45:13.660Z"
   },
   {
    "duration": 12,
    "start_time": "2021-10-27T12:45:13.670Z"
   },
   {
    "duration": 15,
    "start_time": "2021-10-27T12:45:13.683Z"
   },
   {
    "duration": 45,
    "start_time": "2021-10-27T12:45:13.700Z"
   },
   {
    "duration": 51,
    "start_time": "2021-10-27T12:45:13.748Z"
   },
   {
    "duration": 3,
    "start_time": "2021-10-27T12:45:13.801Z"
   },
   {
    "duration": 7,
    "start_time": "2021-10-27T12:45:13.806Z"
   },
   {
    "duration": 58,
    "start_time": "2021-10-27T12:45:13.815Z"
   },
   {
    "duration": 4,
    "start_time": "2021-10-27T12:45:13.875Z"
   },
   {
    "duration": 13,
    "start_time": "2021-10-27T12:45:13.881Z"
   },
   {
    "duration": 7,
    "start_time": "2021-10-27T12:45:13.895Z"
   },
   {
    "duration": 522,
    "start_time": "2021-10-27T12:45:13.903Z"
   },
   {
    "duration": 43,
    "start_time": "2021-10-27T12:45:14.427Z"
   },
   {
    "duration": 21,
    "start_time": "2021-10-27T12:45:14.471Z"
   },
   {
    "duration": 360,
    "start_time": "2021-10-27T12:45:14.494Z"
   },
   {
    "duration": 24,
    "start_time": "2021-10-27T12:45:14.856Z"
   },
   {
    "duration": 337,
    "start_time": "2021-10-27T12:45:14.883Z"
   },
   {
    "duration": 7850,
    "start_time": "2021-10-27T12:45:15.222Z"
   },
   {
    "duration": 233,
    "start_time": "2021-10-27T12:45:22.841Z"
   },
   {
    "duration": 227,
    "start_time": "2021-10-27T12:45:22.848Z"
   },
   {
    "duration": 222,
    "start_time": "2021-10-27T12:45:22.854Z"
   },
   {
    "duration": 437,
    "start_time": "2021-10-27T12:46:29.437Z"
   },
   {
    "duration": 26,
    "start_time": "2021-10-27T12:46:29.877Z"
   },
   {
    "duration": 27,
    "start_time": "2021-10-27T12:46:29.905Z"
   },
   {
    "duration": 2,
    "start_time": "2021-10-27T12:46:29.934Z"
   },
   {
    "duration": 35,
    "start_time": "2021-10-27T12:46:29.938Z"
   },
   {
    "duration": 24,
    "start_time": "2021-10-27T12:46:29.974Z"
   },
   {
    "duration": 5,
    "start_time": "2021-10-27T12:46:30.000Z"
   },
   {
    "duration": 108,
    "start_time": "2021-10-27T12:46:30.007Z"
   },
   {
    "duration": 34,
    "start_time": "2021-10-27T12:46:30.117Z"
   },
   {
    "duration": 31,
    "start_time": "2021-10-27T12:46:30.154Z"
   },
   {
    "duration": 7,
    "start_time": "2021-10-27T12:46:30.187Z"
   },
   {
    "duration": 22,
    "start_time": "2021-10-27T12:46:30.195Z"
   },
   {
    "duration": 12,
    "start_time": "2021-10-27T12:46:30.219Z"
   },
   {
    "duration": 14,
    "start_time": "2021-10-27T12:46:30.232Z"
   },
   {
    "duration": 46,
    "start_time": "2021-10-27T12:46:30.249Z"
   },
   {
    "duration": 19,
    "start_time": "2021-10-27T12:46:30.297Z"
   },
   {
    "duration": 40,
    "start_time": "2021-10-27T12:46:30.318Z"
   },
   {
    "duration": 20,
    "start_time": "2021-10-27T12:46:30.360Z"
   },
   {
    "duration": 24,
    "start_time": "2021-10-27T12:46:30.382Z"
   },
   {
    "duration": 25,
    "start_time": "2021-10-27T12:46:30.408Z"
   },
   {
    "duration": 52,
    "start_time": "2021-10-27T12:46:30.435Z"
   },
   {
    "duration": 13,
    "start_time": "2021-10-27T12:46:30.488Z"
   },
   {
    "duration": 21,
    "start_time": "2021-10-27T12:46:30.504Z"
   },
   {
    "duration": 12,
    "start_time": "2021-10-27T12:46:30.544Z"
   },
   {
    "duration": 11,
    "start_time": "2021-10-27T12:46:30.559Z"
   },
   {
    "duration": 32,
    "start_time": "2021-10-27T12:46:30.572Z"
   },
   {
    "duration": 9,
    "start_time": "2021-10-27T12:46:30.606Z"
   },
   {
    "duration": 58,
    "start_time": "2021-10-27T12:46:30.616Z"
   },
   {
    "duration": 10,
    "start_time": "2021-10-27T12:46:30.675Z"
   },
   {
    "duration": 32,
    "start_time": "2021-10-27T12:46:30.686Z"
   },
   {
    "duration": 26,
    "start_time": "2021-10-27T12:46:30.720Z"
   },
   {
    "duration": 7,
    "start_time": "2021-10-27T12:46:30.748Z"
   },
   {
    "duration": 33,
    "start_time": "2021-10-27T12:46:30.757Z"
   },
   {
    "duration": 8,
    "start_time": "2021-10-27T12:46:30.793Z"
   },
   {
    "duration": 10,
    "start_time": "2021-10-27T12:46:30.803Z"
   },
   {
    "duration": 9,
    "start_time": "2021-10-27T12:46:30.815Z"
   },
   {
    "duration": 31,
    "start_time": "2021-10-27T12:46:30.826Z"
   },
   {
    "duration": 11,
    "start_time": "2021-10-27T12:46:30.859Z"
   },
   {
    "duration": 19,
    "start_time": "2021-10-27T12:46:30.872Z"
   },
   {
    "duration": 11,
    "start_time": "2021-10-27T12:46:30.893Z"
   },
   {
    "duration": 25,
    "start_time": "2021-10-27T12:46:30.906Z"
   },
   {
    "duration": 54,
    "start_time": "2021-10-27T12:46:30.932Z"
   },
   {
    "duration": 5,
    "start_time": "2021-10-27T12:46:30.987Z"
   },
   {
    "duration": 16,
    "start_time": "2021-10-27T12:46:30.993Z"
   },
   {
    "duration": 43,
    "start_time": "2021-10-27T12:46:31.011Z"
   },
   {
    "duration": 6,
    "start_time": "2021-10-27T12:46:31.056Z"
   },
   {
    "duration": 26,
    "start_time": "2021-10-27T12:46:31.064Z"
   },
   {
    "duration": 14,
    "start_time": "2021-10-27T12:46:31.092Z"
   },
   {
    "duration": 437,
    "start_time": "2021-10-27T12:46:31.108Z"
   },
   {
    "duration": 27,
    "start_time": "2021-10-27T12:46:31.547Z"
   },
   {
    "duration": 22,
    "start_time": "2021-10-27T12:46:31.576Z"
   },
   {
    "duration": 322,
    "start_time": "2021-10-27T12:46:31.600Z"
   },
   {
    "duration": 36,
    "start_time": "2021-10-27T12:46:31.924Z"
   },
   {
    "duration": 318,
    "start_time": "2021-10-27T12:46:31.962Z"
   },
   {
    "duration": 20,
    "start_time": "2021-10-27T12:46:32.282Z"
   },
   {
    "duration": 7679,
    "start_time": "2021-10-27T12:46:32.304Z"
   },
   {
    "duration": 261,
    "start_time": "2021-10-27T12:46:39.724Z"
   },
   {
    "duration": 258,
    "start_time": "2021-10-27T12:46:39.728Z"
   },
   {
    "duration": 289,
    "start_time": "2021-10-27T12:47:45.343Z"
   },
   {
    "duration": 410,
    "start_time": "2021-10-27T12:51:56.038Z"
   },
   {
    "duration": 26,
    "start_time": "2021-10-27T12:51:56.450Z"
   },
   {
    "duration": 50,
    "start_time": "2021-10-27T12:51:56.478Z"
   },
   {
    "duration": 3,
    "start_time": "2021-10-27T12:51:56.531Z"
   },
   {
    "duration": 46,
    "start_time": "2021-10-27T12:51:56.536Z"
   },
   {
    "duration": 25,
    "start_time": "2021-10-27T12:51:56.584Z"
   },
   {
    "duration": 4,
    "start_time": "2021-10-27T12:51:56.611Z"
   },
   {
    "duration": 94,
    "start_time": "2021-10-27T12:51:56.617Z"
   },
   {
    "duration": 32,
    "start_time": "2021-10-27T12:51:56.713Z"
   },
   {
    "duration": 28,
    "start_time": "2021-10-27T12:51:56.747Z"
   },
   {
    "duration": 7,
    "start_time": "2021-10-27T12:51:56.777Z"
   },
   {
    "duration": 28,
    "start_time": "2021-10-27T12:51:56.786Z"
   },
   {
    "duration": 22,
    "start_time": "2021-10-27T12:51:56.816Z"
   },
   {
    "duration": 31,
    "start_time": "2021-10-27T12:51:56.840Z"
   },
   {
    "duration": 45,
    "start_time": "2021-10-27T12:51:56.874Z"
   },
   {
    "duration": 23,
    "start_time": "2021-10-27T12:51:56.921Z"
   },
   {
    "duration": 48,
    "start_time": "2021-10-27T12:51:56.946Z"
   },
   {
    "duration": 21,
    "start_time": "2021-10-27T12:51:56.996Z"
   },
   {
    "duration": 53,
    "start_time": "2021-10-27T12:51:57.019Z"
   },
   {
    "duration": 15,
    "start_time": "2021-10-27T12:51:57.074Z"
   },
   {
    "duration": 43,
    "start_time": "2021-10-27T12:51:57.091Z"
   },
   {
    "duration": 15,
    "start_time": "2021-10-27T12:51:57.135Z"
   },
   {
    "duration": 22,
    "start_time": "2021-10-27T12:51:57.156Z"
   },
   {
    "duration": 30,
    "start_time": "2021-10-27T12:51:57.181Z"
   },
   {
    "duration": 25,
    "start_time": "2021-10-27T12:51:57.213Z"
   },
   {
    "duration": 55,
    "start_time": "2021-10-27T12:51:57.239Z"
   },
   {
    "duration": 9,
    "start_time": "2021-10-27T12:51:57.296Z"
   },
   {
    "duration": 37,
    "start_time": "2021-10-27T12:51:57.306Z"
   },
   {
    "duration": 12,
    "start_time": "2021-10-27T12:51:57.346Z"
   },
   {
    "duration": 45,
    "start_time": "2021-10-27T12:51:57.360Z"
   },
   {
    "duration": 14,
    "start_time": "2021-10-27T12:51:57.407Z"
   },
   {
    "duration": 22,
    "start_time": "2021-10-27T12:51:57.423Z"
   },
   {
    "duration": 45,
    "start_time": "2021-10-27T12:51:57.447Z"
   },
   {
    "duration": 2,
    "start_time": "2021-10-27T12:51:57.493Z"
   },
   {
    "duration": 26,
    "start_time": "2021-10-27T12:51:57.497Z"
   },
   {
    "duration": 27,
    "start_time": "2021-10-27T12:51:57.525Z"
   },
   {
    "duration": 27,
    "start_time": "2021-10-27T12:51:57.554Z"
   },
   {
    "duration": 33,
    "start_time": "2021-10-27T12:51:57.583Z"
   },
   {
    "duration": 28,
    "start_time": "2021-10-27T12:51:57.618Z"
   },
   {
    "duration": 45,
    "start_time": "2021-10-27T12:51:57.648Z"
   },
   {
    "duration": 39,
    "start_time": "2021-10-27T12:51:57.694Z"
   },
   {
    "duration": 40,
    "start_time": "2021-10-27T12:51:57.735Z"
   },
   {
    "duration": 12,
    "start_time": "2021-10-27T12:51:57.777Z"
   },
   {
    "duration": 26,
    "start_time": "2021-10-27T12:51:57.791Z"
   },
   {
    "duration": 43,
    "start_time": "2021-10-27T12:51:57.819Z"
   },
   {
    "duration": 12,
    "start_time": "2021-10-27T12:51:57.864Z"
   },
   {
    "duration": 32,
    "start_time": "2021-10-27T12:51:57.877Z"
   },
   {
    "duration": 20,
    "start_time": "2021-10-27T12:51:57.910Z"
   },
   {
    "duration": 414,
    "start_time": "2021-10-27T12:51:57.932Z"
   },
   {
    "duration": 22,
    "start_time": "2021-10-27T12:51:58.348Z"
   },
   {
    "duration": 30,
    "start_time": "2021-10-27T12:51:58.372Z"
   },
   {
    "duration": 406,
    "start_time": "2021-10-27T12:51:58.404Z"
   },
   {
    "duration": 19,
    "start_time": "2021-10-27T12:51:58.812Z"
   },
   {
    "duration": 304,
    "start_time": "2021-10-27T12:51:58.833Z"
   },
   {
    "duration": 23,
    "start_time": "2021-10-27T12:51:59.139Z"
   },
   {
    "duration": 301,
    "start_time": "2021-10-27T12:51:59.164Z"
   },
   {
    "duration": 19,
    "start_time": "2021-10-27T12:51:59.467Z"
   },
   {
    "duration": 17,
    "start_time": "2021-10-27T12:51:59.488Z"
   },
   {
    "duration": 397,
    "start_time": "2021-10-27T12:53:44.047Z"
   },
   {
    "duration": 27,
    "start_time": "2021-10-27T12:53:44.446Z"
   },
   {
    "duration": 27,
    "start_time": "2021-10-27T12:53:44.475Z"
   },
   {
    "duration": 3,
    "start_time": "2021-10-27T12:53:44.504Z"
   },
   {
    "duration": 53,
    "start_time": "2021-10-27T12:53:44.509Z"
   },
   {
    "duration": 23,
    "start_time": "2021-10-27T12:53:44.564Z"
   },
   {
    "duration": 4,
    "start_time": "2021-10-27T12:53:44.589Z"
   },
   {
    "duration": 90,
    "start_time": "2021-10-27T12:53:44.596Z"
   },
   {
    "duration": 23,
    "start_time": "2021-10-27T12:53:44.688Z"
   },
   {
    "duration": 43,
    "start_time": "2021-10-27T12:53:44.712Z"
   },
   {
    "duration": 6,
    "start_time": "2021-10-27T12:53:44.757Z"
   },
   {
    "duration": 6,
    "start_time": "2021-10-27T12:53:44.765Z"
   },
   {
    "duration": 7,
    "start_time": "2021-10-27T12:53:44.773Z"
   },
   {
    "duration": 8,
    "start_time": "2021-10-27T12:53:44.781Z"
   },
   {
    "duration": 23,
    "start_time": "2021-10-27T12:53:44.791Z"
   },
   {
    "duration": 33,
    "start_time": "2021-10-27T12:53:44.816Z"
   },
   {
    "duration": 32,
    "start_time": "2021-10-27T12:53:44.850Z"
   },
   {
    "duration": 19,
    "start_time": "2021-10-27T12:53:44.883Z"
   },
   {
    "duration": 16,
    "start_time": "2021-10-27T12:53:44.903Z"
   },
   {
    "duration": 15,
    "start_time": "2021-10-27T12:53:44.945Z"
   },
   {
    "duration": 33,
    "start_time": "2021-10-27T12:53:44.962Z"
   },
   {
    "duration": 12,
    "start_time": "2021-10-27T12:53:44.997Z"
   },
   {
    "duration": 40,
    "start_time": "2021-10-27T12:53:45.013Z"
   },
   {
    "duration": 7,
    "start_time": "2021-10-27T12:53:45.055Z"
   },
   {
    "duration": 9,
    "start_time": "2021-10-27T12:53:45.064Z"
   },
   {
    "duration": 30,
    "start_time": "2021-10-27T12:53:45.075Z"
   },
   {
    "duration": 9,
    "start_time": "2021-10-27T12:53:45.107Z"
   },
   {
    "duration": 45,
    "start_time": "2021-10-27T12:53:45.118Z"
   },
   {
    "duration": 9,
    "start_time": "2021-10-27T12:53:45.164Z"
   },
   {
    "duration": 18,
    "start_time": "2021-10-27T12:53:45.175Z"
   },
   {
    "duration": 10,
    "start_time": "2021-10-27T12:53:45.195Z"
   },
   {
    "duration": 8,
    "start_time": "2021-10-27T12:53:45.207Z"
   },
   {
    "duration": 45,
    "start_time": "2021-10-27T12:53:45.216Z"
   },
   {
    "duration": 2,
    "start_time": "2021-10-27T12:53:45.262Z"
   },
   {
    "duration": 7,
    "start_time": "2021-10-27T12:53:45.266Z"
   },
   {
    "duration": 6,
    "start_time": "2021-10-27T12:53:45.275Z"
   },
   {
    "duration": 10,
    "start_time": "2021-10-27T12:53:45.282Z"
   },
   {
    "duration": 9,
    "start_time": "2021-10-27T12:53:45.294Z"
   },
   {
    "duration": 41,
    "start_time": "2021-10-27T12:53:45.304Z"
   },
   {
    "duration": 9,
    "start_time": "2021-10-27T12:53:45.347Z"
   },
   {
    "duration": 22,
    "start_time": "2021-10-27T12:53:45.358Z"
   },
   {
    "duration": 71,
    "start_time": "2021-10-27T12:53:45.381Z"
   },
   {
    "duration": 2,
    "start_time": "2021-10-27T12:53:45.454Z"
   },
   {
    "duration": 11,
    "start_time": "2021-10-27T12:53:45.458Z"
   },
   {
    "duration": 22,
    "start_time": "2021-10-27T12:53:45.471Z"
   },
   {
    "duration": 6,
    "start_time": "2021-10-27T12:53:45.495Z"
   },
   {
    "duration": 15,
    "start_time": "2021-10-27T12:53:45.503Z"
   },
   {
    "duration": 26,
    "start_time": "2021-10-27T12:53:45.520Z"
   },
   {
    "duration": 412,
    "start_time": "2021-10-27T12:53:45.548Z"
   },
   {
    "duration": 22,
    "start_time": "2021-10-27T12:53:45.962Z"
   },
   {
    "duration": 21,
    "start_time": "2021-10-27T12:53:45.986Z"
   },
   {
    "duration": 276,
    "start_time": "2021-10-27T12:53:46.008Z"
   },
   {
    "duration": 20,
    "start_time": "2021-10-27T12:53:46.285Z"
   },
   {
    "duration": 289,
    "start_time": "2021-10-27T12:53:46.307Z"
   },
   {
    "duration": 20,
    "start_time": "2021-10-27T12:53:46.599Z"
   },
   {
    "duration": 281,
    "start_time": "2021-10-27T12:53:46.621Z"
   },
   {
    "duration": 17,
    "start_time": "2021-10-27T12:53:46.904Z"
   },
   {
    "duration": 34,
    "start_time": "2021-10-27T12:53:46.923Z"
   },
   {
    "duration": 2057,
    "start_time": "2022-08-22T11:27:29.357Z"
   },
   {
    "duration": 33,
    "start_time": "2022-08-22T11:27:31.416Z"
   },
   {
    "duration": 35,
    "start_time": "2022-08-22T11:27:31.450Z"
   },
   {
    "duration": 10,
    "start_time": "2022-08-22T11:27:31.487Z"
   },
   {
    "duration": 46,
    "start_time": "2022-08-22T11:27:31.499Z"
   },
   {
    "duration": 43,
    "start_time": "2022-08-22T11:27:31.548Z"
   },
   {
    "duration": 11,
    "start_time": "2022-08-22T11:27:31.593Z"
   },
   {
    "duration": 113,
    "start_time": "2022-08-22T11:27:31.605Z"
   },
   {
    "duration": 26,
    "start_time": "2022-08-22T11:27:31.720Z"
   },
   {
    "duration": 98,
    "start_time": "2022-08-22T11:27:31.749Z"
   },
   {
    "duration": 23,
    "start_time": "2022-08-22T11:27:31.849Z"
   },
   {
    "duration": 24,
    "start_time": "2022-08-22T11:27:31.874Z"
   },
   {
    "duration": 17,
    "start_time": "2022-08-22T11:27:31.899Z"
   },
   {
    "duration": 18,
    "start_time": "2022-08-22T11:27:31.918Z"
   },
   {
    "duration": 46,
    "start_time": "2022-08-22T11:27:31.938Z"
   },
   {
    "duration": 17,
    "start_time": "2022-08-22T11:27:31.986Z"
   },
   {
    "duration": 58,
    "start_time": "2022-08-22T11:27:32.005Z"
   },
   {
    "duration": 23,
    "start_time": "2022-08-22T11:27:32.065Z"
   },
   {
    "duration": 32,
    "start_time": "2022-08-22T11:27:32.090Z"
   },
   {
    "duration": 40,
    "start_time": "2022-08-22T11:27:32.124Z"
   },
   {
    "duration": 77,
    "start_time": "2022-08-22T11:27:32.165Z"
   },
   {
    "duration": 18,
    "start_time": "2022-08-22T11:27:32.244Z"
   },
   {
    "duration": 33,
    "start_time": "2022-08-22T11:27:32.264Z"
   },
   {
    "duration": 26,
    "start_time": "2022-08-22T11:27:32.298Z"
   },
   {
    "duration": 13,
    "start_time": "2022-08-22T11:27:32.326Z"
   },
   {
    "duration": 58,
    "start_time": "2022-08-22T11:27:32.341Z"
   },
   {
    "duration": 10,
    "start_time": "2022-08-22T11:27:32.401Z"
   },
   {
    "duration": 35,
    "start_time": "2022-08-22T11:27:32.414Z"
   },
   {
    "duration": 9,
    "start_time": "2022-08-22T11:27:32.451Z"
   },
   {
    "duration": 39,
    "start_time": "2022-08-22T11:27:32.462Z"
   },
   {
    "duration": 30,
    "start_time": "2022-08-22T11:27:32.503Z"
   },
   {
    "duration": 29,
    "start_time": "2022-08-22T11:27:32.535Z"
   },
   {
    "duration": 43,
    "start_time": "2022-08-22T11:27:32.566Z"
   },
   {
    "duration": 22,
    "start_time": "2022-08-22T11:27:32.611Z"
   },
   {
    "duration": 46,
    "start_time": "2022-08-22T11:27:32.634Z"
   },
   {
    "duration": 18,
    "start_time": "2022-08-22T11:27:32.682Z"
   },
   {
    "duration": 41,
    "start_time": "2022-08-22T11:27:32.703Z"
   },
   {
    "duration": 36,
    "start_time": "2022-08-22T11:27:32.746Z"
   },
   {
    "duration": 40,
    "start_time": "2022-08-22T11:27:32.784Z"
   },
   {
    "duration": 16,
    "start_time": "2022-08-22T11:27:32.827Z"
   },
   {
    "duration": 29,
    "start_time": "2022-08-22T11:27:32.845Z"
   },
   {
    "duration": 60,
    "start_time": "2022-08-22T11:27:32.876Z"
   },
   {
    "duration": 5,
    "start_time": "2022-08-22T11:27:32.937Z"
   },
   {
    "duration": 33,
    "start_time": "2022-08-22T11:27:32.943Z"
   },
   {
    "duration": 52,
    "start_time": "2022-08-22T11:27:32.977Z"
   },
   {
    "duration": 82,
    "start_time": "2022-08-22T11:27:33.031Z"
   },
   {
    "duration": 133,
    "start_time": "2022-08-22T11:27:33.115Z"
   },
   {
    "duration": 18,
    "start_time": "2022-08-22T11:27:33.249Z"
   },
   {
    "duration": 302,
    "start_time": "2022-08-22T11:27:33.268Z"
   },
   {
    "duration": 24,
    "start_time": "2022-08-22T11:27:33.571Z"
   },
   {
    "duration": 33,
    "start_time": "2022-08-22T11:27:33.597Z"
   },
   {
    "duration": 252,
    "start_time": "2022-08-22T11:27:33.632Z"
   },
   {
    "duration": 20,
    "start_time": "2022-08-22T11:27:33.886Z"
   },
   {
    "duration": 225,
    "start_time": "2022-08-22T11:27:33.908Z"
   },
   {
    "duration": 28,
    "start_time": "2022-08-22T11:27:34.135Z"
   },
   {
    "duration": 258,
    "start_time": "2022-08-22T11:27:34.164Z"
   },
   {
    "duration": 15,
    "start_time": "2022-08-22T11:27:34.424Z"
   },
   {
    "duration": 29,
    "start_time": "2022-08-22T11:27:34.441Z"
   },
   {
    "duration": 1072,
    "start_time": "2022-08-22T11:31:38.556Z"
   },
   {
    "duration": 1503,
    "start_time": "2022-08-22T11:31:54.766Z"
   },
   {
    "duration": 32,
    "start_time": "2022-08-22T11:31:56.271Z"
   },
   {
    "duration": 31,
    "start_time": "2022-08-22T11:31:56.305Z"
   },
   {
    "duration": 2,
    "start_time": "2022-08-22T11:31:56.338Z"
   },
   {
    "duration": 61,
    "start_time": "2022-08-22T11:31:56.342Z"
   },
   {
    "duration": 21,
    "start_time": "2022-08-22T11:31:56.405Z"
   },
   {
    "duration": 5,
    "start_time": "2022-08-22T11:31:56.428Z"
   },
   {
    "duration": 105,
    "start_time": "2022-08-22T11:31:56.434Z"
   },
   {
    "duration": 23,
    "start_time": "2022-08-22T11:31:56.541Z"
   },
   {
    "duration": 27,
    "start_time": "2022-08-22T11:31:56.565Z"
   },
   {
    "duration": 7,
    "start_time": "2022-08-22T11:31:56.593Z"
   },
   {
    "duration": 5,
    "start_time": "2022-08-22T11:31:56.602Z"
   },
   {
    "duration": 12,
    "start_time": "2022-08-22T11:31:56.609Z"
   },
   {
    "duration": 2,
    "start_time": "2022-08-22T11:31:56.625Z"
   },
   {
    "duration": 29,
    "start_time": "2022-08-22T11:31:56.629Z"
   },
   {
    "duration": 33,
    "start_time": "2022-08-22T11:31:56.660Z"
   },
   {
    "duration": 19,
    "start_time": "2022-08-22T11:31:56.695Z"
   },
   {
    "duration": 67,
    "start_time": "2022-08-22T11:31:56.716Z"
   },
   {
    "duration": 22,
    "start_time": "2022-08-22T11:31:56.784Z"
   },
   {
    "duration": 18,
    "start_time": "2022-08-22T11:31:56.807Z"
   },
   {
    "duration": 31,
    "start_time": "2022-08-22T11:31:56.827Z"
   },
   {
    "duration": 48,
    "start_time": "2022-08-22T11:31:56.859Z"
   },
   {
    "duration": 15,
    "start_time": "2022-08-22T11:31:56.909Z"
   },
   {
    "duration": 41,
    "start_time": "2022-08-22T11:31:56.926Z"
   },
   {
    "duration": 15,
    "start_time": "2022-08-22T11:31:56.969Z"
   },
   {
    "duration": 10,
    "start_time": "2022-08-22T11:31:56.985Z"
   },
   {
    "duration": 45,
    "start_time": "2022-08-22T11:31:56.997Z"
   },
   {
    "duration": 9,
    "start_time": "2022-08-22T11:31:57.043Z"
   },
   {
    "duration": 26,
    "start_time": "2022-08-22T11:31:57.057Z"
   },
   {
    "duration": 9,
    "start_time": "2022-08-22T11:31:57.085Z"
   },
   {
    "duration": 23,
    "start_time": "2022-08-22T11:31:57.095Z"
   },
   {
    "duration": 9,
    "start_time": "2022-08-22T11:31:57.120Z"
   },
   {
    "duration": 28,
    "start_time": "2022-08-22T11:31:57.130Z"
   },
   {
    "duration": 41,
    "start_time": "2022-08-22T11:31:57.159Z"
   },
   {
    "duration": 9,
    "start_time": "2022-08-22T11:31:57.202Z"
   },
   {
    "duration": 16,
    "start_time": "2022-08-22T11:31:57.213Z"
   },
   {
    "duration": 10,
    "start_time": "2022-08-22T11:31:57.231Z"
   },
   {
    "duration": 23,
    "start_time": "2022-08-22T11:31:57.243Z"
   },
   {
    "duration": 23,
    "start_time": "2022-08-22T11:31:57.268Z"
   },
   {
    "duration": 32,
    "start_time": "2022-08-22T11:31:57.293Z"
   },
   {
    "duration": 15,
    "start_time": "2022-08-22T11:31:57.329Z"
   },
   {
    "duration": 40,
    "start_time": "2022-08-22T11:31:57.346Z"
   },
   {
    "duration": 41,
    "start_time": "2022-08-22T11:31:57.387Z"
   },
   {
    "duration": 2,
    "start_time": "2022-08-22T11:31:57.430Z"
   },
   {
    "duration": 14,
    "start_time": "2022-08-22T11:31:57.433Z"
   },
   {
    "duration": 29,
    "start_time": "2022-08-22T11:31:57.448Z"
   },
   {
    "duration": 5,
    "start_time": "2022-08-22T11:31:57.478Z"
   },
   {
    "duration": 26,
    "start_time": "2022-08-22T11:31:57.485Z"
   },
   {
    "duration": 10,
    "start_time": "2022-08-22T11:31:57.513Z"
   },
   {
    "duration": 313,
    "start_time": "2022-08-22T11:31:57.524Z"
   },
   {
    "duration": 26,
    "start_time": "2022-08-22T11:31:57.839Z"
   },
   {
    "duration": 23,
    "start_time": "2022-08-22T11:31:57.867Z"
   },
   {
    "duration": 225,
    "start_time": "2022-08-22T11:31:57.891Z"
   },
   {
    "duration": 18,
    "start_time": "2022-08-22T11:31:58.118Z"
   },
   {
    "duration": 236,
    "start_time": "2022-08-22T11:31:58.137Z"
   },
   {
    "duration": 18,
    "start_time": "2022-08-22T11:31:58.375Z"
   },
   {
    "duration": 223,
    "start_time": "2022-08-22T11:31:58.395Z"
   },
   {
    "duration": 15,
    "start_time": "2022-08-22T11:31:58.619Z"
   },
   {
    "duration": 27,
    "start_time": "2022-08-22T11:31:58.636Z"
   },
   {
    "duration": 1401,
    "start_time": "2022-08-22T11:48:10.476Z"
   },
   {
    "duration": 30,
    "start_time": "2022-08-22T11:48:11.879Z"
   },
   {
    "duration": 29,
    "start_time": "2022-08-22T11:48:11.911Z"
   },
   {
    "duration": 3,
    "start_time": "2022-08-22T11:48:11.941Z"
   },
   {
    "duration": 35,
    "start_time": "2022-08-22T11:48:11.946Z"
   },
   {
    "duration": 21,
    "start_time": "2022-08-22T11:48:11.983Z"
   },
   {
    "duration": 5,
    "start_time": "2022-08-22T11:48:12.005Z"
   },
   {
    "duration": 119,
    "start_time": "2022-08-22T11:48:12.011Z"
   },
   {
    "duration": 30,
    "start_time": "2022-08-22T11:48:12.131Z"
   },
   {
    "duration": 27,
    "start_time": "2022-08-22T11:48:12.162Z"
   },
   {
    "duration": 7,
    "start_time": "2022-08-22T11:48:12.190Z"
   },
   {
    "duration": 6,
    "start_time": "2022-08-22T11:48:12.199Z"
   },
   {
    "duration": 53,
    "start_time": "2022-08-22T11:48:12.207Z"
   },
   {
    "duration": 15,
    "start_time": "2022-08-22T11:48:12.264Z"
   },
   {
    "duration": 41,
    "start_time": "2022-08-22T11:48:12.280Z"
   },
   {
    "duration": 38,
    "start_time": "2022-08-22T11:48:12.322Z"
   },
   {
    "duration": 18,
    "start_time": "2022-08-22T11:48:12.362Z"
   },
   {
    "duration": 13,
    "start_time": "2022-08-22T11:48:12.382Z"
   },
   {
    "duration": 62,
    "start_time": "2022-08-22T11:48:12.396Z"
   },
   {
    "duration": 17,
    "start_time": "2022-08-22T11:48:12.460Z"
   },
   {
    "duration": 39,
    "start_time": "2022-08-22T11:48:12.479Z"
   },
   {
    "duration": 12,
    "start_time": "2022-08-22T11:48:12.519Z"
   },
   {
    "duration": 5,
    "start_time": "2022-08-22T11:48:12.533Z"
   },
   {
    "duration": 44,
    "start_time": "2022-08-22T11:48:12.539Z"
   },
   {
    "duration": 9,
    "start_time": "2022-08-22T11:48:12.584Z"
   },
   {
    "duration": 28,
    "start_time": "2022-08-22T11:48:12.595Z"
   },
   {
    "duration": 8,
    "start_time": "2022-08-22T11:48:12.625Z"
   },
   {
    "duration": 40,
    "start_time": "2022-08-22T11:48:12.635Z"
   },
   {
    "duration": 9,
    "start_time": "2022-08-22T11:48:12.677Z"
   },
   {
    "duration": 8,
    "start_time": "2022-08-22T11:48:12.687Z"
   },
   {
    "duration": 22,
    "start_time": "2022-08-22T11:48:12.696Z"
   },
   {
    "duration": 16,
    "start_time": "2022-08-22T11:48:12.719Z"
   },
   {
    "duration": 21,
    "start_time": "2022-08-22T11:48:12.737Z"
   },
   {
    "duration": 17,
    "start_time": "2022-08-22T11:48:12.759Z"
   },
   {
    "duration": 8,
    "start_time": "2022-08-22T11:48:12.778Z"
   },
   {
    "duration": 22,
    "start_time": "2022-08-22T11:48:12.787Z"
   },
   {
    "duration": 6,
    "start_time": "2022-08-22T11:48:12.811Z"
   },
   {
    "duration": 46,
    "start_time": "2022-08-22T11:48:12.818Z"
   },
   {
    "duration": 8,
    "start_time": "2022-08-22T11:48:12.865Z"
   },
   {
    "duration": 8,
    "start_time": "2022-08-22T11:48:12.875Z"
   },
   {
    "duration": 306,
    "start_time": "2022-08-22T11:48:12.886Z"
   },
   {
    "duration": 22,
    "start_time": "2022-08-22T11:48:13.194Z"
   },
   {
    "duration": 21,
    "start_time": "2022-08-22T11:48:13.218Z"
   },
   {
    "duration": 224,
    "start_time": "2022-08-22T11:48:13.257Z"
   },
   {
    "duration": 20,
    "start_time": "2022-08-22T11:48:13.482Z"
   },
   {
    "duration": 223,
    "start_time": "2022-08-22T11:48:13.503Z"
   },
   {
    "duration": 20,
    "start_time": "2022-08-22T11:48:13.727Z"
   },
   {
    "duration": 215,
    "start_time": "2022-08-22T11:48:13.758Z"
   },
   {
    "duration": 16,
    "start_time": "2022-08-22T11:48:13.975Z"
   },
   {
    "duration": 15,
    "start_time": "2022-08-22T11:48:13.993Z"
   },
   {
    "duration": 1453,
    "start_time": "2022-08-22T11:48:27.262Z"
   },
   {
    "duration": 35,
    "start_time": "2022-08-22T11:48:28.718Z"
   },
   {
    "duration": 42,
    "start_time": "2022-08-22T11:48:28.755Z"
   },
   {
    "duration": 3,
    "start_time": "2022-08-22T11:48:28.800Z"
   },
   {
    "duration": 39,
    "start_time": "2022-08-22T11:48:28.805Z"
   },
   {
    "duration": 28,
    "start_time": "2022-08-22T11:48:28.846Z"
   },
   {
    "duration": 5,
    "start_time": "2022-08-22T11:48:28.876Z"
   },
   {
    "duration": 118,
    "start_time": "2022-08-22T11:48:28.883Z"
   },
   {
    "duration": 25,
    "start_time": "2022-08-22T11:48:29.002Z"
   },
   {
    "duration": 44,
    "start_time": "2022-08-22T11:48:29.029Z"
   },
   {
    "duration": 7,
    "start_time": "2022-08-22T11:48:29.075Z"
   },
   {
    "duration": 23,
    "start_time": "2022-08-22T11:48:29.084Z"
   },
   {
    "duration": 27,
    "start_time": "2022-08-22T11:48:29.109Z"
   },
   {
    "duration": 31,
    "start_time": "2022-08-22T11:48:29.140Z"
   },
   {
    "duration": 48,
    "start_time": "2022-08-22T11:48:29.172Z"
   },
   {
    "duration": 36,
    "start_time": "2022-08-22T11:48:29.222Z"
   },
   {
    "duration": 22,
    "start_time": "2022-08-22T11:48:29.260Z"
   },
   {
    "duration": 15,
    "start_time": "2022-08-22T11:48:29.283Z"
   },
   {
    "duration": 71,
    "start_time": "2022-08-22T11:48:29.299Z"
   },
   {
    "duration": 16,
    "start_time": "2022-08-22T11:48:29.372Z"
   },
   {
    "duration": 32,
    "start_time": "2022-08-22T11:48:29.390Z"
   },
   {
    "duration": 26,
    "start_time": "2022-08-22T11:48:29.423Z"
   },
   {
    "duration": 13,
    "start_time": "2022-08-22T11:48:29.451Z"
   },
   {
    "duration": 38,
    "start_time": "2022-08-22T11:48:29.465Z"
   },
   {
    "duration": 10,
    "start_time": "2022-08-22T11:48:29.505Z"
   },
   {
    "duration": 41,
    "start_time": "2022-08-22T11:48:29.516Z"
   },
   {
    "duration": 9,
    "start_time": "2022-08-22T11:48:29.559Z"
   },
   {
    "duration": 25,
    "start_time": "2022-08-22T11:48:29.570Z"
   },
   {
    "duration": 10,
    "start_time": "2022-08-22T11:48:29.596Z"
   },
   {
    "duration": 7,
    "start_time": "2022-08-22T11:48:29.608Z"
   },
   {
    "duration": 41,
    "start_time": "2022-08-22T11:48:29.617Z"
   },
   {
    "duration": 8,
    "start_time": "2022-08-22T11:48:29.659Z"
   },
   {
    "duration": 8,
    "start_time": "2022-08-22T11:48:29.669Z"
   },
   {
    "duration": 20,
    "start_time": "2022-08-22T11:48:29.679Z"
   },
   {
    "duration": 21,
    "start_time": "2022-08-22T11:48:29.701Z"
   },
   {
    "duration": 31,
    "start_time": "2022-08-22T11:48:29.724Z"
   },
   {
    "duration": 3,
    "start_time": "2022-08-22T11:48:29.757Z"
   },
   {
    "duration": 25,
    "start_time": "2022-08-22T11:48:29.762Z"
   },
   {
    "duration": 8,
    "start_time": "2022-08-22T11:48:29.789Z"
   },
   {
    "duration": 6,
    "start_time": "2022-08-22T11:48:29.798Z"
   },
   {
    "duration": 337,
    "start_time": "2022-08-22T11:48:29.807Z"
   },
   {
    "duration": 28,
    "start_time": "2022-08-22T11:48:30.146Z"
   },
   {
    "duration": 21,
    "start_time": "2022-08-22T11:48:30.176Z"
   },
   {
    "duration": 243,
    "start_time": "2022-08-22T11:48:30.199Z"
   },
   {
    "duration": 25,
    "start_time": "2022-08-22T11:48:30.444Z"
   },
   {
    "duration": 228,
    "start_time": "2022-08-22T11:48:30.471Z"
   },
   {
    "duration": 20,
    "start_time": "2022-08-22T11:48:30.701Z"
   },
   {
    "duration": 259,
    "start_time": "2022-08-22T11:48:30.723Z"
   },
   {
    "duration": 14,
    "start_time": "2022-08-22T11:48:30.984Z"
   },
   {
    "duration": 17,
    "start_time": "2022-08-22T11:48:31.000Z"
   }
  ],
  "kernelspec": {
   "display_name": "Python 3 (ipykernel)",
   "language": "python",
   "name": "python3"
  },
  "language_info": {
   "codemirror_mode": {
    "name": "ipython",
    "version": 3
   },
   "file_extension": ".py",
   "mimetype": "text/x-python",
   "name": "python",
   "nbconvert_exporter": "python",
   "pygments_lexer": "ipython3",
   "version": "3.9.5"
  },
  "toc": {
   "base_numbering": 1,
   "nav_menu": {},
   "number_sections": true,
   "sideBar": true,
   "skip_h1_title": true,
   "title_cell": "Table of Contents",
   "title_sidebar": "Contents",
   "toc_cell": false,
   "toc_position": {},
   "toc_section_display": true,
   "toc_window_display": false
  }
 },
 "nbformat": 4,
 "nbformat_minor": 2
}
