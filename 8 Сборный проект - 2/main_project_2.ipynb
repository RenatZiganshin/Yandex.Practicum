{
 "cells": [
  {
   "cell_type": "markdown",
   "metadata": {
    "toc": true
   },
   "source": [
    "<h1>Содержание<span class=\"tocSkip\"></span></h1>\n",
    "<div class=\"toc\"><ul class=\"toc-item\"><li><span><a href=\"#Подготовка-данных\" data-toc-modified-id=\"Подготовка-данных-1\"><span class=\"toc-item-num\">1&nbsp;&nbsp;</span>Подготовка данных</a></span><ul class=\"toc-item\"><li><span><a href=\"#Изучение-данных\" data-toc-modified-id=\"Изучение-данных-1.1\"><span class=\"toc-item-num\">1.1&nbsp;&nbsp;</span>Изучение данных</a></span></li><li><span><a href=\"#Эффективность-обогащения\" data-toc-modified-id=\"Эффективность-обогащения-1.2\"><span class=\"toc-item-num\">1.2&nbsp;&nbsp;</span>Эффективность обогащения</a></span></li><li><span><a href=\"#Признаки-тестовой-выборки\" data-toc-modified-id=\"Признаки-тестовой-выборки-1.3\"><span class=\"toc-item-num\">1.3&nbsp;&nbsp;</span>Признаки тестовой выборки</a></span></li><li><span><a href=\"#Обработка-данных\" data-toc-modified-id=\"Обработка-данных-1.4\"><span class=\"toc-item-num\">1.4&nbsp;&nbsp;</span>Обработка данных</a></span></li></ul></li><li><span><a href=\"#Анализ-данных\" data-toc-modified-id=\"Анализ-данных-2\"><span class=\"toc-item-num\">2&nbsp;&nbsp;</span>Анализ данных</a></span><ul class=\"toc-item\"><li><span><a href=\"#Разные-этапы-очистки\" data-toc-modified-id=\"Разные-этапы-очистки-2.1\"><span class=\"toc-item-num\">2.1&nbsp;&nbsp;</span>Разные этапы очистки</a></span></li><li><span><a href=\"#Размеры-гранул\" data-toc-modified-id=\"Размеры-гранул-2.2\"><span class=\"toc-item-num\">2.2&nbsp;&nbsp;</span>Размеры гранул</a></span></li><li><span><a href=\"#Суммарная-концентрация-веществ\" data-toc-modified-id=\"Суммарная-концентрация-веществ-2.3\"><span class=\"toc-item-num\">2.3&nbsp;&nbsp;</span>Суммарная концентрация веществ</a></span></li></ul></li><li><span><a href=\"#Модель\" data-toc-modified-id=\"Модель-3\"><span class=\"toc-item-num\">3&nbsp;&nbsp;</span>Модель</a></span><ul class=\"toc-item\"><li><span><a href=\"#sMAPE\" data-toc-modified-id=\"sMAPE-3.1\"><span class=\"toc-item-num\">3.1&nbsp;&nbsp;</span>sMAPE</a></span></li><li><span><a href=\"#Подготовка-обучающих-и-целевых-признаков\" data-toc-modified-id=\"Подготовка-обучающих-и-целевых-признаков-3.2\"><span class=\"toc-item-num\">3.2&nbsp;&nbsp;</span>Подготовка обучающих и целевых признаков</a></span></li><li><span><a href=\"#Поиск-модели\" data-toc-modified-id=\"Поиск-модели-3.3\"><span class=\"toc-item-num\">3.3&nbsp;&nbsp;</span>Поиск модели</a></span><ul class=\"toc-item\"><li><span><a href=\"#LinearRegression\" data-toc-modified-id=\"LinearRegression-3.3.1\"><span class=\"toc-item-num\">3.3.1&nbsp;&nbsp;</span>LinearRegression</a></span></li><li><span><a href=\"#DecisionTreeRegressor\" data-toc-modified-id=\"DecisionTreeRegressor-3.3.2\"><span class=\"toc-item-num\">3.3.2&nbsp;&nbsp;</span>DecisionTreeRegressor</a></span></li><li><span><a href=\"#RandomForestRegressor\" data-toc-modified-id=\"RandomForestRegressor-3.3.3\"><span class=\"toc-item-num\">3.3.3&nbsp;&nbsp;</span>RandomForestRegressor</a></span></li></ul></li><li><span><a href=\"#Проверка-на-тестовой-выборке\" data-toc-modified-id=\"Проверка-на-тестовой-выборке-3.4\"><span class=\"toc-item-num\">3.4&nbsp;&nbsp;</span>Проверка на тестовой выборке</a></span></li></ul></li><li><span><a href=\"#Вывод\" data-toc-modified-id=\"Вывод-4\"><span class=\"toc-item-num\">4&nbsp;&nbsp;</span>Вывод</a></span></li></ul></div>"
   ]
  },
  {
   "cell_type": "markdown",
   "metadata": {},
   "source": [
    "# Восстановление золота из руды"
   ]
  },
  {
   "cell_type": "markdown",
   "metadata": {},
   "source": [
    "Необходимо подготовить прототип модели машинного обучения для «Цифры». Компания разрабатывает решения для эффективной работы промышленных предприятий.\n",
    "\n",
    "Модель должна предсказать коэффициент восстановления золота из золотосодержащей руды. Имеются данные с параметрами добычи и очистки. \n",
    "\n",
    "Модель поможет оптимизировать производство, чтобы не запускать предприятие с убыточными характеристиками.\n",
    "\n",
    "Вам нужно:\n",
    "\n",
    "1. Подготовить данные;\n",
    "2. Провести исследовательский анализ данных;\n",
    "3. Построить и обучить модель.\n",
    "\n",
    "Чтобы выполнить проект, обращайтесь к библиотекам *pandas*, *matplotlib* и *sklearn.* Вам поможет их документация."
   ]
  },
  {
   "cell_type": "markdown",
   "metadata": {},
   "source": [
    "## Подготовка данных"
   ]
  },
  {
   "cell_type": "markdown",
   "metadata": {},
   "source": [
    "### Изучение данных"
   ]
  },
  {
   "cell_type": "markdown",
   "metadata": {},
   "source": [
    "Импортируем все необходимые библиотеки"
   ]
  },
  {
   "cell_type": "code",
   "execution_count": 1,
   "metadata": {},
   "outputs": [],
   "source": [
    "import pandas as pd\n",
    "import numpy as np\n",
    "import matplotlib.pyplot as plt\n",
    "from scipy import stats as st\n",
    "from sklearn.metrics import mean_absolute_error\n",
    "from sklearn.preprocessing import StandardScaler\n",
    "from sklearn.ensemble import RandomForestRegressor\n",
    "from sklearn.model_selection import GridSearchCV, cross_val_score\n",
    "from sklearn.metrics import make_scorer\n",
    "from sklearn.linear_model import LinearRegression\n",
    "from sklearn.tree import DecisionTreeRegressor"
   ]
  },
  {
   "cell_type": "code",
   "execution_count": 2,
   "metadata": {},
   "outputs": [],
   "source": [
    "import warnings\n",
    "warnings.simplefilter(action='ignore', category=FutureWarning)"
   ]
  },
  {
   "cell_type": "code",
   "execution_count": 3,
   "metadata": {},
   "outputs": [],
   "source": [
    "plt.style.use('ggplot')"
   ]
  },
  {
   "cell_type": "markdown",
   "metadata": {},
   "source": [
    "Загрузим исходные данные и посмотрим на их размеры"
   ]
  },
  {
   "cell_type": "code",
   "execution_count": 4,
   "metadata": {},
   "outputs": [],
   "source": [
    "data_train = pd.read_csv('/datasets/gold_recovery_train_new.csv')\n",
    "data_test = pd.read_csv('/datasets/gold_recovery_test_new.csv')\n",
    "data_full = pd.read_csv('/datasets/gold_recovery_full_new.csv')"
   ]
  },
  {
   "cell_type": "code",
   "execution_count": 5,
   "metadata": {
    "scrolled": false
   },
   "outputs": [
    {
     "name": "stdout",
     "output_type": "stream",
     "text": [
      "(14149, 87) (5290, 53) (19439, 87)\n"
     ]
    }
   ],
   "source": [
    "print(data_train.shape, \n",
    "      data_test.shape,\n",
    "      data_full.shape)"
   ]
  },
  {
   "cell_type": "markdown",
   "metadata": {},
   "source": [
    "### Эффективность обогащения"
   ]
  },
  {
   "cell_type": "markdown",
   "metadata": {},
   "source": [
    "Проверим корректность расчета эффективности обогащения на примере 'rougher.output.recovery'. По заданной формуле значение этого признака зависит от концентрации золота после очистки ('rougher.output.concentrate_au'), концентрации золота до очистки ('rougher.input.feed_au') и доли золота в отвальном хвосте ('rougher.output.tail_au'). Расчетное значение назовем 'rougher.output.recovery_calc'."
   ]
  },
  {
   "cell_type": "code",
   "execution_count": 6,
   "metadata": {},
   "outputs": [],
   "source": [
    "data_train['rougher.output.recovery_calc'] = ((data_train['rougher.output.concentrate_au'] *\n",
    "                                              (data_train['rougher.input.feed_au'] -\n",
    "                                               data_train['rougher.output.tail_au'])) /\n",
    "                                              (data_train['rougher.input.feed_au'] *\n",
    "                                              (data_train['rougher.output.concentrate_au'] -\n",
    "                                               data_train['rougher.output.tail_au']))) * 100"
   ]
  },
  {
   "cell_type": "markdown",
   "metadata": {},
   "source": [
    "Сравним полученный результат с указанной в датасете эффектвностью метрикой MAE."
   ]
  },
  {
   "cell_type": "code",
   "execution_count": 7,
   "metadata": {},
   "outputs": [
    {
     "name": "stdout",
     "output_type": "stream",
     "text": [
      "MAE расчетной и указанной в данных эффективности обогащения составляет 9.73512347450521e-15\n"
     ]
    }
   ],
   "source": [
    "print('MAE расчетной и указанной в данных эффективности обогащения составляет {}'.format(mean_absolute_error(\n",
    "    data_train['rougher.output.recovery_calc'],\n",
    "    data_train['rougher.output.recovery'])))"
   ]
  },
  {
   "cell_type": "markdown",
   "metadata": {},
   "source": [
    "**Расчетные и фактические параметры практически полностью сходятся.**"
   ]
  },
  {
   "cell_type": "markdown",
   "metadata": {},
   "source": [
    "### Признаки тестовой выборки"
   ]
  },
  {
   "cell_type": "markdown",
   "metadata": {},
   "source": [
    "В обучающей выборке и исходных данные 87 столбцов, а в тестовой выборке 53. Посмотрим, какие данные отсутствуют в тестовой выборке."
   ]
  },
  {
   "cell_type": "code",
   "execution_count": 8,
   "metadata": {
    "scrolled": false
   },
   "outputs": [
    {
     "name": "stdout",
     "output_type": "stream",
     "text": [
      "<class 'pandas.core.frame.DataFrame'>\n",
      "RangeIndex: 14149 entries, 0 to 14148\n",
      "Data columns (total 35 columns):\n",
      " #   Column                                              Non-Null Count  Dtype  \n",
      "---  ------                                              --------------  -----  \n",
      " 0   final.output.concentrate_ag                         14148 non-null  float64\n",
      " 1   final.output.concentrate_pb                         14148 non-null  float64\n",
      " 2   final.output.concentrate_sol                        13938 non-null  float64\n",
      " 3   final.output.concentrate_au                         14149 non-null  float64\n",
      " 4   final.output.recovery                               14149 non-null  float64\n",
      " 5   final.output.tail_ag                                14149 non-null  float64\n",
      " 6   final.output.tail_pb                                14049 non-null  float64\n",
      " 7   final.output.tail_sol                               14144 non-null  float64\n",
      " 8   final.output.tail_au                                14149 non-null  float64\n",
      " 9   primary_cleaner.output.concentrate_ag               14149 non-null  float64\n",
      " 10  primary_cleaner.output.concentrate_pb               14063 non-null  float64\n",
      " 11  primary_cleaner.output.concentrate_sol              13863 non-null  float64\n",
      " 12  primary_cleaner.output.concentrate_au               14149 non-null  float64\n",
      " 13  primary_cleaner.output.tail_ag                      14148 non-null  float64\n",
      " 14  primary_cleaner.output.tail_pb                      14134 non-null  float64\n",
      " 15  primary_cleaner.output.tail_sol                     14103 non-null  float64\n",
      " 16  primary_cleaner.output.tail_au                      14149 non-null  float64\n",
      " 17  rougher.calculation.sulfate_to_au_concentrate       14148 non-null  float64\n",
      " 18  rougher.calculation.floatbank10_sulfate_to_au_feed  14148 non-null  float64\n",
      " 19  rougher.calculation.floatbank11_sulfate_to_au_feed  14148 non-null  float64\n",
      " 20  rougher.calculation.au_pb_ratio                     14149 non-null  float64\n",
      " 21  rougher.output.concentrate_ag                       14149 non-null  float64\n",
      " 22  rougher.output.concentrate_pb                       14149 non-null  float64\n",
      " 23  rougher.output.concentrate_sol                      14127 non-null  float64\n",
      " 24  rougher.output.concentrate_au                       14149 non-null  float64\n",
      " 25  rougher.output.recovery                             14149 non-null  float64\n",
      " 26  rougher.output.tail_ag                              14148 non-null  float64\n",
      " 27  rougher.output.tail_pb                              14149 non-null  float64\n",
      " 28  rougher.output.tail_sol                             14149 non-null  float64\n",
      " 29  rougher.output.tail_au                              14149 non-null  float64\n",
      " 30  secondary_cleaner.output.tail_ag                    14147 non-null  float64\n",
      " 31  secondary_cleaner.output.tail_pb                    14139 non-null  float64\n",
      " 32  secondary_cleaner.output.tail_sol                   12544 non-null  float64\n",
      " 33  secondary_cleaner.output.tail_au                    14149 non-null  float64\n",
      " 34  rougher.output.recovery_calc                        14149 non-null  float64\n",
      "dtypes: float64(35)\n",
      "memory usage: 3.8 MB\n"
     ]
    }
   ],
   "source": [
    "data_train[data_train.columns[~data_train.columns.isin(data_test.columns)]].info()"
   ]
  },
  {
   "cell_type": "markdown",
   "metadata": {},
   "source": [
    "**Вероятно, это параметры, которые по технологическому процессу рассчитываются позже и неизвестны на момент обработки сырья.**"
   ]
  },
  {
   "cell_type": "markdown",
   "metadata": {},
   "source": [
    "### Обработка данных"
   ]
  },
  {
   "cell_type": "markdown",
   "metadata": {},
   "source": [
    "Заменим тип данных у даты в выборках на корректный"
   ]
  },
  {
   "cell_type": "code",
   "execution_count": 9,
   "metadata": {},
   "outputs": [],
   "source": [
    "data_train['date'] = pd.to_datetime(data_train['date'], format='%Y-%m-%d %H:%M:%S')\n",
    "data_test['date'] = pd.to_datetime(data_test['date'], format='%Y-%m-%d %H:%M:%S')\n",
    "data_full['date'] = pd.to_datetime(data_full['date'], format='%Y-%m-%d %H:%M:%S')"
   ]
  },
  {
   "cell_type": "markdown",
   "metadata": {},
   "source": [
    "Мы знаем, что соседние по времени параметры часто похожи. Поэтому пропуски можно заполнить соседними параметрами. Но сперва надо убедиться в том, что строки в наших данных расположены в хронологическом порядке."
   ]
  },
  {
   "cell_type": "code",
   "execution_count": 10,
   "metadata": {},
   "outputs": [
    {
     "data": {
      "image/png": "[encoded data removed]",
      "text/plain": [
       "<Figure size 432x288 with 1 Axes>"
      ]
     },
     "metadata": {},
     "output_type": "display_data"
    }
   ],
   "source": [
    "plt.plot(data_train['date'], label='data_train time')\n",
    "plt.plot(data_test['date'], label='data_test time')\n",
    "plt.plot(data_full['date'], label='data_full time')\n",
    "plt.legend()\n",
    "plt.show()"
   ]
  },
  {
   "cell_type": "markdown",
   "metadata": {},
   "source": [
    "Как видно из графиков, данные расположены в хронологическом порядке. Применим метод ffill() для заполнения пропусков."
   ]
  },
  {
   "cell_type": "code",
   "execution_count": 11,
   "metadata": {},
   "outputs": [
    {
     "name": "stdout",
     "output_type": "stream",
     "text": [
      "Количество пропущенных значений в обучающей выборке до обработки: 4100\n",
      "Количество пропущенных значений в тестовой выборке до обработки: 90\n",
      "Количество пропущенных значений в исходных данных до обработки: 4481\n"
     ]
    }
   ],
   "source": [
    "print('Количество пропущенных значений в обучающей выборке до обработки:', data_train.isna().sum().sum())\n",
    "print('Количество пропущенных значений в тестовой выборке до обработки:', data_test.isna().sum().sum())\n",
    "print('Количество пропущенных значений в исходных данных до обработки:', data_full.isna().sum().sum())"
   ]
  },
  {
   "cell_type": "code",
   "execution_count": 12,
   "metadata": {},
   "outputs": [],
   "source": [
    "data_train = data_train.ffill()\n",
    "data_test = data_test.ffill()\n",
    "data_full = data_full.ffill()"
   ]
  },
  {
   "cell_type": "code",
   "execution_count": 13,
   "metadata": {},
   "outputs": [
    {
     "name": "stdout",
     "output_type": "stream",
     "text": [
      "Количество пропущенных значений в обучающей выборке после обработки: 0\n",
      "Количество пропущенных значений в тестовой выборке после обработки: 0\n",
      "Количество пропущенных значений в исходных данных после обработки: 0\n"
     ]
    }
   ],
   "source": [
    "print('Количество пропущенных значений в обучающей выборке после обработки:', data_train.isna().sum().sum())\n",
    "print('Количество пропущенных значений в тестовой выборке после обработки:', data_test.isna().sum().sum())\n",
    "print('Количество пропущенных значений в исходных данных после обработки:', data_full.isna().sum().sum())"
   ]
  },
  {
   "cell_type": "markdown",
   "metadata": {},
   "source": [
    "**Пропуски заполнены успешно. Данные готовы к дальнейшему анализу.**"
   ]
  },
  {
   "cell_type": "markdown",
   "metadata": {},
   "source": [
    "## Анализ данных"
   ]
  },
  {
   "cell_type": "markdown",
   "metadata": {},
   "source": [
    "### Разные этапы очистки"
   ]
  },
  {
   "cell_type": "markdown",
   "metadata": {},
   "source": [
    "Посмотрим, как меняется концентрация металлов (Au, Ag, Pb) на различных этапах очистки, а именно 'rougher.input', 'rougher.output', 'primary_cleaner.output' и 'final_output'."
   ]
  },
  {
   "cell_type": "code",
   "execution_count": 14,
   "metadata": {},
   "outputs": [],
   "source": [
    "stages = pd.DataFrame({'Au': [data_train['rougher.input.feed_au'].mean(),\n",
    "                    data_train['rougher.output.concentrate_au'].mean(),\n",
    "                    data_train['primary_cleaner.output.concentrate_au'].mean(),\n",
    "                    data_train['final.output.concentrate_au'].mean()],\n",
    "             'Ag': [data_train['rougher.input.feed_ag'].mean(),\n",
    "                    data_train['rougher.output.concentrate_ag'].mean(),\n",
    "                    data_train['primary_cleaner.output.concentrate_ag'].mean(),\n",
    "                    data_train['final.output.concentrate_ag'].mean()],\n",
    "             'Pb': [data_train['rougher.input.feed_pb'].mean(),\n",
    "                    data_train['rougher.output.concentrate_pb'].mean(),\n",
    "                    data_train['primary_cleaner.output.concentrate_pb'].mean(),\n",
    "                    data_train['final.output.concentrate_pb'].mean()]},\n",
    "            index=['rougher.input', 'rougher.output', \n",
    "                  'primary_cleaner.output', 'final.output'])"
   ]
  },
  {
   "cell_type": "code",
   "execution_count": 15,
   "metadata": {},
   "outputs": [
    {
     "data": {
      "text/html": [
       "<div>\n",
       "<style scoped>\n",
       "    .dataframe tbody tr th:only-of-type {\n",
       "        vertical-align: middle;\n",
       "    }\n",
       "\n",
       "    .dataframe tbody tr th {\n",
       "        vertical-align: top;\n",
       "    }\n",
       "\n",
       "    .dataframe thead th {\n",
       "        text-align: right;\n",
       "    }\n",
       "</style>\n",
       "<table border=\"1\" class=\"dataframe\">\n",
       "  <thead>\n",
       "    <tr style=\"text-align: right;\">\n",
       "      <th></th>\n",
       "      <th>Au</th>\n",
       "      <th>Ag</th>\n",
       "      <th>Pb</th>\n",
       "    </tr>\n",
       "  </thead>\n",
       "  <tbody>\n",
       "    <tr>\n",
       "      <th>rougher.input</th>\n",
       "      <td>7.866577</td>\n",
       "      <td>8.579195</td>\n",
       "      <td>3.505465</td>\n",
       "    </tr>\n",
       "    <tr>\n",
       "      <th>rougher.output</th>\n",
       "      <td>19.439958</td>\n",
       "      <td>11.775812</td>\n",
       "      <td>7.664555</td>\n",
       "    </tr>\n",
       "    <tr>\n",
       "      <th>primary_cleaner.output</th>\n",
       "      <td>32.386836</td>\n",
       "      <td>8.200916</td>\n",
       "      <td>9.568544</td>\n",
       "    </tr>\n",
       "    <tr>\n",
       "      <th>final.output</th>\n",
       "      <td>44.003792</td>\n",
       "      <td>5.141921</td>\n",
       "      <td>10.132848</td>\n",
       "    </tr>\n",
       "  </tbody>\n",
       "</table>\n",
       "</div>"
      ],
      "text/plain": [
       "                               Au         Ag         Pb\n",
       "rougher.input            7.866577   8.579195   3.505465\n",
       "rougher.output          19.439958  11.775812   7.664555\n",
       "primary_cleaner.output  32.386836   8.200916   9.568544\n",
       "final.output            44.003792   5.141921  10.132848"
      ]
     },
     "execution_count": 15,
     "metadata": {},
     "output_type": "execute_result"
    }
   ],
   "source": [
    "stages"
   ]
  },
  {
   "cell_type": "code",
   "execution_count": 16,
   "metadata": {},
   "outputs": [
    {
     "data": {
      "text/plain": [
       "<AxesSubplot:>"
      ]
     },
     "execution_count": 16,
     "metadata": {},
     "output_type": "execute_result"
    },
    {
     "data": {
      "image/png": "[encoded data removed]",
      "text/plain": [
       "<Figure size 432x288 with 1 Axes>"
      ]
     },
     "metadata": {},
     "output_type": "display_data"
    }
   ],
   "source": [
    "stages.plot(kind='bar')"
   ]
  },
  {
   "cell_type": "markdown",
   "metadata": {},
   "source": [
    "**Концентрация золота в сырье стабильно растет после каждой стадии обработки, в то время как рост концентрации свинца замедляется, а концентрация серебра после первого этапа очистки начинает снижаться. Похоже, что весь технологический процесс направлен на увеличение концентрации только золота.**"
   ]
  },
  {
   "cell_type": "markdown",
   "metadata": {},
   "source": [
    "### Размеры гранул"
   ]
  },
  {
   "cell_type": "markdown",
   "metadata": {},
   "source": [
    "Сравним размеры гранул на входе во флотационную установку 'rougher.input.feed_size' и их распределение в обучающей и тестовой выборках. "
   ]
  },
  {
   "cell_type": "code",
   "execution_count": 17,
   "metadata": {},
   "outputs": [
    {
     "data": {
      "image/png": "[encoded data removed]",
      "text/plain": [
       "<Figure size 720x360 with 1 Axes>"
      ]
     },
     "metadata": {},
     "output_type": "display_data"
    }
   ],
   "source": [
    "plt.figure(figsize=(10, 5))\n",
    "plt.hist(data_train['rougher.input.feed_size'], bins=30, label='Обучающая выборка')\n",
    "plt.hist(data_test['rougher.input.feed_size'], bins=30, label='Тестовая выборка')\n",
    "plt.legend()\n",
    "plt.show()"
   ]
  },
  {
   "cell_type": "markdown",
   "metadata": {},
   "source": [
    "**Как видно из гистограмм, размеры гранул и их распределения похожи, оценка модели будет корректной.**"
   ]
  },
  {
   "cell_type": "code",
   "execution_count": 18,
   "metadata": {},
   "outputs": [
    {
     "data": {
      "text/plain": [
       "(0.0, 200.0)"
      ]
     },
     "execution_count": 18,
     "metadata": {},
     "output_type": "execute_result"
    },
    {
     "data": {
      "image/png": "[encoded data removed]",
      "text/plain": [
       "<Figure size 720x360 with 1 Axes>"
      ]
     },
     "metadata": {},
     "output_type": "display_data"
    }
   ],
   "source": [
    "plt.figure(figsize=(10, 5))\n",
    "plt.style.use('ggplot')\n",
    "ax = data_train['rougher.input.feed_size'].plot.kde(color='darkorange', label='Размер гранул в обучающей выборке')\n",
    "ax = data_test['rougher.input.feed_size'].plot.kde(color='deepskyblue', label='Размер гранул в тестовой выборке')\n",
    "ax.axvline(data_train['rougher.input.feed_size'].mean(), color=\"darkorange\", linestyle=\"dashed\",\n",
    "           label='Средний размер гранул в обучающей выборке')\n",
    "ax.axvline(data_test['rougher.input.feed_size'].mean(), color=\"deepskyblue\", linestyle=\"dashed\",\n",
    "          label='Средний размер гранул в тестовой выборке')\n",
    "plt.legend()\n",
    "plt.xlim(0, 200)"
   ]
  },
  {
   "cell_type": "code",
   "execution_count": 19,
   "metadata": {},
   "outputs": [
    {
     "name": "stdout",
     "output_type": "stream",
     "text": [
      "Нулевая гипотеза H0 - размеры гранул в обучающей и тестовой выборках равны\n",
      "Альтерантиваня гипотеза H1 - в выборках гранулы разного размера\n",
      "Средний размер гранул в обучающей выборке: 60.24\n",
      "Средний размер гранул в тестовой выборке: 55.95\n",
      "pvalue =  1.6081245670851188e-33\n",
      "Отвергаем нулевую гипотезу\n"
     ]
    }
   ],
   "source": [
    "print('Нулевая гипотеза H0 - размеры гранул в обучающей и тестовой выборках равны')\n",
    "print('Альтерантиваня гипотеза H1 - в выборках гранулы разного размера')\n",
    "print('Средний размер гранул в обучающей выборке: {:.2f}'.format(data_train['rougher.input.feed_size'].mean()))\n",
    "print('Средний размер гранул в тестовой выборке: {:.2f}'.format(data_test['rougher.input.feed_size'].mean()))\n",
    "alpha = 0.05\n",
    "result = st.ttest_ind(data_train['rougher.input.feed_size'], data_test['rougher.input.feed_size'])\n",
    "print('pvalue = ', result.pvalue)\n",
    "if result.pvalue < 0.05:\n",
    "    print('Отвергаем нулевую гипотезу')\n",
    "if result.pvalue >= 0.05:\n",
    "    print('Не отвергаем нулевую гипотезу')"
   ]
  },
  {
   "cell_type": "markdown",
   "metadata": {},
   "source": [
    "### Суммарная концентрация веществ"
   ]
  },
  {
   "cell_type": "markdown",
   "metadata": {},
   "source": [
    "Рассмотрим суммарную концентрацию всех веществ на разных стадиях: в сырье, в черновом и финальном концентратах. Создадим столбцы 'rougher.input_total', 'rougher.output_total' и 'final.output_total', в которых будет суммарная концентрация веществ по соответствующим стадиям."
   ]
  },
  {
   "cell_type": "code",
   "execution_count": 20,
   "metadata": {},
   "outputs": [],
   "source": [
    "data_train['rougher.input_total'] = (data_train['rougher.input.feed_ag'] +\n",
    "                                     data_train['rougher.input.feed_pb'] +\n",
    "                                     data_train['rougher.input.feed_sol'] +\n",
    "                                     data_train['rougher.input.feed_au'])\n",
    "data_train['rougher.output_total'] = (data_train['rougher.output.concentrate_ag'] +\n",
    "                                      data_train['rougher.output.concentrate_pb'] +\n",
    "                                      data_train['rougher.output.concentrate_sol'] +\n",
    "                                      data_train['rougher.output.concentrate_au'])\n",
    "data_train['final.output_total'] = (data_train['final.output.concentrate_ag'] +\n",
    "                                    data_train['final.output.concentrate_pb'] +\n",
    "                                    data_train['final.output.concentrate_sol'] +\n",
    "                                    data_train['final.output.concentrate_au'])"
   ]
  },
  {
   "cell_type": "code",
   "execution_count": 21,
   "metadata": {},
   "outputs": [
    {
     "data": {
      "image/png": "[encoded data removed]",
      "text/plain": [
       "<Figure size 720x360 with 1 Axes>"
      ]
     },
     "metadata": {},
     "output_type": "display_data"
    }
   ],
   "source": [
    "plt.figure(figsize=(10, 5))\n",
    "plt.hist(data_train['rougher.input_total'], bins=30, alpha=0.5, label='Суммарная концентрация в сырье')\n",
    "plt.hist(data_train['rougher.output_total'], bins=30, alpha=0.5, label='Суммарная концентрация в черновом концентрате')\n",
    "plt.hist(data_train['final.output_total'], bins=30, alpha=0.5, label='Суммарная концентрация в финальном концентрате')\n",
    "plt.legend()\n",
    "plt.show()"
   ]
  },
  {
   "cell_type": "code",
   "execution_count": 22,
   "metadata": {
    "scrolled": true
   },
   "outputs": [
    {
     "name": "stdout",
     "output_type": "stream",
     "text": [
      "Количество строк с нулевой концентрацией веществ в сырье: 0\n",
      "Количество строк с нулевой концентрацией веществ в черновом концентрате: 297\n",
      "Количество строк с нулевой концентрацией веществ в финальном концентрате: 58\n"
     ]
    }
   ],
   "source": [
    "print('Количество строк с нулевой концентрацией веществ в сырье:', (data_train['rougher.input_total']==0).sum())\n",
    "print('Количество строк с нулевой концентрацией веществ в черновом концентрате:', (data_train['rougher.output_total']==0).sum())\n",
    "print('Количество строк с нулевой концентрацией веществ в финальном концентрате:', (data_train['final.output_total']==0).sum())"
   ]
  },
  {
   "cell_type": "markdown",
   "metadata": {},
   "source": [
    "**Можно отметить, что в черновом и финальном концентратах появляется сырье с нулевой концентрацией веществ. Вероятно, это связано с тем, что из-за технологических ошибок в процессе подготовки сырья полезные вещества удалились в отвальных хвостах. Чтобы исключить обучение нашей модели на браке, удалим эти строчки из обучающей выборки.**"
   ]
  },
  {
   "cell_type": "code",
   "execution_count": 23,
   "metadata": {},
   "outputs": [],
   "source": [
    "data_train = data_train[(data_train['rougher.output_total']!=0) & (data_train['final.output_total']!=0)]"
   ]
  },
  {
   "cell_type": "markdown",
   "metadata": {},
   "source": [
    "## Модель"
   ]
  },
  {
   "cell_type": "markdown",
   "metadata": {},
   "source": [
    "### sMAPE"
   ]
  },
  {
   "cell_type": "markdown",
   "metadata": {},
   "source": [
    "Напишем функцию, которая принимает на вход результаты моделирования и возвращает метрику sMAPE"
   ]
  },
  {
   "cell_type": "code",
   "execution_count": 24,
   "metadata": {},
   "outputs": [],
   "source": [
    "def smape(true, predict):\n",
    "    rougher_y = true['rougher.output.recovery']\n",
    "    rougher_y_pred = predict[:, 0]\n",
    "    final_y = true['final.output.recovery']\n",
    "    final_y_pred = predict[:, 1]\n",
    "    smape_rougher = 1 / len(true) * ((abs(rougher_y - rougher_y_pred) / ((abs(rougher_y) + abs(rougher_y_pred))/2)) * 100).sum()\n",
    "    smape_final = 1 / len(true) * ((abs(final_y - final_y_pred) / ((abs(final_y) + abs(final_y_pred))/2)) * 100).sum()\n",
    "    smape = .25 * smape_rougher + .75 * smape_final\n",
    "    return smape"
   ]
  },
  {
   "cell_type": "markdown",
   "metadata": {},
   "source": [
    "### Подготовка обучающих и целевых признаков"
   ]
  },
  {
   "cell_type": "markdown",
   "metadata": {},
   "source": [
    "Целевые признаки 'rougher.output.recovery' и 'final.output.recovery' не даны в тестовой выборке. Чтобы оценить качество модели, добавим эти признаки из исходных данных. Объединять данные будем по столбцу 'date'."
   ]
  },
  {
   "cell_type": "code",
   "execution_count": 25,
   "metadata": {},
   "outputs": [],
   "source": [
    "data_test = data_test.merge(data_full[['date', 'rougher.output.recovery', 'final.output.recovery']], \n",
    "                            how='left', left_on='date', right_on='date')"
   ]
  },
  {
   "cell_type": "markdown",
   "metadata": {},
   "source": [
    "Выделим из выборок обучающие и целевые признаки"
   ]
  },
  {
   "cell_type": "code",
   "execution_count": 26,
   "metadata": {},
   "outputs": [],
   "source": [
    "data_train_features = data_train[data_test.columns].drop(columns=['date', 'rougher.output.recovery', 'final.output.recovery'])\n",
    "data_train_target = data_train[['rougher.output.recovery', 'final.output.recovery']]\n",
    "data_test_features = data_test.drop(columns=['date', 'rougher.output.recovery', 'final.output.recovery'])\n",
    "data_test_target = data_test[['rougher.output.recovery', 'final.output.recovery']]"
   ]
  },
  {
   "cell_type": "markdown",
   "metadata": {},
   "source": [
    "Промасштабируем данные"
   ]
  },
  {
   "cell_type": "code",
   "execution_count": 27,
   "metadata": {},
   "outputs": [],
   "source": [
    "scaler = StandardScaler()\n",
    "scaler.fit(data_train_features)\n",
    "pd.options.mode.chained_assignment = None\n",
    "data_train_features = scaler.transform(data_train_features)\n",
    "data_test_features = scaler.transform(data_test_features)"
   ]
  },
  {
   "cell_type": "markdown",
   "metadata": {},
   "source": [
    "### Поиск модели"
   ]
  },
  {
   "cell_type": "markdown",
   "metadata": {},
   "source": [
    "Выполним поиск оптимальных гиперпараметров методом GridSearchCV. Выбор наилучшей модели будет происходить по результатам работы функции 'sMAPE'."
   ]
  },
  {
   "cell_type": "code",
   "execution_count": 28,
   "metadata": {},
   "outputs": [],
   "source": [
    "smape_scorer = make_scorer(smape, greater_is_better=False)"
   ]
  },
  {
   "cell_type": "markdown",
   "metadata": {},
   "source": [
    "#### LinearRegression "
   ]
  },
  {
   "cell_type": "code",
   "execution_count": 29,
   "metadata": {},
   "outputs": [
    {
     "name": "stdout",
     "output_type": "stream",
     "text": [
      "sMAPE модели LinearRegression: 10.06\n"
     ]
    }
   ],
   "source": [
    "model = LinearRegression()\n",
    "scores = cross_val_score(model, data_train_features, data_train_target, scoring=smape_scorer, cv=5)\n",
    "print('sMAPE модели LinearRegression: {:.2f}'.format(abs(scores.mean())))"
   ]
  },
  {
   "cell_type": "markdown",
   "metadata": {},
   "source": [
    "#### DecisionTreeRegressor"
   ]
  },
  {
   "cell_type": "code",
   "execution_count": 30,
   "metadata": {},
   "outputs": [
    {
     "name": "stdout",
     "output_type": "stream",
     "text": [
      "Лучший результат модели DecisionTreeRegressor 8.99 при глубине дерева 1\n",
      "CPU times: user 40.1 s, sys: 0 ns, total: 40.1 s\n",
      "Wall time: 4min 28s\n"
     ]
    }
   ],
   "source": [
    "%%time\n",
    "model = DecisionTreeRegressor(random_state=12345)\n",
    "parametrs = {'max_depth': range (1, 16),}\n",
    "grid_tree = GridSearchCV(model, param_grid=parametrs, cv=5, scoring=smape_scorer)\n",
    "grid_tree.fit(data_train_features, data_train_target)\n",
    "print('Лучший результат модели DecisionTreeRegressor {:.2f} при глубине дерева {}'.format(\n",
    "    abs(grid_tree.best_score_), grid_tree.best_params_['max_depth']))"
   ]
  },
  {
   "cell_type": "markdown",
   "metadata": {},
   "source": [
    "#### RandomForestRegressor"
   ]
  },
  {
   "cell_type": "code",
   "execution_count": 31,
   "metadata": {
    "scrolled": false
   },
   "outputs": [
    {
     "name": "stdout",
     "output_type": "stream",
     "text": [
      "Лучший результат модели RandomForestRegressor 8.75 при глубине дерева 3 и количестве деревьев 60\n",
      "CPU times: user 1h 33min 1s, sys: 4.6 s, total: 1h 33min 6s\n",
      "Wall time: 3h 23min 7s\n"
     ]
    }
   ],
   "source": [
    "%%time\n",
    "model = RandomForestRegressor(random_state=12345)\n",
    "parametrs = {'n_estimators': range (10, 101, 10),\n",
    "             'max_depth': range (1, 11),}\n",
    "grid_forest = GridSearchCV(model, param_grid=parametrs, cv=5, scoring=smape_scorer)\n",
    "grid_forest.fit(data_train_features, data_train_target)\n",
    "print('Лучший результат модели RandomForestRegressor {:.2f} при глубине дерева {} и количестве деревьев {}'.format(\n",
    "    abs(grid_forest.best_score_), grid_forest.best_params_['max_depth'], grid_forest.best_params_['n_estimators']))"
   ]
  },
  {
   "cell_type": "markdown",
   "metadata": {},
   "source": [
    "### Проверка на тестовой выборке"
   ]
  },
  {
   "cell_type": "markdown",
   "metadata": {},
   "source": [
    "Проверим модель на тестовой выборке и выведем полученный sMAPE."
   ]
  },
  {
   "cell_type": "code",
   "execution_count": 32,
   "metadata": {},
   "outputs": [
    {
     "name": "stdout",
     "output_type": "stream",
     "text": [
      "Результат работы лучшей модели на тестовой выборке метрикой sMAPE составил 9.043608377126288\n"
     ]
    }
   ],
   "source": [
    "smape_test = smape(data_test_target, grid_forest.predict(data_test_features))\n",
    "print('Результат работы лучшей модели на тестовой выборке метрикой sMAPE составил', smape_test)"
   ]
  },
  {
   "cell_type": "markdown",
   "metadata": {},
   "source": [
    "## Вывод"
   ]
  },
  {
   "cell_type": "markdown",
   "metadata": {},
   "source": [
    "**В ходе работы были изучены, подготовлены и проверены на корректность данные по обработке золотой руды. Проанализированы концентрация веществ на разных стадиях очистки, размеры гранул в обучающей и тестовой выборках, суммарная концентрация вещест на разных стадиях. Созданы модели линейной регрессии, дерева решений и случайного леса, оптимальные гиперпараметры для которых определены методом GridSearchCV. Работа модели проверена на тестовой выборке, итоговый коэффициент sMAPE составил 9,04.**"
   ]
  }
 ],
 "metadata": {
  "ExecuteTimeLog": [
   {
    "duration": 833,
    "start_time": "2021-12-23T07:25:35.496Z"
   },
   {
    "duration": 2183,
    "start_time": "2021-12-23T07:26:01.901Z"
   },
   {
    "duration": 2041,
    "start_time": "2021-12-23T07:26:42.956Z"
   },
   {
    "duration": 772,
    "start_time": "2021-12-23T07:26:54.349Z"
   },
   {
    "duration": 2074,
    "start_time": "2021-12-23T07:26:55.124Z"
   },
   {
    "duration": 356,
    "start_time": "2021-12-23T07:29:24.844Z"
   },
   {
    "duration": 51,
    "start_time": "2021-12-23T07:29:31.717Z"
   },
   {
    "duration": 29,
    "start_time": "2021-12-23T07:29:42.677Z"
   },
   {
    "duration": 344,
    "start_time": "2021-12-23T07:32:40.324Z"
   },
   {
    "duration": 32,
    "start_time": "2021-12-23T07:32:41.275Z"
   },
   {
    "duration": 48,
    "start_time": "2021-12-23T07:32:47.349Z"
   },
   {
    "duration": 896,
    "start_time": "2021-12-23T07:33:57.347Z"
   },
   {
    "duration": 6,
    "start_time": "2021-12-23T07:34:05.964Z"
   },
   {
    "duration": 6,
    "start_time": "2021-12-23T07:34:17.036Z"
   },
   {
    "duration": 5,
    "start_time": "2021-12-23T07:35:07.749Z"
   },
   {
    "duration": 257,
    "start_time": "2021-12-23T07:35:24.388Z"
   },
   {
    "duration": 10,
    "start_time": "2021-12-23T07:35:26.988Z"
   },
   {
    "duration": 7,
    "start_time": "2021-12-23T07:36:14.909Z"
   },
   {
    "duration": 284,
    "start_time": "2021-12-23T07:36:23.467Z"
   },
   {
    "duration": 9,
    "start_time": "2021-12-23T07:36:27.205Z"
   },
   {
    "duration": 7,
    "start_time": "2021-12-23T07:36:37.404Z"
   },
   {
    "duration": 7,
    "start_time": "2021-12-23T07:36:49.707Z"
   },
   {
    "duration": 337,
    "start_time": "2021-12-23T07:37:53.795Z"
   },
   {
    "duration": 45,
    "start_time": "2021-12-23T07:37:57.931Z"
   },
   {
    "duration": 32,
    "start_time": "2021-12-23T10:41:07.422Z"
   },
   {
    "duration": 7,
    "start_time": "2021-12-23T10:54:36.876Z"
   },
   {
    "duration": 7,
    "start_time": "2021-12-23T11:03:37.776Z"
   },
   {
    "duration": 46,
    "start_time": "2021-12-23T11:11:16.402Z"
   },
   {
    "duration": 7,
    "start_time": "2021-12-23T11:11:51.456Z"
   },
   {
    "duration": 430,
    "start_time": "2021-12-23T11:12:00.663Z"
   },
   {
    "duration": 24,
    "start_time": "2021-12-23T11:31:13.306Z"
   },
   {
    "duration": 18,
    "start_time": "2021-12-23T11:43:58.621Z"
   },
   {
    "duration": 84,
    "start_time": "2021-12-23T12:05:04.816Z"
   },
   {
    "duration": 11,
    "start_time": "2021-12-23T12:05:12.811Z"
   },
   {
    "duration": 100,
    "start_time": "2021-12-23T12:09:32.615Z"
   },
   {
    "duration": 587,
    "start_time": "2021-12-23T12:09:45.668Z"
   },
   {
    "duration": 923,
    "start_time": "2021-12-23T12:09:46.258Z"
   },
   {
    "duration": 6,
    "start_time": "2021-12-23T12:09:47.185Z"
   },
   {
    "duration": 10,
    "start_time": "2021-12-23T12:09:47.193Z"
   },
   {
    "duration": 11,
    "start_time": "2021-12-23T12:09:47.206Z"
   },
   {
    "duration": 69,
    "start_time": "2021-12-23T12:09:47.220Z"
   },
   {
    "duration": 6,
    "start_time": "2021-12-23T12:10:18.194Z"
   },
   {
    "duration": 92,
    "start_time": "2021-12-23T12:10:35.722Z"
   },
   {
    "duration": 106,
    "start_time": "2021-12-23T12:10:50.233Z"
   },
   {
    "duration": 7,
    "start_time": "2021-12-23T12:11:02.522Z"
   },
   {
    "duration": 6,
    "start_time": "2021-12-23T12:11:04.425Z"
   },
   {
    "duration": 7,
    "start_time": "2021-12-23T12:17:38.237Z"
   },
   {
    "duration": 17,
    "start_time": "2021-12-23T12:18:41.986Z"
   },
   {
    "duration": 23,
    "start_time": "2021-12-23T12:30:13.219Z"
   },
   {
    "duration": 1277,
    "start_time": "2021-12-24T04:10:37.771Z"
   },
   {
    "duration": 889,
    "start_time": "2021-12-24T04:10:39.051Z"
   },
   {
    "duration": 16,
    "start_time": "2021-12-24T04:10:39.945Z"
   },
   {
    "duration": 18,
    "start_time": "2021-12-24T04:10:39.963Z"
   },
   {
    "duration": 11,
    "start_time": "2021-12-24T04:10:39.984Z"
   },
   {
    "duration": 38,
    "start_time": "2021-12-24T04:10:39.997Z"
   },
   {
    "duration": 26,
    "start_time": "2021-12-24T04:33:16.377Z"
   },
   {
    "duration": 16,
    "start_time": "2021-12-24T04:33:56.976Z"
   },
   {
    "duration": 14,
    "start_time": "2021-12-24T04:36:33.104Z"
   },
   {
    "duration": 15,
    "start_time": "2021-12-24T04:36:43.313Z"
   },
   {
    "duration": 709,
    "start_time": "2021-12-24T04:36:52.632Z"
   },
   {
    "duration": 35,
    "start_time": "2021-12-24T04:37:50.704Z"
   },
   {
    "duration": 635,
    "start_time": "2021-12-24T04:39:33.593Z"
   },
   {
    "duration": 552,
    "start_time": "2021-12-24T04:40:20.834Z"
   },
   {
    "duration": 356,
    "start_time": "2021-12-24T04:40:25.873Z"
   },
   {
    "duration": 133,
    "start_time": "2021-12-24T04:40:39.097Z"
   },
   {
    "duration": 351,
    "start_time": "2021-12-24T04:40:45.752Z"
   },
   {
    "duration": 299,
    "start_time": "2021-12-24T04:40:52.103Z"
   },
   {
    "duration": 164,
    "start_time": "2021-12-24T04:41:08.008Z"
   },
   {
    "duration": 19,
    "start_time": "2021-12-24T05:22:22.394Z"
   },
   {
    "duration": 16,
    "start_time": "2021-12-24T05:22:52.289Z"
   },
   {
    "duration": 24,
    "start_time": "2021-12-24T05:23:01.642Z"
   },
   {
    "duration": 3,
    "start_time": "2021-12-24T05:24:59.260Z"
   },
   {
    "duration": 893,
    "start_time": "2021-12-24T05:24:59.266Z"
   },
   {
    "duration": 5,
    "start_time": "2021-12-24T05:25:00.162Z"
   },
   {
    "duration": 17,
    "start_time": "2021-12-24T05:25:00.169Z"
   },
   {
    "duration": 8,
    "start_time": "2021-12-24T05:25:00.188Z"
   },
   {
    "duration": 30,
    "start_time": "2021-12-24T05:25:00.199Z"
   },
   {
    "duration": 35,
    "start_time": "2021-12-24T05:25:00.232Z"
   },
   {
    "duration": 27,
    "start_time": "2021-12-24T05:25:00.270Z"
   },
   {
    "duration": 30,
    "start_time": "2021-12-24T05:25:00.300Z"
   },
   {
    "duration": 303,
    "start_time": "2021-12-24T05:32:05.394Z"
   },
   {
    "duration": 329,
    "start_time": "2021-12-24T05:32:42.538Z"
   },
   {
    "duration": 384,
    "start_time": "2021-12-24T05:33:11.162Z"
   },
   {
    "duration": 403,
    "start_time": "2021-12-24T05:33:15.985Z"
   },
   {
    "duration": 431,
    "start_time": "2021-12-24T05:33:20.011Z"
   },
   {
    "duration": 373,
    "start_time": "2021-12-24T05:33:44.323Z"
   },
   {
    "duration": 294,
    "start_time": "2021-12-24T05:42:08.564Z"
   },
   {
    "duration": 326,
    "start_time": "2021-12-24T05:42:22.586Z"
   },
   {
    "duration": 10306,
    "start_time": "2021-12-24T05:44:21.898Z"
   },
   {
    "duration": 9146,
    "start_time": "2021-12-24T05:44:41.603Z"
   },
   {
    "duration": 7822,
    "start_time": "2021-12-24T05:45:08.099Z"
   },
   {
    "duration": 8,
    "start_time": "2021-12-24T05:47:10.947Z"
   },
   {
    "duration": 6,
    "start_time": "2021-12-24T05:47:19.795Z"
   },
   {
    "duration": 7,
    "start_time": "2021-12-24T05:47:32.050Z"
   },
   {
    "duration": 6,
    "start_time": "2021-12-24T05:47:38.794Z"
   },
   {
    "duration": 8,
    "start_time": "2021-12-24T05:47:50.818Z"
   },
   {
    "duration": 325,
    "start_time": "2021-12-24T05:54:49.971Z"
   },
   {
    "duration": 359,
    "start_time": "2021-12-24T05:55:04.354Z"
   },
   {
    "duration": 4,
    "start_time": "2021-12-24T05:57:14.691Z"
   },
   {
    "duration": 402,
    "start_time": "2021-12-24T05:57:42.075Z"
   },
   {
    "duration": 687,
    "start_time": "2021-12-24T05:58:50.163Z"
   },
   {
    "duration": 385,
    "start_time": "2021-12-24T05:59:06.139Z"
   },
   {
    "duration": 628,
    "start_time": "2021-12-24T06:10:20.837Z"
   },
   {
    "duration": 49,
    "start_time": "2021-12-24T06:10:25.307Z"
   },
   {
    "duration": 21,
    "start_time": "2021-12-24T06:10:34.288Z"
   },
   {
    "duration": 34,
    "start_time": "2021-12-24T06:10:57.876Z"
   },
   {
    "duration": 38,
    "start_time": "2021-12-24T06:11:32.700Z"
   },
   {
    "duration": 12,
    "start_time": "2021-12-24T06:11:47.356Z"
   },
   {
    "duration": 10,
    "start_time": "2021-12-24T06:11:57.235Z"
   },
   {
    "duration": 17,
    "start_time": "2021-12-24T06:12:15.804Z"
   },
   {
    "duration": 13,
    "start_time": "2021-12-24T06:12:45.076Z"
   },
   {
    "duration": 17,
    "start_time": "2021-12-24T06:14:29.427Z"
   },
   {
    "duration": 18,
    "start_time": "2021-12-24T06:14:39.028Z"
   },
   {
    "duration": 23,
    "start_time": "2021-12-24T06:15:04.932Z"
   },
   {
    "duration": 19,
    "start_time": "2021-12-24T06:15:26.084Z"
   },
   {
    "duration": 124,
    "start_time": "2021-12-24T06:21:56.124Z"
   },
   {
    "duration": 23,
    "start_time": "2021-12-24T06:21:58.284Z"
   },
   {
    "duration": 8,
    "start_time": "2021-12-24T06:49:52.117Z"
   },
   {
    "duration": 296,
    "start_time": "2021-12-24T06:50:09.581Z"
   },
   {
    "duration": 274,
    "start_time": "2021-12-24T06:50:17.327Z"
   },
   {
    "duration": 176,
    "start_time": "2021-12-24T07:24:25.390Z"
   },
   {
    "duration": 143,
    "start_time": "2021-12-24T07:24:44.518Z"
   },
   {
    "duration": 18,
    "start_time": "2021-12-24T07:24:58.127Z"
   },
   {
    "duration": 26,
    "start_time": "2021-12-24T07:26:16.173Z"
   },
   {
    "duration": 11,
    "start_time": "2021-12-24T07:32:05.607Z"
   },
   {
    "duration": 11,
    "start_time": "2021-12-24T07:32:06.115Z"
   },
   {
    "duration": 401,
    "start_time": "2021-12-24T07:32:11.897Z"
   },
   {
    "duration": 378,
    "start_time": "2021-12-24T07:32:37.416Z"
   },
   {
    "duration": 528,
    "start_time": "2021-12-24T07:32:46.211Z"
   },
   {
    "duration": 1304,
    "start_time": "2021-12-24T07:35:07.935Z"
   },
   {
    "duration": 567,
    "start_time": "2021-12-24T07:35:31.368Z"
   },
   {
    "duration": 619,
    "start_time": "2021-12-24T07:35:46.631Z"
   },
   {
    "duration": 412,
    "start_time": "2021-12-24T07:36:22.768Z"
   },
   {
    "duration": 651,
    "start_time": "2021-12-24T07:36:52.896Z"
   },
   {
    "duration": 295,
    "start_time": "2021-12-24T07:37:13.847Z"
   },
   {
    "duration": 328,
    "start_time": "2021-12-24T09:04:04.105Z"
   },
   {
    "duration": 8,
    "start_time": "2021-12-24T09:04:44.617Z"
   },
   {
    "duration": 410,
    "start_time": "2021-12-24T09:04:50.521Z"
   },
   {
    "duration": 8,
    "start_time": "2021-12-24T09:05:02.962Z"
   },
   {
    "duration": 120,
    "start_time": "2021-12-24T09:05:08.833Z"
   },
   {
    "duration": 265,
    "start_time": "2021-12-24T09:05:15.010Z"
   },
   {
    "duration": 415,
    "start_time": "2021-12-24T10:39:20.955Z"
   },
   {
    "duration": 4,
    "start_time": "2021-12-24T10:40:41.474Z"
   },
   {
    "duration": 10,
    "start_time": "2021-12-24T10:40:46.173Z"
   },
   {
    "duration": 312,
    "start_time": "2021-12-24T10:44:52.988Z"
   },
   {
    "duration": 352,
    "start_time": "2021-12-24T10:45:07.370Z"
   },
   {
    "duration": 583,
    "start_time": "2021-12-24T10:45:36.068Z"
   },
   {
    "duration": 669,
    "start_time": "2021-12-24T10:45:51.051Z"
   },
   {
    "duration": 10,
    "start_time": "2021-12-24T10:47:15.939Z"
   },
   {
    "duration": 417,
    "start_time": "2021-12-24T11:25:25.291Z"
   },
   {
    "duration": 8,
    "start_time": "2021-12-24T11:25:41.936Z"
   },
   {
    "duration": 504,
    "start_time": "2021-12-24T11:29:11.604Z"
   },
   {
    "duration": 6,
    "start_time": "2021-12-24T11:31:43.284Z"
   },
   {
    "duration": 6,
    "start_time": "2021-12-24T11:31:49.171Z"
   },
   {
    "duration": 145,
    "start_time": "2021-12-24T11:32:06.338Z"
   },
   {
    "duration": 401,
    "start_time": "2021-12-24T11:32:12.618Z"
   },
   {
    "duration": 6,
    "start_time": "2021-12-24T11:32:43.685Z"
   },
   {
    "duration": 13,
    "start_time": "2021-12-24T11:32:55.244Z"
   },
   {
    "duration": 14,
    "start_time": "2021-12-24T11:34:30.147Z"
   },
   {
    "duration": 970,
    "start_time": "2021-12-24T11:43:42.123Z"
   },
   {
    "duration": 1441,
    "start_time": "2021-12-26T07:12:11.864Z"
   },
   {
    "duration": 885,
    "start_time": "2021-12-26T07:12:13.307Z"
   },
   {
    "duration": 5,
    "start_time": "2021-12-26T07:12:14.196Z"
   },
   {
    "duration": 17,
    "start_time": "2021-12-26T07:12:14.204Z"
   },
   {
    "duration": 5,
    "start_time": "2021-12-26T07:12:14.224Z"
   },
   {
    "duration": 55,
    "start_time": "2021-12-26T07:12:14.232Z"
   },
   {
    "duration": 20,
    "start_time": "2021-12-26T07:12:14.289Z"
   },
   {
    "duration": 435,
    "start_time": "2021-12-26T07:12:14.314Z"
   },
   {
    "duration": 28,
    "start_time": "2021-12-26T07:12:14.752Z"
   },
   {
    "duration": 24,
    "start_time": "2021-12-26T07:12:14.783Z"
   },
   {
    "duration": 19,
    "start_time": "2021-12-26T07:12:14.810Z"
   },
   {
    "duration": 12,
    "start_time": "2021-12-26T07:12:14.863Z"
   },
   {
    "duration": 12,
    "start_time": "2021-12-26T07:12:14.878Z"
   },
   {
    "duration": 321,
    "start_time": "2021-12-26T07:12:14.892Z"
   },
   {
    "duration": 11,
    "start_time": "2021-12-26T07:12:15.215Z"
   },
   {
    "duration": 547,
    "start_time": "2021-12-26T07:12:15.228Z"
   },
   {
    "duration": 10,
    "start_time": "2021-12-26T07:12:15.777Z"
   },
   {
    "duration": 443,
    "start_time": "2021-12-26T07:12:15.790Z"
   },
   {
    "duration": 356,
    "start_time": "2021-12-26T07:12:15.880Z"
   },
   {
    "duration": 355,
    "start_time": "2021-12-26T07:12:15.882Z"
   },
   {
    "duration": 351,
    "start_time": "2021-12-26T07:12:15.888Z"
   },
   {
    "duration": 351,
    "start_time": "2021-12-26T07:12:15.889Z"
   },
   {
    "duration": 875,
    "start_time": "2021-12-26T07:12:58.974Z"
   },
   {
    "duration": 589,
    "start_time": "2021-12-26T07:15:01.543Z"
   },
   {
    "duration": 558,
    "start_time": "2021-12-26T07:15:22.871Z"
   },
   {
    "duration": 535,
    "start_time": "2021-12-26T07:15:26.411Z"
   },
   {
    "duration": 549,
    "start_time": "2021-12-26T07:16:46.735Z"
   },
   {
    "duration": 567,
    "start_time": "2021-12-26T07:17:01.864Z"
   },
   {
    "duration": 608,
    "start_time": "2021-12-26T07:17:10.909Z"
   },
   {
    "duration": 716,
    "start_time": "2021-12-26T07:17:27.008Z"
   },
   {
    "duration": 530,
    "start_time": "2021-12-26T07:18:10.858Z"
   },
   {
    "duration": 12,
    "start_time": "2021-12-26T07:22:21.986Z"
   },
   {
    "duration": 22,
    "start_time": "2021-12-26T07:22:23.343Z"
   },
   {
    "duration": 304,
    "start_time": "2021-12-26T07:22:28.589Z"
   },
   {
    "duration": 103,
    "start_time": "2021-12-26T07:34:02.558Z"
   },
   {
    "duration": 11,
    "start_time": "2021-12-26T07:36:35.679Z"
   },
   {
    "duration": 659,
    "start_time": "2021-12-26T07:37:53.599Z"
   },
   {
    "duration": 720,
    "start_time": "2021-12-26T07:38:47.997Z"
   },
   {
    "duration": 743,
    "start_time": "2021-12-26T07:39:04.520Z"
   },
   {
    "duration": 411,
    "start_time": "2021-12-26T07:39:24.377Z"
   },
   {
    "duration": 751,
    "start_time": "2021-12-26T07:39:31.150Z"
   },
   {
    "duration": 105,
    "start_time": "2021-12-26T07:42:47.176Z"
   },
   {
    "duration": 8,
    "start_time": "2021-12-26T07:42:54.424Z"
   },
   {
    "duration": 8,
    "start_time": "2021-12-26T07:43:04.414Z"
   },
   {
    "duration": 8,
    "start_time": "2021-12-26T07:43:10.615Z"
   },
   {
    "duration": 6,
    "start_time": "2021-12-26T07:43:19.221Z"
   },
   {
    "duration": 6,
    "start_time": "2021-12-26T07:43:38.285Z"
   },
   {
    "duration": 7,
    "start_time": "2021-12-26T07:43:56.061Z"
   },
   {
    "duration": 176,
    "start_time": "2021-12-26T07:53:05.076Z"
   },
   {
    "duration": 5,
    "start_time": "2021-12-26T07:53:11.832Z"
   },
   {
    "duration": 9,
    "start_time": "2021-12-26T07:53:58.190Z"
   },
   {
    "duration": 9,
    "start_time": "2021-12-26T07:54:07.142Z"
   },
   {
    "duration": 5,
    "start_time": "2021-12-26T07:55:53.338Z"
   },
   {
    "duration": 56,
    "start_time": "2021-12-26T07:55:59.367Z"
   },
   {
    "duration": 14,
    "start_time": "2021-12-26T07:56:02.911Z"
   },
   {
    "duration": 315,
    "start_time": "2021-12-26T07:56:26.164Z"
   },
   {
    "duration": 1409,
    "start_time": "2021-12-26T07:56:31.958Z"
   },
   {
    "duration": 292,
    "start_time": "2021-12-26T07:56:47.391Z"
   },
   {
    "duration": 294,
    "start_time": "2021-12-26T07:58:09.370Z"
   },
   {
    "duration": 13,
    "start_time": "2021-12-26T07:58:17.654Z"
   },
   {
    "duration": 13,
    "start_time": "2021-12-26T07:58:24.041Z"
   },
   {
    "duration": 12,
    "start_time": "2021-12-26T07:58:29.989Z"
   },
   {
    "duration": 10,
    "start_time": "2021-12-26T07:58:52.778Z"
   },
   {
    "duration": 1389,
    "start_time": "2021-12-26T08:12:00.906Z"
   },
   {
    "duration": 915,
    "start_time": "2021-12-26T08:12:02.298Z"
   },
   {
    "duration": 5,
    "start_time": "2021-12-26T08:12:03.216Z"
   },
   {
    "duration": 14,
    "start_time": "2021-12-26T08:12:03.224Z"
   },
   {
    "duration": 21,
    "start_time": "2021-12-26T08:12:03.241Z"
   },
   {
    "duration": 31,
    "start_time": "2021-12-26T08:12:03.265Z"
   },
   {
    "duration": 20,
    "start_time": "2021-12-26T08:12:03.298Z"
   },
   {
    "duration": 459,
    "start_time": "2021-12-26T08:12:03.321Z"
   },
   {
    "duration": 19,
    "start_time": "2021-12-26T08:12:03.785Z"
   },
   {
    "duration": 56,
    "start_time": "2021-12-26T08:12:03.807Z"
   },
   {
    "duration": 21,
    "start_time": "2021-12-26T08:12:03.865Z"
   },
   {
    "duration": 11,
    "start_time": "2021-12-26T08:12:03.888Z"
   },
   {
    "duration": 12,
    "start_time": "2021-12-26T08:12:03.901Z"
   },
   {
    "duration": 322,
    "start_time": "2021-12-26T08:12:03.915Z"
   },
   {
    "duration": 578,
    "start_time": "2021-12-26T08:12:04.239Z"
   },
   {
    "duration": 12,
    "start_time": "2021-12-26T08:12:04.819Z"
   },
   {
    "duration": 669,
    "start_time": "2021-12-26T08:12:04.833Z"
   },
   {
    "duration": 10,
    "start_time": "2021-12-26T08:12:05.504Z"
   },
   {
    "duration": 49,
    "start_time": "2021-12-26T08:12:05.516Z"
   },
   {
    "duration": 48,
    "start_time": "2021-12-26T08:31:03.151Z"
   },
   {
    "duration": 520,
    "start_time": "2021-12-26T08:41:02.676Z"
   },
   {
    "duration": 32,
    "start_time": "2021-12-26T08:42:22.819Z"
   },
   {
    "duration": 51,
    "start_time": "2021-12-26T08:44:16.557Z"
   },
   {
    "duration": 6,
    "start_time": "2021-12-26T08:44:35.367Z"
   },
   {
    "duration": 18,
    "start_time": "2021-12-26T08:44:44.809Z"
   },
   {
    "duration": 16,
    "start_time": "2021-12-26T08:45:01.540Z"
   },
   {
    "duration": 296,
    "start_time": "2021-12-26T08:45:32.454Z"
   },
   {
    "duration": 8380,
    "start_time": "2021-12-26T08:45:40.704Z"
   },
   {
    "duration": 8,
    "start_time": "2021-12-26T08:45:52.097Z"
   },
   {
    "duration": 6,
    "start_time": "2021-12-26T08:46:05.086Z"
   },
   {
    "duration": 189,
    "start_time": "2021-12-26T09:07:52.334Z"
   },
   {
    "duration": 57,
    "start_time": "2021-12-26T09:07:54.924Z"
   },
   {
    "duration": 315,
    "start_time": "2021-12-26T09:08:01.932Z"
   },
   {
    "duration": 43,
    "start_time": "2021-12-26T09:08:04.936Z"
   },
   {
    "duration": 137,
    "start_time": "2021-12-26T09:08:44.888Z"
   },
   {
    "duration": 50,
    "start_time": "2021-12-26T09:10:45.335Z"
   },
   {
    "duration": 45,
    "start_time": "2021-12-26T09:10:52.013Z"
   },
   {
    "duration": 49,
    "start_time": "2021-12-26T09:11:02.656Z"
   },
   {
    "duration": 292,
    "start_time": "2021-12-26T09:11:45.523Z"
   },
   {
    "duration": 12,
    "start_time": "2021-12-26T09:11:57.104Z"
   },
   {
    "duration": 6,
    "start_time": "2021-12-26T09:11:57.879Z"
   },
   {
    "duration": 4,
    "start_time": "2021-12-26T10:07:20.617Z"
   },
   {
    "duration": 1459,
    "start_time": "2021-12-26T10:09:28.051Z"
   },
   {
    "duration": 981,
    "start_time": "2021-12-26T10:09:29.512Z"
   },
   {
    "duration": 5,
    "start_time": "2021-12-26T10:09:30.496Z"
   },
   {
    "duration": 21,
    "start_time": "2021-12-26T10:09:30.504Z"
   },
   {
    "duration": 6,
    "start_time": "2021-12-26T10:09:30.528Z"
   },
   {
    "duration": 33,
    "start_time": "2021-12-26T10:09:30.563Z"
   },
   {
    "duration": 21,
    "start_time": "2021-12-26T10:09:30.598Z"
   },
   {
    "duration": 449,
    "start_time": "2021-12-26T10:09:30.622Z"
   },
   {
    "duration": 20,
    "start_time": "2021-12-26T10:09:31.075Z"
   },
   {
    "duration": 29,
    "start_time": "2021-12-26T10:09:31.098Z"
   },
   {
    "duration": 49,
    "start_time": "2021-12-26T10:09:31.129Z"
   },
   {
    "duration": 12,
    "start_time": "2021-12-26T10:09:31.181Z"
   },
   {
    "duration": 18,
    "start_time": "2021-12-26T10:09:31.196Z"
   },
   {
    "duration": 450,
    "start_time": "2021-12-26T10:09:31.216Z"
   },
   {
    "duration": 554,
    "start_time": "2021-12-26T10:09:31.668Z"
   },
   {
    "duration": 13,
    "start_time": "2021-12-26T10:09:32.225Z"
   },
   {
    "duration": 664,
    "start_time": "2021-12-26T10:09:32.240Z"
   },
   {
    "duration": 9,
    "start_time": "2021-12-26T10:09:32.907Z"
   },
   {
    "duration": 49,
    "start_time": "2021-12-26T10:09:32.919Z"
   },
   {
    "duration": 18,
    "start_time": "2021-12-26T10:09:32.971Z"
   },
   {
    "duration": 17,
    "start_time": "2021-12-26T10:09:32.991Z"
   },
   {
    "duration": 4,
    "start_time": "2021-12-26T10:09:33.011Z"
   },
   {
    "duration": 25,
    "start_time": "2021-12-26T10:11:22.852Z"
   },
   {
    "duration": 98,
    "start_time": "2021-12-26T10:13:12.268Z"
   },
   {
    "duration": 121,
    "start_time": "2021-12-26T10:13:14.674Z"
   },
   {
    "duration": 9,
    "start_time": "2021-12-26T10:14:04.888Z"
   },
   {
    "duration": 7,
    "start_time": "2021-12-26T10:14:10.831Z"
   },
   {
    "duration": 5,
    "start_time": "2021-12-26T10:23:00.535Z"
   },
   {
    "duration": 6,
    "start_time": "2021-12-26T10:23:57.657Z"
   },
   {
    "duration": 6,
    "start_time": "2021-12-26T10:24:13.263Z"
   },
   {
    "duration": 166,
    "start_time": "2021-12-26T10:24:24.540Z"
   },
   {
    "duration": 5,
    "start_time": "2021-12-26T10:24:27.004Z"
   },
   {
    "duration": 26922,
    "start_time": "2021-12-26T10:25:54.683Z"
   },
   {
    "duration": 4,
    "start_time": "2021-12-26T10:26:55.212Z"
   },
   {
    "duration": 16,
    "start_time": "2021-12-26T10:27:01.046Z"
   },
   {
    "duration": 318,
    "start_time": "2021-12-26T10:27:01.860Z"
   },
   {
    "duration": 21,
    "start_time": "2021-12-26T10:27:02.338Z"
   },
   {
    "duration": 1436,
    "start_time": "2021-12-26T10:27:35.304Z"
   },
   {
    "duration": 3,
    "start_time": "2021-12-26T10:27:36.743Z"
   },
   {
    "duration": 872,
    "start_time": "2021-12-26T10:27:36.749Z"
   },
   {
    "duration": 5,
    "start_time": "2021-12-26T10:27:37.623Z"
   },
   {
    "duration": 14,
    "start_time": "2021-12-26T10:27:37.630Z"
   },
   {
    "duration": 18,
    "start_time": "2021-12-26T10:27:37.647Z"
   },
   {
    "duration": 31,
    "start_time": "2021-12-26T10:27:37.667Z"
   },
   {
    "duration": 22,
    "start_time": "2021-12-26T10:27:37.700Z"
   },
   {
    "duration": 453,
    "start_time": "2021-12-26T10:27:37.728Z"
   },
   {
    "duration": 19,
    "start_time": "2021-12-26T10:27:38.184Z"
   },
   {
    "duration": 26,
    "start_time": "2021-12-26T10:27:38.205Z"
   },
   {
    "duration": 45,
    "start_time": "2021-12-26T10:27:38.233Z"
   },
   {
    "duration": 12,
    "start_time": "2021-12-26T10:27:38.280Z"
   },
   {
    "duration": 12,
    "start_time": "2021-12-26T10:27:38.295Z"
   },
   {
    "duration": 356,
    "start_time": "2021-12-26T10:27:38.309Z"
   },
   {
    "duration": 550,
    "start_time": "2021-12-26T10:27:38.668Z"
   },
   {
    "duration": 11,
    "start_time": "2021-12-26T10:27:39.220Z"
   },
   {
    "duration": 674,
    "start_time": "2021-12-26T10:27:39.234Z"
   },
   {
    "duration": 9,
    "start_time": "2021-12-26T10:27:39.911Z"
   },
   {
    "duration": 46,
    "start_time": "2021-12-26T10:27:39.923Z"
   },
   {
    "duration": 15,
    "start_time": "2021-12-26T10:27:39.971Z"
   },
   {
    "duration": 14,
    "start_time": "2021-12-26T10:27:39.988Z"
   },
   {
    "duration": 25,
    "start_time": "2021-12-26T10:27:40.005Z"
   },
   {
    "duration": 77817,
    "start_time": "2021-12-26T10:27:40.062Z"
   },
   {
    "duration": 507,
    "start_time": "2021-12-26T10:28:57.375Z"
   },
   {
    "duration": 5,
    "start_time": "2021-12-26T10:51:26.250Z"
   },
   {
    "duration": 5,
    "start_time": "2021-12-26T10:53:55.922Z"
   },
   {
    "duration": 5,
    "start_time": "2021-12-26T10:57:55.625Z"
   },
   {
    "duration": 5,
    "start_time": "2021-12-26T10:58:45.221Z"
   },
   {
    "duration": 4,
    "start_time": "2021-12-26T11:00:00.167Z"
   },
   {
    "duration": 3,
    "start_time": "2021-12-26T11:01:10.680Z"
   },
   {
    "duration": 1638,
    "start_time": "2021-12-26T11:03:59.260Z"
   },
   {
    "duration": 3,
    "start_time": "2021-12-26T11:04:00.901Z"
   },
   {
    "duration": 1005,
    "start_time": "2021-12-26T11:04:00.908Z"
   },
   {
    "duration": 5,
    "start_time": "2021-12-26T11:04:01.916Z"
   },
   {
    "duration": 39,
    "start_time": "2021-12-26T11:04:01.924Z"
   },
   {
    "duration": 7,
    "start_time": "2021-12-26T11:04:01.965Z"
   },
   {
    "duration": 41,
    "start_time": "2021-12-26T11:04:01.974Z"
   },
   {
    "duration": 21,
    "start_time": "2021-12-26T11:04:02.017Z"
   },
   {
    "duration": 465,
    "start_time": "2021-12-26T11:04:02.041Z"
   },
   {
    "duration": 19,
    "start_time": "2021-12-26T11:04:02.510Z"
   },
   {
    "duration": 48,
    "start_time": "2021-12-26T11:04:02.531Z"
   },
   {
    "duration": 24,
    "start_time": "2021-12-26T11:04:02.581Z"
   },
   {
    "duration": 13,
    "start_time": "2021-12-26T11:04:02.608Z"
   },
   {
    "duration": 46,
    "start_time": "2021-12-26T11:04:02.624Z"
   },
   {
    "duration": 317,
    "start_time": "2021-12-26T11:04:02.673Z"
   },
   {
    "duration": 545,
    "start_time": "2021-12-26T11:04:02.993Z"
   },
   {
    "duration": 23,
    "start_time": "2021-12-26T11:04:03.541Z"
   },
   {
    "duration": 651,
    "start_time": "2021-12-26T11:04:03.566Z"
   },
   {
    "duration": 10,
    "start_time": "2021-12-26T11:04:04.219Z"
   },
   {
    "duration": 46,
    "start_time": "2021-12-26T11:04:04.232Z"
   },
   {
    "duration": 7,
    "start_time": "2021-12-26T11:04:04.281Z"
   },
   {
    "duration": 17,
    "start_time": "2021-12-26T11:04:04.291Z"
   },
   {
    "duration": 15,
    "start_time": "2021-12-26T11:04:04.311Z"
   },
   {
    "duration": 138,
    "start_time": "2021-12-26T11:04:04.328Z"
   },
   {
    "duration": 4,
    "start_time": "2021-12-26T11:04:04.468Z"
   },
   {
    "duration": 1032,
    "start_time": "2021-12-26T11:04:04.474Z"
   },
   {
    "duration": 545,
    "start_time": "2021-12-26T11:04:04.963Z"
   },
   {
    "duration": 15,
    "start_time": "2021-12-26T11:05:29.927Z"
   },
   {
    "duration": 7,
    "start_time": "2021-12-26T11:06:54.996Z"
   },
   {
    "duration": 6,
    "start_time": "2021-12-26T11:12:20.267Z"
   },
   {
    "duration": 1470,
    "start_time": "2021-12-26T11:12:30.261Z"
   },
   {
    "duration": 3,
    "start_time": "2021-12-26T11:12:31.734Z"
   },
   {
    "duration": 923,
    "start_time": "2021-12-26T11:12:31.741Z"
   },
   {
    "duration": 5,
    "start_time": "2021-12-26T11:12:32.666Z"
   },
   {
    "duration": 14,
    "start_time": "2021-12-26T11:12:32.674Z"
   },
   {
    "duration": 6,
    "start_time": "2021-12-26T11:12:32.690Z"
   },
   {
    "duration": 64,
    "start_time": "2021-12-26T11:12:32.699Z"
   },
   {
    "duration": 23,
    "start_time": "2021-12-26T11:12:32.767Z"
   },
   {
    "duration": 581,
    "start_time": "2021-12-26T11:12:32.793Z"
   },
   {
    "duration": 25,
    "start_time": "2021-12-26T11:12:33.377Z"
   },
   {
    "duration": 63,
    "start_time": "2021-12-26T11:12:33.405Z"
   },
   {
    "duration": 26,
    "start_time": "2021-12-26T11:12:33.471Z"
   },
   {
    "duration": 14,
    "start_time": "2021-12-26T11:12:33.501Z"
   },
   {
    "duration": 48,
    "start_time": "2021-12-26T11:12:33.518Z"
   },
   {
    "duration": 405,
    "start_time": "2021-12-26T11:12:33.568Z"
   },
   {
    "duration": 531,
    "start_time": "2021-12-26T11:12:33.976Z"
   },
   {
    "duration": 10,
    "start_time": "2021-12-26T11:12:34.510Z"
   },
   {
    "duration": 782,
    "start_time": "2021-12-26T11:12:34.523Z"
   },
   {
    "duration": 12,
    "start_time": "2021-12-26T11:12:35.308Z"
   },
   {
    "duration": 45,
    "start_time": "2021-12-26T11:12:35.323Z"
   },
   {
    "duration": 6,
    "start_time": "2021-12-26T11:12:35.370Z"
   },
   {
    "duration": 16,
    "start_time": "2021-12-26T11:12:35.379Z"
   },
   {
    "duration": 15,
    "start_time": "2021-12-26T11:12:35.401Z"
   },
   {
    "duration": 67,
    "start_time": "2021-12-26T11:12:35.419Z"
   },
   {
    "duration": 3,
    "start_time": "2021-12-26T11:12:35.489Z"
   },
   {
    "duration": 1657,
    "start_time": "2021-12-26T11:12:35.494Z"
   },
   {
    "duration": 585,
    "start_time": "2021-12-26T11:12:36.570Z"
   },
   {
    "duration": 539,
    "start_time": "2021-12-26T11:12:36.618Z"
   },
   {
    "duration": 249,
    "start_time": "2021-12-26T11:14:13.685Z"
   },
   {
    "duration": 250,
    "start_time": "2021-12-26T11:14:33.796Z"
   },
   {
    "duration": 260,
    "start_time": "2021-12-26T11:15:44.883Z"
   },
   {
    "duration": 257,
    "start_time": "2021-12-26T11:15:49.566Z"
   },
   {
    "duration": 249,
    "start_time": "2021-12-26T11:15:57.241Z"
   },
   {
    "duration": 6,
    "start_time": "2021-12-26T11:16:44.815Z"
   },
   {
    "duration": 1124,
    "start_time": "2021-12-26T11:17:00.275Z"
   },
   {
    "duration": 6,
    "start_time": "2021-12-26T11:17:16.151Z"
   },
   {
    "duration": 1150,
    "start_time": "2021-12-26T11:17:20.958Z"
   },
   {
    "duration": 16,
    "start_time": "2021-12-26T11:17:50.673Z"
   },
   {
    "duration": 1492,
    "start_time": "2021-12-26T11:18:02.843Z"
   },
   {
    "duration": 4,
    "start_time": "2021-12-26T11:18:04.337Z"
   },
   {
    "duration": 901,
    "start_time": "2021-12-26T11:18:04.345Z"
   },
   {
    "duration": 14,
    "start_time": "2021-12-26T11:18:05.249Z"
   },
   {
    "duration": 13,
    "start_time": "2021-12-26T11:18:05.266Z"
   },
   {
    "duration": 6,
    "start_time": "2021-12-26T11:18:05.282Z"
   },
   {
    "duration": 34,
    "start_time": "2021-12-26T11:18:05.292Z"
   },
   {
    "duration": 21,
    "start_time": "2021-12-26T11:18:05.363Z"
   },
   {
    "duration": 429,
    "start_time": "2021-12-26T11:18:05.387Z"
   },
   {
    "duration": 19,
    "start_time": "2021-12-26T11:18:05.818Z"
   },
   {
    "duration": 47,
    "start_time": "2021-12-26T11:18:05.840Z"
   },
   {
    "duration": 20,
    "start_time": "2021-12-26T11:18:05.890Z"
   },
   {
    "duration": 53,
    "start_time": "2021-12-26T11:18:05.912Z"
   },
   {
    "duration": 12,
    "start_time": "2021-12-26T11:18:05.967Z"
   },
   {
    "duration": 318,
    "start_time": "2021-12-26T11:18:05.982Z"
   },
   {
    "duration": 571,
    "start_time": "2021-12-26T11:18:06.303Z"
   },
   {
    "duration": 12,
    "start_time": "2021-12-26T11:18:06.876Z"
   },
   {
    "duration": 667,
    "start_time": "2021-12-26T11:18:06.890Z"
   },
   {
    "duration": 9,
    "start_time": "2021-12-26T11:18:07.559Z"
   },
   {
    "duration": 21,
    "start_time": "2021-12-26T11:18:07.570Z"
   },
   {
    "duration": 6,
    "start_time": "2021-12-26T11:18:07.594Z"
   },
   {
    "duration": 17,
    "start_time": "2021-12-26T11:18:07.603Z"
   },
   {
    "duration": 53,
    "start_time": "2021-12-26T11:18:07.624Z"
   },
   {
    "duration": 25,
    "start_time": "2021-12-26T11:18:07.680Z"
   },
   {
    "duration": 3,
    "start_time": "2021-12-26T11:18:07.708Z"
   },
   {
    "duration": 34317,
    "start_time": "2021-12-26T11:18:07.714Z"
   },
   {
    "duration": 6,
    "start_time": "2021-12-26T11:18:42.034Z"
   },
   {
    "duration": 22,
    "start_time": "2021-12-26T11:18:42.042Z"
   },
   {
    "duration": 6,
    "start_time": "2021-12-26T11:19:33.635Z"
   },
   {
    "duration": 1496,
    "start_time": "2021-12-26T11:20:04.745Z"
   },
   {
    "duration": 3,
    "start_time": "2021-12-26T11:20:06.244Z"
   },
   {
    "duration": 903,
    "start_time": "2021-12-26T11:20:06.264Z"
   },
   {
    "duration": 5,
    "start_time": "2021-12-26T11:20:07.170Z"
   },
   {
    "duration": 15,
    "start_time": "2021-12-26T11:20:07.178Z"
   },
   {
    "duration": 6,
    "start_time": "2021-12-26T11:20:07.195Z"
   },
   {
    "duration": 65,
    "start_time": "2021-12-26T11:20:07.205Z"
   },
   {
    "duration": 20,
    "start_time": "2021-12-26T11:20:07.273Z"
   },
   {
    "duration": 645,
    "start_time": "2021-12-26T11:20:07.298Z"
   },
   {
    "duration": 32,
    "start_time": "2021-12-26T11:20:07.946Z"
   },
   {
    "duration": 33,
    "start_time": "2021-12-26T11:20:07.981Z"
   },
   {
    "duration": 54,
    "start_time": "2021-12-26T11:20:08.018Z"
   },
   {
    "duration": 17,
    "start_time": "2021-12-26T11:20:08.075Z"
   },
   {
    "duration": 18,
    "start_time": "2021-12-26T11:20:08.095Z"
   },
   {
    "duration": 466,
    "start_time": "2021-12-26T11:20:08.116Z"
   },
   {
    "duration": 831,
    "start_time": "2021-12-26T11:20:08.585Z"
   },
   {
    "duration": 15,
    "start_time": "2021-12-26T11:20:09.419Z"
   },
   {
    "duration": 1055,
    "start_time": "2021-12-26T11:20:09.437Z"
   },
   {
    "duration": 14,
    "start_time": "2021-12-26T11:20:10.495Z"
   },
   {
    "duration": 22,
    "start_time": "2021-12-26T11:20:10.512Z"
   },
   {
    "duration": 29,
    "start_time": "2021-12-26T11:20:10.536Z"
   },
   {
    "duration": 15,
    "start_time": "2021-12-26T11:20:10.569Z"
   },
   {
    "duration": 14,
    "start_time": "2021-12-26T11:20:10.587Z"
   },
   {
    "duration": 65,
    "start_time": "2021-12-26T11:20:10.604Z"
   },
   {
    "duration": 3,
    "start_time": "2021-12-26T11:20:10.672Z"
   },
   {
    "duration": 3948025,
    "start_time": "2021-12-26T11:20:10.677Z"
   },
   {
    "duration": 655,
    "start_time": "2021-12-26T12:25:58.050Z"
   },
   {
    "duration": 249,
    "start_time": "2021-12-26T12:27:03.022Z"
   },
   {
    "duration": 915,
    "start_time": "2021-12-26T12:28:26.282Z"
   },
   {
    "duration": 10,
    "start_time": "2021-12-26T12:28:47.442Z"
   },
   {
    "duration": 1835,
    "start_time": "2021-12-26T12:30:29.233Z"
   },
   {
    "duration": 4,
    "start_time": "2021-12-26T12:30:31.073Z"
   },
   {
    "duration": 955,
    "start_time": "2021-12-26T12:30:31.081Z"
   },
   {
    "duration": 6,
    "start_time": "2021-12-26T12:30:32.039Z"
   },
   {
    "duration": 14,
    "start_time": "2021-12-26T12:30:32.062Z"
   },
   {
    "duration": 17,
    "start_time": "2021-12-26T12:30:32.078Z"
   },
   {
    "duration": 40,
    "start_time": "2021-12-26T12:30:32.097Z"
   },
   {
    "duration": 36,
    "start_time": "2021-12-26T12:30:32.140Z"
   },
   {
    "duration": 430,
    "start_time": "2021-12-26T12:30:32.180Z"
   },
   {
    "duration": 19,
    "start_time": "2021-12-26T12:30:32.614Z"
   },
   {
    "duration": 48,
    "start_time": "2021-12-26T12:30:32.635Z"
   },
   {
    "duration": 21,
    "start_time": "2021-12-26T12:30:32.685Z"
   },
   {
    "duration": 12,
    "start_time": "2021-12-26T12:30:32.708Z"
   },
   {
    "duration": 46,
    "start_time": "2021-12-26T12:30:32.722Z"
   },
   {
    "duration": 311,
    "start_time": "2021-12-26T12:30:32.771Z"
   },
   {
    "duration": 553,
    "start_time": "2021-12-26T12:30:33.086Z"
   },
   {
    "duration": 25,
    "start_time": "2021-12-26T12:30:33.642Z"
   },
   {
    "duration": 643,
    "start_time": "2021-12-26T12:30:33.669Z"
   },
   {
    "duration": 9,
    "start_time": "2021-12-26T12:30:34.314Z"
   },
   {
    "duration": 54,
    "start_time": "2021-12-26T12:30:34.325Z"
   },
   {
    "duration": 7,
    "start_time": "2021-12-26T12:30:34.382Z"
   },
   {
    "duration": 25,
    "start_time": "2021-12-26T12:30:34.393Z"
   },
   {
    "duration": 124,
    "start_time": "2021-12-26T12:30:34.421Z"
   },
   {
    "duration": 42,
    "start_time": "2021-12-26T12:30:34.549Z"
   },
   {
    "duration": 4,
    "start_time": "2021-12-26T12:30:34.595Z"
   },
   {
    "duration": 55259,
    "start_time": "2021-12-26T12:30:34.602Z"
   },
   {
    "duration": 655,
    "start_time": "2021-12-26T12:31:29.209Z"
   },
   {
    "duration": 1444,
    "start_time": "2021-12-26T12:31:34.589Z"
   },
   {
    "duration": 4,
    "start_time": "2021-12-26T12:31:36.036Z"
   },
   {
    "duration": 906,
    "start_time": "2021-12-26T12:31:36.043Z"
   },
   {
    "duration": 5,
    "start_time": "2021-12-26T12:31:36.952Z"
   },
   {
    "duration": 15,
    "start_time": "2021-12-26T12:31:36.963Z"
   },
   {
    "duration": 6,
    "start_time": "2021-12-26T12:31:36.980Z"
   },
   {
    "duration": 29,
    "start_time": "2021-12-26T12:31:36.988Z"
   },
   {
    "duration": 55,
    "start_time": "2021-12-26T12:31:37.023Z"
   },
   {
    "duration": 428,
    "start_time": "2021-12-26T12:31:37.081Z"
   },
   {
    "duration": 20,
    "start_time": "2021-12-26T12:31:37.512Z"
   },
   {
    "duration": 48,
    "start_time": "2021-12-26T12:31:37.535Z"
   },
   {
    "duration": 22,
    "start_time": "2021-12-26T12:31:37.586Z"
   },
   {
    "duration": 13,
    "start_time": "2021-12-26T12:31:37.611Z"
   },
   {
    "duration": 12,
    "start_time": "2021-12-26T12:31:37.663Z"
   },
   {
    "duration": 313,
    "start_time": "2021-12-26T12:31:37.677Z"
   },
   {
    "duration": 539,
    "start_time": "2021-12-26T12:31:37.992Z"
   },
   {
    "duration": 11,
    "start_time": "2021-12-26T12:31:38.534Z"
   },
   {
    "duration": 685,
    "start_time": "2021-12-26T12:31:38.548Z"
   },
   {
    "duration": 10,
    "start_time": "2021-12-26T12:31:39.237Z"
   },
   {
    "duration": 22,
    "start_time": "2021-12-26T12:31:39.264Z"
   },
   {
    "duration": 6,
    "start_time": "2021-12-26T12:31:39.289Z"
   },
   {
    "duration": 19,
    "start_time": "2021-12-26T12:31:39.298Z"
   },
   {
    "duration": 56,
    "start_time": "2021-12-26T12:31:39.321Z"
   },
   {
    "duration": 27,
    "start_time": "2021-12-26T12:31:39.380Z"
   },
   {
    "duration": 3,
    "start_time": "2021-12-26T12:31:39.410Z"
   },
   {
    "duration": 237635,
    "start_time": "2021-12-26T12:31:39.416Z"
   },
   {
    "duration": 11,
    "start_time": "2021-12-26T12:35:37.053Z"
   },
   {
    "duration": 5,
    "start_time": "2021-12-26T12:40:19.404Z"
   },
   {
    "duration": 5,
    "start_time": "2021-12-26T12:42:10.378Z"
   },
   {
    "duration": 1502,
    "start_time": "2021-12-26T12:46:19.441Z"
   },
   {
    "duration": 3,
    "start_time": "2021-12-26T12:46:20.946Z"
   },
   {
    "duration": 1005,
    "start_time": "2021-12-26T12:46:20.963Z"
   },
   {
    "duration": 5,
    "start_time": "2021-12-26T12:46:21.971Z"
   },
   {
    "duration": 14,
    "start_time": "2021-12-26T12:46:21.979Z"
   },
   {
    "duration": 6,
    "start_time": "2021-12-26T12:46:21.995Z"
   },
   {
    "duration": 60,
    "start_time": "2021-12-26T12:46:22.003Z"
   },
   {
    "duration": 21,
    "start_time": "2021-12-26T12:46:22.066Z"
   },
   {
    "duration": 418,
    "start_time": "2021-12-26T12:46:22.090Z"
   },
   {
    "duration": 19,
    "start_time": "2021-12-26T12:46:22.511Z"
   },
   {
    "duration": 45,
    "start_time": "2021-12-26T12:46:22.533Z"
   },
   {
    "duration": 21,
    "start_time": "2021-12-26T12:46:22.581Z"
   },
   {
    "duration": 12,
    "start_time": "2021-12-26T12:46:22.605Z"
   },
   {
    "duration": 44,
    "start_time": "2021-12-26T12:46:22.620Z"
   },
   {
    "duration": 298,
    "start_time": "2021-12-26T12:46:22.667Z"
   },
   {
    "duration": 533,
    "start_time": "2021-12-26T12:46:22.969Z"
   },
   {
    "duration": 10,
    "start_time": "2021-12-26T12:46:23.505Z"
   },
   {
    "duration": 667,
    "start_time": "2021-12-26T12:46:23.518Z"
   },
   {
    "duration": 11,
    "start_time": "2021-12-26T12:46:24.188Z"
   },
   {
    "duration": 20,
    "start_time": "2021-12-26T12:46:24.202Z"
   },
   {
    "duration": 39,
    "start_time": "2021-12-26T12:46:24.225Z"
   },
   {
    "duration": 20,
    "start_time": "2021-12-26T12:46:24.267Z"
   },
   {
    "duration": 20,
    "start_time": "2021-12-26T12:46:24.293Z"
   },
   {
    "duration": 65,
    "start_time": "2021-12-26T12:46:24.317Z"
   },
   {
    "duration": 5,
    "start_time": "2021-12-26T12:46:24.385Z"
   },
   {
    "duration": 2256429,
    "start_time": "2021-12-26T12:46:24.393Z"
   },
   {
    "duration": 5,
    "start_time": "2021-12-26T13:24:00.825Z"
   },
   {
    "duration": 1492,
    "start_time": "2021-12-26T14:01:06.629Z"
   },
   {
    "duration": 3,
    "start_time": "2021-12-26T14:01:08.124Z"
   },
   {
    "duration": 888,
    "start_time": "2021-12-26T14:01:08.130Z"
   },
   {
    "duration": 5,
    "start_time": "2021-12-26T14:01:09.021Z"
   },
   {
    "duration": 14,
    "start_time": "2021-12-26T14:01:09.028Z"
   },
   {
    "duration": 21,
    "start_time": "2021-12-26T14:01:09.044Z"
   },
   {
    "duration": 28,
    "start_time": "2021-12-26T14:01:09.067Z"
   },
   {
    "duration": 21,
    "start_time": "2021-12-26T14:01:09.098Z"
   },
   {
    "duration": 448,
    "start_time": "2021-12-26T14:01:09.123Z"
   },
   {
    "duration": 20,
    "start_time": "2021-12-26T14:01:09.574Z"
   },
   {
    "duration": 27,
    "start_time": "2021-12-26T14:01:09.596Z"
   },
   {
    "duration": 48,
    "start_time": "2021-12-26T14:01:09.626Z"
   },
   {
    "duration": 13,
    "start_time": "2021-12-26T14:01:09.676Z"
   },
   {
    "duration": 12,
    "start_time": "2021-12-26T14:01:09.692Z"
   },
   {
    "duration": 333,
    "start_time": "2021-12-26T14:01:09.706Z"
   },
   {
    "duration": 535,
    "start_time": "2021-12-26T14:01:10.042Z"
   },
   {
    "duration": 12,
    "start_time": "2021-12-26T14:01:10.580Z"
   },
   {
    "duration": 669,
    "start_time": "2021-12-26T14:01:10.594Z"
   },
   {
    "duration": 8,
    "start_time": "2021-12-26T14:01:11.266Z"
   },
   {
    "duration": 19,
    "start_time": "2021-12-26T14:01:11.277Z"
   },
   {
    "duration": 7,
    "start_time": "2021-12-26T14:01:11.298Z"
   },
   {
    "duration": 16,
    "start_time": "2021-12-26T14:01:11.307Z"
   },
   {
    "duration": 87,
    "start_time": "2021-12-26T14:01:11.363Z"
   },
   {
    "duration": 31,
    "start_time": "2021-12-26T14:01:11.453Z"
   },
   {
    "duration": 3,
    "start_time": "2021-12-26T14:01:11.486Z"
   },
   {
    "duration": 12167630,
    "start_time": "2021-12-26T14:01:11.491Z"
   },
   {
    "duration": 336,
    "start_time": "2021-12-26T17:23:59.126Z"
   },
   {
    "duration": 1120,
    "start_time": "2021-12-27T04:25:54.736Z"
   },
   {
    "duration": 3,
    "start_time": "2021-12-27T04:25:55.858Z"
   },
   {
    "duration": 738,
    "start_time": "2021-12-27T04:25:55.863Z"
   },
   {
    "duration": 4,
    "start_time": "2021-12-27T04:25:56.603Z"
   },
   {
    "duration": 8,
    "start_time": "2021-12-27T04:25:56.609Z"
   },
   {
    "duration": 4,
    "start_time": "2021-12-27T04:25:56.618Z"
   },
   {
    "duration": 23,
    "start_time": "2021-12-27T04:25:56.624Z"
   },
   {
    "duration": 73,
    "start_time": "2021-12-27T04:25:56.650Z"
   },
   {
    "duration": 327,
    "start_time": "2021-12-27T04:25:56.741Z"
   },
   {
    "duration": 21,
    "start_time": "2021-12-27T04:25:57.070Z"
   },
   {
    "duration": 22,
    "start_time": "2021-12-27T04:25:57.093Z"
   },
   {
    "duration": 14,
    "start_time": "2021-12-27T04:25:57.117Z"
   },
   {
    "duration": 7,
    "start_time": "2021-12-27T04:25:57.133Z"
   },
   {
    "duration": 9,
    "start_time": "2021-12-27T04:25:57.142Z"
   },
   {
    "duration": 221,
    "start_time": "2021-12-27T04:25:57.153Z"
   },
   {
    "duration": 335,
    "start_time": "2021-12-27T04:25:57.377Z"
   },
   {
    "duration": 9,
    "start_time": "2021-12-27T04:25:57.714Z"
   },
   {
    "duration": 405,
    "start_time": "2021-12-27T04:25:57.725Z"
   },
   {
    "duration": 7,
    "start_time": "2021-12-27T04:25:58.132Z"
   },
   {
    "duration": 29,
    "start_time": "2021-12-27T04:25:58.141Z"
   },
   {
    "duration": 19,
    "start_time": "2021-12-27T04:25:58.172Z"
   },
   {
    "duration": 24,
    "start_time": "2021-12-27T04:25:58.193Z"
   },
   {
    "duration": 16,
    "start_time": "2021-12-27T04:25:58.220Z"
   },
   {
    "duration": 25,
    "start_time": "2021-12-27T04:25:58.238Z"
   },
   {
    "duration": 3,
    "start_time": "2021-12-27T04:25:58.264Z"
   },
   {
    "duration": 2336878,
    "start_time": "2021-12-27T04:25:58.269Z"
   },
   {
    "duration": 3,
    "start_time": "2021-12-27T05:04:55.148Z"
   },
   {
    "duration": 1231,
    "start_time": "2021-12-27T07:32:21.963Z"
   },
   {
    "duration": 2,
    "start_time": "2021-12-27T07:32:23.196Z"
   },
   {
    "duration": 775,
    "start_time": "2021-12-27T07:32:23.200Z"
   },
   {
    "duration": 3,
    "start_time": "2021-12-27T07:32:23.977Z"
   },
   {
    "duration": 7,
    "start_time": "2021-12-27T07:32:23.991Z"
   },
   {
    "duration": 4,
    "start_time": "2021-12-27T07:32:24.000Z"
   },
   {
    "duration": 27,
    "start_time": "2021-12-27T07:32:24.006Z"
   },
   {
    "duration": 15,
    "start_time": "2021-12-27T07:32:24.034Z"
   },
   {
    "duration": 285,
    "start_time": "2021-12-27T07:32:24.052Z"
   },
   {
    "duration": 14,
    "start_time": "2021-12-27T07:32:24.339Z"
   },
   {
    "duration": 40,
    "start_time": "2021-12-27T07:32:24.355Z"
   },
   {
    "duration": 16,
    "start_time": "2021-12-27T07:32:24.396Z"
   },
   {
    "duration": 8,
    "start_time": "2021-12-27T07:32:24.414Z"
   },
   {
    "duration": 10,
    "start_time": "2021-12-27T07:32:24.423Z"
   },
   {
    "duration": 221,
    "start_time": "2021-12-27T07:32:24.435Z"
   },
   {
    "duration": 344,
    "start_time": "2021-12-27T07:32:24.658Z"
   },
   {
    "duration": 8,
    "start_time": "2021-12-27T07:32:25.004Z"
   },
   {
    "duration": 419,
    "start_time": "2021-12-27T07:32:25.014Z"
   },
   {
    "duration": 7,
    "start_time": "2021-12-27T07:32:25.434Z"
   },
   {
    "duration": 24,
    "start_time": "2021-12-27T07:32:25.442Z"
   },
   {
    "duration": 4,
    "start_time": "2021-12-27T07:32:25.468Z"
   },
   {
    "duration": 23,
    "start_time": "2021-12-27T07:32:25.474Z"
   },
   {
    "duration": 93,
    "start_time": "2021-12-27T07:32:25.498Z"
   },
   {
    "duration": 20,
    "start_time": "2021-12-27T07:32:25.593Z"
   },
   {
    "duration": 3,
    "start_time": "2021-12-27T07:32:25.614Z"
   },
   {
    "duration": 56510,
    "start_time": "2021-12-27T07:32:25.619Z"
   },
   {
    "duration": 3,
    "start_time": "2021-12-27T07:33:22.132Z"
   },
   {
    "duration": 4,
    "start_time": "2021-12-27T07:36:51.090Z"
   },
   {
    "duration": 12002,
    "start_time": "2021-12-27T07:37:01.387Z"
   },
   {
    "duration": 13212,
    "start_time": "2021-12-27T07:37:16.162Z"
   },
   {
    "duration": 56147,
    "start_time": "2021-12-27T07:37:32.027Z"
   },
   {
    "duration": 1091,
    "start_time": "2021-12-27T07:39:06.261Z"
   },
   {
    "duration": 3,
    "start_time": "2021-12-27T07:39:07.354Z"
   },
   {
    "duration": 717,
    "start_time": "2021-12-27T07:39:07.359Z"
   },
   {
    "duration": 4,
    "start_time": "2021-12-27T07:39:08.077Z"
   },
   {
    "duration": 7,
    "start_time": "2021-12-27T07:39:08.091Z"
   },
   {
    "duration": 5,
    "start_time": "2021-12-27T07:39:08.100Z"
   },
   {
    "duration": 24,
    "start_time": "2021-12-27T07:39:08.107Z"
   },
   {
    "duration": 14,
    "start_time": "2021-12-27T07:39:08.132Z"
   },
   {
    "duration": 308,
    "start_time": "2021-12-27T07:39:08.149Z"
   },
   {
    "duration": 15,
    "start_time": "2021-12-27T07:39:08.460Z"
   },
   {
    "duration": 37,
    "start_time": "2021-12-27T07:39:08.477Z"
   },
   {
    "duration": 15,
    "start_time": "2021-12-27T07:39:08.516Z"
   },
   {
    "duration": 7,
    "start_time": "2021-12-27T07:39:08.533Z"
   },
   {
    "duration": 8,
    "start_time": "2021-12-27T07:39:08.542Z"
   },
   {
    "duration": 225,
    "start_time": "2021-12-27T07:39:08.551Z"
   },
   {
    "duration": 349,
    "start_time": "2021-12-27T07:39:08.777Z"
   },
   {
    "duration": 8,
    "start_time": "2021-12-27T07:39:09.127Z"
   },
   {
    "duration": 412,
    "start_time": "2021-12-27T07:39:09.137Z"
   },
   {
    "duration": 6,
    "start_time": "2021-12-27T07:39:09.551Z"
   },
   {
    "duration": 18,
    "start_time": "2021-12-27T07:39:09.558Z"
   },
   {
    "duration": 16,
    "start_time": "2021-12-27T07:39:09.578Z"
   },
   {
    "duration": 12,
    "start_time": "2021-12-27T07:39:09.596Z"
   },
   {
    "duration": 89,
    "start_time": "2021-12-27T07:39:09.610Z"
   },
   {
    "duration": 19,
    "start_time": "2021-12-27T07:39:09.700Z"
   },
   {
    "duration": 3,
    "start_time": "2021-12-27T07:39:09.721Z"
   },
   {
    "duration": 231126,
    "start_time": "2021-12-27T07:39:09.725Z"
   },
   {
    "duration": 269,
    "start_time": "2021-12-27T07:43:00.854Z"
   },
   {
    "duration": 1183,
    "start_time": "2021-12-27T07:43:14.067Z"
   },
   {
    "duration": 7,
    "start_time": "2021-12-27T07:43:15.253Z"
   },
   {
    "duration": 714,
    "start_time": "2021-12-27T07:43:15.263Z"
   },
   {
    "duration": 3,
    "start_time": "2021-12-27T07:43:15.979Z"
   },
   {
    "duration": 12,
    "start_time": "2021-12-27T07:43:15.984Z"
   },
   {
    "duration": 5,
    "start_time": "2021-12-27T07:43:15.998Z"
   },
   {
    "duration": 21,
    "start_time": "2021-12-27T07:43:16.005Z"
   },
   {
    "duration": 15,
    "start_time": "2021-12-27T07:43:16.028Z"
   },
   {
    "duration": 275,
    "start_time": "2021-12-27T07:43:16.046Z"
   },
   {
    "duration": 13,
    "start_time": "2021-12-27T07:43:16.323Z"
   },
   {
    "duration": 32,
    "start_time": "2021-12-27T07:43:16.337Z"
   },
   {
    "duration": 21,
    "start_time": "2021-12-27T07:43:16.371Z"
   },
   {
    "duration": 7,
    "start_time": "2021-12-27T07:43:16.394Z"
   },
   {
    "duration": 24,
    "start_time": "2021-12-27T07:43:16.402Z"
   },
   {
    "duration": 194,
    "start_time": "2021-12-27T07:43:16.427Z"
   },
   {
    "duration": 339,
    "start_time": "2021-12-27T07:43:16.623Z"
   },
   {
    "duration": 8,
    "start_time": "2021-12-27T07:43:16.964Z"
   },
   {
    "duration": 421,
    "start_time": "2021-12-27T07:43:16.973Z"
   },
   {
    "duration": 7,
    "start_time": "2021-12-27T07:43:17.396Z"
   },
   {
    "duration": 19,
    "start_time": "2021-12-27T07:43:17.404Z"
   },
   {
    "duration": 4,
    "start_time": "2021-12-27T07:43:17.424Z"
   },
   {
    "duration": 12,
    "start_time": "2021-12-27T07:43:17.430Z"
   },
   {
    "duration": 97,
    "start_time": "2021-12-27T07:43:17.443Z"
   },
   {
    "duration": 19,
    "start_time": "2021-12-27T07:43:17.541Z"
   },
   {
    "duration": 2,
    "start_time": "2021-12-27T07:43:17.562Z"
   },
   {
    "duration": 5071747,
    "start_time": "2021-12-27T07:43:17.565Z"
   },
   {
    "duration": 3,
    "start_time": "2021-12-27T09:07:49.315Z"
   },
   {
    "duration": 3,
    "start_time": "2021-12-27T10:45:58.512Z"
   },
   {
    "duration": 3,
    "start_time": "2021-12-27T10:47:02.367Z"
   },
   {
    "duration": 18274,
    "start_time": "2021-12-27T10:47:07.334Z"
   },
   {
    "duration": 639,
    "start_time": "2021-12-27T10:49:11.808Z"
   },
   {
    "duration": 3,
    "start_time": "2021-12-27T10:51:08.167Z"
   },
   {
    "duration": 3,
    "start_time": "2021-12-27T10:51:13.783Z"
   },
   {
    "duration": 548,
    "start_time": "2021-12-27T10:51:32.351Z"
   },
   {
    "duration": 2,
    "start_time": "2021-12-27T10:52:26.808Z"
   },
   {
    "duration": 3,
    "start_time": "2021-12-27T10:52:40.679Z"
   },
   {
    "duration": 17781,
    "start_time": "2021-12-27T10:52:42.352Z"
   },
   {
    "duration": 5,
    "start_time": "2021-12-27T11:45:48.117Z"
   },
   {
    "duration": 5,
    "start_time": "2021-12-27T11:45:59.237Z"
   },
   {
    "duration": 3,
    "start_time": "2021-12-27T11:58:00.924Z"
   },
   {
    "duration": 3,
    "start_time": "2021-12-27T12:09:10.866Z"
   },
   {
    "duration": 3,
    "start_time": "2021-12-27T12:09:20.319Z"
   },
   {
    "duration": 1027,
    "start_time": "2021-12-27T12:17:11.629Z"
   },
   {
    "duration": 3,
    "start_time": "2021-12-27T12:17:12.658Z"
   },
   {
    "duration": 773,
    "start_time": "2021-12-27T12:17:12.666Z"
   },
   {
    "duration": 3,
    "start_time": "2021-12-27T12:17:13.441Z"
   },
   {
    "duration": 69,
    "start_time": "2021-12-27T12:17:13.446Z"
   },
   {
    "duration": 19,
    "start_time": "2021-12-27T12:17:13.517Z"
   },
   {
    "duration": 40,
    "start_time": "2021-12-27T12:17:13.539Z"
   },
   {
    "duration": 16,
    "start_time": "2021-12-27T12:17:13.582Z"
   },
   {
    "duration": 293,
    "start_time": "2021-12-27T12:17:13.600Z"
   },
   {
    "duration": 14,
    "start_time": "2021-12-27T12:17:13.895Z"
   },
   {
    "duration": 84,
    "start_time": "2021-12-27T12:17:13.910Z"
   },
   {
    "duration": 88,
    "start_time": "2021-12-27T12:17:13.996Z"
   },
   {
    "duration": 22,
    "start_time": "2021-12-27T12:17:14.085Z"
   },
   {
    "duration": 46,
    "start_time": "2021-12-27T12:17:14.109Z"
   },
   {
    "duration": 222,
    "start_time": "2021-12-27T12:17:14.157Z"
   },
   {
    "duration": 369,
    "start_time": "2021-12-27T12:17:14.381Z"
   },
   {
    "duration": 7,
    "start_time": "2021-12-27T12:17:14.752Z"
   },
   {
    "duration": 409,
    "start_time": "2021-12-27T12:17:14.761Z"
   },
   {
    "duration": 6,
    "start_time": "2021-12-27T12:17:15.172Z"
   },
   {
    "duration": 25,
    "start_time": "2021-12-27T12:17:15.180Z"
   },
   {
    "duration": 4,
    "start_time": "2021-12-27T12:17:15.207Z"
   },
   {
    "duration": 12,
    "start_time": "2021-12-27T12:17:15.214Z"
   },
   {
    "duration": 12,
    "start_time": "2021-12-27T12:17:15.228Z"
   },
   {
    "duration": 21,
    "start_time": "2021-12-27T12:17:15.242Z"
   },
   {
    "duration": 26,
    "start_time": "2021-12-27T12:17:15.265Z"
   },
   {
    "duration": 1256,
    "start_time": "2021-12-27T16:03:30.129Z"
   },
   {
    "duration": 3,
    "start_time": "2021-12-27T16:03:31.387Z"
   },
   {
    "duration": 4711,
    "start_time": "2021-12-27T16:03:31.395Z"
   },
   {
    "duration": 4,
    "start_time": "2021-12-27T16:03:36.108Z"
   },
   {
    "duration": 24,
    "start_time": "2021-12-27T16:03:36.114Z"
   },
   {
    "duration": 7,
    "start_time": "2021-12-27T16:03:36.140Z"
   },
   {
    "duration": 28,
    "start_time": "2021-12-27T16:03:36.149Z"
   },
   {
    "duration": 15,
    "start_time": "2021-12-27T16:03:36.179Z"
   },
   {
    "duration": 282,
    "start_time": "2021-12-27T16:03:36.196Z"
   },
   {
    "duration": 16,
    "start_time": "2021-12-27T16:03:36.480Z"
   },
   {
    "duration": 35,
    "start_time": "2021-12-27T16:03:36.498Z"
   },
   {
    "duration": 31,
    "start_time": "2021-12-27T16:03:36.535Z"
   },
   {
    "duration": 8,
    "start_time": "2021-12-27T16:03:36.568Z"
   },
   {
    "duration": 25,
    "start_time": "2021-12-27T16:03:36.578Z"
   },
   {
    "duration": 252,
    "start_time": "2021-12-27T16:03:36.605Z"
   },
   {
    "duration": 388,
    "start_time": "2021-12-27T16:03:36.859Z"
   },
   {
    "duration": 17,
    "start_time": "2021-12-27T16:03:37.249Z"
   },
   {
    "duration": 405,
    "start_time": "2021-12-27T16:03:37.268Z"
   },
   {
    "duration": 9,
    "start_time": "2021-12-27T16:03:37.675Z"
   },
   {
    "duration": 25,
    "start_time": "2021-12-27T16:03:37.685Z"
   },
   {
    "duration": 5,
    "start_time": "2021-12-27T16:03:37.712Z"
   },
   {
    "duration": 15,
    "start_time": "2021-12-27T16:03:37.720Z"
   },
   {
    "duration": 30,
    "start_time": "2021-12-27T16:03:37.736Z"
   },
   {
    "duration": 22,
    "start_time": "2021-12-27T16:03:37.768Z"
   },
   {
    "duration": 3,
    "start_time": "2021-12-27T16:03:37.791Z"
   },
   {
    "duration": 5344561,
    "start_time": "2021-12-27T16:03:37.795Z"
   },
   {
    "duration": 3,
    "start_time": "2021-12-27T17:32:42.358Z"
   },
   {
    "duration": 7,
    "start_time": "2021-12-27T17:32:42.363Z"
   },
   {
    "duration": 9,
    "start_time": "2021-12-27T17:32:42.372Z"
   },
   {
    "duration": 408,
    "start_time": "2021-12-27T17:32:42.383Z"
   },
   {
    "duration": 8689,
    "start_time": "2021-12-27T18:05:02.172Z"
   },
   {
    "duration": 7,
    "start_time": "2021-12-27T18:05:35.030Z"
   },
   {
    "duration": -233,
    "start_time": "2021-12-27T18:06:05.658Z"
   },
   {
    "duration": 6420,
    "start_time": "2021-12-27T18:06:05.886Z"
   },
   {
    "duration": 7338,
    "start_time": "2021-12-27T18:06:18.061Z"
   },
   {
    "duration": 9,
    "start_time": "2021-12-27T18:06:32.500Z"
   },
   {
    "duration": 6,
    "start_time": "2021-12-27T18:06:39.021Z"
   },
   {
    "duration": 375,
    "start_time": "2021-12-27T18:06:44.241Z"
   },
   {
    "duration": 1537,
    "start_time": "2021-12-27T18:07:33.264Z"
   },
   {
    "duration": 4,
    "start_time": "2021-12-27T18:07:34.804Z"
   },
   {
    "duration": 5340,
    "start_time": "2021-12-27T18:07:34.811Z"
   },
   {
    "duration": 3,
    "start_time": "2021-12-27T18:07:40.153Z"
   },
   {
    "duration": 37,
    "start_time": "2021-12-27T18:07:40.158Z"
   },
   {
    "duration": 5,
    "start_time": "2021-12-27T18:07:40.197Z"
   },
   {
    "duration": 26,
    "start_time": "2021-12-27T18:07:40.203Z"
   },
   {
    "duration": 24,
    "start_time": "2021-12-27T18:07:40.232Z"
   },
   {
    "duration": 336,
    "start_time": "2021-12-27T18:07:40.259Z"
   },
   {
    "duration": 14,
    "start_time": "2021-12-27T18:07:40.599Z"
   },
   {
    "duration": 29,
    "start_time": "2021-12-27T18:07:40.615Z"
   },
   {
    "duration": 38,
    "start_time": "2021-12-27T18:07:40.646Z"
   },
   {
    "duration": 10,
    "start_time": "2021-12-27T18:07:40.686Z"
   },
   {
    "duration": 14,
    "start_time": "2021-12-27T18:07:40.698Z"
   },
   {
    "duration": 211,
    "start_time": "2021-12-27T18:07:40.713Z"
   },
   {
    "duration": 391,
    "start_time": "2021-12-27T18:07:40.927Z"
   },
   {
    "duration": 10,
    "start_time": "2021-12-27T18:07:41.320Z"
   },
   {
    "duration": 550,
    "start_time": "2021-12-27T18:07:41.332Z"
   },
   {
    "duration": 11,
    "start_time": "2021-12-27T18:07:41.885Z"
   },
   {
    "duration": 23,
    "start_time": "2021-12-27T18:07:41.898Z"
   },
   {
    "duration": 10,
    "start_time": "2021-12-27T18:07:41.923Z"
   },
   {
    "duration": 39,
    "start_time": "2021-12-27T18:07:41.936Z"
   },
   {
    "duration": 17,
    "start_time": "2021-12-27T18:07:41.980Z"
   },
   {
    "duration": 23,
    "start_time": "2021-12-27T18:07:41.999Z"
   },
   {
    "duration": 2,
    "start_time": "2021-12-27T18:07:42.024Z"
   },
   {
    "duration": 5473690,
    "start_time": "2021-12-27T18:07:42.028Z"
   },
   {
    "duration": 5,
    "start_time": "2021-12-27T19:38:55.721Z"
   },
   {
    "duration": 10,
    "start_time": "2021-12-27T19:38:55.728Z"
   },
   {
    "duration": 21,
    "start_time": "2021-12-27T19:38:55.741Z"
   },
   {
    "duration": 8527,
    "start_time": "2021-12-27T19:38:55.764Z"
   },
   {
    "duration": 1154,
    "start_time": "2021-12-29T04:23:13.907Z"
   },
   {
    "duration": 2,
    "start_time": "2021-12-29T04:23:15.063Z"
   },
   {
    "duration": 730,
    "start_time": "2021-12-29T04:23:15.067Z"
   },
   {
    "duration": 3,
    "start_time": "2021-12-29T04:23:15.799Z"
   },
   {
    "duration": 9,
    "start_time": "2021-12-29T04:23:15.804Z"
   },
   {
    "duration": 4,
    "start_time": "2021-12-29T04:23:15.814Z"
   },
   {
    "duration": 24,
    "start_time": "2021-12-29T04:23:15.820Z"
   },
   {
    "duration": 14,
    "start_time": "2021-12-29T04:23:15.846Z"
   },
   {
    "duration": 254,
    "start_time": "2021-12-29T04:23:15.891Z"
   },
   {
    "duration": 13,
    "start_time": "2021-12-29T04:23:16.147Z"
   },
   {
    "duration": 38,
    "start_time": "2021-12-29T04:23:16.161Z"
   },
   {
    "duration": 14,
    "start_time": "2021-12-29T04:23:16.201Z"
   },
   {
    "duration": 8,
    "start_time": "2021-12-29T04:23:16.217Z"
   },
   {
    "duration": 10,
    "start_time": "2021-12-29T04:23:16.226Z"
   },
   {
    "duration": 203,
    "start_time": "2021-12-29T04:23:16.237Z"
   },
   {
    "duration": 329,
    "start_time": "2021-12-29T04:23:16.442Z"
   },
   {
    "duration": 8,
    "start_time": "2021-12-29T04:23:16.772Z"
   },
   {
    "duration": 392,
    "start_time": "2021-12-29T04:23:16.792Z"
   },
   {
    "duration": 10,
    "start_time": "2021-12-29T04:23:17.185Z"
   },
   {
    "duration": 24,
    "start_time": "2021-12-29T04:23:17.196Z"
   },
   {
    "duration": 4,
    "start_time": "2021-12-29T04:23:17.221Z"
   },
   {
    "duration": 13,
    "start_time": "2021-12-29T04:23:17.226Z"
   },
   {
    "duration": 90,
    "start_time": "2021-12-29T04:23:17.241Z"
   },
   {
    "duration": 20,
    "start_time": "2021-12-29T04:23:17.332Z"
   },
   {
    "duration": 3,
    "start_time": "2021-12-29T04:23:17.353Z"
   },
   {
    "duration": 208,
    "start_time": "2021-12-29T04:23:17.357Z"
   },
   {
    "duration": 218,
    "start_time": "2021-12-29T04:23:17.567Z"
   },
   {
    "duration": -37,
    "start_time": "2021-12-29T04:23:17.823Z"
   },
   {
    "duration": -37,
    "start_time": "2021-12-29T04:23:17.824Z"
   },
   {
    "duration": -38,
    "start_time": "2021-12-29T04:23:17.826Z"
   },
   {
    "duration": 4,
    "start_time": "2021-12-29T04:26:47.903Z"
   },
   {
    "duration": 408,
    "start_time": "2021-12-29T04:26:58.623Z"
   },
   {
    "duration": 169,
    "start_time": "2021-12-29T04:27:13.766Z"
   },
   {
    "duration": 433,
    "start_time": "2021-12-29T04:27:18.103Z"
   },
   {
    "duration": 470,
    "start_time": "2021-12-29T04:27:27.078Z"
   },
   {
    "duration": 1078,
    "start_time": "2021-12-29T04:27:51.375Z"
   },
   {
    "duration": 2,
    "start_time": "2021-12-29T04:27:52.455Z"
   },
   {
    "duration": 6,
    "start_time": "2021-12-29T04:27:52.459Z"
   },
   {
    "duration": 743,
    "start_time": "2021-12-29T04:27:52.467Z"
   },
   {
    "duration": 3,
    "start_time": "2021-12-29T04:27:53.212Z"
   },
   {
    "duration": 12,
    "start_time": "2021-12-29T04:27:53.216Z"
   },
   {
    "duration": 4,
    "start_time": "2021-12-29T04:27:53.229Z"
   },
   {
    "duration": 24,
    "start_time": "2021-12-29T04:27:53.234Z"
   },
   {
    "duration": 36,
    "start_time": "2021-12-29T04:27:53.260Z"
   },
   {
    "duration": 271,
    "start_time": "2021-12-29T04:27:53.299Z"
   },
   {
    "duration": 21,
    "start_time": "2021-12-29T04:27:53.572Z"
   },
   {
    "duration": 21,
    "start_time": "2021-12-29T04:27:53.595Z"
   },
   {
    "duration": 16,
    "start_time": "2021-12-29T04:27:53.618Z"
   },
   {
    "duration": 7,
    "start_time": "2021-12-29T04:27:53.636Z"
   },
   {
    "duration": 11,
    "start_time": "2021-12-29T04:27:53.645Z"
   },
   {
    "duration": 223,
    "start_time": "2021-12-29T04:27:53.657Z"
   },
   {
    "duration": 343,
    "start_time": "2021-12-29T04:27:53.881Z"
   },
   {
    "duration": 409,
    "start_time": "2021-12-29T04:27:54.225Z"
   },
   {
    "duration": 7,
    "start_time": "2021-12-29T04:27:54.636Z"
   },
   {
    "duration": 478,
    "start_time": "2021-12-29T04:27:54.644Z"
   },
   {
    "duration": 5,
    "start_time": "2021-12-29T04:27:55.124Z"
   },
   {
    "duration": 23,
    "start_time": "2021-12-29T04:27:55.131Z"
   },
   {
    "duration": 5,
    "start_time": "2021-12-29T04:27:55.155Z"
   },
   {
    "duration": 17,
    "start_time": "2021-12-29T04:27:55.161Z"
   },
   {
    "duration": 21,
    "start_time": "2021-12-29T04:27:55.180Z"
   },
   {
    "duration": 21,
    "start_time": "2021-12-29T04:27:55.202Z"
   },
   {
    "duration": 2,
    "start_time": "2021-12-29T04:27:55.226Z"
   },
   {
    "duration": 225,
    "start_time": "2021-12-29T04:27:55.230Z"
   },
   {
    "duration": 181,
    "start_time": "2021-12-29T04:27:55.457Z"
   },
   {
    "duration": -36,
    "start_time": "2021-12-29T04:27:55.676Z"
   },
   {
    "duration": -36,
    "start_time": "2021-12-29T04:27:55.677Z"
   },
   {
    "duration": -38,
    "start_time": "2021-12-29T04:27:55.679Z"
   },
   {
    "duration": 513,
    "start_time": "2021-12-29T04:29:41.360Z"
   },
   {
    "duration": 455,
    "start_time": "2021-12-29T04:31:01.968Z"
   },
   {
    "duration": 479,
    "start_time": "2021-12-29T04:31:39.112Z"
   },
   {
    "duration": 2437,
    "start_time": "2021-12-29T04:34:41.586Z"
   },
   {
    "duration": 1076,
    "start_time": "2021-12-29T04:34:53.468Z"
   },
   {
    "duration": 3,
    "start_time": "2021-12-29T04:34:54.546Z"
   },
   {
    "duration": 7,
    "start_time": "2021-12-29T04:34:54.551Z"
   },
   {
    "duration": 736,
    "start_time": "2021-12-29T04:34:54.560Z"
   },
   {
    "duration": 4,
    "start_time": "2021-12-29T04:34:55.297Z"
   },
   {
    "duration": 9,
    "start_time": "2021-12-29T04:34:55.303Z"
   },
   {
    "duration": 7,
    "start_time": "2021-12-29T04:34:55.313Z"
   },
   {
    "duration": 24,
    "start_time": "2021-12-29T04:34:55.322Z"
   },
   {
    "duration": 15,
    "start_time": "2021-12-29T04:34:55.348Z"
   },
   {
    "duration": 294,
    "start_time": "2021-12-29T04:34:55.365Z"
   },
   {
    "duration": 15,
    "start_time": "2021-12-29T04:34:55.661Z"
   },
   {
    "duration": 24,
    "start_time": "2021-12-29T04:34:55.691Z"
   },
   {
    "duration": 16,
    "start_time": "2021-12-29T04:34:55.717Z"
   },
   {
    "duration": 9,
    "start_time": "2021-12-29T04:34:55.735Z"
   },
   {
    "duration": 10,
    "start_time": "2021-12-29T04:34:55.746Z"
   },
   {
    "duration": 224,
    "start_time": "2021-12-29T04:34:55.758Z"
   },
   {
    "duration": 337,
    "start_time": "2021-12-29T04:34:55.984Z"
   },
   {
    "duration": 468,
    "start_time": "2021-12-29T04:34:56.323Z"
   },
   {
    "duration": 8,
    "start_time": "2021-12-29T04:34:56.793Z"
   },
   {
    "duration": 464,
    "start_time": "2021-12-29T04:34:56.803Z"
   },
   {
    "duration": 7,
    "start_time": "2021-12-29T04:34:57.269Z"
   },
   {
    "duration": 29,
    "start_time": "2021-12-29T04:34:57.278Z"
   },
   {
    "duration": 5,
    "start_time": "2021-12-29T04:34:57.311Z"
   },
   {
    "duration": 20,
    "start_time": "2021-12-29T04:34:57.318Z"
   },
   {
    "duration": 13,
    "start_time": "2021-12-29T04:34:57.340Z"
   },
   {
    "duration": 43,
    "start_time": "2021-12-29T04:34:57.354Z"
   },
   {
    "duration": 3,
    "start_time": "2021-12-29T04:34:57.399Z"
   },
   {
    "duration": 2416,
    "start_time": "2021-12-29T04:34:57.404Z"
   },
   {
    "duration": 5,
    "start_time": "2021-12-29T04:34:59.822Z"
   },
   {
    "duration": 14,
    "start_time": "2021-12-29T04:34:59.829Z"
   },
   {
    "duration": 15,
    "start_time": "2021-12-29T04:34:59.844Z"
   },
   {
    "duration": 531,
    "start_time": "2021-12-29T04:34:59.860Z"
   },
   {
    "duration": 767,
    "start_time": "2021-12-29T04:49:41.476Z"
   },
   {
    "duration": 867,
    "start_time": "2021-12-29T04:50:24.727Z"
   },
   {
    "duration": 613,
    "start_time": "2021-12-29T04:50:57.039Z"
   },
   {
    "duration": 515,
    "start_time": "2021-12-29T04:51:05.672Z"
   },
   {
    "duration": 496,
    "start_time": "2021-12-29T04:51:11.303Z"
   },
   {
    "duration": 640,
    "start_time": "2021-12-29T04:51:28.159Z"
   },
   {
    "duration": 582,
    "start_time": "2021-12-29T04:51:49.623Z"
   },
   {
    "duration": 609,
    "start_time": "2021-12-29T04:52:31.088Z"
   },
   {
    "duration": 59,
    "start_time": "2021-12-29T05:14:53.908Z"
   },
   {
    "duration": 579,
    "start_time": "2021-12-29T05:15:00.732Z"
   },
   {
    "duration": 601,
    "start_time": "2021-12-29T05:15:21.213Z"
   },
   {
    "duration": 670,
    "start_time": "2021-12-29T05:15:29.228Z"
   },
   {
    "duration": 634,
    "start_time": "2021-12-29T05:15:34.844Z"
   },
   {
    "duration": 748,
    "start_time": "2021-12-29T05:15:42.773Z"
   },
   {
    "duration": 4,
    "start_time": "2021-12-29T05:37:22.943Z"
   },
   {
    "duration": 6,
    "start_time": "2021-12-29T05:37:22.949Z"
   },
   {
    "duration": 7,
    "start_time": "2021-12-29T05:37:22.957Z"
   },
   {
    "duration": 776,
    "start_time": "2021-12-29T05:37:22.966Z"
   },
   {
    "duration": 3,
    "start_time": "2021-12-29T05:37:23.744Z"
   },
   {
    "duration": 6,
    "start_time": "2021-12-29T05:37:23.749Z"
   },
   {
    "duration": 12,
    "start_time": "2021-12-29T05:37:23.756Z"
   },
   {
    "duration": 31,
    "start_time": "2021-12-29T05:37:23.770Z"
   },
   {
    "duration": 15,
    "start_time": "2021-12-29T05:37:23.803Z"
   },
   {
    "duration": 282,
    "start_time": "2021-12-29T05:37:23.819Z"
   },
   {
    "duration": 15,
    "start_time": "2021-12-29T05:37:24.102Z"
   },
   {
    "duration": 27,
    "start_time": "2021-12-29T05:37:24.119Z"
   },
   {
    "duration": 43,
    "start_time": "2021-12-29T05:37:24.148Z"
   },
   {
    "duration": 11,
    "start_time": "2021-12-29T05:37:24.193Z"
   },
   {
    "duration": 7,
    "start_time": "2021-12-29T05:37:24.206Z"
   },
   {
    "duration": 210,
    "start_time": "2021-12-29T05:37:24.214Z"
   },
   {
    "duration": 339,
    "start_time": "2021-12-29T05:37:24.427Z"
   },
   {
    "duration": 664,
    "start_time": "2021-12-29T05:37:24.768Z"
   },
   {
    "duration": 7,
    "start_time": "2021-12-29T05:37:25.434Z"
   },
   {
    "duration": 420,
    "start_time": "2021-12-29T05:37:25.443Z"
   },
   {
    "duration": 6,
    "start_time": "2021-12-29T05:37:25.864Z"
   },
   {
    "duration": 26,
    "start_time": "2021-12-29T05:37:25.872Z"
   },
   {
    "duration": 4,
    "start_time": "2021-12-29T05:37:25.899Z"
   },
   {
    "duration": 12,
    "start_time": "2021-12-29T05:37:25.905Z"
   },
   {
    "duration": 13,
    "start_time": "2021-12-29T05:37:25.919Z"
   },
   {
    "duration": 18,
    "start_time": "2021-12-29T05:37:25.934Z"
   },
   {
    "duration": 2,
    "start_time": "2021-12-29T05:37:25.954Z"
   },
   {
    "duration": 2458,
    "start_time": "2021-12-29T05:37:25.958Z"
   },
   {
    "duration": 4,
    "start_time": "2021-12-29T05:37:28.418Z"
   },
   {
    "duration": 5,
    "start_time": "2021-12-29T05:37:28.424Z"
   },
   {
    "duration": 5,
    "start_time": "2021-12-29T05:37:28.431Z"
   },
   {
    "duration": 503,
    "start_time": "2021-12-29T05:37:28.438Z"
   },
   {
    "duration": 622,
    "start_time": "2021-12-29T05:39:06.194Z"
   },
   {
    "duration": 590,
    "start_time": "2021-12-29T05:39:38.523Z"
   },
   {
    "duration": 611,
    "start_time": "2021-12-29T05:39:58.305Z"
   },
   {
    "duration": 733,
    "start_time": "2021-12-29T05:40:16.098Z"
   },
   {
    "duration": 638,
    "start_time": "2021-12-29T05:40:47.002Z"
   },
   {
    "duration": 624,
    "start_time": "2021-12-29T05:41:03.746Z"
   },
   {
    "duration": 609,
    "start_time": "2021-12-29T05:42:22.034Z"
   },
   {
    "duration": 661,
    "start_time": "2021-12-29T05:42:35.210Z"
   },
   {
    "duration": 649,
    "start_time": "2021-12-29T05:42:49.332Z"
   },
   {
    "duration": 686,
    "start_time": "2021-12-29T05:50:55.196Z"
   },
   {
    "duration": 7,
    "start_time": "2021-12-29T05:59:15.161Z"
   },
   {
    "duration": 7,
    "start_time": "2021-12-29T06:01:00.662Z"
   },
   {
    "duration": 8,
    "start_time": "2021-12-29T06:01:32.293Z"
   },
   {
    "duration": 60,
    "start_time": "2021-12-29T06:03:57.037Z"
   },
   {
    "duration": 3,
    "start_time": "2021-12-29T06:15:20.830Z"
   },
   {
    "duration": 4093,
    "start_time": "2021-12-29T06:29:35.183Z"
   },
   {
    "duration": 188,
    "start_time": "2021-12-29T06:30:03.743Z"
   },
   {
    "duration": 4028,
    "start_time": "2021-12-29T06:30:24.111Z"
   },
   {
    "duration": 3981,
    "start_time": "2021-12-29T06:30:56.129Z"
   },
   {
    "duration": 174,
    "start_time": "2021-12-29T06:35:27.512Z"
   },
   {
    "duration": 1234,
    "start_time": "2021-12-29T06:35:32.664Z"
   },
   {
    "duration": 3479,
    "start_time": "2021-12-29T06:38:30.136Z"
   },
   {
    "duration": 1089,
    "start_time": "2021-12-29T06:38:39.489Z"
   },
   {
    "duration": 1124,
    "start_time": "2021-12-29T06:38:59.504Z"
   },
   {
    "duration": 65,
    "start_time": "2021-12-29T06:40:55.306Z"
   },
   {
    "duration": 14697,
    "start_time": "2021-12-29T06:41:14.728Z"
   },
   {
    "duration": 13705,
    "start_time": "2021-12-29T06:42:26.608Z"
   },
   {
    "duration": 4,
    "start_time": "2021-12-29T06:44:07.985Z"
   },
   {
    "duration": 29486,
    "start_time": "2021-12-29T06:44:18.786Z"
   },
   {
    "duration": 29682,
    "start_time": "2021-12-29T06:51:57.856Z"
   },
   {
    "duration": 7,
    "start_time": "2021-12-29T06:52:32.721Z"
   },
   {
    "duration": 1028,
    "start_time": "2021-12-29T06:58:51.041Z"
   },
   {
    "duration": 3,
    "start_time": "2021-12-29T06:58:52.071Z"
   },
   {
    "duration": 5,
    "start_time": "2021-12-29T06:58:52.076Z"
   },
   {
    "duration": 730,
    "start_time": "2021-12-29T06:58:52.083Z"
   },
   {
    "duration": 4,
    "start_time": "2021-12-29T06:58:52.814Z"
   },
   {
    "duration": 12,
    "start_time": "2021-12-29T06:58:52.819Z"
   },
   {
    "duration": 10,
    "start_time": "2021-12-29T06:58:52.832Z"
   },
   {
    "duration": 38,
    "start_time": "2021-12-29T06:58:52.845Z"
   },
   {
    "duration": 19,
    "start_time": "2021-12-29T06:58:52.885Z"
   },
   {
    "duration": 271,
    "start_time": "2021-12-29T06:58:52.906Z"
   },
   {
    "duration": 21,
    "start_time": "2021-12-29T06:58:53.180Z"
   },
   {
    "duration": 22,
    "start_time": "2021-12-29T06:58:53.203Z"
   },
   {
    "duration": 17,
    "start_time": "2021-12-29T06:58:53.226Z"
   },
   {
    "duration": 9,
    "start_time": "2021-12-29T06:58:53.245Z"
   },
   {
    "duration": 39,
    "start_time": "2021-12-29T06:58:53.256Z"
   },
   {
    "duration": 196,
    "start_time": "2021-12-29T06:58:53.297Z"
   },
   {
    "duration": 332,
    "start_time": "2021-12-29T06:58:53.495Z"
   },
   {
    "duration": 640,
    "start_time": "2021-12-29T06:58:53.829Z"
   },
   {
    "duration": 9,
    "start_time": "2021-12-29T06:58:54.471Z"
   },
   {
    "duration": 9,
    "start_time": "2021-12-29T06:58:54.492Z"
   },
   {
    "duration": 482,
    "start_time": "2021-12-29T06:58:54.504Z"
   },
   {
    "duration": 7,
    "start_time": "2021-12-29T06:58:54.991Z"
   },
   {
    "duration": 18,
    "start_time": "2021-12-29T06:58:55.002Z"
   },
   {
    "duration": 5,
    "start_time": "2021-12-29T06:58:55.022Z"
   },
   {
    "duration": 11,
    "start_time": "2021-12-29T06:58:55.028Z"
   },
   {
    "duration": 12,
    "start_time": "2021-12-29T06:58:55.041Z"
   },
   {
    "duration": 57,
    "start_time": "2021-12-29T06:58:55.054Z"
   },
   {
    "duration": 4,
    "start_time": "2021-12-29T06:58:55.113Z"
   },
   {
    "duration": 1075,
    "start_time": "2021-12-29T06:58:55.118Z"
   },
   {
    "duration": 29567,
    "start_time": "2021-12-29T06:58:56.195Z"
   },
   {
    "duration": 4869252,
    "start_time": "2021-12-29T06:59:25.764Z"
   },
   {
    "duration": 14,
    "start_time": "2021-12-29T08:20:35.018Z"
   },
   {
    "duration": 1539,
    "start_time": "2022-08-22T13:05:34.531Z"
   },
   {
    "duration": 0,
    "start_time": "2022-08-22T13:05:36.073Z"
   },
   {
    "duration": 0,
    "start_time": "2022-08-22T13:05:36.075Z"
   },
   {
    "duration": 0,
    "start_time": "2022-08-22T13:05:36.077Z"
   },
   {
    "duration": 0,
    "start_time": "2022-08-22T13:05:36.079Z"
   },
   {
    "duration": 0,
    "start_time": "2022-08-22T13:05:36.082Z"
   },
   {
    "duration": 0,
    "start_time": "2022-08-22T13:05:36.084Z"
   },
   {
    "duration": 0,
    "start_time": "2022-08-22T13:05:36.085Z"
   },
   {
    "duration": 0,
    "start_time": "2022-08-22T13:05:36.087Z"
   },
   {
    "duration": 0,
    "start_time": "2022-08-22T13:05:36.088Z"
   },
   {
    "duration": 0,
    "start_time": "2022-08-22T13:05:36.089Z"
   },
   {
    "duration": 0,
    "start_time": "2022-08-22T13:05:36.090Z"
   },
   {
    "duration": 0,
    "start_time": "2022-08-22T13:05:36.092Z"
   },
   {
    "duration": 0,
    "start_time": "2022-08-22T13:05:36.093Z"
   },
   {
    "duration": 0,
    "start_time": "2022-08-22T13:05:36.093Z"
   },
   {
    "duration": 0,
    "start_time": "2022-08-22T13:05:36.094Z"
   },
   {
    "duration": 0,
    "start_time": "2022-08-22T13:05:36.095Z"
   },
   {
    "duration": 0,
    "start_time": "2022-08-22T13:05:36.096Z"
   },
   {
    "duration": 1,
    "start_time": "2022-08-22T13:05:36.097Z"
   },
   {
    "duration": 0,
    "start_time": "2022-08-22T13:05:36.098Z"
   },
   {
    "duration": 0,
    "start_time": "2022-08-22T13:05:36.099Z"
   },
   {
    "duration": 0,
    "start_time": "2022-08-22T13:05:36.100Z"
   },
   {
    "duration": 0,
    "start_time": "2022-08-22T13:05:36.101Z"
   },
   {
    "duration": 0,
    "start_time": "2022-08-22T13:05:36.102Z"
   },
   {
    "duration": 0,
    "start_time": "2022-08-22T13:05:36.103Z"
   },
   {
    "duration": 0,
    "start_time": "2022-08-22T13:05:36.104Z"
   },
   {
    "duration": 0,
    "start_time": "2022-08-22T13:05:36.105Z"
   },
   {
    "duration": 0,
    "start_time": "2022-08-22T13:05:36.106Z"
   },
   {
    "duration": 0,
    "start_time": "2022-08-22T13:05:36.107Z"
   },
   {
    "duration": 0,
    "start_time": "2022-08-22T13:05:36.108Z"
   },
   {
    "duration": 0,
    "start_time": "2022-08-22T13:05:36.158Z"
   },
   {
    "duration": 0,
    "start_time": "2022-08-22T13:05:36.159Z"
   },
   {
    "duration": 0,
    "start_time": "2022-08-22T13:05:36.160Z"
   },
   {
    "duration": 1265,
    "start_time": "2022-08-22T13:06:17.869Z"
   },
   {
    "duration": 2,
    "start_time": "2022-08-22T13:06:19.136Z"
   },
   {
    "duration": 7,
    "start_time": "2022-08-22T13:06:19.139Z"
   },
   {
    "duration": 2833,
    "start_time": "2022-08-22T13:06:19.148Z"
   },
   {
    "duration": 4,
    "start_time": "2022-08-22T13:06:21.983Z"
   },
   {
    "duration": 13,
    "start_time": "2022-08-22T13:06:21.988Z"
   },
   {
    "duration": 5,
    "start_time": "2022-08-22T13:06:22.003Z"
   },
   {
    "duration": 26,
    "start_time": "2022-08-22T13:06:22.009Z"
   },
   {
    "duration": 14,
    "start_time": "2022-08-22T13:06:22.036Z"
   },
   {
    "duration": 305,
    "start_time": "2022-08-22T13:06:22.052Z"
   },
   {
    "duration": 13,
    "start_time": "2022-08-22T13:06:22.358Z"
   },
   {
    "duration": 24,
    "start_time": "2022-08-22T13:06:22.372Z"
   },
   {
    "duration": 13,
    "start_time": "2022-08-22T13:06:22.397Z"
   },
   {
    "duration": 7,
    "start_time": "2022-08-22T13:06:22.413Z"
   },
   {
    "duration": 37,
    "start_time": "2022-08-22T13:06:22.421Z"
   },
   {
    "duration": 164,
    "start_time": "2022-08-22T13:06:22.460Z"
   },
   {
    "duration": 244,
    "start_time": "2022-08-22T13:06:22.626Z"
   },
   {
    "duration": 825,
    "start_time": "2022-08-22T13:06:22.871Z"
   },
   {
    "duration": 7,
    "start_time": "2022-08-22T13:06:23.698Z"
   },
   {
    "duration": 23,
    "start_time": "2022-08-22T13:06:23.707Z"
   },
   {
    "duration": 291,
    "start_time": "2022-08-22T13:06:23.732Z"
   },
   {
    "duration": 6,
    "start_time": "2022-08-22T13:06:24.024Z"
   },
   {
    "duration": 35,
    "start_time": "2022-08-22T13:06:24.032Z"
   },
   {
    "duration": 6,
    "start_time": "2022-08-22T13:06:24.068Z"
   },
   {
    "duration": 35,
    "start_time": "2022-08-22T13:06:24.076Z"
   },
   {
    "duration": 15,
    "start_time": "2022-08-22T13:06:24.113Z"
   },
   {
    "duration": 23,
    "start_time": "2022-08-22T13:06:24.130Z"
   },
   {
    "duration": 2,
    "start_time": "2022-08-22T13:06:24.155Z"
   },
   {
    "duration": 999,
    "start_time": "2022-08-22T13:06:24.159Z"
   },
   {
    "duration": 1503,
    "start_time": "2022-08-23T12:08:08.732Z"
   },
   {
    "duration": 3,
    "start_time": "2022-08-23T12:08:10.238Z"
   },
   {
    "duration": 7,
    "start_time": "2022-08-23T12:08:10.243Z"
   },
   {
    "duration": 2266,
    "start_time": "2022-08-23T12:08:10.252Z"
   },
   {
    "duration": 4,
    "start_time": "2022-08-23T12:08:12.519Z"
   },
   {
    "duration": 9,
    "start_time": "2022-08-23T12:08:12.525Z"
   },
   {
    "duration": 6,
    "start_time": "2022-08-23T12:08:12.536Z"
   },
   {
    "duration": 26,
    "start_time": "2022-08-23T12:08:12.544Z"
   },
   {
    "duration": 27,
    "start_time": "2022-08-23T12:08:12.572Z"
   },
   {
    "duration": 361,
    "start_time": "2022-08-23T12:08:12.603Z"
   },
   {
    "duration": 13,
    "start_time": "2022-08-23T12:08:12.965Z"
   },
   {
    "duration": 20,
    "start_time": "2022-08-23T12:08:12.993Z"
   },
   {
    "duration": 14,
    "start_time": "2022-08-23T12:08:13.015Z"
   },
   {
    "duration": 9,
    "start_time": "2022-08-23T12:08:13.030Z"
   },
   {
    "duration": 15,
    "start_time": "2022-08-23T12:08:13.040Z"
   },
   {
    "duration": 264,
    "start_time": "2022-08-23T12:08:13.057Z"
   },
   {
    "duration": 270,
    "start_time": "2022-08-23T12:08:13.323Z"
   },
   {
    "duration": 913,
    "start_time": "2022-08-23T12:08:13.594Z"
   },
   {
    "duration": 8,
    "start_time": "2022-08-23T12:08:14.509Z"
   },
   {
    "duration": 10,
    "start_time": "2022-08-23T12:08:14.519Z"
   },
   {
    "duration": 322,
    "start_time": "2022-08-23T12:08:14.530Z"
   },
   {
    "duration": 6,
    "start_time": "2022-08-23T12:08:14.853Z"
   },
   {
    "duration": 33,
    "start_time": "2022-08-23T12:08:14.861Z"
   },
   {
    "duration": 4,
    "start_time": "2022-08-23T12:08:14.896Z"
   },
   {
    "duration": 14,
    "start_time": "2022-08-23T12:08:14.901Z"
   },
   {
    "duration": 12,
    "start_time": "2022-08-23T12:08:14.917Z"
   },
   {
    "duration": 24,
    "start_time": "2022-08-23T12:08:14.930Z"
   },
   {
    "duration": 3,
    "start_time": "2022-08-23T12:08:14.957Z"
   },
   {
    "duration": 1537,
    "start_time": "2022-08-23T12:08:14.961Z"
   },
   {
    "duration": 33849,
    "start_time": "2022-08-23T12:08:16.500Z"
   },
   {
    "duration": 10000,
    "start_time": "2022-08-23T13:43:04.201Z"
   },
   {
    "duration": 8,
    "start_time": "2022-08-23T13:43:14.292Z"
   },
   {
    "duration": 391,
    "start_time": "2022-08-23T13:43:14.304Z"
   },
   {
    "duration": 6697,
    "start_time": "2022-08-23T13:43:14.697Z"
   },
   {
    "duration": 7,
    "start_time": "2022-08-23T13:43:21.396Z"
   },
   {
    "duration": 102,
    "start_time": "2022-08-23T13:43:21.493Z"
   },
   {
    "duration": 100,
    "start_time": "2022-08-23T13:43:21.599Z"
   },
   {
    "duration": 398,
    "start_time": "2022-08-23T13:43:21.701Z"
   },
   {
    "duration": 196,
    "start_time": "2022-08-23T13:43:22.104Z"
   },
   {
    "duration": 3315,
    "start_time": "2022-08-23T13:43:22.392Z"
   },
   {
    "duration": 108,
    "start_time": "2022-08-23T13:43:25.796Z"
   },
   {
    "duration": 208,
    "start_time": "2022-08-23T13:43:25.993Z"
   },
   {
    "duration": 99,
    "start_time": "2022-08-23T13:43:26.204Z"
   },
   {
    "duration": 96,
    "start_time": "2022-08-23T13:43:26.398Z"
   },
   {
    "duration": 104,
    "start_time": "2022-08-23T13:43:26.499Z"
   },
   {
    "duration": 1891,
    "start_time": "2022-08-23T13:43:26.705Z"
   },
   {
    "duration": 2696,
    "start_time": "2022-08-23T13:43:28.598Z"
   },
   {
    "duration": 6598,
    "start_time": "2022-08-23T13:43:31.302Z"
   },
   {
    "duration": 92,
    "start_time": "2022-08-23T13:43:37.902Z"
   },
   {
    "duration": 201,
    "start_time": "2022-08-23T13:43:37.996Z"
   },
   {
    "duration": 3301,
    "start_time": "2022-08-23T13:43:38.200Z"
   },
   {
    "duration": 96,
    "start_time": "2022-08-23T13:43:41.598Z"
   },
   {
    "duration": 400,
    "start_time": "2022-08-23T13:43:41.696Z"
   },
   {
    "duration": 97,
    "start_time": "2022-08-23T13:43:42.197Z"
   },
   {
    "duration": 187,
    "start_time": "2022-08-23T13:43:42.305Z"
   },
   {
    "duration": 210,
    "start_time": "2022-08-23T13:43:42.494Z"
   },
   {
    "duration": 304,
    "start_time": "2022-08-23T13:43:42.793Z"
   },
   {
    "duration": 103,
    "start_time": "2022-08-23T13:43:43.192Z"
   },
   {
    "duration": 3311,
    "start_time": "2022-08-23T13:43:43.296Z"
   },
   {
    "duration": 283697,
    "start_time": "2022-08-23T13:43:46.609Z"
   },
   {
    "duration": 9306,
    "start_time": "2022-08-23T15:18:23.397Z"
   },
   {
    "duration": 8,
    "start_time": "2022-08-23T15:18:32.795Z"
   },
   {
    "duration": 220,
    "start_time": "2022-08-23T15:18:32.894Z"
   },
   {
    "duration": 7204,
    "start_time": "2022-08-23T15:18:33.116Z"
   },
   {
    "duration": 4,
    "start_time": "2022-08-23T15:18:40.323Z"
   },
   {
    "duration": 13,
    "start_time": "2022-08-23T15:18:40.329Z"
   },
   {
    "duration": 103,
    "start_time": "2022-08-23T15:18:40.394Z"
   },
   {
    "duration": 199,
    "start_time": "2022-08-23T15:18:40.499Z"
   },
   {
    "duration": 101,
    "start_time": "2022-08-23T15:18:40.701Z"
   },
   {
    "duration": 3788,
    "start_time": "2022-08-23T15:18:40.804Z"
   },
   {
    "duration": 201,
    "start_time": "2022-08-23T15:18:44.594Z"
   },
   {
    "duration": 192,
    "start_time": "2022-08-23T15:18:44.807Z"
   },
   {
    "duration": 402,
    "start_time": "2022-08-23T15:18:45.092Z"
   },
   {
    "duration": 107,
    "start_time": "2022-08-23T15:18:45.598Z"
   },
   {
    "duration": 398,
    "start_time": "2022-08-23T15:18:45.794Z"
   },
   {
    "duration": 1898,
    "start_time": "2022-08-23T15:18:46.194Z"
   },
   {
    "duration": 2303,
    "start_time": "2022-08-23T15:18:48.095Z"
   },
   {
    "duration": 5892,
    "start_time": "2022-08-23T15:18:50.404Z"
   },
   {
    "duration": 98,
    "start_time": "2022-08-23T15:18:56.297Z"
   },
   {
    "duration": 503,
    "start_time": "2022-08-23T15:18:56.397Z"
   },
   {
    "duration": 2893,
    "start_time": "2022-08-23T15:18:56.902Z"
   },
   {
    "duration": 103,
    "start_time": "2022-08-23T15:18:59.799Z"
   },
   {
    "duration": 398,
    "start_time": "2022-08-23T15:18:59.994Z"
   },
   {
    "duration": 303,
    "start_time": "2022-08-23T15:19:00.492Z"
   },
   {
    "duration": 403,
    "start_time": "2022-08-23T15:19:00.797Z"
   },
   {
    "duration": 302,
    "start_time": "2022-08-23T15:19:01.203Z"
   },
   {
    "duration": 314,
    "start_time": "2022-08-23T15:19:01.595Z"
   },
   {
    "duration": 88,
    "start_time": "2022-08-23T15:19:01.911Z"
   },
   {
    "duration": 2590,
    "start_time": "2022-08-23T15:19:02.003Z"
   },
   {
    "duration": 268594,
    "start_time": "2022-08-23T15:19:04.599Z"
   },
   {
    "duration": 12187452,
    "start_time": "2022-08-23T15:23:33.201Z"
   },
   {
    "duration": 16,
    "start_time": "2022-08-23T18:46:40.655Z"
   },
   {
    "duration": 3,
    "start_time": "2022-08-23T18:46:40.673Z"
   }
  ],
  "kernelspec": {
   "display_name": "Python 3 (ipykernel)",
   "language": "python",
   "name": "python3"
  },
  "language_info": {
   "codemirror_mode": {
    "name": "ipython",
    "version": 3
   },
   "file_extension": ".py",
   "mimetype": "text/x-python",
   "name": "python",
   "nbconvert_exporter": "python",
   "pygments_lexer": "ipython3",
   "version": "3.9.5"
  },
  "toc": {
   "base_numbering": 1,
   "nav_menu": {},
   "number_sections": true,
   "sideBar": true,
   "skip_h1_title": true,
   "title_cell": "Содержание",
   "title_sidebar": "Contents",
   "toc_cell": true,
   "toc_position": {},
   "toc_section_display": true,
   "toc_window_display": true
  }
 },
 "nbformat": 4,
 "nbformat_minor": 2
}
