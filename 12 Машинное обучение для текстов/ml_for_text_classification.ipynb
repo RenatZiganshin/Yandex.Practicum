{
 "cells": [
  {
   "cell_type": "markdown",
   "metadata": {
    "id": "d1p029dgzU-n"
   },
   "source": [
    "# Проект для интернет-магазина"
   ]
  },
  {
   "cell_type": "markdown",
   "metadata": {
    "id": "pI9PrprQzXKw"
   },
   "source": [
    "Интернет-магазин запускает новый сервис. Теперь пользователи могут редактировать и дополнять описания товаров, как в вики-сообществах. То есть клиенты предлагают свои правки и комментируют изменения других. Магазину нужен инструмент, который будет искать токсичные комментарии и отправлять их на модерацию. \n",
    "\n",
    "Необходимо обучить модель классифицировать комментарии на позитивные и негативные. В распоряжении набор данных с разметкой о токсичности правок.\n",
    "\n",
    "Значение метрики качества *F1* должно быть не меньше 0.75. "
   ]
  },
  {
   "cell_type": "markdown",
   "metadata": {
    "id": "Dt0d2HZIze6b"
   },
   "source": [
    "## Подготовка"
   ]
  },
  {
   "cell_type": "code",
   "execution_count": 1,
   "metadata": {
    "colab": {
     "base_uri": "https://localhost:8080/"
    },
    "id": "aSNHi0VbkdkQ",
    "outputId": "f24a130c-a794-4354-9807-776fb89bc83d"
   },
   "outputs": [
    {
     "name": "stdout",
     "output_type": "stream",
     "text": [
      "Requirement already satisfied: catboost in /opt/conda/lib/python3.9/site-packages (1.0.3)\n",
      "Requirement already satisfied: scipy in /opt/conda/lib/python3.9/site-packages (from catboost) (1.8.0)\n",
      "Requirement already satisfied: plotly in /opt/conda/lib/python3.9/site-packages (from catboost) (5.4.0)\n",
      "Requirement already satisfied: six in /opt/conda/lib/python3.9/site-packages (from catboost) (1.16.0)\n",
      "Requirement already satisfied: pandas>=0.24.0 in /opt/conda/lib/python3.9/site-packages (from catboost) (1.2.4)\n",
      "Requirement already satisfied: matplotlib in /opt/conda/lib/python3.9/site-packages (from catboost) (3.3.4)\n",
      "Requirement already satisfied: numpy>=1.16.0 in /opt/conda/lib/python3.9/site-packages (from catboost) (1.21.1)\n",
      "Requirement already satisfied: graphviz in /opt/conda/lib/python3.9/site-packages (from catboost) (0.20)\n",
      "Requirement already satisfied: python-dateutil>=2.7.3 in /opt/conda/lib/python3.9/site-packages (from pandas>=0.24.0->catboost) (2.8.1)\n",
      "Requirement already satisfied: pytz>=2017.3 in /opt/conda/lib/python3.9/site-packages (from pandas>=0.24.0->catboost) (2021.1)\n",
      "Requirement already satisfied: pyparsing!=2.0.4,!=2.1.2,!=2.1.6,>=2.0.3 in /opt/conda/lib/python3.9/site-packages (from matplotlib->catboost) (2.4.7)\n",
      "Requirement already satisfied: kiwisolver>=1.0.1 in /opt/conda/lib/python3.9/site-packages (from matplotlib->catboost) (1.4.2)\n",
      "Requirement already satisfied: cycler>=0.10 in /opt/conda/lib/python3.9/site-packages (from matplotlib->catboost) (0.11.0)\n",
      "Requirement already satisfied: pillow>=6.2.0 in /opt/conda/lib/python3.9/site-packages (from matplotlib->catboost) (8.4.0)\n",
      "Requirement already satisfied: tenacity>=6.2.0 in /opt/conda/lib/python3.9/site-packages (from plotly->catboost) (8.0.1)\n",
      "Collecting langid\n",
      "  Downloading langid-1.1.6.tar.gz (1.9 MB)\n",
      "\u001b[K     |████████████████████████████████| 1.9 MB 1.2 MB/s eta 0:00:01\n",
      "\u001b[?25hRequirement already satisfied: numpy in /opt/conda/lib/python3.9/site-packages (from langid) (1.21.1)\n",
      "Building wheels for collected packages: langid\n",
      "  Building wheel for langid (setup.py) ... \u001b[?25ldone\n",
      "\u001b[?25h  Created wheel for langid: filename=langid-1.1.6-py3-none-any.whl size=1941189 sha256=f1293413d07cd9ff13d82cedb8c99eab0ed5ee0826bbf4475831d3324540a0cf\n",
      "  Stored in directory: /home/jovyan/.cache/pip/wheels/93/95/a9/c292c9dd8cadb8f2359f1670ff198a40d47167b0be3236e1c8\n",
      "Successfully built langid\n",
      "Installing collected packages: langid\n",
      "Successfully installed langid-1.1.6\n"
     ]
    }
   ],
   "source": [
    "!pip install catboost\n",
    "!pip install langid"
   ]
  },
  {
   "cell_type": "code",
   "execution_count": 2,
   "metadata": {
    "id": "r8E_1xtbkYcf"
   },
   "outputs": [],
   "source": [
    "import pandas as pd\n",
    "import nltk\n",
    "from nltk.stem import WordNetLemmatizer \n",
    "import re\n",
    "from sklearn.model_selection import train_test_split\n",
    "from sklearn.feature_extraction.text import TfidfVectorizer\n",
    "from nltk.corpus import stopwords as nltk_stopwords\n",
    "from sklearn.linear_model import LogisticRegression\n",
    "from sklearn.metrics import accuracy_score, f1_score\n",
    "import numpy as np\n",
    "from sklearn.utils import shuffle\n",
    "from catboost import CatBoostClassifier\n",
    "import langid"
   ]
  },
  {
   "cell_type": "code",
   "execution_count": 3,
   "metadata": {
    "colab": {
     "base_uri": "https://localhost:8080/"
    },
    "id": "sRoxjLXQydrF",
    "outputId": "db4b742e-9942-4714-b5be-824e29030c88"
   },
   "outputs": [
    {
     "name": "stderr",
     "output_type": "stream",
     "text": [
      "[nltk_data] Downloading package wordnet to /home/jovyan/nltk_data...\n",
      "[nltk_data]   Package wordnet is already up-to-date!\n",
      "[nltk_data] Downloading package punkt to /home/jovyan/nltk_data...\n",
      "[nltk_data]   Unzipping tokenizers/punkt.zip.\n"
     ]
    },
    {
     "data": {
      "text/plain": [
       "True"
      ]
     },
     "execution_count": 3,
     "metadata": {},
     "output_type": "execute_result"
    }
   ],
   "source": [
    "nltk.download('wordnet')\n",
    "nltk.download('punkt')"
   ]
  },
  {
   "cell_type": "code",
   "execution_count": 4,
   "metadata": {
    "id": "b2bHHckdkbZ4"
   },
   "outputs": [],
   "source": [
    "df = pd.read_csv('/datasets/toxic_comments.csv')"
   ]
  },
  {
   "cell_type": "code",
   "execution_count": 5,
   "metadata": {
    "colab": {
     "base_uri": "https://localhost:8080/"
    },
    "id": "5nVPQl184ZpH",
    "outputId": "b5b17a59-2467-4668-f5dd-998e3da3d08c"
   },
   "outputs": [
    {
     "name": "stdout",
     "output_type": "stream",
     "text": [
      "<class 'pandas.core.frame.DataFrame'>\n",
      "RangeIndex: 159292 entries, 0 to 159291\n",
      "Data columns (total 3 columns):\n",
      " #   Column      Non-Null Count   Dtype \n",
      "---  ------      --------------   ----- \n",
      " 0   Unnamed: 0  159292 non-null  int64 \n",
      " 1   text        159292 non-null  object\n",
      " 2   toxic       159292 non-null  int64 \n",
      "dtypes: int64(2), object(1)\n",
      "memory usage: 3.6+ MB\n"
     ]
    }
   ],
   "source": [
    "df.info()"
   ]
  },
  {
   "cell_type": "code",
   "execution_count": 6,
   "metadata": {
    "colab": {
     "base_uri": "https://localhost:8080/"
    },
    "id": "AtAEFqX44Zw8",
    "outputId": "2cca277a-efbb-484a-97e4-835395569047"
   },
   "outputs": [
    {
     "data": {
      "text/plain": [
       "0    143106\n",
       "1     16186\n",
       "Name: toxic, dtype: int64"
      ]
     },
     "execution_count": 6,
     "metadata": {},
     "output_type": "execute_result"
    }
   ],
   "source": [
    "df.toxic.value_counts()"
   ]
  },
  {
   "cell_type": "markdown",
   "metadata": {
    "id": "a3ZtJSY14Z4k"
   },
   "source": [
    "Можно отметить высокую степень дисбаланса классов."
   ]
  },
  {
   "cell_type": "markdown",
   "metadata": {
    "id": "rUu3k7YN0xwb"
   },
   "source": [
    "Определим язык, на котором написаны комментарии. От этого будет зависить, какими инструментами будем лемматизировать текст"
   ]
  },
  {
   "cell_type": "markdown",
   "metadata": {
    "id": "XlUZk9nX1IWj"
   },
   "source": [
    "Напишем функцию, которая будет возвращать язык переданного ей текста, и применим ее к столбцу с комментариями"
   ]
  },
  {
   "cell_type": "code",
   "execution_count": 7,
   "metadata": {
    "id": "Zeu1id811Aoj"
   },
   "outputs": [],
   "source": [
    "def language_detector(row):\n",
    "  return langid.classify(row['text'])[0]\n",
    "\n",
    "df['language'] = df.apply(language_detector, axis=1)"
   ]
  },
  {
   "cell_type": "code",
   "execution_count": 8,
   "metadata": {
    "colab": {
     "base_uri": "https://localhost:8080/",
     "height": 206
    },
    "id": "CQcEfeiZ3xnY",
    "outputId": "9c4fd437-516e-4556-b262-23fe6a12e4ff"
   },
   "outputs": [
    {
     "data": {
      "text/html": [
       "<div>\n",
       "<style scoped>\n",
       "    .dataframe tbody tr th:only-of-type {\n",
       "        vertical-align: middle;\n",
       "    }\n",
       "\n",
       "    .dataframe tbody tr th {\n",
       "        vertical-align: top;\n",
       "    }\n",
       "\n",
       "    .dataframe thead th {\n",
       "        text-align: right;\n",
       "    }\n",
       "</style>\n",
       "<table border=\"1\" class=\"dataframe\">\n",
       "  <thead>\n",
       "    <tr style=\"text-align: right;\">\n",
       "      <th></th>\n",
       "      <th>Unnamed: 0</th>\n",
       "      <th>text</th>\n",
       "      <th>toxic</th>\n",
       "      <th>language</th>\n",
       "    </tr>\n",
       "  </thead>\n",
       "  <tbody>\n",
       "    <tr>\n",
       "      <th>0</th>\n",
       "      <td>0</td>\n",
       "      <td>Explanation\\nWhy the edits made under my usern...</td>\n",
       "      <td>0</td>\n",
       "      <td>en</td>\n",
       "    </tr>\n",
       "    <tr>\n",
       "      <th>1</th>\n",
       "      <td>1</td>\n",
       "      <td>D'aww! He matches this background colour I'm s...</td>\n",
       "      <td>0</td>\n",
       "      <td>en</td>\n",
       "    </tr>\n",
       "    <tr>\n",
       "      <th>2</th>\n",
       "      <td>2</td>\n",
       "      <td>Hey man, I'm really not trying to edit war. It...</td>\n",
       "      <td>0</td>\n",
       "      <td>en</td>\n",
       "    </tr>\n",
       "    <tr>\n",
       "      <th>3</th>\n",
       "      <td>3</td>\n",
       "      <td>\"\\nMore\\nI can't make any real suggestions on ...</td>\n",
       "      <td>0</td>\n",
       "      <td>en</td>\n",
       "    </tr>\n",
       "    <tr>\n",
       "      <th>4</th>\n",
       "      <td>4</td>\n",
       "      <td>You, sir, are my hero. Any chance you remember...</td>\n",
       "      <td>0</td>\n",
       "      <td>en</td>\n",
       "    </tr>\n",
       "  </tbody>\n",
       "</table>\n",
       "</div>"
      ],
      "text/plain": [
       "   Unnamed: 0                                               text  toxic  \\\n",
       "0           0  Explanation\\nWhy the edits made under my usern...      0   \n",
       "1           1  D'aww! He matches this background colour I'm s...      0   \n",
       "2           2  Hey man, I'm really not trying to edit war. It...      0   \n",
       "3           3  \"\\nMore\\nI can't make any real suggestions on ...      0   \n",
       "4           4  You, sir, are my hero. Any chance you remember...      0   \n",
       "\n",
       "  language  \n",
       "0       en  \n",
       "1       en  \n",
       "2       en  \n",
       "3       en  \n",
       "4       en  "
      ]
     },
     "execution_count": 8,
     "metadata": {},
     "output_type": "execute_result"
    }
   ],
   "source": [
    "df.head()"
   ]
  },
  {
   "cell_type": "code",
   "execution_count": 9,
   "metadata": {
    "colab": {
     "base_uri": "https://localhost:8080/"
    },
    "id": "TZQ1lGMv1V5U",
    "outputId": "15ecd4b4-fda4-45e2-975b-cd7f199fbbc5"
   },
   "outputs": [
    {
     "data": {
      "text/plain": [
       "en    155664\n",
       "fr       343\n",
       "de       341\n",
       "es       288\n",
       "it       270\n",
       "       ...  \n",
       "uk         1\n",
       "mk         1\n",
       "bg         1\n",
       "or         1\n",
       "ne         1\n",
       "Name: language, Length: 85, dtype: int64"
      ]
     },
     "execution_count": 9,
     "metadata": {},
     "output_type": "execute_result"
    }
   ],
   "source": [
    "df.language.value_counts()"
   ]
  },
  {
   "cell_type": "markdown",
   "metadata": {
    "id": "SF6pj3Xt3K7_"
   },
   "source": [
    "Как видно, язык написания абсолютного большинства комментариев определен как англйиский. "
   ]
  },
  {
   "cell_type": "markdown",
   "metadata": {
    "id": "5y46NbQG3fYU"
   },
   "source": [
    "Напишем функцию, которая очищаяет и лемматизирует текст."
   ]
  },
  {
   "cell_type": "code",
   "execution_count": 10,
   "metadata": {
    "id": "3IEUmx6hWPPl"
   },
   "outputs": [],
   "source": [
    "lemmatizer = WordNetLemmatizer()"
   ]
  },
  {
   "cell_type": "code",
   "execution_count": 11,
   "metadata": {
    "id": "wRtBMJdV50CB"
   },
   "outputs": [],
   "source": [
    "def lemmatize_text(row):\n",
    "  clear_text = ' '.join(re.sub(r'[^a-zA-Z ]', ' ', row['text']).split())\n",
    "  tokens = nltk.word_tokenize(clear_text)\n",
    "  tokens_lemmatized = []\n",
    "  for token in tokens:\n",
    "    tokens_lemmatized.append(lemmatizer.lemmatize(token))\n",
    "  return str.lower(' '.join(tokens_lemmatized))  "
   ]
  },
  {
   "cell_type": "code",
   "execution_count": 12,
   "metadata": {
    "id": "t9EUmXpP86A4"
   },
   "outputs": [],
   "source": [
    "df['lemmas'] = df.apply(lemmatize_text, axis=1)"
   ]
  },
  {
   "cell_type": "code",
   "execution_count": 13,
   "metadata": {
    "colab": {
     "base_uri": "https://localhost:8080/",
     "height": 206
    },
    "id": "L0zJ28q750Es",
    "outputId": "289a4cd6-7920-4e29-ad9f-2e39444efb16"
   },
   "outputs": [
    {
     "data": {
      "text/html": [
       "<div>\n",
       "<style scoped>\n",
       "    .dataframe tbody tr th:only-of-type {\n",
       "        vertical-align: middle;\n",
       "    }\n",
       "\n",
       "    .dataframe tbody tr th {\n",
       "        vertical-align: top;\n",
       "    }\n",
       "\n",
       "    .dataframe thead th {\n",
       "        text-align: right;\n",
       "    }\n",
       "</style>\n",
       "<table border=\"1\" class=\"dataframe\">\n",
       "  <thead>\n",
       "    <tr style=\"text-align: right;\">\n",
       "      <th></th>\n",
       "      <th>Unnamed: 0</th>\n",
       "      <th>text</th>\n",
       "      <th>toxic</th>\n",
       "      <th>language</th>\n",
       "      <th>lemmas</th>\n",
       "    </tr>\n",
       "  </thead>\n",
       "  <tbody>\n",
       "    <tr>\n",
       "      <th>0</th>\n",
       "      <td>0</td>\n",
       "      <td>Explanation\\nWhy the edits made under my usern...</td>\n",
       "      <td>0</td>\n",
       "      <td>en</td>\n",
       "      <td>explanation why the edits made under my userna...</td>\n",
       "    </tr>\n",
       "    <tr>\n",
       "      <th>1</th>\n",
       "      <td>1</td>\n",
       "      <td>D'aww! He matches this background colour I'm s...</td>\n",
       "      <td>0</td>\n",
       "      <td>en</td>\n",
       "      <td>d aww he match this background colour i m seem...</td>\n",
       "    </tr>\n",
       "    <tr>\n",
       "      <th>2</th>\n",
       "      <td>2</td>\n",
       "      <td>Hey man, I'm really not trying to edit war. It...</td>\n",
       "      <td>0</td>\n",
       "      <td>en</td>\n",
       "      <td>hey man i m really not trying to edit war it s...</td>\n",
       "    </tr>\n",
       "    <tr>\n",
       "      <th>3</th>\n",
       "      <td>3</td>\n",
       "      <td>\"\\nMore\\nI can't make any real suggestions on ...</td>\n",
       "      <td>0</td>\n",
       "      <td>en</td>\n",
       "      <td>more i can t make any real suggestion on impro...</td>\n",
       "    </tr>\n",
       "    <tr>\n",
       "      <th>4</th>\n",
       "      <td>4</td>\n",
       "      <td>You, sir, are my hero. Any chance you remember...</td>\n",
       "      <td>0</td>\n",
       "      <td>en</td>\n",
       "      <td>you sir are my hero any chance you remember wh...</td>\n",
       "    </tr>\n",
       "  </tbody>\n",
       "</table>\n",
       "</div>"
      ],
      "text/plain": [
       "   Unnamed: 0                                               text  toxic  \\\n",
       "0           0  Explanation\\nWhy the edits made under my usern...      0   \n",
       "1           1  D'aww! He matches this background colour I'm s...      0   \n",
       "2           2  Hey man, I'm really not trying to edit war. It...      0   \n",
       "3           3  \"\\nMore\\nI can't make any real suggestions on ...      0   \n",
       "4           4  You, sir, are my hero. Any chance you remember...      0   \n",
       "\n",
       "  language                                             lemmas  \n",
       "0       en  explanation why the edits made under my userna...  \n",
       "1       en  d aww he match this background colour i m seem...  \n",
       "2       en  hey man i m really not trying to edit war it s...  \n",
       "3       en  more i can t make any real suggestion on impro...  \n",
       "4       en  you sir are my hero any chance you remember wh...  "
      ]
     },
     "execution_count": 13,
     "metadata": {},
     "output_type": "execute_result"
    }
   ],
   "source": [
    "df.head()"
   ]
  },
  {
   "cell_type": "markdown",
   "metadata": {
    "id": "ZREw0r-y4wGd"
   },
   "source": [
    "Выделим фичи и таргет, затем поделим их на обучающую и тестовую выборки"
   ]
  },
  {
   "cell_type": "code",
   "execution_count": 14,
   "metadata": {
    "id": "oPZrebtNXRZt"
   },
   "outputs": [],
   "source": [
    "features = df['lemmas']\n",
    "target = df['toxic']\n",
    "\n",
    "features_train, features_test, target_train, target_test = train_test_split(features, target, test_size=.1, random_state=1)"
   ]
  },
  {
   "cell_type": "markdown",
   "metadata": {
    "id": "xZuhS1s84_nr"
   },
   "source": [
    "Определим набор стоп-слов, которые будут исключены при векторизации текста"
   ]
  },
  {
   "cell_type": "code",
   "execution_count": 15,
   "metadata": {
    "colab": {
     "base_uri": "https://localhost:8080/"
    },
    "id": "zlhQzj6PYB6a",
    "outputId": "ab8d689e-7a7a-478c-ee50-52d7c0555c87",
    "scrolled": true
   },
   "outputs": [
    {
     "name": "stderr",
     "output_type": "stream",
     "text": [
      "[nltk_data] Downloading package stopwords to /home/jovyan/nltk_data...\n",
      "[nltk_data]   Unzipping corpora/stopwords.zip.\n"
     ]
    }
   ],
   "source": [
    "nltk.download('stopwords')\n",
    "stopwords = set(nltk_stopwords.words('english'))"
   ]
  },
  {
   "cell_type": "markdown",
   "metadata": {
    "id": "mE4JBPa15RdB"
   },
   "source": [
    "Обучим векторайзер на обучающей выборке, затем преобразуем им обучающую и тестовую выборки"
   ]
  },
  {
   "cell_type": "code",
   "execution_count": 16,
   "metadata": {
    "id": "fRTa-_D350Jw"
   },
   "outputs": [],
   "source": [
    "tf_idf = TfidfVectorizer(stop_words=stopwords)\n",
    "\n",
    "train_features_tf_idf = tf_idf.fit_transform(features_train)\n",
    "test_features_tf_idf = tf_idf.transform(features_test)"
   ]
  },
  {
   "cell_type": "markdown",
   "metadata": {
    "id": "7o50tpgw5kb-"
   },
   "source": [
    "## Обучение"
   ]
  },
  {
   "cell_type": "markdown",
   "metadata": {
    "id": "MUtOq6WN5l8v"
   },
   "source": [
    "### Логистическая регрессия"
   ]
  },
  {
   "cell_type": "code",
   "execution_count": 17,
   "metadata": {
    "colab": {
     "base_uri": "https://localhost:8080/"
    },
    "id": "a_vvHuik6UpQ",
    "outputId": "e392bd7c-6c28-49fe-a559-f8c4f3f4cb18"
   },
   "outputs": [
    {
     "name": "stdout",
     "output_type": "stream",
     "text": [
      "F1-мера для модели логистической регрессии составила 0.73\n"
     ]
    }
   ],
   "source": [
    "model = LogisticRegression()\n",
    "model.fit(train_features_tf_idf, target_train)\n",
    "predictions_logistic = model.predict(test_features_tf_idf)\n",
    "print('F1-мера для модели логистической регрессии составила {:.2f}'.format(\n",
    "    f1_score(target_test, predictions_logistic)))"
   ]
  },
  {
   "cell_type": "markdown",
   "metadata": {
    "id": "tGOQvnIFkXvQ"
   },
   "source": [
    "Ранее мы обратили внимание, что классы в датасете несбалансированы. Попробуем обучить модель со взвешенными классами."
   ]
  },
  {
   "cell_type": "code",
   "execution_count": 18,
   "metadata": {
    "colab": {
     "base_uri": "https://localhost:8080/"
    },
    "id": "nQ7ccwzAZ9nU",
    "outputId": "ada3e12d-8ef9-44db-852b-db6f9569b80d"
   },
   "outputs": [
    {
     "name": "stdout",
     "output_type": "stream",
     "text": [
      "F1-мера для модели логистической регрессии со взвешенными классами составила 0.75\n"
     ]
    }
   ],
   "source": [
    "model = LogisticRegression(class_weight='balanced', max_iter=300)\n",
    "model.fit(train_features_tf_idf, target_train)\n",
    "predictions_logistic_balanced_weight = model.predict(test_features_tf_idf)\n",
    "print('F1-мера для модели логистической регрессии со взвешенными классами составила {:.2f}'.format(\n",
    "    f1_score(target_test, predictions_logistic_balanced_weight)))"
   ]
  },
  {
   "cell_type": "markdown",
   "metadata": {
    "id": "iwN4FHlF6lr7"
   },
   "source": [
    "### Catboost"
   ]
  },
  {
   "cell_type": "code",
   "execution_count": 19,
   "metadata": {
    "id": "4_nfK0UIibxR"
   },
   "outputs": [],
   "source": [
    "features_cb = df[['lemmas']]\n",
    "target_cb = df[['toxic']]"
   ]
  },
  {
   "cell_type": "markdown",
   "metadata": {
    "id": "5x7T-t0U7OJ4"
   },
   "source": [
    "Поделим выборки на обучающую, валидационную и тестовую."
   ]
  },
  {
   "cell_type": "code",
   "execution_count": 20,
   "metadata": {
    "id": "3hmYmV1RkugO"
   },
   "outputs": [],
   "source": [
    "features_cb_train, features_cb_, target_cb_train, target_cb_ = train_test_split(features_cb, target_cb, test_size=.2, random_state=1)\n",
    "features_cb_valid, features_cb_test, target_cb_valid, target_cb_test = train_test_split(features_cb_, target_cb_, test_size=.5, random_state=1)"
   ]
  },
  {
   "cell_type": "code",
   "execution_count": 21,
   "metadata": {
    "colab": {
     "base_uri": "https://localhost:8080/"
    },
    "id": "GNmOU5C4o5a3",
    "outputId": "e2e9ab35-b6b2-4525-cd08-ccf42ef8483a"
   },
   "outputs": [
    {
     "name": "stdout",
     "output_type": "stream",
     "text": [
      "0:\tlearn: 0.6508692\ttest: 0.6505408\tbest: 0.6505408 (0)\ttotal: 4.6s\tremaining: 38m 15s\n",
      "50:\tlearn: 0.1546363\ttest: 0.1520313\tbest: 0.1520313 (50)\ttotal: 3m 48s\tremaining: 33m 32s\n",
      "100:\tlearn: 0.1337030\ttest: 0.1326034\tbest: 0.1326034 (100)\ttotal: 7m 30s\tremaining: 29m 40s\n",
      "150:\tlearn: 0.1264278\ttest: 0.1266953\tbest: 0.1266953 (150)\ttotal: 11m 14s\tremaining: 25m 58s\n",
      "200:\tlearn: 0.1216829\ttest: 0.1232855\tbest: 0.1232855 (200)\ttotal: 15m 1s\tremaining: 22m 21s\n",
      "250:\tlearn: 0.1180337\ttest: 0.1209860\tbest: 0.1209860 (250)\ttotal: 18m 49s\tremaining: 18m 40s\n",
      "300:\tlearn: 0.1149801\ttest: 0.1193282\tbest: 0.1193282 (300)\ttotal: 22m 33s\tremaining: 14m 54s\n",
      "350:\tlearn: 0.1123767\ttest: 0.1180177\tbest: 0.1180177 (350)\ttotal: 26m 18s\tremaining: 11m 10s\n",
      "400:\tlearn: 0.1102120\ttest: 0.1170833\tbest: 0.1170833 (400)\ttotal: 30m 4s\tremaining: 7m 25s\n",
      "450:\tlearn: 0.1087425\ttest: 0.1164631\tbest: 0.1164631 (450)\ttotal: 33m 52s\tremaining: 3m 40s\n",
      "499:\tlearn: 0.1064797\ttest: 0.1156481\tbest: 0.1156481 (499)\ttotal: 37m 32s\tremaining: 0us\n",
      "\n",
      "bestTest = 0.1156480986\n",
      "bestIteration = 499\n",
      "\n",
      "CPU times: user 37min 37s, sys: 29.1 ms, total: 37min 37s\n",
      "Wall time: 37min 45s\n"
     ]
    },
    {
     "data": {
      "text/plain": [
       "<catboost.core.CatBoostClassifier at 0x7fb144f9dd60>"
      ]
     },
     "execution_count": 21,
     "metadata": {},
     "output_type": "execute_result"
    }
   ],
   "source": [
    "%%time\n",
    "model = CatBoostClassifier(iterations=500, learning_rate=0.03, depth=10)\n",
    "model.fit(features_cb_train, target_cb_train, \n",
    "          eval_set=(features_cb_valid, target_cb_valid),\n",
    "          text_features=['lemmas'], verbose=50)"
   ]
  },
  {
   "cell_type": "code",
   "execution_count": 22,
   "metadata": {
    "colab": {
     "base_uri": "https://localhost:8080/"
    },
    "id": "oAWm891ipf65",
    "outputId": "f2988bad-86ad-4992-aa23-0aa4c4145d2c"
   },
   "outputs": [
    {
     "name": "stdout",
     "output_type": "stream",
     "text": [
      "F1-мера для модели CatBoost составила 0.77\n"
     ]
    }
   ],
   "source": [
    "predictions_cb = model.predict(features_cb_test)\n",
    "print('F1-мера для модели CatBoost составила {:.2f}'.format(\n",
    "    f1_score(target_cb_test, predictions_cb)))"
   ]
  },
  {
   "cell_type": "markdown",
   "metadata": {
    "id": "NDCZTtzk7lkt"
   },
   "source": [
    "## Выводы"
   ]
  },
  {
   "cell_type": "markdown",
   "metadata": {
    "id": "-IHyyMWaWzt_"
   },
   "source": [
    "**Выполнен анализ работы моделей логистической регрессии и CatBoost на классификации текстовых комментариев. Модель логистической регрессии показала более слабый результат, но нужно отметить высокую скорость ее работы. Модель CatBoost показала хороший результат, но потребовала значительные траты времени и ресурсов на обучение. Помимо этого, преимущество модели CatBoost заключается в том, что она работает непосредственно с текстовыми признаками, без необходимости в их векторизации.**"
   ]
  }
 ],
 "metadata": {
  "ExecuteTimeLog": [
   {
    "duration": 10914,
    "start_time": "2022-08-23T12:51:57.793Z"
   },
   {
    "duration": 5984,
    "start_time": "2022-08-23T12:52:08.711Z"
   },
   {
    "duration": 0,
    "start_time": "2022-08-23T12:52:14.698Z"
   },
   {
    "duration": 0,
    "start_time": "2022-08-23T12:52:14.700Z"
   },
   {
    "duration": 0,
    "start_time": "2022-08-23T12:52:14.702Z"
   },
   {
    "duration": 0,
    "start_time": "2022-08-23T12:52:14.704Z"
   },
   {
    "duration": 1,
    "start_time": "2022-08-23T12:52:14.705Z"
   },
   {
    "duration": 0,
    "start_time": "2022-08-23T12:52:14.707Z"
   },
   {
    "duration": 0,
    "start_time": "2022-08-23T12:52:14.709Z"
   },
   {
    "duration": 0,
    "start_time": "2022-08-23T12:52:14.793Z"
   },
   {
    "duration": 0,
    "start_time": "2022-08-23T12:52:14.795Z"
   },
   {
    "duration": 0,
    "start_time": "2022-08-23T12:52:14.797Z"
   },
   {
    "duration": 0,
    "start_time": "2022-08-23T12:52:14.798Z"
   },
   {
    "duration": 0,
    "start_time": "2022-08-23T12:52:14.800Z"
   },
   {
    "duration": 0,
    "start_time": "2022-08-23T12:52:14.801Z"
   },
   {
    "duration": 0,
    "start_time": "2022-08-23T12:52:14.803Z"
   },
   {
    "duration": 0,
    "start_time": "2022-08-23T12:52:14.805Z"
   },
   {
    "duration": 0,
    "start_time": "2022-08-23T12:52:14.806Z"
   },
   {
    "duration": 0,
    "start_time": "2022-08-23T12:52:14.808Z"
   },
   {
    "duration": 0,
    "start_time": "2022-08-23T12:52:14.893Z"
   },
   {
    "duration": 0,
    "start_time": "2022-08-23T12:52:14.894Z"
   },
   {
    "duration": 0,
    "start_time": "2022-08-23T12:52:14.896Z"
   },
   {
    "duration": 1,
    "start_time": "2022-08-23T12:52:14.897Z"
   },
   {
    "duration": 24406,
    "start_time": "2022-08-23T12:55:29.994Z"
   },
   {
    "duration": 1601,
    "start_time": "2022-08-23T12:55:59.095Z"
   },
   {
    "duration": 3,
    "start_time": "2022-08-23T12:56:11.094Z"
   },
   {
    "duration": 5,
    "start_time": "2022-08-23T12:56:30.397Z"
   },
   {
    "duration": 409,
    "start_time": "2022-08-23T12:56:45.594Z"
   },
   {
    "duration": 103,
    "start_time": "2022-08-23T12:58:40.494Z"
   },
   {
    "duration": 55596,
    "start_time": "2022-08-23T12:59:35.400Z"
   },
   {
    "duration": 11204,
    "start_time": "2022-08-23T13:00:30.998Z"
   },
   {
    "duration": 5005,
    "start_time": "2022-08-23T13:00:42.296Z"
   },
   {
    "duration": 6500,
    "start_time": "2022-08-23T13:00:47.396Z"
   },
   {
    "duration": 0,
    "start_time": "2022-08-23T13:00:53.899Z"
   },
   {
    "duration": 0,
    "start_time": "2022-08-23T13:00:53.900Z"
   },
   {
    "duration": 0,
    "start_time": "2022-08-23T13:00:53.902Z"
   },
   {
    "duration": 0,
    "start_time": "2022-08-23T13:00:53.992Z"
   },
   {
    "duration": 0,
    "start_time": "2022-08-23T13:00:53.995Z"
   },
   {
    "duration": 0,
    "start_time": "2022-08-23T13:00:53.996Z"
   },
   {
    "duration": 0,
    "start_time": "2022-08-23T13:00:53.999Z"
   },
   {
    "duration": 0,
    "start_time": "2022-08-23T13:00:54.001Z"
   },
   {
    "duration": 0,
    "start_time": "2022-08-23T13:00:54.002Z"
   },
   {
    "duration": 0,
    "start_time": "2022-08-23T13:00:54.004Z"
   },
   {
    "duration": 0,
    "start_time": "2022-08-23T13:00:54.005Z"
   },
   {
    "duration": 0,
    "start_time": "2022-08-23T13:00:54.005Z"
   },
   {
    "duration": 0,
    "start_time": "2022-08-23T13:00:54.006Z"
   },
   {
    "duration": 0,
    "start_time": "2022-08-23T13:00:54.007Z"
   },
   {
    "duration": 0,
    "start_time": "2022-08-23T13:00:54.008Z"
   },
   {
    "duration": 0,
    "start_time": "2022-08-23T13:00:54.008Z"
   },
   {
    "duration": 0,
    "start_time": "2022-08-23T13:00:54.009Z"
   },
   {
    "duration": 0,
    "start_time": "2022-08-23T13:00:54.010Z"
   },
   {
    "duration": 24000,
    "start_time": "2022-08-23T13:02:51.494Z"
   },
   {
    "duration": 39492,
    "start_time": "2022-08-23T13:03:29.801Z"
   },
   {
    "duration": 11398,
    "start_time": "2022-08-23T13:04:09.296Z"
   },
   {
    "duration": 1405,
    "start_time": "2022-08-23T13:04:20.696Z"
   },
   {
    "duration": 8708,
    "start_time": "2022-08-23T13:04:22.194Z"
   },
   {
    "duration": 301,
    "start_time": "2022-08-23T13:04:30.995Z"
   },
   {
    "duration": 200,
    "start_time": "2022-08-23T13:04:31.300Z"
   },
   {
    "duration": 2209594,
    "start_time": "2022-08-23T13:04:31.502Z"
   },
   {
    "duration": 0,
    "start_time": "2022-08-23T13:41:21.100Z"
   },
   {
    "duration": 0,
    "start_time": "2022-08-23T13:41:21.103Z"
   },
   {
    "duration": 0,
    "start_time": "2022-08-23T13:41:21.104Z"
   },
   {
    "duration": 0,
    "start_time": "2022-08-23T13:41:21.104Z"
   },
   {
    "duration": 0,
    "start_time": "2022-08-23T13:41:21.105Z"
   },
   {
    "duration": 0,
    "start_time": "2022-08-23T13:41:21.105Z"
   },
   {
    "duration": 0,
    "start_time": "2022-08-23T13:41:21.106Z"
   },
   {
    "duration": 0,
    "start_time": "2022-08-23T13:41:21.106Z"
   },
   {
    "duration": 0,
    "start_time": "2022-08-23T13:41:21.107Z"
   },
   {
    "duration": 0,
    "start_time": "2022-08-23T13:41:21.107Z"
   },
   {
    "duration": 0,
    "start_time": "2022-08-23T13:41:21.108Z"
   },
   {
    "duration": 0,
    "start_time": "2022-08-23T13:41:21.108Z"
   },
   {
    "duration": 0,
    "start_time": "2022-08-23T13:41:21.109Z"
   },
   {
    "duration": 0,
    "start_time": "2022-08-23T13:41:21.109Z"
   },
   {
    "duration": 0,
    "start_time": "2022-08-23T13:41:21.110Z"
   },
   {
    "duration": 6977,
    "start_time": "2022-08-29T16:16:29.691Z"
   },
   {
    "duration": 1420,
    "start_time": "2022-08-29T16:16:36.670Z"
   },
   {
    "duration": 1257,
    "start_time": "2022-08-29T16:16:38.103Z"
   },
   {
    "duration": 3373,
    "start_time": "2022-08-29T16:16:39.362Z"
   },
   {
    "duration": 34,
    "start_time": "2022-08-29T16:16:42.737Z"
   },
   {
    "duration": 6,
    "start_time": "2022-08-29T16:16:42.773Z"
   },
   {
    "duration": 4367751,
    "start_time": "2022-08-29T16:16:42.781Z"
   },
   {
    "duration": 9,
    "start_time": "2022-08-29T17:29:30.534Z"
   },
   {
    "duration": 47,
    "start_time": "2022-08-29T17:29:30.545Z"
   },
   {
    "duration": 19,
    "start_time": "2022-08-29T17:29:30.604Z"
   },
   {
    "duration": 15,
    "start_time": "2022-08-29T17:29:30.625Z"
   },
   {
    "duration": 100070,
    "start_time": "2022-08-29T17:29:30.641Z"
   },
   {
    "duration": 9,
    "start_time": "2022-08-29T17:31:10.713Z"
   },
   {
    "duration": 33,
    "start_time": "2022-08-29T17:31:10.724Z"
   },
   {
    "duration": 526,
    "start_time": "2022-08-29T17:31:10.759Z"
   },
   {
    "duration": 7565,
    "start_time": "2022-08-29T17:31:11.287Z"
   },
   {
    "duration": 45339,
    "start_time": "2022-08-29T17:31:18.855Z"
   },
   {
    "duration": 86617,
    "start_time": "2022-08-29T17:32:04.196Z"
   },
   {
    "duration": 95,
    "start_time": "2022-08-29T17:33:30.814Z"
   },
   {
    "duration": 39,
    "start_time": "2022-08-29T17:33:30.911Z"
   },
   {
    "duration": 2265058,
    "start_time": "2022-08-29T17:33:30.951Z"
   },
   {
    "duration": 1224,
    "start_time": "2022-08-29T18:11:16.011Z"
   }
  ],
  "colab": {
   "name": "Untitled7.ipynb",
   "provenance": []
  },
  "kernelspec": {
   "display_name": "Python 3 (ipykernel)",
   "language": "python",
   "name": "python3"
  },
  "language_info": {
   "codemirror_mode": {
    "name": "ipython",
    "version": 3
   },
   "file_extension": ".py",
   "mimetype": "text/x-python",
   "name": "python",
   "nbconvert_exporter": "python",
   "pygments_lexer": "ipython3",
   "version": "3.9.5"
  },
  "toc": {
   "base_numbering": 1,
   "nav_menu": {},
   "number_sections": true,
   "sideBar": true,
   "skip_h1_title": true,
   "title_cell": "Table of Contents",
   "title_sidebar": "Contents",
   "toc_cell": false,
   "toc_position": {},
   "toc_section_display": true,
   "toc_window_display": false
  }
 },
 "nbformat": 4,
 "nbformat_minor": 1
}
