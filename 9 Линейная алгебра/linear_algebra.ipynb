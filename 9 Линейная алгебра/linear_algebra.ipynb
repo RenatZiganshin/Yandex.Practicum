{
 "cells": [
  {
   "cell_type": "markdown",
   "metadata": {
    "toc": true
   },
   "source": [
    "<h1>Содержание<span class=\"tocSkip\"></span></h1>\n",
    "<div class=\"toc\"><ul class=\"toc-item\"><li><span><a href=\"#Загрузка-данных\" data-toc-modified-id=\"Загрузка-данных-1\"><span class=\"toc-item-num\">1&nbsp;&nbsp;</span>Загрузка данных</a></span></li><li><span><a href=\"#Умножение-матриц\" data-toc-modified-id=\"Умножение-матриц-2\"><span class=\"toc-item-num\">2&nbsp;&nbsp;</span>Умножение матриц</a></span></li><li><span><a href=\"#Алгоритм-преобразования\" data-toc-modified-id=\"Алгоритм-преобразования-3\"><span class=\"toc-item-num\">3&nbsp;&nbsp;</span>Алгоритм преобразования</a></span></li><li><span><a href=\"#Проверка-алгоритма\" data-toc-modified-id=\"Проверка-алгоритма-4\"><span class=\"toc-item-num\">4&nbsp;&nbsp;</span>Проверка алгоритма</a></span></li><li><span><a href=\"#Выводы\" data-toc-modified-id=\"Выводы-5\"><span class=\"toc-item-num\">5&nbsp;&nbsp;</span>Выводы</a></span></li></ul></div>"
   ]
  },
  {
   "cell_type": "markdown",
   "metadata": {},
   "source": [
    "# Защита персональных данных клиентов"
   ]
  },
  {
   "cell_type": "markdown",
   "metadata": {},
   "source": [
    "Нужно разработать такой метод преобразования данных клиентов страховой компании, чтобы по ним было сложно восстановить персональную информацию, и обосновать корректность его работы.\n",
    "\n",
    "Нужно защитить данные, чтобы при преобразовании качество моделей машинного обучения не ухудшилось."
   ]
  },
  {
   "cell_type": "markdown",
   "metadata": {},
   "source": [
    "## Загрузка данных"
   ]
  },
  {
   "cell_type": "code",
   "execution_count": 1,
   "metadata": {},
   "outputs": [],
   "source": [
    "import pandas as pd\n",
    "import matplotlib.pyplot as plt\n",
    "import numpy as np\n",
    "from sklearn.model_selection import train_test_split\n",
    "from sklearn.linear_model import LinearRegression\n",
    "from sklearn.metrics import r2_score"
   ]
  },
  {
   "cell_type": "code",
   "execution_count": 2,
   "metadata": {},
   "outputs": [],
   "source": [
    "df = pd.read_csv('/datasets/insurance.csv')"
   ]
  },
  {
   "cell_type": "code",
   "execution_count": 3,
   "metadata": {},
   "outputs": [
    {
     "data": {
      "text/html": [
       "<div>\n",
       "<style scoped>\n",
       "    .dataframe tbody tr th:only-of-type {\n",
       "        vertical-align: middle;\n",
       "    }\n",
       "\n",
       "    .dataframe tbody tr th {\n",
       "        vertical-align: top;\n",
       "    }\n",
       "\n",
       "    .dataframe thead th {\n",
       "        text-align: right;\n",
       "    }\n",
       "</style>\n",
       "<table border=\"1\" class=\"dataframe\">\n",
       "  <thead>\n",
       "    <tr style=\"text-align: right;\">\n",
       "      <th></th>\n",
       "      <th>Пол</th>\n",
       "      <th>Возраст</th>\n",
       "      <th>Зарплата</th>\n",
       "      <th>Члены семьи</th>\n",
       "      <th>Страховые выплаты</th>\n",
       "    </tr>\n",
       "  </thead>\n",
       "  <tbody>\n",
       "    <tr>\n",
       "      <th>0</th>\n",
       "      <td>1</td>\n",
       "      <td>41.0</td>\n",
       "      <td>49600.0</td>\n",
       "      <td>1</td>\n",
       "      <td>0</td>\n",
       "    </tr>\n",
       "    <tr>\n",
       "      <th>1</th>\n",
       "      <td>0</td>\n",
       "      <td>46.0</td>\n",
       "      <td>38000.0</td>\n",
       "      <td>1</td>\n",
       "      <td>1</td>\n",
       "    </tr>\n",
       "    <tr>\n",
       "      <th>2</th>\n",
       "      <td>0</td>\n",
       "      <td>29.0</td>\n",
       "      <td>21000.0</td>\n",
       "      <td>0</td>\n",
       "      <td>0</td>\n",
       "    </tr>\n",
       "    <tr>\n",
       "      <th>3</th>\n",
       "      <td>0</td>\n",
       "      <td>21.0</td>\n",
       "      <td>41700.0</td>\n",
       "      <td>2</td>\n",
       "      <td>0</td>\n",
       "    </tr>\n",
       "    <tr>\n",
       "      <th>4</th>\n",
       "      <td>1</td>\n",
       "      <td>28.0</td>\n",
       "      <td>26100.0</td>\n",
       "      <td>0</td>\n",
       "      <td>0</td>\n",
       "    </tr>\n",
       "  </tbody>\n",
       "</table>\n",
       "</div>"
      ],
      "text/plain": [
       "   Пол  Возраст  Зарплата  Члены семьи  Страховые выплаты\n",
       "0    1     41.0   49600.0            1                  0\n",
       "1    0     46.0   38000.0            1                  1\n",
       "2    0     29.0   21000.0            0                  0\n",
       "3    0     21.0   41700.0            2                  0\n",
       "4    1     28.0   26100.0            0                  0"
      ]
     },
     "execution_count": 3,
     "metadata": {},
     "output_type": "execute_result"
    }
   ],
   "source": [
    "df.head()"
   ]
  },
  {
   "cell_type": "code",
   "execution_count": 4,
   "metadata": {},
   "outputs": [
    {
     "name": "stdout",
     "output_type": "stream",
     "text": [
      "<class 'pandas.core.frame.DataFrame'>\n",
      "RangeIndex: 5000 entries, 0 to 4999\n",
      "Data columns (total 5 columns):\n",
      " #   Column             Non-Null Count  Dtype  \n",
      "---  ------             --------------  -----  \n",
      " 0   Пол                5000 non-null   int64  \n",
      " 1   Возраст            5000 non-null   float64\n",
      " 2   Зарплата           5000 non-null   float64\n",
      " 3   Члены семьи        5000 non-null   int64  \n",
      " 4   Страховые выплаты  5000 non-null   int64  \n",
      "dtypes: float64(2), int64(3)\n",
      "memory usage: 195.4 KB\n"
     ]
    }
   ],
   "source": [
    "df.info()"
   ]
  },
  {
   "cell_type": "markdown",
   "metadata": {},
   "source": [
    "Преобразуем возраст и зарплату в целочисленный тип данных"
   ]
  },
  {
   "cell_type": "code",
   "execution_count": 5,
   "metadata": {},
   "outputs": [],
   "source": [
    "df[['Возраст', 'Зарплата']] = df[['Возраст', 'Зарплата']].astype(int)"
   ]
  },
  {
   "cell_type": "code",
   "execution_count": 6,
   "metadata": {
    "scrolled": false
   },
   "outputs": [
    {
     "data": {
      "image/png": "[encoded data removed]",
      "text/plain": [
       "<Figure size 720x360 with 25 Axes>"
      ]
     },
     "metadata": {
      "needs_background": "light"
     },
     "output_type": "display_data"
    }
   ],
   "source": [
    "pd.plotting.scatter_matrix(df, figsize=(10, 5))\n",
    "plt.show()"
   ]
  },
  {
   "cell_type": "markdown",
   "metadata": {},
   "source": [
    "**Из диаграмм видно, что зарплата имеет распределение, близкое к нормальному, а возраст, количество членов семьи и количество страховых выплат смещены в сторону меньших показателей. Можно отметить прямую зависимость целевого признака от возраста и обратную - от количества членов семьи.**"
   ]
  },
  {
   "cell_type": "markdown",
   "metadata": {},
   "source": [
    "## Умножение матриц"
   ]
  },
  {
   "cell_type": "markdown",
   "metadata": {},
   "source": [
    "В этом задании вы можете записывать формулы в *Jupyter Notebook.*\n",
    "\n",
    "Чтобы записать формулу внутри текста, окружите её символами доллара \\\\$; если снаружи —  двойными символами \\\\$\\\\$. Эти формулы записываются на языке вёрстки *LaTeX.* \n",
    "\n",
    "Для примера мы записали формулы линейной регрессии. Можете их скопировать и отредактировать, чтобы решить задачу.\n",
    "\n",
    "Работать в *LaTeX* необязательно."
   ]
  },
  {
   "cell_type": "markdown",
   "metadata": {},
   "source": [
    "Обозначения:\n",
    "\n",
    "- $X$ — матрица признаков (нулевой столбец состоит из единиц)\n",
    "\n",
    "- $y$ — вектор целевого признака\n",
    "\n",
    "- $P$ — матрица, на которую умножаются признаки\n",
    "\n",
    "- $w$ — вектор весов линейной регрессии (нулевой элемент равен сдвигу)"
   ]
  },
  {
   "cell_type": "markdown",
   "metadata": {},
   "source": [
    "Предсказания:\n",
    "\n",
    "$$\n",
    "a = Xw\n",
    "$$\n",
    "\n",
    "Задача обучения:\n",
    "\n",
    "$$\n",
    "w = \\arg\\min_w MSE(Xw, y)\n",
    "$$\n",
    "\n",
    "Формула обучения:\n",
    "\n",
    "$$\n",
    "w = (X^T X)^{-1} X^T y\n",
    "$$"
   ]
  },
  {
   "cell_type": "markdown",
   "metadata": {},
   "source": [
    "**Ответ: Качество линейной регрессии не изменится** \n",
    "\n",
    "**Обоснование ниже:**"
   ]
  },
  {
   "cell_type": "markdown",
   "metadata": {},
   "source": [
    "Умножим матрицу признаков на обратимую матрицу $A$\n",
    "\n",
    "Тогда полученная матрица признаков будет равна: $X_A = XA$\n",
    "\n",
    "Формула обучения также изменится: $w_A = ((XA)^T XA)^{-1} (XA)^T y$\n",
    "\n",
    "Предсказания новой матрицы признаков: $a_A = XA((XA)^T XA)^{-1} (XA)^T y$\n",
    "\n",
    "Преобразуем это выражение. Траспонированное произведение матриц равно произведению транспонированных матриц в обратном порядке:\n",
    "\n",
    "$XA((XA)^T XA)^{-1} (XA)^T y = XA(A^T X^T XA)^{-1}A^T X^T y$\n",
    "\n",
    "Разложим обратную матрицу произведения $(A^T X^T XA)^{-1}$ на произведение обратных матриц. Квадратные матрицы-множители в нем - это $A^T$, $X^T X$ и $A$:\n",
    "\n",
    "$XA(A^T X^T XA)^{-1}A^T X^T y = XA A^{-1} (X^T X)^{-1} {A^T}^{-1} A^T X^T y$\n",
    "\n",
    "Матрица $A$ - обратимая, это значит, что $A A^{-1} = E$ и ${A^T}^{-1} A^T = E$\n",
    "\n",
    "Тогда выражение примет вид:\n",
    "\n",
    "$XA A^{-1} (X^T X)^{-1} {A^T}^{-1} A^T X^T y = XE (X^T X)^{-1} E X^T y$\n",
    "\n",
    "Произведение матрицы на единичную матрицу $E$ не изменяет матрицу. Сократим $E$:\n",
    "\n",
    "$XE (X^T X)^{-1} E X^T y = X (X^T X)^{-1}X^T y$\n",
    "\n",
    "Выражение $(X^T X)^{-1}X^T y$ - это изначальная формула обучения линейной регрессии. Тогда:\n",
    "\n",
    "$X (X^T X)^{-1}X^T y = Xw = a$\n",
    "\n",
    "Таким образом, мы получили равенство предсказаний исходных признаков и предсказаний признаков, умноженных на обратимую матрицу:\n",
    "\n",
    "$$a = a_A$$\n"
   ]
  },
  {
   "cell_type": "markdown",
   "metadata": {},
   "source": [
    "## Алгоритм преобразования"
   ]
  },
  {
   "cell_type": "markdown",
   "metadata": {},
   "source": [
    "**Алгоритм**\n",
    "Для проверки неизменности результатов линейной регрессии умножим матрицу признаков на случайную обратимую матрицу. Затем обучим модель на исходных признаках и измененных и сравним результаты.\n"
   ]
  },
  {
   "cell_type": "markdown",
   "metadata": {},
   "source": [
    "**Обоснование**\n",
    "Если доказательство о неизменности результатов линейной регрессии верно, то качество модели на исходных данных и преобразованных будет одинаковым."
   ]
  },
  {
   "cell_type": "markdown",
   "metadata": {},
   "source": [
    "## Проверка алгоритма"
   ]
  },
  {
   "cell_type": "markdown",
   "metadata": {},
   "source": [
    "Выделим обучающие и целевой признаки их исходного датасета."
   ]
  },
  {
   "cell_type": "code",
   "execution_count": 7,
   "metadata": {},
   "outputs": [],
   "source": [
    "features = df.drop(['Страховые выплаты'], axis=1)\n",
    "target = df['Страховые выплаты']"
   ]
  },
  {
   "cell_type": "markdown",
   "metadata": {},
   "source": [
    "Умножим признаки на обратимую матрицу. Для умножения высота матрицы должна равняться ширине матрицы признаков. Так как матрица обратимая, то ее высота будет равняться ширине. Матрица может оказаться необратимой, в таком случае нужно будет создать ее повторно. Напишем функцию генерирования случайной матрицы, которая будет выполняться до тех пор, пока не сгенерируется обратимая матрица. "
   ]
  },
  {
   "cell_type": "code",
   "execution_count": 8,
   "metadata": {},
   "outputs": [],
   "source": [
    "def generate_matrix():\n",
    "    matrix = []\n",
    "    for i in range(features.shape[1]):\n",
    "        matrix.append(np.random.normal(size=features.shape[1]))\n",
    "    matrix = np.array(matrix)\n",
    "    _ = np.linalg.inv(matrix) #Если матрица необратимая, то в этом месте выйдет ошибка\n",
    "    return matrix\n",
    "try:\n",
    "    matrix = generate_matrix()\n",
    "except:\n",
    "    matrix = generate_matrix()"
   ]
  },
  {
   "cell_type": "code",
   "execution_count": 9,
   "metadata": {},
   "outputs": [
    {
     "data": {
      "text/plain": [
       "array([[ 0.1510368 , -2.08327527, -1.5132041 , -1.02436857],\n",
       "       [ 0.44602319, -0.08021578, -0.45103156, -0.26673783],\n",
       "       [-1.05950008, -0.32549067, -1.62644539,  0.26743484],\n",
       "       [-0.6090548 ,  1.80296189,  0.45279413, -0.12853901]])"
      ]
     },
     "execution_count": 9,
     "metadata": {},
     "output_type": "execute_result"
    }
   ],
   "source": [
    "matrix"
   ]
  },
  {
   "cell_type": "markdown",
   "metadata": {},
   "source": [
    "Умножим признаки на обратимую матрицу"
   ]
  },
  {
   "cell_type": "code",
   "execution_count": 10,
   "metadata": {},
   "outputs": [],
   "source": [
    "features_encrypt = pd.DataFrame(features.values @ matrix, columns=features.columns)"
   ]
  },
  {
   "cell_type": "code",
   "execution_count": 11,
   "metadata": {},
   "outputs": [
    {
     "data": {
      "text/html": [
       "<div>\n",
       "<style scoped>\n",
       "    .dataframe tbody tr th:only-of-type {\n",
       "        vertical-align: middle;\n",
       "    }\n",
       "\n",
       "    .dataframe tbody tr th {\n",
       "        vertical-align: top;\n",
       "    }\n",
       "\n",
       "    .dataframe thead th {\n",
       "        text-align: right;\n",
       "    }\n",
       "</style>\n",
       "<table border=\"1\" class=\"dataframe\">\n",
       "  <thead>\n",
       "    <tr style=\"text-align: right;\">\n",
       "      <th></th>\n",
       "      <th>Пол</th>\n",
       "      <th>Возраст</th>\n",
       "      <th>Зарплата</th>\n",
       "      <th>Члены семьи</th>\n",
       "    </tr>\n",
       "  </thead>\n",
       "  <tbody>\n",
       "    <tr>\n",
       "      <th>0</th>\n",
       "      <td>-52533.375173</td>\n",
       "      <td>-16147.906169</td>\n",
       "      <td>-80691.243871</td>\n",
       "      <td>13252.678845</td>\n",
       "    </tr>\n",
       "    <tr>\n",
       "      <th>1</th>\n",
       "      <td>-40241.095133</td>\n",
       "      <td>-12370.532253</td>\n",
       "      <td>-61825.219342</td>\n",
       "      <td>10150.125395</td>\n",
       "    </tr>\n",
       "    <tr>\n",
       "      <th>2</th>\n",
       "      <td>-22236.567066</td>\n",
       "      <td>-6837.630233</td>\n",
       "      <td>-34168.433031</td>\n",
       "      <td>5608.396217</td>\n",
       "    </tr>\n",
       "    <tr>\n",
       "      <th>3</th>\n",
       "      <td>-44173.005074</td>\n",
       "      <td>-13571.039359</td>\n",
       "      <td>-67831.338689</td>\n",
       "      <td>11146.174205</td>\n",
       "    </tr>\n",
       "    <tr>\n",
       "      <th>4</th>\n",
       "      <td>-27640.312474</td>\n",
       "      <td>-8499.635686</td>\n",
       "      <td>-42464.366674</td>\n",
       "      <td>6971.556264</td>\n",
       "    </tr>\n",
       "    <tr>\n",
       "      <th>...</th>\n",
       "      <td>...</td>\n",
       "      <td>...</td>\n",
       "      <td>...</td>\n",
       "      <td>...</td>\n",
       "    </tr>\n",
       "    <tr>\n",
       "      <th>4995</th>\n",
       "      <td>-37812.882415</td>\n",
       "      <td>-11618.656876</td>\n",
       "      <td>-58075.823591</td>\n",
       "      <td>9539.698007</td>\n",
       "    </tr>\n",
       "    <tr>\n",
       "      <th>4996</th>\n",
       "      <td>-55503.248603</td>\n",
       "      <td>-17056.635246</td>\n",
       "      <td>-85240.620528</td>\n",
       "      <td>14004.387927</td>\n",
       "    </tr>\n",
       "    <tr>\n",
       "      <th>4997</th>\n",
       "      <td>-35909.350452</td>\n",
       "      <td>-11032.131952</td>\n",
       "      <td>-55144.613643</td>\n",
       "      <td>9060.449200</td>\n",
       "    </tr>\n",
       "    <tr>\n",
       "      <th>4998</th>\n",
       "      <td>-34637.516324</td>\n",
       "      <td>-10641.983898</td>\n",
       "      <td>-53194.841653</td>\n",
       "      <td>8737.841010</td>\n",
       "    </tr>\n",
       "    <tr>\n",
       "      <th>4999</th>\n",
       "      <td>-43003.672729</td>\n",
       "      <td>-13217.447374</td>\n",
       "      <td>-66047.371983</td>\n",
       "      <td>10849.232888</td>\n",
       "    </tr>\n",
       "  </tbody>\n",
       "</table>\n",
       "<p>5000 rows × 4 columns</p>\n",
       "</div>"
      ],
      "text/plain": [
       "               Пол       Возраст      Зарплата   Члены семьи\n",
       "0    -52533.375173 -16147.906169 -80691.243871  13252.678845\n",
       "1    -40241.095133 -12370.532253 -61825.219342  10150.125395\n",
       "2    -22236.567066  -6837.630233 -34168.433031   5608.396217\n",
       "3    -44173.005074 -13571.039359 -67831.338689  11146.174205\n",
       "4    -27640.312474  -8499.635686 -42464.366674   6971.556264\n",
       "...            ...           ...           ...           ...\n",
       "4995 -37812.882415 -11618.656876 -58075.823591   9539.698007\n",
       "4996 -55503.248603 -17056.635246 -85240.620528  14004.387927\n",
       "4997 -35909.350452 -11032.131952 -55144.613643   9060.449200\n",
       "4998 -34637.516324 -10641.983898 -53194.841653   8737.841010\n",
       "4999 -43003.672729 -13217.447374 -66047.371983  10849.232888\n",
       "\n",
       "[5000 rows x 4 columns]"
      ]
     },
     "execution_count": 11,
     "metadata": {},
     "output_type": "execute_result"
    }
   ],
   "source": [
    "features_encrypt"
   ]
  },
  {
   "cell_type": "markdown",
   "metadata": {},
   "source": [
    "Поделим фичи (до и после шифрования) и целевой признак на обучающую и тестовую выборки"
   ]
  },
  {
   "cell_type": "code",
   "execution_count": 12,
   "metadata": {},
   "outputs": [],
   "source": [
    "features_train, features_test, target_train, target_test = train_test_split(features, target, test_size=0.2, random_state=0)\n",
    "features_train_encrypt, features_test_encrypt, target_train, target_test = train_test_split(\n",
    "    features_encrypt, target, test_size=0.2, random_state=0)"
   ]
  },
  {
   "cell_type": "markdown",
   "metadata": {},
   "source": [
    "Теперь обучим модель линейной регрессии на обучающей выборке до и после шифрования, посчитаем качество модели на тестовой выборке и сравним результаты."
   ]
  },
  {
   "cell_type": "code",
   "execution_count": 13,
   "metadata": {},
   "outputs": [],
   "source": [
    "model = LinearRegression()\n",
    "model.fit(features_train, target_train)\n",
    "test_predict = model.predict(features_test)\n",
    "R2_score = r2_score(target_test, test_predict)\n",
    "model.fit(features_train_encrypt, target_train)\n",
    "test_predict = model.predict(features_test_encrypt)\n",
    "R2_score_encrypt = r2_score(target_test, test_predict)"
   ]
  },
  {
   "cell_type": "code",
   "execution_count": 14,
   "metadata": {},
   "outputs": [
    {
     "name": "stdout",
     "output_type": "stream",
     "text": [
      "Значение R2 на тестовой выборке для модели, обученной на выборке до шифрования, составляет 0.39753943113559864\n",
      "Значение R2 на тестовой выборке для модели, обученной на выборке после шифрования, составляет 0.3975394311356272\n",
      "Разница полученных результатов -2.853273173286652e-14\n"
     ]
    }
   ],
   "source": [
    "print('Значение R2 на тестовой выборке для модели, обученной на выборке до шифрования, составляет', R2_score)\n",
    "print('Значение R2 на тестовой выборке для модели, обученной на выборке после шифрования, составляет', R2_score_encrypt)\n",
    "print('Разница полученных результатов', R2_score - R2_score_encrypt)"
   ]
  },
  {
   "cell_type": "markdown",
   "metadata": {},
   "source": [
    "**Как видно, качество модели до и после шифрования практически идентичное.**"
   ]
  },
  {
   "cell_type": "markdown",
   "metadata": {},
   "source": [
    "## Выводы"
   ]
  },
  {
   "cell_type": "markdown",
   "metadata": {},
   "source": [
    "**В проекте аналитическим методом была доказана неизменность качества линейной регрессии при умножении признаков на обратимую матрицу. Теория также подтверждена на реальной линейной модели путем сравнения результатов ее предсказания до и после умножения признаков на обратимую матрицу.**"
   ]
  }
 ],
 "metadata": {
  "ExecuteTimeLog": [
   {
    "duration": 498,
    "start_time": "2022-01-18T15:34:19.342Z"
   },
   {
    "duration": 252,
    "start_time": "2022-01-18T15:34:39.986Z"
   },
   {
    "duration": 15,
    "start_time": "2022-01-18T15:34:45.533Z"
   },
   {
    "duration": 17,
    "start_time": "2022-01-18T15:34:51.020Z"
   },
   {
    "duration": 247,
    "start_time": "2022-01-18T15:35:39.540Z"
   },
   {
    "duration": 192,
    "start_time": "2022-01-18T15:35:46.907Z"
   },
   {
    "duration": 7,
    "start_time": "2022-01-18T15:35:51.662Z"
   },
   {
    "duration": 211,
    "start_time": "2022-01-18T15:36:03.337Z"
   },
   {
    "duration": 527,
    "start_time": "2022-01-19T15:41:09.401Z"
   },
   {
    "duration": 19,
    "start_time": "2022-01-19T15:41:09.929Z"
   },
   {
    "duration": 218,
    "start_time": "2022-01-19T15:41:09.950Z"
   },
   {
    "duration": 10,
    "start_time": "2022-01-19T15:41:28.389Z"
   },
   {
    "duration": 9,
    "start_time": "2022-01-19T15:41:35.898Z"
   },
   {
    "duration": 21,
    "start_time": "2022-01-19T15:41:39.743Z"
   },
   {
    "duration": 7,
    "start_time": "2022-01-19T15:41:42.787Z"
   },
   {
    "duration": 20,
    "start_time": "2022-01-19T15:41:46.631Z"
   },
   {
    "duration": 2,
    "start_time": "2022-01-19T15:45:06.598Z"
   },
   {
    "duration": 294,
    "start_time": "2022-01-19T15:45:23.809Z"
   },
   {
    "duration": 232,
    "start_time": "2022-01-19T15:46:43.756Z"
   },
   {
    "duration": 3241,
    "start_time": "2022-01-19T15:46:48.452Z"
   },
   {
    "duration": 2938,
    "start_time": "2022-01-19T15:46:56.114Z"
   },
   {
    "duration": 561,
    "start_time": "2022-01-19T15:47:11.630Z"
   },
   {
    "duration": 2692,
    "start_time": "2022-01-19T15:47:16.852Z"
   },
   {
    "duration": 2863,
    "start_time": "2022-01-19T15:48:07.018Z"
   },
   {
    "duration": 2845,
    "start_time": "2022-01-19T15:49:27.852Z"
   },
   {
    "duration": 3758,
    "start_time": "2022-01-19T15:50:44.091Z"
   },
   {
    "duration": 3688,
    "start_time": "2022-01-19T15:50:51.028Z"
   },
   {
    "duration": 3375,
    "start_time": "2022-01-19T15:51:00.047Z"
   },
   {
    "duration": 855,
    "start_time": "2022-01-21T10:00:05.730Z"
   },
   {
    "duration": 19,
    "start_time": "2022-01-21T10:00:06.588Z"
   },
   {
    "duration": 24,
    "start_time": "2022-01-21T10:00:06.610Z"
   },
   {
    "duration": 35,
    "start_time": "2022-01-21T10:00:06.636Z"
   },
   {
    "duration": 5765,
    "start_time": "2022-01-21T10:00:06.673Z"
   },
   {
    "duration": 293,
    "start_time": "2022-01-21T10:00:12.441Z"
   },
   {
    "duration": 5,
    "start_time": "2022-01-21T10:00:12.737Z"
   },
   {
    "duration": 354,
    "start_time": "2022-01-21T10:13:18.247Z"
   },
   {
    "duration": 574,
    "start_time": "2022-01-21T10:13:23.880Z"
   },
   {
    "duration": 7,
    "start_time": "2022-01-21T10:13:28.209Z"
   },
   {
    "duration": 6,
    "start_time": "2022-01-21T10:14:08.260Z"
   },
   {
    "duration": 7,
    "start_time": "2022-01-21T10:28:15.947Z"
   },
   {
    "duration": 332,
    "start_time": "2022-01-21T10:31:39.816Z"
   },
   {
    "duration": 4,
    "start_time": "2022-01-21T10:31:50.422Z"
   },
   {
    "duration": 5,
    "start_time": "2022-01-21T10:31:55.680Z"
   },
   {
    "duration": 6,
    "start_time": "2022-01-21T10:31:59.119Z"
   },
   {
    "duration": 8,
    "start_time": "2022-01-21T10:32:06.730Z"
   },
   {
    "duration": 235,
    "start_time": "2022-01-21T10:32:12.521Z"
   },
   {
    "duration": 727,
    "start_time": "2022-01-21T10:32:14.999Z"
   },
   {
    "duration": 265,
    "start_time": "2022-01-21T10:33:03.740Z"
   },
   {
    "duration": 304,
    "start_time": "2022-01-21T10:33:21.006Z"
   },
   {
    "duration": 17,
    "start_time": "2022-01-21T10:33:47.029Z"
   },
   {
    "duration": 8,
    "start_time": "2022-01-21T10:34:41.462Z"
   },
   {
    "duration": 293,
    "start_time": "2022-01-21T10:34:42.234Z"
   },
   {
    "duration": 9,
    "start_time": "2022-01-21T10:35:02.036Z"
   },
   {
    "duration": 8,
    "start_time": "2022-01-21T10:35:04.378Z"
   },
   {
    "duration": 320,
    "start_time": "2022-01-21T10:35:05.416Z"
   },
   {
    "duration": 8,
    "start_time": "2022-01-21T10:35:09.897Z"
   },
   {
    "duration": 284,
    "start_time": "2022-01-21T10:35:10.422Z"
   },
   {
    "duration": 9,
    "start_time": "2022-01-21T10:35:14.586Z"
   },
   {
    "duration": 296,
    "start_time": "2022-01-21T10:35:15.757Z"
   },
   {
    "duration": 4,
    "start_time": "2022-01-21T10:36:08.322Z"
   },
   {
    "duration": 406,
    "start_time": "2022-01-21T10:36:08.882Z"
   },
   {
    "duration": 5,
    "start_time": "2022-01-21T10:36:13.517Z"
   },
   {
    "duration": 281,
    "start_time": "2022-01-21T10:36:15.461Z"
   },
   {
    "duration": 4,
    "start_time": "2022-01-21T10:36:19.742Z"
   },
   {
    "duration": 474,
    "start_time": "2022-01-21T10:36:20.587Z"
   },
   {
    "duration": 20,
    "start_time": "2022-01-21T10:36:26.347Z"
   },
   {
    "duration": 91,
    "start_time": "2022-01-21T10:38:35.457Z"
   },
   {
    "duration": 84,
    "start_time": "2022-01-21T10:38:49.624Z"
   },
   {
    "duration": 5,
    "start_time": "2022-01-21T10:38:55.614Z"
   },
   {
    "duration": 6,
    "start_time": "2022-01-21T10:38:59.843Z"
   },
   {
    "duration": 5,
    "start_time": "2022-01-21T10:39:26.573Z"
   },
   {
    "duration": 4,
    "start_time": "2022-01-21T10:39:38.119Z"
   },
   {
    "duration": 6,
    "start_time": "2022-01-21T10:39:39.631Z"
   },
   {
    "duration": 5,
    "start_time": "2022-01-21T10:39:46.028Z"
   },
   {
    "duration": 4,
    "start_time": "2022-01-21T10:41:46.432Z"
   },
   {
    "duration": 5,
    "start_time": "2022-01-21T10:41:46.982Z"
   },
   {
    "duration": 5,
    "start_time": "2022-01-21T10:43:11.165Z"
   },
   {
    "duration": 15,
    "start_time": "2022-01-21T10:43:17.931Z"
   },
   {
    "duration": 14,
    "start_time": "2022-01-21T10:43:32.056Z"
   },
   {
    "duration": 5715,
    "start_time": "2022-01-21T10:43:55.187Z"
   },
   {
    "duration": 299,
    "start_time": "2022-01-21T10:44:00.905Z"
   },
   {
    "duration": 22,
    "start_time": "2022-01-21T10:50:01.660Z"
   },
   {
    "duration": 5,
    "start_time": "2022-01-21T11:06:09.290Z"
   },
   {
    "duration": 10,
    "start_time": "2022-01-21T11:06:32.421Z"
   },
   {
    "duration": 7,
    "start_time": "2022-01-21T11:06:40.952Z"
   },
   {
    "duration": 12,
    "start_time": "2022-01-21T11:07:39.959Z"
   },
   {
    "duration": 5,
    "start_time": "2022-01-21T11:07:40.583Z"
   },
   {
    "duration": 1049,
    "start_time": "2022-01-26T09:48:36.168Z"
   },
   {
    "duration": 15,
    "start_time": "2022-01-26T09:48:37.219Z"
   },
   {
    "duration": 10,
    "start_time": "2022-01-26T09:48:37.238Z"
   },
   {
    "duration": 21,
    "start_time": "2022-01-26T09:48:37.249Z"
   },
   {
    "duration": 2838,
    "start_time": "2022-01-26T09:48:37.271Z"
   },
   {
    "duration": 152,
    "start_time": "2022-01-26T09:48:40.110Z"
   },
   {
    "duration": 3,
    "start_time": "2022-01-26T09:48:40.265Z"
   },
   {
    "duration": 7,
    "start_time": "2022-01-26T09:48:40.269Z"
   },
   {
    "duration": 4,
    "start_time": "2022-01-26T09:48:40.277Z"
   },
   {
    "duration": 4,
    "start_time": "2022-01-26T09:48:40.282Z"
   },
   {
    "duration": 5,
    "start_time": "2022-01-26T09:48:40.287Z"
   },
   {
    "duration": 4,
    "start_time": "2022-01-26T09:48:40.293Z"
   },
   {
    "duration": 35,
    "start_time": "2022-01-26T09:48:40.298Z"
   },
   {
    "duration": 8,
    "start_time": "2022-01-26T09:48:40.335Z"
   },
   {
    "duration": 3,
    "start_time": "2022-01-26T09:48:40.345Z"
   },
   {
    "duration": 3,
    "start_time": "2022-01-26T09:51:16.735Z"
   },
   {
    "duration": 3,
    "start_time": "2022-01-26T09:51:23.168Z"
   },
   {
    "duration": 4,
    "start_time": "2022-01-26T09:51:31.575Z"
   },
   {
    "duration": 392,
    "start_time": "2022-01-26T09:55:07.768Z"
   },
   {
    "duration": 335,
    "start_time": "2022-01-26T09:55:12.824Z"
   },
   {
    "duration": 5,
    "start_time": "2022-01-26T09:55:16.920Z"
   },
   {
    "duration": 117,
    "start_time": "2022-01-26T09:59:57.118Z"
   },
   {
    "duration": 4,
    "start_time": "2022-01-26T10:00:13.980Z"
   },
   {
    "duration": 372,
    "start_time": "2022-01-26T10:01:00.256Z"
   },
   {
    "duration": 2,
    "start_time": "2022-01-26T10:01:22.648Z"
   },
   {
    "duration": 3,
    "start_time": "2022-01-26T10:01:37.888Z"
   },
   {
    "duration": 5,
    "start_time": "2022-01-26T10:02:02.176Z"
   },
   {
    "duration": 337,
    "start_time": "2022-01-26T10:02:11.280Z"
   },
   {
    "duration": 154,
    "start_time": "2022-01-26T10:02:24.720Z"
   },
   {
    "duration": 5,
    "start_time": "2022-01-26T10:02:35.424Z"
   },
   {
    "duration": 159,
    "start_time": "2022-01-26T10:02:35.999Z"
   },
   {
    "duration": 5,
    "start_time": "2022-01-26T10:02:43.208Z"
   },
   {
    "duration": 161,
    "start_time": "2022-01-26T10:02:43.992Z"
   },
   {
    "duration": 5,
    "start_time": "2022-01-26T10:02:47.681Z"
   },
   {
    "duration": 156,
    "start_time": "2022-01-26T10:02:48.632Z"
   },
   {
    "duration": 5,
    "start_time": "2022-01-26T10:03:05.368Z"
   },
   {
    "duration": 156,
    "start_time": "2022-01-26T10:03:05.728Z"
   },
   {
    "duration": 3,
    "start_time": "2022-01-26T10:04:09.016Z"
   },
   {
    "duration": 3,
    "start_time": "2022-01-26T10:04:12.377Z"
   },
   {
    "duration": 4,
    "start_time": "2022-01-26T10:04:16.609Z"
   },
   {
    "duration": 4,
    "start_time": "2022-01-26T10:04:26.776Z"
   },
   {
    "duration": 3,
    "start_time": "2022-01-26T10:04:29.512Z"
   },
   {
    "duration": 3,
    "start_time": "2022-01-26T10:04:55.920Z"
   },
   {
    "duration": 4,
    "start_time": "2022-01-26T10:04:59.088Z"
   },
   {
    "duration": 3,
    "start_time": "2022-01-26T10:05:58.208Z"
   },
   {
    "duration": 4,
    "start_time": "2022-01-26T10:06:00.024Z"
   },
   {
    "duration": 3,
    "start_time": "2022-01-26T10:06:02.032Z"
   },
   {
    "duration": 3,
    "start_time": "2022-01-26T10:06:03.834Z"
   },
   {
    "duration": 3,
    "start_time": "2022-01-26T10:06:05.746Z"
   },
   {
    "duration": 4,
    "start_time": "2022-01-26T10:07:38.832Z"
   },
   {
    "duration": 3,
    "start_time": "2022-01-26T10:07:41.360Z"
   },
   {
    "duration": 3,
    "start_time": "2022-01-26T10:09:10.865Z"
   },
   {
    "duration": 9,
    "start_time": "2022-01-26T10:09:18.616Z"
   },
   {
    "duration": 7,
    "start_time": "2022-01-26T10:12:05.658Z"
   },
   {
    "duration": 8,
    "start_time": "2022-01-26T10:13:16.122Z"
   },
   {
    "duration": 4,
    "start_time": "2022-01-26T10:13:26.205Z"
   },
   {
    "duration": 4,
    "start_time": "2022-01-26T10:15:30.024Z"
   },
   {
    "duration": 7,
    "start_time": "2022-01-26T10:18:01.650Z"
   },
   {
    "duration": 5,
    "start_time": "2022-01-26T10:19:28.805Z"
   },
   {
    "duration": 3325,
    "start_time": "2022-01-26T10:19:34.757Z"
   },
   {
    "duration": 1131,
    "start_time": "2022-01-26T10:33:29.899Z"
   },
   {
    "duration": 17,
    "start_time": "2022-01-26T10:33:31.031Z"
   },
   {
    "duration": 13,
    "start_time": "2022-01-26T10:33:31.050Z"
   },
   {
    "duration": 8,
    "start_time": "2022-01-26T10:33:31.065Z"
   },
   {
    "duration": 8,
    "start_time": "2022-01-26T10:33:31.075Z"
   },
   {
    "duration": 2903,
    "start_time": "2022-01-26T10:33:31.085Z"
   },
   {
    "duration": 5,
    "start_time": "2022-01-26T10:33:33.989Z"
   },
   {
    "duration": 30,
    "start_time": "2022-01-26T10:33:33.997Z"
   },
   {
    "duration": 5,
    "start_time": "2022-01-26T10:33:34.029Z"
   },
   {
    "duration": 5,
    "start_time": "2022-01-26T10:33:34.036Z"
   },
   {
    "duration": 95,
    "start_time": "2022-01-26T10:33:34.043Z"
   },
   {
    "duration": 10,
    "start_time": "2022-01-26T10:33:34.139Z"
   },
   {
    "duration": 9,
    "start_time": "2022-01-26T10:33:34.151Z"
   },
   {
    "duration": 4,
    "start_time": "2022-01-26T10:33:34.162Z"
   },
   {
    "duration": 1074,
    "start_time": "2022-01-26T10:34:40.348Z"
   },
   {
    "duration": 16,
    "start_time": "2022-01-26T10:34:41.424Z"
   },
   {
    "duration": 9,
    "start_time": "2022-01-26T10:34:41.444Z"
   },
   {
    "duration": 6,
    "start_time": "2022-01-26T10:34:41.455Z"
   },
   {
    "duration": 4,
    "start_time": "2022-01-26T10:34:41.463Z"
   },
   {
    "duration": 3378,
    "start_time": "2022-01-26T10:34:41.468Z"
   },
   {
    "duration": 4,
    "start_time": "2022-01-26T10:34:44.847Z"
   },
   {
    "duration": 5,
    "start_time": "2022-01-26T10:34:44.853Z"
   },
   {
    "duration": 70,
    "start_time": "2022-01-26T10:34:44.859Z"
   },
   {
    "duration": 7,
    "start_time": "2022-01-26T10:34:44.931Z"
   },
   {
    "duration": 88,
    "start_time": "2022-01-26T10:34:44.940Z"
   },
   {
    "duration": 8,
    "start_time": "2022-01-26T10:34:45.030Z"
   },
   {
    "duration": 8,
    "start_time": "2022-01-26T10:34:45.039Z"
   },
   {
    "duration": 4,
    "start_time": "2022-01-26T10:34:45.048Z"
   },
   {
    "duration": 1122,
    "start_time": "2022-01-26T12:08:53.966Z"
   },
   {
    "duration": 18,
    "start_time": "2022-01-26T12:08:55.090Z"
   },
   {
    "duration": 11,
    "start_time": "2022-01-26T12:08:55.194Z"
   },
   {
    "duration": 9,
    "start_time": "2022-01-26T12:08:55.357Z"
   },
   {
    "duration": 5,
    "start_time": "2022-01-26T12:09:02.051Z"
   },
   {
    "duration": 3702,
    "start_time": "2022-01-26T12:09:02.222Z"
   },
   {
    "duration": 4,
    "start_time": "2022-01-26T12:12:13.154Z"
   },
   {
    "duration": 5,
    "start_time": "2022-01-26T12:12:14.953Z"
   },
   {
    "duration": 96,
    "start_time": "2022-01-26T16:18:27.263Z"
   },
   {
    "duration": 1449,
    "start_time": "2022-01-26T16:21:39.139Z"
   },
   {
    "duration": 20,
    "start_time": "2022-01-26T16:21:40.591Z"
   },
   {
    "duration": 18,
    "start_time": "2022-01-26T16:21:40.614Z"
   },
   {
    "duration": 10,
    "start_time": "2022-01-26T16:21:40.636Z"
   },
   {
    "duration": 27,
    "start_time": "2022-01-26T16:21:40.648Z"
   },
   {
    "duration": 5374,
    "start_time": "2022-01-26T16:21:40.678Z"
   },
   {
    "duration": 18,
    "start_time": "2022-01-26T16:21:46.055Z"
   },
   {
    "duration": 10,
    "start_time": "2022-01-26T16:21:46.077Z"
   },
   {
    "duration": 81,
    "start_time": "2022-01-26T16:21:46.091Z"
   },
   {
    "duration": 6,
    "start_time": "2022-01-26T16:21:46.176Z"
   },
   {
    "duration": 94,
    "start_time": "2022-01-26T16:21:46.186Z"
   },
   {
    "duration": 12,
    "start_time": "2022-01-26T16:21:46.283Z"
   },
   {
    "duration": 13,
    "start_time": "2022-01-26T16:21:46.298Z"
   },
   {
    "duration": 6,
    "start_time": "2022-01-26T16:21:46.313Z"
   },
   {
    "duration": 2235,
    "start_time": "2022-08-23T12:17:19.006Z"
   },
   {
    "duration": 100,
    "start_time": "2022-08-23T12:17:21.293Z"
   },
   {
    "duration": 13,
    "start_time": "2022-08-23T12:17:21.395Z"
   },
   {
    "duration": 19,
    "start_time": "2022-08-23T12:17:21.409Z"
   },
   {
    "duration": 63,
    "start_time": "2022-08-23T12:17:21.430Z"
   },
   {
    "duration": 3422,
    "start_time": "2022-08-23T12:17:21.495Z"
   },
   {
    "duration": 5,
    "start_time": "2022-08-23T12:17:24.919Z"
   },
   {
    "duration": 14,
    "start_time": "2022-08-23T12:17:24.926Z"
   },
   {
    "duration": 11,
    "start_time": "2022-08-23T12:17:24.998Z"
   },
   {
    "duration": 10,
    "start_time": "2022-08-23T12:17:25.093Z"
   },
   {
    "duration": 27,
    "start_time": "2022-08-23T12:17:25.105Z"
   },
   {
    "duration": 64,
    "start_time": "2022-08-23T12:17:25.135Z"
   },
   {
    "duration": 20,
    "start_time": "2022-08-23T12:17:25.202Z"
   },
   {
    "duration": 6,
    "start_time": "2022-08-23T12:17:25.225Z"
   }
  ],
  "kernelspec": {
   "display_name": "Python 3 (ipykernel)",
   "language": "python",
   "name": "python3"
  },
  "language_info": {
   "codemirror_mode": {
    "name": "ipython",
    "version": 3
   },
   "file_extension": ".py",
   "mimetype": "text/x-python",
   "name": "python",
   "nbconvert_exporter": "python",
   "pygments_lexer": "ipython3",
   "version": "3.9.5"
  },
  "toc": {
   "base_numbering": 1,
   "nav_menu": {},
   "number_sections": true,
   "sideBar": true,
   "skip_h1_title": true,
   "title_cell": "Содержание",
   "title_sidebar": "Contents",
   "toc_cell": true,
   "toc_position": {},
   "toc_section_display": true,
   "toc_window_display": true
  }
 },
 "nbformat": 4,
 "nbformat_minor": 2
}
