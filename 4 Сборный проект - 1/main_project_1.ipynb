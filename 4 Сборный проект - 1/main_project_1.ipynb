{
 "cells": [
  {
   "cell_type": "markdown",
   "metadata": {},
   "source": [
    "# Сборный проект 1"
   ]
  },
  {
   "cell_type": "markdown",
   "metadata": {},
   "source": [
    "## Введение"
   ]
  },
  {
   "cell_type": "markdown",
   "metadata": {},
   "source": [
    "В этой работе необходимо выявить определяющие успешность игры закономерности на основании данных о продажах игр. Сперва нужно будет выполнить подготовку данных, затем провести анализ данных, выявить зависимости, после чего проверить некоторые гипотезы."
   ]
  },
  {
   "cell_type": "markdown",
   "metadata": {},
   "source": [
    "**Работать будем с данными о продажах игр. В распоряжении следующие столбцы:** \n",
    "    \n",
    "Name — название игры\n",
    "    \n",
    "Platform — платформа\n",
    "    \n",
    "Year_of_Release — год выпуска\n",
    "    \n",
    "Genre — жанр игры\n",
    "    \n",
    "NA_sales — продажи в Северной Америке (миллионы проданных копий)\n",
    "    \n",
    "EU_sales — продажи в Европе (миллионы проданных копий)\n",
    "    \n",
    "JP_sales — продажи в Японии (миллионы проданных копий)\n",
    "    \n",
    "Other_sales — продажи в других странах (миллионы проданных копий)\n",
    "    \n",
    "Critic_Score — оценка критиков (максимум 100)\n",
    "    \n",
    "User_Score — оценка пользователей (максимум 10)\n",
    "    \n",
    "Rating — рейтинг от организации ESRB (англ. Entertainment Software Rating Board). Эта ассоциация определяет рейтинг компьютерных игр и присваивает им подходящую возрастную категорию."
   ]
  },
  {
   "cell_type": "markdown",
   "metadata": {},
   "source": [
    "## Изучение общей информации"
   ]
  },
  {
   "cell_type": "code",
   "execution_count": 1,
   "metadata": {},
   "outputs": [
    {
     "data": {
      "text/html": [
       "<div>\n",
       "<style scoped>\n",
       "    .dataframe tbody tr th:only-of-type {\n",
       "        vertical-align: middle;\n",
       "    }\n",
       "\n",
       "    .dataframe tbody tr th {\n",
       "        vertical-align: top;\n",
       "    }\n",
       "\n",
       "    .dataframe thead th {\n",
       "        text-align: right;\n",
       "    }\n",
       "</style>\n",
       "<table border=\"1\" class=\"dataframe\">\n",
       "  <thead>\n",
       "    <tr style=\"text-align: right;\">\n",
       "      <th></th>\n",
       "      <th>Name</th>\n",
       "      <th>Platform</th>\n",
       "      <th>Year_of_Release</th>\n",
       "      <th>Genre</th>\n",
       "      <th>NA_sales</th>\n",
       "      <th>EU_sales</th>\n",
       "      <th>JP_sales</th>\n",
       "      <th>Other_sales</th>\n",
       "      <th>Critic_Score</th>\n",
       "      <th>User_Score</th>\n",
       "      <th>Rating</th>\n",
       "    </tr>\n",
       "  </thead>\n",
       "  <tbody>\n",
       "    <tr>\n",
       "      <th>0</th>\n",
       "      <td>Wii Sports</td>\n",
       "      <td>Wii</td>\n",
       "      <td>2006.0</td>\n",
       "      <td>Sports</td>\n",
       "      <td>41.36</td>\n",
       "      <td>28.96</td>\n",
       "      <td>3.77</td>\n",
       "      <td>8.45</td>\n",
       "      <td>76.0</td>\n",
       "      <td>8</td>\n",
       "      <td>E</td>\n",
       "    </tr>\n",
       "    <tr>\n",
       "      <th>1</th>\n",
       "      <td>Super Mario Bros.</td>\n",
       "      <td>NES</td>\n",
       "      <td>1985.0</td>\n",
       "      <td>Platform</td>\n",
       "      <td>29.08</td>\n",
       "      <td>3.58</td>\n",
       "      <td>6.81</td>\n",
       "      <td>0.77</td>\n",
       "      <td>NaN</td>\n",
       "      <td>NaN</td>\n",
       "      <td>NaN</td>\n",
       "    </tr>\n",
       "    <tr>\n",
       "      <th>2</th>\n",
       "      <td>Mario Kart Wii</td>\n",
       "      <td>Wii</td>\n",
       "      <td>2008.0</td>\n",
       "      <td>Racing</td>\n",
       "      <td>15.68</td>\n",
       "      <td>12.76</td>\n",
       "      <td>3.79</td>\n",
       "      <td>3.29</td>\n",
       "      <td>82.0</td>\n",
       "      <td>8.3</td>\n",
       "      <td>E</td>\n",
       "    </tr>\n",
       "    <tr>\n",
       "      <th>3</th>\n",
       "      <td>Wii Sports Resort</td>\n",
       "      <td>Wii</td>\n",
       "      <td>2009.0</td>\n",
       "      <td>Sports</td>\n",
       "      <td>15.61</td>\n",
       "      <td>10.93</td>\n",
       "      <td>3.28</td>\n",
       "      <td>2.95</td>\n",
       "      <td>80.0</td>\n",
       "      <td>8</td>\n",
       "      <td>E</td>\n",
       "    </tr>\n",
       "    <tr>\n",
       "      <th>4</th>\n",
       "      <td>Pokemon Red/Pokemon Blue</td>\n",
       "      <td>GB</td>\n",
       "      <td>1996.0</td>\n",
       "      <td>Role-Playing</td>\n",
       "      <td>11.27</td>\n",
       "      <td>8.89</td>\n",
       "      <td>10.22</td>\n",
       "      <td>1.00</td>\n",
       "      <td>NaN</td>\n",
       "      <td>NaN</td>\n",
       "      <td>NaN</td>\n",
       "    </tr>\n",
       "  </tbody>\n",
       "</table>\n",
       "</div>"
      ],
      "text/plain": [
       "                       Name Platform  Year_of_Release         Genre  NA_sales  \\\n",
       "0                Wii Sports      Wii           2006.0        Sports     41.36   \n",
       "1         Super Mario Bros.      NES           1985.0      Platform     29.08   \n",
       "2            Mario Kart Wii      Wii           2008.0        Racing     15.68   \n",
       "3         Wii Sports Resort      Wii           2009.0        Sports     15.61   \n",
       "4  Pokemon Red/Pokemon Blue       GB           1996.0  Role-Playing     11.27   \n",
       "\n",
       "   EU_sales  JP_sales  Other_sales  Critic_Score User_Score Rating  \n",
       "0     28.96      3.77         8.45          76.0          8      E  \n",
       "1      3.58      6.81         0.77           NaN        NaN    NaN  \n",
       "2     12.76      3.79         3.29          82.0        8.3      E  \n",
       "3     10.93      3.28         2.95          80.0          8      E  \n",
       "4      8.89     10.22         1.00           NaN        NaN    NaN  "
      ]
     },
     "metadata": {},
     "output_type": "display_data"
    },
    {
     "name": "stdout",
     "output_type": "stream",
     "text": [
      "<class 'pandas.core.frame.DataFrame'>\n",
      "RangeIndex: 16715 entries, 0 to 16714\n",
      "Data columns (total 11 columns):\n",
      " #   Column           Non-Null Count  Dtype  \n",
      "---  ------           --------------  -----  \n",
      " 0   Name             16713 non-null  object \n",
      " 1   Platform         16715 non-null  object \n",
      " 2   Year_of_Release  16446 non-null  float64\n",
      " 3   Genre            16713 non-null  object \n",
      " 4   NA_sales         16715 non-null  float64\n",
      " 5   EU_sales         16715 non-null  float64\n",
      " 6   JP_sales         16715 non-null  float64\n",
      " 7   Other_sales      16715 non-null  float64\n",
      " 8   Critic_Score     8137 non-null   float64\n",
      " 9   User_Score       10014 non-null  object \n",
      " 10  Rating           9949 non-null   object \n",
      "dtypes: float64(6), object(5)\n",
      "memory usage: 1.4+ MB\n",
      "None\n"
     ]
    },
    {
     "data": {
      "text/html": [
       "<div>\n",
       "<style scoped>\n",
       "    .dataframe tbody tr th:only-of-type {\n",
       "        vertical-align: middle;\n",
       "    }\n",
       "\n",
       "    .dataframe tbody tr th {\n",
       "        vertical-align: top;\n",
       "    }\n",
       "\n",
       "    .dataframe thead th {\n",
       "        text-align: right;\n",
       "    }\n",
       "</style>\n",
       "<table border=\"1\" class=\"dataframe\">\n",
       "  <thead>\n",
       "    <tr style=\"text-align: right;\">\n",
       "      <th></th>\n",
       "      <th>Year_of_Release</th>\n",
       "      <th>NA_sales</th>\n",
       "      <th>EU_sales</th>\n",
       "      <th>JP_sales</th>\n",
       "      <th>Other_sales</th>\n",
       "      <th>Critic_Score</th>\n",
       "    </tr>\n",
       "  </thead>\n",
       "  <tbody>\n",
       "    <tr>\n",
       "      <th>count</th>\n",
       "      <td>16446.000000</td>\n",
       "      <td>16715.000000</td>\n",
       "      <td>16715.000000</td>\n",
       "      <td>16715.000000</td>\n",
       "      <td>16715.000000</td>\n",
       "      <td>8137.000000</td>\n",
       "    </tr>\n",
       "    <tr>\n",
       "      <th>mean</th>\n",
       "      <td>2006.484616</td>\n",
       "      <td>0.263377</td>\n",
       "      <td>0.145060</td>\n",
       "      <td>0.077617</td>\n",
       "      <td>0.047342</td>\n",
       "      <td>68.967679</td>\n",
       "    </tr>\n",
       "    <tr>\n",
       "      <th>std</th>\n",
       "      <td>5.877050</td>\n",
       "      <td>0.813604</td>\n",
       "      <td>0.503339</td>\n",
       "      <td>0.308853</td>\n",
       "      <td>0.186731</td>\n",
       "      <td>13.938165</td>\n",
       "    </tr>\n",
       "    <tr>\n",
       "      <th>min</th>\n",
       "      <td>1980.000000</td>\n",
       "      <td>0.000000</td>\n",
       "      <td>0.000000</td>\n",
       "      <td>0.000000</td>\n",
       "      <td>0.000000</td>\n",
       "      <td>13.000000</td>\n",
       "    </tr>\n",
       "    <tr>\n",
       "      <th>25%</th>\n",
       "      <td>2003.000000</td>\n",
       "      <td>0.000000</td>\n",
       "      <td>0.000000</td>\n",
       "      <td>0.000000</td>\n",
       "      <td>0.000000</td>\n",
       "      <td>60.000000</td>\n",
       "    </tr>\n",
       "    <tr>\n",
       "      <th>50%</th>\n",
       "      <td>2007.000000</td>\n",
       "      <td>0.080000</td>\n",
       "      <td>0.020000</td>\n",
       "      <td>0.000000</td>\n",
       "      <td>0.010000</td>\n",
       "      <td>71.000000</td>\n",
       "    </tr>\n",
       "    <tr>\n",
       "      <th>75%</th>\n",
       "      <td>2010.000000</td>\n",
       "      <td>0.240000</td>\n",
       "      <td>0.110000</td>\n",
       "      <td>0.040000</td>\n",
       "      <td>0.030000</td>\n",
       "      <td>79.000000</td>\n",
       "    </tr>\n",
       "    <tr>\n",
       "      <th>max</th>\n",
       "      <td>2016.000000</td>\n",
       "      <td>41.360000</td>\n",
       "      <td>28.960000</td>\n",
       "      <td>10.220000</td>\n",
       "      <td>10.570000</td>\n",
       "      <td>98.000000</td>\n",
       "    </tr>\n",
       "  </tbody>\n",
       "</table>\n",
       "</div>"
      ],
      "text/plain": [
       "       Year_of_Release      NA_sales      EU_sales      JP_sales  \\\n",
       "count     16446.000000  16715.000000  16715.000000  16715.000000   \n",
       "mean       2006.484616      0.263377      0.145060      0.077617   \n",
       "std           5.877050      0.813604      0.503339      0.308853   \n",
       "min        1980.000000      0.000000      0.000000      0.000000   \n",
       "25%        2003.000000      0.000000      0.000000      0.000000   \n",
       "50%        2007.000000      0.080000      0.020000      0.000000   \n",
       "75%        2010.000000      0.240000      0.110000      0.040000   \n",
       "max        2016.000000     41.360000     28.960000     10.220000   \n",
       "\n",
       "        Other_sales  Critic_Score  \n",
       "count  16715.000000   8137.000000  \n",
       "mean       0.047342     68.967679  \n",
       "std        0.186731     13.938165  \n",
       "min        0.000000     13.000000  \n",
       "25%        0.000000     60.000000  \n",
       "50%        0.010000     71.000000  \n",
       "75%        0.030000     79.000000  \n",
       "max       10.570000     98.000000  "
      ]
     },
     "execution_count": 1,
     "metadata": {},
     "output_type": "execute_result"
    }
   ],
   "source": [
    "import pandas as pd\n",
    "import numpy as np\n",
    "import matplotlib.pyplot as plt\n",
    "from scipy import stats as st\n",
    "data = pd.read_csv('/datasets/games.csv')\n",
    "display(data.head())\n",
    "print(data.info())\n",
    "data.describe()"
   ]
  },
  {
   "cell_type": "markdown",
   "metadata": {},
   "source": [
    "**Можно отметить, что в данном датафрейме имеются столбцы с пропусками, также у некоторых столбцов тип данных не соответствует их содержанию.**"
   ]
  },
  {
   "cell_type": "markdown",
   "metadata": {},
   "source": [
    "## Подготовка данных"
   ]
  },
  {
   "cell_type": "markdown",
   "metadata": {},
   "source": [
    "### Регистр"
   ]
  },
  {
   "cell_type": "markdown",
   "metadata": {},
   "source": [
    "*Приведем названия столбцов к нижнему регистру*"
   ]
  },
  {
   "cell_type": "code",
   "execution_count": 2,
   "metadata": {},
   "outputs": [],
   "source": [
    "data.columns = data.columns.str.lower()"
   ]
  },
  {
   "cell_type": "code",
   "execution_count": 3,
   "metadata": {
    "scrolled": true
   },
   "outputs": [
    {
     "data": {
      "text/html": [
       "<div>\n",
       "<style scoped>\n",
       "    .dataframe tbody tr th:only-of-type {\n",
       "        vertical-align: middle;\n",
       "    }\n",
       "\n",
       "    .dataframe tbody tr th {\n",
       "        vertical-align: top;\n",
       "    }\n",
       "\n",
       "    .dataframe thead th {\n",
       "        text-align: right;\n",
       "    }\n",
       "</style>\n",
       "<table border=\"1\" class=\"dataframe\">\n",
       "  <thead>\n",
       "    <tr style=\"text-align: right;\">\n",
       "      <th></th>\n",
       "      <th>name</th>\n",
       "      <th>platform</th>\n",
       "      <th>year_of_release</th>\n",
       "      <th>genre</th>\n",
       "      <th>na_sales</th>\n",
       "      <th>eu_sales</th>\n",
       "      <th>jp_sales</th>\n",
       "      <th>other_sales</th>\n",
       "      <th>critic_score</th>\n",
       "      <th>user_score</th>\n",
       "      <th>rating</th>\n",
       "    </tr>\n",
       "  </thead>\n",
       "  <tbody>\n",
       "    <tr>\n",
       "      <th>0</th>\n",
       "      <td>Wii Sports</td>\n",
       "      <td>Wii</td>\n",
       "      <td>2006.0</td>\n",
       "      <td>Sports</td>\n",
       "      <td>41.36</td>\n",
       "      <td>28.96</td>\n",
       "      <td>3.77</td>\n",
       "      <td>8.45</td>\n",
       "      <td>76.0</td>\n",
       "      <td>8</td>\n",
       "      <td>E</td>\n",
       "    </tr>\n",
       "    <tr>\n",
       "      <th>1</th>\n",
       "      <td>Super Mario Bros.</td>\n",
       "      <td>NES</td>\n",
       "      <td>1985.0</td>\n",
       "      <td>Platform</td>\n",
       "      <td>29.08</td>\n",
       "      <td>3.58</td>\n",
       "      <td>6.81</td>\n",
       "      <td>0.77</td>\n",
       "      <td>NaN</td>\n",
       "      <td>NaN</td>\n",
       "      <td>NaN</td>\n",
       "    </tr>\n",
       "    <tr>\n",
       "      <th>2</th>\n",
       "      <td>Mario Kart Wii</td>\n",
       "      <td>Wii</td>\n",
       "      <td>2008.0</td>\n",
       "      <td>Racing</td>\n",
       "      <td>15.68</td>\n",
       "      <td>12.76</td>\n",
       "      <td>3.79</td>\n",
       "      <td>3.29</td>\n",
       "      <td>82.0</td>\n",
       "      <td>8.3</td>\n",
       "      <td>E</td>\n",
       "    </tr>\n",
       "    <tr>\n",
       "      <th>3</th>\n",
       "      <td>Wii Sports Resort</td>\n",
       "      <td>Wii</td>\n",
       "      <td>2009.0</td>\n",
       "      <td>Sports</td>\n",
       "      <td>15.61</td>\n",
       "      <td>10.93</td>\n",
       "      <td>3.28</td>\n",
       "      <td>2.95</td>\n",
       "      <td>80.0</td>\n",
       "      <td>8</td>\n",
       "      <td>E</td>\n",
       "    </tr>\n",
       "    <tr>\n",
       "      <th>4</th>\n",
       "      <td>Pokemon Red/Pokemon Blue</td>\n",
       "      <td>GB</td>\n",
       "      <td>1996.0</td>\n",
       "      <td>Role-Playing</td>\n",
       "      <td>11.27</td>\n",
       "      <td>8.89</td>\n",
       "      <td>10.22</td>\n",
       "      <td>1.00</td>\n",
       "      <td>NaN</td>\n",
       "      <td>NaN</td>\n",
       "      <td>NaN</td>\n",
       "    </tr>\n",
       "    <tr>\n",
       "      <th>...</th>\n",
       "      <td>...</td>\n",
       "      <td>...</td>\n",
       "      <td>...</td>\n",
       "      <td>...</td>\n",
       "      <td>...</td>\n",
       "      <td>...</td>\n",
       "      <td>...</td>\n",
       "      <td>...</td>\n",
       "      <td>...</td>\n",
       "      <td>...</td>\n",
       "      <td>...</td>\n",
       "    </tr>\n",
       "    <tr>\n",
       "      <th>16710</th>\n",
       "      <td>Samurai Warriors: Sanada Maru</td>\n",
       "      <td>PS3</td>\n",
       "      <td>2016.0</td>\n",
       "      <td>Action</td>\n",
       "      <td>0.00</td>\n",
       "      <td>0.00</td>\n",
       "      <td>0.01</td>\n",
       "      <td>0.00</td>\n",
       "      <td>NaN</td>\n",
       "      <td>NaN</td>\n",
       "      <td>NaN</td>\n",
       "    </tr>\n",
       "    <tr>\n",
       "      <th>16711</th>\n",
       "      <td>LMA Manager 2007</td>\n",
       "      <td>X360</td>\n",
       "      <td>2006.0</td>\n",
       "      <td>Sports</td>\n",
       "      <td>0.00</td>\n",
       "      <td>0.01</td>\n",
       "      <td>0.00</td>\n",
       "      <td>0.00</td>\n",
       "      <td>NaN</td>\n",
       "      <td>NaN</td>\n",
       "      <td>NaN</td>\n",
       "    </tr>\n",
       "    <tr>\n",
       "      <th>16712</th>\n",
       "      <td>Haitaka no Psychedelica</td>\n",
       "      <td>PSV</td>\n",
       "      <td>2016.0</td>\n",
       "      <td>Adventure</td>\n",
       "      <td>0.00</td>\n",
       "      <td>0.00</td>\n",
       "      <td>0.01</td>\n",
       "      <td>0.00</td>\n",
       "      <td>NaN</td>\n",
       "      <td>NaN</td>\n",
       "      <td>NaN</td>\n",
       "    </tr>\n",
       "    <tr>\n",
       "      <th>16713</th>\n",
       "      <td>Spirits &amp; Spells</td>\n",
       "      <td>GBA</td>\n",
       "      <td>2003.0</td>\n",
       "      <td>Platform</td>\n",
       "      <td>0.01</td>\n",
       "      <td>0.00</td>\n",
       "      <td>0.00</td>\n",
       "      <td>0.00</td>\n",
       "      <td>NaN</td>\n",
       "      <td>NaN</td>\n",
       "      <td>NaN</td>\n",
       "    </tr>\n",
       "    <tr>\n",
       "      <th>16714</th>\n",
       "      <td>Winning Post 8 2016</td>\n",
       "      <td>PSV</td>\n",
       "      <td>2016.0</td>\n",
       "      <td>Simulation</td>\n",
       "      <td>0.00</td>\n",
       "      <td>0.00</td>\n",
       "      <td>0.01</td>\n",
       "      <td>0.00</td>\n",
       "      <td>NaN</td>\n",
       "      <td>NaN</td>\n",
       "      <td>NaN</td>\n",
       "    </tr>\n",
       "  </tbody>\n",
       "</table>\n",
       "<p>16715 rows × 11 columns</p>\n",
       "</div>"
      ],
      "text/plain": [
       "                                name platform  year_of_release         genre  \\\n",
       "0                         Wii Sports      Wii           2006.0        Sports   \n",
       "1                  Super Mario Bros.      NES           1985.0      Platform   \n",
       "2                     Mario Kart Wii      Wii           2008.0        Racing   \n",
       "3                  Wii Sports Resort      Wii           2009.0        Sports   \n",
       "4           Pokemon Red/Pokemon Blue       GB           1996.0  Role-Playing   \n",
       "...                              ...      ...              ...           ...   \n",
       "16710  Samurai Warriors: Sanada Maru      PS3           2016.0        Action   \n",
       "16711               LMA Manager 2007     X360           2006.0        Sports   \n",
       "16712        Haitaka no Psychedelica      PSV           2016.0     Adventure   \n",
       "16713               Spirits & Spells      GBA           2003.0      Platform   \n",
       "16714            Winning Post 8 2016      PSV           2016.0    Simulation   \n",
       "\n",
       "       na_sales  eu_sales  jp_sales  other_sales  critic_score user_score  \\\n",
       "0         41.36     28.96      3.77         8.45          76.0          8   \n",
       "1         29.08      3.58      6.81         0.77           NaN        NaN   \n",
       "2         15.68     12.76      3.79         3.29          82.0        8.3   \n",
       "3         15.61     10.93      3.28         2.95          80.0          8   \n",
       "4         11.27      8.89     10.22         1.00           NaN        NaN   \n",
       "...         ...       ...       ...          ...           ...        ...   \n",
       "16710      0.00      0.00      0.01         0.00           NaN        NaN   \n",
       "16711      0.00      0.01      0.00         0.00           NaN        NaN   \n",
       "16712      0.00      0.00      0.01         0.00           NaN        NaN   \n",
       "16713      0.01      0.00      0.00         0.00           NaN        NaN   \n",
       "16714      0.00      0.00      0.01         0.00           NaN        NaN   \n",
       "\n",
       "      rating  \n",
       "0          E  \n",
       "1        NaN  \n",
       "2          E  \n",
       "3          E  \n",
       "4        NaN  \n",
       "...      ...  \n",
       "16710    NaN  \n",
       "16711    NaN  \n",
       "16712    NaN  \n",
       "16713    NaN  \n",
       "16714    NaN  \n",
       "\n",
       "[16715 rows x 11 columns]"
      ]
     },
     "execution_count": 3,
     "metadata": {},
     "output_type": "execute_result"
    }
   ],
   "source": [
    "data"
   ]
  },
  {
   "cell_type": "markdown",
   "metadata": {},
   "source": [
    "**Столбцы приведены к нижнему регистру**"
   ]
  },
  {
   "cell_type": "markdown",
   "metadata": {},
   "source": [
    "### Столбцы"
   ]
  },
  {
   "cell_type": "markdown",
   "metadata": {},
   "source": [
    "*Рассмотрим подробнее каждый столбец*"
   ]
  },
  {
   "cell_type": "markdown",
   "metadata": {},
   "source": [
    "#### name"
   ]
  },
  {
   "cell_type": "markdown",
   "metadata": {},
   "source": [
    "*Рассмотрим строки, где не указано название игры*"
   ]
  },
  {
   "cell_type": "code",
   "execution_count": 4,
   "metadata": {},
   "outputs": [
    {
     "data": {
      "text/html": [
       "<div>\n",
       "<style scoped>\n",
       "    .dataframe tbody tr th:only-of-type {\n",
       "        vertical-align: middle;\n",
       "    }\n",
       "\n",
       "    .dataframe tbody tr th {\n",
       "        vertical-align: top;\n",
       "    }\n",
       "\n",
       "    .dataframe thead th {\n",
       "        text-align: right;\n",
       "    }\n",
       "</style>\n",
       "<table border=\"1\" class=\"dataframe\">\n",
       "  <thead>\n",
       "    <tr style=\"text-align: right;\">\n",
       "      <th></th>\n",
       "      <th>name</th>\n",
       "      <th>platform</th>\n",
       "      <th>year_of_release</th>\n",
       "      <th>genre</th>\n",
       "      <th>na_sales</th>\n",
       "      <th>eu_sales</th>\n",
       "      <th>jp_sales</th>\n",
       "      <th>other_sales</th>\n",
       "      <th>critic_score</th>\n",
       "      <th>user_score</th>\n",
       "      <th>rating</th>\n",
       "    </tr>\n",
       "  </thead>\n",
       "  <tbody>\n",
       "    <tr>\n",
       "      <th>659</th>\n",
       "      <td>NaN</td>\n",
       "      <td>GEN</td>\n",
       "      <td>1993.0</td>\n",
       "      <td>NaN</td>\n",
       "      <td>1.78</td>\n",
       "      <td>0.53</td>\n",
       "      <td>0.00</td>\n",
       "      <td>0.08</td>\n",
       "      <td>NaN</td>\n",
       "      <td>NaN</td>\n",
       "      <td>NaN</td>\n",
       "    </tr>\n",
       "    <tr>\n",
       "      <th>14244</th>\n",
       "      <td>NaN</td>\n",
       "      <td>GEN</td>\n",
       "      <td>1993.0</td>\n",
       "      <td>NaN</td>\n",
       "      <td>0.00</td>\n",
       "      <td>0.00</td>\n",
       "      <td>0.03</td>\n",
       "      <td>0.00</td>\n",
       "      <td>NaN</td>\n",
       "      <td>NaN</td>\n",
       "      <td>NaN</td>\n",
       "    </tr>\n",
       "  </tbody>\n",
       "</table>\n",
       "</div>"
      ],
      "text/plain": [
       "      name platform  year_of_release genre  na_sales  eu_sales  jp_sales  \\\n",
       "659    NaN      GEN           1993.0   NaN      1.78      0.53      0.00   \n",
       "14244  NaN      GEN           1993.0   NaN      0.00      0.00      0.03   \n",
       "\n",
       "       other_sales  critic_score user_score rating  \n",
       "659           0.08           NaN        NaN    NaN  \n",
       "14244         0.00           NaN        NaN    NaN  "
      ]
     },
     "execution_count": 4,
     "metadata": {},
     "output_type": "execute_result"
    }
   ],
   "source": [
    "data[data.name.isna()]"
   ]
  },
  {
   "cell_type": "markdown",
   "metadata": {},
   "source": [
    "*Без названия имеются 2 старых игры (1993 г), у которых нет информации по оценкам и возрастному рейтингу. Можем избавиться от этих строчек*"
   ]
  },
  {
   "cell_type": "code",
   "execution_count": 5,
   "metadata": {},
   "outputs": [],
   "source": [
    "data = data.drop(data[data['name'].isna()].index)"
   ]
  },
  {
   "cell_type": "markdown",
   "metadata": {},
   "source": [
    "*Узнаеем, как много повторяющихся названий игр. Скорее всего, это игры, выпущенные на нескольких платформах.*"
   ]
  },
  {
   "cell_type": "code",
   "execution_count": 6,
   "metadata": {},
   "outputs": [
    {
     "data": {
      "text/plain": [
       "5154"
      ]
     },
     "execution_count": 6,
     "metadata": {},
     "output_type": "execute_result"
    }
   ],
   "source": [
    "data['name'].duplicated().sum()"
   ]
  },
  {
   "cell_type": "markdown",
   "metadata": {},
   "source": [
    "#### platform"
   ]
  },
  {
   "cell_type": "code",
   "execution_count": 7,
   "metadata": {},
   "outputs": [
    {
     "data": {
      "text/plain": [
       "PS2     2161\n",
       "DS      2151\n",
       "PS3     1331\n",
       "Wii     1320\n",
       "X360    1262\n",
       "PSP     1209\n",
       "PS      1197\n",
       "PC       974\n",
       "XB       824\n",
       "GBA      822\n",
       "GC       556\n",
       "3DS      520\n",
       "PSV      430\n",
       "PS4      392\n",
       "N64      319\n",
       "XOne     247\n",
       "SNES     239\n",
       "SAT      173\n",
       "WiiU     147\n",
       "2600     133\n",
       "NES       98\n",
       "GB        98\n",
       "DC        52\n",
       "GEN       27\n",
       "NG        12\n",
       "SCD        6\n",
       "WS         6\n",
       "3DO        3\n",
       "TG16       2\n",
       "GG         1\n",
       "PCFX       1\n",
       "Name: platform, dtype: int64"
      ]
     },
     "execution_count": 7,
     "metadata": {},
     "output_type": "execute_result"
    }
   ],
   "source": [
    "data['platform'].value_counts()"
   ]
  },
  {
   "cell_type": "code",
   "execution_count": 8,
   "metadata": {},
   "outputs": [
    {
     "data": {
      "text/plain": [
       "31"
      ]
     },
     "execution_count": 8,
     "metadata": {},
     "output_type": "execute_result"
    }
   ],
   "source": [
    "data['platform'].value_counts().count()"
   ]
  },
  {
   "cell_type": "markdown",
   "metadata": {},
   "source": [
    "31 платформа, пустые значения отсутствуют. Высокий диапазон представленных для платформы игр - от одной до 2161."
   ]
  },
  {
   "cell_type": "markdown",
   "metadata": {},
   "source": [
    "#### year of release"
   ]
  },
  {
   "cell_type": "markdown",
   "metadata": {},
   "source": [
    "*Заменим год выпуска на целочисленные значения, не удаляя пропуски, чтобы не исказить результаты дальнейшего анализа.*"
   ]
  },
  {
   "cell_type": "code",
   "execution_count": 9,
   "metadata": {},
   "outputs": [],
   "source": [
    "data['year_of_release'] = pd.array(data['year_of_release'], dtype='Int64')"
   ]
  },
  {
   "cell_type": "code",
   "execution_count": 10,
   "metadata": {},
   "outputs": [
    {
     "name": "stdout",
     "output_type": "stream",
     "text": [
      "<class 'pandas.core.frame.DataFrame'>\n",
      "Int64Index: 16713 entries, 0 to 16714\n",
      "Data columns (total 11 columns):\n",
      " #   Column           Non-Null Count  Dtype  \n",
      "---  ------           --------------  -----  \n",
      " 0   name             16713 non-null  object \n",
      " 1   platform         16713 non-null  object \n",
      " 2   year_of_release  16444 non-null  Int64  \n",
      " 3   genre            16713 non-null  object \n",
      " 4   na_sales         16713 non-null  float64\n",
      " 5   eu_sales         16713 non-null  float64\n",
      " 6   jp_sales         16713 non-null  float64\n",
      " 7   other_sales      16713 non-null  float64\n",
      " 8   critic_score     8137 non-null   float64\n",
      " 9   user_score       10014 non-null  object \n",
      " 10  rating           9949 non-null   object \n",
      "dtypes: Int64(1), float64(5), object(5)\n",
      "memory usage: 1.5+ MB\n"
     ]
    }
   ],
   "source": [
    "data.info()"
   ]
  },
  {
   "cell_type": "markdown",
   "metadata": {},
   "source": [
    "#### genres"
   ]
  },
  {
   "cell_type": "markdown",
   "metadata": {},
   "source": [
    "*Посмотрим, какие жанры представлены*"
   ]
  },
  {
   "cell_type": "code",
   "execution_count": 11,
   "metadata": {},
   "outputs": [
    {
     "data": {
      "text/plain": [
       "Action          3369\n",
       "Sports          2348\n",
       "Misc            1750\n",
       "Role-Playing    1498\n",
       "Shooter         1323\n",
       "Adventure       1303\n",
       "Racing          1249\n",
       "Platform         888\n",
       "Simulation       873\n",
       "Fighting         849\n",
       "Strategy         683\n",
       "Puzzle           580\n",
       "Name: genre, dtype: int64"
      ]
     },
     "execution_count": 11,
     "metadata": {},
     "output_type": "execute_result"
    }
   ],
   "source": [
    "data['genre'].value_counts()"
   ]
  },
  {
   "cell_type": "markdown",
   "metadata": {},
   "source": [
    "Все выглядит адекватно, нет дубликатов и жанров с выбивающимся из общего значения количеством игр."
   ]
  },
  {
   "cell_type": "markdown",
   "metadata": {},
   "source": [
    "#### sales"
   ]
  },
  {
   "cell_type": "code",
   "execution_count": 12,
   "metadata": {},
   "outputs": [
    {
     "name": "stdout",
     "output_type": "stream",
     "text": [
      "<class 'pandas.core.frame.DataFrame'>\n",
      "Int64Index: 16713 entries, 0 to 16714\n",
      "Data columns (total 11 columns):\n",
      " #   Column           Non-Null Count  Dtype  \n",
      "---  ------           --------------  -----  \n",
      " 0   name             16713 non-null  object \n",
      " 1   platform         16713 non-null  object \n",
      " 2   year_of_release  16444 non-null  Int64  \n",
      " 3   genre            16713 non-null  object \n",
      " 4   na_sales         16713 non-null  float64\n",
      " 5   eu_sales         16713 non-null  float64\n",
      " 6   jp_sales         16713 non-null  float64\n",
      " 7   other_sales      16713 non-null  float64\n",
      " 8   critic_score     8137 non-null   float64\n",
      " 9   user_score       10014 non-null  object \n",
      " 10  rating           9949 non-null   object \n",
      "dtypes: Int64(1), float64(5), object(5)\n",
      "memory usage: 1.5+ MB\n"
     ]
    }
   ],
   "source": [
    "data.info()"
   ]
  },
  {
   "cell_type": "markdown",
   "metadata": {},
   "source": [
    "Столбцы с продажами в Северной Америке, Европе, Японии и других странах имеют корректный тип данных float и в них отсутствуют пропуски."
   ]
  },
  {
   "cell_type": "markdown",
   "metadata": {},
   "source": [
    "#### critic_score"
   ]
  },
  {
   "cell_type": "markdown",
   "metadata": {},
   "source": [
    "*Проверим, есть ли дробные значения в столбце 'critic_score'.*"
   ]
  },
  {
   "cell_type": "code",
   "execution_count": 13,
   "metadata": {},
   "outputs": [
    {
     "data": {
      "text/plain": [
       "0.0    8137\n",
       "Name: critic_score, dtype: int64"
      ]
     },
     "execution_count": 13,
     "metadata": {},
     "output_type": "execute_result"
    }
   ],
   "source": [
    "(data['critic_score']%1).value_counts() #Остаток от деления на 1 вернет дробную часть числа"
   ]
  },
  {
   "cell_type": "markdown",
   "metadata": {},
   "source": [
    "*Заменим оценку критиков на целочисленные значения*"
   ]
  },
  {
   "cell_type": "code",
   "execution_count": 14,
   "metadata": {},
   "outputs": [],
   "source": [
    "data['critic_score'] = pd.array(data['critic_score'], dtype='Int64')"
   ]
  },
  {
   "cell_type": "markdown",
   "metadata": {},
   "source": [
    "#### user_score"
   ]
  },
  {
   "cell_type": "markdown",
   "metadata": {},
   "source": [
    "*Рассмотрим, какие значение присутствуют в столбце 'user_score'*"
   ]
  },
  {
   "cell_type": "code",
   "execution_count": 15,
   "metadata": {},
   "outputs": [
    {
     "data": {
      "text/plain": [
       "array(['8', nan, '8.3', '8.5', '6.6', '8.4', '8.6', '7.7', '6.3', '7.4',\n",
       "       '8.2', '9', '7.9', '8.1', '8.7', '7.1', '3.4', '5.3', '4.8', '3.2',\n",
       "       '8.9', '6.4', '7.8', '7.5', '2.6', '7.2', '9.2', '7', '7.3', '4.3',\n",
       "       '7.6', '5.7', '5', '9.1', '6.5', 'tbd', '8.8', '6.9', '9.4', '6.8',\n",
       "       '6.1', '6.7', '5.4', '4', '4.9', '4.5', '9.3', '6.2', '4.2', '6',\n",
       "       '3.7', '4.1', '5.8', '5.6', '5.5', '4.4', '4.6', '5.9', '3.9',\n",
       "       '3.1', '2.9', '5.2', '3.3', '4.7', '5.1', '3.5', '2.5', '1.9', '3',\n",
       "       '2.7', '2.2', '2', '9.5', '2.1', '3.6', '2.8', '1.8', '3.8', '0',\n",
       "       '1.6', '9.6', '2.4', '1.7', '1.1', '0.3', '1.5', '0.7', '1.2',\n",
       "       '2.3', '0.5', '1.3', '0.2', '0.6', '1.4', '0.9', '1', '9.7'],\n",
       "      dtype=object)"
      ]
     },
     "execution_count": 15,
     "metadata": {},
     "output_type": "execute_result"
    }
   ],
   "source": [
    "data['user_score'].unique()"
   ]
  },
  {
   "cell_type": "markdown",
   "metadata": {},
   "source": [
    "*Как много строк, в которых в пользовательском рейтинге указано 'tbd' (to be determined, подлежит уточнению)?*"
   ]
  },
  {
   "cell_type": "code",
   "execution_count": 16,
   "metadata": {},
   "outputs": [
    {
     "data": {
      "text/plain": [
       "(2424, 11)"
      ]
     },
     "execution_count": 16,
     "metadata": {},
     "output_type": "execute_result"
    }
   ],
   "source": [
    "data.query('user_score == \"tbd\"').shape"
   ]
  },
  {
   "cell_type": "markdown",
   "metadata": {},
   "source": [
    "*2424 строки - слишком большое количество, чтобы удалить эти строки или заменить значения на другое, не исказив результаты дальнейшего анализа. Заменим эти значения на 'nan', чтобы можно было установить тип данных для столбца float*"
   ]
  },
  {
   "cell_type": "code",
   "execution_count": 17,
   "metadata": {},
   "outputs": [],
   "source": [
    "data['user_score'] = data['user_score'].replace('tbd', np.nan)"
   ]
  },
  {
   "cell_type": "code",
   "execution_count": 18,
   "metadata": {},
   "outputs": [],
   "source": [
    "data['user_score'] = data['user_score'].astype(float)"
   ]
  },
  {
   "cell_type": "markdown",
   "metadata": {},
   "source": [
    "#### rating"
   ]
  },
  {
   "cell_type": "markdown",
   "metadata": {},
   "source": [
    "*Посмотрим, какие возрастные рейтинги есть в датафрейме*"
   ]
  },
  {
   "cell_type": "code",
   "execution_count": 19,
   "metadata": {},
   "outputs": [
    {
     "data": {
      "text/plain": [
       "E       3990\n",
       "T       2961\n",
       "M       1563\n",
       "E10+    1420\n",
       "EC         8\n",
       "K-A        3\n",
       "RP         3\n",
       "AO         1\n",
       "Name: rating, dtype: int64"
      ]
     },
     "execution_count": 19,
     "metadata": {},
     "output_type": "execute_result"
    }
   ],
   "source": [
    "data['rating'].value_counts()"
   ]
  },
  {
   "cell_type": "markdown",
   "metadata": {},
   "source": [
    "*Очевидно, рейтинги EC, K-A, RP и AO выбиваются,так как представлены малым количеством игр. Чтобы избавиться от этих значений, заменим эти категории на наиболее близкие из первых четырех. Ниже описаны обозначения возрастных рейтингов.*"
   ]
  },
  {
   "cell_type": "markdown",
   "metadata": {},
   "source": [
    "> EC (от англ. early childhood) – игра предназначена специально для детей младшего возраста (от 3 лет). Это развивающая программа, выполненная в ярком мультипликационном стиле, которая полностью исключает сцены насилия.\n",
    "\n",
    "> E (everyone) — приложение рассчитано на любую возрастную категорию, но больше всего привлечет интерес детей от 6 лет. Это может быть и познавательная, и развлекательная игра. В ней допустимы минимально жестокие сцены.\n",
    "\n",
    "> E10+ (everyone 10 and older) – игра для всех, кому исполнилось 10. Это относительно новый рейтинг, который был принят в 2005 году. Игры с такой маркировкой отображают минимум крови, откровенных и насильственных сцен.\n",
    "\n",
    "> T (teen) — приложение, рассчитанное на подростков от 13 лет. Геймплей может включать небольшое количество сцен с ненормативной лексикой, а также умеренно откровенные и жестокие эпизоды.\n",
    "\n",
    "> M (mature) — игра рассчитана на взрослых и подростков старше 17. Игры с такой маркировкой запрещены для использования детьми младшего возраста, так как содержат довольно много непристойных и жестоких эпизодов с кровью, убийствами и действиями сексуального характера.\n",
    "\n",
    "> AO (adults only 18+) – контент этой игры предназначен исключено для взрослой аудитории. Покупатель может столкнуться с необходимостью подтвердить свой возраст.\n",
    "\n",
    "> RP (rating pending) – эта маркировка значит, что приложение ожидает решения от ESRB и на данный момент не имеет рейтинга. Обозначение может встретиться в рекламных роликах и видеотрейлерах.\n",
    "\n",
    "> K-A (\"Kids to Adults\") - первоначальное название категории E"
   ]
  },
  {
   "cell_type": "markdown",
   "metadata": {},
   "source": [
    "*Категорию EC заменим на E10+, K-A - на E, RP - на E, AO - на M.*"
   ]
  },
  {
   "cell_type": "code",
   "execution_count": 20,
   "metadata": {},
   "outputs": [],
   "source": [
    "data['rating'] = data['rating'].replace({'EC':'E10+', 'K-A':'E', 'RP':'E', 'AO':'M'})"
   ]
  },
  {
   "cell_type": "markdown",
   "metadata": {},
   "source": [
    "### Заполнение пропусков"
   ]
  },
  {
   "cell_type": "markdown",
   "metadata": {},
   "source": [
    "*Заполним пропуски в годах на год выпуска той же игры на другой платформе. Для этого создадим таблицу-словарь, где напротив каждого названия игры будет стоять год выпуска, если он указан для какой-либо платформы*"
   ]
  },
  {
   "cell_type": "code",
   "execution_count": 21,
   "metadata": {},
   "outputs": [],
   "source": [
    "year_pivot = data[~data['year_of_release'].isna()].pivot_table(index='name', values='year_of_release', aggfunc='mean')"
   ]
  },
  {
   "cell_type": "markdown",
   "metadata": {},
   "source": [
    "*Округлим полученные значения (на случай, если для одной игры указывались разные года на разных платформах) и приведем к целочисленному типу данных*"
   ]
  },
  {
   "cell_type": "code",
   "execution_count": 22,
   "metadata": {},
   "outputs": [],
   "source": [
    "year_pivot['year_of_release'] = year_pivot['year_of_release'].astype(int)"
   ]
  },
  {
   "cell_type": "code",
   "execution_count": 23,
   "metadata": {},
   "outputs": [
    {
     "data": {
      "text/html": [
       "<div>\n",
       "<style scoped>\n",
       "    .dataframe tbody tr th:only-of-type {\n",
       "        vertical-align: middle;\n",
       "    }\n",
       "\n",
       "    .dataframe tbody tr th {\n",
       "        vertical-align: top;\n",
       "    }\n",
       "\n",
       "    .dataframe thead th {\n",
       "        text-align: right;\n",
       "    }\n",
       "</style>\n",
       "<table border=\"1\" class=\"dataframe\">\n",
       "  <thead>\n",
       "    <tr style=\"text-align: right;\">\n",
       "      <th></th>\n",
       "      <th>year_of_release</th>\n",
       "    </tr>\n",
       "    <tr>\n",
       "      <th>name</th>\n",
       "      <th></th>\n",
       "    </tr>\n",
       "  </thead>\n",
       "  <tbody>\n",
       "    <tr>\n",
       "      <th>Beyblade Burst</th>\n",
       "      <td>2016</td>\n",
       "    </tr>\n",
       "    <tr>\n",
       "      <th>Fire Emblem Fates</th>\n",
       "      <td>2015</td>\n",
       "    </tr>\n",
       "    <tr>\n",
       "      <th>Frozen: Olaf's Quest</th>\n",
       "      <td>2013</td>\n",
       "    </tr>\n",
       "    <tr>\n",
       "      <th>Haikyu!! Cross Team Match!</th>\n",
       "      <td>2016</td>\n",
       "    </tr>\n",
       "    <tr>\n",
       "      <th>Tales of Xillia 2</th>\n",
       "      <td>2012</td>\n",
       "    </tr>\n",
       "    <tr>\n",
       "      <th>...</th>\n",
       "      <td>...</td>\n",
       "    </tr>\n",
       "    <tr>\n",
       "      <th>thinkSMART FAMILY!</th>\n",
       "      <td>2010</td>\n",
       "    </tr>\n",
       "    <tr>\n",
       "      <th>thinkSMART: Chess for Kids</th>\n",
       "      <td>2011</td>\n",
       "    </tr>\n",
       "    <tr>\n",
       "      <th>uDraw Studio</th>\n",
       "      <td>2010</td>\n",
       "    </tr>\n",
       "    <tr>\n",
       "      <th>uDraw Studio: Instant Artist</th>\n",
       "      <td>2011</td>\n",
       "    </tr>\n",
       "    <tr>\n",
       "      <th>¡Shin Chan Flipa en colores!</th>\n",
       "      <td>2007</td>\n",
       "    </tr>\n",
       "  </tbody>\n",
       "</table>\n",
       "<p>11426 rows × 1 columns</p>\n",
       "</div>"
      ],
      "text/plain": [
       "                              year_of_release\n",
       "name                                         \n",
       " Beyblade Burst                          2016\n",
       " Fire Emblem Fates                       2015\n",
       " Frozen: Olaf's Quest                    2013\n",
       " Haikyu!! Cross Team Match!              2016\n",
       " Tales of Xillia 2                       2012\n",
       "...                                       ...\n",
       "thinkSMART FAMILY!                       2010\n",
       "thinkSMART: Chess for Kids               2011\n",
       "uDraw Studio                             2010\n",
       "uDraw Studio: Instant Artist             2011\n",
       "¡Shin Chan Flipa en colores!             2007\n",
       "\n",
       "[11426 rows x 1 columns]"
      ]
     },
     "execution_count": 23,
     "metadata": {},
     "output_type": "execute_result"
    }
   ],
   "source": [
    "year_pivot"
   ]
  },
  {
   "cell_type": "markdown",
   "metadata": {},
   "source": [
    "*Напишем функцию для одной строки для заполнения пустых значений из таблицы year_pivot*"
   ]
  },
  {
   "cell_type": "code",
   "execution_count": 24,
   "metadata": {},
   "outputs": [],
   "source": [
    "def fill_year(row):\n",
    "    x = row['name']\n",
    "    if x in year_pivot.index:\n",
    "        right_year = year_pivot.loc[x,'year_of_release']\n",
    "        return right_year"
   ]
  },
  {
   "cell_type": "markdown",
   "metadata": {},
   "source": [
    "*Применим функцию к срезу с пропущенным годом выпуска*"
   ]
  },
  {
   "cell_type": "code",
   "execution_count": 25,
   "metadata": {},
   "outputs": [],
   "source": [
    "data.loc[data.year_of_release.isna(), 'year_of_release'] = data[data['year_of_release'].isna()].apply(fill_year, axis=1)"
   ]
  },
  {
   "cell_type": "code",
   "execution_count": 26,
   "metadata": {},
   "outputs": [
    {
     "name": "stdout",
     "output_type": "stream",
     "text": [
      "<class 'pandas.core.frame.DataFrame'>\n",
      "Int64Index: 16713 entries, 0 to 16714\n",
      "Data columns (total 11 columns):\n",
      " #   Column           Non-Null Count  Dtype  \n",
      "---  ------           --------------  -----  \n",
      " 0   name             16713 non-null  object \n",
      " 1   platform         16713 non-null  object \n",
      " 2   year_of_release  16567 non-null  Int64  \n",
      " 3   genre            16713 non-null  object \n",
      " 4   na_sales         16713 non-null  float64\n",
      " 5   eu_sales         16713 non-null  float64\n",
      " 6   jp_sales         16713 non-null  float64\n",
      " 7   other_sales      16713 non-null  float64\n",
      " 8   critic_score     8137 non-null   Int64  \n",
      " 9   user_score       7590 non-null   float64\n",
      " 10  rating           9949 non-null   object \n",
      "dtypes: Int64(2), float64(5), object(4)\n",
      "memory usage: 1.6+ MB\n"
     ]
    },
    {
     "data": {
      "text/plain": [
       "None"
      ]
     },
     "metadata": {},
     "output_type": "display_data"
    }
   ],
   "source": [
    "display(data.info())"
   ]
  },
  {
   "cell_type": "markdown",
   "metadata": {},
   "source": [
    "**Таким методом мы заполнили 123 пропуска в столбце с датой релиза игры.**"
   ]
  },
  {
   "cell_type": "markdown",
   "metadata": {},
   "source": [
    "*Аналогичным методом заменим пропуске в столбце с возрастным рейтингом игры. Сначала создадим таблицу-словарь*"
   ]
  },
  {
   "cell_type": "code",
   "execution_count": 27,
   "metadata": {},
   "outputs": [
    {
     "data": {
      "text/html": [
       "<div>\n",
       "<style scoped>\n",
       "    .dataframe tbody tr th:only-of-type {\n",
       "        vertical-align: middle;\n",
       "    }\n",
       "\n",
       "    .dataframe tbody tr th {\n",
       "        vertical-align: top;\n",
       "    }\n",
       "\n",
       "    .dataframe thead th {\n",
       "        text-align: right;\n",
       "    }\n",
       "</style>\n",
       "<table border=\"1\" class=\"dataframe\">\n",
       "  <thead>\n",
       "    <tr style=\"text-align: right;\">\n",
       "      <th></th>\n",
       "      <th>rating</th>\n",
       "    </tr>\n",
       "    <tr>\n",
       "      <th>name</th>\n",
       "      <th></th>\n",
       "    </tr>\n",
       "  </thead>\n",
       "  <tbody>\n",
       "    <tr>\n",
       "      <th>Tales of Xillia 2</th>\n",
       "      <td>T</td>\n",
       "    </tr>\n",
       "    <tr>\n",
       "      <th>.hack//Infection Part 1</th>\n",
       "      <td>T</td>\n",
       "    </tr>\n",
       "    <tr>\n",
       "      <th>.hack//Mutation Part 2</th>\n",
       "      <td>T</td>\n",
       "    </tr>\n",
       "    <tr>\n",
       "      <th>.hack//Outbreak Part 3</th>\n",
       "      <td>T</td>\n",
       "    </tr>\n",
       "    <tr>\n",
       "      <th>007 Racing</th>\n",
       "      <td>T</td>\n",
       "    </tr>\n",
       "    <tr>\n",
       "      <th>...</th>\n",
       "      <td>...</td>\n",
       "    </tr>\n",
       "    <tr>\n",
       "      <th>thinkSMART</th>\n",
       "      <td>E</td>\n",
       "    </tr>\n",
       "    <tr>\n",
       "      <th>thinkSMART FAMILY!</th>\n",
       "      <td>E</td>\n",
       "    </tr>\n",
       "    <tr>\n",
       "      <th>thinkSMART: Chess for Kids</th>\n",
       "      <td>E</td>\n",
       "    </tr>\n",
       "    <tr>\n",
       "      <th>uDraw Studio</th>\n",
       "      <td>E</td>\n",
       "    </tr>\n",
       "    <tr>\n",
       "      <th>uDraw Studio: Instant Artist</th>\n",
       "      <td>E</td>\n",
       "    </tr>\n",
       "  </tbody>\n",
       "</table>\n",
       "<p>6066 rows × 1 columns</p>\n",
       "</div>"
      ],
      "text/plain": [
       "                             rating\n",
       "name                               \n",
       " Tales of Xillia 2                T\n",
       ".hack//Infection Part 1           T\n",
       ".hack//Mutation Part 2            T\n",
       ".hack//Outbreak Part 3            T\n",
       "007 Racing                        T\n",
       "...                             ...\n",
       "thinkSMART                        E\n",
       "thinkSMART FAMILY!                E\n",
       "thinkSMART: Chess for Kids        E\n",
       "uDraw Studio                      E\n",
       "uDraw Studio: Instant Artist      E\n",
       "\n",
       "[6066 rows x 1 columns]"
      ]
     },
     "execution_count": 27,
     "metadata": {},
     "output_type": "execute_result"
    }
   ],
   "source": [
    "rating_pivot = data[~data['rating'].isna()].pivot_table(index='name', values='rating', aggfunc='first')\n",
    "rating_pivot"
   ]
  },
  {
   "cell_type": "markdown",
   "metadata": {},
   "source": [
    "*Напишем функцию для одной строки для заполнения пустых значений из таблицы year_pivot*"
   ]
  },
  {
   "cell_type": "code",
   "execution_count": 28,
   "metadata": {},
   "outputs": [],
   "source": [
    "def fill_rating(row):\n",
    "    x = row['name']\n",
    "    if x in rating_pivot.index:\n",
    "        right_rating = rating_pivot.loc[x, 'rating']\n",
    "        return right_rating"
   ]
  },
  {
   "cell_type": "markdown",
   "metadata": {},
   "source": [
    "*Применим функцию к срезу с пропущенным возрастным рейтингом*"
   ]
  },
  {
   "cell_type": "code",
   "execution_count": 29,
   "metadata": {},
   "outputs": [],
   "source": [
    "data.loc[data.rating.isna(), 'rating'] = data[data['rating'].isna()].apply(fill_rating, axis=1)"
   ]
  },
  {
   "cell_type": "code",
   "execution_count": 30,
   "metadata": {},
   "outputs": [
    {
     "name": "stdout",
     "output_type": "stream",
     "text": [
      "<class 'pandas.core.frame.DataFrame'>\n",
      "Int64Index: 16713 entries, 0 to 16714\n",
      "Data columns (total 11 columns):\n",
      " #   Column           Non-Null Count  Dtype  \n",
      "---  ------           --------------  -----  \n",
      " 0   name             16713 non-null  object \n",
      " 1   platform         16713 non-null  object \n",
      " 2   year_of_release  16567 non-null  Int64  \n",
      " 3   genre            16713 non-null  object \n",
      " 4   na_sales         16713 non-null  float64\n",
      " 5   eu_sales         16713 non-null  float64\n",
      " 6   jp_sales         16713 non-null  float64\n",
      " 7   other_sales      16713 non-null  float64\n",
      " 8   critic_score     8137 non-null   Int64  \n",
      " 9   user_score       7590 non-null   float64\n",
      " 10  rating           10386 non-null  object \n",
      "dtypes: Int64(2), float64(5), object(4)\n",
      "memory usage: 1.6+ MB\n"
     ]
    },
    {
     "data": {
      "text/plain": [
       "None"
      ]
     },
     "metadata": {},
     "output_type": "display_data"
    },
    {
     "data": {
      "text/plain": [
       "E       4158\n",
       "T       3094\n",
       "M       1654\n",
       "E10+    1480\n",
       "Name: rating, dtype: int64"
      ]
     },
     "execution_count": 30,
     "metadata": {},
     "output_type": "execute_result"
    }
   ],
   "source": [
    "display(data.info())\n",
    "data['rating'].value_counts()"
   ]
  },
  {
   "cell_type": "markdown",
   "metadata": {},
   "source": [
    "**Таким образом, этим методом заполнено 437 пропусков.**"
   ]
  },
  {
   "cell_type": "markdown",
   "metadata": {},
   "source": [
    "### Суммарные продажи"
   ]
  },
  {
   "cell_type": "markdown",
   "metadata": {},
   "source": [
    "*Добавим столбец 'total_sales', куда занесем суммарные продажи во всех регионах*"
   ]
  },
  {
   "cell_type": "code",
   "execution_count": 31,
   "metadata": {},
   "outputs": [],
   "source": [
    "data['total_sales'] = data['na_sales'] + data['eu_sales'] + data['jp_sales'] + data['other_sales']"
   ]
  },
  {
   "cell_type": "code",
   "execution_count": 32,
   "metadata": {},
   "outputs": [
    {
     "data": {
      "text/html": [
       "<div>\n",
       "<style scoped>\n",
       "    .dataframe tbody tr th:only-of-type {\n",
       "        vertical-align: middle;\n",
       "    }\n",
       "\n",
       "    .dataframe tbody tr th {\n",
       "        vertical-align: top;\n",
       "    }\n",
       "\n",
       "    .dataframe thead th {\n",
       "        text-align: right;\n",
       "    }\n",
       "</style>\n",
       "<table border=\"1\" class=\"dataframe\">\n",
       "  <thead>\n",
       "    <tr style=\"text-align: right;\">\n",
       "      <th></th>\n",
       "      <th>name</th>\n",
       "      <th>platform</th>\n",
       "      <th>year_of_release</th>\n",
       "      <th>genre</th>\n",
       "      <th>na_sales</th>\n",
       "      <th>eu_sales</th>\n",
       "      <th>jp_sales</th>\n",
       "      <th>other_sales</th>\n",
       "      <th>critic_score</th>\n",
       "      <th>user_score</th>\n",
       "      <th>rating</th>\n",
       "      <th>total_sales</th>\n",
       "    </tr>\n",
       "  </thead>\n",
       "  <tbody>\n",
       "    <tr>\n",
       "      <th>0</th>\n",
       "      <td>Wii Sports</td>\n",
       "      <td>Wii</td>\n",
       "      <td>2006</td>\n",
       "      <td>Sports</td>\n",
       "      <td>41.36</td>\n",
       "      <td>28.96</td>\n",
       "      <td>3.77</td>\n",
       "      <td>8.45</td>\n",
       "      <td>76</td>\n",
       "      <td>8.0</td>\n",
       "      <td>E</td>\n",
       "      <td>82.54</td>\n",
       "    </tr>\n",
       "    <tr>\n",
       "      <th>1</th>\n",
       "      <td>Super Mario Bros.</td>\n",
       "      <td>NES</td>\n",
       "      <td>1985</td>\n",
       "      <td>Platform</td>\n",
       "      <td>29.08</td>\n",
       "      <td>3.58</td>\n",
       "      <td>6.81</td>\n",
       "      <td>0.77</td>\n",
       "      <td>&lt;NA&gt;</td>\n",
       "      <td>NaN</td>\n",
       "      <td>None</td>\n",
       "      <td>40.24</td>\n",
       "    </tr>\n",
       "    <tr>\n",
       "      <th>2</th>\n",
       "      <td>Mario Kart Wii</td>\n",
       "      <td>Wii</td>\n",
       "      <td>2008</td>\n",
       "      <td>Racing</td>\n",
       "      <td>15.68</td>\n",
       "      <td>12.76</td>\n",
       "      <td>3.79</td>\n",
       "      <td>3.29</td>\n",
       "      <td>82</td>\n",
       "      <td>8.3</td>\n",
       "      <td>E</td>\n",
       "      <td>35.52</td>\n",
       "    </tr>\n",
       "    <tr>\n",
       "      <th>3</th>\n",
       "      <td>Wii Sports Resort</td>\n",
       "      <td>Wii</td>\n",
       "      <td>2009</td>\n",
       "      <td>Sports</td>\n",
       "      <td>15.61</td>\n",
       "      <td>10.93</td>\n",
       "      <td>3.28</td>\n",
       "      <td>2.95</td>\n",
       "      <td>80</td>\n",
       "      <td>8.0</td>\n",
       "      <td>E</td>\n",
       "      <td>32.77</td>\n",
       "    </tr>\n",
       "    <tr>\n",
       "      <th>4</th>\n",
       "      <td>Pokemon Red/Pokemon Blue</td>\n",
       "      <td>GB</td>\n",
       "      <td>1996</td>\n",
       "      <td>Role-Playing</td>\n",
       "      <td>11.27</td>\n",
       "      <td>8.89</td>\n",
       "      <td>10.22</td>\n",
       "      <td>1.00</td>\n",
       "      <td>&lt;NA&gt;</td>\n",
       "      <td>NaN</td>\n",
       "      <td>None</td>\n",
       "      <td>31.38</td>\n",
       "    </tr>\n",
       "    <tr>\n",
       "      <th>...</th>\n",
       "      <td>...</td>\n",
       "      <td>...</td>\n",
       "      <td>...</td>\n",
       "      <td>...</td>\n",
       "      <td>...</td>\n",
       "      <td>...</td>\n",
       "      <td>...</td>\n",
       "      <td>...</td>\n",
       "      <td>...</td>\n",
       "      <td>...</td>\n",
       "      <td>...</td>\n",
       "      <td>...</td>\n",
       "    </tr>\n",
       "    <tr>\n",
       "      <th>16710</th>\n",
       "      <td>Samurai Warriors: Sanada Maru</td>\n",
       "      <td>PS3</td>\n",
       "      <td>2016</td>\n",
       "      <td>Action</td>\n",
       "      <td>0.00</td>\n",
       "      <td>0.00</td>\n",
       "      <td>0.01</td>\n",
       "      <td>0.00</td>\n",
       "      <td>&lt;NA&gt;</td>\n",
       "      <td>NaN</td>\n",
       "      <td>None</td>\n",
       "      <td>0.01</td>\n",
       "    </tr>\n",
       "    <tr>\n",
       "      <th>16711</th>\n",
       "      <td>LMA Manager 2007</td>\n",
       "      <td>X360</td>\n",
       "      <td>2006</td>\n",
       "      <td>Sports</td>\n",
       "      <td>0.00</td>\n",
       "      <td>0.01</td>\n",
       "      <td>0.00</td>\n",
       "      <td>0.00</td>\n",
       "      <td>&lt;NA&gt;</td>\n",
       "      <td>NaN</td>\n",
       "      <td>None</td>\n",
       "      <td>0.01</td>\n",
       "    </tr>\n",
       "    <tr>\n",
       "      <th>16712</th>\n",
       "      <td>Haitaka no Psychedelica</td>\n",
       "      <td>PSV</td>\n",
       "      <td>2016</td>\n",
       "      <td>Adventure</td>\n",
       "      <td>0.00</td>\n",
       "      <td>0.00</td>\n",
       "      <td>0.01</td>\n",
       "      <td>0.00</td>\n",
       "      <td>&lt;NA&gt;</td>\n",
       "      <td>NaN</td>\n",
       "      <td>None</td>\n",
       "      <td>0.01</td>\n",
       "    </tr>\n",
       "    <tr>\n",
       "      <th>16713</th>\n",
       "      <td>Spirits &amp; Spells</td>\n",
       "      <td>GBA</td>\n",
       "      <td>2003</td>\n",
       "      <td>Platform</td>\n",
       "      <td>0.01</td>\n",
       "      <td>0.00</td>\n",
       "      <td>0.00</td>\n",
       "      <td>0.00</td>\n",
       "      <td>&lt;NA&gt;</td>\n",
       "      <td>NaN</td>\n",
       "      <td>None</td>\n",
       "      <td>0.01</td>\n",
       "    </tr>\n",
       "    <tr>\n",
       "      <th>16714</th>\n",
       "      <td>Winning Post 8 2016</td>\n",
       "      <td>PSV</td>\n",
       "      <td>2016</td>\n",
       "      <td>Simulation</td>\n",
       "      <td>0.00</td>\n",
       "      <td>0.00</td>\n",
       "      <td>0.01</td>\n",
       "      <td>0.00</td>\n",
       "      <td>&lt;NA&gt;</td>\n",
       "      <td>NaN</td>\n",
       "      <td>None</td>\n",
       "      <td>0.01</td>\n",
       "    </tr>\n",
       "  </tbody>\n",
       "</table>\n",
       "<p>16713 rows × 12 columns</p>\n",
       "</div>"
      ],
      "text/plain": [
       "                                name platform  year_of_release         genre  \\\n",
       "0                         Wii Sports      Wii             2006        Sports   \n",
       "1                  Super Mario Bros.      NES             1985      Platform   \n",
       "2                     Mario Kart Wii      Wii             2008        Racing   \n",
       "3                  Wii Sports Resort      Wii             2009        Sports   \n",
       "4           Pokemon Red/Pokemon Blue       GB             1996  Role-Playing   \n",
       "...                              ...      ...              ...           ...   \n",
       "16710  Samurai Warriors: Sanada Maru      PS3             2016        Action   \n",
       "16711               LMA Manager 2007     X360             2006        Sports   \n",
       "16712        Haitaka no Psychedelica      PSV             2016     Adventure   \n",
       "16713               Spirits & Spells      GBA             2003      Platform   \n",
       "16714            Winning Post 8 2016      PSV             2016    Simulation   \n",
       "\n",
       "       na_sales  eu_sales  jp_sales  other_sales  critic_score  user_score  \\\n",
       "0         41.36     28.96      3.77         8.45            76         8.0   \n",
       "1         29.08      3.58      6.81         0.77          <NA>         NaN   \n",
       "2         15.68     12.76      3.79         3.29            82         8.3   \n",
       "3         15.61     10.93      3.28         2.95            80         8.0   \n",
       "4         11.27      8.89     10.22         1.00          <NA>         NaN   \n",
       "...         ...       ...       ...          ...           ...         ...   \n",
       "16710      0.00      0.00      0.01         0.00          <NA>         NaN   \n",
       "16711      0.00      0.01      0.00         0.00          <NA>         NaN   \n",
       "16712      0.00      0.00      0.01         0.00          <NA>         NaN   \n",
       "16713      0.01      0.00      0.00         0.00          <NA>         NaN   \n",
       "16714      0.00      0.00      0.01         0.00          <NA>         NaN   \n",
       "\n",
       "      rating  total_sales  \n",
       "0          E        82.54  \n",
       "1       None        40.24  \n",
       "2          E        35.52  \n",
       "3          E        32.77  \n",
       "4       None        31.38  \n",
       "...      ...          ...  \n",
       "16710   None         0.01  \n",
       "16711   None         0.01  \n",
       "16712   None         0.01  \n",
       "16713   None         0.01  \n",
       "16714   None         0.01  \n",
       "\n",
       "[16713 rows x 12 columns]"
      ]
     },
     "execution_count": 32,
     "metadata": {},
     "output_type": "execute_result"
    }
   ],
   "source": [
    "data"
   ]
  },
  {
   "cell_type": "markdown",
   "metadata": {},
   "source": [
    "## Исследовательский анализ данных"
   ]
  },
  {
   "cell_type": "markdown",
   "metadata": {},
   "source": [
    "### Игры по годам"
   ]
  },
  {
   "cell_type": "markdown",
   "metadata": {},
   "source": [
    "*Рассмотрим количество выпущенных игр по годам*"
   ]
  },
  {
   "cell_type": "code",
   "execution_count": 33,
   "metadata": {},
   "outputs": [
    {
     "data": {
      "text/plain": [
       "<AxesSubplot:title={'center':'количество выпущенных игр по годам'}, xlabel='year_of_release'>"
      ]
     },
     "execution_count": 33,
     "metadata": {},
     "output_type": "execute_result"
    },
    {
     "data": {
      "image/png": "[encoded data removed]",
      "text/plain": [
       "<Figure size 432x288 with 1 Axes>"
      ]
     },
     "metadata": {
      "needs_background": "light"
     },
     "output_type": "display_data"
    }
   ],
   "source": [
    "data.pivot_table(index='year_of_release', values='name', aggfunc='count').plot(kind='bar', title='количество выпущенных игр по годам')"
   ]
  },
  {
   "cell_type": "markdown",
   "metadata": {},
   "source": [
    "**На диаграмме видно, что раньше игры вы-пускались в крайне малых количествах. Стабильно более 200 игр в год стало выпускаться только с 1995 года, а пик пришелся на 2008-2009 гг. Актуальным периодом можно считать период с 2012 года - стабильное количество продаж после падения в 2011-2012 гг.**"
   ]
  },
  {
   "cell_type": "markdown",
   "metadata": {},
   "source": [
    "### Продажи по платформам"
   ]
  },
  {
   "cell_type": "markdown",
   "metadata": {},
   "source": [
    "*Найдем платформы с наибольшими суммарными продажами за актуальный период*"
   ]
  },
  {
   "cell_type": "code",
   "execution_count": 34,
   "metadata": {},
   "outputs": [
    {
     "data": {
      "text/html": [
       "<div>\n",
       "<style scoped>\n",
       "    .dataframe tbody tr th:only-of-type {\n",
       "        vertical-align: middle;\n",
       "    }\n",
       "\n",
       "    .dataframe tbody tr th {\n",
       "        vertical-align: top;\n",
       "    }\n",
       "\n",
       "    .dataframe thead th {\n",
       "        text-align: right;\n",
       "    }\n",
       "</style>\n",
       "<table border=\"1\" class=\"dataframe\">\n",
       "  <thead>\n",
       "    <tr style=\"text-align: right;\">\n",
       "      <th></th>\n",
       "      <th>total_sales</th>\n",
       "    </tr>\n",
       "    <tr>\n",
       "      <th>platform</th>\n",
       "      <th></th>\n",
       "    </tr>\n",
       "  </thead>\n",
       "  <tbody>\n",
       "    <tr>\n",
       "      <th>PS4</th>\n",
       "      <td>314.14</td>\n",
       "    </tr>\n",
       "    <tr>\n",
       "      <th>PS3</th>\n",
       "      <td>289.71</td>\n",
       "    </tr>\n",
       "    <tr>\n",
       "      <th>X360</th>\n",
       "      <td>237.52</td>\n",
       "    </tr>\n",
       "    <tr>\n",
       "      <th>3DS</th>\n",
       "      <td>195.01</td>\n",
       "    </tr>\n",
       "    <tr>\n",
       "      <th>XOne</th>\n",
       "      <td>159.32</td>\n",
       "    </tr>\n",
       "    <tr>\n",
       "      <th>WiiU</th>\n",
       "      <td>82.19</td>\n",
       "    </tr>\n",
       "    <tr>\n",
       "      <th>PC</th>\n",
       "      <td>63.51</td>\n",
       "    </tr>\n",
       "    <tr>\n",
       "      <th>PSV</th>\n",
       "      <td>49.18</td>\n",
       "    </tr>\n",
       "    <tr>\n",
       "      <th>Wii</th>\n",
       "      <td>36.60</td>\n",
       "    </tr>\n",
       "    <tr>\n",
       "      <th>DS</th>\n",
       "      <td>13.21</td>\n",
       "    </tr>\n",
       "    <tr>\n",
       "      <th>PSP</th>\n",
       "      <td>11.69</td>\n",
       "    </tr>\n",
       "  </tbody>\n",
       "</table>\n",
       "</div>"
      ],
      "text/plain": [
       "          total_sales\n",
       "platform             \n",
       "PS4            314.14\n",
       "PS3            289.71\n",
       "X360           237.52\n",
       "3DS            195.01\n",
       "XOne           159.32\n",
       "WiiU            82.19\n",
       "PC              63.51\n",
       "PSV             49.18\n",
       "Wii             36.60\n",
       "DS              13.21\n",
       "PSP             11.69"
      ]
     },
     "execution_count": 34,
     "metadata": {},
     "output_type": "execute_result"
    }
   ],
   "source": [
    "sales_pivot = data.query('year_of_release >= 2012').pivot_table(index='platform', values='total_sales', aggfunc='sum').sort_values(by='total_sales', ascending=False)\n",
    "sales_pivot"
   ]
  },
  {
   "cell_type": "markdown",
   "metadata": {},
   "source": [
    "Чтобы оценить продолжительность существования платформы, создадим сводную таблицу, где отобразим первый и последний года выхода игр для разных платформ, затем добавим столбец с продолжительностью существования платформы"
   ]
  },
  {
   "cell_type": "code",
   "execution_count": 35,
   "metadata": {},
   "outputs": [
    {
     "data": {
      "text/html": [
       "<div>\n",
       "<style scoped>\n",
       "    .dataframe tbody tr th:only-of-type {\n",
       "        vertical-align: middle;\n",
       "    }\n",
       "\n",
       "    .dataframe tbody tr th {\n",
       "        vertical-align: top;\n",
       "    }\n",
       "\n",
       "    .dataframe thead th {\n",
       "        text-align: right;\n",
       "    }\n",
       "</style>\n",
       "<table border=\"1\" class=\"dataframe\">\n",
       "  <thead>\n",
       "    <tr style=\"text-align: right;\">\n",
       "      <th></th>\n",
       "      <th>max</th>\n",
       "      <th>min</th>\n",
       "      <th>last</th>\n",
       "    </tr>\n",
       "    <tr>\n",
       "      <th>platform</th>\n",
       "      <th></th>\n",
       "      <th></th>\n",
       "      <th></th>\n",
       "    </tr>\n",
       "  </thead>\n",
       "  <tbody>\n",
       "    <tr>\n",
       "      <th>PC</th>\n",
       "      <td>2016</td>\n",
       "      <td>1985</td>\n",
       "      <td>32</td>\n",
       "    </tr>\n",
       "    <tr>\n",
       "      <th>DS</th>\n",
       "      <td>2013</td>\n",
       "      <td>1985</td>\n",
       "      <td>29</td>\n",
       "    </tr>\n",
       "    <tr>\n",
       "      <th>2600</th>\n",
       "      <td>1998</td>\n",
       "      <td>1980</td>\n",
       "      <td>19</td>\n",
       "    </tr>\n",
       "    <tr>\n",
       "      <th>PS3</th>\n",
       "      <td>2016</td>\n",
       "      <td>2001</td>\n",
       "      <td>16</td>\n",
       "    </tr>\n",
       "    <tr>\n",
       "      <th>3DS</th>\n",
       "      <td>2016</td>\n",
       "      <td>2003</td>\n",
       "      <td>14</td>\n",
       "    </tr>\n",
       "    <tr>\n",
       "      <th>GB</th>\n",
       "      <td>2001</td>\n",
       "      <td>1988</td>\n",
       "      <td>14</td>\n",
       "    </tr>\n",
       "    <tr>\n",
       "      <th>X360</th>\n",
       "      <td>2016</td>\n",
       "      <td>2005</td>\n",
       "      <td>12</td>\n",
       "    </tr>\n",
       "    <tr>\n",
       "      <th>PSP</th>\n",
       "      <td>2015</td>\n",
       "      <td>2004</td>\n",
       "      <td>12</td>\n",
       "    </tr>\n",
       "    <tr>\n",
       "      <th>NES</th>\n",
       "      <td>1994</td>\n",
       "      <td>1983</td>\n",
       "      <td>12</td>\n",
       "    </tr>\n",
       "    <tr>\n",
       "      <th>PS2</th>\n",
       "      <td>2011</td>\n",
       "      <td>2000</td>\n",
       "      <td>12</td>\n",
       "    </tr>\n",
       "    <tr>\n",
       "      <th>DC</th>\n",
       "      <td>2008</td>\n",
       "      <td>1998</td>\n",
       "      <td>11</td>\n",
       "    </tr>\n",
       "    <tr>\n",
       "      <th>Wii</th>\n",
       "      <td>2016</td>\n",
       "      <td>2006</td>\n",
       "      <td>11</td>\n",
       "    </tr>\n",
       "    <tr>\n",
       "      <th>SNES</th>\n",
       "      <td>1999</td>\n",
       "      <td>1990</td>\n",
       "      <td>10</td>\n",
       "    </tr>\n",
       "    <tr>\n",
       "      <th>PS</th>\n",
       "      <td>2003</td>\n",
       "      <td>1994</td>\n",
       "      <td>10</td>\n",
       "    </tr>\n",
       "    <tr>\n",
       "      <th>N64</th>\n",
       "      <td>2004</td>\n",
       "      <td>1996</td>\n",
       "      <td>9</td>\n",
       "    </tr>\n",
       "    <tr>\n",
       "      <th>XB</th>\n",
       "      <td>2008</td>\n",
       "      <td>2000</td>\n",
       "      <td>9</td>\n",
       "    </tr>\n",
       "    <tr>\n",
       "      <th>GBA</th>\n",
       "      <td>2007</td>\n",
       "      <td>2000</td>\n",
       "      <td>8</td>\n",
       "    </tr>\n",
       "    <tr>\n",
       "      <th>GC</th>\n",
       "      <td>2007</td>\n",
       "      <td>2001</td>\n",
       "      <td>7</td>\n",
       "    </tr>\n",
       "    <tr>\n",
       "      <th>PSV</th>\n",
       "      <td>2016</td>\n",
       "      <td>2011</td>\n",
       "      <td>6</td>\n",
       "    </tr>\n",
       "    <tr>\n",
       "      <th>SAT</th>\n",
       "      <td>1999</td>\n",
       "      <td>1994</td>\n",
       "      <td>6</td>\n",
       "    </tr>\n",
       "    <tr>\n",
       "      <th>GEN</th>\n",
       "      <td>1994</td>\n",
       "      <td>1990</td>\n",
       "      <td>5</td>\n",
       "    </tr>\n",
       "    <tr>\n",
       "      <th>WiiU</th>\n",
       "      <td>2016</td>\n",
       "      <td>2012</td>\n",
       "      <td>5</td>\n",
       "    </tr>\n",
       "    <tr>\n",
       "      <th>XOne</th>\n",
       "      <td>2016</td>\n",
       "      <td>2013</td>\n",
       "      <td>4</td>\n",
       "    </tr>\n",
       "    <tr>\n",
       "      <th>NG</th>\n",
       "      <td>1996</td>\n",
       "      <td>1993</td>\n",
       "      <td>4</td>\n",
       "    </tr>\n",
       "    <tr>\n",
       "      <th>PS4</th>\n",
       "      <td>2016</td>\n",
       "      <td>2013</td>\n",
       "      <td>4</td>\n",
       "    </tr>\n",
       "    <tr>\n",
       "      <th>WS</th>\n",
       "      <td>2001</td>\n",
       "      <td>1999</td>\n",
       "      <td>3</td>\n",
       "    </tr>\n",
       "    <tr>\n",
       "      <th>SCD</th>\n",
       "      <td>1994</td>\n",
       "      <td>1993</td>\n",
       "      <td>2</td>\n",
       "    </tr>\n",
       "    <tr>\n",
       "      <th>3DO</th>\n",
       "      <td>1995</td>\n",
       "      <td>1994</td>\n",
       "      <td>2</td>\n",
       "    </tr>\n",
       "    <tr>\n",
       "      <th>TG16</th>\n",
       "      <td>1995</td>\n",
       "      <td>1995</td>\n",
       "      <td>1</td>\n",
       "    </tr>\n",
       "    <tr>\n",
       "      <th>GG</th>\n",
       "      <td>1992</td>\n",
       "      <td>1992</td>\n",
       "      <td>1</td>\n",
       "    </tr>\n",
       "    <tr>\n",
       "      <th>PCFX</th>\n",
       "      <td>1996</td>\n",
       "      <td>1996</td>\n",
       "      <td>1</td>\n",
       "    </tr>\n",
       "  </tbody>\n",
       "</table>\n",
       "</div>"
      ],
      "text/plain": [
       "           max   min last\n",
       "platform                 \n",
       "PC        2016  1985   32\n",
       "DS        2013  1985   29\n",
       "2600      1998  1980   19\n",
       "PS3       2016  2001   16\n",
       "3DS       2016  2003   14\n",
       "GB        2001  1988   14\n",
       "X360      2016  2005   12\n",
       "PSP       2015  2004   12\n",
       "NES       1994  1983   12\n",
       "PS2       2011  2000   12\n",
       "DC        2008  1998   11\n",
       "Wii       2016  2006   11\n",
       "SNES      1999  1990   10\n",
       "PS        2003  1994   10\n",
       "N64       2004  1996    9\n",
       "XB        2008  2000    9\n",
       "GBA       2007  2000    8\n",
       "GC        2007  2001    7\n",
       "PSV       2016  2011    6\n",
       "SAT       1999  1994    6\n",
       "GEN       1994  1990    5\n",
       "WiiU      2016  2012    5\n",
       "XOne      2016  2013    4\n",
       "NG        1996  1993    4\n",
       "PS4       2016  2013    4\n",
       "WS        2001  1999    3\n",
       "SCD       1994  1993    2\n",
       "3DO       1995  1994    2\n",
       "TG16      1995  1995    1\n",
       "GG        1992  1992    1\n",
       "PCFX      1996  1996    1"
      ]
     },
     "metadata": {},
     "output_type": "display_data"
    },
    {
     "name": "stdout",
     "output_type": "stream",
     "text": [
      "Средняя продолжительность существования платформы 9.4\n"
     ]
    }
   ],
   "source": [
    "platform_pivot = data.pivot_table(index='platform', values='year_of_release', aggfunc={'min', 'max'})\n",
    "platform_pivot['last'] = platform_pivot['max'] - platform_pivot['min'] + 1\n",
    "platform_pivot.sort_values(by='last', ascending=False, inplace=True)\n",
    "display(platform_pivot)\n",
    "print('Средняя продолжительность существования платформы {:.1f}'.format(platform_pivot['last'].mean()))"
   ]
  },
  {
   "cell_type": "markdown",
   "metadata": {},
   "source": [
    "Персональный компьютер и Nintendo DS являются самыми долгосуществующими платформами - 32 и 29 лет соответственно при среднем значении 9,4 лет. Многие платформы не переживают планку в 5 лет."
   ]
  },
  {
   "cell_type": "markdown",
   "metadata": {},
   "source": [
    "*Наибольшие продажи отмечаются у игр для пяти платформ: PlayStation 3 и 4, Xbox 360 и One, Nintendo 3DS. Рассмотрим изменения продаж игр для этих платформ по годам.*"
   ]
  },
  {
   "cell_type": "code",
   "execution_count": 36,
   "metadata": {
    "scrolled": true
   },
   "outputs": [
    {
     "data": {
      "text/html": [
       "<div>\n",
       "<style scoped>\n",
       "    .dataframe tbody tr th:only-of-type {\n",
       "        vertical-align: middle;\n",
       "    }\n",
       "\n",
       "    .dataframe tbody tr th {\n",
       "        vertical-align: top;\n",
       "    }\n",
       "\n",
       "    .dataframe thead th {\n",
       "        text-align: right;\n",
       "    }\n",
       "</style>\n",
       "<table border=\"1\" class=\"dataframe\">\n",
       "  <thead>\n",
       "    <tr style=\"text-align: right;\">\n",
       "      <th>platform</th>\n",
       "      <th>3DS</th>\n",
       "      <th>PS3</th>\n",
       "      <th>PS4</th>\n",
       "      <th>X360</th>\n",
       "      <th>XOne</th>\n",
       "    </tr>\n",
       "    <tr>\n",
       "      <th>year_of_release</th>\n",
       "      <th></th>\n",
       "      <th></th>\n",
       "      <th></th>\n",
       "      <th></th>\n",
       "      <th></th>\n",
       "    </tr>\n",
       "  </thead>\n",
       "  <tbody>\n",
       "    <tr>\n",
       "      <th>2012</th>\n",
       "      <td>0.550638</td>\n",
       "      <td>0.726711</td>\n",
       "      <td>NaN</td>\n",
       "      <td>0.932593</td>\n",
       "      <td>NaN</td>\n",
       "    </tr>\n",
       "    <tr>\n",
       "      <th>2013</th>\n",
       "      <td>0.621648</td>\n",
       "      <td>0.898810</td>\n",
       "      <td>1.624375</td>\n",
       "      <td>1.181067</td>\n",
       "      <td>0.997895</td>\n",
       "    </tr>\n",
       "    <tr>\n",
       "      <th>2014</th>\n",
       "      <td>0.547000</td>\n",
       "      <td>0.442222</td>\n",
       "      <td>1.333333</td>\n",
       "      <td>0.551429</td>\n",
       "      <td>0.886393</td>\n",
       "    </tr>\n",
       "    <tr>\n",
       "      <th>2015</th>\n",
       "      <td>0.323023</td>\n",
       "      <td>0.230411</td>\n",
       "      <td>0.867883</td>\n",
       "      <td>0.341714</td>\n",
       "      <td>0.751750</td>\n",
       "    </tr>\n",
       "    <tr>\n",
       "      <th>2016</th>\n",
       "      <td>0.329130</td>\n",
       "      <td>0.094737</td>\n",
       "      <td>0.422256</td>\n",
       "      <td>0.116923</td>\n",
       "      <td>0.300575</td>\n",
       "    </tr>\n",
       "  </tbody>\n",
       "</table>\n",
       "</div>"
      ],
      "text/plain": [
       "platform              3DS       PS3       PS4      X360      XOne\n",
       "year_of_release                                                  \n",
       "2012             0.550638  0.726711       NaN  0.932593       NaN\n",
       "2013             0.621648  0.898810  1.624375  1.181067  0.997895\n",
       "2014             0.547000  0.442222  1.333333  0.551429  0.886393\n",
       "2015             0.323023  0.230411  0.867883  0.341714  0.751750\n",
       "2016             0.329130  0.094737  0.422256  0.116923  0.300575"
      ]
     },
     "execution_count": 36,
     "metadata": {},
     "output_type": "execute_result"
    }
   ],
   "source": [
    "top_platforms = sales_pivot.head(5).index\n",
    "top_platforms_sales = data[(data['platform'].isin(top_platforms)) & (data.year_of_release >= 2012)].pivot_table(index='year_of_release', values='total_sales', columns='platform')\n",
    "top_platforms_sales"
   ]
  },
  {
   "cell_type": "markdown",
   "metadata": {},
   "source": [
    "Создадим датафрейм data_actual, куда войдут только даннные за период 2012-2016 гг"
   ]
  },
  {
   "cell_type": "code",
   "execution_count": 37,
   "metadata": {},
   "outputs": [],
   "source": [
    "data_actual = data.query('year_of_release >= 2012')"
   ]
  },
  {
   "cell_type": "markdown",
   "metadata": {},
   "source": [
    "*Построим график*"
   ]
  },
  {
   "cell_type": "code",
   "execution_count": 38,
   "metadata": {},
   "outputs": [
    {
     "data": {
      "image/png": "[encoded data removed]",
      "text/plain": [
       "<Figure size 1440x576 with 1 Axes>"
      ]
     },
     "metadata": {
      "needs_background": "light"
     },
     "output_type": "display_data"
    }
   ],
   "source": [
    "plt.figure(figsize=((20,8)))\n",
    "plt.plot(top_platforms_sales,  marker = 'o')\n",
    "plt.legend(top_platforms_sales.columns)\n",
    "plt.xticks(top_platforms_sales.index.astype(int))\n",
    "plt.title('Изменение продаж игр для платформ по годам')\n",
    "plt.show()"
   ]
  },
  {
   "cell_type": "markdown",
   "metadata": {},
   "source": [
    "**Несмотря на тенденцию к снижению объемов продаж игр, на рынке сохраняется доминация игр для PlayStation 4. Наиболее стабильные продажи сохраняются у Nintendo 3DS.**"
   ]
  },
  {
   "cell_type": "markdown",
   "metadata": {},
   "source": [
    "**Единственная платформа из топа, у которой продажи за последний год выросли, - это Nintendo 3DS. Эту приставку можно назвать наиболее перспективной платформой. Нужно отметить, что данные за 2016 год могут быть неполными. Поэтому недавно вышедшие платформы XOne и PS4 мы также можем считать перспективными. **"
   ]
  },
  {
   "cell_type": "markdown",
   "metadata": {},
   "source": [
    "*Рассмотрим общий объем продаж в разбивке по платформам и построим \"ящик с усами\".*"
   ]
  },
  {
   "cell_type": "code",
   "execution_count": 39,
   "metadata": {},
   "outputs": [
    {
     "data": {
      "text/plain": [
       "Text(0.5, 1.0, 'Объем продаж в разбивке по платформам')"
      ]
     },
     "execution_count": 39,
     "metadata": {},
     "output_type": "execute_result"
    },
    {
     "data": {
      "image/png": "[encoded data removed]",
      "text/plain": [
       "<Figure size 576x576 with 1 Axes>"
      ]
     },
     "metadata": {
      "needs_background": "light"
     },
     "output_type": "display_data"
    }
   ],
   "source": [
    "plt.figure(figsize=((8,8)))\n",
    "data.pivot_table(index='platform', values='total_sales', aggfunc='sum').boxplot()\n",
    "plt.title('Объем продаж в разбивке по платформам')"
   ]
  },
  {
   "cell_type": "markdown",
   "metadata": {},
   "source": [
    "**На графике видно, что продажи игр для нескольких платформ на порядок выше, чем суммарные продажи игр для остальных платформ.**"
   ]
  },
  {
   "cell_type": "markdown",
   "metadata": {},
   "source": [
    "Построим график «ящик с усами» по глобальным продажам игр в разбивке по платформам. Напишем функцию, которая будет строить диаграмму, в качестве аргумента - платформа. Применим эту функцию к нашей выборке из платформ с наибольшими продажами. Данные для анализа - выделенный ранее актуальный период."
   ]
  },
  {
   "cell_type": "code",
   "execution_count": 40,
   "metadata": {},
   "outputs": [],
   "source": [
    "def add_boxplot(platform):\n",
    "    plt.figure(figsize=((6,6)))\n",
    "    data_actual.loc[data_actual['platform'] == i].boxplot(column='total_sales')\n",
    "    plt.title('Объем продаж в разбивке по платформe ' + platform)\n",
    "    plt.show()"
   ]
  },
  {
   "cell_type": "code",
   "execution_count": 41,
   "metadata": {
    "scrolled": false
   },
   "outputs": [
    {
     "data": {
      "image/png": "[encoded data removed]",
      "text/plain": [
       "<Figure size 432x432 with 1 Axes>"
      ]
     },
     "metadata": {
      "needs_background": "light"
     },
     "output_type": "display_data"
    },
    {
     "data": {
      "image/png": "[encoded data removed]",
      "text/plain": [
       "<Figure size 432x432 with 1 Axes>"
      ]
     },
     "metadata": {
      "needs_background": "light"
     },
     "output_type": "display_data"
    },
    {
     "data": {
      "image/png": "[encoded data removed]",
      "text/plain": [
       "<Figure size 432x432 with 1 Axes>"
      ]
     },
     "metadata": {
      "needs_background": "light"
     },
     "output_type": "display_data"
    },
    {
     "data": {
      "image/png": "[encoded data removed]",
      "text/plain": [
       "<Figure size 432x432 with 1 Axes>"
      ]
     },
     "metadata": {
      "needs_background": "light"
     },
     "output_type": "display_data"
    },
    {
     "data": {
      "image/png": "[encoded data removed]",
      "text/plain": [
       "<Figure size 432x432 with 1 Axes>"
      ]
     },
     "metadata": {
      "needs_background": "light"
     },
     "output_type": "display_data"
    }
   ],
   "source": [
    "for i in top_platforms:\n",
    "    add_boxplot(i)"
   ]
  },
  {
   "cell_type": "markdown",
   "metadata": {},
   "source": [
    "**По каждой платформе отмечается высокий разброс по объемам продаж для игр - самые продаваемые игры в несколько раз опережают третий квартиль. Вероятно, это AAA-игры (наиболее высокобюджетные компьютерные игры, рассчитанные на массовую аудиторию и требующие высоких затрат как на саму разработку игры, так и на её маркетинг).**"
   ]
  },
  {
   "cell_type": "markdown",
   "metadata": {},
   "source": [
    "### Влияние отзывов на продажи"
   ]
  },
  {
   "cell_type": "markdown",
   "metadata": {},
   "source": [
    "*Рассмотрим зависимость продаж игр для PlayStation 3 от оценок критиков и пользователей*"
   ]
  },
  {
   "cell_type": "markdown",
   "metadata": {},
   "source": [
    "*Построим графики корреляции между продажами игр и их оценками*"
   ]
  },
  {
   "cell_type": "code",
   "execution_count": 42,
   "metadata": {},
   "outputs": [
    {
     "data": {
      "image/png": "[encoded data removed]",
      "text/plain": [
       "<Figure size 576x576 with 1 Axes>"
      ]
     },
     "metadata": {
      "needs_background": "light"
     },
     "output_type": "display_data"
    },
    {
     "data": {
      "image/png": "[encoded data removed]",
      "text/plain": [
       "<Figure size 576x576 with 1 Axes>"
      ]
     },
     "metadata": {
      "needs_background": "light"
     },
     "output_type": "display_data"
    }
   ],
   "source": [
    "data.query('platform == \"PS3\"').plot(x='critic_score', y='total_sales', kind='scatter', figsize=(8, 8))\n",
    "plt.title('Диаграмма рассеяния для продаж и оценки критиков')\n",
    "plt.show()\n",
    "data.query('platform == \"PS3\"').plot(x='user_score', y='total_sales', kind='scatter', figsize=(8, 8))\n",
    "plt.title('Диаграмма рассеяния для продаж и оценки пользователей')\n",
    "plt.show()"
   ]
  },
  {
   "cell_type": "markdown",
   "metadata": {},
   "source": [
    "*Диаграммы получились неинформативными из-за нескольких игр с большими продажами. Оставим только игры с продажами до 5 млн копий*"
   ]
  },
  {
   "cell_type": "code",
   "execution_count": 43,
   "metadata": {},
   "outputs": [
    {
     "data": {
      "image/png": "[encoded data removed]",
      "text/plain": [
       "<Figure size 576x576 with 1 Axes>"
      ]
     },
     "metadata": {
      "needs_background": "light"
     },
     "output_type": "display_data"
    },
    {
     "data": {
      "image/png": "[encoded data removed]",
      "text/plain": [
       "<Figure size 576x576 with 1 Axes>"
      ]
     },
     "metadata": {
      "needs_background": "light"
     },
     "output_type": "display_data"
    }
   ],
   "source": [
    "data.query('platform == \"PS3\" and total_sales < 5').plot(x='critic_score', y='total_sales', kind='scatter', figsize=(8, 8))\n",
    "plt.title('Диаграмма рассеяния для продаж и оценки критиков')\n",
    "plt.show()\n",
    "data.query('platform == \"PS3\" and total_sales < 5').plot(x='user_score', y='total_sales', kind='scatter', figsize=(8, 8))\n",
    "plt.title('Диаграмма рассеяния для продаж и оценки пользователей')\n",
    "plt.show()"
   ]
  },
  {
   "cell_type": "markdown",
   "metadata": {},
   "source": [
    "*Определенная зависимость явно присутствует. Найдем коэффициенты корреляции для этих величин.*"
   ]
  },
  {
   "cell_type": "code",
   "execution_count": 44,
   "metadata": {
    "scrolled": false
   },
   "outputs": [
    {
     "name": "stdout",
     "output_type": "stream",
     "text": [
      "Коэффициент корреляции между продажами игр на PlayStation 3 и оценкой критиков составляет 0.52\n",
      "Коэффициент корреляции между продажами игр на PlayStation 3 и оценкой пользователей составляет 0.24\n"
     ]
    }
   ],
   "source": [
    "print('Коэффициент корреляции между продажами игр на PlayStation 3 и оценкой критиков составляет {:.2f}'.format(\n",
    "     data.query('platform == \"PS3\" and total_sales < 5')['total_sales'].corr(\n",
    "     data.query('platform == \"PS3\" and total_sales < 5')['critic_score'].astype(float))))\n",
    "print('Коэффициент корреляции между продажами игр на PlayStation 3 и оценкой пользователей составляет {:.2f}'.format(\n",
    "     data.query('platform == \"PS3\" and total_sales < 5')['total_sales'].corr(\n",
    "     data.query('platform == \"PS3\" and total_sales < 5')['user_score'])))"
   ]
  },
  {
   "cell_type": "markdown",
   "metadata": {},
   "source": [
    "**Корреляцию между продажами и оценкой критиков можно назвать средней положительной, корреляцию между продажами и оценкой пользователей - слабой положительной. Очевидно, что помимо оценок на продажи игр влияет множество факторов.**"
   ]
  },
  {
   "cell_type": "markdown",
   "metadata": {},
   "source": [
    "### Распределение игр по жанрам"
   ]
  },
  {
   "cell_type": "markdown",
   "metadata": {},
   "source": [
    "*Рассмотрим распределение игр по жанрам*"
   ]
  },
  {
   "cell_type": "code",
   "execution_count": 45,
   "metadata": {},
   "outputs": [
    {
     "data": {
      "text/html": [
       "<div>\n",
       "<style scoped>\n",
       "    .dataframe tbody tr th:only-of-type {\n",
       "        vertical-align: middle;\n",
       "    }\n",
       "\n",
       "    .dataframe tbody tr th {\n",
       "        vertical-align: top;\n",
       "    }\n",
       "\n",
       "    .dataframe thead th {\n",
       "        text-align: right;\n",
       "    }\n",
       "</style>\n",
       "<table border=\"1\" class=\"dataframe\">\n",
       "  <thead>\n",
       "    <tr style=\"text-align: right;\">\n",
       "      <th></th>\n",
       "      <th>total_sales</th>\n",
       "    </tr>\n",
       "    <tr>\n",
       "      <th>genre</th>\n",
       "      <th></th>\n",
       "    </tr>\n",
       "  </thead>\n",
       "  <tbody>\n",
       "    <tr>\n",
       "      <th>Action</th>\n",
       "      <td>1744.17</td>\n",
       "    </tr>\n",
       "    <tr>\n",
       "      <th>Sports</th>\n",
       "      <td>1331.27</td>\n",
       "    </tr>\n",
       "    <tr>\n",
       "      <th>Shooter</th>\n",
       "      <td>1052.45</td>\n",
       "    </tr>\n",
       "    <tr>\n",
       "      <th>Role-Playing</th>\n",
       "      <td>934.56</td>\n",
       "    </tr>\n",
       "    <tr>\n",
       "      <th>Platform</th>\n",
       "      <td>827.77</td>\n",
       "    </tr>\n",
       "    <tr>\n",
       "      <th>Misc</th>\n",
       "      <td>802.51</td>\n",
       "    </tr>\n",
       "    <tr>\n",
       "      <th>Racing</th>\n",
       "      <td>728.67</td>\n",
       "    </tr>\n",
       "    <tr>\n",
       "      <th>Fighting</th>\n",
       "      <td>447.53</td>\n",
       "    </tr>\n",
       "    <tr>\n",
       "      <th>Simulation</th>\n",
       "      <td>389.97</td>\n",
       "    </tr>\n",
       "    <tr>\n",
       "      <th>Puzzle</th>\n",
       "      <td>242.57</td>\n",
       "    </tr>\n",
       "    <tr>\n",
       "      <th>Adventure</th>\n",
       "      <td>237.59</td>\n",
       "    </tr>\n",
       "    <tr>\n",
       "      <th>Strategy</th>\n",
       "      <td>174.23</td>\n",
       "    </tr>\n",
       "  </tbody>\n",
       "</table>\n",
       "</div>"
      ],
      "text/plain": [
       "              total_sales\n",
       "genre                    \n",
       "Action            1744.17\n",
       "Sports            1331.27\n",
       "Shooter           1052.45\n",
       "Role-Playing       934.56\n",
       "Platform           827.77\n",
       "Misc               802.51\n",
       "Racing             728.67\n",
       "Fighting           447.53\n",
       "Simulation         389.97\n",
       "Puzzle             242.57\n",
       "Adventure          237.59\n",
       "Strategy           174.23"
      ]
     },
     "execution_count": 45,
     "metadata": {},
     "output_type": "execute_result"
    }
   ],
   "source": [
    "data.pivot_table(index='genre', values='total_sales', aggfunc='sum').sort_values(by='total_sales', ascending=False)"
   ]
  },
  {
   "cell_type": "markdown",
   "metadata": {},
   "source": [
    "**Самыми прибыльными жанрами являются экшен, спорт и шутеры - общий объем продаж игр у каждого из них более 1 млрд копий. Наименее прибыльным жанром является стратегия - меньше 200 млн проданных копий игр.**"
   ]
  },
  {
   "cell_type": "markdown",
   "metadata": {},
   "source": [
    "## Портрет пользователя каждого региона"
   ]
  },
  {
   "cell_type": "markdown",
   "metadata": {},
   "source": [
    "### Платформы"
   ]
  },
  {
   "cell_type": "markdown",
   "metadata": {},
   "source": [
    "*Найдем топ-5 по популярности платформ для каждого региона (NA, EU, JP)*"
   ]
  },
  {
   "cell_type": "code",
   "execution_count": 46,
   "metadata": {},
   "outputs": [],
   "source": [
    "def top5_platforms(region_sales): #Функция для построения столбчатой диаграммы\n",
    "    bar_table = data.pivot_table(index='platform', aggfunc='sum', values=region_sales).sort_values(by=region_sales, ascending=False).head(5)\n",
    "    plt.figure(figsize=((8,8)))\n",
    "    bar_table.plot(kind='bar')\n",
    "    plt.title(region_sales)\n",
    "    plt.show"
   ]
  },
  {
   "cell_type": "code",
   "execution_count": 47,
   "metadata": {},
   "outputs": [
    {
     "data": {
      "text/plain": [
       "<Figure size 576x576 with 0 Axes>"
      ]
     },
     "metadata": {},
     "output_type": "display_data"
    },
    {
     "data": {
      "image/png": "[encoded data removed]",
      "text/plain": [
       "<Figure size 432x288 with 1 Axes>"
      ]
     },
     "metadata": {
      "needs_background": "light"
     },
     "output_type": "display_data"
    },
    {
     "data": {
      "text/plain": [
       "<Figure size 576x576 with 0 Axes>"
      ]
     },
     "metadata": {},
     "output_type": "display_data"
    },
    {
     "data": {
      "image/png": "[encoded data removed]",
      "text/plain": [
       "<Figure size 432x288 with 1 Axes>"
      ]
     },
     "metadata": {
      "needs_background": "light"
     },
     "output_type": "display_data"
    },
    {
     "data": {
      "text/plain": [
       "<Figure size 576x576 with 0 Axes>"
      ]
     },
     "metadata": {},
     "output_type": "display_data"
    },
    {
     "data": {
      "image/png": "[encoded data removed]",
      "text/plain": [
       "<Figure size 432x288 with 1 Axes>"
      ]
     },
     "metadata": {
      "needs_background": "light"
     },
     "output_type": "display_data"
    }
   ],
   "source": [
    "top5_platforms('na_sales')\n",
    "top5_platforms('eu_sales')\n",
    "top5_platforms('jp_sales')"
   ]
  },
  {
   "cell_type": "markdown",
   "metadata": {},
   "source": [
    "**Можно отметить, что в Северной Америке наибольшая доля по продажам игр у Xbox 360, что, вероятно, связаано с тем, что эта приставка производится в США, в то время как в Японии Xbox даже не входит в топ-5 платформ. Зато в Японии присутствует явная доминация приставок от японской компании Nintendo.**"
   ]
  },
  {
   "cell_type": "markdown",
   "metadata": {},
   "source": [
    "### Жанры"
   ]
  },
  {
   "cell_type": "markdown",
   "metadata": {},
   "source": [
    "*Напишем аналогичную функцию для построения круговой диаграммы*"
   ]
  },
  {
   "cell_type": "code",
   "execution_count": 48,
   "metadata": {},
   "outputs": [],
   "source": [
    "def top5_genres(region_sales):\n",
    "    bar_table = data.pivot_table(index='genre', aggfunc='sum', values=region_sales).sort_values(by=region_sales, ascending=False).head(5)\n",
    "    plt.figure(figsize=((8,8)))\n",
    "    bar_table.plot(kind='bar')\n",
    "    plt.title(region_sales)\n",
    "    plt.show"
   ]
  },
  {
   "cell_type": "code",
   "execution_count": 49,
   "metadata": {},
   "outputs": [
    {
     "data": {
      "text/plain": [
       "<Figure size 576x576 with 0 Axes>"
      ]
     },
     "metadata": {},
     "output_type": "display_data"
    },
    {
     "data": {
      "image/png": "[encoded data removed]",
      "text/plain": [
       "<Figure size 432x288 with 1 Axes>"
      ]
     },
     "metadata": {
      "needs_background": "light"
     },
     "output_type": "display_data"
    },
    {
     "data": {
      "text/plain": [
       "<Figure size 576x576 with 0 Axes>"
      ]
     },
     "metadata": {},
     "output_type": "display_data"
    },
    {
     "data": {
      "image/png": "[encoded data removed]",
      "text/plain": [
       "<Figure size 432x288 with 1 Axes>"
      ]
     },
     "metadata": {
      "needs_background": "light"
     },
     "output_type": "display_data"
    },
    {
     "data": {
      "text/plain": [
       "<Figure size 576x576 with 0 Axes>"
      ]
     },
     "metadata": {},
     "output_type": "display_data"
    },
    {
     "data": {
      "image/png": "[encoded data removed]",
      "text/plain": [
       "<Figure size 432x288 with 1 Axes>"
      ]
     },
     "metadata": {
      "needs_background": "light"
     },
     "output_type": "display_data"
    }
   ],
   "source": [
    "top5_genres('na_sales')\n",
    "top5_genres('eu_sales')\n",
    "top5_genres('jp_sales')"
   ]
  },
  {
   "cell_type": "markdown",
   "metadata": {},
   "source": [
    "**Распределение популярности игр по жанрам в Северной Америке и Европе похожее - лидирует экшен, в тройку также входят спорт и шутеры. В Японии же с огромным отрывом лидируют ролевые игры.**"
   ]
  },
  {
   "cell_type": "markdown",
   "metadata": {},
   "source": [
    "### Рейтинг ESRB"
   ]
  },
  {
   "cell_type": "markdown",
   "metadata": {},
   "source": [
    "*Рассмотрим различие в объеме продаж игр разных жанров между разными регионами*"
   ]
  },
  {
   "cell_type": "markdown",
   "metadata": {},
   "source": [
    "Выделим игры, где не указан возрастной рейтинг, в отдельную категорию 'no_rating'. Рассматривать будем срез по актуальному периоду data_actual."
   ]
  },
  {
   "cell_type": "code",
   "execution_count": 50,
   "metadata": {
    "scrolled": false
   },
   "outputs": [
    {
     "data": {
      "text/plain": [
       "16               M\n",
       "23               M\n",
       "31       no_rating\n",
       "33       no_rating\n",
       "34               M\n",
       "           ...    \n",
       "16703    no_rating\n",
       "16707    no_rating\n",
       "16710    no_rating\n",
       "16712    no_rating\n",
       "16714    no_rating\n",
       "Name: rating, Length: 2899, dtype: object"
      ]
     },
     "execution_count": 50,
     "metadata": {},
     "output_type": "execute_result"
    }
   ],
   "source": [
    "data_actual['rating'].fillna('no_rating')"
   ]
  },
  {
   "cell_type": "code",
   "execution_count": 51,
   "metadata": {},
   "outputs": [
    {
     "data": {
      "text/html": [
       "<div>\n",
       "<style scoped>\n",
       "    .dataframe tbody tr th:only-of-type {\n",
       "        vertical-align: middle;\n",
       "    }\n",
       "\n",
       "    .dataframe tbody tr th {\n",
       "        vertical-align: top;\n",
       "    }\n",
       "\n",
       "    .dataframe thead th {\n",
       "        text-align: right;\n",
       "    }\n",
       "</style>\n",
       "<table border=\"1\" class=\"dataframe\">\n",
       "  <thead>\n",
       "    <tr style=\"text-align: right;\">\n",
       "      <th></th>\n",
       "      <th>eu_sales</th>\n",
       "      <th>jp_sales</th>\n",
       "      <th>na_sales</th>\n",
       "    </tr>\n",
       "    <tr>\n",
       "      <th>rating</th>\n",
       "      <th></th>\n",
       "      <th></th>\n",
       "      <th></th>\n",
       "    </tr>\n",
       "  </thead>\n",
       "  <tbody>\n",
       "    <tr>\n",
       "      <th>E</th>\n",
       "      <td>115.40</td>\n",
       "      <td>29.27</td>\n",
       "      <td>117.79</td>\n",
       "    </tr>\n",
       "    <tr>\n",
       "      <th>E10+</th>\n",
       "      <td>59.80</td>\n",
       "      <td>8.57</td>\n",
       "      <td>80.07</td>\n",
       "    </tr>\n",
       "    <tr>\n",
       "      <th>M</th>\n",
       "      <td>206.43</td>\n",
       "      <td>22.59</td>\n",
       "      <td>242.34</td>\n",
       "    </tr>\n",
       "    <tr>\n",
       "      <th>T</th>\n",
       "      <td>57.04</td>\n",
       "      <td>29.13</td>\n",
       "      <td>69.80</td>\n",
       "    </tr>\n",
       "  </tbody>\n",
       "</table>\n",
       "</div>"
      ],
      "text/plain": [
       "        eu_sales  jp_sales  na_sales\n",
       "rating                              \n",
       "E         115.40     29.27    117.79\n",
       "E10+       59.80      8.57     80.07\n",
       "M         206.43     22.59    242.34\n",
       "T          57.04     29.13     69.80"
      ]
     },
     "execution_count": 51,
     "metadata": {},
     "output_type": "execute_result"
    }
   ],
   "source": [
    "rating_table = data_actual.pivot_table(index='rating', values=('na_sales', 'eu_sales', 'jp_sales'), aggfunc='sum')\n",
    "rating_table"
   ]
  },
  {
   "cell_type": "code",
   "execution_count": 52,
   "metadata": {},
   "outputs": [
    {
     "data": {
      "text/plain": [
       "<AxesSubplot:title={'center':'Продажи игр разных жанров в регионах'}>"
      ]
     },
     "execution_count": 52,
     "metadata": {},
     "output_type": "execute_result"
    },
    {
     "data": {
      "image/png": "[encoded data removed]",
      "text/plain": [
       "<Figure size 432x288 with 1 Axes>"
      ]
     },
     "metadata": {
      "needs_background": "light"
     },
     "output_type": "display_data"
    }
   ],
   "source": [
    "rating_table.transpose().plot(kind='bar', title='Продажи игр разных жанров в регионах')"
   ]
  },
  {
   "cell_type": "markdown",
   "metadata": {},
   "source": [
    "**Как видно из диаграммы, в Европе и Северной Америке лидируют игры с рейтингом M (mature), в то время как в Японии наравне с M также популярны игры категорий E (everyone) и T (teen). Необходимо отметить, что по у большинства японских игр не указан возрастной рейтинг (в данном регионе действует своя рейтинговая система CERO, рейтинг ESRB необязателен), поэтому нельзя уверенно говорить о репрезентативности проанализированной выборки.**"
   ]
  },
  {
   "cell_type": "markdown",
   "metadata": {},
   "source": [
    "**На графике видно, что везде лидируют игры рейтинга E (everyone), наименее популярны игры E10+ (everyone 10 and older). Примечательно, что игры категорий M (mature) и T (teen) равнопопулярны в Северной Америке, в то время как в Европе лучше продаются игры категории M, а в Японии - T.**"
   ]
  },
  {
   "cell_type": "markdown",
   "metadata": {},
   "source": [
    "## Проверка гипотез"
   ]
  },
  {
   "cell_type": "markdown",
   "metadata": {},
   "source": [
    "### \"Средние пользовательские рейтинги платформ Xbox One и PC одинаковые\""
   ]
  },
  {
   "cell_type": "markdown",
   "metadata": {},
   "source": [
    "*Нулевая гипотеза H0 - средние пользовательские рейтинги платформ Xbox One и PC не различаются. Альтернативная гипотеза H1 - средние пользовательские рейтинги платформ Xbox One и PC различаются. Уровень статистической значимости примем за 5 %.*"
   ]
  },
  {
   "cell_type": "code",
   "execution_count": 53,
   "metadata": {
    "scrolled": false
   },
   "outputs": [
    {
     "name": "stdout",
     "output_type": "stream",
     "text": [
      "Средний пользовательский рейтинг для Xbox One: 6.52\n",
      "Средний пользовательский рейтинг для PC: 7.06\n",
      "pvalue =  1.3896435533548819e-05\n",
      "Отвергаем нулевую гипотезу\n"
     ]
    }
   ],
   "source": [
    "print('Средний пользовательский рейтинг для Xbox One: {:.2f}'.format(data.query('platform == \"XOne\"')['user_score'].mean()))\n",
    "print('Средний пользовательский рейтинг для PC: {:.2f}'.format(data.query('platform == \"PC\"')['user_score'].mean()))\n",
    "alpha = 0.05\n",
    "result = st.ttest_ind(data.query('platform == \"XOne\"')['user_score'].dropna(), data.query('platform == \"PC\"')['user_score'].dropna())\n",
    "print('pvalue = ', result.pvalue)\n",
    "if result.pvalue < 0.05:\n",
    "    print('Отвергаем нулевую гипотезу')\n",
    "if result.pvalue > 0.05:\n",
    "    print('Не отвергаем нулевую гипотезу')"
   ]
  },
  {
   "cell_type": "markdown",
   "metadata": {},
   "source": [
    "**Вероятность получить такую выбору при равных пользовательских рейтингах для XBox One и PC практически равна нулю, на основании чего мы отвергаем гипотезу об их равенстве - пользовательский рейтинг для PC выше.**"
   ]
  },
  {
   "cell_type": "markdown",
   "metadata": {},
   "source": [
    "### \"Средние пользовательские рейтинги жанров Action (англ. «действие», экшен-игры) и Sports (англ. «спортивные соревнования») разные\""
   ]
  },
  {
   "cell_type": "markdown",
   "metadata": {},
   "source": [
    "*Нулевая гипотеза H0 - средние пользовательские рейтинги жанров Action и Sports не различаются. Альтернативная гипотеза H1 - средние пользовательские рейтинги жанров Action и Sport различаются. Уровень статистической значимости примем за 5 %.*"
   ]
  },
  {
   "cell_type": "code",
   "execution_count": 54,
   "metadata": {
    "scrolled": false
   },
   "outputs": [
    {
     "name": "stdout",
     "output_type": "stream",
     "text": [
      "Средний пользовательский рейтинг для игр жанра Action: 7.05\n",
      "Средний пользовательский рейтинг для игр жанра Sports: 6.96\n",
      "pvalue =  0.10406951359049141\n",
      "Не отвергаем нулевую гипотезу\n"
     ]
    }
   ],
   "source": [
    "print('Средний пользовательский рейтинг для игр жанра Action: {:.2f}'.format(data.query('genre == \"Action\"')['user_score'].mean()))\n",
    "print('Средний пользовательский рейтинг для игр жанра Sports: {:.2f}'.format(data.query('genre == \"Sports\"')['user_score'].mean()))\n",
    "alpha = 0.05\n",
    "result = st.ttest_ind(data.query('genre == \"Action\"')['user_score'].dropna(), data.query('genre == \"Sports\"')['user_score'].dropna())\n",
    "print('pvalue = ', result.pvalue)\n",
    "if result.pvalue < 0.05:\n",
    "    print('Отвергаем нулевую гипотезу')\n",
    "if result.pvalue > 0.05:\n",
    "    print('Не отвергаем нулевую гипотезу')"
   ]
  },
  {
   "cell_type": "markdown",
   "metadata": {},
   "source": [
    "**Вероятность получить такую выборку при равных пользовательских рейтингах для жанров Action и Sports чуть больше 10%, на основании чего мы не можем опровергнуть нулевую гипотезу об их равенстве. Тогда проверяемя гипотеза о том, что средние пользовательские рейтинги жанров Action и Sports разные, считается неподтвержденной.**"
   ]
  },
  {
   "cell_type": "markdown",
   "metadata": {},
   "source": [
    "## Вывод"
   ]
  },
  {
   "cell_type": "markdown",
   "metadata": {},
   "source": [
    "В этом проекте был выполнен исследовательский анализ данных - определен актуальный период в продажах игр, выявлены лидируещие платформы, найдена зависимость влияния оценок пользователей на продажи игр. Выявлены и описаны различия в продажах игр для разных регионов (Европы, Северной Америки и Японии). \n",
    "Отвергнута гипотеза о равенстве пользовательских рейтингов платформ Xbox One и PC. Гипотеза о том, что средние пользовательские рейтинги жанров Action и Sports разные, не подтверждена."
   ]
  },
  {
   "cell_type": "markdown",
   "metadata": {},
   "source": [
    "### Детальные выводы:\n",
    "* В ходе работы были обработаны исходные данные - оптимизирован тип данных, заполнены пропуски.\n",
    "    \n",
    "* Выявлен актуальный период продажи игр - 2012-2016 гг - это период, когда продажи вышли на стабильный уровень после провала в 2011-2012 гг. \n",
    "    \n",
    "* Определен средний срок существования платформы - 9,4 лет, при этом лидеры по продолжительности существования - персональный компьютер и Nintendo DS (32 и 29 лет соответственно)\n",
    "    \n",
    "* Наибольшие продажи за актуальный период отмечаются у игр для пяти платформ: PlayStation 3 и 4, Xbox 360 и One, Nintendo 3DS. Несмотря на тенденцию к снижению объемов продаж игр, на рынке сохраняется доминация игр для PlayStation 4. Наиболее стабильные продажи сохраняются у Nintendo 3DS. Nintendo 3DS - это также единственная платформа из топа, у которой продажи за последний год выросли. Эту приставку можно назвать наиболее перспективной платформой.\n",
    "    \n",
    "* По каждой платформе отмечается высокий разброс по объемам продаж для игр - самые продаваемые игры в несколько раз опережают третий квартиль. Вероятно, это AAA-игры (наиболее высокобюджетные компьютерные игры, рассчитанные на массовую аудиторию и требующие высоких затрат как на саму разработку игры, так и на её маркетинг).\n",
    "    \n",
    "* Корреляцию между продажами и оценкой критиков можно назвать средней положительной, корреляцию между продажами и оценкой пользователей - слабой положительной. Очевидно, что помимо оценок на продажи игр влияет множество факторов.\n",
    "    \n",
    "* Самыми прибыльными жанрами являются экшен, спорт и шутеры - общий объем продаж игр у каждого из них более 1 млрд копий. Наименее прибыльным жанром является стратегия - меньше 200 млн проданных копий игр.\n",
    "    \n",
    "* Можно отметить, что в Северной Америке наибольшая доля по продажам игр у Xbox 360, что, вероятно, связаано с тем, что эта приставка производится в США, в то время как в Японии Xbox даже не входит в топ-5 платформ. Зато в Японии присутствует явная доминация приставок от японской компании Nintendo.\n",
    "    \n",
    "* Распределение популярности игр по жанрам в Северной Америке и Европе похожее - лидирует экшен, в тройку также входят спорт и шутеры. В Японии же с огромным отрывом лидируют ролевые игры.\n",
    "    \n",
    "* В Европе и Северной Америке лидируют игры с рейтингом M (mature), в то время как в Японии наравне с M также популярны игры категорий E (everyone) и T (teen). Необходимо отметить, что по у большинства японских игр не указан возрастной рейтинг, поэтому нельзя уверенно говорить о репрезентативности проанализированной выборки.\n",
    "    \n",
    "* Отвергнута гипотеза о равенстве пользовательских рейтингов платформ Xbox One и PC. Гипотеза о том, что средние пользовательские рейтинги жанров Action и Sports разные, неподтвержденной."
   ]
  }
 ],
 "metadata": {
  "ExecuteTimeLog": [
   {
    "duration": 692,
    "start_time": "2021-10-28T09:07:01.603Z"
   },
   {
    "duration": -363,
    "start_time": "2021-10-28T09:16:40.815Z"
   },
   {
    "duration": 8713,
    "start_time": "2021-10-28T09:16:44.553Z"
   },
   {
    "duration": 7,
    "start_time": "2021-10-28T09:16:54.604Z"
   },
   {
    "duration": 344,
    "start_time": "2021-10-28T09:19:59.532Z"
   },
   {
    "duration": 4,
    "start_time": "2021-10-28T09:20:10.513Z"
   },
   {
    "duration": 451,
    "start_time": "2021-10-28T09:20:24.052Z"
   },
   {
    "duration": 345,
    "start_time": "2021-10-28T09:22:04.086Z"
   },
   {
    "duration": 4,
    "start_time": "2021-10-28T09:22:13.725Z"
   },
   {
    "duration": 339,
    "start_time": "2021-10-28T09:22:19.366Z"
   },
   {
    "duration": 4,
    "start_time": "2021-10-28T09:22:24.778Z"
   },
   {
    "duration": 3,
    "start_time": "2021-10-28T09:22:32.759Z"
   },
   {
    "duration": 4,
    "start_time": "2021-10-28T09:24:05.128Z"
   },
   {
    "duration": 4,
    "start_time": "2021-10-28T09:24:18.363Z"
   },
   {
    "duration": 4,
    "start_time": "2021-10-28T09:26:04.078Z"
   },
   {
    "duration": 24,
    "start_time": "2021-10-28T09:26:05.663Z"
   },
   {
    "duration": 3,
    "start_time": "2021-10-28T09:28:19.415Z"
   },
   {
    "duration": 85,
    "start_time": "2021-10-28T09:28:31.753Z"
   },
   {
    "duration": 2,
    "start_time": "2021-10-28T09:28:31.840Z"
   },
   {
    "duration": 81,
    "start_time": "2021-10-28T09:28:38.469Z"
   },
   {
    "duration": 84,
    "start_time": "2021-10-28T09:28:40.836Z"
   },
   {
    "duration": 3,
    "start_time": "2021-10-28T09:28:40.922Z"
   },
   {
    "duration": 7,
    "start_time": "2021-10-28T11:19:21.496Z"
   },
   {
    "duration": 19,
    "start_time": "2021-10-28T11:21:22.904Z"
   },
   {
    "duration": 365,
    "start_time": "2021-10-28T11:22:45.208Z"
   },
   {
    "duration": 62,
    "start_time": "2021-10-28T12:52:11.961Z"
   },
   {
    "duration": 437,
    "start_time": "2021-10-28T12:55:27.282Z"
   },
   {
    "duration": 1330,
    "start_time": "2021-10-28T12:56:02.846Z"
   },
   {
    "duration": 349,
    "start_time": "2021-10-28T12:56:21.334Z"
   },
   {
    "duration": 4,
    "start_time": "2021-10-28T12:56:46.894Z"
   },
   {
    "duration": 5,
    "start_time": "2021-10-28T12:56:50.759Z"
   },
   {
    "duration": 5,
    "start_time": "2021-10-28T12:56:56.862Z"
   },
   {
    "duration": 5,
    "start_time": "2021-10-28T12:57:08.486Z"
   },
   {
    "duration": 6,
    "start_time": "2021-10-28T12:57:19.344Z"
   },
   {
    "duration": 7,
    "start_time": "2021-10-28T12:58:07.973Z"
   },
   {
    "duration": 6,
    "start_time": "2021-10-28T13:06:22.103Z"
   },
   {
    "duration": 409,
    "start_time": "2021-10-28T13:07:16.420Z"
   },
   {
    "duration": 8,
    "start_time": "2021-10-28T13:08:54.961Z"
   },
   {
    "duration": 22,
    "start_time": "2021-10-28T13:12:32.671Z"
   },
   {
    "duration": 21,
    "start_time": "2021-10-28T13:20:39.397Z"
   },
   {
    "duration": 381,
    "start_time": "2021-10-28T13:21:27.637Z"
   },
   {
    "duration": 23,
    "start_time": "2021-10-28T13:21:38.280Z"
   },
   {
    "duration": 84,
    "start_time": "2021-10-28T13:22:27.567Z"
   },
   {
    "duration": 3,
    "start_time": "2021-10-28T13:22:27.652Z"
   },
   {
    "duration": 34,
    "start_time": "2021-10-28T13:22:27.657Z"
   },
   {
    "duration": 340,
    "start_time": "2021-10-28T13:22:27.693Z"
   },
   {
    "duration": -99,
    "start_time": "2021-10-28T13:22:28.134Z"
   },
   {
    "duration": -99,
    "start_time": "2021-10-28T13:22:28.135Z"
   },
   {
    "duration": 370,
    "start_time": "2021-10-28T13:23:24.192Z"
   },
   {
    "duration": 5,
    "start_time": "2021-10-28T13:23:58.538Z"
   },
   {
    "duration": 6,
    "start_time": "2021-10-28T13:24:12.670Z"
   },
   {
    "duration": 9,
    "start_time": "2021-10-28T13:24:42.178Z"
   },
   {
    "duration": 74,
    "start_time": "2021-10-28T13:25:53.688Z"
   },
   {
    "duration": 3,
    "start_time": "2021-10-28T13:25:53.764Z"
   },
   {
    "duration": 19,
    "start_time": "2021-10-28T13:25:53.769Z"
   },
   {
    "duration": 4,
    "start_time": "2021-10-28T13:25:53.790Z"
   },
   {
    "duration": 10,
    "start_time": "2021-10-28T13:25:53.796Z"
   },
   {
    "duration": 6,
    "start_time": "2021-10-28T13:25:53.808Z"
   },
   {
    "duration": 4,
    "start_time": "2021-10-28T13:25:53.816Z"
   },
   {
    "duration": 77,
    "start_time": "2021-10-28T13:26:16.168Z"
   },
   {
    "duration": 2,
    "start_time": "2021-10-28T13:26:16.247Z"
   },
   {
    "duration": 27,
    "start_time": "2021-10-28T13:26:16.251Z"
   },
   {
    "duration": 5,
    "start_time": "2021-10-28T13:26:16.279Z"
   },
   {
    "duration": 8,
    "start_time": "2021-10-28T13:26:16.286Z"
   },
   {
    "duration": 4,
    "start_time": "2021-10-28T13:26:16.296Z"
   },
   {
    "duration": 10,
    "start_time": "2021-10-28T13:26:16.302Z"
   },
   {
    "duration": 21,
    "start_time": "2021-10-28T13:26:35.213Z"
   },
   {
    "duration": 8,
    "start_time": "2021-10-28T13:29:11.375Z"
   },
   {
    "duration": 6,
    "start_time": "2021-10-28T13:29:30.764Z"
   },
   {
    "duration": 6,
    "start_time": "2021-10-28T13:29:46.784Z"
   },
   {
    "duration": 75,
    "start_time": "2021-10-28T13:39:04.459Z"
   },
   {
    "duration": 3,
    "start_time": "2021-10-28T13:39:04.536Z"
   },
   {
    "duration": 22,
    "start_time": "2021-10-28T13:39:04.542Z"
   },
   {
    "duration": 11,
    "start_time": "2021-10-28T13:39:04.566Z"
   },
   {
    "duration": 9,
    "start_time": "2021-10-28T13:39:04.579Z"
   },
   {
    "duration": 5,
    "start_time": "2021-10-28T13:39:04.590Z"
   },
   {
    "duration": 7,
    "start_time": "2021-10-28T13:39:04.597Z"
   },
   {
    "duration": 6,
    "start_time": "2021-10-28T13:39:19.387Z"
   },
   {
    "duration": 6,
    "start_time": "2021-10-28T13:39:34.483Z"
   },
   {
    "duration": -79,
    "start_time": "2021-10-28T13:41:42.655Z"
   },
   {
    "duration": 123,
    "start_time": "2021-10-28T13:41:48.957Z"
   },
   {
    "duration": -80,
    "start_time": "2021-10-28T13:42:07.679Z"
   },
   {
    "duration": 10699,
    "start_time": "2021-10-28T13:42:15.987Z"
   },
   {
    "duration": 11,
    "start_time": "2021-10-28T13:42:48.200Z"
   },
   {
    "duration": 21,
    "start_time": "2021-10-28T13:42:53.203Z"
   },
   {
    "duration": 125,
    "start_time": "2021-10-28T13:45:36.358Z"
   },
   {
    "duration": 22,
    "start_time": "2021-10-28T13:50:45.969Z"
   },
   {
    "duration": 22,
    "start_time": "2021-10-28T13:54:13.326Z"
   },
   {
    "duration": 8,
    "start_time": "2021-10-28T13:54:40.845Z"
   },
   {
    "duration": 364,
    "start_time": "2021-10-28T13:55:42.885Z"
   },
   {
    "duration": 395,
    "start_time": "2021-10-28T14:00:45.582Z"
   },
   {
    "duration": 10,
    "start_time": "2021-10-28T14:06:01.082Z"
   },
   {
    "duration": 9,
    "start_time": "2021-10-28T14:06:05.902Z"
   },
   {
    "duration": 370,
    "start_time": "2021-10-28T14:06:12.001Z"
   },
   {
    "duration": 115,
    "start_time": "2021-10-28T14:06:24.352Z"
   },
   {
    "duration": 376,
    "start_time": "2021-10-28T14:06:57.749Z"
   },
   {
    "duration": 11,
    "start_time": "2021-10-28T14:07:08.235Z"
   },
   {
    "duration": 10,
    "start_time": "2021-10-28T14:07:34.755Z"
   },
   {
    "duration": 11,
    "start_time": "2021-10-28T14:07:38.550Z"
   },
   {
    "duration": 10,
    "start_time": "2021-10-28T14:07:43.494Z"
   },
   {
    "duration": 2874,
    "start_time": "2021-10-28T14:09:12.891Z"
   },
   {
    "duration": 14,
    "start_time": "2021-10-28T14:09:58.667Z"
   },
   {
    "duration": 7,
    "start_time": "2021-10-28T17:05:31.530Z"
   },
   {
    "duration": 362,
    "start_time": "2021-10-29T05:58:08.847Z"
   },
   {
    "duration": 865,
    "start_time": "2021-10-29T05:58:16.723Z"
   },
   {
    "duration": 3,
    "start_time": "2021-10-29T05:58:17.591Z"
   },
   {
    "duration": 29,
    "start_time": "2021-10-29T05:58:17.597Z"
   },
   {
    "duration": 5,
    "start_time": "2021-10-29T05:58:17.629Z"
   },
   {
    "duration": 35,
    "start_time": "2021-10-29T05:58:17.636Z"
   },
   {
    "duration": 4,
    "start_time": "2021-10-29T05:58:17.674Z"
   },
   {
    "duration": 9,
    "start_time": "2021-10-29T05:58:17.681Z"
   },
   {
    "duration": 35,
    "start_time": "2021-10-29T05:58:17.692Z"
   },
   {
    "duration": 68,
    "start_time": "2021-10-29T05:58:17.730Z"
   },
   {
    "duration": 13,
    "start_time": "2021-10-29T05:58:32.451Z"
   },
   {
    "duration": 18,
    "start_time": "2021-10-29T05:58:40.775Z"
   },
   {
    "duration": 14,
    "start_time": "2021-10-29T05:58:50.597Z"
   },
   {
    "duration": 10,
    "start_time": "2021-10-29T05:59:24.222Z"
   },
   {
    "duration": 33,
    "start_time": "2021-10-29T06:00:30.502Z"
   },
   {
    "duration": 11,
    "start_time": "2021-10-29T06:00:42.390Z"
   },
   {
    "duration": 9,
    "start_time": "2021-10-29T06:00:52.702Z"
   },
   {
    "duration": 32,
    "start_time": "2021-10-29T06:14:33.668Z"
   },
   {
    "duration": 310,
    "start_time": "2021-10-29T06:14:43.555Z"
   },
   {
    "duration": 10,
    "start_time": "2021-10-29T06:14:48.629Z"
   },
   {
    "duration": 9,
    "start_time": "2021-10-29T06:14:52.784Z"
   },
   {
    "duration": 14,
    "start_time": "2021-10-29T06:14:59.990Z"
   },
   {
    "duration": 8,
    "start_time": "2021-10-29T06:15:20.559Z"
   },
   {
    "duration": 290,
    "start_time": "2021-10-29T06:15:42.448Z"
   },
   {
    "duration": 9,
    "start_time": "2021-10-29T06:16:00.827Z"
   },
   {
    "duration": 8,
    "start_time": "2021-10-29T06:16:17.199Z"
   },
   {
    "duration": 20,
    "start_time": "2021-10-29T06:16:58.617Z"
   },
   {
    "duration": 112,
    "start_time": "2021-10-29T06:17:39.366Z"
   },
   {
    "duration": 4,
    "start_time": "2021-10-29T06:17:39.480Z"
   },
   {
    "duration": 30,
    "start_time": "2021-10-29T06:17:39.487Z"
   },
   {
    "duration": 8,
    "start_time": "2021-10-29T06:17:39.520Z"
   },
   {
    "duration": 38,
    "start_time": "2021-10-29T06:17:39.530Z"
   },
   {
    "duration": 5,
    "start_time": "2021-10-29T06:17:39.571Z"
   },
   {
    "duration": 11,
    "start_time": "2021-10-29T06:17:39.578Z"
   },
   {
    "duration": 36,
    "start_time": "2021-10-29T06:17:39.591Z"
   },
   {
    "duration": 3,
    "start_time": "2021-10-29T06:17:39.630Z"
   },
   {
    "duration": 20,
    "start_time": "2021-10-29T06:17:39.668Z"
   },
   {
    "duration": 40,
    "start_time": "2021-10-29T06:18:04.023Z"
   },
   {
    "duration": 290,
    "start_time": "2021-10-29T06:18:53.521Z"
   },
   {
    "duration": 8,
    "start_time": "2021-10-29T06:18:59.012Z"
   },
   {
    "duration": 35,
    "start_time": "2021-10-29T06:19:01.576Z"
   },
   {
    "duration": 34,
    "start_time": "2021-10-29T06:19:14.300Z"
   },
   {
    "duration": 106,
    "start_time": "2021-10-29T06:19:24.533Z"
   },
   {
    "duration": 4,
    "start_time": "2021-10-29T06:19:24.642Z"
   },
   {
    "duration": 46,
    "start_time": "2021-10-29T06:19:24.649Z"
   },
   {
    "duration": 5,
    "start_time": "2021-10-29T06:19:24.698Z"
   },
   {
    "duration": 10,
    "start_time": "2021-10-29T06:19:24.705Z"
   },
   {
    "duration": 5,
    "start_time": "2021-10-29T06:19:24.717Z"
   },
   {
    "duration": 44,
    "start_time": "2021-10-29T06:19:24.725Z"
   },
   {
    "duration": 33,
    "start_time": "2021-10-29T06:19:24.772Z"
   },
   {
    "duration": 3,
    "start_time": "2021-10-29T06:19:24.809Z"
   },
   {
    "duration": 52,
    "start_time": "2021-10-29T06:19:24.814Z"
   },
   {
    "duration": 295,
    "start_time": "2021-10-29T06:20:09.235Z"
   },
   {
    "duration": 36,
    "start_time": "2021-10-29T06:20:13.165Z"
   },
   {
    "duration": 9,
    "start_time": "2021-10-29T06:20:18.822Z"
   },
   {
    "duration": 38,
    "start_time": "2021-10-29T06:20:20.364Z"
   },
   {
    "duration": 115,
    "start_time": "2021-10-29T06:20:27.471Z"
   },
   {
    "duration": 5,
    "start_time": "2021-10-29T06:20:27.590Z"
   },
   {
    "duration": 30,
    "start_time": "2021-10-29T06:20:27.599Z"
   },
   {
    "duration": 35,
    "start_time": "2021-10-29T06:20:27.632Z"
   },
   {
    "duration": 11,
    "start_time": "2021-10-29T06:20:27.670Z"
   },
   {
    "duration": 6,
    "start_time": "2021-10-29T06:20:27.684Z"
   },
   {
    "duration": 11,
    "start_time": "2021-10-29T06:20:27.693Z"
   },
   {
    "duration": 73,
    "start_time": "2021-10-29T06:20:27.706Z"
   },
   {
    "duration": 4,
    "start_time": "2021-10-29T06:20:27.783Z"
   },
   {
    "duration": 41,
    "start_time": "2021-10-29T06:20:27.790Z"
   },
   {
    "duration": 14,
    "start_time": "2021-10-29T07:23:59.782Z"
   },
   {
    "duration": 849,
    "start_time": "2021-10-29T09:44:41.456Z"
   },
   {
    "duration": 13,
    "start_time": "2021-10-29T09:48:51.840Z"
   },
   {
    "duration": 20,
    "start_time": "2021-10-29T09:49:18.639Z"
   },
   {
    "duration": 112,
    "start_time": "2021-10-29T09:50:36.043Z"
   },
   {
    "duration": 4,
    "start_time": "2021-10-29T09:50:36.167Z"
   },
   {
    "duration": 30,
    "start_time": "2021-10-29T09:50:36.175Z"
   },
   {
    "duration": 21,
    "start_time": "2021-10-29T09:50:36.208Z"
   },
   {
    "duration": 35,
    "start_time": "2021-10-29T09:50:36.232Z"
   },
   {
    "duration": 6,
    "start_time": "2021-10-29T09:50:36.270Z"
   },
   {
    "duration": 5,
    "start_time": "2021-10-29T09:50:36.279Z"
   },
   {
    "duration": 5,
    "start_time": "2021-10-29T09:50:36.286Z"
   },
   {
    "duration": 291,
    "start_time": "2021-10-29T09:52:59.279Z"
   },
   {
    "duration": 10,
    "start_time": "2021-10-29T09:53:14.176Z"
   },
   {
    "duration": 20,
    "start_time": "2021-10-29T09:53:23.720Z"
   },
   {
    "duration": 279,
    "start_time": "2021-10-29T09:53:46.729Z"
   },
   {
    "duration": 348,
    "start_time": "2021-10-29T09:53:54.653Z"
   },
   {
    "duration": 298,
    "start_time": "2021-10-29T10:01:17.857Z"
   },
   {
    "duration": 314,
    "start_time": "2021-10-29T10:01:54.406Z"
   },
   {
    "duration": 296,
    "start_time": "2021-10-29T10:03:09.216Z"
   },
   {
    "duration": 9,
    "start_time": "2021-10-29T10:03:30.670Z"
   },
   {
    "duration": 284,
    "start_time": "2021-10-29T10:03:38.169Z"
   },
   {
    "duration": 20,
    "start_time": "2021-10-29T10:03:44.203Z"
   },
   {
    "duration": 312,
    "start_time": "2021-10-29T10:03:55.380Z"
   },
   {
    "duration": 300,
    "start_time": "2021-10-29T10:04:04.030Z"
   },
   {
    "duration": 19,
    "start_time": "2021-10-29T10:07:10.950Z"
   },
   {
    "duration": 34,
    "start_time": "2021-10-29T10:07:23.323Z"
   },
   {
    "duration": 10,
    "start_time": "2021-10-29T10:07:34.003Z"
   },
   {
    "duration": 14,
    "start_time": "2021-10-29T10:07:42.980Z"
   },
   {
    "duration": 10,
    "start_time": "2021-10-29T10:08:09.958Z"
   },
   {
    "duration": 8,
    "start_time": "2021-10-29T10:08:14.490Z"
   },
   {
    "duration": 10,
    "start_time": "2021-10-29T10:08:59.770Z"
   },
   {
    "duration": 8,
    "start_time": "2021-10-29T10:09:04.553Z"
   },
   {
    "duration": 10,
    "start_time": "2021-10-29T10:14:09.771Z"
   },
   {
    "duration": 14,
    "start_time": "2021-10-29T10:14:50.865Z"
   },
   {
    "duration": 9,
    "start_time": "2021-10-29T10:15:22.519Z"
   },
   {
    "duration": 10,
    "start_time": "2021-10-29T10:15:42.201Z"
   },
   {
    "duration": 9,
    "start_time": "2021-10-29T10:15:49.519Z"
   },
   {
    "duration": 6,
    "start_time": "2021-10-29T10:44:52.399Z"
   },
   {
    "duration": 14,
    "start_time": "2021-10-29T10:45:04.229Z"
   },
   {
    "duration": 7,
    "start_time": "2021-10-29T10:59:48.811Z"
   },
   {
    "duration": 1130,
    "start_time": "2021-10-29T10:59:55.049Z"
   },
   {
    "duration": 427,
    "start_time": "2021-10-29T11:00:03.837Z"
   },
   {
    "duration": 33,
    "start_time": "2021-10-29T11:10:22.191Z"
   },
   {
    "duration": 17,
    "start_time": "2021-10-29T11:10:38.874Z"
   },
   {
    "duration": 8,
    "start_time": "2021-10-29T11:10:44.873Z"
   },
   {
    "duration": 120,
    "start_time": "2021-10-29T11:11:20.757Z"
   },
   {
    "duration": 11,
    "start_time": "2021-10-29T11:11:24.708Z"
   },
   {
    "duration": 9,
    "start_time": "2021-10-29T11:11:32.748Z"
   },
   {
    "duration": 11,
    "start_time": "2021-10-29T11:15:53.594Z"
   },
   {
    "duration": 8,
    "start_time": "2021-10-29T11:16:18.976Z"
   },
   {
    "duration": 8,
    "start_time": "2021-10-29T11:16:36.924Z"
   },
   {
    "duration": 5445,
    "start_time": "2021-10-29T11:16:46.389Z"
   },
   {
    "duration": 5505,
    "start_time": "2021-10-29T11:19:00.321Z"
   },
   {
    "duration": 295,
    "start_time": "2021-10-29T11:19:10.817Z"
   },
   {
    "duration": 894,
    "start_time": "2021-10-30T08:35:45.783Z"
   },
   {
    "duration": 3,
    "start_time": "2021-10-30T08:35:46.680Z"
   },
   {
    "duration": 33,
    "start_time": "2021-10-30T08:35:46.686Z"
   },
   {
    "duration": 48,
    "start_time": "2021-10-30T08:35:46.721Z"
   },
   {
    "duration": 10,
    "start_time": "2021-10-30T08:35:46.771Z"
   },
   {
    "duration": 7,
    "start_time": "2021-10-30T08:35:46.784Z"
   },
   {
    "duration": 10,
    "start_time": "2021-10-30T08:35:46.794Z"
   },
   {
    "duration": 9,
    "start_time": "2021-10-30T08:35:46.807Z"
   },
   {
    "duration": 51,
    "start_time": "2021-10-30T08:35:46.819Z"
   },
   {
    "duration": 4,
    "start_time": "2021-10-30T08:35:46.873Z"
   },
   {
    "duration": 5,
    "start_time": "2021-10-30T08:35:46.880Z"
   },
   {
    "duration": 5,
    "start_time": "2021-10-30T08:35:46.888Z"
   },
   {
    "duration": 15,
    "start_time": "2021-10-30T08:37:13.597Z"
   },
   {
    "duration": 11,
    "start_time": "2021-10-30T08:37:59.260Z"
   },
   {
    "duration": 14,
    "start_time": "2021-10-30T08:41:31.196Z"
   },
   {
    "duration": 14,
    "start_time": "2021-10-30T08:43:45.985Z"
   },
   {
    "duration": 7,
    "start_time": "2021-10-30T08:43:56.899Z"
   },
   {
    "duration": 8,
    "start_time": "2021-10-30T08:46:16.621Z"
   },
   {
    "duration": 12,
    "start_time": "2021-10-30T08:47:47.757Z"
   },
   {
    "duration": 11,
    "start_time": "2021-10-30T08:47:53.364Z"
   },
   {
    "duration": 114,
    "start_time": "2021-10-30T08:49:37.100Z"
   },
   {
    "duration": 109,
    "start_time": "2021-10-30T08:49:54.017Z"
   },
   {
    "duration": 4,
    "start_time": "2021-10-30T08:49:54.129Z"
   },
   {
    "duration": 65,
    "start_time": "2021-10-30T08:49:54.136Z"
   },
   {
    "duration": 30,
    "start_time": "2021-10-30T08:49:54.204Z"
   },
   {
    "duration": 34,
    "start_time": "2021-10-30T08:49:54.237Z"
   },
   {
    "duration": 8,
    "start_time": "2021-10-30T08:49:54.273Z"
   },
   {
    "duration": 10,
    "start_time": "2021-10-30T08:49:54.284Z"
   },
   {
    "duration": 11,
    "start_time": "2021-10-30T08:49:54.297Z"
   },
   {
    "duration": 5,
    "start_time": "2021-10-30T08:49:54.312Z"
   },
   {
    "duration": 53,
    "start_time": "2021-10-30T08:49:54.320Z"
   },
   {
    "duration": 14,
    "start_time": "2021-10-30T08:49:54.376Z"
   },
   {
    "duration": 10,
    "start_time": "2021-10-30T08:49:54.392Z"
   },
   {
    "duration": 5,
    "start_time": "2021-10-30T08:49:54.404Z"
   },
   {
    "duration": 7,
    "start_time": "2021-10-30T08:49:54.412Z"
   },
   {
    "duration": 54,
    "start_time": "2021-10-30T08:49:54.422Z"
   },
   {
    "duration": 10,
    "start_time": "2021-10-30T08:51:55.988Z"
   },
   {
    "duration": 6,
    "start_time": "2021-10-30T08:52:10.391Z"
   },
   {
    "duration": 7,
    "start_time": "2021-10-30T08:52:15.624Z"
   },
   {
    "duration": 6,
    "start_time": "2021-10-30T08:52:24.067Z"
   },
   {
    "duration": 7,
    "start_time": "2021-10-30T08:52:24.772Z"
   },
   {
    "duration": 6,
    "start_time": "2021-10-30T08:52:37.937Z"
   },
   {
    "duration": 7,
    "start_time": "2021-10-30T08:52:38.407Z"
   },
   {
    "duration": 115,
    "start_time": "2021-10-30T08:53:04.279Z"
   },
   {
    "duration": 4,
    "start_time": "2021-10-30T08:53:04.396Z"
   },
   {
    "duration": 32,
    "start_time": "2021-10-30T08:53:04.403Z"
   },
   {
    "duration": 44,
    "start_time": "2021-10-30T08:53:04.438Z"
   },
   {
    "duration": 9,
    "start_time": "2021-10-30T08:53:04.485Z"
   },
   {
    "duration": 10,
    "start_time": "2021-10-30T08:53:04.497Z"
   },
   {
    "duration": 12,
    "start_time": "2021-10-30T08:53:04.509Z"
   },
   {
    "duration": 48,
    "start_time": "2021-10-30T08:53:04.523Z"
   },
   {
    "duration": 5,
    "start_time": "2021-10-30T08:53:04.575Z"
   },
   {
    "duration": 10,
    "start_time": "2021-10-30T08:53:04.583Z"
   },
   {
    "duration": 19,
    "start_time": "2021-10-30T08:53:04.595Z"
   },
   {
    "duration": 10,
    "start_time": "2021-10-30T08:53:04.616Z"
   },
   {
    "duration": 5,
    "start_time": "2021-10-30T08:53:04.668Z"
   },
   {
    "duration": 9,
    "start_time": "2021-10-30T08:53:04.676Z"
   },
   {
    "duration": 13,
    "start_time": "2021-10-30T08:53:04.687Z"
   },
   {
    "duration": 6,
    "start_time": "2021-10-30T08:53:04.703Z"
   },
   {
    "duration": 10,
    "start_time": "2021-10-30T08:53:04.711Z"
   },
   {
    "duration": 17,
    "start_time": "2021-10-30T08:53:26.083Z"
   },
   {
    "duration": 399,
    "start_time": "2021-10-30T08:53:40.388Z"
   },
   {
    "duration": 10,
    "start_time": "2021-10-30T08:53:46.597Z"
   },
   {
    "duration": 309,
    "start_time": "2021-10-30T08:53:58.124Z"
   },
   {
    "duration": 10,
    "start_time": "2021-10-30T08:54:05.686Z"
   },
   {
    "duration": 303,
    "start_time": "2021-10-30T08:54:14.690Z"
   },
   {
    "duration": 34,
    "start_time": "2021-10-30T08:54:49.364Z"
   },
   {
    "duration": 11,
    "start_time": "2021-10-30T08:54:55.256Z"
   },
   {
    "duration": 127,
    "start_time": "2021-10-30T08:55:05.374Z"
   },
   {
    "duration": 5,
    "start_time": "2021-10-30T08:55:05.505Z"
   },
   {
    "duration": 55,
    "start_time": "2021-10-30T08:55:05.514Z"
   },
   {
    "duration": 23,
    "start_time": "2021-10-30T08:55:05.573Z"
   },
   {
    "duration": 12,
    "start_time": "2021-10-30T08:55:05.599Z"
   },
   {
    "duration": 9,
    "start_time": "2021-10-30T08:55:05.614Z"
   },
   {
    "duration": 48,
    "start_time": "2021-10-30T08:55:05.626Z"
   },
   {
    "duration": 12,
    "start_time": "2021-10-30T08:55:05.677Z"
   },
   {
    "duration": 10,
    "start_time": "2021-10-30T08:55:05.695Z"
   },
   {
    "duration": 15,
    "start_time": "2021-10-30T08:55:05.708Z"
   },
   {
    "duration": 51,
    "start_time": "2021-10-30T08:55:05.726Z"
   },
   {
    "duration": 11,
    "start_time": "2021-10-30T08:55:05.780Z"
   },
   {
    "duration": 11,
    "start_time": "2021-10-30T08:55:05.794Z"
   },
   {
    "duration": 13,
    "start_time": "2021-10-30T08:55:05.807Z"
   },
   {
    "duration": 51,
    "start_time": "2021-10-30T08:55:05.822Z"
   },
   {
    "duration": 9,
    "start_time": "2021-10-30T08:55:05.875Z"
   },
   {
    "duration": 9,
    "start_time": "2021-10-30T08:55:05.887Z"
   },
   {
    "duration": 8,
    "start_time": "2021-10-30T08:55:05.899Z"
   },
   {
    "duration": 11,
    "start_time": "2021-10-30T08:55:05.909Z"
   },
   {
    "duration": 6,
    "start_time": "2021-10-30T08:56:17.519Z"
   },
   {
    "duration": 15,
    "start_time": "2021-10-30T08:56:22.639Z"
   },
   {
    "duration": 10,
    "start_time": "2021-10-30T09:00:02.866Z"
   },
   {
    "duration": 10,
    "start_time": "2021-10-30T09:09:00.596Z"
   },
   {
    "duration": 12,
    "start_time": "2021-10-30T09:10:46.508Z"
   },
   {
    "duration": 14,
    "start_time": "2021-10-30T09:10:54.987Z"
   },
   {
    "duration": 121,
    "start_time": "2021-10-30T09:11:33.312Z"
   },
   {
    "duration": 5,
    "start_time": "2021-10-30T09:11:33.435Z"
   },
   {
    "duration": 57,
    "start_time": "2021-10-30T09:11:33.444Z"
   },
   {
    "duration": 21,
    "start_time": "2021-10-30T09:11:33.505Z"
   },
   {
    "duration": 39,
    "start_time": "2021-10-30T09:11:33.528Z"
   },
   {
    "duration": 14,
    "start_time": "2021-10-30T09:11:33.570Z"
   },
   {
    "duration": 14,
    "start_time": "2021-10-30T09:11:33.586Z"
   },
   {
    "duration": 13,
    "start_time": "2021-10-30T09:11:33.602Z"
   },
   {
    "duration": 5,
    "start_time": "2021-10-30T09:11:33.619Z"
   },
   {
    "duration": 43,
    "start_time": "2021-10-30T09:11:33.626Z"
   },
   {
    "duration": 15,
    "start_time": "2021-10-30T09:11:33.671Z"
   },
   {
    "duration": 9,
    "start_time": "2021-10-30T09:11:33.688Z"
   },
   {
    "duration": 6,
    "start_time": "2021-10-30T09:11:33.699Z"
   },
   {
    "duration": 10,
    "start_time": "2021-10-30T09:11:33.707Z"
   },
   {
    "duration": 55,
    "start_time": "2021-10-30T09:11:33.719Z"
   },
   {
    "duration": 9,
    "start_time": "2021-10-30T09:11:33.777Z"
   },
   {
    "duration": 8,
    "start_time": "2021-10-30T09:11:33.788Z"
   },
   {
    "duration": 10,
    "start_time": "2021-10-30T09:11:33.799Z"
   },
   {
    "duration": 16,
    "start_time": "2021-10-30T09:11:33.812Z"
   },
   {
    "duration": 15,
    "start_time": "2021-10-30T09:12:04.881Z"
   },
   {
    "duration": 280,
    "start_time": "2021-10-30T09:12:10.403Z"
   },
   {
    "duration": 120,
    "start_time": "2021-10-30T09:12:27.361Z"
   },
   {
    "duration": 4,
    "start_time": "2021-10-30T09:12:27.483Z"
   },
   {
    "duration": 30,
    "start_time": "2021-10-30T09:12:27.491Z"
   },
   {
    "duration": 48,
    "start_time": "2021-10-30T09:12:27.524Z"
   },
   {
    "duration": 12,
    "start_time": "2021-10-30T09:12:27.575Z"
   },
   {
    "duration": 8,
    "start_time": "2021-10-30T09:12:27.590Z"
   },
   {
    "duration": 13,
    "start_time": "2021-10-30T09:12:27.600Z"
   },
   {
    "duration": 10,
    "start_time": "2021-10-30T09:12:27.615Z"
   },
   {
    "duration": 42,
    "start_time": "2021-10-30T09:12:27.629Z"
   },
   {
    "duration": 12,
    "start_time": "2021-10-30T09:12:27.674Z"
   },
   {
    "duration": 15,
    "start_time": "2021-10-30T09:12:27.688Z"
   },
   {
    "duration": 9,
    "start_time": "2021-10-30T09:12:27.705Z"
   },
   {
    "duration": 5,
    "start_time": "2021-10-30T09:12:27.716Z"
   },
   {
    "duration": 48,
    "start_time": "2021-10-30T09:12:27.723Z"
   },
   {
    "duration": 13,
    "start_time": "2021-10-30T09:12:27.774Z"
   },
   {
    "duration": 5,
    "start_time": "2021-10-30T09:12:27.790Z"
   },
   {
    "duration": 10,
    "start_time": "2021-10-30T09:12:27.797Z"
   },
   {
    "duration": 14,
    "start_time": "2021-10-30T09:12:27.809Z"
   },
   {
    "duration": 47,
    "start_time": "2021-10-30T09:12:27.825Z"
   },
   {
    "duration": 9,
    "start_time": "2021-10-30T09:12:42.661Z"
   },
   {
    "duration": 121,
    "start_time": "2021-10-30T09:17:51.484Z"
   },
   {
    "duration": 5,
    "start_time": "2021-10-30T09:17:51.608Z"
   },
   {
    "duration": 51,
    "start_time": "2021-10-30T09:17:51.616Z"
   },
   {
    "duration": 21,
    "start_time": "2021-10-30T09:17:51.670Z"
   },
   {
    "duration": 15,
    "start_time": "2021-10-30T09:17:51.693Z"
   },
   {
    "duration": 9,
    "start_time": "2021-10-30T09:17:51.711Z"
   },
   {
    "duration": 46,
    "start_time": "2021-10-30T09:17:51.722Z"
   },
   {
    "duration": 10,
    "start_time": "2021-10-30T09:17:51.772Z"
   },
   {
    "duration": 7,
    "start_time": "2021-10-30T09:17:51.785Z"
   },
   {
    "duration": 10,
    "start_time": "2021-10-30T09:17:51.795Z"
   },
   {
    "duration": 19,
    "start_time": "2021-10-30T09:17:51.808Z"
   },
   {
    "duration": 43,
    "start_time": "2021-10-30T09:17:51.829Z"
   },
   {
    "duration": 6,
    "start_time": "2021-10-30T09:17:51.874Z"
   },
   {
    "duration": 11,
    "start_time": "2021-10-30T09:17:51.882Z"
   },
   {
    "duration": 13,
    "start_time": "2021-10-30T09:17:51.895Z"
   },
   {
    "duration": 6,
    "start_time": "2021-10-30T09:17:51.911Z"
   },
   {
    "duration": 49,
    "start_time": "2021-10-30T09:17:51.919Z"
   },
   {
    "duration": 11,
    "start_time": "2021-10-30T09:17:51.970Z"
   },
   {
    "duration": 10,
    "start_time": "2021-10-30T09:17:51.983Z"
   },
   {
    "duration": 15,
    "start_time": "2021-10-30T09:47:24.549Z"
   },
   {
    "duration": 281,
    "start_time": "2021-10-30T10:23:08.657Z"
   },
   {
    "duration": 7215,
    "start_time": "2021-10-30T10:23:26.698Z"
   },
   {
    "duration": 34,
    "start_time": "2021-10-30T10:23:38.959Z"
   },
   {
    "duration": 3936,
    "start_time": "2021-10-30T10:25:19.788Z"
   },
   {
    "duration": 3979,
    "start_time": "2021-10-30T10:25:27.224Z"
   },
   {
    "duration": 298,
    "start_time": "2021-10-30T10:26:10.119Z"
   },
   {
    "duration": 3831,
    "start_time": "2021-10-30T10:26:35.072Z"
   },
   {
    "duration": 10,
    "start_time": "2021-10-30T10:26:54.382Z"
   },
   {
    "duration": 8,
    "start_time": "2021-10-30T10:27:01.393Z"
   },
   {
    "duration": 11,
    "start_time": "2021-10-30T10:27:41.687Z"
   },
   {
    "duration": 5,
    "start_time": "2021-10-30T10:31:26.397Z"
   },
   {
    "duration": 11,
    "start_time": "2021-10-30T10:31:53.498Z"
   },
   {
    "duration": 11,
    "start_time": "2021-10-30T11:16:46.854Z"
   },
   {
    "duration": 7471,
    "start_time": "2021-10-30T11:19:16.563Z"
   },
   {
    "duration": 6940,
    "start_time": "2021-10-30T11:19:36.350Z"
   },
   {
    "duration": 8,
    "start_time": "2021-10-30T11:19:44.432Z"
   },
   {
    "duration": 8121,
    "start_time": "2021-10-30T11:20:21.462Z"
   },
   {
    "duration": 99,
    "start_time": "2021-10-30T11:20:34.874Z"
   },
   {
    "duration": 89,
    "start_time": "2021-10-30T11:20:39.481Z"
   },
   {
    "duration": 6877,
    "start_time": "2021-10-30T11:20:42.169Z"
   },
   {
    "duration": 6,
    "start_time": "2021-10-30T11:21:40.613Z"
   },
   {
    "duration": 34,
    "start_time": "2021-10-30T11:28:08.653Z"
   },
   {
    "duration": 286,
    "start_time": "2021-10-30T11:29:15.710Z"
   },
   {
    "duration": 4,
    "start_time": "2021-10-30T11:29:22.859Z"
   },
   {
    "duration": 7423,
    "start_time": "2021-10-30T11:29:25.906Z"
   },
   {
    "duration": 12,
    "start_time": "2021-10-30T11:29:33.621Z"
   },
   {
    "duration": 8973,
    "start_time": "2021-10-30T11:31:12.461Z"
   },
   {
    "duration": -228,
    "start_time": "2021-10-30T11:31:21.665Z"
   },
   {
    "duration": 11,
    "start_time": "2021-10-30T11:35:23.945Z"
   },
   {
    "duration": 4,
    "start_time": "2021-10-30T11:36:32.795Z"
   },
   {
    "duration": 7918,
    "start_time": "2021-10-30T11:36:39.027Z"
   },
   {
    "duration": -197,
    "start_time": "2021-10-30T11:36:47.144Z"
   },
   {
    "duration": 8083,
    "start_time": "2021-10-30T11:37:13.520Z"
   },
   {
    "duration": 4,
    "start_time": "2021-10-30T11:38:39.628Z"
   },
   {
    "duration": 580,
    "start_time": "2021-10-30T11:38:43.221Z"
   },
   {
    "duration": 14,
    "start_time": "2021-10-30T11:38:51.884Z"
   },
   {
    "duration": 129,
    "start_time": "2021-10-30T11:40:08.369Z"
   },
   {
    "duration": 4,
    "start_time": "2021-10-30T11:40:08.501Z"
   },
   {
    "duration": 29,
    "start_time": "2021-10-30T11:40:08.508Z"
   },
   {
    "duration": 46,
    "start_time": "2021-10-30T11:40:08.540Z"
   },
   {
    "duration": 16,
    "start_time": "2021-10-30T11:40:08.588Z"
   },
   {
    "duration": 11,
    "start_time": "2021-10-30T11:40:08.606Z"
   },
   {
    "duration": 16,
    "start_time": "2021-10-30T11:40:08.619Z"
   },
   {
    "duration": 31,
    "start_time": "2021-10-30T11:40:08.639Z"
   },
   {
    "duration": 5,
    "start_time": "2021-10-30T11:40:08.673Z"
   },
   {
    "duration": 18,
    "start_time": "2021-10-30T11:40:08.681Z"
   },
   {
    "duration": 9,
    "start_time": "2021-10-30T11:40:08.702Z"
   },
   {
    "duration": 15,
    "start_time": "2021-10-30T11:40:08.713Z"
   },
   {
    "duration": 9,
    "start_time": "2021-10-30T11:40:08.768Z"
   },
   {
    "duration": 6,
    "start_time": "2021-10-30T11:40:08.779Z"
   },
   {
    "duration": 9,
    "start_time": "2021-10-30T11:40:08.787Z"
   },
   {
    "duration": 10,
    "start_time": "2021-10-30T11:40:08.799Z"
   },
   {
    "duration": 7,
    "start_time": "2021-10-30T11:40:08.811Z"
   },
   {
    "duration": 51,
    "start_time": "2021-10-30T11:40:08.820Z"
   },
   {
    "duration": 12,
    "start_time": "2021-10-30T11:40:08.874Z"
   },
   {
    "duration": 10,
    "start_time": "2021-10-30T11:40:08.888Z"
   },
   {
    "duration": 3851,
    "start_time": "2021-10-30T11:40:08.901Z"
   },
   {
    "duration": 6,
    "start_time": "2021-10-30T11:40:12.754Z"
   },
   {
    "duration": 10,
    "start_time": "2021-10-30T11:40:12.769Z"
   },
   {
    "duration": 6,
    "start_time": "2021-10-30T11:40:12.782Z"
   },
   {
    "duration": 24,
    "start_time": "2021-10-30T11:40:12.790Z"
   },
   {
    "duration": 14,
    "start_time": "2021-10-30T11:40:12.817Z"
   },
   {
    "duration": 10,
    "start_time": "2021-10-30T11:41:17.701Z"
   },
   {
    "duration": 34,
    "start_time": "2021-10-30T11:41:26.276Z"
   },
   {
    "duration": 131,
    "start_time": "2021-10-30T11:43:03.161Z"
   },
   {
    "duration": 4,
    "start_time": "2021-10-30T11:43:03.295Z"
   },
   {
    "duration": 31,
    "start_time": "2021-10-30T11:43:03.302Z"
   },
   {
    "duration": 45,
    "start_time": "2021-10-30T11:43:03.336Z"
   },
   {
    "duration": 9,
    "start_time": "2021-10-30T11:43:03.384Z"
   },
   {
    "duration": 10,
    "start_time": "2021-10-30T11:43:03.395Z"
   },
   {
    "duration": 23,
    "start_time": "2021-10-30T11:43:03.408Z"
   },
   {
    "duration": 47,
    "start_time": "2021-10-30T11:43:03.433Z"
   },
   {
    "duration": 7,
    "start_time": "2021-10-30T11:43:03.484Z"
   },
   {
    "duration": 17,
    "start_time": "2021-10-30T11:43:03.496Z"
   },
   {
    "duration": 11,
    "start_time": "2021-10-30T11:43:03.516Z"
   },
   {
    "duration": 53,
    "start_time": "2021-10-30T11:43:03.529Z"
   },
   {
    "duration": 9,
    "start_time": "2021-10-30T11:43:03.584Z"
   },
   {
    "duration": 8,
    "start_time": "2021-10-30T11:43:03.596Z"
   },
   {
    "duration": 11,
    "start_time": "2021-10-30T11:43:03.607Z"
   },
   {
    "duration": 47,
    "start_time": "2021-10-30T11:43:03.620Z"
   },
   {
    "duration": 6,
    "start_time": "2021-10-30T11:43:03.670Z"
   },
   {
    "duration": 12,
    "start_time": "2021-10-30T11:43:03.679Z"
   },
   {
    "duration": 12,
    "start_time": "2021-10-30T11:43:03.694Z"
   },
   {
    "duration": 10,
    "start_time": "2021-10-30T11:43:03.708Z"
   },
   {
    "duration": 3987,
    "start_time": "2021-10-30T11:43:03.720Z"
   },
   {
    "duration": 5,
    "start_time": "2021-10-30T11:43:07.709Z"
   },
   {
    "duration": 21,
    "start_time": "2021-10-30T11:43:07.716Z"
   },
   {
    "duration": 8,
    "start_time": "2021-10-30T11:43:07.739Z"
   },
   {
    "duration": 38,
    "start_time": "2021-10-30T11:43:07.749Z"
   },
   {
    "duration": 13,
    "start_time": "2021-10-30T11:43:07.790Z"
   },
   {
    "duration": 149,
    "start_time": "2021-10-30T11:43:25.671Z"
   },
   {
    "duration": 5,
    "start_time": "2021-10-30T11:43:25.822Z"
   },
   {
    "duration": 48,
    "start_time": "2021-10-30T11:43:25.829Z"
   },
   {
    "duration": 20,
    "start_time": "2021-10-30T11:43:25.879Z"
   },
   {
    "duration": 10,
    "start_time": "2021-10-30T11:43:25.901Z"
   },
   {
    "duration": 8,
    "start_time": "2021-10-30T11:43:25.914Z"
   },
   {
    "duration": 44,
    "start_time": "2021-10-30T11:43:25.925Z"
   },
   {
    "duration": 10,
    "start_time": "2021-10-30T11:43:25.973Z"
   },
   {
    "duration": 7,
    "start_time": "2021-10-30T11:43:25.986Z"
   },
   {
    "duration": 14,
    "start_time": "2021-10-30T11:43:25.995Z"
   },
   {
    "duration": 12,
    "start_time": "2021-10-30T11:43:26.012Z"
   },
   {
    "duration": 59,
    "start_time": "2021-10-30T11:43:26.026Z"
   },
   {
    "duration": 9,
    "start_time": "2021-10-30T11:43:26.087Z"
   },
   {
    "duration": 5,
    "start_time": "2021-10-30T11:43:26.098Z"
   },
   {
    "duration": 9,
    "start_time": "2021-10-30T11:43:26.106Z"
   },
   {
    "duration": 58,
    "start_time": "2021-10-30T11:43:26.117Z"
   },
   {
    "duration": 6,
    "start_time": "2021-10-30T11:43:26.178Z"
   },
   {
    "duration": 19,
    "start_time": "2021-10-30T11:43:26.187Z"
   },
   {
    "duration": 14,
    "start_time": "2021-10-30T11:43:26.209Z"
   },
   {
    "duration": 9,
    "start_time": "2021-10-30T11:43:26.226Z"
   },
   {
    "duration": 3897,
    "start_time": "2021-10-30T11:43:26.238Z"
   },
   {
    "duration": 5,
    "start_time": "2021-10-30T11:43:30.137Z"
   },
   {
    "duration": 31,
    "start_time": "2021-10-30T11:43:30.148Z"
   },
   {
    "duration": 15,
    "start_time": "2021-10-30T11:43:30.182Z"
   },
   {
    "duration": 603,
    "start_time": "2021-10-30T11:43:30.200Z"
   },
   {
    "duration": 14,
    "start_time": "2021-10-30T11:43:30.806Z"
   },
   {
    "duration": 113,
    "start_time": "2021-10-30T11:56:14.824Z"
   },
   {
    "duration": 4,
    "start_time": "2021-10-30T11:56:14.940Z"
   },
   {
    "duration": 47,
    "start_time": "2021-10-30T11:56:14.947Z"
   },
   {
    "duration": 19,
    "start_time": "2021-10-30T11:56:14.997Z"
   },
   {
    "duration": 9,
    "start_time": "2021-10-30T11:56:15.019Z"
   },
   {
    "duration": 40,
    "start_time": "2021-10-30T11:56:15.030Z"
   },
   {
    "duration": 9,
    "start_time": "2021-10-30T11:56:15.072Z"
   },
   {
    "duration": 13,
    "start_time": "2021-10-30T11:56:15.084Z"
   },
   {
    "duration": 11,
    "start_time": "2021-10-30T11:56:15.101Z"
   },
   {
    "duration": 20,
    "start_time": "2021-10-30T11:56:15.115Z"
   },
   {
    "duration": 33,
    "start_time": "2021-10-30T11:56:15.138Z"
   },
   {
    "duration": 21,
    "start_time": "2021-10-30T11:56:15.174Z"
   },
   {
    "duration": 11,
    "start_time": "2021-10-30T11:56:15.198Z"
   },
   {
    "duration": 10,
    "start_time": "2021-10-30T11:56:15.211Z"
   },
   {
    "duration": 14,
    "start_time": "2021-10-30T11:56:15.223Z"
   },
   {
    "duration": 10,
    "start_time": "2021-10-30T11:56:15.268Z"
   },
   {
    "duration": 16,
    "start_time": "2021-10-30T11:56:15.281Z"
   },
   {
    "duration": 18,
    "start_time": "2021-10-30T11:56:15.299Z"
   },
   {
    "duration": 16,
    "start_time": "2021-10-30T11:56:15.320Z"
   },
   {
    "duration": 10,
    "start_time": "2021-10-30T11:56:15.338Z"
   },
   {
    "duration": 4002,
    "start_time": "2021-10-30T11:56:15.351Z"
   },
   {
    "duration": 12,
    "start_time": "2021-10-30T11:56:19.355Z"
   },
   {
    "duration": 16,
    "start_time": "2021-10-30T11:56:19.369Z"
   },
   {
    "duration": 8,
    "start_time": "2021-10-30T11:56:19.387Z"
   },
   {
    "duration": 23,
    "start_time": "2021-10-30T11:56:19.397Z"
   },
   {
    "duration": 46,
    "start_time": "2021-10-30T11:56:19.422Z"
   },
   {
    "duration": 313,
    "start_time": "2021-10-30T13:24:23.806Z"
   },
   {
    "duration": 5,
    "start_time": "2021-10-30T13:24:24.121Z"
   },
   {
    "duration": 50,
    "start_time": "2021-10-30T13:24:24.129Z"
   },
   {
    "duration": 21,
    "start_time": "2021-10-30T13:24:24.182Z"
   },
   {
    "duration": 11,
    "start_time": "2021-10-30T13:24:24.205Z"
   },
   {
    "duration": 9,
    "start_time": "2021-10-30T13:24:24.218Z"
   },
   {
    "duration": 41,
    "start_time": "2021-10-30T13:24:24.229Z"
   },
   {
    "duration": 16,
    "start_time": "2021-10-30T13:24:24.273Z"
   },
   {
    "duration": 20,
    "start_time": "2021-10-30T13:24:24.293Z"
   },
   {
    "duration": 25,
    "start_time": "2021-10-30T13:24:24.316Z"
   },
   {
    "duration": 24,
    "start_time": "2021-10-30T13:24:24.343Z"
   },
   {
    "duration": 21,
    "start_time": "2021-10-30T13:24:24.370Z"
   },
   {
    "duration": 14,
    "start_time": "2021-10-30T13:24:24.394Z"
   },
   {
    "duration": 5,
    "start_time": "2021-10-30T13:24:24.411Z"
   },
   {
    "duration": 8,
    "start_time": "2021-10-30T13:24:24.418Z"
   },
   {
    "duration": 12,
    "start_time": "2021-10-30T13:24:24.468Z"
   },
   {
    "duration": 6,
    "start_time": "2021-10-30T13:24:24.482Z"
   },
   {
    "duration": 7,
    "start_time": "2021-10-30T13:24:24.491Z"
   },
   {
    "duration": 11,
    "start_time": "2021-10-30T13:24:24.501Z"
   },
   {
    "duration": 52,
    "start_time": "2021-10-30T13:24:24.514Z"
   },
   {
    "duration": 3855,
    "start_time": "2021-10-30T13:24:24.569Z"
   },
   {
    "duration": 5,
    "start_time": "2021-10-30T13:24:28.426Z"
   },
   {
    "duration": 13,
    "start_time": "2021-10-30T13:24:28.434Z"
   },
   {
    "duration": 4,
    "start_time": "2021-10-30T13:24:28.468Z"
   },
   {
    "duration": 5,
    "start_time": "2021-10-30T13:24:28.474Z"
   },
   {
    "duration": 310,
    "start_time": "2021-10-30T13:25:33.962Z"
   },
   {
    "duration": 9,
    "start_time": "2021-10-30T13:25:49.411Z"
   },
   {
    "duration": 108,
    "start_time": "2021-10-30T13:30:13.817Z"
   },
   {
    "duration": 5,
    "start_time": "2021-10-30T13:30:13.929Z"
   },
   {
    "duration": 53,
    "start_time": "2021-10-30T13:30:13.938Z"
   },
   {
    "duration": 22,
    "start_time": "2021-10-30T13:30:13.994Z"
   },
   {
    "duration": 16,
    "start_time": "2021-10-30T13:30:14.019Z"
   },
   {
    "duration": 32,
    "start_time": "2021-10-30T13:30:14.037Z"
   },
   {
    "duration": 17,
    "start_time": "2021-10-30T13:30:14.072Z"
   },
   {
    "duration": 12,
    "start_time": "2021-10-30T13:30:14.091Z"
   },
   {
    "duration": 6,
    "start_time": "2021-10-30T13:30:14.106Z"
   },
   {
    "duration": 18,
    "start_time": "2021-10-30T13:30:14.114Z"
   },
   {
    "duration": 38,
    "start_time": "2021-10-30T13:30:14.134Z"
   },
   {
    "duration": 17,
    "start_time": "2021-10-30T13:30:14.176Z"
   },
   {
    "duration": 9,
    "start_time": "2021-10-30T13:30:14.196Z"
   },
   {
    "duration": 6,
    "start_time": "2021-10-30T13:30:14.208Z"
   },
   {
    "duration": 55,
    "start_time": "2021-10-30T13:30:14.216Z"
   },
   {
    "duration": 13,
    "start_time": "2021-10-30T13:30:14.273Z"
   },
   {
    "duration": 6,
    "start_time": "2021-10-30T13:30:14.288Z"
   },
   {
    "duration": 8,
    "start_time": "2021-10-30T13:30:14.296Z"
   },
   {
    "duration": 11,
    "start_time": "2021-10-30T13:30:14.306Z"
   },
   {
    "duration": 50,
    "start_time": "2021-10-30T13:30:14.320Z"
   },
   {
    "duration": 4004,
    "start_time": "2021-10-30T13:30:14.373Z"
   },
   {
    "duration": 6,
    "start_time": "2021-10-30T13:30:18.379Z"
   },
   {
    "duration": 17,
    "start_time": "2021-10-30T13:30:18.387Z"
   },
   {
    "duration": 5,
    "start_time": "2021-10-30T13:30:18.407Z"
   },
   {
    "duration": 6,
    "start_time": "2021-10-30T13:30:18.414Z"
   },
   {
    "duration": 44,
    "start_time": "2021-10-30T13:30:18.423Z"
   },
   {
    "duration": 38,
    "start_time": "2021-10-30T13:30:18.471Z"
   },
   {
    "duration": 320,
    "start_time": "2021-10-30T13:33:17.837Z"
   },
   {
    "duration": 27,
    "start_time": "2021-10-30T13:33:36.329Z"
   },
   {
    "duration": 569,
    "start_time": "2021-10-30T13:35:27.345Z"
   },
   {
    "duration": 110,
    "start_time": "2021-10-30T13:35:56.911Z"
   },
   {
    "duration": 4,
    "start_time": "2021-10-30T13:35:57.024Z"
   },
   {
    "duration": 50,
    "start_time": "2021-10-30T13:35:57.031Z"
   },
   {
    "duration": 21,
    "start_time": "2021-10-30T13:35:57.084Z"
   },
   {
    "duration": 9,
    "start_time": "2021-10-30T13:35:57.108Z"
   },
   {
    "duration": 8,
    "start_time": "2021-10-30T13:35:57.120Z"
   },
   {
    "duration": 45,
    "start_time": "2021-10-30T13:35:57.130Z"
   },
   {
    "duration": 12,
    "start_time": "2021-10-30T13:35:57.179Z"
   },
   {
    "duration": 6,
    "start_time": "2021-10-30T13:35:57.194Z"
   },
   {
    "duration": 16,
    "start_time": "2021-10-30T13:35:57.202Z"
   },
   {
    "duration": 10,
    "start_time": "2021-10-30T13:35:57.220Z"
   },
   {
    "duration": 13,
    "start_time": "2021-10-30T13:35:57.268Z"
   },
   {
    "duration": 10,
    "start_time": "2021-10-30T13:35:57.285Z"
   },
   {
    "duration": 6,
    "start_time": "2021-10-30T13:35:57.298Z"
   },
   {
    "duration": 12,
    "start_time": "2021-10-30T13:35:57.306Z"
   },
   {
    "duration": 54,
    "start_time": "2021-10-30T13:35:57.321Z"
   },
   {
    "duration": 6,
    "start_time": "2021-10-30T13:35:57.377Z"
   },
   {
    "duration": 8,
    "start_time": "2021-10-30T13:35:57.385Z"
   },
   {
    "duration": 12,
    "start_time": "2021-10-30T13:35:57.395Z"
   },
   {
    "duration": 10,
    "start_time": "2021-10-30T13:35:57.409Z"
   },
   {
    "duration": 3889,
    "start_time": "2021-10-30T13:35:57.421Z"
   },
   {
    "duration": 5,
    "start_time": "2021-10-30T13:36:01.312Z"
   },
   {
    "duration": 30,
    "start_time": "2021-10-30T13:36:01.322Z"
   },
   {
    "duration": 26,
    "start_time": "2021-10-30T13:36:01.354Z"
   },
   {
    "duration": 18,
    "start_time": "2021-10-30T13:36:01.382Z"
   },
   {
    "duration": 32,
    "start_time": "2021-10-30T13:36:01.402Z"
   },
   {
    "duration": 39,
    "start_time": "2021-10-30T13:36:01.436Z"
   },
   {
    "duration": 302,
    "start_time": "2021-10-30T13:36:01.477Z"
   },
   {
    "duration": 281,
    "start_time": "2021-10-30T13:36:14.018Z"
   },
   {
    "duration": 311,
    "start_time": "2021-10-30T13:37:12.213Z"
   },
   {
    "duration": 24,
    "start_time": "2021-10-30T13:37:18.206Z"
   },
   {
    "duration": 541,
    "start_time": "2021-10-30T13:44:07.101Z"
   },
   {
    "duration": 637,
    "start_time": "2021-10-30T13:44:17.682Z"
   },
   {
    "duration": 689,
    "start_time": "2021-10-30T13:45:20.884Z"
   },
   {
    "duration": 875,
    "start_time": "2021-10-30T13:55:51.644Z"
   },
   {
    "duration": 584,
    "start_time": "2021-10-30T13:57:49.812Z"
   },
   {
    "duration": 62,
    "start_time": "2021-10-30T14:07:39.396Z"
   },
   {
    "duration": 65,
    "start_time": "2021-10-30T14:08:28.014Z"
   },
   {
    "duration": 527,
    "start_time": "2021-10-30T14:08:58.109Z"
   },
   {
    "duration": 2965,
    "start_time": "2021-10-30T14:09:12.102Z"
   },
   {
    "duration": 66,
    "start_time": "2021-10-30T14:09:34.116Z"
   },
   {
    "duration": 23,
    "start_time": "2021-10-30T14:11:10.892Z"
   },
   {
    "duration": 295,
    "start_time": "2021-10-30T14:11:24.926Z"
   },
   {
    "duration": 23,
    "start_time": "2021-10-30T14:11:52.176Z"
   },
   {
    "duration": 125,
    "start_time": "2021-10-30T15:29:54.481Z"
   },
   {
    "duration": 4,
    "start_time": "2021-10-30T15:29:54.609Z"
   },
   {
    "duration": 52,
    "start_time": "2021-10-30T15:29:54.615Z"
   },
   {
    "duration": 21,
    "start_time": "2021-10-30T15:29:54.670Z"
   },
   {
    "duration": 10,
    "start_time": "2021-10-30T15:29:54.694Z"
   },
   {
    "duration": 10,
    "start_time": "2021-10-30T15:29:54.706Z"
   },
   {
    "duration": 48,
    "start_time": "2021-10-30T15:29:54.719Z"
   },
   {
    "duration": 11,
    "start_time": "2021-10-30T15:29:54.772Z"
   },
   {
    "duration": 7,
    "start_time": "2021-10-30T15:29:54.787Z"
   },
   {
    "duration": 15,
    "start_time": "2021-10-30T15:29:54.796Z"
   },
   {
    "duration": 9,
    "start_time": "2021-10-30T15:29:54.814Z"
   },
   {
    "duration": 53,
    "start_time": "2021-10-30T15:29:54.826Z"
   },
   {
    "duration": 10,
    "start_time": "2021-10-30T15:29:54.881Z"
   },
   {
    "duration": 6,
    "start_time": "2021-10-30T15:29:54.893Z"
   },
   {
    "duration": 9,
    "start_time": "2021-10-30T15:29:54.901Z"
   },
   {
    "duration": 56,
    "start_time": "2021-10-30T15:29:54.913Z"
   },
   {
    "duration": 6,
    "start_time": "2021-10-30T15:29:54.971Z"
   },
   {
    "duration": 8,
    "start_time": "2021-10-30T15:29:54.979Z"
   },
   {
    "duration": 14,
    "start_time": "2021-10-30T15:29:54.989Z"
   },
   {
    "duration": 11,
    "start_time": "2021-10-30T15:29:55.005Z"
   },
   {
    "duration": 3961,
    "start_time": "2021-10-30T15:29:55.018Z"
   },
   {
    "duration": 5,
    "start_time": "2021-10-30T15:29:58.981Z"
   },
   {
    "duration": 17,
    "start_time": "2021-10-30T15:29:58.990Z"
   },
   {
    "duration": 4,
    "start_time": "2021-10-30T15:29:59.010Z"
   },
   {
    "duration": 5266,
    "start_time": "2021-10-30T15:29:59.016Z"
   },
   {
    "duration": 96,
    "start_time": "2021-10-30T15:30:04.189Z"
   },
   {
    "duration": 95,
    "start_time": "2021-10-30T15:30:04.191Z"
   },
   {
    "duration": 96,
    "start_time": "2021-10-30T15:30:04.192Z"
   },
   {
    "duration": 95,
    "start_time": "2021-10-30T15:30:04.194Z"
   },
   {
    "duration": 22,
    "start_time": "2021-10-30T15:30:58.126Z"
   },
   {
    "duration": 98,
    "start_time": "2021-10-30T15:31:06.259Z"
   },
   {
    "duration": 21,
    "start_time": "2021-10-30T15:31:09.154Z"
   },
   {
    "duration": 11,
    "start_time": "2021-10-30T15:31:36.632Z"
   },
   {
    "duration": 10,
    "start_time": "2021-10-30T15:31:54.055Z"
   },
   {
    "duration": 21,
    "start_time": "2021-10-30T15:32:00.338Z"
   },
   {
    "duration": 112,
    "start_time": "2021-10-30T15:32:21.308Z"
   },
   {
    "duration": 4,
    "start_time": "2021-10-30T15:32:21.422Z"
   },
   {
    "duration": 46,
    "start_time": "2021-10-30T15:32:21.429Z"
   },
   {
    "duration": 22,
    "start_time": "2021-10-30T15:32:21.478Z"
   },
   {
    "duration": 10,
    "start_time": "2021-10-30T15:32:21.503Z"
   },
   {
    "duration": 8,
    "start_time": "2021-10-30T15:32:21.516Z"
   },
   {
    "duration": 41,
    "start_time": "2021-10-30T15:32:21.527Z"
   },
   {
    "duration": 11,
    "start_time": "2021-10-30T15:32:21.571Z"
   },
   {
    "duration": 6,
    "start_time": "2021-10-30T15:32:21.586Z"
   },
   {
    "duration": 15,
    "start_time": "2021-10-30T15:32:21.595Z"
   },
   {
    "duration": 9,
    "start_time": "2021-10-30T15:32:21.614Z"
   },
   {
    "duration": 60,
    "start_time": "2021-10-30T15:32:21.625Z"
   },
   {
    "duration": 8,
    "start_time": "2021-10-30T15:32:21.687Z"
   },
   {
    "duration": 14,
    "start_time": "2021-10-30T15:32:21.698Z"
   },
   {
    "duration": 11,
    "start_time": "2021-10-30T15:32:21.715Z"
   },
   {
    "duration": 38,
    "start_time": "2021-10-30T15:32:21.729Z"
   },
   {
    "duration": 7,
    "start_time": "2021-10-30T15:32:21.770Z"
   },
   {
    "duration": 11,
    "start_time": "2021-10-30T15:32:21.779Z"
   },
   {
    "duration": 13,
    "start_time": "2021-10-30T15:32:21.793Z"
   },
   {
    "duration": 10,
    "start_time": "2021-10-30T15:32:21.809Z"
   },
   {
    "duration": 3976,
    "start_time": "2021-10-30T15:32:21.822Z"
   },
   {
    "duration": 5,
    "start_time": "2021-10-30T15:32:25.800Z"
   },
   {
    "duration": 18,
    "start_time": "2021-10-30T15:32:25.808Z"
   },
   {
    "duration": 5,
    "start_time": "2021-10-30T15:32:25.828Z"
   },
   {
    "duration": 37,
    "start_time": "2021-10-30T15:32:25.836Z"
   },
   {
    "duration": 7,
    "start_time": "2021-10-30T15:32:25.876Z"
   },
   {
    "duration": 35,
    "start_time": "2021-10-30T15:32:25.887Z"
   },
   {
    "duration": 626,
    "start_time": "2021-10-30T15:32:25.925Z"
   },
   {
    "duration": 32,
    "start_time": "2021-10-30T15:32:26.554Z"
   },
   {
    "duration": 23,
    "start_time": "2021-10-30T15:37:16.385Z"
   },
   {
    "duration": 5233,
    "start_time": "2021-10-30T15:37:41.802Z"
   },
   {
    "duration": 21,
    "start_time": "2021-10-30T15:38:00.967Z"
   },
   {
    "duration": 15,
    "start_time": "2021-10-30T15:39:25.772Z"
   },
   {
    "duration": 11,
    "start_time": "2021-10-30T15:39:35.856Z"
   },
   {
    "duration": 21,
    "start_time": "2021-10-30T15:40:21.849Z"
   },
   {
    "duration": 11,
    "start_time": "2021-10-30T15:40:31.091Z"
   },
   {
    "duration": 23,
    "start_time": "2021-10-30T15:40:40.095Z"
   },
   {
    "duration": 12,
    "start_time": "2021-10-30T15:41:18.415Z"
   },
   {
    "duration": 116,
    "start_time": "2021-10-30T15:41:52.312Z"
   },
   {
    "duration": 41,
    "start_time": "2021-10-30T15:42:00.998Z"
   },
   {
    "duration": 20,
    "start_time": "2021-10-30T15:42:24.316Z"
   },
   {
    "duration": 13,
    "start_time": "2021-10-30T15:42:37.012Z"
   },
   {
    "duration": 109,
    "start_time": "2021-10-30T15:43:25.310Z"
   },
   {
    "duration": 4,
    "start_time": "2021-10-30T15:43:25.421Z"
   },
   {
    "duration": 54,
    "start_time": "2021-10-30T15:43:25.428Z"
   },
   {
    "duration": 19,
    "start_time": "2021-10-30T15:43:25.485Z"
   },
   {
    "duration": 13,
    "start_time": "2021-10-30T15:43:25.506Z"
   },
   {
    "duration": 10,
    "start_time": "2021-10-30T15:43:25.521Z"
   },
   {
    "duration": 34,
    "start_time": "2021-10-30T15:43:25.534Z"
   },
   {
    "duration": 11,
    "start_time": "2021-10-30T15:43:25.572Z"
   },
   {
    "duration": 6,
    "start_time": "2021-10-30T15:43:25.586Z"
   },
   {
    "duration": 28,
    "start_time": "2021-10-30T15:43:25.594Z"
   },
   {
    "duration": 10,
    "start_time": "2021-10-30T15:43:25.625Z"
   },
   {
    "duration": 15,
    "start_time": "2021-10-30T15:43:25.666Z"
   },
   {
    "duration": 8,
    "start_time": "2021-10-30T15:43:25.684Z"
   },
   {
    "duration": 6,
    "start_time": "2021-10-30T15:43:25.695Z"
   },
   {
    "duration": 10,
    "start_time": "2021-10-30T15:43:25.703Z"
   },
   {
    "duration": 57,
    "start_time": "2021-10-30T15:43:25.716Z"
   },
   {
    "duration": 9,
    "start_time": "2021-10-30T15:43:25.775Z"
   },
   {
    "duration": 15,
    "start_time": "2021-10-30T15:43:25.787Z"
   },
   {
    "duration": 13,
    "start_time": "2021-10-30T15:43:25.805Z"
   },
   {
    "duration": 10,
    "start_time": "2021-10-30T15:43:25.820Z"
   },
   {
    "duration": 3890,
    "start_time": "2021-10-30T15:43:25.832Z"
   },
   {
    "duration": 5,
    "start_time": "2021-10-30T15:43:29.724Z"
   },
   {
    "duration": 33,
    "start_time": "2021-10-30T15:43:29.736Z"
   },
   {
    "duration": 17,
    "start_time": "2021-10-30T15:43:29.772Z"
   },
   {
    "duration": 4,
    "start_time": "2021-10-30T15:43:29.791Z"
   },
   {
    "duration": 25,
    "start_time": "2021-10-30T15:43:29.797Z"
   },
   {
    "duration": 50,
    "start_time": "2021-10-30T15:43:29.825Z"
   },
   {
    "duration": 6,
    "start_time": "2021-10-30T15:43:29.877Z"
   },
   {
    "duration": 40,
    "start_time": "2021-10-30T15:43:29.885Z"
   },
   {
    "duration": 661,
    "start_time": "2021-10-30T15:43:29.928Z"
   },
   {
    "duration": 24,
    "start_time": "2021-10-30T15:43:30.592Z"
   },
   {
    "duration": 16,
    "start_time": "2021-10-30T15:45:41.378Z"
   },
   {
    "duration": 98,
    "start_time": "2021-10-30T15:48:16.582Z"
   },
   {
    "duration": 38,
    "start_time": "2021-10-30T15:48:21.183Z"
   },
   {
    "duration": 36,
    "start_time": "2021-10-30T15:48:31.952Z"
   },
   {
    "duration": 29,
    "start_time": "2021-10-30T15:52:51.488Z"
   },
   {
    "duration": 37,
    "start_time": "2021-10-30T15:53:01.209Z"
   },
   {
    "duration": 290,
    "start_time": "2021-10-30T15:56:53.706Z"
   },
   {
    "duration": 330,
    "start_time": "2021-10-30T15:57:01.016Z"
   },
   {
    "duration": 4,
    "start_time": "2021-10-30T15:57:07.965Z"
   },
   {
    "duration": 9,
    "start_time": "2021-10-30T15:57:13.276Z"
   },
   {
    "duration": 5,
    "start_time": "2021-10-30T15:58:13.789Z"
   },
   {
    "duration": 5,
    "start_time": "2021-10-30T15:58:20.648Z"
   },
   {
    "duration": 105,
    "start_time": "2021-10-30T15:58:28.004Z"
   },
   {
    "duration": 5,
    "start_time": "2021-10-30T15:58:39.913Z"
   },
   {
    "duration": 5,
    "start_time": "2021-10-30T16:00:02.134Z"
   },
   {
    "duration": 8,
    "start_time": "2021-10-30T16:01:08.931Z"
   },
   {
    "duration": 9,
    "start_time": "2021-10-30T16:01:31.220Z"
   },
   {
    "duration": 11,
    "start_time": "2021-10-30T16:04:45.471Z"
   },
   {
    "duration": 37,
    "start_time": "2021-10-30T16:04:59.500Z"
   },
   {
    "duration": 12,
    "start_time": "2021-10-30T16:05:16.272Z"
   },
   {
    "duration": 349,
    "start_time": "2021-10-30T16:05:30.608Z"
   },
   {
    "duration": 4,
    "start_time": "2021-10-30T16:05:33.449Z"
   },
   {
    "duration": 561,
    "start_time": "2021-10-30T16:05:35.401Z"
   },
   {
    "duration": 4,
    "start_time": "2021-10-30T16:05:58.516Z"
   },
   {
    "duration": 160,
    "start_time": "2021-10-30T16:06:00.307Z"
   },
   {
    "duration": 133,
    "start_time": "2021-10-30T16:06:37.947Z"
   },
   {
    "duration": 4,
    "start_time": "2021-10-30T16:06:38.083Z"
   },
   {
    "duration": 40,
    "start_time": "2021-10-30T16:06:38.091Z"
   },
   {
    "duration": 40,
    "start_time": "2021-10-30T16:06:38.135Z"
   },
   {
    "duration": 10,
    "start_time": "2021-10-30T16:06:38.177Z"
   },
   {
    "duration": 9,
    "start_time": "2021-10-30T16:06:38.190Z"
   },
   {
    "duration": 13,
    "start_time": "2021-10-30T16:06:38.203Z"
   },
   {
    "duration": 10,
    "start_time": "2021-10-30T16:06:38.266Z"
   },
   {
    "duration": 7,
    "start_time": "2021-10-30T16:06:38.279Z"
   },
   {
    "duration": 14,
    "start_time": "2021-10-30T16:06:38.289Z"
   },
   {
    "duration": 11,
    "start_time": "2021-10-30T16:06:38.305Z"
   },
   {
    "duration": 50,
    "start_time": "2021-10-30T16:06:38.318Z"
   },
   {
    "duration": 13,
    "start_time": "2021-10-30T16:06:38.371Z"
   },
   {
    "duration": 5,
    "start_time": "2021-10-30T16:06:38.387Z"
   },
   {
    "duration": 9,
    "start_time": "2021-10-30T16:06:38.394Z"
   },
   {
    "duration": 16,
    "start_time": "2021-10-30T16:06:38.405Z"
   },
   {
    "duration": 44,
    "start_time": "2021-10-30T16:06:38.423Z"
   },
   {
    "duration": 10,
    "start_time": "2021-10-30T16:06:38.469Z"
   },
   {
    "duration": 12,
    "start_time": "2021-10-30T16:06:38.481Z"
   },
   {
    "duration": 12,
    "start_time": "2021-10-30T16:06:38.496Z"
   },
   {
    "duration": 3860,
    "start_time": "2021-10-30T16:06:38.510Z"
   },
   {
    "duration": 5,
    "start_time": "2021-10-30T16:06:42.372Z"
   },
   {
    "duration": 13,
    "start_time": "2021-10-30T16:06:42.381Z"
   },
   {
    "duration": 8,
    "start_time": "2021-10-30T16:06:42.396Z"
   },
   {
    "duration": 22,
    "start_time": "2021-10-30T16:06:42.406Z"
   },
   {
    "duration": 46,
    "start_time": "2021-10-30T16:06:42.431Z"
   },
   {
    "duration": 39,
    "start_time": "2021-10-30T16:06:42.480Z"
   },
   {
    "duration": 56,
    "start_time": "2021-10-30T16:06:42.522Z"
   },
   {
    "duration": 5,
    "start_time": "2021-10-30T16:06:42.581Z"
   },
   {
    "duration": 183,
    "start_time": "2021-10-30T16:06:42.589Z"
   },
   {
    "duration": 24,
    "start_time": "2021-10-30T16:06:42.774Z"
   },
   {
    "duration": 7,
    "start_time": "2021-10-30T16:06:42.801Z"
   },
   {
    "duration": 76,
    "start_time": "2021-10-30T16:06:42.811Z"
   },
   {
    "duration": 706,
    "start_time": "2021-10-30T16:06:42.890Z"
   },
   {
    "duration": 26,
    "start_time": "2021-10-30T16:06:43.598Z"
   },
   {
    "duration": 115,
    "start_time": "2021-10-30T16:08:48.614Z"
   },
   {
    "duration": 4,
    "start_time": "2021-10-30T16:08:48.731Z"
   },
   {
    "duration": 53,
    "start_time": "2021-10-30T16:08:48.739Z"
   },
   {
    "duration": 20,
    "start_time": "2021-10-30T16:08:48.794Z"
   },
   {
    "duration": 17,
    "start_time": "2021-10-30T16:08:48.816Z"
   },
   {
    "duration": 33,
    "start_time": "2021-10-30T16:08:48.835Z"
   },
   {
    "duration": 9,
    "start_time": "2021-10-30T16:08:48.871Z"
   },
   {
    "duration": 15,
    "start_time": "2021-10-30T16:08:48.884Z"
   },
   {
    "duration": 7,
    "start_time": "2021-10-30T16:08:48.902Z"
   },
   {
    "duration": 16,
    "start_time": "2021-10-30T16:08:48.911Z"
   },
   {
    "duration": 40,
    "start_time": "2021-10-30T16:08:48.929Z"
   },
   {
    "duration": 14,
    "start_time": "2021-10-30T16:08:48.972Z"
   },
   {
    "duration": 10,
    "start_time": "2021-10-30T16:08:48.989Z"
   },
   {
    "duration": 6,
    "start_time": "2021-10-30T16:08:49.001Z"
   },
   {
    "duration": 9,
    "start_time": "2021-10-30T16:08:49.010Z"
   },
   {
    "duration": 56,
    "start_time": "2021-10-30T16:08:49.021Z"
   },
   {
    "duration": 6,
    "start_time": "2021-10-30T16:08:49.080Z"
   },
   {
    "duration": 10,
    "start_time": "2021-10-30T16:08:49.088Z"
   },
   {
    "duration": 10,
    "start_time": "2021-10-30T16:08:49.100Z"
   },
   {
    "duration": 10,
    "start_time": "2021-10-30T16:08:49.113Z"
   },
   {
    "duration": 4175,
    "start_time": "2021-10-30T16:08:49.125Z"
   },
   {
    "duration": 5,
    "start_time": "2021-10-30T16:08:53.302Z"
   },
   {
    "duration": 11,
    "start_time": "2021-10-30T16:08:53.312Z"
   },
   {
    "duration": 5,
    "start_time": "2021-10-30T16:08:53.326Z"
   },
   {
    "duration": 53,
    "start_time": "2021-10-30T16:08:53.333Z"
   },
   {
    "duration": 14,
    "start_time": "2021-10-30T16:08:53.388Z"
   },
   {
    "duration": 34,
    "start_time": "2021-10-30T16:08:53.405Z"
   },
   {
    "duration": 5,
    "start_time": "2021-10-30T16:08:53.467Z"
   },
   {
    "duration": 164,
    "start_time": "2021-10-30T16:08:53.475Z"
   },
   {
    "duration": 29,
    "start_time": "2021-10-30T16:08:53.641Z"
   },
   {
    "duration": 6,
    "start_time": "2021-10-30T16:08:53.672Z"
   },
   {
    "duration": 38,
    "start_time": "2021-10-30T16:08:53.680Z"
   },
   {
    "duration": 708,
    "start_time": "2021-10-30T16:08:53.721Z"
   },
   {
    "duration": 37,
    "start_time": "2021-10-30T16:08:54.432Z"
   },
   {
    "duration": 975,
    "start_time": "2021-10-31T09:06:56.049Z"
   },
   {
    "duration": 4,
    "start_time": "2021-10-31T09:06:57.027Z"
   },
   {
    "duration": 57,
    "start_time": "2021-10-31T09:06:57.033Z"
   },
   {
    "duration": 20,
    "start_time": "2021-10-31T09:06:57.094Z"
   },
   {
    "duration": 9,
    "start_time": "2021-10-31T09:06:57.116Z"
   },
   {
    "duration": 8,
    "start_time": "2021-10-31T09:06:57.127Z"
   },
   {
    "duration": 9,
    "start_time": "2021-10-31T09:06:57.168Z"
   },
   {
    "duration": 9,
    "start_time": "2021-10-31T09:06:57.181Z"
   },
   {
    "duration": 6,
    "start_time": "2021-10-31T09:06:57.193Z"
   },
   {
    "duration": 16,
    "start_time": "2021-10-31T09:06:57.201Z"
   },
   {
    "duration": 51,
    "start_time": "2021-10-31T09:06:57.219Z"
   },
   {
    "duration": 16,
    "start_time": "2021-10-31T09:06:57.272Z"
   },
   {
    "duration": 15,
    "start_time": "2021-10-31T09:06:57.290Z"
   },
   {
    "duration": 6,
    "start_time": "2021-10-31T09:06:57.307Z"
   },
   {
    "duration": 17,
    "start_time": "2021-10-31T09:06:57.315Z"
   },
   {
    "duration": 38,
    "start_time": "2021-10-31T09:06:57.335Z"
   },
   {
    "duration": 6,
    "start_time": "2021-10-31T09:06:57.376Z"
   },
   {
    "duration": 11,
    "start_time": "2021-10-31T09:06:57.384Z"
   },
   {
    "duration": 12,
    "start_time": "2021-10-31T09:06:57.398Z"
   },
   {
    "duration": 10,
    "start_time": "2021-10-31T09:06:57.413Z"
   },
   {
    "duration": 4457,
    "start_time": "2021-10-31T09:06:57.425Z"
   },
   {
    "duration": 7,
    "start_time": "2021-10-31T09:07:01.884Z"
   },
   {
    "duration": 16,
    "start_time": "2021-10-31T09:07:01.896Z"
   },
   {
    "duration": 7,
    "start_time": "2021-10-31T09:07:01.916Z"
   },
   {
    "duration": 68,
    "start_time": "2021-10-31T09:07:01.926Z"
   },
   {
    "duration": 19,
    "start_time": "2021-10-31T09:07:01.997Z"
   },
   {
    "duration": 59,
    "start_time": "2021-10-31T09:07:02.019Z"
   },
   {
    "duration": 4,
    "start_time": "2021-10-31T09:07:02.080Z"
   },
   {
    "duration": 171,
    "start_time": "2021-10-31T09:07:02.087Z"
   },
   {
    "duration": 20,
    "start_time": "2021-10-31T09:07:02.260Z"
   },
   {
    "duration": 7,
    "start_time": "2021-10-31T09:07:02.283Z"
   },
   {
    "duration": 35,
    "start_time": "2021-10-31T09:07:02.292Z"
   },
   {
    "duration": 751,
    "start_time": "2021-10-31T09:07:02.329Z"
   },
   {
    "duration": 22,
    "start_time": "2021-10-31T09:07:03.083Z"
   },
   {
    "duration": 21,
    "start_time": "2021-10-31T09:14:53.359Z"
   },
   {
    "duration": 16,
    "start_time": "2021-10-31T09:19:03.835Z"
   },
   {
    "duration": 6,
    "start_time": "2021-10-31T09:19:08.274Z"
   },
   {
    "duration": 448,
    "start_time": "2021-10-31T09:19:58.296Z"
   },
   {
    "duration": 113,
    "start_time": "2021-10-31T09:20:13.367Z"
   },
   {
    "duration": 48,
    "start_time": "2021-10-31T09:20:53.308Z"
   },
   {
    "duration": 25,
    "start_time": "2021-10-31T09:21:10.586Z"
   },
   {
    "duration": 27,
    "start_time": "2021-10-31T09:21:14.487Z"
   },
   {
    "duration": 298,
    "start_time": "2021-10-31T09:22:28.145Z"
   },
   {
    "duration": 17,
    "start_time": "2021-10-31T09:22:40.086Z"
   },
   {
    "duration": 22,
    "start_time": "2021-10-31T09:22:49.234Z"
   },
   {
    "duration": 39,
    "start_time": "2021-10-31T09:22:52.314Z"
   },
   {
    "duration": 278,
    "start_time": "2021-10-31T09:23:32.194Z"
   },
   {
    "duration": 55,
    "start_time": "2021-10-31T09:23:49.901Z"
   },
   {
    "duration": 26,
    "start_time": "2021-10-31T09:25:09.242Z"
   },
   {
    "duration": 27,
    "start_time": "2021-10-31T09:25:41.231Z"
   },
   {
    "duration": 39,
    "start_time": "2021-10-31T09:27:36.096Z"
   },
   {
    "duration": 93,
    "start_time": "2021-10-31T09:28:35.148Z"
   },
   {
    "duration": 290,
    "start_time": "2021-10-31T09:28:43.530Z"
   },
   {
    "duration": 95,
    "start_time": "2021-10-31T09:29:05.161Z"
   },
   {
    "duration": 33,
    "start_time": "2021-10-31T09:30:04.162Z"
   },
   {
    "duration": 25,
    "start_time": "2021-10-31T09:30:42.972Z"
   },
   {
    "duration": 40,
    "start_time": "2021-10-31T09:30:50.580Z"
   },
   {
    "duration": 33,
    "start_time": "2021-10-31T09:31:09.449Z"
   },
   {
    "duration": 330,
    "start_time": "2021-10-31T09:31:31.252Z"
   },
   {
    "duration": 295,
    "start_time": "2021-10-31T09:36:04.113Z"
   },
   {
    "duration": 296,
    "start_time": "2021-10-31T09:36:41.501Z"
   },
   {
    "duration": 110,
    "start_time": "2021-10-31T09:37:18.093Z"
   },
   {
    "duration": 4,
    "start_time": "2021-10-31T09:37:18.205Z"
   },
   {
    "duration": 35,
    "start_time": "2021-10-31T09:37:18.212Z"
   },
   {
    "duration": 20,
    "start_time": "2021-10-31T09:37:18.268Z"
   },
   {
    "duration": 12,
    "start_time": "2021-10-31T09:37:18.290Z"
   },
   {
    "duration": 8,
    "start_time": "2021-10-31T09:37:18.304Z"
   },
   {
    "duration": 13,
    "start_time": "2021-10-31T09:37:18.315Z"
   },
   {
    "duration": 92,
    "start_time": "2021-10-31T09:37:18.331Z"
   },
   {
    "duration": 7,
    "start_time": "2021-10-31T09:37:18.427Z"
   },
   {
    "duration": 42,
    "start_time": "2021-10-31T09:37:18.438Z"
   },
   {
    "duration": 10,
    "start_time": "2021-10-31T09:37:18.482Z"
   },
   {
    "duration": 13,
    "start_time": "2021-10-31T09:37:18.495Z"
   },
   {
    "duration": 8,
    "start_time": "2021-10-31T09:37:18.511Z"
   },
   {
    "duration": 44,
    "start_time": "2021-10-31T09:37:18.523Z"
   },
   {
    "duration": 8,
    "start_time": "2021-10-31T09:37:18.570Z"
   },
   {
    "duration": 10,
    "start_time": "2021-10-31T09:37:18.581Z"
   },
   {
    "duration": 8,
    "start_time": "2021-10-31T09:37:18.594Z"
   },
   {
    "duration": 9,
    "start_time": "2021-10-31T09:37:18.604Z"
   },
   {
    "duration": 53,
    "start_time": "2021-10-31T09:37:18.616Z"
   },
   {
    "duration": 12,
    "start_time": "2021-10-31T09:37:18.671Z"
   },
   {
    "duration": 3777,
    "start_time": "2021-10-31T09:37:18.685Z"
   },
   {
    "duration": 4,
    "start_time": "2021-10-31T09:37:22.465Z"
   },
   {
    "duration": 15,
    "start_time": "2021-10-31T09:37:22.472Z"
   },
   {
    "duration": 5,
    "start_time": "2021-10-31T09:37:22.489Z"
   },
   {
    "duration": 28,
    "start_time": "2021-10-31T09:37:22.497Z"
   },
   {
    "duration": 41,
    "start_time": "2021-10-31T09:37:22.528Z"
   },
   {
    "duration": 35,
    "start_time": "2021-10-31T09:37:22.574Z"
   },
   {
    "duration": 4,
    "start_time": "2021-10-31T09:37:22.612Z"
   },
   {
    "duration": 197,
    "start_time": "2021-10-31T09:37:22.619Z"
   },
   {
    "duration": 20,
    "start_time": "2021-10-31T09:37:22.819Z"
   },
   {
    "duration": 26,
    "start_time": "2021-10-31T09:37:22.842Z"
   },
   {
    "duration": 35,
    "start_time": "2021-10-31T09:37:22.871Z"
   },
   {
    "duration": 601,
    "start_time": "2021-10-31T09:37:22.909Z"
   },
   {
    "duration": 25,
    "start_time": "2021-10-31T09:37:23.512Z"
   },
   {
    "duration": 56,
    "start_time": "2021-10-31T09:37:23.539Z"
   },
   {
    "duration": 252,
    "start_time": "2021-10-31T09:37:23.597Z"
   },
   {
    "duration": 36,
    "start_time": "2021-10-31T09:40:06.711Z"
   },
   {
    "duration": 308,
    "start_time": "2021-10-31T09:40:10.164Z"
   },
   {
    "duration": 606,
    "start_time": "2021-10-31T09:41:29.647Z"
   },
   {
    "duration": 681,
    "start_time": "2021-10-31T09:41:51.036Z"
   },
   {
    "duration": 320,
    "start_time": "2021-10-31T09:42:12.075Z"
   },
   {
    "duration": 345,
    "start_time": "2021-10-31T09:42:49.391Z"
   },
   {
    "duration": 1182,
    "start_time": "2021-10-31T09:44:56.592Z"
   },
   {
    "duration": 283,
    "start_time": "2021-10-31T09:45:24.307Z"
   },
   {
    "duration": 295,
    "start_time": "2021-10-31T09:46:02.450Z"
   },
   {
    "duration": 351,
    "start_time": "2021-10-31T09:46:07.591Z"
   },
   {
    "duration": 291,
    "start_time": "2021-10-31T09:46:11.381Z"
   },
   {
    "duration": 271,
    "start_time": "2021-10-31T09:46:16.514Z"
   },
   {
    "duration": 273,
    "start_time": "2021-10-31T09:46:21.779Z"
   },
   {
    "duration": 273,
    "start_time": "2021-10-31T09:46:26.736Z"
   },
   {
    "duration": 671,
    "start_time": "2021-10-31T09:47:21.143Z"
   },
   {
    "duration": 284,
    "start_time": "2021-10-31T09:47:39.686Z"
   },
   {
    "duration": 288,
    "start_time": "2021-10-31T09:47:44.915Z"
   },
   {
    "duration": 372,
    "start_time": "2021-10-31T09:48:40.841Z"
   },
   {
    "duration": 521,
    "start_time": "2021-10-31T09:48:44.858Z"
   },
   {
    "duration": 504,
    "start_time": "2021-10-31T09:49:35.597Z"
   },
   {
    "duration": 509,
    "start_time": "2021-10-31T09:51:09.526Z"
   },
   {
    "duration": 131,
    "start_time": "2021-10-31T09:54:32.765Z"
   },
   {
    "duration": 4,
    "start_time": "2021-10-31T09:54:32.899Z"
   },
   {
    "duration": 30,
    "start_time": "2021-10-31T09:54:32.906Z"
   },
   {
    "duration": 43,
    "start_time": "2021-10-31T09:54:32.939Z"
   },
   {
    "duration": 9,
    "start_time": "2021-10-31T09:54:32.984Z"
   },
   {
    "duration": 8,
    "start_time": "2021-10-31T09:54:32.995Z"
   },
   {
    "duration": 10,
    "start_time": "2021-10-31T09:54:33.006Z"
   },
   {
    "duration": 49,
    "start_time": "2021-10-31T09:54:33.020Z"
   },
   {
    "duration": 5,
    "start_time": "2021-10-31T09:54:33.072Z"
   },
   {
    "duration": 13,
    "start_time": "2021-10-31T09:54:33.080Z"
   },
   {
    "duration": 9,
    "start_time": "2021-10-31T09:54:33.096Z"
   },
   {
    "duration": 13,
    "start_time": "2021-10-31T09:54:33.108Z"
   },
   {
    "duration": 49,
    "start_time": "2021-10-31T09:54:33.124Z"
   },
   {
    "duration": 5,
    "start_time": "2021-10-31T09:54:33.176Z"
   },
   {
    "duration": 7,
    "start_time": "2021-10-31T09:54:33.184Z"
   },
   {
    "duration": 12,
    "start_time": "2021-10-31T09:54:33.193Z"
   },
   {
    "duration": 5,
    "start_time": "2021-10-31T09:54:33.208Z"
   },
   {
    "duration": 8,
    "start_time": "2021-10-31T09:54:33.215Z"
   },
   {
    "duration": 10,
    "start_time": "2021-10-31T09:54:33.268Z"
   },
   {
    "duration": 9,
    "start_time": "2021-10-31T09:54:33.281Z"
   },
   {
    "duration": 3714,
    "start_time": "2021-10-31T09:54:33.293Z"
   },
   {
    "duration": 6,
    "start_time": "2021-10-31T09:54:37.009Z"
   },
   {
    "duration": 12,
    "start_time": "2021-10-31T09:54:37.021Z"
   },
   {
    "duration": 5,
    "start_time": "2021-10-31T09:54:37.035Z"
   },
   {
    "duration": 48,
    "start_time": "2021-10-31T09:54:37.041Z"
   },
   {
    "duration": 14,
    "start_time": "2021-10-31T09:54:37.091Z"
   },
   {
    "duration": 65,
    "start_time": "2021-10-31T09:54:37.108Z"
   },
   {
    "duration": 4,
    "start_time": "2021-10-31T09:54:37.175Z"
   },
   {
    "duration": 166,
    "start_time": "2021-10-31T09:54:37.181Z"
   },
   {
    "duration": 28,
    "start_time": "2021-10-31T09:54:37.350Z"
   },
   {
    "duration": 5,
    "start_time": "2021-10-31T09:54:37.380Z"
   },
   {
    "duration": 33,
    "start_time": "2021-10-31T09:54:37.388Z"
   },
   {
    "duration": 589,
    "start_time": "2021-10-31T09:54:37.423Z"
   },
   {
    "duration": 27,
    "start_time": "2021-10-31T09:54:38.015Z"
   },
   {
    "duration": 36,
    "start_time": "2021-10-31T09:54:38.066Z"
   },
   {
    "duration": 632,
    "start_time": "2021-10-31T09:54:38.104Z"
   },
   {
    "duration": 22,
    "start_time": "2021-10-31T10:05:26.384Z"
   },
   {
    "duration": 223,
    "start_time": "2021-10-31T10:05:42.825Z"
   },
   {
    "duration": 534,
    "start_time": "2021-10-31T10:06:06.563Z"
   },
   {
    "duration": 229,
    "start_time": "2021-10-31T10:06:14.263Z"
   },
   {
    "duration": 223,
    "start_time": "2021-10-31T10:06:22.534Z"
   },
   {
    "duration": 343,
    "start_time": "2021-10-31T10:06:31.314Z"
   },
   {
    "duration": 249,
    "start_time": "2021-10-31T10:06:47.609Z"
   },
   {
    "duration": 535,
    "start_time": "2021-10-31T10:08:14.297Z"
   },
   {
    "duration": 461,
    "start_time": "2021-10-31T10:08:31.288Z"
   },
   {
    "duration": 311,
    "start_time": "2021-10-31T10:08:35.758Z"
   },
   {
    "duration": 302,
    "start_time": "2021-10-31T10:23:55.468Z"
   },
   {
    "duration": 28,
    "start_time": "2021-10-31T10:24:05.756Z"
   },
   {
    "duration": 34,
    "start_time": "2021-10-31T10:24:13.022Z"
   },
   {
    "duration": 41,
    "start_time": "2021-10-31T10:24:45.946Z"
   },
   {
    "duration": 101,
    "start_time": "2021-10-31T10:26:33.395Z"
   },
   {
    "duration": 7355,
    "start_time": "2021-10-31T10:26:47.651Z"
   },
   {
    "duration": 24,
    "start_time": "2021-10-31T10:27:11.250Z"
   },
   {
    "duration": 24,
    "start_time": "2021-10-31T10:27:40.775Z"
   },
   {
    "duration": 28,
    "start_time": "2021-10-31T10:27:47.071Z"
   },
   {
    "duration": 31,
    "start_time": "2021-10-31T10:28:58.014Z"
   },
   {
    "duration": 8029,
    "start_time": "2021-10-31T10:29:50.757Z"
   },
   {
    "duration": 35,
    "start_time": "2021-10-31T10:30:00.793Z"
   },
   {
    "duration": 367,
    "start_time": "2021-10-31T10:31:49.001Z"
   },
   {
    "duration": 374,
    "start_time": "2021-10-31T10:32:13.097Z"
   },
   {
    "duration": 381,
    "start_time": "2021-10-31T10:32:18.316Z"
   },
   {
    "duration": 873,
    "start_time": "2021-10-31T10:32:32.519Z"
   },
   {
    "duration": 769,
    "start_time": "2021-10-31T10:33:25.199Z"
   },
   {
    "duration": 776,
    "start_time": "2021-10-31T10:34:34.312Z"
   },
   {
    "duration": 405,
    "start_time": "2021-10-31T10:37:09.032Z"
   },
   {
    "duration": 605,
    "start_time": "2021-10-31T10:38:24.111Z"
   },
   {
    "duration": 917,
    "start_time": "2021-10-31T10:38:35.895Z"
   },
   {
    "duration": 930,
    "start_time": "2021-10-31T10:38:55.893Z"
   },
   {
    "duration": 945,
    "start_time": "2021-10-31T10:39:17.644Z"
   },
   {
    "duration": 941,
    "start_time": "2021-10-31T10:39:31.977Z"
   },
   {
    "duration": 1066,
    "start_time": "2021-10-31T10:41:31.376Z"
   },
   {
    "duration": 983,
    "start_time": "2021-10-31T10:41:37.629Z"
   },
   {
    "duration": 971,
    "start_time": "2021-10-31T10:41:50.519Z"
   },
   {
    "duration": 1740,
    "start_time": "2021-10-31T10:49:36.450Z"
   },
   {
    "duration": 1416,
    "start_time": "2021-10-31T10:49:57.623Z"
   },
   {
    "duration": 104,
    "start_time": "2021-10-31T10:50:27.589Z"
   },
   {
    "duration": 1230,
    "start_time": "2021-10-31T10:50:36.849Z"
   },
   {
    "duration": 1178,
    "start_time": "2021-10-31T10:51:14.017Z"
   },
   {
    "duration": 1028,
    "start_time": "2021-10-31T10:51:39.353Z"
   },
   {
    "duration": 929,
    "start_time": "2021-10-31T10:54:20.962Z"
   },
   {
    "duration": 95,
    "start_time": "2021-10-31T10:54:52.524Z"
   },
   {
    "duration": 1081,
    "start_time": "2021-10-31T10:54:58.060Z"
   },
   {
    "duration": 285,
    "start_time": "2021-10-31T10:55:20.315Z"
   },
   {
    "duration": 936,
    "start_time": "2021-10-31T11:03:26.094Z"
   },
   {
    "duration": 12,
    "start_time": "2021-10-31T11:04:01.282Z"
   },
   {
    "duration": 7,
    "start_time": "2021-10-31T11:04:47.633Z"
   },
   {
    "duration": 1684,
    "start_time": "2021-10-31T11:05:09.670Z"
   },
   {
    "duration": 8,
    "start_time": "2021-10-31T11:05:23.744Z"
   },
   {
    "duration": 16,
    "start_time": "2021-10-31T11:06:00.382Z"
   },
   {
    "duration": 22,
    "start_time": "2021-10-31T11:06:37.769Z"
   },
   {
    "duration": 17,
    "start_time": "2021-10-31T11:06:49.694Z"
   },
   {
    "duration": 30,
    "start_time": "2021-10-31T11:13:50.900Z"
   },
   {
    "duration": 92,
    "start_time": "2021-10-31T11:15:12.494Z"
   },
   {
    "duration": 308,
    "start_time": "2021-10-31T11:15:29.862Z"
   },
   {
    "duration": 30,
    "start_time": "2021-10-31T11:16:38.269Z"
   },
   {
    "duration": 327,
    "start_time": "2021-10-31T11:18:25.553Z"
   },
   {
    "duration": 292,
    "start_time": "2021-10-31T11:19:08.732Z"
   },
   {
    "duration": 4,
    "start_time": "2021-10-31T11:19:36.988Z"
   },
   {
    "duration": 30,
    "start_time": "2021-10-31T11:20:19.531Z"
   },
   {
    "duration": 28,
    "start_time": "2021-10-31T11:20:33.799Z"
   },
   {
    "duration": 318,
    "start_time": "2021-10-31T11:27:37.273Z"
   },
   {
    "duration": 21,
    "start_time": "2021-10-31T11:27:51.902Z"
   },
   {
    "duration": 5006,
    "start_time": "2021-10-31T11:38:37.754Z"
   },
   {
    "duration": 26,
    "start_time": "2021-10-31T11:39:04.255Z"
   },
   {
    "duration": 23,
    "start_time": "2021-10-31T11:41:27.973Z"
   },
   {
    "duration": 24,
    "start_time": "2021-10-31T11:41:39.031Z"
   },
   {
    "duration": 24,
    "start_time": "2021-10-31T11:41:44.532Z"
   },
   {
    "duration": 5,
    "start_time": "2021-10-31T11:42:56.594Z"
   },
   {
    "duration": 21,
    "start_time": "2021-10-31T11:45:25.261Z"
   },
   {
    "duration": 677,
    "start_time": "2021-10-31T11:45:39.267Z"
   },
   {
    "duration": 20,
    "start_time": "2021-10-31T11:45:49.034Z"
   },
   {
    "duration": 585,
    "start_time": "2021-10-31T11:45:59.928Z"
   },
   {
    "duration": 4,
    "start_time": "2021-10-31T11:46:13.610Z"
   },
   {
    "duration": 571,
    "start_time": "2021-10-31T11:46:15.761Z"
   },
   {
    "duration": 4,
    "start_time": "2021-10-31T11:46:32.249Z"
   },
   {
    "duration": 21,
    "start_time": "2021-10-31T11:46:32.861Z"
   },
   {
    "duration": 52,
    "start_time": "2021-10-31T11:47:04.439Z"
   },
   {
    "duration": 303,
    "start_time": "2021-10-31T11:47:23.567Z"
   },
   {
    "duration": 4,
    "start_time": "2021-10-31T11:47:44.333Z"
   },
   {
    "duration": 294,
    "start_time": "2021-10-31T11:47:45.779Z"
   },
   {
    "duration": 6,
    "start_time": "2021-10-31T11:48:08.243Z"
   },
   {
    "duration": 596,
    "start_time": "2021-10-31T11:48:13.063Z"
   },
   {
    "duration": 5,
    "start_time": "2021-10-31T11:49:22.155Z"
   },
   {
    "duration": 102,
    "start_time": "2021-10-31T11:49:24.115Z"
   },
   {
    "duration": 4,
    "start_time": "2021-10-31T11:51:40.560Z"
   },
   {
    "duration": 98,
    "start_time": "2021-10-31T11:51:42.430Z"
   },
   {
    "duration": 5,
    "start_time": "2021-10-31T11:52:27.236Z"
   },
   {
    "duration": 101,
    "start_time": "2021-10-31T11:52:27.884Z"
   },
   {
    "duration": 5,
    "start_time": "2021-10-31T11:52:35.622Z"
   },
   {
    "duration": 215,
    "start_time": "2021-10-31T11:52:36.048Z"
   },
   {
    "duration": 4,
    "start_time": "2021-10-31T11:53:01.508Z"
   },
   {
    "duration": 111,
    "start_time": "2021-10-31T11:53:02.815Z"
   },
   {
    "duration": 144,
    "start_time": "2021-10-31T11:53:13.829Z"
   },
   {
    "duration": 5,
    "start_time": "2021-10-31T11:53:22.907Z"
   },
   {
    "duration": 146,
    "start_time": "2021-10-31T11:53:23.424Z"
   },
   {
    "duration": 5,
    "start_time": "2021-10-31T11:54:01.012Z"
   },
   {
    "duration": 149,
    "start_time": "2021-10-31T11:54:01.559Z"
   },
   {
    "duration": 5,
    "start_time": "2021-10-31T11:54:14.303Z"
   },
   {
    "duration": 158,
    "start_time": "2021-10-31T11:54:14.758Z"
   },
   {
    "duration": 5,
    "start_time": "2021-10-31T11:55:19.530Z"
   },
   {
    "duration": 185,
    "start_time": "2021-10-31T11:55:20.110Z"
   },
   {
    "duration": 365,
    "start_time": "2021-10-31T11:55:47.280Z"
   },
   {
    "duration": 556,
    "start_time": "2021-10-31T11:55:55.664Z"
   },
   {
    "duration": 6,
    "start_time": "2021-10-31T11:56:21.912Z"
   },
   {
    "duration": 576,
    "start_time": "2021-10-31T11:56:23.011Z"
   },
   {
    "duration": 5,
    "start_time": "2021-10-31T11:56:52.008Z"
   },
   {
    "duration": 565,
    "start_time": "2021-10-31T11:56:52.584Z"
   },
   {
    "duration": 134,
    "start_time": "2021-10-31T12:10:09.068Z"
   },
   {
    "duration": 5,
    "start_time": "2021-10-31T12:10:09.204Z"
   },
   {
    "duration": 57,
    "start_time": "2021-10-31T12:10:09.212Z"
   },
   {
    "duration": 21,
    "start_time": "2021-10-31T12:10:09.271Z"
   },
   {
    "duration": 10,
    "start_time": "2021-10-31T12:10:09.295Z"
   },
   {
    "duration": 13,
    "start_time": "2021-10-31T12:10:09.308Z"
   },
   {
    "duration": 45,
    "start_time": "2021-10-31T12:10:09.324Z"
   },
   {
    "duration": 15,
    "start_time": "2021-10-31T12:10:09.373Z"
   },
   {
    "duration": 12,
    "start_time": "2021-10-31T12:10:09.390Z"
   },
   {
    "duration": 22,
    "start_time": "2021-10-31T12:10:09.404Z"
   },
   {
    "duration": 10,
    "start_time": "2021-10-31T12:10:09.428Z"
   },
   {
    "duration": 37,
    "start_time": "2021-10-31T12:10:09.440Z"
   },
   {
    "duration": 9,
    "start_time": "2021-10-31T12:10:09.479Z"
   },
   {
    "duration": 6,
    "start_time": "2021-10-31T12:10:09.490Z"
   },
   {
    "duration": 7,
    "start_time": "2021-10-31T12:10:09.498Z"
   },
   {
    "duration": 15,
    "start_time": "2021-10-31T12:10:09.508Z"
   },
   {
    "duration": 41,
    "start_time": "2021-10-31T12:10:09.526Z"
   },
   {
    "duration": 7,
    "start_time": "2021-10-31T12:10:09.569Z"
   },
   {
    "duration": 13,
    "start_time": "2021-10-31T12:10:09.578Z"
   },
   {
    "duration": 13,
    "start_time": "2021-10-31T12:10:09.593Z"
   },
   {
    "duration": 3870,
    "start_time": "2021-10-31T12:10:09.608Z"
   },
   {
    "duration": 4,
    "start_time": "2021-10-31T12:10:13.481Z"
   },
   {
    "duration": 14,
    "start_time": "2021-10-31T12:10:13.491Z"
   },
   {
    "duration": 6,
    "start_time": "2021-10-31T12:10:13.508Z"
   },
   {
    "duration": 25,
    "start_time": "2021-10-31T12:10:13.516Z"
   },
   {
    "duration": 18,
    "start_time": "2021-10-31T12:10:13.568Z"
   },
   {
    "duration": 34,
    "start_time": "2021-10-31T12:10:13.589Z"
   },
   {
    "duration": 4,
    "start_time": "2021-10-31T12:10:13.625Z"
   },
   {
    "duration": 178,
    "start_time": "2021-10-31T12:10:13.632Z"
   },
   {
    "duration": 22,
    "start_time": "2021-10-31T12:10:13.812Z"
   },
   {
    "duration": 6,
    "start_time": "2021-10-31T12:10:13.836Z"
   },
   {
    "duration": 34,
    "start_time": "2021-10-31T12:10:13.868Z"
   },
   {
    "duration": 593,
    "start_time": "2021-10-31T12:10:13.904Z"
   },
   {
    "duration": 26,
    "start_time": "2021-10-31T12:10:14.499Z"
   },
   {
    "duration": 59,
    "start_time": "2021-10-31T12:10:14.527Z"
   },
   {
    "duration": 542,
    "start_time": "2021-10-31T12:10:14.589Z"
   },
   {
    "duration": 321,
    "start_time": "2021-10-31T12:10:15.134Z"
   },
   {
    "duration": 994,
    "start_time": "2021-10-31T12:10:15.458Z"
   },
   {
    "duration": 1008,
    "start_time": "2021-10-31T12:10:16.454Z"
   },
   {
    "duration": 29,
    "start_time": "2021-10-31T12:10:17.468Z"
   },
   {
    "duration": 20,
    "start_time": "2021-10-31T12:10:17.500Z"
   },
   {
    "duration": 6,
    "start_time": "2021-10-31T12:10:17.522Z"
   },
   {
    "duration": 601,
    "start_time": "2021-10-31T12:10:17.530Z"
   },
   {
    "duration": 5,
    "start_time": "2021-10-31T12:13:31.685Z"
   },
   {
    "duration": 601,
    "start_time": "2021-10-31T12:13:37.427Z"
   },
   {
    "duration": 750,
    "start_time": "2021-10-31T14:49:25.837Z"
   },
   {
    "duration": 3,
    "start_time": "2021-10-31T14:49:26.589Z"
   },
   {
    "duration": 21,
    "start_time": "2021-10-31T14:49:26.594Z"
   },
   {
    "duration": 28,
    "start_time": "2021-10-31T14:49:26.617Z"
   },
   {
    "duration": 7,
    "start_time": "2021-10-31T14:49:26.648Z"
   },
   {
    "duration": 7,
    "start_time": "2021-10-31T14:49:26.657Z"
   },
   {
    "duration": 9,
    "start_time": "2021-10-31T14:49:26.665Z"
   },
   {
    "duration": 18,
    "start_time": "2021-10-31T14:49:26.676Z"
   },
   {
    "duration": 5,
    "start_time": "2021-10-31T14:49:26.697Z"
   },
   {
    "duration": 11,
    "start_time": "2021-10-31T14:49:26.704Z"
   },
   {
    "duration": 8,
    "start_time": "2021-10-31T14:49:26.744Z"
   },
   {
    "duration": 13,
    "start_time": "2021-10-31T14:49:26.754Z"
   },
   {
    "duration": 8,
    "start_time": "2021-10-31T14:49:26.769Z"
   },
   {
    "duration": 5,
    "start_time": "2021-10-31T14:49:26.779Z"
   },
   {
    "duration": 7,
    "start_time": "2021-10-31T14:49:26.786Z"
   },
   {
    "duration": 9,
    "start_time": "2021-10-31T14:49:26.795Z"
   },
   {
    "duration": 42,
    "start_time": "2021-10-31T14:49:26.806Z"
   },
   {
    "duration": 13,
    "start_time": "2021-10-31T14:49:26.850Z"
   },
   {
    "duration": 12,
    "start_time": "2021-10-31T14:49:26.864Z"
   },
   {
    "duration": 8,
    "start_time": "2021-10-31T14:49:26.877Z"
   },
   {
    "duration": 1843,
    "start_time": "2021-10-31T14:49:26.886Z"
   },
   {
    "duration": 13,
    "start_time": "2021-10-31T14:49:28.731Z"
   },
   {
    "duration": 12,
    "start_time": "2021-10-31T14:49:28.747Z"
   },
   {
    "duration": 6,
    "start_time": "2021-10-31T14:49:28.761Z"
   },
   {
    "duration": 16,
    "start_time": "2021-10-31T14:49:28.769Z"
   },
   {
    "duration": 10,
    "start_time": "2021-10-31T14:49:28.786Z"
   },
   {
    "duration": 22,
    "start_time": "2021-10-31T14:49:28.797Z"
   },
   {
    "duration": 7,
    "start_time": "2021-10-31T14:49:28.821Z"
   },
   {
    "duration": 89,
    "start_time": "2021-10-31T14:49:28.845Z"
   },
   {
    "duration": 18,
    "start_time": "2021-10-31T14:49:28.935Z"
   },
   {
    "duration": 6,
    "start_time": "2021-10-31T14:49:28.954Z"
   },
   {
    "duration": 22,
    "start_time": "2021-10-31T14:49:28.962Z"
   },
   {
    "duration": 347,
    "start_time": "2021-10-31T14:49:28.986Z"
   },
   {
    "duration": 20,
    "start_time": "2021-10-31T14:49:29.335Z"
   },
   {
    "duration": 23,
    "start_time": "2021-10-31T14:49:29.357Z"
   },
   {
    "duration": 316,
    "start_time": "2021-10-31T14:49:29.381Z"
   },
   {
    "duration": 177,
    "start_time": "2021-10-31T14:49:29.699Z"
   },
   {
    "duration": 732,
    "start_time": "2021-10-31T14:49:29.878Z"
   },
   {
    "duration": 710,
    "start_time": "2021-10-31T14:49:30.612Z"
   },
   {
    "duration": 23,
    "start_time": "2021-10-31T14:49:31.324Z"
   },
   {
    "duration": 12,
    "start_time": "2021-10-31T14:49:31.349Z"
   },
   {
    "duration": 6,
    "start_time": "2021-10-31T14:49:31.363Z"
   },
   {
    "duration": 343,
    "start_time": "2021-10-31T14:49:31.371Z"
   },
   {
    "duration": 3,
    "start_time": "2021-10-31T14:49:31.715Z"
   },
   {
    "duration": 362,
    "start_time": "2021-10-31T14:49:31.720Z"
   },
   {
    "duration": 15,
    "start_time": "2021-10-31T14:56:48.844Z"
   },
   {
    "duration": 178,
    "start_time": "2021-10-31T14:57:28.619Z"
   },
   {
    "duration": 181,
    "start_time": "2021-10-31T14:57:56.723Z"
   },
   {
    "duration": 15,
    "start_time": "2021-10-31T14:58:04.744Z"
   },
   {
    "duration": 205,
    "start_time": "2021-10-31T15:00:47.119Z"
   },
   {
    "duration": 11,
    "start_time": "2021-10-31T15:01:23.159Z"
   },
   {
    "duration": 14,
    "start_time": "2021-10-31T15:01:28.058Z"
   },
   {
    "duration": 309,
    "start_time": "2021-10-31T15:01:43.193Z"
   },
   {
    "duration": 276,
    "start_time": "2021-10-31T15:01:52.335Z"
   },
   {
    "duration": 4,
    "start_time": "2021-10-31T15:02:14.937Z"
   },
   {
    "duration": 7,
    "start_time": "2021-10-31T15:05:37.497Z"
   },
   {
    "duration": 4,
    "start_time": "2021-10-31T15:06:26.596Z"
   },
   {
    "duration": 166,
    "start_time": "2021-10-31T15:06:29.330Z"
   },
   {
    "duration": 177,
    "start_time": "2021-10-31T15:06:38.280Z"
   },
   {
    "duration": 467,
    "start_time": "2021-10-31T15:22:10.792Z"
   },
   {
    "duration": 3,
    "start_time": "2021-10-31T15:22:11.261Z"
   },
   {
    "duration": 24,
    "start_time": "2021-10-31T15:22:11.266Z"
   },
   {
    "duration": 20,
    "start_time": "2021-10-31T15:22:11.292Z"
   },
   {
    "duration": 6,
    "start_time": "2021-10-31T15:22:11.313Z"
   },
   {
    "duration": 10,
    "start_time": "2021-10-31T15:22:11.320Z"
   },
   {
    "duration": 15,
    "start_time": "2021-10-31T15:22:11.331Z"
   },
   {
    "duration": 5,
    "start_time": "2021-10-31T15:22:11.349Z"
   },
   {
    "duration": 8,
    "start_time": "2021-10-31T15:22:11.356Z"
   },
   {
    "duration": 13,
    "start_time": "2021-10-31T15:22:11.365Z"
   },
   {
    "duration": 10,
    "start_time": "2021-10-31T15:22:11.379Z"
   },
   {
    "duration": 21,
    "start_time": "2021-10-31T15:22:11.390Z"
   },
   {
    "duration": 10,
    "start_time": "2021-10-31T15:22:11.413Z"
   },
   {
    "duration": 6,
    "start_time": "2021-10-31T15:22:11.425Z"
   },
   {
    "duration": 14,
    "start_time": "2021-10-31T15:22:11.433Z"
   },
   {
    "duration": 9,
    "start_time": "2021-10-31T15:22:11.449Z"
   },
   {
    "duration": 4,
    "start_time": "2021-10-31T15:22:11.460Z"
   },
   {
    "duration": 7,
    "start_time": "2021-10-31T15:22:11.466Z"
   },
   {
    "duration": 9,
    "start_time": "2021-10-31T15:22:11.474Z"
   },
   {
    "duration": 11,
    "start_time": "2021-10-31T15:22:11.485Z"
   },
   {
    "duration": 1834,
    "start_time": "2021-10-31T15:22:11.497Z"
   },
   {
    "duration": 4,
    "start_time": "2021-10-31T15:22:13.332Z"
   },
   {
    "duration": 8,
    "start_time": "2021-10-31T15:22:13.345Z"
   },
   {
    "duration": 10,
    "start_time": "2021-10-31T15:22:13.355Z"
   },
   {
    "duration": 16,
    "start_time": "2021-10-31T15:22:13.366Z"
   },
   {
    "duration": 10,
    "start_time": "2021-10-31T15:22:13.383Z"
   },
   {
    "duration": 24,
    "start_time": "2021-10-31T15:22:13.394Z"
   },
   {
    "duration": 3,
    "start_time": "2021-10-31T15:22:13.444Z"
   },
   {
    "duration": 95,
    "start_time": "2021-10-31T15:22:13.449Z"
   },
   {
    "duration": 13,
    "start_time": "2021-10-31T15:22:13.546Z"
   },
   {
    "duration": 3,
    "start_time": "2021-10-31T15:22:13.561Z"
   },
   {
    "duration": 29,
    "start_time": "2021-10-31T15:22:13.566Z"
   },
   {
    "duration": 341,
    "start_time": "2021-10-31T15:22:13.597Z"
   },
   {
    "duration": 18,
    "start_time": "2021-10-31T15:22:13.939Z"
   },
   {
    "duration": 20,
    "start_time": "2021-10-31T15:22:13.959Z"
   },
   {
    "duration": 324,
    "start_time": "2021-10-31T15:22:13.981Z"
   },
   {
    "duration": 198,
    "start_time": "2021-10-31T15:22:14.306Z"
   },
   {
    "duration": 665,
    "start_time": "2021-10-31T15:22:14.505Z"
   },
   {
    "duration": 728,
    "start_time": "2021-10-31T15:22:15.171Z"
   },
   {
    "duration": 20,
    "start_time": "2021-10-31T15:22:15.901Z"
   },
   {
    "duration": 26,
    "start_time": "2021-10-31T15:22:15.923Z"
   },
   {
    "duration": 3,
    "start_time": "2021-10-31T15:22:15.951Z"
   },
   {
    "duration": 360,
    "start_time": "2021-10-31T15:22:15.956Z"
   },
   {
    "duration": 3,
    "start_time": "2021-10-31T15:22:16.318Z"
   },
   {
    "duration": 354,
    "start_time": "2021-10-31T15:22:16.323Z"
   },
   {
    "duration": 14,
    "start_time": "2021-10-31T15:22:16.679Z"
   },
   {
    "duration": 191,
    "start_time": "2021-10-31T15:22:16.695Z"
   },
   {
    "duration": 2,
    "start_time": "2021-10-31T15:22:16.888Z"
   },
   {
    "duration": 16,
    "start_time": "2021-10-31T15:28:11.933Z"
   },
   {
    "duration": 17,
    "start_time": "2021-10-31T15:28:58.869Z"
   },
   {
    "duration": 18,
    "start_time": "2021-10-31T15:29:12.024Z"
   },
   {
    "duration": 8,
    "start_time": "2021-10-31T15:30:43.730Z"
   },
   {
    "duration": 8,
    "start_time": "2021-10-31T15:30:50.381Z"
   },
   {
    "duration": 10,
    "start_time": "2021-10-31T15:32:21.031Z"
   },
   {
    "duration": 8,
    "start_time": "2021-10-31T15:32:25.844Z"
   },
   {
    "duration": 20,
    "start_time": "2021-10-31T15:32:33.284Z"
   },
   {
    "duration": 1423,
    "start_time": "2021-11-01T04:20:05.082Z"
   },
   {
    "duration": 4,
    "start_time": "2021-11-01T04:20:06.507Z"
   },
   {
    "duration": 36,
    "start_time": "2021-11-01T04:20:06.514Z"
   },
   {
    "duration": 22,
    "start_time": "2021-11-01T04:20:06.553Z"
   },
   {
    "duration": 9,
    "start_time": "2021-11-01T04:20:06.578Z"
   },
   {
    "duration": 39,
    "start_time": "2021-11-01T04:20:06.590Z"
   },
   {
    "duration": 10,
    "start_time": "2021-11-01T04:20:06.632Z"
   },
   {
    "duration": 9,
    "start_time": "2021-11-01T04:20:06.646Z"
   },
   {
    "duration": 6,
    "start_time": "2021-11-01T04:20:06.658Z"
   },
   {
    "duration": 14,
    "start_time": "2021-11-01T04:20:06.667Z"
   },
   {
    "duration": 52,
    "start_time": "2021-11-01T04:20:06.683Z"
   },
   {
    "duration": 14,
    "start_time": "2021-11-01T04:20:06.737Z"
   },
   {
    "duration": 10,
    "start_time": "2021-11-01T04:20:06.754Z"
   },
   {
    "duration": 6,
    "start_time": "2021-11-01T04:20:06.766Z"
   },
   {
    "duration": 8,
    "start_time": "2021-11-01T04:20:06.774Z"
   },
   {
    "duration": 53,
    "start_time": "2021-11-01T04:20:06.785Z"
   },
   {
    "duration": 6,
    "start_time": "2021-11-01T04:20:06.840Z"
   },
   {
    "duration": 10,
    "start_time": "2021-11-01T04:20:06.848Z"
   },
   {
    "duration": 14,
    "start_time": "2021-11-01T04:20:06.860Z"
   },
   {
    "duration": 10,
    "start_time": "2021-11-01T04:20:06.876Z"
   },
   {
    "duration": 3654,
    "start_time": "2021-11-01T04:20:06.888Z"
   },
   {
    "duration": 5,
    "start_time": "2021-11-01T04:20:10.545Z"
   },
   {
    "duration": 24,
    "start_time": "2021-11-01T04:20:10.554Z"
   },
   {
    "duration": 18,
    "start_time": "2021-11-01T04:20:10.581Z"
   },
   {
    "duration": 31,
    "start_time": "2021-11-01T04:20:10.601Z"
   },
   {
    "duration": 15,
    "start_time": "2021-11-01T04:20:10.634Z"
   },
   {
    "duration": 34,
    "start_time": "2021-11-01T04:20:10.651Z"
   },
   {
    "duration": 4,
    "start_time": "2021-11-01T04:20:10.688Z"
   },
   {
    "duration": 186,
    "start_time": "2021-11-01T04:20:10.694Z"
   },
   {
    "duration": 21,
    "start_time": "2021-11-01T04:20:10.882Z"
   },
   {
    "duration": 27,
    "start_time": "2021-11-01T04:20:10.905Z"
   },
   {
    "duration": 39,
    "start_time": "2021-11-01T04:20:10.935Z"
   },
   {
    "duration": 587,
    "start_time": "2021-11-01T04:20:10.976Z"
   },
   {
    "duration": 25,
    "start_time": "2021-11-01T04:20:11.565Z"
   },
   {
    "duration": 54,
    "start_time": "2021-11-01T04:20:11.592Z"
   },
   {
    "duration": 510,
    "start_time": "2021-11-01T04:20:11.648Z"
   },
   {
    "duration": 326,
    "start_time": "2021-11-01T04:20:12.161Z"
   },
   {
    "duration": 911,
    "start_time": "2021-11-01T04:20:12.490Z"
   },
   {
    "duration": 928,
    "start_time": "2021-11-01T04:20:13.404Z"
   },
   {
    "duration": 29,
    "start_time": "2021-11-01T04:20:14.335Z"
   },
   {
    "duration": 21,
    "start_time": "2021-11-01T04:20:14.367Z"
   },
   {
    "duration": 38,
    "start_time": "2021-11-01T04:20:14.391Z"
   },
   {
    "duration": 553,
    "start_time": "2021-11-01T04:20:14.432Z"
   },
   {
    "duration": 5,
    "start_time": "2021-11-01T04:20:14.988Z"
   },
   {
    "duration": 644,
    "start_time": "2021-11-01T04:20:14.995Z"
   },
   {
    "duration": 23,
    "start_time": "2021-11-01T04:20:15.642Z"
   },
   {
    "duration": 310,
    "start_time": "2021-11-01T04:20:15.667Z"
   },
   {
    "duration": 28,
    "start_time": "2021-11-01T04:20:15.979Z"
   },
   {
    "duration": 13,
    "start_time": "2021-11-01T05:58:12.357Z"
   },
   {
    "duration": 287,
    "start_time": "2021-11-01T05:58:48.484Z"
   },
   {
    "duration": 13,
    "start_time": "2021-11-01T05:59:56.615Z"
   },
   {
    "duration": 286,
    "start_time": "2021-11-01T06:00:35.238Z"
   },
   {
    "duration": 302,
    "start_time": "2021-11-01T06:01:02.397Z"
   },
   {
    "duration": 284,
    "start_time": "2021-11-01T06:01:49.483Z"
   },
   {
    "duration": 623,
    "start_time": "2021-11-01T06:02:03.130Z"
   },
   {
    "duration": 291,
    "start_time": "2021-11-01T06:02:17.169Z"
   },
   {
    "duration": 527,
    "start_time": "2021-11-01T06:13:39.445Z"
   },
   {
    "duration": 656,
    "start_time": "2021-11-01T06:13:48.798Z"
   },
   {
    "duration": 617,
    "start_time": "2021-11-01T06:14:01.540Z"
   },
   {
    "duration": 508,
    "start_time": "2021-11-01T06:14:11.357Z"
   },
   {
    "duration": 401,
    "start_time": "2021-11-01T06:14:28.065Z"
   },
   {
    "duration": 26,
    "start_time": "2021-11-01T06:39:15.571Z"
   },
   {
    "duration": 27,
    "start_time": "2021-11-01T06:39:29.608Z"
   },
   {
    "duration": 113,
    "start_time": "2021-11-01T08:51:27.023Z"
   },
   {
    "duration": 4,
    "start_time": "2021-11-01T08:51:27.138Z"
   },
   {
    "duration": 31,
    "start_time": "2021-11-01T08:51:27.145Z"
   },
   {
    "duration": 52,
    "start_time": "2021-11-01T08:51:27.179Z"
   },
   {
    "duration": 10,
    "start_time": "2021-11-01T08:51:27.233Z"
   },
   {
    "duration": 9,
    "start_time": "2021-11-01T08:51:27.245Z"
   },
   {
    "duration": 11,
    "start_time": "2021-11-01T08:51:27.256Z"
   },
   {
    "duration": 11,
    "start_time": "2021-11-01T08:51:27.269Z"
   },
   {
    "duration": 6,
    "start_time": "2021-11-01T08:51:27.329Z"
   },
   {
    "duration": 20,
    "start_time": "2021-11-01T08:51:27.337Z"
   },
   {
    "duration": 9,
    "start_time": "2021-11-01T08:51:27.359Z"
   },
   {
    "duration": 14,
    "start_time": "2021-11-01T08:51:27.371Z"
   },
   {
    "duration": 45,
    "start_time": "2021-11-01T08:51:27.388Z"
   },
   {
    "duration": 6,
    "start_time": "2021-11-01T08:51:27.436Z"
   },
   {
    "duration": 9,
    "start_time": "2021-11-01T08:51:27.445Z"
   },
   {
    "duration": 12,
    "start_time": "2021-11-01T08:51:27.458Z"
   },
   {
    "duration": 7,
    "start_time": "2021-11-01T08:51:27.473Z"
   },
   {
    "duration": 46,
    "start_time": "2021-11-01T08:51:27.483Z"
   },
   {
    "duration": 10,
    "start_time": "2021-11-01T08:51:30.446Z"
   },
   {
    "duration": 16,
    "start_time": "2021-11-01T08:51:30.459Z"
   },
   {
    "duration": 3616,
    "start_time": "2021-11-01T08:51:30.478Z"
   },
   {
    "duration": 5,
    "start_time": "2021-11-01T08:51:34.097Z"
   },
   {
    "duration": 33,
    "start_time": "2021-11-01T08:51:34.104Z"
   },
   {
    "duration": 17,
    "start_time": "2021-11-01T08:51:34.140Z"
   },
   {
    "duration": 31,
    "start_time": "2021-11-01T08:51:34.159Z"
   },
   {
    "duration": 14,
    "start_time": "2021-11-01T08:51:34.192Z"
   },
   {
    "duration": 42,
    "start_time": "2021-11-01T08:51:34.210Z"
   },
   {
    "duration": 4,
    "start_time": "2021-11-01T08:51:34.256Z"
   },
   {
    "duration": 176,
    "start_time": "2021-11-01T08:51:34.263Z"
   },
   {
    "duration": 23,
    "start_time": "2021-11-01T08:51:34.442Z"
   },
   {
    "duration": 8,
    "start_time": "2021-11-01T08:51:34.468Z"
   },
   {
    "duration": 70,
    "start_time": "2021-11-01T08:51:34.478Z"
   },
   {
    "duration": 585,
    "start_time": "2021-11-01T08:51:34.551Z"
   },
   {
    "duration": 24,
    "start_time": "2021-11-01T08:51:35.139Z"
   },
   {
    "duration": 39,
    "start_time": "2021-11-01T08:51:35.165Z"
   },
   {
    "duration": 627,
    "start_time": "2021-11-01T08:51:35.206Z"
   },
   {
    "duration": 317,
    "start_time": "2021-11-01T08:51:35.835Z"
   },
   {
    "duration": 918,
    "start_time": "2021-11-01T08:51:36.154Z"
   },
   {
    "duration": 1049,
    "start_time": "2021-11-01T08:51:37.074Z"
   },
   {
    "duration": 30,
    "start_time": "2021-11-01T08:51:38.125Z"
   },
   {
    "duration": 21,
    "start_time": "2021-11-01T08:51:38.158Z"
   },
   {
    "duration": 5,
    "start_time": "2021-11-01T08:51:38.181Z"
   },
   {
    "duration": 625,
    "start_time": "2021-11-01T08:51:38.188Z"
   },
   {
    "duration": 14,
    "start_time": "2021-11-01T08:51:38.817Z"
   },
   {
    "duration": 571,
    "start_time": "2021-11-01T08:51:38.838Z"
   },
   {
    "duration": 31,
    "start_time": "2021-11-01T08:51:39.412Z"
   },
   {
    "duration": 335,
    "start_time": "2021-11-01T08:51:39.446Z"
   },
   {
    "duration": 46,
    "start_time": "2021-11-01T08:51:39.784Z"
   },
   {
    "duration": 29,
    "start_time": "2021-11-01T08:51:39.833Z"
   },
   {
    "duration": 115,
    "start_time": "2021-11-01T08:54:53.256Z"
   },
   {
    "duration": 4,
    "start_time": "2021-11-01T08:54:53.374Z"
   },
   {
    "duration": 64,
    "start_time": "2021-11-01T08:54:53.382Z"
   },
   {
    "duration": 20,
    "start_time": "2021-11-01T08:54:53.448Z"
   },
   {
    "duration": 32,
    "start_time": "2021-11-01T08:54:53.470Z"
   },
   {
    "duration": 29,
    "start_time": "2021-11-01T08:54:53.504Z"
   },
   {
    "duration": 28,
    "start_time": "2021-11-01T08:54:53.535Z"
   },
   {
    "duration": 21,
    "start_time": "2021-11-01T08:54:53.567Z"
   },
   {
    "duration": 21,
    "start_time": "2021-11-01T08:54:53.591Z"
   },
   {
    "duration": 27,
    "start_time": "2021-11-01T08:54:53.614Z"
   },
   {
    "duration": 19,
    "start_time": "2021-11-01T08:54:53.644Z"
   },
   {
    "duration": 24,
    "start_time": "2021-11-01T08:54:53.665Z"
   },
   {
    "duration": 26,
    "start_time": "2021-11-01T08:54:53.691Z"
   },
   {
    "duration": 17,
    "start_time": "2021-11-01T08:54:53.719Z"
   },
   {
    "duration": 13,
    "start_time": "2021-11-01T08:54:53.739Z"
   },
   {
    "duration": 31,
    "start_time": "2021-11-01T08:54:53.755Z"
   },
   {
    "duration": 5,
    "start_time": "2021-11-01T08:54:53.788Z"
   },
   {
    "duration": 15,
    "start_time": "2021-11-01T08:54:53.795Z"
   },
   {
    "duration": 15,
    "start_time": "2021-11-01T08:54:53.813Z"
   },
   {
    "duration": 14,
    "start_time": "2021-11-01T08:54:53.830Z"
   },
   {
    "duration": 3905,
    "start_time": "2021-11-01T08:54:53.847Z"
   },
   {
    "duration": 5,
    "start_time": "2021-11-01T08:54:57.754Z"
   },
   {
    "duration": 22,
    "start_time": "2021-11-01T08:54:57.764Z"
   },
   {
    "duration": 8,
    "start_time": "2021-11-01T08:54:57.789Z"
   },
   {
    "duration": 41,
    "start_time": "2021-11-01T08:54:57.800Z"
   },
   {
    "duration": 15,
    "start_time": "2021-11-01T08:54:57.843Z"
   },
   {
    "duration": 35,
    "start_time": "2021-11-01T08:54:57.860Z"
   },
   {
    "duration": 4,
    "start_time": "2021-11-01T08:54:57.898Z"
   },
   {
    "duration": 194,
    "start_time": "2021-11-01T08:54:57.904Z"
   },
   {
    "duration": 32,
    "start_time": "2021-11-01T08:54:58.101Z"
   },
   {
    "duration": 7,
    "start_time": "2021-11-01T08:54:58.136Z"
   },
   {
    "duration": 37,
    "start_time": "2021-11-01T08:54:58.146Z"
   },
   {
    "duration": 602,
    "start_time": "2021-11-01T08:54:58.187Z"
   },
   {
    "duration": 37,
    "start_time": "2021-11-01T08:54:58.792Z"
   },
   {
    "duration": 33,
    "start_time": "2021-11-01T08:54:58.831Z"
   },
   {
    "duration": 534,
    "start_time": "2021-11-01T08:54:58.866Z"
   },
   {
    "duration": 321,
    "start_time": "2021-11-01T08:54:59.402Z"
   },
   {
    "duration": 947,
    "start_time": "2021-11-01T08:54:59.729Z"
   },
   {
    "duration": 1027,
    "start_time": "2021-11-01T08:55:00.678Z"
   },
   {
    "duration": 37,
    "start_time": "2021-11-01T08:55:01.708Z"
   },
   {
    "duration": 20,
    "start_time": "2021-11-01T08:55:01.747Z"
   },
   {
    "duration": 5,
    "start_time": "2021-11-01T08:55:01.770Z"
   },
   {
    "duration": 617,
    "start_time": "2021-11-01T08:55:01.777Z"
   },
   {
    "duration": 5,
    "start_time": "2021-11-01T08:55:02.396Z"
   },
   {
    "duration": 571,
    "start_time": "2021-11-01T08:55:02.403Z"
   },
   {
    "duration": 27,
    "start_time": "2021-11-01T08:55:02.977Z"
   },
   {
    "duration": 435,
    "start_time": "2021-11-01T08:55:03.030Z"
   },
   {
    "duration": 30,
    "start_time": "2021-11-01T08:55:03.468Z"
   },
   {
    "duration": 54,
    "start_time": "2021-11-01T08:55:03.501Z"
   },
   {
    "duration": 1529,
    "start_time": "2021-11-01T09:26:54.955Z"
   },
   {
    "duration": 14,
    "start_time": "2021-11-01T09:26:56.487Z"
   },
   {
    "duration": 35,
    "start_time": "2021-11-01T09:26:56.510Z"
   },
   {
    "duration": 21,
    "start_time": "2021-11-01T09:26:56.548Z"
   },
   {
    "duration": 39,
    "start_time": "2021-11-01T09:26:56.573Z"
   },
   {
    "duration": 10,
    "start_time": "2021-11-01T09:26:56.615Z"
   },
   {
    "duration": 12,
    "start_time": "2021-11-01T09:26:56.627Z"
   },
   {
    "duration": 8,
    "start_time": "2021-11-01T09:26:56.643Z"
   },
   {
    "duration": 9,
    "start_time": "2021-11-01T09:26:56.654Z"
   },
   {
    "duration": 16,
    "start_time": "2021-11-01T09:26:56.706Z"
   },
   {
    "duration": 11,
    "start_time": "2021-11-01T09:26:56.724Z"
   },
   {
    "duration": 14,
    "start_time": "2021-11-01T09:26:56.738Z"
   },
   {
    "duration": 15,
    "start_time": "2021-11-01T09:26:56.755Z"
   },
   {
    "duration": 8,
    "start_time": "2021-11-01T09:26:56.803Z"
   },
   {
    "duration": 7,
    "start_time": "2021-11-01T09:26:56.814Z"
   },
   {
    "duration": 15,
    "start_time": "2021-11-01T09:26:56.824Z"
   },
   {
    "duration": 6,
    "start_time": "2021-11-01T09:26:56.842Z"
   },
   {
    "duration": 55,
    "start_time": "2021-11-01T09:26:56.852Z"
   },
   {
    "duration": 11,
    "start_time": "2021-11-01T09:26:56.910Z"
   },
   {
    "duration": 11,
    "start_time": "2021-11-01T09:26:56.923Z"
   },
   {
    "duration": 3855,
    "start_time": "2021-11-01T09:26:56.936Z"
   },
   {
    "duration": 7,
    "start_time": "2021-11-01T09:27:00.793Z"
   },
   {
    "duration": 21,
    "start_time": "2021-11-01T09:27:00.813Z"
   },
   {
    "duration": 20,
    "start_time": "2021-11-01T09:27:00.838Z"
   },
   {
    "duration": 35,
    "start_time": "2021-11-01T09:27:00.860Z"
   },
   {
    "duration": 33,
    "start_time": "2021-11-01T09:27:00.897Z"
   },
   {
    "duration": 37,
    "start_time": "2021-11-01T09:27:00.932Z"
   },
   {
    "duration": 4,
    "start_time": "2021-11-01T09:27:00.971Z"
   },
   {
    "duration": 184,
    "start_time": "2021-11-01T09:27:00.977Z"
   },
   {
    "duration": 44,
    "start_time": "2021-11-01T09:27:01.163Z"
   },
   {
    "duration": 7,
    "start_time": "2021-11-01T09:27:01.210Z"
   },
   {
    "duration": 46,
    "start_time": "2021-11-01T09:27:01.219Z"
   },
   {
    "duration": 708,
    "start_time": "2021-11-01T09:27:01.267Z"
   },
   {
    "duration": 45,
    "start_time": "2021-11-01T09:27:01.978Z"
   },
   {
    "duration": 52,
    "start_time": "2021-11-01T09:27:02.026Z"
   },
   {
    "duration": 563,
    "start_time": "2021-11-01T09:27:02.081Z"
   },
   {
    "duration": 410,
    "start_time": "2021-11-01T09:27:02.647Z"
   },
   {
    "duration": 982,
    "start_time": "2021-11-01T09:27:03.060Z"
   },
   {
    "duration": 1036,
    "start_time": "2021-11-01T09:27:04.045Z"
   },
   {
    "duration": 41,
    "start_time": "2021-11-01T09:27:05.083Z"
   },
   {
    "duration": 20,
    "start_time": "2021-11-01T09:27:05.127Z"
   },
   {
    "duration": 5,
    "start_time": "2021-11-01T09:27:05.150Z"
   },
   {
    "duration": 623,
    "start_time": "2021-11-01T09:27:05.157Z"
   },
   {
    "duration": 5,
    "start_time": "2021-11-01T09:27:05.782Z"
   },
   {
    "duration": 656,
    "start_time": "2021-11-01T09:27:05.801Z"
   },
   {
    "duration": 22,
    "start_time": "2021-11-01T09:27:06.460Z"
   },
   {
    "duration": 324,
    "start_time": "2021-11-01T09:27:06.500Z"
   },
   {
    "duration": 28,
    "start_time": "2021-11-01T09:27:06.827Z"
   },
   {
    "duration": 62,
    "start_time": "2021-11-01T09:27:06.857Z"
   },
   {
    "duration": 28,
    "start_time": "2021-11-01T09:27:14.416Z"
   },
   {
    "duration": 35,
    "start_time": "2021-11-01T10:13:38.800Z"
   },
   {
    "duration": 29,
    "start_time": "2021-11-01T11:51:08.296Z"
   },
   {
    "duration": 36,
    "start_time": "2021-11-01T11:51:14.253Z"
   },
   {
    "duration": 32,
    "start_time": "2021-11-01T11:53:41.026Z"
   },
   {
    "duration": 42,
    "start_time": "2021-11-01T11:53:46.879Z"
   },
   {
    "duration": 48,
    "start_time": "2021-11-01T11:54:02.844Z"
   },
   {
    "duration": 87,
    "start_time": "2021-11-01T11:57:05.025Z"
   },
   {
    "duration": 45,
    "start_time": "2021-11-01T11:57:21.678Z"
   },
   {
    "duration": 9,
    "start_time": "2021-11-01T12:18:21.953Z"
   },
   {
    "duration": 36,
    "start_time": "2021-11-01T12:18:26.826Z"
   },
   {
    "duration": 110,
    "start_time": "2021-11-01T12:25:48.687Z"
   },
   {
    "duration": 4,
    "start_time": "2021-11-01T12:25:48.799Z"
   },
   {
    "duration": 41,
    "start_time": "2021-11-01T12:25:48.831Z"
   },
   {
    "duration": 45,
    "start_time": "2021-11-01T12:25:48.876Z"
   },
   {
    "duration": 33,
    "start_time": "2021-11-01T12:25:48.929Z"
   },
   {
    "duration": 33,
    "start_time": "2021-11-01T12:25:48.965Z"
   },
   {
    "duration": 28,
    "start_time": "2021-11-01T12:25:49.001Z"
   },
   {
    "duration": 42,
    "start_time": "2021-11-01T12:25:49.033Z"
   },
   {
    "duration": 24,
    "start_time": "2021-11-01T12:25:49.079Z"
   },
   {
    "duration": 42,
    "start_time": "2021-11-01T12:25:49.106Z"
   },
   {
    "duration": 26,
    "start_time": "2021-11-01T12:25:49.151Z"
   },
   {
    "duration": 25,
    "start_time": "2021-11-01T12:25:49.180Z"
   },
   {
    "duration": 24,
    "start_time": "2021-11-01T12:25:49.208Z"
   },
   {
    "duration": 14,
    "start_time": "2021-11-01T12:25:49.235Z"
   },
   {
    "duration": 34,
    "start_time": "2021-11-01T12:25:49.252Z"
   },
   {
    "duration": 36,
    "start_time": "2021-11-01T12:25:49.288Z"
   },
   {
    "duration": 24,
    "start_time": "2021-11-01T12:25:49.327Z"
   },
   {
    "duration": 37,
    "start_time": "2021-11-01T12:25:49.354Z"
   },
   {
    "duration": 43,
    "start_time": "2021-11-01T12:25:49.394Z"
   },
   {
    "duration": 37,
    "start_time": "2021-11-01T12:25:49.440Z"
   },
   {
    "duration": 3830,
    "start_time": "2021-11-01T12:25:49.480Z"
   },
   {
    "duration": 16,
    "start_time": "2021-11-01T12:25:53.313Z"
   },
   {
    "duration": 21,
    "start_time": "2021-11-01T12:25:53.335Z"
   },
   {
    "duration": 23,
    "start_time": "2021-11-01T12:25:53.360Z"
   },
   {
    "duration": 52,
    "start_time": "2021-11-01T12:25:53.386Z"
   },
   {
    "duration": 21,
    "start_time": "2021-11-01T12:25:53.441Z"
   },
   {
    "duration": 73,
    "start_time": "2021-11-01T12:25:53.465Z"
   },
   {
    "duration": 5,
    "start_time": "2021-11-01T12:25:53.542Z"
   },
   {
    "duration": 315,
    "start_time": "2021-11-01T12:25:53.550Z"
   },
   {
    "duration": 22,
    "start_time": "2021-11-01T12:25:53.867Z"
   },
   {
    "duration": 6,
    "start_time": "2021-11-01T12:25:53.892Z"
   },
   {
    "duration": 77,
    "start_time": "2021-11-01T12:25:53.901Z"
   },
   {
    "duration": 669,
    "start_time": "2021-11-01T12:25:53.981Z"
   },
   {
    "duration": 26,
    "start_time": "2021-11-01T12:25:54.652Z"
   },
   {
    "duration": 77,
    "start_time": "2021-11-01T12:25:54.681Z"
   },
   {
    "duration": 47,
    "start_time": "2021-11-01T12:25:54.760Z"
   },
   {
    "duration": 9,
    "start_time": "2021-11-01T12:25:54.830Z"
   },
   {
    "duration": 528,
    "start_time": "2021-11-01T12:25:54.841Z"
   },
   {
    "duration": 327,
    "start_time": "2021-11-01T12:25:55.373Z"
   },
   {
    "duration": 988,
    "start_time": "2021-11-01T12:25:55.703Z"
   },
   {
    "duration": 996,
    "start_time": "2021-11-01T12:25:56.694Z"
   },
   {
    "duration": 38,
    "start_time": "2021-11-01T12:25:57.693Z"
   },
   {
    "duration": 20,
    "start_time": "2021-11-01T12:25:57.734Z"
   },
   {
    "duration": 4,
    "start_time": "2021-11-01T12:25:57.757Z"
   },
   {
    "duration": 598,
    "start_time": "2021-11-01T12:25:57.764Z"
   },
   {
    "duration": 5,
    "start_time": "2021-11-01T12:25:58.365Z"
   },
   {
    "duration": 592,
    "start_time": "2021-11-01T12:25:58.373Z"
   },
   {
    "duration": 22,
    "start_time": "2021-11-01T12:25:58.968Z"
   },
   {
    "duration": 336,
    "start_time": "2021-11-01T12:25:58.993Z"
   },
   {
    "duration": 29,
    "start_time": "2021-11-01T12:25:59.332Z"
   },
   {
    "duration": 31,
    "start_time": "2021-11-01T12:25:59.364Z"
   },
   {
    "duration": 5,
    "start_time": "2021-11-01T12:42:34.754Z"
   },
   {
    "duration": 257,
    "start_time": "2021-11-01T12:43:27.653Z"
   },
   {
    "duration": 488,
    "start_time": "2021-11-01T12:44:06.844Z"
   },
   {
    "duration": 4,
    "start_time": "2021-11-01T12:44:44.412Z"
   },
   {
    "duration": 514,
    "start_time": "2021-11-01T12:44:46.910Z"
   },
   {
    "duration": 7,
    "start_time": "2021-11-01T12:45:13.051Z"
   },
   {
    "duration": 5,
    "start_time": "2021-11-01T12:45:30.206Z"
   },
   {
    "duration": 5,
    "start_time": "2021-11-01T12:49:13.940Z"
   },
   {
    "duration": 602,
    "start_time": "2021-11-01T12:49:15.319Z"
   },
   {
    "duration": 5,
    "start_time": "2021-11-01T12:51:10.956Z"
   },
   {
    "duration": 701,
    "start_time": "2021-11-01T12:51:12.005Z"
   },
   {
    "duration": 5,
    "start_time": "2021-11-01T12:51:58.768Z"
   },
   {
    "duration": 1225,
    "start_time": "2021-11-01T12:52:00.897Z"
   },
   {
    "duration": 5,
    "start_time": "2021-11-01T12:52:37.578Z"
   },
   {
    "duration": 1442,
    "start_time": "2021-11-01T12:52:38.217Z"
   },
   {
    "duration": 4,
    "start_time": "2021-11-01T12:53:52.753Z"
   },
   {
    "duration": 1241,
    "start_time": "2021-11-01T12:53:59.634Z"
   },
   {
    "duration": 5,
    "start_time": "2021-11-01T13:00:39.886Z"
   },
   {
    "duration": 492,
    "start_time": "2021-11-01T13:00:42.992Z"
   },
   {
    "duration": 6,
    "start_time": "2021-11-01T13:00:56.979Z"
   },
   {
    "duration": 488,
    "start_time": "2021-11-01T13:00:59.110Z"
   },
   {
    "duration": 6,
    "start_time": "2021-11-01T13:01:32.005Z"
   },
   {
    "duration": 886,
    "start_time": "2021-11-01T13:01:33.683Z"
   },
   {
    "duration": 6,
    "start_time": "2021-11-01T13:03:21.521Z"
   },
   {
    "duration": 778,
    "start_time": "2021-11-01T13:03:25.033Z"
   },
   {
    "duration": 5,
    "start_time": "2021-11-01T13:03:58.422Z"
   },
   {
    "duration": 800,
    "start_time": "2021-11-01T13:03:59.931Z"
   },
   {
    "duration": 5,
    "start_time": "2021-11-01T13:04:05.939Z"
   },
   {
    "duration": 925,
    "start_time": "2021-11-01T13:04:07.424Z"
   },
   {
    "duration": 8,
    "start_time": "2021-11-01T15:07:30.441Z"
   },
   {
    "duration": 6,
    "start_time": "2021-11-01T15:07:39.989Z"
   },
   {
    "duration": 120,
    "start_time": "2021-11-01T15:07:57.235Z"
   },
   {
    "duration": 4,
    "start_time": "2021-11-01T15:07:57.358Z"
   },
   {
    "duration": 65,
    "start_time": "2021-11-01T15:07:57.365Z"
   },
   {
    "duration": 21,
    "start_time": "2021-11-01T15:07:57.433Z"
   },
   {
    "duration": 11,
    "start_time": "2021-11-01T15:07:57.456Z"
   },
   {
    "duration": 9,
    "start_time": "2021-11-01T15:07:57.469Z"
   },
   {
    "duration": 50,
    "start_time": "2021-11-01T15:07:57.481Z"
   },
   {
    "duration": 10,
    "start_time": "2021-11-01T15:07:57.536Z"
   },
   {
    "duration": 8,
    "start_time": "2021-11-01T15:07:57.550Z"
   },
   {
    "duration": 18,
    "start_time": "2021-11-01T15:07:57.561Z"
   },
   {
    "duration": 53,
    "start_time": "2021-11-01T15:07:57.582Z"
   },
   {
    "duration": 29,
    "start_time": "2021-11-01T15:07:57.637Z"
   },
   {
    "duration": 12,
    "start_time": "2021-11-01T15:07:57.669Z"
   },
   {
    "duration": 14,
    "start_time": "2021-11-01T15:07:57.684Z"
   },
   {
    "duration": 25,
    "start_time": "2021-11-01T15:07:57.700Z"
   },
   {
    "duration": 17,
    "start_time": "2021-11-01T15:07:57.727Z"
   },
   {
    "duration": 24,
    "start_time": "2021-11-01T15:07:57.746Z"
   },
   {
    "duration": 22,
    "start_time": "2021-11-01T15:07:57.772Z"
   },
   {
    "duration": 25,
    "start_time": "2021-11-01T15:07:57.797Z"
   },
   {
    "duration": 16,
    "start_time": "2021-11-01T15:07:57.825Z"
   },
   {
    "duration": 3685,
    "start_time": "2021-11-01T15:07:57.844Z"
   },
   {
    "duration": 6,
    "start_time": "2021-11-01T15:08:01.531Z"
   },
   {
    "duration": 33,
    "start_time": "2021-11-01T15:08:01.542Z"
   },
   {
    "duration": 29,
    "start_time": "2021-11-01T15:08:01.579Z"
   },
   {
    "duration": 29,
    "start_time": "2021-11-01T15:08:01.610Z"
   },
   {
    "duration": 31,
    "start_time": "2021-11-01T15:08:01.641Z"
   },
   {
    "duration": 54,
    "start_time": "2021-11-01T15:08:01.675Z"
   },
   {
    "duration": 5,
    "start_time": "2021-11-01T15:08:01.731Z"
   },
   {
    "duration": 183,
    "start_time": "2021-11-01T15:08:01.738Z"
   },
   {
    "duration": 21,
    "start_time": "2021-11-01T15:08:01.924Z"
   },
   {
    "duration": 6,
    "start_time": "2021-11-01T15:08:01.948Z"
   },
   {
    "duration": 57,
    "start_time": "2021-11-01T15:08:01.956Z"
   },
   {
    "duration": 602,
    "start_time": "2021-11-01T15:08:02.016Z"
   },
   {
    "duration": 29,
    "start_time": "2021-11-01T15:08:02.621Z"
   },
   {
    "duration": 50,
    "start_time": "2021-11-01T15:08:02.653Z"
   },
   {
    "duration": 56,
    "start_time": "2021-11-01T15:08:02.706Z"
   },
   {
    "duration": 8,
    "start_time": "2021-11-01T15:08:02.765Z"
   },
   {
    "duration": 535,
    "start_time": "2021-11-01T15:08:02.775Z"
   },
   {
    "duration": 319,
    "start_time": "2021-11-01T15:08:03.312Z"
   },
   {
    "duration": 5,
    "start_time": "2021-11-01T15:08:03.633Z"
   },
   {
    "duration": 1238,
    "start_time": "2021-11-01T15:08:03.640Z"
   },
   {
    "duration": 968,
    "start_time": "2021-11-01T15:08:04.881Z"
   },
   {
    "duration": 965,
    "start_time": "2021-11-01T15:08:05.851Z"
   },
   {
    "duration": 42,
    "start_time": "2021-11-01T15:08:06.819Z"
   },
   {
    "duration": 21,
    "start_time": "2021-11-01T15:08:06.863Z"
   },
   {
    "duration": 5,
    "start_time": "2021-11-01T15:08:06.886Z"
   },
   {
    "duration": 852,
    "start_time": "2021-11-01T15:08:06.893Z"
   },
   {
    "duration": 5,
    "start_time": "2021-11-01T15:08:07.747Z"
   },
   {
    "duration": 975,
    "start_time": "2021-11-01T15:08:07.754Z"
   },
   {
    "duration": 6,
    "start_time": "2021-11-01T15:08:08.731Z"
   },
   {
    "duration": 24,
    "start_time": "2021-11-01T15:08:08.740Z"
   },
   {
    "duration": 350,
    "start_time": "2021-11-01T15:08:08.766Z"
   },
   {
    "duration": 36,
    "start_time": "2021-11-01T15:08:09.119Z"
   },
   {
    "duration": 27,
    "start_time": "2021-11-01T15:08:09.158Z"
   },
   {
    "duration": 5,
    "start_time": "2021-11-01T15:08:47.836Z"
   },
   {
    "duration": 5,
    "start_time": "2021-11-01T15:08:49.976Z"
   },
   {
    "duration": 9,
    "start_time": "2021-11-01T15:09:03.778Z"
   },
   {
    "duration": 7,
    "start_time": "2021-11-01T15:09:11.337Z"
   },
   {
    "duration": 7,
    "start_time": "2021-11-01T15:09:17.671Z"
   },
   {
    "duration": 22,
    "start_time": "2021-11-01T15:09:34.829Z"
   },
   {
    "duration": 317,
    "start_time": "2021-11-01T15:09:42.975Z"
   },
   {
    "duration": 107,
    "start_time": "2021-11-01T15:25:27.682Z"
   },
   {
    "duration": 4,
    "start_time": "2021-11-01T15:25:27.791Z"
   },
   {
    "duration": 30,
    "start_time": "2021-11-01T15:25:27.829Z"
   },
   {
    "duration": 29,
    "start_time": "2021-11-01T15:25:27.861Z"
   },
   {
    "duration": 41,
    "start_time": "2021-11-01T15:25:27.892Z"
   },
   {
    "duration": 12,
    "start_time": "2021-11-01T15:25:27.935Z"
   },
   {
    "duration": 24,
    "start_time": "2021-11-01T15:25:27.949Z"
   },
   {
    "duration": 20,
    "start_time": "2021-11-01T15:25:27.975Z"
   },
   {
    "duration": 18,
    "start_time": "2021-11-01T15:25:27.999Z"
   },
   {
    "duration": 24,
    "start_time": "2021-11-01T15:25:28.020Z"
   },
   {
    "duration": 20,
    "start_time": "2021-11-01T15:25:28.048Z"
   },
   {
    "duration": 26,
    "start_time": "2021-11-01T15:25:28.071Z"
   },
   {
    "duration": 20,
    "start_time": "2021-11-01T15:25:28.100Z"
   },
   {
    "duration": 22,
    "start_time": "2021-11-01T15:25:28.122Z"
   },
   {
    "duration": 26,
    "start_time": "2021-11-01T15:25:28.147Z"
   },
   {
    "duration": 34,
    "start_time": "2021-11-01T15:25:28.175Z"
   },
   {
    "duration": 12,
    "start_time": "2021-11-01T15:25:28.211Z"
   },
   {
    "duration": 25,
    "start_time": "2021-11-01T15:25:28.225Z"
   },
   {
    "duration": 15,
    "start_time": "2021-11-01T15:25:28.253Z"
   },
   {
    "duration": 27,
    "start_time": "2021-11-01T15:25:28.270Z"
   },
   {
    "duration": 3746,
    "start_time": "2021-11-01T15:25:28.299Z"
   },
   {
    "duration": 5,
    "start_time": "2021-11-01T15:25:32.047Z"
   },
   {
    "duration": 18,
    "start_time": "2021-11-01T15:25:32.055Z"
   },
   {
    "duration": 23,
    "start_time": "2021-11-01T15:25:32.075Z"
   },
   {
    "duration": 39,
    "start_time": "2021-11-01T15:25:32.100Z"
   },
   {
    "duration": 15,
    "start_time": "2021-11-01T15:25:32.142Z"
   },
   {
    "duration": 36,
    "start_time": "2021-11-01T15:25:32.163Z"
   },
   {
    "duration": 6,
    "start_time": "2021-11-01T15:25:32.231Z"
   },
   {
    "duration": 172,
    "start_time": "2021-11-01T15:25:32.240Z"
   },
   {
    "duration": 25,
    "start_time": "2021-11-01T15:25:32.414Z"
   },
   {
    "duration": 5,
    "start_time": "2021-11-01T15:25:32.441Z"
   },
   {
    "duration": 38,
    "start_time": "2021-11-01T15:25:32.448Z"
   },
   {
    "duration": 595,
    "start_time": "2021-11-01T15:25:32.489Z"
   },
   {
    "duration": 24,
    "start_time": "2021-11-01T15:25:33.086Z"
   },
   {
    "duration": 55,
    "start_time": "2021-11-01T15:25:33.113Z"
   },
   {
    "duration": 60,
    "start_time": "2021-11-01T15:25:33.170Z"
   },
   {
    "duration": 8,
    "start_time": "2021-11-01T15:25:33.233Z"
   },
   {
    "duration": 534,
    "start_time": "2021-11-01T15:25:33.243Z"
   },
   {
    "duration": 309,
    "start_time": "2021-11-01T15:25:33.780Z"
   },
   {
    "duration": 4,
    "start_time": "2021-11-01T15:25:34.092Z"
   },
   {
    "duration": 1237,
    "start_time": "2021-11-01T15:25:34.099Z"
   },
   {
    "duration": 965,
    "start_time": "2021-11-01T15:25:35.339Z"
   },
   {
    "duration": 992,
    "start_time": "2021-11-01T15:25:36.307Z"
   },
   {
    "duration": 44,
    "start_time": "2021-11-01T15:25:37.301Z"
   },
   {
    "duration": 21,
    "start_time": "2021-11-01T15:25:37.348Z"
   },
   {
    "duration": 5,
    "start_time": "2021-11-01T15:25:37.372Z"
   },
   {
    "duration": 983,
    "start_time": "2021-11-01T15:25:37.379Z"
   },
   {
    "duration": 7,
    "start_time": "2021-11-01T15:25:38.365Z"
   },
   {
    "duration": 814,
    "start_time": "2021-11-01T15:25:38.375Z"
   },
   {
    "duration": 5,
    "start_time": "2021-11-01T15:25:39.191Z"
   },
   {
    "duration": 40,
    "start_time": "2021-11-01T15:25:39.198Z"
   },
   {
    "duration": 327,
    "start_time": "2021-11-01T15:25:39.241Z"
   },
   {
    "duration": 27,
    "start_time": "2021-11-01T15:25:39.570Z"
   },
   {
    "duration": 50,
    "start_time": "2021-11-01T15:25:39.599Z"
   },
   {
    "duration": 108,
    "start_time": "2021-11-01T15:25:58.874Z"
   },
   {
    "duration": 4,
    "start_time": "2021-11-01T15:25:58.985Z"
   },
   {
    "duration": 57,
    "start_time": "2021-11-01T15:25:58.992Z"
   },
   {
    "duration": 28,
    "start_time": "2021-11-01T15:25:59.052Z"
   },
   {
    "duration": 12,
    "start_time": "2021-11-01T15:25:59.083Z"
   },
   {
    "duration": 34,
    "start_time": "2021-11-01T15:25:59.098Z"
   },
   {
    "duration": 10,
    "start_time": "2021-11-01T15:25:59.134Z"
   },
   {
    "duration": 11,
    "start_time": "2021-11-01T15:25:59.148Z"
   },
   {
    "duration": 6,
    "start_time": "2021-11-01T15:25:59.161Z"
   },
   {
    "duration": 17,
    "start_time": "2021-11-01T15:25:59.169Z"
   },
   {
    "duration": 46,
    "start_time": "2021-11-01T15:25:59.189Z"
   },
   {
    "duration": 28,
    "start_time": "2021-11-01T15:25:59.237Z"
   },
   {
    "duration": 16,
    "start_time": "2021-11-01T15:25:59.268Z"
   },
   {
    "duration": 6,
    "start_time": "2021-11-01T15:25:59.287Z"
   },
   {
    "duration": 11,
    "start_time": "2021-11-01T15:25:59.296Z"
   },
   {
    "duration": 28,
    "start_time": "2021-11-01T15:25:59.310Z"
   },
   {
    "duration": 17,
    "start_time": "2021-11-01T15:25:59.340Z"
   },
   {
    "duration": 13,
    "start_time": "2021-11-01T15:25:59.359Z"
   },
   {
    "duration": 28,
    "start_time": "2021-11-01T15:25:59.374Z"
   },
   {
    "duration": 19,
    "start_time": "2021-11-01T15:25:59.404Z"
   },
   {
    "duration": 3769,
    "start_time": "2021-11-01T15:25:59.425Z"
   },
   {
    "duration": 5,
    "start_time": "2021-11-01T15:26:03.196Z"
   },
   {
    "duration": 29,
    "start_time": "2021-11-01T15:26:03.206Z"
   },
   {
    "duration": 7,
    "start_time": "2021-11-01T15:26:03.239Z"
   },
   {
    "duration": 30,
    "start_time": "2021-11-01T15:26:03.249Z"
   },
   {
    "duration": 15,
    "start_time": "2021-11-01T15:26:03.281Z"
   },
   {
    "duration": 60,
    "start_time": "2021-11-01T15:26:03.298Z"
   },
   {
    "duration": 4,
    "start_time": "2021-11-01T15:26:03.360Z"
   },
   {
    "duration": 187,
    "start_time": "2021-11-01T15:26:03.367Z"
   },
   {
    "duration": 22,
    "start_time": "2021-11-01T15:26:03.556Z"
   },
   {
    "duration": 6,
    "start_time": "2021-11-01T15:26:03.580Z"
   },
   {
    "duration": 60,
    "start_time": "2021-11-01T15:26:03.589Z"
   },
   {
    "duration": 569,
    "start_time": "2021-11-01T15:26:03.652Z"
   },
   {
    "duration": 25,
    "start_time": "2021-11-01T15:26:04.228Z"
   },
   {
    "duration": 45,
    "start_time": "2021-11-01T15:26:04.256Z"
   },
   {
    "duration": 55,
    "start_time": "2021-11-01T15:26:04.303Z"
   },
   {
    "duration": 8,
    "start_time": "2021-11-01T15:26:04.360Z"
   },
   {
    "duration": 527,
    "start_time": "2021-11-01T15:26:04.370Z"
   },
   {
    "duration": 316,
    "start_time": "2021-11-01T15:26:04.899Z"
   },
   {
    "duration": 12,
    "start_time": "2021-11-01T15:26:05.217Z"
   },
   {
    "duration": 1237,
    "start_time": "2021-11-01T15:26:05.232Z"
   },
   {
    "duration": 913,
    "start_time": "2021-11-01T15:26:06.472Z"
   },
   {
    "duration": 1003,
    "start_time": "2021-11-01T15:26:07.387Z"
   },
   {
    "duration": 45,
    "start_time": "2021-11-01T15:26:08.393Z"
   },
   {
    "duration": 26,
    "start_time": "2021-11-01T15:26:08.442Z"
   },
   {
    "duration": 6,
    "start_time": "2021-11-01T15:26:08.470Z"
   },
   {
    "duration": 1192,
    "start_time": "2021-11-01T15:26:08.478Z"
   },
   {
    "duration": 5,
    "start_time": "2021-11-01T15:26:09.673Z"
   },
   {
    "duration": 804,
    "start_time": "2021-11-01T15:26:09.680Z"
   },
   {
    "duration": 6,
    "start_time": "2021-11-01T15:26:10.486Z"
   },
   {
    "duration": 38,
    "start_time": "2021-11-01T15:26:10.494Z"
   },
   {
    "duration": 345,
    "start_time": "2021-11-01T15:26:10.535Z"
   },
   {
    "duration": 29,
    "start_time": "2021-11-01T15:26:10.882Z"
   },
   {
    "duration": 46,
    "start_time": "2021-11-01T15:26:10.913Z"
   },
   {
    "duration": 156,
    "start_time": "2021-11-01T15:34:20.097Z"
   },
   {
    "duration": 4,
    "start_time": "2021-11-01T15:34:20.256Z"
   },
   {
    "duration": 68,
    "start_time": "2021-11-01T15:34:20.263Z"
   },
   {
    "duration": 25,
    "start_time": "2021-11-01T15:34:20.334Z"
   },
   {
    "duration": 10,
    "start_time": "2021-11-01T15:34:20.362Z"
   },
   {
    "duration": 8,
    "start_time": "2021-11-01T15:34:20.375Z"
   },
   {
    "duration": 49,
    "start_time": "2021-11-01T15:34:20.385Z"
   },
   {
    "duration": 16,
    "start_time": "2021-11-01T15:34:20.440Z"
   },
   {
    "duration": 7,
    "start_time": "2021-11-01T15:34:20.460Z"
   },
   {
    "duration": 23,
    "start_time": "2021-11-01T15:34:20.470Z"
   },
   {
    "duration": 14,
    "start_time": "2021-11-01T15:34:20.529Z"
   },
   {
    "duration": 15,
    "start_time": "2021-11-01T15:34:20.545Z"
   },
   {
    "duration": 12,
    "start_time": "2021-11-01T15:34:20.562Z"
   },
   {
    "duration": 7,
    "start_time": "2021-11-01T15:34:20.576Z"
   },
   {
    "duration": 49,
    "start_time": "2021-11-01T15:34:20.586Z"
   },
   {
    "duration": 13,
    "start_time": "2021-11-01T15:34:20.637Z"
   },
   {
    "duration": 6,
    "start_time": "2021-11-01T15:34:20.652Z"
   },
   {
    "duration": 9,
    "start_time": "2021-11-01T15:34:20.661Z"
   },
   {
    "duration": 10,
    "start_time": "2021-11-01T15:34:20.673Z"
   },
   {
    "duration": 46,
    "start_time": "2021-11-01T15:34:20.686Z"
   },
   {
    "duration": 3716,
    "start_time": "2021-11-01T15:34:20.735Z"
   },
   {
    "duration": 5,
    "start_time": "2021-11-01T15:34:24.454Z"
   },
   {
    "duration": 22,
    "start_time": "2021-11-01T15:34:24.464Z"
   },
   {
    "duration": 7,
    "start_time": "2021-11-01T15:34:24.490Z"
   },
   {
    "duration": 45,
    "start_time": "2021-11-01T15:34:24.500Z"
   },
   {
    "duration": 25,
    "start_time": "2021-11-01T15:34:24.547Z"
   },
   {
    "duration": 37,
    "start_time": "2021-11-01T15:34:24.575Z"
   },
   {
    "duration": 5,
    "start_time": "2021-11-01T15:34:24.629Z"
   },
   {
    "duration": 172,
    "start_time": "2021-11-01T15:34:24.636Z"
   },
   {
    "duration": 28,
    "start_time": "2021-11-01T15:34:24.811Z"
   },
   {
    "duration": 5,
    "start_time": "2021-11-01T15:34:24.842Z"
   },
   {
    "duration": 40,
    "start_time": "2021-11-01T15:34:24.849Z"
   },
   {
    "duration": 583,
    "start_time": "2021-11-01T15:34:24.892Z"
   },
   {
    "duration": 24,
    "start_time": "2021-11-01T15:34:25.478Z"
   },
   {
    "duration": 63,
    "start_time": "2021-11-01T15:34:25.504Z"
   },
   {
    "duration": 33,
    "start_time": "2021-11-01T15:34:25.569Z"
   },
   {
    "duration": 29,
    "start_time": "2021-11-01T15:34:25.604Z"
   },
   {
    "duration": 516,
    "start_time": "2021-11-01T15:34:25.635Z"
   },
   {
    "duration": 329,
    "start_time": "2021-11-01T15:34:26.154Z"
   },
   {
    "duration": 6,
    "start_time": "2021-11-01T15:34:26.486Z"
   },
   {
    "duration": 1235,
    "start_time": "2021-11-01T15:34:26.495Z"
   },
   {
    "duration": 969,
    "start_time": "2021-11-01T15:34:27.734Z"
   },
   {
    "duration": 1005,
    "start_time": "2021-11-01T15:34:28.706Z"
   },
   {
    "duration": 40,
    "start_time": "2021-11-01T15:34:29.714Z"
   },
   {
    "duration": 22,
    "start_time": "2021-11-01T15:34:29.757Z"
   },
   {
    "duration": 6,
    "start_time": "2021-11-01T15:34:29.782Z"
   },
   {
    "duration": 851,
    "start_time": "2021-11-01T15:34:29.790Z"
   },
   {
    "duration": 6,
    "start_time": "2021-11-01T15:34:30.644Z"
   },
   {
    "duration": 999,
    "start_time": "2021-11-01T15:34:30.652Z"
   },
   {
    "duration": 7,
    "start_time": "2021-11-01T15:34:31.653Z"
   },
   {
    "duration": 26,
    "start_time": "2021-11-01T15:34:31.663Z"
   },
   {
    "duration": 368,
    "start_time": "2021-11-01T15:34:31.691Z"
   },
   {
    "duration": 30,
    "start_time": "2021-11-01T15:34:32.062Z"
   },
   {
    "duration": 51,
    "start_time": "2021-11-01T15:34:32.095Z"
   },
   {
    "duration": 1434,
    "start_time": "2021-11-01T15:37:21.681Z"
   },
   {
    "duration": 12,
    "start_time": "2021-11-01T15:37:23.118Z"
   },
   {
    "duration": 45,
    "start_time": "2021-11-01T15:37:23.133Z"
   },
   {
    "duration": 21,
    "start_time": "2021-11-01T15:37:23.182Z"
   },
   {
    "duration": 11,
    "start_time": "2021-11-01T15:37:23.230Z"
   },
   {
    "duration": 17,
    "start_time": "2021-11-01T15:37:23.243Z"
   },
   {
    "duration": 16,
    "start_time": "2021-11-01T15:37:23.263Z"
   },
   {
    "duration": 16,
    "start_time": "2021-11-01T15:37:23.283Z"
   },
   {
    "duration": 6,
    "start_time": "2021-11-01T15:37:23.329Z"
   },
   {
    "duration": 27,
    "start_time": "2021-11-01T15:37:23.338Z"
   },
   {
    "duration": 14,
    "start_time": "2021-11-01T15:37:23.368Z"
   },
   {
    "duration": 24,
    "start_time": "2021-11-01T15:37:23.385Z"
   },
   {
    "duration": 32,
    "start_time": "2021-11-01T15:37:23.412Z"
   },
   {
    "duration": 6,
    "start_time": "2021-11-01T15:37:23.447Z"
   },
   {
    "duration": 19,
    "start_time": "2021-11-01T15:37:23.456Z"
   },
   {
    "duration": 28,
    "start_time": "2021-11-01T15:37:23.479Z"
   },
   {
    "duration": 8,
    "start_time": "2021-11-01T15:37:23.530Z"
   },
   {
    "duration": 23,
    "start_time": "2021-11-01T15:37:23.541Z"
   },
   {
    "duration": 16,
    "start_time": "2021-11-01T15:37:23.567Z"
   },
   {
    "duration": 20,
    "start_time": "2021-11-01T15:37:23.585Z"
   },
   {
    "duration": 3700,
    "start_time": "2021-11-01T15:37:23.608Z"
   },
   {
    "duration": 4,
    "start_time": "2021-11-01T15:37:27.311Z"
   },
   {
    "duration": 21,
    "start_time": "2021-11-01T15:37:27.333Z"
   },
   {
    "duration": 4,
    "start_time": "2021-11-01T15:37:27.357Z"
   },
   {
    "duration": 30,
    "start_time": "2021-11-01T15:37:27.363Z"
   },
   {
    "duration": 44,
    "start_time": "2021-11-01T15:37:27.396Z"
   },
   {
    "duration": 51,
    "start_time": "2021-11-01T15:37:27.442Z"
   },
   {
    "duration": 33,
    "start_time": "2021-11-01T15:37:27.496Z"
   },
   {
    "duration": 284,
    "start_time": "2021-11-01T15:37:27.533Z"
   },
   {
    "duration": 28,
    "start_time": "2021-11-01T15:37:27.819Z"
   },
   {
    "duration": 8,
    "start_time": "2021-11-01T15:37:27.850Z"
   },
   {
    "duration": 77,
    "start_time": "2021-11-01T15:37:27.861Z"
   },
   {
    "duration": 867,
    "start_time": "2021-11-01T15:37:27.942Z"
   },
   {
    "duration": 32,
    "start_time": "2021-11-01T15:37:28.811Z"
   },
   {
    "duration": 46,
    "start_time": "2021-11-01T15:37:28.845Z"
   },
   {
    "duration": 60,
    "start_time": "2021-11-01T15:37:28.893Z"
   },
   {
    "duration": 7,
    "start_time": "2021-11-01T15:37:28.955Z"
   },
   {
    "duration": 558,
    "start_time": "2021-11-01T15:37:28.964Z"
   },
   {
    "duration": 326,
    "start_time": "2021-11-01T15:37:29.529Z"
   },
   {
    "duration": 6,
    "start_time": "2021-11-01T15:37:29.858Z"
   },
   {
    "duration": 1385,
    "start_time": "2021-11-01T15:37:29.867Z"
   },
   {
    "duration": 1089,
    "start_time": "2021-11-01T15:37:31.255Z"
   },
   {
    "duration": 1172,
    "start_time": "2021-11-01T15:37:32.347Z"
   },
   {
    "duration": 46,
    "start_time": "2021-11-01T15:37:33.522Z"
   },
   {
    "duration": 28,
    "start_time": "2021-11-01T15:37:33.571Z"
   },
   {
    "duration": 28,
    "start_time": "2021-11-01T15:37:33.601Z"
   },
   {
    "duration": 852,
    "start_time": "2021-11-01T15:37:33.631Z"
   },
   {
    "duration": 4,
    "start_time": "2021-11-01T15:37:34.486Z"
   },
   {
    "duration": 892,
    "start_time": "2021-11-01T15:37:34.492Z"
   },
   {
    "duration": 8,
    "start_time": "2021-11-01T15:37:35.386Z"
   },
   {
    "duration": 53,
    "start_time": "2021-11-01T15:37:35.397Z"
   },
   {
    "duration": 433,
    "start_time": "2021-11-01T15:37:35.453Z"
   },
   {
    "duration": 47,
    "start_time": "2021-11-01T15:37:35.889Z"
   },
   {
    "duration": 35,
    "start_time": "2021-11-01T15:37:35.939Z"
   },
   {
    "duration": 9,
    "start_time": "2021-11-01T15:38:13.608Z"
   },
   {
    "duration": 1227,
    "start_time": "2022-08-22T12:08:41.749Z"
   },
   {
    "duration": 3,
    "start_time": "2022-08-22T12:08:42.978Z"
   },
   {
    "duration": 49,
    "start_time": "2022-08-22T12:08:42.982Z"
   },
   {
    "duration": 47,
    "start_time": "2022-08-22T12:08:43.033Z"
   },
   {
    "duration": 33,
    "start_time": "2022-08-22T12:08:43.081Z"
   },
   {
    "duration": 14,
    "start_time": "2022-08-22T12:08:43.115Z"
   },
   {
    "duration": 29,
    "start_time": "2022-08-22T12:08:43.130Z"
   },
   {
    "duration": 27,
    "start_time": "2022-08-22T12:08:43.160Z"
   },
   {
    "duration": 31,
    "start_time": "2022-08-22T12:08:43.188Z"
   },
   {
    "duration": 25,
    "start_time": "2022-08-22T12:08:43.222Z"
   },
   {
    "duration": 41,
    "start_time": "2022-08-22T12:08:43.249Z"
   },
   {
    "duration": 21,
    "start_time": "2022-08-22T12:08:43.292Z"
   },
   {
    "duration": 10,
    "start_time": "2022-08-22T12:08:43.315Z"
   },
   {
    "duration": 29,
    "start_time": "2022-08-22T12:08:43.327Z"
   },
   {
    "duration": 24,
    "start_time": "2022-08-22T12:08:43.357Z"
   },
   {
    "duration": 40,
    "start_time": "2022-08-22T12:08:43.382Z"
   },
   {
    "duration": 21,
    "start_time": "2022-08-22T12:08:43.424Z"
   },
   {
    "duration": 29,
    "start_time": "2022-08-22T12:08:43.446Z"
   },
   {
    "duration": 21,
    "start_time": "2022-08-22T12:08:43.476Z"
   },
   {
    "duration": 17,
    "start_time": "2022-08-22T12:08:43.499Z"
   },
   {
    "duration": 52,
    "start_time": "2022-08-22T12:08:43.517Z"
   },
   {
    "duration": 209,
    "start_time": "2022-08-22T12:08:43.574Z"
   },
   {
    "duration": 0,
    "start_time": "2022-08-22T12:08:43.786Z"
   },
   {
    "duration": 0,
    "start_time": "2022-08-22T12:08:43.787Z"
   },
   {
    "duration": 0,
    "start_time": "2022-08-22T12:08:43.788Z"
   },
   {
    "duration": 0,
    "start_time": "2022-08-22T12:08:43.789Z"
   },
   {
    "duration": 0,
    "start_time": "2022-08-22T12:08:43.790Z"
   },
   {
    "duration": 0,
    "start_time": "2022-08-22T12:08:43.791Z"
   },
   {
    "duration": 0,
    "start_time": "2022-08-22T12:08:43.792Z"
   },
   {
    "duration": 0,
    "start_time": "2022-08-22T12:08:43.793Z"
   },
   {
    "duration": 0,
    "start_time": "2022-08-22T12:08:43.794Z"
   },
   {
    "duration": 0,
    "start_time": "2022-08-22T12:08:43.795Z"
   },
   {
    "duration": 0,
    "start_time": "2022-08-22T12:08:43.796Z"
   },
   {
    "duration": 0,
    "start_time": "2022-08-22T12:08:43.797Z"
   },
   {
    "duration": 0,
    "start_time": "2022-08-22T12:08:43.797Z"
   },
   {
    "duration": 0,
    "start_time": "2022-08-22T12:08:43.798Z"
   },
   {
    "duration": 0,
    "start_time": "2022-08-22T12:08:43.799Z"
   },
   {
    "duration": 0,
    "start_time": "2022-08-22T12:08:43.800Z"
   },
   {
    "duration": 0,
    "start_time": "2022-08-22T12:08:43.801Z"
   },
   {
    "duration": 0,
    "start_time": "2022-08-22T12:08:43.802Z"
   },
   {
    "duration": 0,
    "start_time": "2022-08-22T12:08:43.803Z"
   },
   {
    "duration": 0,
    "start_time": "2022-08-22T12:08:43.804Z"
   },
   {
    "duration": 0,
    "start_time": "2022-08-22T12:08:43.805Z"
   },
   {
    "duration": 0,
    "start_time": "2022-08-22T12:08:43.805Z"
   },
   {
    "duration": 0,
    "start_time": "2022-08-22T12:08:43.806Z"
   },
   {
    "duration": 0,
    "start_time": "2022-08-22T12:08:43.807Z"
   },
   {
    "duration": 0,
    "start_time": "2022-08-22T12:08:43.808Z"
   },
   {
    "duration": 0,
    "start_time": "2022-08-22T12:08:43.809Z"
   },
   {
    "duration": 0,
    "start_time": "2022-08-22T12:08:43.810Z"
   },
   {
    "duration": 0,
    "start_time": "2022-08-22T12:08:43.811Z"
   },
   {
    "duration": 0,
    "start_time": "2022-08-22T12:08:43.812Z"
   },
   {
    "duration": 0,
    "start_time": "2022-08-22T12:08:43.813Z"
   },
   {
    "duration": 0,
    "start_time": "2022-08-22T12:08:43.814Z"
   },
   {
    "duration": 0,
    "start_time": "2022-08-22T12:08:43.815Z"
   },
   {
    "duration": 1270,
    "start_time": "2022-08-22T12:11:24.746Z"
   },
   {
    "duration": 3,
    "start_time": "2022-08-22T12:11:26.018Z"
   },
   {
    "duration": 23,
    "start_time": "2022-08-22T12:11:26.022Z"
   },
   {
    "duration": 29,
    "start_time": "2022-08-22T12:11:26.046Z"
   },
   {
    "duration": 6,
    "start_time": "2022-08-22T12:11:26.077Z"
   },
   {
    "duration": 8,
    "start_time": "2022-08-22T12:11:26.084Z"
   },
   {
    "duration": 10,
    "start_time": "2022-08-22T12:11:26.094Z"
   },
   {
    "duration": 7,
    "start_time": "2022-08-22T12:11:26.105Z"
   },
   {
    "duration": 9,
    "start_time": "2022-08-22T12:11:26.113Z"
   },
   {
    "duration": 40,
    "start_time": "2022-08-22T12:11:26.123Z"
   },
   {
    "duration": 8,
    "start_time": "2022-08-22T12:11:26.165Z"
   },
   {
    "duration": 13,
    "start_time": "2022-08-22T12:11:26.175Z"
   },
   {
    "duration": 8,
    "start_time": "2022-08-22T12:11:26.189Z"
   },
   {
    "duration": 4,
    "start_time": "2022-08-22T12:11:26.201Z"
   },
   {
    "duration": 6,
    "start_time": "2022-08-22T12:11:26.206Z"
   },
   {
    "duration": 9,
    "start_time": "2022-08-22T12:11:26.214Z"
   },
   {
    "duration": 4,
    "start_time": "2022-08-22T12:11:26.224Z"
   },
   {
    "duration": 37,
    "start_time": "2022-08-22T12:11:26.229Z"
   },
   {
    "duration": 13,
    "start_time": "2022-08-22T12:11:26.267Z"
   },
   {
    "duration": 9,
    "start_time": "2022-08-22T12:11:26.281Z"
   },
   {
    "duration": 24,
    "start_time": "2022-08-22T12:11:26.292Z"
   },
   {
    "duration": 261,
    "start_time": "2022-08-22T12:11:26.318Z"
   },
   {
    "duration": 0,
    "start_time": "2022-08-22T12:11:26.581Z"
   },
   {
    "duration": 0,
    "start_time": "2022-08-22T12:11:26.582Z"
   },
   {
    "duration": 0,
    "start_time": "2022-08-22T12:11:26.583Z"
   },
   {
    "duration": 0,
    "start_time": "2022-08-22T12:11:26.584Z"
   },
   {
    "duration": 0,
    "start_time": "2022-08-22T12:11:26.585Z"
   },
   {
    "duration": 0,
    "start_time": "2022-08-22T12:11:26.586Z"
   },
   {
    "duration": 0,
    "start_time": "2022-08-22T12:11:26.587Z"
   },
   {
    "duration": 0,
    "start_time": "2022-08-22T12:11:26.587Z"
   },
   {
    "duration": 0,
    "start_time": "2022-08-22T12:11:26.589Z"
   },
   {
    "duration": 0,
    "start_time": "2022-08-22T12:11:26.589Z"
   },
   {
    "duration": 0,
    "start_time": "2022-08-22T12:11:26.591Z"
   },
   {
    "duration": 0,
    "start_time": "2022-08-22T12:11:26.591Z"
   },
   {
    "duration": 0,
    "start_time": "2022-08-22T12:11:26.592Z"
   },
   {
    "duration": 0,
    "start_time": "2022-08-22T12:11:26.593Z"
   },
   {
    "duration": 0,
    "start_time": "2022-08-22T12:11:26.594Z"
   },
   {
    "duration": 0,
    "start_time": "2022-08-22T12:11:26.596Z"
   },
   {
    "duration": 0,
    "start_time": "2022-08-22T12:11:26.597Z"
   },
   {
    "duration": 0,
    "start_time": "2022-08-22T12:11:26.597Z"
   },
   {
    "duration": 0,
    "start_time": "2022-08-22T12:11:26.598Z"
   },
   {
    "duration": 0,
    "start_time": "2022-08-22T12:11:26.599Z"
   },
   {
    "duration": 0,
    "start_time": "2022-08-22T12:11:26.600Z"
   },
   {
    "duration": 0,
    "start_time": "2022-08-22T12:11:26.602Z"
   },
   {
    "duration": 0,
    "start_time": "2022-08-22T12:11:26.603Z"
   },
   {
    "duration": 0,
    "start_time": "2022-08-22T12:11:26.604Z"
   },
   {
    "duration": 0,
    "start_time": "2022-08-22T12:11:26.605Z"
   },
   {
    "duration": 0,
    "start_time": "2022-08-22T12:11:26.606Z"
   },
   {
    "duration": 0,
    "start_time": "2022-08-22T12:11:26.607Z"
   },
   {
    "duration": 0,
    "start_time": "2022-08-22T12:11:26.608Z"
   },
   {
    "duration": 0,
    "start_time": "2022-08-22T12:11:26.608Z"
   },
   {
    "duration": 0,
    "start_time": "2022-08-22T12:11:26.609Z"
   },
   {
    "duration": 0,
    "start_time": "2022-08-22T12:11:26.610Z"
   },
   {
    "duration": 0,
    "start_time": "2022-08-22T12:11:26.611Z"
   },
   {
    "duration": 11,
    "start_time": "2022-08-22T12:12:05.595Z"
   },
   {
    "duration": 22,
    "start_time": "2022-08-22T12:12:11.328Z"
   },
   {
    "duration": 8,
    "start_time": "2022-08-22T12:12:41.907Z"
   },
   {
    "duration": 7,
    "start_time": "2022-08-22T12:13:35.820Z"
   },
   {
    "duration": 1119,
    "start_time": "2022-08-22T12:14:26.471Z"
   },
   {
    "duration": 3,
    "start_time": "2022-08-22T12:14:27.592Z"
   },
   {
    "duration": 21,
    "start_time": "2022-08-22T12:14:27.597Z"
   },
   {
    "duration": 13,
    "start_time": "2022-08-22T12:14:27.621Z"
   },
   {
    "duration": 8,
    "start_time": "2022-08-22T12:14:27.636Z"
   },
   {
    "duration": 7,
    "start_time": "2022-08-22T12:14:27.657Z"
   },
   {
    "duration": 22,
    "start_time": "2022-08-22T12:14:27.666Z"
   },
   {
    "duration": 30,
    "start_time": "2022-08-22T12:14:27.689Z"
   },
   {
    "duration": 9,
    "start_time": "2022-08-22T12:14:27.720Z"
   },
   {
    "duration": 16,
    "start_time": "2022-08-22T12:14:27.732Z"
   },
   {
    "duration": 6,
    "start_time": "2022-08-22T12:14:27.750Z"
   },
   {
    "duration": 36,
    "start_time": "2022-08-22T12:14:27.758Z"
   },
   {
    "duration": 15,
    "start_time": "2022-08-22T12:14:27.795Z"
   },
   {
    "duration": 5,
    "start_time": "2022-08-22T12:14:27.811Z"
   },
   {
    "duration": 12,
    "start_time": "2022-08-22T12:14:27.818Z"
   },
   {
    "duration": 16,
    "start_time": "2022-08-22T12:14:27.832Z"
   },
   {
    "duration": 4,
    "start_time": "2022-08-22T12:14:27.850Z"
   },
   {
    "duration": 8,
    "start_time": "2022-08-22T12:14:27.856Z"
   },
   {
    "duration": 8,
    "start_time": "2022-08-22T12:14:27.865Z"
   },
   {
    "duration": 9,
    "start_time": "2022-08-22T12:14:27.874Z"
   },
   {
    "duration": 24,
    "start_time": "2022-08-22T12:14:27.885Z"
   },
   {
    "duration": 4,
    "start_time": "2022-08-22T12:14:27.910Z"
   },
   {
    "duration": 13,
    "start_time": "2022-08-22T12:14:27.916Z"
   },
   {
    "duration": 9,
    "start_time": "2022-08-22T12:14:27.930Z"
   },
   {
    "duration": 27,
    "start_time": "2022-08-22T12:14:27.940Z"
   },
   {
    "duration": 14,
    "start_time": "2022-08-22T12:14:27.968Z"
   },
   {
    "duration": 20,
    "start_time": "2022-08-22T12:14:27.984Z"
   },
   {
    "duration": 3,
    "start_time": "2022-08-22T12:14:28.007Z"
   },
   {
    "duration": 85,
    "start_time": "2022-08-22T12:14:28.011Z"
   },
   {
    "duration": 17,
    "start_time": "2022-08-22T12:14:28.097Z"
   },
   {
    "duration": 4,
    "start_time": "2022-08-22T12:14:28.115Z"
   },
   {
    "duration": 37,
    "start_time": "2022-08-22T12:14:28.121Z"
   },
   {
    "duration": 338,
    "start_time": "2022-08-22T12:14:28.160Z"
   },
   {
    "duration": 16,
    "start_time": "2022-08-22T12:14:28.499Z"
   },
   {
    "duration": 24,
    "start_time": "2022-08-22T12:14:28.517Z"
   },
   {
    "duration": 34,
    "start_time": "2022-08-22T12:14:28.542Z"
   },
   {
    "duration": 5,
    "start_time": "2022-08-22T12:14:28.578Z"
   },
   {
    "duration": 240,
    "start_time": "2022-08-22T12:14:28.585Z"
   },
   {
    "duration": 144,
    "start_time": "2022-08-22T12:14:28.827Z"
   },
   {
    "duration": 3,
    "start_time": "2022-08-22T12:14:28.973Z"
   },
   {
    "duration": 587,
    "start_time": "2022-08-22T12:14:28.978Z"
   },
   {
    "duration": 421,
    "start_time": "2022-08-22T12:14:29.567Z"
   },
   {
    "duration": 299,
    "start_time": "2022-08-22T12:14:29.990Z"
   },
   {
    "duration": 18,
    "start_time": "2022-08-22T12:14:30.290Z"
   },
   {
    "duration": 16,
    "start_time": "2022-08-22T12:14:30.310Z"
   },
   {
    "duration": 10,
    "start_time": "2022-08-22T12:14:30.328Z"
   },
   {
    "duration": 483,
    "start_time": "2022-08-22T12:14:30.339Z"
   },
   {
    "duration": 4,
    "start_time": "2022-08-22T12:14:30.823Z"
   },
   {
    "duration": 491,
    "start_time": "2022-08-22T12:14:30.829Z"
   },
   {
    "duration": 6,
    "start_time": "2022-08-22T12:14:31.322Z"
   },
   {
    "duration": 41,
    "start_time": "2022-08-22T12:14:31.330Z"
   },
   {
    "duration": 189,
    "start_time": "2022-08-22T12:14:31.373Z"
   },
   {
    "duration": 17,
    "start_time": "2022-08-22T12:14:31.563Z"
   },
   {
    "duration": 45,
    "start_time": "2022-08-22T12:14:31.581Z"
   }
  ],
  "kernelspec": {
   "display_name": "Python 3 (ipykernel)",
   "language": "python",
   "name": "python3"
  },
  "language_info": {
   "codemirror_mode": {
    "name": "ipython",
    "version": 3
   },
   "file_extension": ".py",
   "mimetype": "text/x-python",
   "name": "python",
   "nbconvert_exporter": "python",
   "pygments_lexer": "ipython3",
   "version": "3.9.5"
  },
  "toc": {
   "base_numbering": 1,
   "nav_menu": {},
   "number_sections": true,
   "sideBar": true,
   "skip_h1_title": true,
   "title_cell": "Table of Contents",
   "title_sidebar": "Contents",
   "toc_cell": false,
   "toc_position": {},
   "toc_section_display": true,
   "toc_window_display": false
  }
 },
 "nbformat": 4,
 "nbformat_minor": 2
}
